{
 "cells": [
  {
   "cell_type": "markdown",
   "metadata": {},
   "source": [
    "# Falando de regressões...\n",
    "\n",
    "Vou mostrar abaixo um código de como colocar os dados a mostra, e posteriormente utilizar estes dados para plotar uma regressão linear simples"
   ]
  },
  {
   "cell_type": "code",
   "execution_count": 1,
   "metadata": {},
   "outputs": [],
   "source": [
    "import numpy as np\n",
    "import pandas as pd\n",
    "\n",
    "from scipy import stats\n",
    "import statsmodels.api as sm\n",
    "\n",
    "import matplotlib.pyplot as plt"
   ]
  },
  {
   "cell_type": "markdown",
   "metadata": {},
   "source": [
    "Após ter importado os módulos que utilizaremos para realizar a regressão linear pelo método **MQO**. Vou agora importar a base de dados. Esta base é uma que eu achei na internet, a respeito de números de casos de câncer e morte por câncer em diferentes regiões dos EUA. Vamos lá:"
   ]
  },
  {
   "cell_type": "code",
   "execution_count": 17,
   "metadata": {},
   "outputs": [],
   "source": [
    "dados = pd.read_csv('D:/Python/cancer_reg.csv', sep=',', encoding='latin-1')"
   ]
  },
  {
   "cell_type": "code",
   "execution_count": 18,
   "metadata": {},
   "outputs": [
    {
     "data": {
      "text/html": [
       "<div>\n",
       "<style scoped>\n",
       "    .dataframe tbody tr th:only-of-type {\n",
       "        vertical-align: middle;\n",
       "    }\n",
       "\n",
       "    .dataframe tbody tr th {\n",
       "        vertical-align: top;\n",
       "    }\n",
       "\n",
       "    .dataframe thead th {\n",
       "        text-align: right;\n",
       "    }\n",
       "</style>\n",
       "<table border=\"1\" class=\"dataframe\">\n",
       "  <thead>\n",
       "    <tr style=\"text-align: right;\">\n",
       "      <th></th>\n",
       "      <th>avgAnnCount</th>\n",
       "      <th>avgDeathsPerYear</th>\n",
       "      <th>TARGET_deathRate</th>\n",
       "      <th>incidenceRate</th>\n",
       "      <th>medIncome</th>\n",
       "      <th>popEst2015</th>\n",
       "      <th>povertyPercent</th>\n",
       "      <th>studyPerCap</th>\n",
       "      <th>binnedInc</th>\n",
       "      <th>MedianAge</th>\n",
       "      <th>...</th>\n",
       "      <th>PctPrivateCoverageAlone</th>\n",
       "      <th>PctEmpPrivCoverage</th>\n",
       "      <th>PctPublicCoverage</th>\n",
       "      <th>PctPublicCoverageAlone</th>\n",
       "      <th>PctWhite</th>\n",
       "      <th>PctBlack</th>\n",
       "      <th>PctAsian</th>\n",
       "      <th>PctOtherRace</th>\n",
       "      <th>PctMarriedHouseholds</th>\n",
       "      <th>BirthRate</th>\n",
       "    </tr>\n",
       "  </thead>\n",
       "  <tbody>\n",
       "    <tr>\n",
       "      <th>0</th>\n",
       "      <td>1397.000000</td>\n",
       "      <td>469</td>\n",
       "      <td>164.9</td>\n",
       "      <td>489.800000</td>\n",
       "      <td>61898</td>\n",
       "      <td>260131</td>\n",
       "      <td>11.2</td>\n",
       "      <td>499.748204</td>\n",
       "      <td>(61494.5, 125635]</td>\n",
       "      <td>39.3</td>\n",
       "      <td>...</td>\n",
       "      <td>NaN</td>\n",
       "      <td>41.6</td>\n",
       "      <td>32.9</td>\n",
       "      <td>14.0</td>\n",
       "      <td>81.780529</td>\n",
       "      <td>2.594728</td>\n",
       "      <td>4.821857</td>\n",
       "      <td>1.843479</td>\n",
       "      <td>52.856076</td>\n",
       "      <td>6.118831</td>\n",
       "    </tr>\n",
       "    <tr>\n",
       "      <th>1</th>\n",
       "      <td>173.000000</td>\n",
       "      <td>70</td>\n",
       "      <td>161.3</td>\n",
       "      <td>411.600000</td>\n",
       "      <td>48127</td>\n",
       "      <td>43269</td>\n",
       "      <td>18.6</td>\n",
       "      <td>23.111234</td>\n",
       "      <td>(48021.6, 51046.4]</td>\n",
       "      <td>33.0</td>\n",
       "      <td>...</td>\n",
       "      <td>53.8</td>\n",
       "      <td>43.6</td>\n",
       "      <td>31.1</td>\n",
       "      <td>15.3</td>\n",
       "      <td>89.228509</td>\n",
       "      <td>0.969102</td>\n",
       "      <td>2.246233</td>\n",
       "      <td>3.741352</td>\n",
       "      <td>45.372500</td>\n",
       "      <td>4.333096</td>\n",
       "    </tr>\n",
       "    <tr>\n",
       "      <th>2</th>\n",
       "      <td>102.000000</td>\n",
       "      <td>50</td>\n",
       "      <td>174.7</td>\n",
       "      <td>349.700000</td>\n",
       "      <td>49348</td>\n",
       "      <td>21026</td>\n",
       "      <td>14.6</td>\n",
       "      <td>47.560164</td>\n",
       "      <td>(48021.6, 51046.4]</td>\n",
       "      <td>45.0</td>\n",
       "      <td>...</td>\n",
       "      <td>43.5</td>\n",
       "      <td>34.9</td>\n",
       "      <td>42.1</td>\n",
       "      <td>21.1</td>\n",
       "      <td>90.922190</td>\n",
       "      <td>0.739673</td>\n",
       "      <td>0.465898</td>\n",
       "      <td>2.747358</td>\n",
       "      <td>54.444868</td>\n",
       "      <td>3.729488</td>\n",
       "    </tr>\n",
       "    <tr>\n",
       "      <th>3</th>\n",
       "      <td>427.000000</td>\n",
       "      <td>202</td>\n",
       "      <td>194.8</td>\n",
       "      <td>430.400000</td>\n",
       "      <td>44243</td>\n",
       "      <td>75882</td>\n",
       "      <td>17.1</td>\n",
       "      <td>342.637253</td>\n",
       "      <td>(42724.4, 45201]</td>\n",
       "      <td>42.8</td>\n",
       "      <td>...</td>\n",
       "      <td>40.3</td>\n",
       "      <td>35.0</td>\n",
       "      <td>45.3</td>\n",
       "      <td>25.0</td>\n",
       "      <td>91.744686</td>\n",
       "      <td>0.782626</td>\n",
       "      <td>1.161359</td>\n",
       "      <td>1.362643</td>\n",
       "      <td>51.021514</td>\n",
       "      <td>4.603841</td>\n",
       "    </tr>\n",
       "    <tr>\n",
       "      <th>4</th>\n",
       "      <td>57.000000</td>\n",
       "      <td>26</td>\n",
       "      <td>144.4</td>\n",
       "      <td>350.100000</td>\n",
       "      <td>49955</td>\n",
       "      <td>10321</td>\n",
       "      <td>12.5</td>\n",
       "      <td>0.000000</td>\n",
       "      <td>(48021.6, 51046.4]</td>\n",
       "      <td>48.3</td>\n",
       "      <td>...</td>\n",
       "      <td>43.9</td>\n",
       "      <td>35.1</td>\n",
       "      <td>44.0</td>\n",
       "      <td>22.7</td>\n",
       "      <td>94.104024</td>\n",
       "      <td>0.270192</td>\n",
       "      <td>0.665830</td>\n",
       "      <td>0.492135</td>\n",
       "      <td>54.027460</td>\n",
       "      <td>6.796657</td>\n",
       "    </tr>\n",
       "    <tr>\n",
       "      <th>...</th>\n",
       "      <td>...</td>\n",
       "      <td>...</td>\n",
       "      <td>...</td>\n",
       "      <td>...</td>\n",
       "      <td>...</td>\n",
       "      <td>...</td>\n",
       "      <td>...</td>\n",
       "      <td>...</td>\n",
       "      <td>...</td>\n",
       "      <td>...</td>\n",
       "      <td>...</td>\n",
       "      <td>...</td>\n",
       "      <td>...</td>\n",
       "      <td>...</td>\n",
       "      <td>...</td>\n",
       "      <td>...</td>\n",
       "      <td>...</td>\n",
       "      <td>...</td>\n",
       "      <td>...</td>\n",
       "      <td>...</td>\n",
       "      <td>...</td>\n",
       "    </tr>\n",
       "    <tr>\n",
       "      <th>3042</th>\n",
       "      <td>1962.667684</td>\n",
       "      <td>15</td>\n",
       "      <td>149.6</td>\n",
       "      <td>453.549422</td>\n",
       "      <td>46961</td>\n",
       "      <td>6343</td>\n",
       "      <td>12.4</td>\n",
       "      <td>0.000000</td>\n",
       "      <td>(45201, 48021.6]</td>\n",
       "      <td>44.2</td>\n",
       "      <td>...</td>\n",
       "      <td>54.9</td>\n",
       "      <td>44.6</td>\n",
       "      <td>31.7</td>\n",
       "      <td>13.2</td>\n",
       "      <td>90.280811</td>\n",
       "      <td>3.837754</td>\n",
       "      <td>0.327613</td>\n",
       "      <td>1.700468</td>\n",
       "      <td>51.063830</td>\n",
       "      <td>7.773512</td>\n",
       "    </tr>\n",
       "    <tr>\n",
       "      <th>3043</th>\n",
       "      <td>1962.667684</td>\n",
       "      <td>43</td>\n",
       "      <td>150.1</td>\n",
       "      <td>453.549422</td>\n",
       "      <td>48609</td>\n",
       "      <td>37118</td>\n",
       "      <td>18.8</td>\n",
       "      <td>377.175494</td>\n",
       "      <td>(48021.6, 51046.4]</td>\n",
       "      <td>30.4</td>\n",
       "      <td>...</td>\n",
       "      <td>53.3</td>\n",
       "      <td>48.6</td>\n",
       "      <td>28.8</td>\n",
       "      <td>17.7</td>\n",
       "      <td>75.706245</td>\n",
       "      <td>2.326771</td>\n",
       "      <td>4.044920</td>\n",
       "      <td>14.130288</td>\n",
       "      <td>52.007937</td>\n",
       "      <td>8.186470</td>\n",
       "    </tr>\n",
       "    <tr>\n",
       "      <th>3044</th>\n",
       "      <td>1962.667684</td>\n",
       "      <td>46</td>\n",
       "      <td>153.9</td>\n",
       "      <td>453.549422</td>\n",
       "      <td>51144</td>\n",
       "      <td>34536</td>\n",
       "      <td>15.0</td>\n",
       "      <td>1968.959926</td>\n",
       "      <td>(51046.4, 54545.6]</td>\n",
       "      <td>30.9</td>\n",
       "      <td>...</td>\n",
       "      <td>52.6</td>\n",
       "      <td>47.8</td>\n",
       "      <td>26.6</td>\n",
       "      <td>16.8</td>\n",
       "      <td>87.961629</td>\n",
       "      <td>2.313188</td>\n",
       "      <td>1.316472</td>\n",
       "      <td>5.680705</td>\n",
       "      <td>55.153949</td>\n",
       "      <td>7.809192</td>\n",
       "    </tr>\n",
       "    <tr>\n",
       "      <th>3045</th>\n",
       "      <td>1962.667684</td>\n",
       "      <td>52</td>\n",
       "      <td>175.0</td>\n",
       "      <td>453.549422</td>\n",
       "      <td>50745</td>\n",
       "      <td>25609</td>\n",
       "      <td>13.3</td>\n",
       "      <td>0.000000</td>\n",
       "      <td>(48021.6, 51046.4]</td>\n",
       "      <td>39.0</td>\n",
       "      <td>...</td>\n",
       "      <td>56.3</td>\n",
       "      <td>49.6</td>\n",
       "      <td>29.5</td>\n",
       "      <td>14.0</td>\n",
       "      <td>92.905681</td>\n",
       "      <td>1.176562</td>\n",
       "      <td>0.244632</td>\n",
       "      <td>2.131790</td>\n",
       "      <td>58.484232</td>\n",
       "      <td>7.582938</td>\n",
       "    </tr>\n",
       "    <tr>\n",
       "      <th>3046</th>\n",
       "      <td>1962.667684</td>\n",
       "      <td>48</td>\n",
       "      <td>213.6</td>\n",
       "      <td>453.549422</td>\n",
       "      <td>41193</td>\n",
       "      <td>37030</td>\n",
       "      <td>13.9</td>\n",
       "      <td>0.000000</td>\n",
       "      <td>(40362.7, 42724.4]</td>\n",
       "      <td>26.2</td>\n",
       "      <td>...</td>\n",
       "      <td>60.3</td>\n",
       "      <td>22.9</td>\n",
       "      <td>25.1</td>\n",
       "      <td>12.6</td>\n",
       "      <td>70.098132</td>\n",
       "      <td>16.590100</td>\n",
       "      <td>3.177753</td>\n",
       "      <td>1.356457</td>\n",
       "      <td>56.040242</td>\n",
       "      <td>8.981723</td>\n",
       "    </tr>\n",
       "  </tbody>\n",
       "</table>\n",
       "<p>3047 rows × 34 columns</p>\n",
       "</div>"
      ],
      "text/plain": [
       "      avgAnnCount  avgDeathsPerYear  TARGET_deathRate  incidenceRate  \\\n",
       "0     1397.000000               469             164.9     489.800000   \n",
       "1      173.000000                70             161.3     411.600000   \n",
       "2      102.000000                50             174.7     349.700000   \n",
       "3      427.000000               202             194.8     430.400000   \n",
       "4       57.000000                26             144.4     350.100000   \n",
       "...           ...               ...               ...            ...   \n",
       "3042  1962.667684                15             149.6     453.549422   \n",
       "3043  1962.667684                43             150.1     453.549422   \n",
       "3044  1962.667684                46             153.9     453.549422   \n",
       "3045  1962.667684                52             175.0     453.549422   \n",
       "3046  1962.667684                48             213.6     453.549422   \n",
       "\n",
       "      medIncome  popEst2015  povertyPercent  studyPerCap           binnedInc  \\\n",
       "0         61898      260131            11.2   499.748204   (61494.5, 125635]   \n",
       "1         48127       43269            18.6    23.111234  (48021.6, 51046.4]   \n",
       "2         49348       21026            14.6    47.560164  (48021.6, 51046.4]   \n",
       "3         44243       75882            17.1   342.637253    (42724.4, 45201]   \n",
       "4         49955       10321            12.5     0.000000  (48021.6, 51046.4]   \n",
       "...         ...         ...             ...          ...                 ...   \n",
       "3042      46961        6343            12.4     0.000000    (45201, 48021.6]   \n",
       "3043      48609       37118            18.8   377.175494  (48021.6, 51046.4]   \n",
       "3044      51144       34536            15.0  1968.959926  (51046.4, 54545.6]   \n",
       "3045      50745       25609            13.3     0.000000  (48021.6, 51046.4]   \n",
       "3046      41193       37030            13.9     0.000000  (40362.7, 42724.4]   \n",
       "\n",
       "      MedianAge  ...  PctPrivateCoverageAlone  PctEmpPrivCoverage  \\\n",
       "0          39.3  ...                      NaN                41.6   \n",
       "1          33.0  ...                     53.8                43.6   \n",
       "2          45.0  ...                     43.5                34.9   \n",
       "3          42.8  ...                     40.3                35.0   \n",
       "4          48.3  ...                     43.9                35.1   \n",
       "...         ...  ...                      ...                 ...   \n",
       "3042       44.2  ...                     54.9                44.6   \n",
       "3043       30.4  ...                     53.3                48.6   \n",
       "3044       30.9  ...                     52.6                47.8   \n",
       "3045       39.0  ...                     56.3                49.6   \n",
       "3046       26.2  ...                     60.3                22.9   \n",
       "\n",
       "     PctPublicCoverage  PctPublicCoverageAlone   PctWhite   PctBlack  \\\n",
       "0                 32.9                    14.0  81.780529   2.594728   \n",
       "1                 31.1                    15.3  89.228509   0.969102   \n",
       "2                 42.1                    21.1  90.922190   0.739673   \n",
       "3                 45.3                    25.0  91.744686   0.782626   \n",
       "4                 44.0                    22.7  94.104024   0.270192   \n",
       "...                ...                     ...        ...        ...   \n",
       "3042              31.7                    13.2  90.280811   3.837754   \n",
       "3043              28.8                    17.7  75.706245   2.326771   \n",
       "3044              26.6                    16.8  87.961629   2.313188   \n",
       "3045              29.5                    14.0  92.905681   1.176562   \n",
       "3046              25.1                    12.6  70.098132  16.590100   \n",
       "\n",
       "      PctAsian  PctOtherRace  PctMarriedHouseholds  BirthRate  \n",
       "0     4.821857      1.843479             52.856076   6.118831  \n",
       "1     2.246233      3.741352             45.372500   4.333096  \n",
       "2     0.465898      2.747358             54.444868   3.729488  \n",
       "3     1.161359      1.362643             51.021514   4.603841  \n",
       "4     0.665830      0.492135             54.027460   6.796657  \n",
       "...        ...           ...                   ...        ...  \n",
       "3042  0.327613      1.700468             51.063830   7.773512  \n",
       "3043  4.044920     14.130288             52.007937   8.186470  \n",
       "3044  1.316472      5.680705             55.153949   7.809192  \n",
       "3045  0.244632      2.131790             58.484232   7.582938  \n",
       "3046  3.177753      1.356457             56.040242   8.981723  \n",
       "\n",
       "[3047 rows x 34 columns]"
      ]
     },
     "execution_count": 18,
     "metadata": {},
     "output_type": "execute_result"
    }
   ],
   "source": [
    "dados"
   ]
  },
  {
   "cell_type": "code",
   "execution_count": 19,
   "metadata": {},
   "outputs": [
    {
     "name": "stdout",
     "output_type": "stream",
     "text": [
      "<class 'pandas.core.frame.DataFrame'>\n",
      "RangeIndex: 3047 entries, 0 to 3046\n",
      "Data columns (total 34 columns):\n",
      " #   Column                   Non-Null Count  Dtype  \n",
      "---  ------                   --------------  -----  \n",
      " 0   avgAnnCount              3047 non-null   float64\n",
      " 1   avgDeathsPerYear         3047 non-null   int64  \n",
      " 2   TARGET_deathRate         3047 non-null   float64\n",
      " 3   incidenceRate            3047 non-null   float64\n",
      " 4   medIncome                3047 non-null   int64  \n",
      " 5   popEst2015               3047 non-null   int64  \n",
      " 6   povertyPercent           3047 non-null   float64\n",
      " 7   studyPerCap              3047 non-null   float64\n",
      " 8   binnedInc                3047 non-null   object \n",
      " 9   MedianAge                3047 non-null   float64\n",
      " 10  MedianAgeMale            3047 non-null   float64\n",
      " 11  MedianAgeFemale          3047 non-null   float64\n",
      " 12  Geography                3047 non-null   object \n",
      " 13  AvgHouseholdSize         3047 non-null   float64\n",
      " 14  PercentMarried           3047 non-null   float64\n",
      " 15  PctNoHS18_24             3047 non-null   float64\n",
      " 16  PctHS18_24               3047 non-null   float64\n",
      " 17  PctSomeCol18_24          762 non-null    float64\n",
      " 18  PctBachDeg18_24          3047 non-null   float64\n",
      " 19  PctHS25_Over             3047 non-null   float64\n",
      " 20  PctBachDeg25_Over        3047 non-null   float64\n",
      " 21  PctEmployed16_Over       2895 non-null   float64\n",
      " 22  PctUnemployed16_Over     3047 non-null   float64\n",
      " 23  PctPrivateCoverage       3047 non-null   float64\n",
      " 24  PctPrivateCoverageAlone  2438 non-null   float64\n",
      " 25  PctEmpPrivCoverage       3047 non-null   float64\n",
      " 26  PctPublicCoverage        3047 non-null   float64\n",
      " 27  PctPublicCoverageAlone   3047 non-null   float64\n",
      " 28  PctWhite                 3047 non-null   float64\n",
      " 29  PctBlack                 3047 non-null   float64\n",
      " 30  PctAsian                 3047 non-null   float64\n",
      " 31  PctOtherRace             3047 non-null   float64\n",
      " 32  PctMarriedHouseholds     3047 non-null   float64\n",
      " 33  BirthRate                3047 non-null   float64\n",
      "dtypes: float64(29), int64(3), object(2)\n",
      "memory usage: 809.5+ KB\n"
     ]
    }
   ],
   "source": [
    "dados.info()"
   ]
  },
  {
   "cell_type": "markdown",
   "metadata": {},
   "source": [
    "Agora que consegui importar minha base de dados, vamos às variáveis da minha regressão:\n",
    "\n",
    "- Como variável dependente (Y), vou utilizar o número de mortes por câncer: avgDeathsPerYear\n",
    "- Como variável independente (X), vou utilizar o número de casos de câncer: avgAnnCount\n",
    "\n",
    "Interprete o modelo da seguinte forma: estou criando um modelo preditivo que, por meio do número de casos de câncer, irá nos dizer o número de mortes por câncer. <br><br>\n",
    "\n",
    "Primeiramente, vou criar um DataFrame com apenas estes dados que eu desejo:"
   ]
  },
  {
   "cell_type": "code",
   "execution_count": 20,
   "metadata": {},
   "outputs": [],
   "source": [
    "dados_regres = dados[['avgAnnCount', 'avgDeathsPerYear']]"
   ]
  },
  {
   "cell_type": "code",
   "execution_count": 22,
   "metadata": {},
   "outputs": [
    {
     "data": {
      "text/html": [
       "<div>\n",
       "<style scoped>\n",
       "    .dataframe tbody tr th:only-of-type {\n",
       "        vertical-align: middle;\n",
       "    }\n",
       "\n",
       "    .dataframe tbody tr th {\n",
       "        vertical-align: top;\n",
       "    }\n",
       "\n",
       "    .dataframe thead th {\n",
       "        text-align: right;\n",
       "    }\n",
       "</style>\n",
       "<table border=\"1\" class=\"dataframe\">\n",
       "  <thead>\n",
       "    <tr style=\"text-align: right;\">\n",
       "      <th></th>\n",
       "      <th>avgAnnCount</th>\n",
       "      <th>avgDeathsPerYear</th>\n",
       "    </tr>\n",
       "  </thead>\n",
       "  <tbody>\n",
       "    <tr>\n",
       "      <th>0</th>\n",
       "      <td>1397.000000</td>\n",
       "      <td>469</td>\n",
       "    </tr>\n",
       "    <tr>\n",
       "      <th>1</th>\n",
       "      <td>173.000000</td>\n",
       "      <td>70</td>\n",
       "    </tr>\n",
       "    <tr>\n",
       "      <th>2</th>\n",
       "      <td>102.000000</td>\n",
       "      <td>50</td>\n",
       "    </tr>\n",
       "    <tr>\n",
       "      <th>3</th>\n",
       "      <td>427.000000</td>\n",
       "      <td>202</td>\n",
       "    </tr>\n",
       "    <tr>\n",
       "      <th>4</th>\n",
       "      <td>57.000000</td>\n",
       "      <td>26</td>\n",
       "    </tr>\n",
       "    <tr>\n",
       "      <th>...</th>\n",
       "      <td>...</td>\n",
       "      <td>...</td>\n",
       "    </tr>\n",
       "    <tr>\n",
       "      <th>3042</th>\n",
       "      <td>1962.667684</td>\n",
       "      <td>15</td>\n",
       "    </tr>\n",
       "    <tr>\n",
       "      <th>3043</th>\n",
       "      <td>1962.667684</td>\n",
       "      <td>43</td>\n",
       "    </tr>\n",
       "    <tr>\n",
       "      <th>3044</th>\n",
       "      <td>1962.667684</td>\n",
       "      <td>46</td>\n",
       "    </tr>\n",
       "    <tr>\n",
       "      <th>3045</th>\n",
       "      <td>1962.667684</td>\n",
       "      <td>52</td>\n",
       "    </tr>\n",
       "    <tr>\n",
       "      <th>3046</th>\n",
       "      <td>1962.667684</td>\n",
       "      <td>48</td>\n",
       "    </tr>\n",
       "  </tbody>\n",
       "</table>\n",
       "<p>3047 rows × 2 columns</p>\n",
       "</div>"
      ],
      "text/plain": [
       "      avgAnnCount  avgDeathsPerYear\n",
       "0     1397.000000               469\n",
       "1      173.000000                70\n",
       "2      102.000000                50\n",
       "3      427.000000               202\n",
       "4       57.000000                26\n",
       "...           ...               ...\n",
       "3042  1962.667684                15\n",
       "3043  1962.667684                43\n",
       "3044  1962.667684                46\n",
       "3045  1962.667684                52\n",
       "3046  1962.667684                48\n",
       "\n",
       "[3047 rows x 2 columns]"
      ]
     },
     "execution_count": 22,
     "metadata": {},
     "output_type": "execute_result"
    }
   ],
   "source": [
    "dados_regres"
   ]
  },
  {
   "cell_type": "markdown",
   "metadata": {},
   "source": [
    "O que acontece se tentarmos plotar esse dataframe?"
   ]
  },
  {
   "cell_type": "code",
   "execution_count": 24,
   "metadata": {},
   "outputs": [
    {
     "data": {
      "text/plain": [
       "<function matplotlib.pyplot.show(*args, **kw)>"
      ]
     },
     "execution_count": 24,
     "metadata": {},
     "output_type": "execute_result"
    },
    {
     "data": {
      "image/png": "[encoded data removed]",
      "text/plain": [
       "<Figure size 1080x432 with 1 Axes>"
      ]
     },
     "metadata": {
      "needs_background": "light"
     },
     "output_type": "display_data"
    }
   ],
   "source": [
    "dados_regres.plot(figsize=(15, 6))\n",
    "plt.show"
   ]
  },
  {
   "cell_type": "markdown",
   "metadata": {},
   "source": [
    "Veja que isso de longe não é o gráfico que queríamos pra fazer uma regressão linear e nem é fácil de interpretar, vamos agora fazer da forma correta:"
   ]
  },
  {
   "cell_type": "code",
   "execution_count": 25,
   "metadata": {},
   "outputs": [],
   "source": [
    "X = dados_regres['avgAnnCount']\n",
    "\n",
    "Y = dados_regres['avgDeathsPerYear']"
   ]
  },
  {
   "cell_type": "markdown",
   "metadata": {},
   "source": [
    "Primeiramente, veja que salvei as variáveis conforme eu havia falado anteriormente, e para plotar isso da maneira correta para uma regressão linear, devo utilizar a função **.scatter()**:"
   ]
  },
  {
   "cell_type": "code",
   "execution_count": 30,
   "metadata": {},
   "outputs": [
    {
     "data": {
      "text/plain": [
       "<function matplotlib.pyplot.show(*args, **kw)>"
      ]
     },
     "execution_count": 30,
     "metadata": {},
     "output_type": "execute_result"
    },
    {
     "data": {
      "image/png": "[encoded data removed]",
      "text/plain": [
       "<Figure size 432x288 with 1 Axes>"
      ]
     },
     "metadata": {
      "needs_background": "light"
     },
     "output_type": "display_data"
    }
   ],
   "source": [
    "plt.scatter(X,Y, s=5)\n",
    "plt.show"
   ]
  },
  {
   "cell_type": "markdown",
   "metadata": {},
   "source": [
    "Veja que agora temos o gráfico que gostaríamos! Apenas para uma melhor visualização dos dados, vou \"dar um zoom\", mudando o os valores dos eixos, para que possamos ter uma melhor visualização dos dados ali na parte do X=0 até o X=5000"
   ]
  },
  {
   "cell_type": "code",
   "execution_count": 31,
   "metadata": {},
   "outputs": [
    {
     "data": {
      "text/plain": [
       "<function matplotlib.pyplot.show(*args, **kw)>"
      ]
     },
     "execution_count": 31,
     "metadata": {},
     "output_type": "execute_result"
    },
    {
     "data": {
      "image/png": "[encoded data removed]",
      "text/plain": [
       "<Figure size 432x288 with 1 Axes>"
      ]
     },
     "metadata": {
      "needs_background": "light"
     },
     "output_type": "display_data"
    }
   ],
   "source": [
    "plt.scatter(X,Y, s=5)\n",
    "plt.axis([0, 5000, 0, 2000])\n",
    "plt.show"
   ]
  },
  {
   "cell_type": "code",
   "execution_count": 32,
   "metadata": {},
   "outputs": [
    {
     "data": {
      "text/plain": [
       "<function matplotlib.pyplot.show(*args, **kw)>"
      ]
     },
     "execution_count": 32,
     "metadata": {},
     "output_type": "execute_result"
    },
    {
     "data": {
      "image/png": "[encoded data removed]",
      "text/plain": [
       "<Figure size 432x288 with 1 Axes>"
      ]
     },
     "metadata": {
      "needs_background": "light"
     },
     "output_type": "display_data"
    }
   ],
   "source": [
    "plt.scatter(X,Y, s=5)\n",
    "plt.axis([0, 1000, 0, 750])\n",
    "plt.show"
   ]
  },
  {
   "cell_type": "markdown",
   "metadata": {},
   "source": [
    "Bom agora que tivemos uma boa visualização dos dados, devo mencionar uma importante coisa, principalmente quando você for mostrar os seus resultados a alguém, coloque o nome dos eixos no gráfico."
   ]
  },
  {
   "cell_type": "code",
   "execution_count": 33,
   "metadata": {},
   "outputs": [
    {
     "data": {
      "text/plain": [
       "<function matplotlib.pyplot.show(*args, **kw)>"
      ]
     },
     "execution_count": 33,
     "metadata": {},
     "output_type": "execute_result"
    },
    {
     "data": {
      "image/png": "[encoded data removed]",
      "text/plain": [
       "<Figure size 432x288 with 1 Axes>"
      ]
     },
     "metadata": {
      "needs_background": "light"
     },
     "output_type": "display_data"
    }
   ],
   "source": [
    "plt.scatter(X,Y, s=5)\n",
    "plt.ylabel('Mortes por câncer')\n",
    "plt.xlabel('Casos de câncer')\n",
    "plt.show"
   ]
  },
  {
   "cell_type": "markdown",
   "metadata": {},
   "source": [
    "Agora que vimos os dados e plotamos em gráfico, vamos a parte da regressão de fato:"
   ]
  },
  {
   "cell_type": "code",
   "execution_count": 37,
   "metadata": {},
   "outputs": [
    {
     "data": {
      "text/html": [
       "<table class=\"simpletable\">\n",
       "<caption>OLS Regression Results</caption>\n",
       "<tr>\n",
       "  <th>Dep. Variable:</th>    <td>avgDeathsPerYear</td> <th>  R-squared (uncentered):</th>      <td>   0.896</td> \n",
       "</tr>\n",
       "<tr>\n",
       "  <th>Model:</th>                   <td>OLS</td>       <th>  Adj. R-squared (uncentered):</th> <td>   0.896</td> \n",
       "</tr>\n",
       "<tr>\n",
       "  <th>Method:</th>             <td>Least Squares</td>  <th>  F-statistic:       </th>          <td>2.617e+04</td>\n",
       "</tr>\n",
       "<tr>\n",
       "  <th>Date:</th>             <td>Sun, 09 Aug 2020</td> <th>  Prob (F-statistic):</th>           <td>  0.00</td>  \n",
       "</tr>\n",
       "<tr>\n",
       "  <th>Time:</th>                 <td>20:58:01</td>     <th>  Log-Likelihood:    </th>          <td> -20034.</td> \n",
       "</tr>\n",
       "<tr>\n",
       "  <th>No. Observations:</th>      <td>  3047</td>      <th>  AIC:               </th>          <td>4.007e+04</td>\n",
       "</tr>\n",
       "<tr>\n",
       "  <th>Df Residuals:</th>          <td>  3046</td>      <th>  BIC:               </th>          <td>4.008e+04</td>\n",
       "</tr>\n",
       "<tr>\n",
       "  <th>Df Model:</th>              <td>     1</td>      <th>                     </th>              <td> </td>    \n",
       "</tr>\n",
       "<tr>\n",
       "  <th>Covariance Type:</th>      <td>nonrobust</td>    <th>                     </th>              <td> </td>    \n",
       "</tr>\n",
       "</table>\n",
       "<table class=\"simpletable\">\n",
       "<tr>\n",
       "       <td></td>          <th>coef</th>     <th>std err</th>      <th>t</th>      <th>P>|t|</th>  <th>[0.025</th>    <th>0.975]</th>  \n",
       "</tr>\n",
       "<tr>\n",
       "  <th>avgAnnCount</th> <td>    0.3301</td> <td>    0.002</td> <td>  161.772</td> <td> 0.000</td> <td>    0.326</td> <td>    0.334</td>\n",
       "</tr>\n",
       "</table>\n",
       "<table class=\"simpletable\">\n",
       "<tr>\n",
       "  <th>Omnibus:</th>       <td>1157.558</td> <th>  Durbin-Watson:     </th> <td>   0.596</td> \n",
       "</tr>\n",
       "<tr>\n",
       "  <th>Prob(Omnibus):</th>  <td> 0.000</td>  <th>  Jarque-Bera (JB):  </th> <td>71252.156</td>\n",
       "</tr>\n",
       "<tr>\n",
       "  <th>Skew:</th>           <td>-0.974</td>  <th>  Prob(JB):          </th> <td>    0.00</td> \n",
       "</tr>\n",
       "<tr>\n",
       "  <th>Kurtosis:</th>       <td>26.610</td>  <th>  Cond. No.          </th> <td>    1.00</td> \n",
       "</tr>\n",
       "</table><br/><br/>Warnings:<br/>[1] Standard Errors assume that the covariance matrix of the errors is correctly specified."
      ],
      "text/plain": [
       "<class 'statsmodels.iolib.summary.Summary'>\n",
       "\"\"\"\n",
       "                                 OLS Regression Results                                \n",
       "=======================================================================================\n",
       "Dep. Variable:       avgDeathsPerYear   R-squared (uncentered):                   0.896\n",
       "Model:                            OLS   Adj. R-squared (uncentered):              0.896\n",
       "Method:                 Least Squares   F-statistic:                          2.617e+04\n",
       "Date:                Sun, 09 Aug 2020   Prob (F-statistic):                        0.00\n",
       "Time:                        20:58:01   Log-Likelihood:                         -20034.\n",
       "No. Observations:                3047   AIC:                                  4.007e+04\n",
       "Df Residuals:                    3046   BIC:                                  4.008e+04\n",
       "Df Model:                           1                                                  \n",
       "Covariance Type:            nonrobust                                                  \n",
       "===============================================================================\n",
       "                  coef    std err          t      P>|t|      [0.025      0.975]\n",
       "-------------------------------------------------------------------------------\n",
       "avgAnnCount     0.3301      0.002    161.772      0.000       0.326       0.334\n",
       "==============================================================================\n",
       "Omnibus:                     1157.558   Durbin-Watson:                   0.596\n",
       "Prob(Omnibus):                  0.000   Jarque-Bera (JB):            71252.156\n",
       "Skew:                          -0.974   Prob(JB):                         0.00\n",
       "Kurtosis:                      26.610   Cond. No.                         1.00\n",
       "==============================================================================\n",
       "\n",
       "Warnings:\n",
       "[1] Standard Errors assume that the covariance matrix of the errors is correctly specified.\n",
       "\"\"\""
      ]
     },
     "execution_count": 37,
     "metadata": {},
     "output_type": "execute_result"
    }
   ],
   "source": [
    "reg = sm.OLS(Y, X).fit()\n",
    "reg.summary()"
   ]
  },
  {
   "cell_type": "code",
   "execution_count": null,
   "metadata": {},
   "outputs": [],
   "source": []
  }
 ],
 "metadata": {
  "kernelspec": {
   "display_name": "Python 3",
   "language": "python",
   "name": "python3"
  },
  "language_info": {
   "codemirror_mode": {
    "name": "ipython",
    "version": 3
   },
   "file_extension": ".py",
   "mimetype": "text/x-python",
   "name": "python",
   "nbconvert_exporter": "python",
   "pygments_lexer": "ipython3",
   "version": "3.7.7"
  }
 },
 "nbformat": 4,
 "nbformat_minor": 4
}
