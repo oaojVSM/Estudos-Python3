{
 "cells": [
  {
   "cell_type": "markdown",
   "metadata": {},
   "source": [
    "# Conceitos \"avançados\" de Python\n",
    "\n",
    "Olá, em continuação da apostila anterior, agora vamos falar de conceitos um pouco mais avançados. <br> <br> Novamente, leve em consideração que isto deve ser mais encarado como material de apoio para algum curso do que um curso por si só, aqui tentarei abordar questões mais complexas para quem está aprendendo Python de forma básica. <br> <br> Leve novamente em consideração que a minha aplicação de Python é para finanças e análise de dados, então mesmo que em momentos eu ensine coisas que qualquer pessoa aprendendo Python deva saber, tenha em mente que o foco sempre será nos dois assuntos mencionados."
   ]
  },
  {
   "cell_type": "markdown",
   "metadata": {},
   "source": [
    "## Object-oriented Programming (OOP)\n",
    "O python é chamado de uma **linguagem de programação orientada ao objeto**. <br> <br>\n",
    "\n",
    "O significado disso pode acarretar em uma explicação bem complexa. Mas tentarei ser breve e o menos filosófico possível. OOP é um paradigma de programação aceito por algumas linguagens como Python, Java, C++. Isso significa que todos os valores que criamos, as variáveis e etc podem ser entendidos como objetos, e programar orientado ao objeto é a forma pela qual você interage com estes e fazem com que eles interajam entre si. "
   ]
  },
  {
   "cell_type": "markdown",
   "metadata": {},
   "source": [
    "### Classes\n",
    "\n",
    "Um objeto é formado por um conjunto de dados formas pela qual podemos manipulá-los. Nisto, podemos introduzir o conceito de classes. **Class** é como se fosse a forma pela qual podemos construir objetos. <br><br>\n",
    "\n",
    "Uma classe é formada por atributos e métodos. Quando eu aprendi pela primeira vez, houve uma analogia boa que me ajudou na compreensão. Imagine que o conceito de \"pessoa\" é uma classe. Uma pessoa pode ter atributos como: altura, peso, cor do cabelo, força... E uma pessoa também tem métodos: andar, falar, deitar... <br> \n",
    "Os atributos são a característica do objeto, e os métodos são ações que podemos fazer com tal objeto. Entenda como, quando estamos criando uma classe, estamos criando uma base pela qual construímos um objeto. <br><br> \n",
    "\n",
    "A lista, com a qual trabalhamos muito na apostila anterior, é uma Classe que já vem embutida em Python. E quando armazenamos os valores dentro de uma lista, estamos criando um objeto, com seus atributos sendo, por exemplo, os tipos de dados que estamos armazenando, e podemos aplicar diversos métodos, como por exemplo o método .**.extend()** ou outros que exemplifiquei anteriormente."
   ]
  },
  {
   "cell_type": "markdown",
   "metadata": {},
   "source": [
    "Esta foi a explicação conceitual de classes, a maneira pela qual se cria uma classe e um objeto dessa classe na prática poderá ser abordada futuramente em um material separado. Na maioria dos cursos de Python básico isto não é ensinado, por isso não abordarei por aqui."
   ]
  },
  {
   "cell_type": "markdown",
   "metadata": {},
   "source": [
    "## Módulos e Pacotes\n",
    "**Módulos** nada mais são do que uma série de funções e classes já criadas que podemos importar para o nosso código, assim facilitando a nossa vida. Os **pacotes** (também chamados de bibliotecas) nada mais são do que um conjunto de módulos. <br><br>\n",
    "\n",
    "Existe uma infinidade de módulos e pacotes criados por terceiros disponíveis para download. Na maioria dos casos, são pacotes já prontos destinados para aplicações específicas, que podem ser importados, assim fazendo com que você tenha acesso a funções e classes que te ajudarão, quando, por exemplo, fizer manipulação de dados."
   ]
  },
  {
   "cell_type": "markdown",
   "metadata": {},
   "source": [
    "### Biblioteca padrão de Python:\n",
    "\n",
    "O Python já possui vários módulos que são embutidos e que são de aplicações gerais, mas, quando fazemos um código com um objetivo, é prático termos um módulo que é destinado àquilo. <br> Quando por exemplos definimos uma lista em Python e depois utilizamos a função **len()**, estamos utilizando classes e funções que fazem parte da biblioteca padrão do Python! "
   ]
  },
  {
   "cell_type": "markdown",
   "metadata": {},
   "source": [
    "Em breve, eu importarei e falarei a respeito de módulos que são importantes para manipulação de dados e visualização de dados financeiros."
   ]
  },
  {
   "cell_type": "markdown",
   "metadata": {},
   "source": [
    "### Importando módulos:"
   ]
  },
  {
   "cell_type": "markdown",
   "metadata": {},
   "source": [
    "Os módulos devem ter sido baixados em sua máquina antes de você conseguir importá-los. Se você baixou o Python Vanilla, que nem eu fiz, você vai precisar baixar todos os módulos antes de importá-los, a maneira pela qual você baixa os módulos depende da distribuição do Python que você baixou. Se você tiver baixado o Anaconda, então já deve ter alguns pacotes que utilizarei e que não precisam ser instalados.<br> <br>\n",
    "\n",
    "Para instalar os pacotes com o Python Vanilla, deve usar o cmd, e digitar o seguinte comando:\n",
    "> pip install *nome_do_módulo*\n",
    "<br><br>\n",
    "\n",
    "Na prática, para instalar o módulo math, eu vou para o meu command prompt e digito: \"pip install math\". <br><br>\n",
    "\n",
    "Se tiver baixado o Anaconda, o comando seria: \"conda install math\"<br>\n",
    "Mas, no caso, o módulo math já vem instalado com o Anaconda <br><br>\n",
    "\n",
    "Pip nada mais é do que o administrador de pacotes do Python original, e no caso da distribuição versão Anaconda, o administrador de pacotes é o conda. (Sinta-se livre para se aprofundar nestes conceitos! Fornecem uma boa base para aprender como uma linguagem de programação funciona!)."
   ]
  },
  {
   "cell_type": "markdown",
   "metadata": {},
   "source": [
    "Para importar um módulo, existe diversas maneiras. Veja abaixo:"
   ]
  },
  {
   "cell_type": "code",
   "execution_count": 3,
   "metadata": {},
   "outputs": [],
   "source": [
    "import math"
   ]
  },
  {
   "cell_type": "code",
   "execution_count": 4,
   "metadata": {},
   "outputs": [
    {
     "data": {
      "text/plain": [
       "2.0"
      ]
     },
     "execution_count": 4,
     "metadata": {},
     "output_type": "execute_result"
    }
   ],
   "source": [
    "math.sqrt(4)"
   ]
  },
  {
   "cell_type": "markdown",
   "metadata": {},
   "source": [
    "Acima, eu importei o módulo **math**. Que contém a função **sqrt()**, que nada mais faz do que calcular a raiz quadrada de seu argumento, retornado uma float. Veja que para chamar tal função, eu fiz como se fosse um método de um objeto, utilizando o dot operator. <br><br> Mas eu posso importar de maneiras diferentes, se eu quiser, eu posso especificar a função que eu quero importar daquele módulo, e, quando eu chamar a função, não preciso utilizar o dot operator:"
   ]
  },
  {
   "cell_type": "code",
   "execution_count": 5,
   "metadata": {},
   "outputs": [],
   "source": [
    "from math import sqrt"
   ]
  },
  {
   "cell_type": "code",
   "execution_count": 6,
   "metadata": {},
   "outputs": [
    {
     "data": {
      "text/plain": [
       "2.0"
      ]
     },
     "execution_count": 6,
     "metadata": {},
     "output_type": "execute_result"
    }
   ],
   "source": [
    "sqrt(4)"
   ]
  },
  {
   "cell_type": "markdown",
   "metadata": {},
   "source": [
    "Neste caso observe que a sintaxe mudou! Eu primeiro especifico o módulo que contém a função (ou classe) desejada e peço a importação daquela função ou classe. O que eu posso fazer também é importar o módulo ou até mesmo a função específica com um nome específico, que eu definir, veja como eu posso simplesmente \"mudar\" a maneira pela qual eu chamo a função ou o módulo:"
   ]
  },
  {
   "cell_type": "code",
   "execution_count": 7,
   "metadata": {},
   "outputs": [],
   "source": [
    "import math as mt"
   ]
  },
  {
   "cell_type": "code",
   "execution_count": 8,
   "metadata": {},
   "outputs": [
    {
     "data": {
      "text/plain": [
       "2.0"
      ]
     },
     "execution_count": 8,
     "metadata": {},
     "output_type": "execute_result"
    }
   ],
   "source": [
    "mt.sqrt(4)"
   ]
  },
  {
   "cell_type": "code",
   "execution_count": 9,
   "metadata": {},
   "outputs": [],
   "source": [
    "from math import sqrt as s"
   ]
  },
  {
   "cell_type": "code",
   "execution_count": 10,
   "metadata": {},
   "outputs": [
    {
     "data": {
      "text/plain": [
       "2.0"
      ]
     },
     "execution_count": 10,
     "metadata": {},
     "output_type": "execute_result"
    }
   ],
   "source": [
    "s(4)"
   ]
  },
  {
   "cell_type": "markdown",
   "metadata": {},
   "source": [
    "Basta utilizar a sintaxe \"as\" para eu definir a maneira pela qual desejo chamar os módulos ou funções! Isso pode economizar um tempo, evitando que tenhamos que digitar o nome inteiro do pacote ou função. <br><br> Ainda uma outra maneira que podemos utilizar é importando todas as funções e classes presentes em um módulo:"
   ]
  },
  {
   "cell_type": "code",
   "execution_count": 11,
   "metadata": {},
   "outputs": [],
   "source": [
    "from math import *"
   ]
  },
  {
   "cell_type": "code",
   "execution_count": 12,
   "metadata": {},
   "outputs": [
    {
     "data": {
      "text/plain": [
       "2.0"
      ]
     },
     "execution_count": 12,
     "metadata": {},
     "output_type": "execute_result"
    }
   ],
   "source": [
    "sqrt(4)"
   ]
  },
  {
   "cell_type": "markdown",
   "metadata": {},
   "source": [
    "Dessa maneira eu importei todas as funções e não preciso especificar o módulo quando chamar as funções. Porém tome cuidado quando fizer isso, pois se você importar dois módulos diferentes que tiverem funções com o mesmo nome, o Python não saberá qual utilizar, o seu código terá um output, mas você não conseguirá selecionar qual função rodar, se do módulo 1 ou do módulo 2. Portanto, não é bom ter a prática de importar módulos desta forma!"
   ]
  },
  {
   "cell_type": "markdown",
   "metadata": {},
   "source": [
    "## Pacotes essenciais para finanças e análise de dados:\n",
    "Vamos dar uma olhada em alguns pacotes que facilitarão nossa vida e são indispensáveis quando se trabalha com finanças e dados:"
   ]
  },
  {
   "cell_type": "code",
   "execution_count": 13,
   "metadata": {},
   "outputs": [],
   "source": [
    "import numpy as np"
   ]
  },
  {
   "cell_type": "markdown",
   "metadata": {},
   "source": [
    "Numpy é um pacote que permite o trabalho com arrays multidimensionais (entenda como: matrizes). A maneira mais comum de importar o numpy é **np**."
   ]
  },
  {
   "cell_type": "code",
   "execution_count": 14,
   "metadata": {},
   "outputs": [],
   "source": [
    "import pandas as pd"
   ]
  },
  {
   "cell_type": "markdown",
   "metadata": {},
   "source": [
    "Pandas é um pacote que permite a organização de dados em tabelas (o chamado Dataframe), ou seja, poderemos fornecer cabeçalhos ou descrições para as linhas e colunas de uma matriz. É essencial para trabalhar com séries temporais e bases de dados gigantes. A maneira mais comum de importar este pacote é com o nome **pd** <br><br> \n",
    "\n",
    "**Obs:** O nome deste pacote é criado pela junção das palavras *panel data*, ou, dados em painel em inglês e não do urso."
   ]
  },
  {
   "cell_type": "code",
   "execution_count": 15,
   "metadata": {},
   "outputs": [],
   "source": [
    "import matplotlib"
   ]
  },
  {
   "cell_type": "markdown",
   "metadata": {},
   "source": [
    "Matplotlib é o pacote que nos permitirá plotar gráficos bidimensionais, assim permitindo, por exemplo, a visualização gráfica de dados que manipulamos por meio do Numpy, por exemplo."
   ]
  },
  {
   "cell_type": "markdown",
   "metadata": {},
   "source": [
    "Veremos posteriormente como utilizar cada um desses pacotes e suas funcionalidades! <br> <br> Acima importamos alguns pacotes importantes, agora vou mostrar alguns módulos:"
   ]
  },
  {
   "cell_type": "code",
   "execution_count": 16,
   "metadata": {},
   "outputs": [],
   "source": [
    "import random"
   ]
  },
  {
   "cell_type": "markdown",
   "metadata": {},
   "source": [
    "Nos permitirá gerar um valor aleatório"
   ]
  },
  {
   "cell_type": "code",
   "execution_count": 1,
   "metadata": {},
   "outputs": [],
   "source": [
    "import math"
   ]
  },
  {
   "cell_type": "markdown",
   "metadata": {},
   "source": [
    "Como vimos acima, nos permite chamar funções que realizam operações matemáticas, como obter a raiz quadrada de um número."
   ]
  },
  {
   "cell_type": "code",
   "execution_count": 3,
   "metadata": {},
   "outputs": [],
   "source": [
    "import statsmodels"
   ]
  },
  {
   "cell_type": "markdown",
   "metadata": {},
   "source": [
    "Nos ajudará a trabalhar com estatística, plotar funções e regressões"
   ]
  },
  {
   "cell_type": "markdown",
   "metadata": {},
   "source": [
    "## Trabalhando com Matrizes\n",
    "\n",
    "Matrizes (ou arrays) são estruturas de dados fundamentais em qualquer linguagem de programação. Vamos iniciar. <br> <br>\n",
    "\n",
    "O primeiro passo é importar numpy."
   ]
  },
  {
   "cell_type": "code",
   "execution_count": 4,
   "metadata": {},
   "outputs": [],
   "source": [
    "import numpy as np"
   ]
  },
  {
   "cell_type": "markdown",
   "metadata": {},
   "source": [
    "Vamos agora criar uma matriz:"
   ]
  },
  {
   "cell_type": "code",
   "execution_count": 7,
   "metadata": {},
   "outputs": [
    {
     "name": "stdout",
     "output_type": "stream",
     "text": [
      "[[0 1 2 3]\n",
      " [4 5 6 7]]\n"
     ]
    }
   ],
   "source": [
    "a = np.array([[0, 1, 2, 3], [4, 5, 6, 7]])\n",
    "print(a)"
   ]
  },
  {
   "cell_type": "markdown",
   "metadata": {},
   "source": [
    "Note que para criar um array é como se eu tivesse feito uma lista de listas. <br><br> Este deve ser sempre homogêneo, e isso significa conter sempre dados do mesmo tipo (ou seja, todos os elementos devem ser floats, por exemplo) e conter a mesma quantidade de elementos em todas as linhas."
   ]
  },
  {
   "cell_type": "markdown",
   "metadata": {},
   "source": [
    "Uma forma que pode ser intuitiva para entender a criação de arrays é interpretar o **array()** como uma função, que tem listas como argumentos (listas que devem sempre ter o mesmo tipo de elemento e quantidade), e o output dessa função será a criação de uma matriz com as listas que foram fornecidas como argumentos."
   ]
  },
  {
   "cell_type": "markdown",
   "metadata": {},
   "source": [
    "Um método interessante dos arrays é um pelo qual podemos saber o tamanho da matriz utilizando a função **.shape()**:"
   ]
  },
  {
   "cell_type": "code",
   "execution_count": 9,
   "metadata": {},
   "outputs": [
    {
     "data": {
      "text/plain": [
       "(2, 4)"
      ]
     },
     "execution_count": 9,
     "metadata": {},
     "output_type": "execute_result"
    }
   ],
   "source": [
    "a.shape"
   ]
  },
  {
   "cell_type": "markdown",
   "metadata": {},
   "source": [
    "Isso significa que temos uma matriz com duas linhas e quatro colunas!"
   ]
  },
  {
   "cell_type": "markdown",
   "metadata": {},
   "source": [
    "Podemos também indexar facilmente algum elemento de uma matriz (primeiro indicamos a linha e depois a coluna!):"
   ]
  },
  {
   "cell_type": "code",
   "execution_count": 10,
   "metadata": {},
   "outputs": [
    {
     "data": {
      "text/plain": [
       "1"
      ]
     },
     "execution_count": 10,
     "metadata": {},
     "output_type": "execute_result"
    }
   ],
   "source": [
    "a[0, 1]"
   ]
  },
  {
   "cell_type": "code",
   "execution_count": 11,
   "metadata": {},
   "outputs": [
    {
     "data": {
      "text/plain": [
       "6"
      ]
     },
     "execution_count": 11,
     "metadata": {},
     "output_type": "execute_result"
    }
   ],
   "source": [
    "a[1, 2]"
   ]
  },
  {
   "cell_type": "markdown",
   "metadata": {},
   "source": [
    "Podemos substituir também algum valor:"
   ]
  },
  {
   "cell_type": "code",
   "execution_count": 12,
   "metadata": {},
   "outputs": [],
   "source": [
    "a[1, 2] = 57"
   ]
  },
  {
   "cell_type": "code",
   "execution_count": 13,
   "metadata": {},
   "outputs": [
    {
     "name": "stdout",
     "output_type": "stream",
     "text": [
      "[[ 0  1  2  3]\n",
      " [ 4  5 57  7]]\n"
     ]
    }
   ],
   "source": [
    "print(a)"
   ]
  },
  {
   "cell_type": "markdown",
   "metadata": {},
   "source": [
    "Podemos indexar apenas uma linha também:"
   ]
  },
  {
   "cell_type": "code",
   "execution_count": 14,
   "metadata": {},
   "outputs": [
    {
     "data": {
      "text/plain": [
       "array([ 4,  5, 57,  7])"
      ]
     },
     "execution_count": 14,
     "metadata": {},
     "output_type": "execute_result"
    }
   ],
   "source": [
    "a[1]"
   ]
  },
  {
   "cell_type": "markdown",
   "metadata": {},
   "source": [
    "## Gerando números aleatórios\n",
    "Às vezes é possível que seja necessário gerar alguma série aleatoriamente. E podemos fazer isso com o módulo **random**:"
   ]
  },
  {
   "cell_type": "code",
   "execution_count": 15,
   "metadata": {},
   "outputs": [],
   "source": [
    "import random"
   ]
  },
  {
   "cell_type": "markdown",
   "metadata": {},
   "source": [
    "A função **random()** nos forncerá um float entre 0 e 1. Entenda isso como a probabilidade de acontecimento de um evento:"
   ]
  },
  {
   "cell_type": "code",
   "execution_count": 16,
   "metadata": {},
   "outputs": [
    {
     "name": "stdout",
     "output_type": "stream",
     "text": [
      "0.3245671872857232\n"
     ]
    }
   ],
   "source": [
    "prob = random.random()\n",
    "print(prob)"
   ]
  },
  {
   "cell_type": "markdown",
   "metadata": {},
   "source": [
    "Outra função é a **randint()** que nos fornece um integer como resultado, dado um intervalo fornecido nos argumentos:"
   ]
  },
  {
   "cell_type": "code",
   "execution_count": 31,
   "metadata": {},
   "outputs": [
    {
     "name": "stdout",
     "output_type": "stream",
     "text": [
      "1\n"
     ]
    }
   ],
   "source": [
    "numero_aleatorio = random.randint(1, 6)\n",
    "print(numero_aleatorio)"
   ]
  },
  {
   "cell_type": "markdown",
   "metadata": {},
   "source": [
    "Podemos também mesclar a utilização do módulo **random** com o numpy e gerar arrays aleatórios. Veja:\n"
   ]
  },
  {
   "cell_type": "code",
   "execution_count": 38,
   "metadata": {},
   "outputs": [
    {
     "data": {
      "text/plain": [
       "array([[4, 1, 5, 3, 4, 2, 3, 2, 3, 4],\n",
       "       [3, 1, 4, 3, 3, 3, 4, 5, 3, 1],\n",
       "       [3, 5, 2, 5, 1, 3, 1, 2, 2, 5],\n",
       "       [3, 3, 3, 3, 2, 4, 5, 1, 5, 4],\n",
       "       [1, 2, 1, 1, 3, 1, 1, 4, 4, 1]])"
      ]
     },
     "execution_count": 38,
     "metadata": {},
     "output_type": "execute_result"
    }
   ],
   "source": [
    "np.random.randint(1, 6, (5, 10))"
   ]
  },
  {
   "cell_type": "markdown",
   "metadata": {},
   "source": [
    "Os dois primeiros argumentos da função acima foi para definir o intervalo dos números aleatórios (ou seja, só foram gerados numeros entre 1 e 6) e o terceiro argumento foi o tamanho da matriz."
   ]
  },
  {
   "cell_type": "code",
   "execution_count": null,
   "metadata": {},
   "outputs": [],
   "source": []
  }
 ],
 "metadata": {
  "kernelspec": {
   "display_name": "Python 3",
   "language": "python",
   "name": "python3"
  },
  "language_info": {
   "codemirror_mode": {
    "name": "ipython",
    "version": 3
   },
   "file_extension": ".py",
   "mimetype": "text/x-python",
   "name": "python",
   "nbconvert_exporter": "python",
   "pygments_lexer": "ipython3",
   "version": "3.7.7"
  }
 },
 "nbformat": 4,
 "nbformat_minor": 4
}
