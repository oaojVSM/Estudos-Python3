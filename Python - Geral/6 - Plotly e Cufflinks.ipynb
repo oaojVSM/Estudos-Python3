{
 "cells": [
  {
   "cell_type": "markdown",
   "metadata": {},
   "source": [
    "# Plotly e Cufflinks\n",
    "\n",
    "Este notebook falará a respeito de duas bilbiotecas de Python utilizadas para visualização de dados, que são: **Plotly e Cufflinks**. <br><br>\n",
    "\n",
    "Plotly é uma bilbioteca utilizada para criar visualizações interativas, ou seja, poderemos, por exemplo, criar gráficos 3D. Enquanto Cufflinks é uma biblioteca utilizada em conjunto com Plotly, para que possamos realizar essas plotagens por meio de dados provenientes de DataFrames!"
   ]
  },
  {
   "cell_type": "code",
   "execution_count": 1,
   "metadata": {},
   "outputs": [],
   "source": [
    "#importando as bibliotecas:\n",
    "import pandas as pd\n",
    "import numpy as np\n",
    "\n",
    "from plotly import __version__\n",
    "import cufflinks as cf\n",
    "from plotly.offline import download_plotlyjs,init_notebook_mode,plot,iplot"
   ]
  },
  {
   "cell_type": "code",
   "execution_count": 2,
   "metadata": {},
   "outputs": [
    {
     "data": {
      "text/html": [
       "        <script type=\"text/javascript\">\n",
       "        window.PlotlyConfig = {MathJaxConfig: 'local'};\n",
       "        if (window.MathJax) {MathJax.Hub.Config({SVG: {font: \"STIX-Web\"}});}\n",
       "        if (typeof require !== 'undefined') {\n",
       "        require.undef(\"plotly\");\n",
       "        requirejs.config({\n",
       "            paths: {\n",
       "                'plotly': ['https://cdn.plot.ly/plotly-latest.min']\n",
       "            }\n",
       "        });\n",
       "        require(['plotly'], function(Plotly) {\n",
       "            window._Plotly = Plotly;\n",
       "        });\n",
       "        }\n",
       "        </script>\n",
       "        "
      ]
     },
     "metadata": {},
     "output_type": "display_data"
    }
   ],
   "source": [
    "init_notebook_mode(connected=True)"
   ]
  },
  {
   "cell_type": "code",
   "execution_count": 3,
   "metadata": {},
   "outputs": [
    {
     "data": {
      "text/html": [
       "        <script type=\"text/javascript\">\n",
       "        window.PlotlyConfig = {MathJaxConfig: 'local'};\n",
       "        if (window.MathJax) {MathJax.Hub.Config({SVG: {font: \"STIX-Web\"}});}\n",
       "        if (typeof require !== 'undefined') {\n",
       "        require.undef(\"plotly\");\n",
       "        requirejs.config({\n",
       "            paths: {\n",
       "                'plotly': ['https://cdn.plot.ly/plotly-latest.min']\n",
       "            }\n",
       "        });\n",
       "        require(['plotly'], function(Plotly) {\n",
       "            window._Plotly = Plotly;\n",
       "        });\n",
       "        }\n",
       "        </script>\n",
       "        "
      ]
     },
     "metadata": {},
     "output_type": "display_data"
    }
   ],
   "source": [
    "cf.go_offline()"
   ]
  },
  {
   "cell_type": "markdown",
   "metadata": {},
   "source": [
    "Bom, já foi visto que a importação dessa biblioteca é bem diferente que o normal, e tem alguns motivos pra isso:<br><br>\n",
    "\n",
    "[Plotly](https://plotly.com/) é uma empresa, e em seu site pode hospedar os visuais que você criar, portanto, existem algumas minúcias ao colocar essa biblioteca no Jupyter, além disso, Plotly é programado em JS, então tem que colocar essas minúcias para que converse bem com o Jupyter. Mais ou menos a mesma coisa é válida para o Cufflinks."
   ]
  },
  {
   "cell_type": "code",
   "execution_count": 4,
   "metadata": {},
   "outputs": [],
   "source": [
    "#criando dados:\n",
    "\n",
    "df = pd.DataFrame(np.random.randn(100,4),columns='A B C D'.split( ))"
   ]
  },
  {
   "cell_type": "code",
   "execution_count": 5,
   "metadata": {},
   "outputs": [
    {
     "data": {
      "text/html": [
       "<div>\n",
       "<style scoped>\n",
       "    .dataframe tbody tr th:only-of-type {\n",
       "        vertical-align: middle;\n",
       "    }\n",
       "\n",
       "    .dataframe tbody tr th {\n",
       "        vertical-align: top;\n",
       "    }\n",
       "\n",
       "    .dataframe thead th {\n",
       "        text-align: right;\n",
       "    }\n",
       "</style>\n",
       "<table border=\"1\" class=\"dataframe\">\n",
       "  <thead>\n",
       "    <tr style=\"text-align: right;\">\n",
       "      <th></th>\n",
       "      <th>A</th>\n",
       "      <th>B</th>\n",
       "      <th>C</th>\n",
       "      <th>D</th>\n",
       "    </tr>\n",
       "  </thead>\n",
       "  <tbody>\n",
       "    <tr>\n",
       "      <th>0</th>\n",
       "      <td>-0.076268</td>\n",
       "      <td>-0.740903</td>\n",
       "      <td>0.115068</td>\n",
       "      <td>1.456973</td>\n",
       "    </tr>\n",
       "    <tr>\n",
       "      <th>1</th>\n",
       "      <td>0.225401</td>\n",
       "      <td>-0.083104</td>\n",
       "      <td>-0.466953</td>\n",
       "      <td>1.580332</td>\n",
       "    </tr>\n",
       "    <tr>\n",
       "      <th>2</th>\n",
       "      <td>-0.805765</td>\n",
       "      <td>-1.251683</td>\n",
       "      <td>0.838754</td>\n",
       "      <td>-1.289700</td>\n",
       "    </tr>\n",
       "    <tr>\n",
       "      <th>3</th>\n",
       "      <td>0.377523</td>\n",
       "      <td>-1.204226</td>\n",
       "      <td>1.793917</td>\n",
       "      <td>-0.161666</td>\n",
       "    </tr>\n",
       "    <tr>\n",
       "      <th>4</th>\n",
       "      <td>-0.168060</td>\n",
       "      <td>1.014335</td>\n",
       "      <td>-1.343833</td>\n",
       "      <td>-1.976503</td>\n",
       "    </tr>\n",
       "    <tr>\n",
       "      <th>...</th>\n",
       "      <td>...</td>\n",
       "      <td>...</td>\n",
       "      <td>...</td>\n",
       "      <td>...</td>\n",
       "    </tr>\n",
       "    <tr>\n",
       "      <th>95</th>\n",
       "      <td>0.615376</td>\n",
       "      <td>-0.158516</td>\n",
       "      <td>-1.159813</td>\n",
       "      <td>-0.557350</td>\n",
       "    </tr>\n",
       "    <tr>\n",
       "      <th>96</th>\n",
       "      <td>1.211954</td>\n",
       "      <td>-1.434153</td>\n",
       "      <td>-0.287858</td>\n",
       "      <td>2.148558</td>\n",
       "    </tr>\n",
       "    <tr>\n",
       "      <th>97</th>\n",
       "      <td>-1.516211</td>\n",
       "      <td>0.165912</td>\n",
       "      <td>0.109743</td>\n",
       "      <td>-1.074934</td>\n",
       "    </tr>\n",
       "    <tr>\n",
       "      <th>98</th>\n",
       "      <td>-0.667892</td>\n",
       "      <td>2.344433</td>\n",
       "      <td>-0.996444</td>\n",
       "      <td>-2.799388</td>\n",
       "    </tr>\n",
       "    <tr>\n",
       "      <th>99</th>\n",
       "      <td>0.754909</td>\n",
       "      <td>0.238916</td>\n",
       "      <td>1.144623</td>\n",
       "      <td>0.260737</td>\n",
       "    </tr>\n",
       "  </tbody>\n",
       "</table>\n",
       "<p>100 rows × 4 columns</p>\n",
       "</div>"
      ],
      "text/plain": [
       "           A         B         C         D\n",
       "0  -0.076268 -0.740903  0.115068  1.456973\n",
       "1   0.225401 -0.083104 -0.466953  1.580332\n",
       "2  -0.805765 -1.251683  0.838754 -1.289700\n",
       "3   0.377523 -1.204226  1.793917 -0.161666\n",
       "4  -0.168060  1.014335 -1.343833 -1.976503\n",
       "..       ...       ...       ...       ...\n",
       "95  0.615376 -0.158516 -1.159813 -0.557350\n",
       "96  1.211954 -1.434153 -0.287858  2.148558\n",
       "97 -1.516211  0.165912  0.109743 -1.074934\n",
       "98 -0.667892  2.344433 -0.996444 -2.799388\n",
       "99  0.754909  0.238916  1.144623  0.260737\n",
       "\n",
       "[100 rows x 4 columns]"
      ]
     },
     "execution_count": 5,
     "metadata": {},
     "output_type": "execute_result"
    }
   ],
   "source": [
    "df"
   ]
  },
  {
   "cell_type": "code",
   "execution_count": 6,
   "metadata": {},
   "outputs": [
    {
     "data": {
      "text/html": [
       "<div>\n",
       "<style scoped>\n",
       "    .dataframe tbody tr th:only-of-type {\n",
       "        vertical-align: middle;\n",
       "    }\n",
       "\n",
       "    .dataframe tbody tr th {\n",
       "        vertical-align: top;\n",
       "    }\n",
       "\n",
       "    .dataframe thead th {\n",
       "        text-align: right;\n",
       "    }\n",
       "</style>\n",
       "<table border=\"1\" class=\"dataframe\">\n",
       "  <thead>\n",
       "    <tr style=\"text-align: right;\">\n",
       "      <th></th>\n",
       "      <th>Category</th>\n",
       "      <th>Values</th>\n",
       "    </tr>\n",
       "  </thead>\n",
       "  <tbody>\n",
       "    <tr>\n",
       "      <th>0</th>\n",
       "      <td>A</td>\n",
       "      <td>32</td>\n",
       "    </tr>\n",
       "    <tr>\n",
       "      <th>1</th>\n",
       "      <td>B</td>\n",
       "      <td>43</td>\n",
       "    </tr>\n",
       "    <tr>\n",
       "      <th>2</th>\n",
       "      <td>C</td>\n",
       "      <td>50</td>\n",
       "    </tr>\n",
       "  </tbody>\n",
       "</table>\n",
       "</div>"
      ],
      "text/plain": [
       "  Category  Values\n",
       "0        A      32\n",
       "1        B      43\n",
       "2        C      50"
      ]
     },
     "execution_count": 6,
     "metadata": {},
     "output_type": "execute_result"
    }
   ],
   "source": [
    "df2 = pd.DataFrame({'Category' : ['A', 'B', 'C'],\n",
    "                    'Values' :  [32, 43, 50]})\n",
    "df2"
   ]
  },
  {
   "cell_type": "code",
   "execution_count": 7,
   "metadata": {},
   "outputs": [
    {
     "data": {
      "text/plain": [
       "<matplotlib.axes._subplots.AxesSubplot at 0x1cdb4f5f7c8>"
      ]
     },
     "execution_count": 7,
     "metadata": {},
     "output_type": "execute_result"
    },
    {
     "data": {
      "image/png": "[encoded data removed]",
      "text/plain": [
       "<Figure size 432x288 with 1 Axes>"
      ]
     },
     "metadata": {
      "needs_background": "light"
     },
     "output_type": "display_data"
    }
   ],
   "source": [
    "df.plot()"
   ]
  },
  {
   "cell_type": "markdown",
   "metadata": {},
   "source": [
    "Veja que eu posso utilizar a plotagem embutida no Pandas, para fazer uma plotagem do Matplotlib!"
   ]
  },
  {
   "cell_type": "code",
   "execution_count": 8,
   "metadata": {},
   "outputs": [
    {
     "data": {
      "application/vnd.plotly.v1+json": {
       "config": {
        "linkText": "Export to plot.ly",
        "plotlyServerURL": "https://plot.ly",
        "showLink": true
       },
       "data": [
        {
         "line": {
          "color": "rgba(255, 153, 51, 1.0)",
          "dash": "solid",
          "shape": "linear",
          "width": 1.3
         },
         "mode": "lines",
         "name": "A",
         "text": "",
         "type": "scatter",
         "x": [
          0,
          1,
          2,
          3,
          4,
          5,
          6,
          7,
          8,
          9,
          10,
          11,
          12,
          13,
          14,
          15,
          16,
          17,
          18,
          19,
          20,
          21,
          22,
          23,
          24,
          25,
          26,
          27,
          28,
          29,
          30,
          31,
          32,
          33,
          34,
          35,
          36,
          37,
          38,
          39,
          40,
          41,
          42,
          43,
          44,
          45,
          46,
          47,
          48,
          49,
          50,
          51,
          52,
          53,
          54,
          55,
          56,
          57,
          58,
          59,
          60,
          61,
          62,
          63,
          64,
          65,
          66,
          67,
          68,
          69,
          70,
          71,
          72,
          73,
          74,
          75,
          76,
          77,
          78,
          79,
          80,
          81,
          82,
          83,
          84,
          85,
          86,
          87,
          88,
          89,
          90,
          91,
          92,
          93,
          94,
          95,
          96,
          97,
          98,
          99
         ],
         "y": [
          -0.07626798862524346,
          0.22540134756441488,
          -0.8057647977006603,
          0.3775230577282411,
          -0.1680604099266579,
          0.8713582072512306,
          -0.08016296132520627,
          2.0793375312602986,
          0.6174946047522917,
          1.3470244023614335,
          -0.45534748125031793,
          1.1567776506639353,
          -0.8740526020125177,
          -0.037407388938710644,
          0.5532512221426178,
          -1.051190550010996,
          -0.35056999351700524,
          1.071823066376621,
          0.9093892370915182,
          -1.0488537815283008,
          -0.4599270555168315,
          1.8602051198265883,
          -0.8249352680142302,
          -1.5106002057662986,
          0.0996067858587673,
          -0.9955831080121025,
          -1.1743481536862996,
          0.798495220365897,
          2.135298305419711,
          -0.918373544679037,
          -1.3292049671635469,
          -1.482014934583836,
          0.4658513332948664,
          1.7175357781491922,
          -0.1606077083412937,
          0.5805593871078475,
          -0.2538847588879203,
          1.0542215320006398,
          -0.4301439180270131,
          -1.2014952657868243,
          0.4460530424636575,
          -0.38016505214183166,
          1.187504657276655,
          1.0092529666759915,
          0.5276280783314551,
          -2.3146759442720812,
          -0.9726633353919516,
          -1.4651901913239982,
          -0.8517523630692322,
          -2.317281604613853,
          -0.14261933190625772,
          -2.077146476047186,
          -0.3251807441512565,
          0.1319632239823357,
          0.7486045945026552,
          0.33685670014918506,
          -0.037845194242645784,
          -1.3667973040236276,
          0.7727164075726849,
          -1.2011494900729764,
          0.2691153645066599,
          -0.7673187313510428,
          0.7313925705637623,
          0.27488086113873705,
          -0.21474757848854253,
          0.9183127839848029,
          0.20274982610001047,
          -1.2321068101491492,
          2.2023622350450003,
          0.22588488340486504,
          -0.21025110889818346,
          -0.06932808427719565,
          -0.330211178580367,
          -1.1630223928019472,
          0.3991187829537466,
          0.26561049183638635,
          0.2489546357507444,
          -1.0363391210443667,
          0.28072456627802256,
          -1.4258804403303178,
          0.34187592095465646,
          -1.1053725354624688,
          -0.7016568221765985,
          0.3193171141371305,
          -1.6882672411213937,
          -0.6384005418166574,
          1.1931023903017663,
          -1.079295557921701,
          0.953153121390354,
          0.4535569514855566,
          -0.6142109560790182,
          1.7927716591736043,
          -2.0886630176573466,
          -0.647956166935598,
          -0.5679356570104203,
          0.6153764784573306,
          1.211953758491585,
          -1.516211074458471,
          -0.6678919354224481,
          0.7549092172063453
         ]
        },
        {
         "line": {
          "color": "rgba(55, 128, 191, 1.0)",
          "dash": "solid",
          "shape": "linear",
          "width": 1.3
         },
         "mode": "lines",
         "name": "B",
         "text": "",
         "type": "scatter",
         "x": [
          0,
          1,
          2,
          3,
          4,
          5,
          6,
          7,
          8,
          9,
          10,
          11,
          12,
          13,
          14,
          15,
          16,
          17,
          18,
          19,
          20,
          21,
          22,
          23,
          24,
          25,
          26,
          27,
          28,
          29,
          30,
          31,
          32,
          33,
          34,
          35,
          36,
          37,
          38,
          39,
          40,
          41,
          42,
          43,
          44,
          45,
          46,
          47,
          48,
          49,
          50,
          51,
          52,
          53,
          54,
          55,
          56,
          57,
          58,
          59,
          60,
          61,
          62,
          63,
          64,
          65,
          66,
          67,
          68,
          69,
          70,
          71,
          72,
          73,
          74,
          75,
          76,
          77,
          78,
          79,
          80,
          81,
          82,
          83,
          84,
          85,
          86,
          87,
          88,
          89,
          90,
          91,
          92,
          93,
          94,
          95,
          96,
          97,
          98,
          99
         ],
         "y": [
          -0.740902655559266,
          -0.08310433278810744,
          -1.251683393405426,
          -1.204225704833254,
          1.0143348303407134,
          -1.0161633496549207,
          -1.7583971257729267,
          1.4521908459282145,
          -0.480368906287327,
          0.5131858057305899,
          0.27503721587001323,
          1.290465634875162,
          1.1124276711007453,
          -1.4899235118041922,
          0.38697483901701935,
          0.4129744286146979,
          2.095129686566982,
          0.8399787083500704,
          0.6710525662253761,
          -0.4681469240612532,
          2.1194359317570535,
          1.038915191126487,
          -0.7172554535302076,
          0.5688903859711237,
          0.826646992545889,
          0.09105518538007447,
          -0.589810469872444,
          -0.1525563108196747,
          -0.3633806409535802,
          0.2692246496286448,
          -0.1395863420602316,
          0.6420796882555284,
          -0.3895501220033279,
          -0.6842852202025996,
          -0.0662269940405855,
          -2.6265164759204436,
          -0.9020476303540725,
          -0.4167566139166744,
          0.7135005499949627,
          -1.094409509953378,
          -1.7596727501739213,
          -1.3221416350039188,
          -1.165871915271899,
          -0.17725703007771632,
          0.07750703246294158,
          -0.4058509152122095,
          1.0113863879667255,
          1.1743453857185353,
          0.1522145118031781,
          -0.7226455063181879,
          -0.9955570686188059,
          0.2765818865175756,
          -1.3549808500418952,
          1.337102837580037,
          -0.08188136453619636,
          -1.04472177658133,
          0.7038632224719813,
          -1.2644862932195187,
          0.3524073622222112,
          -0.46797925694821996,
          0.6379518560397109,
          0.5978368539603639,
          0.1896862075086954,
          0.01498863199058901,
          0.6737610775168448,
          -0.2093368496264277,
          -0.4445627663438925,
          -0.5225801896099493,
          0.11252918692066753,
          0.8218878151077612,
          -0.8365245614729655,
          -0.8260737556521454,
          0.821246020726017,
          1.7053976790292478,
          0.9591926546787697,
          1.0830800300363144,
          -0.7458624482789284,
          0.00978102219508137,
          -0.9888119728575078,
          -1.0526562671556607,
          -0.48038870163723124,
          -0.6569719817113063,
          -0.848735736192335,
          2.190392250125886,
          0.8904709443200586,
          -0.24858231907030764,
          0.9716461842773628,
          -1.0724720077866086,
          0.15156616663461042,
          0.36165937700608153,
          -0.7221361260002299,
          -2.0364234750392334,
          -0.6879418802528297,
          -0.40851358835174423,
          0.9529887543414152,
          -0.15851581650574076,
          -1.4341531957352023,
          0.1659117333162127,
          2.344432739425215,
          0.23891550498788275
         ]
        },
        {
         "line": {
          "color": "rgba(50, 171, 96, 1.0)",
          "dash": "solid",
          "shape": "linear",
          "width": 1.3
         },
         "mode": "lines",
         "name": "C",
         "text": "",
         "type": "scatter",
         "x": [
          0,
          1,
          2,
          3,
          4,
          5,
          6,
          7,
          8,
          9,
          10,
          11,
          12,
          13,
          14,
          15,
          16,
          17,
          18,
          19,
          20,
          21,
          22,
          23,
          24,
          25,
          26,
          27,
          28,
          29,
          30,
          31,
          32,
          33,
          34,
          35,
          36,
          37,
          38,
          39,
          40,
          41,
          42,
          43,
          44,
          45,
          46,
          47,
          48,
          49,
          50,
          51,
          52,
          53,
          54,
          55,
          56,
          57,
          58,
          59,
          60,
          61,
          62,
          63,
          64,
          65,
          66,
          67,
          68,
          69,
          70,
          71,
          72,
          73,
          74,
          75,
          76,
          77,
          78,
          79,
          80,
          81,
          82,
          83,
          84,
          85,
          86,
          87,
          88,
          89,
          90,
          91,
          92,
          93,
          94,
          95,
          96,
          97,
          98,
          99
         ],
         "y": [
          0.11506777591334545,
          -0.4669527591483944,
          0.838753938652362,
          1.7939169837397981,
          -1.3438326100575777,
          0.7772824387875003,
          0.5255163998487751,
          -0.14372743715167027,
          -1.1350475503194846,
          0.8377061742195445,
          -1.2893734663813263,
          -0.6490806584734865,
          -0.7905725983268116,
          1.4409167604861066,
          0.4687506103857752,
          0.9228644793460214,
          0.7256872634793196,
          -0.6776405780161343,
          -0.4906669437171314,
          -0.8185539687468362,
          -0.9529249151507974,
          0.9494275287384024,
          -0.8404780177971688,
          -0.23859050718064892,
          -1.33085820350392,
          -0.2547223651273164,
          1.3848369503129814,
          -0.015170397451762494,
          1.081412525387793,
          0.13221713750683914,
          -0.5915055288945772,
          -0.694599290081804,
          1.0150485266600329,
          1.5155566873877593,
          0.6275328930383646,
          -0.5840219696353247,
          -0.776311457551167,
          -0.6717617949609185,
          -0.9457685055861333,
          -0.6349865365838709,
          -0.9450538817674731,
          0.3358272922545994,
          2.2519875839333503,
          1.0990320253477452,
          2.1579827483939638,
          0.6262070029210622,
          0.3469528394636604,
          0.8181198570393231,
          0.3584307652929029,
          0.5411769289617455,
          -1.6469461542071104,
          -0.9394111622402175,
          0.34570756963622945,
          -0.08313735682778838,
          -0.5827389646844746,
          0.9313053242818813,
          0.522310163649811,
          0.6073699269751509,
          -2.0324889511721214,
          -1.9066225540276152,
          1.590194563123513,
          -0.4311534589466588,
          2.0156464167629853,
          0.5105587282134346,
          0.06424465390783764,
          1.2993272757132333,
          -0.8002831178402844,
          -0.09064770187143911,
          0.9597380188142864,
          0.048626762496730105,
          1.015142005510411,
          3.2188022869139106,
          -0.10316204116054475,
          -1.2826721358372464,
          0.2232936363291398,
          -1.1676562338091363,
          0.29032401337670666,
          0.14965456611823938,
          1.4024381550184488,
          -2.1890658665656177,
          0.2755147161407717,
          1.5955506986374905,
          0.07572171368240455,
          -0.08262244372807441,
          0.2166289542416796,
          0.08603331417035655,
          -1.021756178602517,
          -0.5269913512362231,
          -0.3539868604883295,
          -0.35340661766312104,
          -0.8723077965365962,
          -0.856046069191193,
          -0.16826738357465057,
          1.4501480109011096,
          0.5542794821235857,
          -1.1598134961669193,
          -0.2878579037631965,
          0.10974255297595349,
          -0.996444324819498,
          1.1446227114720948
         ]
        },
        {
         "line": {
          "color": "rgba(128, 0, 128, 1.0)",
          "dash": "solid",
          "shape": "linear",
          "width": 1.3
         },
         "mode": "lines",
         "name": "D",
         "text": "",
         "type": "scatter",
         "x": [
          0,
          1,
          2,
          3,
          4,
          5,
          6,
          7,
          8,
          9,
          10,
          11,
          12,
          13,
          14,
          15,
          16,
          17,
          18,
          19,
          20,
          21,
          22,
          23,
          24,
          25,
          26,
          27,
          28,
          29,
          30,
          31,
          32,
          33,
          34,
          35,
          36,
          37,
          38,
          39,
          40,
          41,
          42,
          43,
          44,
          45,
          46,
          47,
          48,
          49,
          50,
          51,
          52,
          53,
          54,
          55,
          56,
          57,
          58,
          59,
          60,
          61,
          62,
          63,
          64,
          65,
          66,
          67,
          68,
          69,
          70,
          71,
          72,
          73,
          74,
          75,
          76,
          77,
          78,
          79,
          80,
          81,
          82,
          83,
          84,
          85,
          86,
          87,
          88,
          89,
          90,
          91,
          92,
          93,
          94,
          95,
          96,
          97,
          98,
          99
         ],
         "y": [
          1.4569727607926122,
          1.5803324075229161,
          -1.2897002441333556,
          -0.16166551474494495,
          -1.976502864334509,
          -0.8693958414819042,
          0.9551460280404175,
          0.2802516103397689,
          1.2550272097356434,
          0.9155115058822488,
          0.7733482131769092,
          -1.1631126105679386,
          0.3931126235197993,
          1.5592260592093,
          -0.7546707280860958,
          -0.577462363122032,
          0.10812191862643344,
          -1.3021525005770849,
          0.0013863273196885522,
          -1.1565924417119133,
          0.030893790789631646,
          -0.2921139554387492,
          -0.6378229963088616,
          -0.2552420579232666,
          -0.7105803541717001,
          -0.7310763884707412,
          0.850591748444687,
          0.25350478409356253,
          -0.0025095031827617282,
          -1.038633643463149,
          0.8260476059311241,
          0.5222387643383883,
          1.4269978745065481,
          -2.1968429450957525,
          0.1884115433816258,
          -0.26168481206024646,
          0.7273415497579273,
          2.299797566491191,
          0.8788511743957212,
          1.1091884743081923,
          0.388275901319309,
          0.059801554863223624,
          0.7049894936262245,
          1.0788069961882627,
          0.430901839072723,
          0.625095337397016,
          -0.15792309032785642,
          0.45281184157042315,
          -0.4517714112086825,
          -1.321525146743949,
          0.6769278297715584,
          -0.66020231086785,
          0.02621609074868664,
          1.237167600904855,
          -0.37366966211437025,
          -0.8374883670259714,
          -1.7838417355758664,
          1.9282931010823163,
          0.9403749494318877,
          0.30310974524093093,
          1.0237472277719784,
          -0.9817481934613881,
          -0.7965587873113616,
          -0.2756526237681351,
          0.07193352921125992,
          1.3843610975021363,
          -1.1883473539731926,
          -1.132010345991311,
          -1.0217264191012476,
          0.7850296917497678,
          2.2121655730172725,
          0.5932119006791556,
          -1.439284833023011,
          -0.7046679703172876,
          -0.42747316155692994,
          -1.7867416717823146,
          -1.3465481460900666,
          -1.1275245220204797,
          -0.1920986987537914,
          0.2695193429927655,
          -2.0193794708287247,
          0.664330606404295,
          -2.5251217573612994,
          2.195869829867191,
          0.6241679103092804,
          -2.4482135541760828,
          2.022834651920917,
          1.0827267716967608,
          -0.006038442634036476,
          -0.861912397917697,
          1.4948604815170339,
          -0.21769551523968977,
          -0.26311210258217965,
          0.37203035503116805,
          -0.7976063789805946,
          -0.557349689706263,
          2.148558435514855,
          -1.074934475018916,
          -2.799387901627083,
          0.2607365043330616
         ]
        }
       ],
       "layout": {
        "legend": {
         "bgcolor": "#F5F6F9",
         "font": {
          "color": "#4D5663"
         }
        },
        "paper_bgcolor": "#F5F6F9",
        "plot_bgcolor": "#F5F6F9",
        "template": {
         "data": {
          "bar": [
           {
            "error_x": {
             "color": "#2a3f5f"
            },
            "error_y": {
             "color": "#2a3f5f"
            },
            "marker": {
             "line": {
              "color": "#E5ECF6",
              "width": 0.5
             }
            },
            "type": "bar"
           }
          ],
          "barpolar": [
           {
            "marker": {
             "line": {
              "color": "#E5ECF6",
              "width": 0.5
             }
            },
            "type": "barpolar"
           }
          ],
          "carpet": [
           {
            "aaxis": {
             "endlinecolor": "#2a3f5f",
             "gridcolor": "white",
             "linecolor": "white",
             "minorgridcolor": "white",
             "startlinecolor": "#2a3f5f"
            },
            "baxis": {
             "endlinecolor": "#2a3f5f",
             "gridcolor": "white",
             "linecolor": "white",
             "minorgridcolor": "white",
             "startlinecolor": "#2a3f5f"
            },
            "type": "carpet"
           }
          ],
          "choropleth": [
           {
            "colorbar": {
             "outlinewidth": 0,
             "ticks": ""
            },
            "type": "choropleth"
           }
          ],
          "contour": [
           {
            "colorbar": {
             "outlinewidth": 0,
             "ticks": ""
            },
            "colorscale": [
             [
              0,
              "#0d0887"
             ],
             [
              0.1111111111111111,
              "#46039f"
             ],
             [
              0.2222222222222222,
              "#7201a8"
             ],
             [
              0.3333333333333333,
              "#9c179e"
             ],
             [
              0.4444444444444444,
              "#bd3786"
             ],
             [
              0.5555555555555556,
              "#d8576b"
             ],
             [
              0.6666666666666666,
              "#ed7953"
             ],
             [
              0.7777777777777778,
              "#fb9f3a"
             ],
             [
              0.8888888888888888,
              "#fdca26"
             ],
             [
              1,
              "#f0f921"
             ]
            ],
            "type": "contour"
           }
          ],
          "contourcarpet": [
           {
            "colorbar": {
             "outlinewidth": 0,
             "ticks": ""
            },
            "type": "contourcarpet"
           }
          ],
          "heatmap": [
           {
            "colorbar": {
             "outlinewidth": 0,
             "ticks": ""
            },
            "colorscale": [
             [
              0,
              "#0d0887"
             ],
             [
              0.1111111111111111,
              "#46039f"
             ],
             [
              0.2222222222222222,
              "#7201a8"
             ],
             [
              0.3333333333333333,
              "#9c179e"
             ],
             [
              0.4444444444444444,
              "#bd3786"
             ],
             [
              0.5555555555555556,
              "#d8576b"
             ],
             [
              0.6666666666666666,
              "#ed7953"
             ],
             [
              0.7777777777777778,
              "#fb9f3a"
             ],
             [
              0.8888888888888888,
              "#fdca26"
             ],
             [
              1,
              "#f0f921"
             ]
            ],
            "type": "heatmap"
           }
          ],
          "heatmapgl": [
           {
            "colorbar": {
             "outlinewidth": 0,
             "ticks": ""
            },
            "colorscale": [
             [
              0,
              "#0d0887"
             ],
             [
              0.1111111111111111,
              "#46039f"
             ],
             [
              0.2222222222222222,
              "#7201a8"
             ],
             [
              0.3333333333333333,
              "#9c179e"
             ],
             [
              0.4444444444444444,
              "#bd3786"
             ],
             [
              0.5555555555555556,
              "#d8576b"
             ],
             [
              0.6666666666666666,
              "#ed7953"
             ],
             [
              0.7777777777777778,
              "#fb9f3a"
             ],
             [
              0.8888888888888888,
              "#fdca26"
             ],
             [
              1,
              "#f0f921"
             ]
            ],
            "type": "heatmapgl"
           }
          ],
          "histogram": [
           {
            "marker": {
             "colorbar": {
              "outlinewidth": 0,
              "ticks": ""
             }
            },
            "type": "histogram"
           }
          ],
          "histogram2d": [
           {
            "colorbar": {
             "outlinewidth": 0,
             "ticks": ""
            },
            "colorscale": [
             [
              0,
              "#0d0887"
             ],
             [
              0.1111111111111111,
              "#46039f"
             ],
             [
              0.2222222222222222,
              "#7201a8"
             ],
             [
              0.3333333333333333,
              "#9c179e"
             ],
             [
              0.4444444444444444,
              "#bd3786"
             ],
             [
              0.5555555555555556,
              "#d8576b"
             ],
             [
              0.6666666666666666,
              "#ed7953"
             ],
             [
              0.7777777777777778,
              "#fb9f3a"
             ],
             [
              0.8888888888888888,
              "#fdca26"
             ],
             [
              1,
              "#f0f921"
             ]
            ],
            "type": "histogram2d"
           }
          ],
          "histogram2dcontour": [
           {
            "colorbar": {
             "outlinewidth": 0,
             "ticks": ""
            },
            "colorscale": [
             [
              0,
              "#0d0887"
             ],
             [
              0.1111111111111111,
              "#46039f"
             ],
             [
              0.2222222222222222,
              "#7201a8"
             ],
             [
              0.3333333333333333,
              "#9c179e"
             ],
             [
              0.4444444444444444,
              "#bd3786"
             ],
             [
              0.5555555555555556,
              "#d8576b"
             ],
             [
              0.6666666666666666,
              "#ed7953"
             ],
             [
              0.7777777777777778,
              "#fb9f3a"
             ],
             [
              0.8888888888888888,
              "#fdca26"
             ],
             [
              1,
              "#f0f921"
             ]
            ],
            "type": "histogram2dcontour"
           }
          ],
          "mesh3d": [
           {
            "colorbar": {
             "outlinewidth": 0,
             "ticks": ""
            },
            "type": "mesh3d"
           }
          ],
          "parcoords": [
           {
            "line": {
             "colorbar": {
              "outlinewidth": 0,
              "ticks": ""
             }
            },
            "type": "parcoords"
           }
          ],
          "pie": [
           {
            "automargin": true,
            "type": "pie"
           }
          ],
          "scatter": [
           {
            "marker": {
             "colorbar": {
              "outlinewidth": 0,
              "ticks": ""
             }
            },
            "type": "scatter"
           }
          ],
          "scatter3d": [
           {
            "line": {
             "colorbar": {
              "outlinewidth": 0,
              "ticks": ""
             }
            },
            "marker": {
             "colorbar": {
              "outlinewidth": 0,
              "ticks": ""
             }
            },
            "type": "scatter3d"
           }
          ],
          "scattercarpet": [
           {
            "marker": {
             "colorbar": {
              "outlinewidth": 0,
              "ticks": ""
             }
            },
            "type": "scattercarpet"
           }
          ],
          "scattergeo": [
           {
            "marker": {
             "colorbar": {
              "outlinewidth": 0,
              "ticks": ""
             }
            },
            "type": "scattergeo"
           }
          ],
          "scattergl": [
           {
            "marker": {
             "colorbar": {
              "outlinewidth": 0,
              "ticks": ""
             }
            },
            "type": "scattergl"
           }
          ],
          "scattermapbox": [
           {
            "marker": {
             "colorbar": {
              "outlinewidth": 0,
              "ticks": ""
             }
            },
            "type": "scattermapbox"
           }
          ],
          "scatterpolar": [
           {
            "marker": {
             "colorbar": {
              "outlinewidth": 0,
              "ticks": ""
             }
            },
            "type": "scatterpolar"
           }
          ],
          "scatterpolargl": [
           {
            "marker": {
             "colorbar": {
              "outlinewidth": 0,
              "ticks": ""
             }
            },
            "type": "scatterpolargl"
           }
          ],
          "scatterternary": [
           {
            "marker": {
             "colorbar": {
              "outlinewidth": 0,
              "ticks": ""
             }
            },
            "type": "scatterternary"
           }
          ],
          "surface": [
           {
            "colorbar": {
             "outlinewidth": 0,
             "ticks": ""
            },
            "colorscale": [
             [
              0,
              "#0d0887"
             ],
             [
              0.1111111111111111,
              "#46039f"
             ],
             [
              0.2222222222222222,
              "#7201a8"
             ],
             [
              0.3333333333333333,
              "#9c179e"
             ],
             [
              0.4444444444444444,
              "#bd3786"
             ],
             [
              0.5555555555555556,
              "#d8576b"
             ],
             [
              0.6666666666666666,
              "#ed7953"
             ],
             [
              0.7777777777777778,
              "#fb9f3a"
             ],
             [
              0.8888888888888888,
              "#fdca26"
             ],
             [
              1,
              "#f0f921"
             ]
            ],
            "type": "surface"
           }
          ],
          "table": [
           {
            "cells": {
             "fill": {
              "color": "#EBF0F8"
             },
             "line": {
              "color": "white"
             }
            },
            "header": {
             "fill": {
              "color": "#C8D4E3"
             },
             "line": {
              "color": "white"
             }
            },
            "type": "table"
           }
          ]
         },
         "layout": {
          "annotationdefaults": {
           "arrowcolor": "#2a3f5f",
           "arrowhead": 0,
           "arrowwidth": 1
          },
          "autotypenumbers": "strict",
          "coloraxis": {
           "colorbar": {
            "outlinewidth": 0,
            "ticks": ""
           }
          },
          "colorscale": {
           "diverging": [
            [
             0,
             "#8e0152"
            ],
            [
             0.1,
             "#c51b7d"
            ],
            [
             0.2,
             "#de77ae"
            ],
            [
             0.3,
             "#f1b6da"
            ],
            [
             0.4,
             "#fde0ef"
            ],
            [
             0.5,
             "#f7f7f7"
            ],
            [
             0.6,
             "#e6f5d0"
            ],
            [
             0.7,
             "#b8e186"
            ],
            [
             0.8,
             "#7fbc41"
            ],
            [
             0.9,
             "#4d9221"
            ],
            [
             1,
             "#276419"
            ]
           ],
           "sequential": [
            [
             0,
             "#0d0887"
            ],
            [
             0.1111111111111111,
             "#46039f"
            ],
            [
             0.2222222222222222,
             "#7201a8"
            ],
            [
             0.3333333333333333,
             "#9c179e"
            ],
            [
             0.4444444444444444,
             "#bd3786"
            ],
            [
             0.5555555555555556,
             "#d8576b"
            ],
            [
             0.6666666666666666,
             "#ed7953"
            ],
            [
             0.7777777777777778,
             "#fb9f3a"
            ],
            [
             0.8888888888888888,
             "#fdca26"
            ],
            [
             1,
             "#f0f921"
            ]
           ],
           "sequentialminus": [
            [
             0,
             "#0d0887"
            ],
            [
             0.1111111111111111,
             "#46039f"
            ],
            [
             0.2222222222222222,
             "#7201a8"
            ],
            [
             0.3333333333333333,
             "#9c179e"
            ],
            [
             0.4444444444444444,
             "#bd3786"
            ],
            [
             0.5555555555555556,
             "#d8576b"
            ],
            [
             0.6666666666666666,
             "#ed7953"
            ],
            [
             0.7777777777777778,
             "#fb9f3a"
            ],
            [
             0.8888888888888888,
             "#fdca26"
            ],
            [
             1,
             "#f0f921"
            ]
           ]
          },
          "colorway": [
           "#636efa",
           "#EF553B",
           "#00cc96",
           "#ab63fa",
           "#FFA15A",
           "#19d3f3",
           "#FF6692",
           "#B6E880",
           "#FF97FF",
           "#FECB52"
          ],
          "font": {
           "color": "#2a3f5f"
          },
          "geo": {
           "bgcolor": "white",
           "lakecolor": "white",
           "landcolor": "#E5ECF6",
           "showlakes": true,
           "showland": true,
           "subunitcolor": "white"
          },
          "hoverlabel": {
           "align": "left"
          },
          "hovermode": "closest",
          "mapbox": {
           "style": "light"
          },
          "paper_bgcolor": "white",
          "plot_bgcolor": "#E5ECF6",
          "polar": {
           "angularaxis": {
            "gridcolor": "white",
            "linecolor": "white",
            "ticks": ""
           },
           "bgcolor": "#E5ECF6",
           "radialaxis": {
            "gridcolor": "white",
            "linecolor": "white",
            "ticks": ""
           }
          },
          "scene": {
           "xaxis": {
            "backgroundcolor": "#E5ECF6",
            "gridcolor": "white",
            "gridwidth": 2,
            "linecolor": "white",
            "showbackground": true,
            "ticks": "",
            "zerolinecolor": "white"
           },
           "yaxis": {
            "backgroundcolor": "#E5ECF6",
            "gridcolor": "white",
            "gridwidth": 2,
            "linecolor": "white",
            "showbackground": true,
            "ticks": "",
            "zerolinecolor": "white"
           },
           "zaxis": {
            "backgroundcolor": "#E5ECF6",
            "gridcolor": "white",
            "gridwidth": 2,
            "linecolor": "white",
            "showbackground": true,
            "ticks": "",
            "zerolinecolor": "white"
           }
          },
          "shapedefaults": {
           "line": {
            "color": "#2a3f5f"
           }
          },
          "ternary": {
           "aaxis": {
            "gridcolor": "white",
            "linecolor": "white",
            "ticks": ""
           },
           "baxis": {
            "gridcolor": "white",
            "linecolor": "white",
            "ticks": ""
           },
           "bgcolor": "#E5ECF6",
           "caxis": {
            "gridcolor": "white",
            "linecolor": "white",
            "ticks": ""
           }
          },
          "title": {
           "x": 0.05
          },
          "xaxis": {
           "automargin": true,
           "gridcolor": "white",
           "linecolor": "white",
           "ticks": "",
           "title": {
            "standoff": 15
           },
           "zerolinecolor": "white",
           "zerolinewidth": 2
          },
          "yaxis": {
           "automargin": true,
           "gridcolor": "white",
           "linecolor": "white",
           "ticks": "",
           "title": {
            "standoff": 15
           },
           "zerolinecolor": "white",
           "zerolinewidth": 2
          }
         }
        },
        "title": {
         "font": {
          "color": "#4D5663"
         }
        },
        "xaxis": {
         "gridcolor": "#E1E5ED",
         "showgrid": true,
         "tickfont": {
          "color": "#4D5663"
         },
         "title": {
          "font": {
           "color": "#4D5663"
          },
          "text": ""
         },
         "zerolinecolor": "#E1E5ED"
        },
        "yaxis": {
         "gridcolor": "#E1E5ED",
         "showgrid": true,
         "tickfont": {
          "color": "#4D5663"
         },
         "title": {
          "font": {
           "color": "#4D5663"
          },
          "text": ""
         },
         "zerolinecolor": "#E1E5ED"
        }
       }
      },
      "text/html": [
       "<div>                            <div id=\"c8af7c45-9fc6-4ee1-9a46-16785951b8f7\" class=\"plotly-graph-div\" style=\"height:525px; width:100%;\"></div>            <script type=\"text/javascript\">                require([\"plotly\"], function(Plotly) {                    window.PLOTLYENV=window.PLOTLYENV || {};\n",
       "                    window.PLOTLYENV.BASE_URL='https://plot.ly';                                    if (document.getElementById(\"c8af7c45-9fc6-4ee1-9a46-16785951b8f7\")) {                    Plotly.newPlot(                        \"c8af7c45-9fc6-4ee1-9a46-16785951b8f7\",                        [{\"line\": {\"color\": \"rgba(255, 153, 51, 1.0)\", \"dash\": \"solid\", \"shape\": \"linear\", \"width\": 1.3}, \"mode\": \"lines\", \"name\": \"A\", \"text\": \"\", \"type\": \"scatter\", \"x\": [0, 1, 2, 3, 4, 5, 6, 7, 8, 9, 10, 11, 12, 13, 14, 15, 16, 17, 18, 19, 20, 21, 22, 23, 24, 25, 26, 27, 28, 29, 30, 31, 32, 33, 34, 35, 36, 37, 38, 39, 40, 41, 42, 43, 44, 45, 46, 47, 48, 49, 50, 51, 52, 53, 54, 55, 56, 57, 58, 59, 60, 61, 62, 63, 64, 65, 66, 67, 68, 69, 70, 71, 72, 73, 74, 75, 76, 77, 78, 79, 80, 81, 82, 83, 84, 85, 86, 87, 88, 89, 90, 91, 92, 93, 94, 95, 96, 97, 98, 99], \"y\": [-0.07626798862524346, 0.22540134756441488, -0.8057647977006603, 0.3775230577282411, -0.1680604099266579, 0.8713582072512306, -0.08016296132520627, 2.0793375312602986, 0.6174946047522917, 1.3470244023614335, -0.45534748125031793, 1.1567776506639353, -0.8740526020125177, -0.037407388938710644, 0.5532512221426178, -1.051190550010996, -0.35056999351700524, 1.071823066376621, 0.9093892370915182, -1.0488537815283008, -0.4599270555168315, 1.8602051198265883, -0.8249352680142302, -1.5106002057662986, 0.0996067858587673, -0.9955831080121025, -1.1743481536862996, 0.798495220365897, 2.135298305419711, -0.918373544679037, -1.3292049671635469, -1.482014934583836, 0.4658513332948664, 1.7175357781491922, -0.1606077083412937, 0.5805593871078475, -0.2538847588879203, 1.0542215320006398, -0.4301439180270131, -1.2014952657868243, 0.4460530424636575, -0.38016505214183166, 1.187504657276655, 1.0092529666759915, 0.5276280783314551, -2.3146759442720812, -0.9726633353919516, -1.4651901913239982, -0.8517523630692322, -2.317281604613853, -0.14261933190625772, -2.077146476047186, -0.3251807441512565, 0.1319632239823357, 0.7486045945026552, 0.33685670014918506, -0.037845194242645784, -1.3667973040236276, 0.7727164075726849, -1.2011494900729764, 0.2691153645066599, -0.7673187313510428, 0.7313925705637623, 0.27488086113873705, -0.21474757848854253, 0.9183127839848029, 0.20274982610001047, -1.2321068101491492, 2.2023622350450003, 0.22588488340486504, -0.21025110889818346, -0.06932808427719565, -0.330211178580367, -1.1630223928019472, 0.3991187829537466, 0.26561049183638635, 0.2489546357507444, -1.0363391210443667, 0.28072456627802256, -1.4258804403303178, 0.34187592095465646, -1.1053725354624688, -0.7016568221765985, 0.3193171141371305, -1.6882672411213937, -0.6384005418166574, 1.1931023903017663, -1.079295557921701, 0.953153121390354, 0.4535569514855566, -0.6142109560790182, 1.7927716591736043, -2.0886630176573466, -0.647956166935598, -0.5679356570104203, 0.6153764784573306, 1.211953758491585, -1.516211074458471, -0.6678919354224481, 0.7549092172063453]}, {\"line\": {\"color\": \"rgba(55, 128, 191, 1.0)\", \"dash\": \"solid\", \"shape\": \"linear\", \"width\": 1.3}, \"mode\": \"lines\", \"name\": \"B\", \"text\": \"\", \"type\": \"scatter\", \"x\": [0, 1, 2, 3, 4, 5, 6, 7, 8, 9, 10, 11, 12, 13, 14, 15, 16, 17, 18, 19, 20, 21, 22, 23, 24, 25, 26, 27, 28, 29, 30, 31, 32, 33, 34, 35, 36, 37, 38, 39, 40, 41, 42, 43, 44, 45, 46, 47, 48, 49, 50, 51, 52, 53, 54, 55, 56, 57, 58, 59, 60, 61, 62, 63, 64, 65, 66, 67, 68, 69, 70, 71, 72, 73, 74, 75, 76, 77, 78, 79, 80, 81, 82, 83, 84, 85, 86, 87, 88, 89, 90, 91, 92, 93, 94, 95, 96, 97, 98, 99], \"y\": [-0.740902655559266, -0.08310433278810744, -1.251683393405426, -1.204225704833254, 1.0143348303407134, -1.0161633496549207, -1.7583971257729267, 1.4521908459282145, -0.480368906287327, 0.5131858057305899, 0.27503721587001323, 1.290465634875162, 1.1124276711007453, -1.4899235118041922, 0.38697483901701935, 0.4129744286146979, 2.095129686566982, 0.8399787083500704, 0.6710525662253761, -0.4681469240612532, 2.1194359317570535, 1.038915191126487, -0.7172554535302076, 0.5688903859711237, 0.826646992545889, 0.09105518538007447, -0.589810469872444, -0.1525563108196747, -0.3633806409535802, 0.2692246496286448, -0.1395863420602316, 0.6420796882555284, -0.3895501220033279, -0.6842852202025996, -0.0662269940405855, -2.6265164759204436, -0.9020476303540725, -0.4167566139166744, 0.7135005499949627, -1.094409509953378, -1.7596727501739213, -1.3221416350039188, -1.165871915271899, -0.17725703007771632, 0.07750703246294158, -0.4058509152122095, 1.0113863879667255, 1.1743453857185353, 0.1522145118031781, -0.7226455063181879, -0.9955570686188059, 0.2765818865175756, -1.3549808500418952, 1.337102837580037, -0.08188136453619636, -1.04472177658133, 0.7038632224719813, -1.2644862932195187, 0.3524073622222112, -0.46797925694821996, 0.6379518560397109, 0.5978368539603639, 0.1896862075086954, 0.01498863199058901, 0.6737610775168448, -0.2093368496264277, -0.4445627663438925, -0.5225801896099493, 0.11252918692066753, 0.8218878151077612, -0.8365245614729655, -0.8260737556521454, 0.821246020726017, 1.7053976790292478, 0.9591926546787697, 1.0830800300363144, -0.7458624482789284, 0.00978102219508137, -0.9888119728575078, -1.0526562671556607, -0.48038870163723124, -0.6569719817113063, -0.848735736192335, 2.190392250125886, 0.8904709443200586, -0.24858231907030764, 0.9716461842773628, -1.0724720077866086, 0.15156616663461042, 0.36165937700608153, -0.7221361260002299, -2.0364234750392334, -0.6879418802528297, -0.40851358835174423, 0.9529887543414152, -0.15851581650574076, -1.4341531957352023, 0.1659117333162127, 2.344432739425215, 0.23891550498788275]}, {\"line\": {\"color\": \"rgba(50, 171, 96, 1.0)\", \"dash\": \"solid\", \"shape\": \"linear\", \"width\": 1.3}, \"mode\": \"lines\", \"name\": \"C\", \"text\": \"\", \"type\": \"scatter\", \"x\": [0, 1, 2, 3, 4, 5, 6, 7, 8, 9, 10, 11, 12, 13, 14, 15, 16, 17, 18, 19, 20, 21, 22, 23, 24, 25, 26, 27, 28, 29, 30, 31, 32, 33, 34, 35, 36, 37, 38, 39, 40, 41, 42, 43, 44, 45, 46, 47, 48, 49, 50, 51, 52, 53, 54, 55, 56, 57, 58, 59, 60, 61, 62, 63, 64, 65, 66, 67, 68, 69, 70, 71, 72, 73, 74, 75, 76, 77, 78, 79, 80, 81, 82, 83, 84, 85, 86, 87, 88, 89, 90, 91, 92, 93, 94, 95, 96, 97, 98, 99], \"y\": [0.11506777591334545, -0.4669527591483944, 0.838753938652362, 1.7939169837397981, -1.3438326100575777, 0.7772824387875003, 0.5255163998487751, -0.14372743715167027, -1.1350475503194846, 0.8377061742195445, -1.2893734663813263, -0.6490806584734865, -0.7905725983268116, 1.4409167604861066, 0.4687506103857752, 0.9228644793460214, 0.7256872634793196, -0.6776405780161343, -0.4906669437171314, -0.8185539687468362, -0.9529249151507974, 0.9494275287384024, -0.8404780177971688, -0.23859050718064892, -1.33085820350392, -0.2547223651273164, 1.3848369503129814, -0.015170397451762494, 1.081412525387793, 0.13221713750683914, -0.5915055288945772, -0.694599290081804, 1.0150485266600329, 1.5155566873877593, 0.6275328930383646, -0.5840219696353247, -0.776311457551167, -0.6717617949609185, -0.9457685055861333, -0.6349865365838709, -0.9450538817674731, 0.3358272922545994, 2.2519875839333503, 1.0990320253477452, 2.1579827483939638, 0.6262070029210622, 0.3469528394636604, 0.8181198570393231, 0.3584307652929029, 0.5411769289617455, -1.6469461542071104, -0.9394111622402175, 0.34570756963622945, -0.08313735682778838, -0.5827389646844746, 0.9313053242818813, 0.522310163649811, 0.6073699269751509, -2.0324889511721214, -1.9066225540276152, 1.590194563123513, -0.4311534589466588, 2.0156464167629853, 0.5105587282134346, 0.06424465390783764, 1.2993272757132333, -0.8002831178402844, -0.09064770187143911, 0.9597380188142864, 0.048626762496730105, 1.015142005510411, 3.2188022869139106, -0.10316204116054475, -1.2826721358372464, 0.2232936363291398, -1.1676562338091363, 0.29032401337670666, 0.14965456611823938, 1.4024381550184488, -2.1890658665656177, 0.2755147161407717, 1.5955506986374905, 0.07572171368240455, -0.08262244372807441, 0.2166289542416796, 0.08603331417035655, -1.021756178602517, -0.5269913512362231, -0.3539868604883295, -0.35340661766312104, -0.8723077965365962, -0.856046069191193, -0.16826738357465057, 1.4501480109011096, 0.5542794821235857, -1.1598134961669193, -0.2878579037631965, 0.10974255297595349, -0.996444324819498, 1.1446227114720948]}, {\"line\": {\"color\": \"rgba(128, 0, 128, 1.0)\", \"dash\": \"solid\", \"shape\": \"linear\", \"width\": 1.3}, \"mode\": \"lines\", \"name\": \"D\", \"text\": \"\", \"type\": \"scatter\", \"x\": [0, 1, 2, 3, 4, 5, 6, 7, 8, 9, 10, 11, 12, 13, 14, 15, 16, 17, 18, 19, 20, 21, 22, 23, 24, 25, 26, 27, 28, 29, 30, 31, 32, 33, 34, 35, 36, 37, 38, 39, 40, 41, 42, 43, 44, 45, 46, 47, 48, 49, 50, 51, 52, 53, 54, 55, 56, 57, 58, 59, 60, 61, 62, 63, 64, 65, 66, 67, 68, 69, 70, 71, 72, 73, 74, 75, 76, 77, 78, 79, 80, 81, 82, 83, 84, 85, 86, 87, 88, 89, 90, 91, 92, 93, 94, 95, 96, 97, 98, 99], \"y\": [1.4569727607926122, 1.5803324075229161, -1.2897002441333556, -0.16166551474494495, -1.976502864334509, -0.8693958414819042, 0.9551460280404175, 0.2802516103397689, 1.2550272097356434, 0.9155115058822488, 0.7733482131769092, -1.1631126105679386, 0.3931126235197993, 1.5592260592093, -0.7546707280860958, -0.577462363122032, 0.10812191862643344, -1.3021525005770849, 0.0013863273196885522, -1.1565924417119133, 0.030893790789631646, -0.2921139554387492, -0.6378229963088616, -0.2552420579232666, -0.7105803541717001, -0.7310763884707412, 0.850591748444687, 0.25350478409356253, -0.0025095031827617282, -1.038633643463149, 0.8260476059311241, 0.5222387643383883, 1.4269978745065481, -2.1968429450957525, 0.1884115433816258, -0.26168481206024646, 0.7273415497579273, 2.299797566491191, 0.8788511743957212, 1.1091884743081923, 0.388275901319309, 0.059801554863223624, 0.7049894936262245, 1.0788069961882627, 0.430901839072723, 0.625095337397016, -0.15792309032785642, 0.45281184157042315, -0.4517714112086825, -1.321525146743949, 0.6769278297715584, -0.66020231086785, 0.02621609074868664, 1.237167600904855, -0.37366966211437025, -0.8374883670259714, -1.7838417355758664, 1.9282931010823163, 0.9403749494318877, 0.30310974524093093, 1.0237472277719784, -0.9817481934613881, -0.7965587873113616, -0.2756526237681351, 0.07193352921125992, 1.3843610975021363, -1.1883473539731926, -1.132010345991311, -1.0217264191012476, 0.7850296917497678, 2.2121655730172725, 0.5932119006791556, -1.439284833023011, -0.7046679703172876, -0.42747316155692994, -1.7867416717823146, -1.3465481460900666, -1.1275245220204797, -0.1920986987537914, 0.2695193429927655, -2.0193794708287247, 0.664330606404295, -2.5251217573612994, 2.195869829867191, 0.6241679103092804, -2.4482135541760828, 2.022834651920917, 1.0827267716967608, -0.006038442634036476, -0.861912397917697, 1.4948604815170339, -0.21769551523968977, -0.26311210258217965, 0.37203035503116805, -0.7976063789805946, -0.557349689706263, 2.148558435514855, -1.074934475018916, -2.799387901627083, 0.2607365043330616]}],                        {\"legend\": {\"bgcolor\": \"#F5F6F9\", \"font\": {\"color\": \"#4D5663\"}}, \"paper_bgcolor\": \"#F5F6F9\", \"plot_bgcolor\": \"#F5F6F9\", \"template\": {\"data\": {\"bar\": [{\"error_x\": {\"color\": \"#2a3f5f\"}, \"error_y\": {\"color\": \"#2a3f5f\"}, \"marker\": {\"line\": {\"color\": \"#E5ECF6\", \"width\": 0.5}}, \"type\": \"bar\"}], \"barpolar\": [{\"marker\": {\"line\": {\"color\": \"#E5ECF6\", \"width\": 0.5}}, \"type\": \"barpolar\"}], \"carpet\": [{\"aaxis\": {\"endlinecolor\": \"#2a3f5f\", \"gridcolor\": \"white\", \"linecolor\": \"white\", \"minorgridcolor\": \"white\", \"startlinecolor\": \"#2a3f5f\"}, \"baxis\": {\"endlinecolor\": \"#2a3f5f\", \"gridcolor\": \"white\", \"linecolor\": \"white\", \"minorgridcolor\": \"white\", \"startlinecolor\": \"#2a3f5f\"}, \"type\": \"carpet\"}], \"choropleth\": [{\"colorbar\": {\"outlinewidth\": 0, \"ticks\": \"\"}, \"type\": \"choropleth\"}], \"contour\": [{\"colorbar\": {\"outlinewidth\": 0, \"ticks\": \"\"}, \"colorscale\": [[0.0, \"#0d0887\"], [0.1111111111111111, \"#46039f\"], [0.2222222222222222, \"#7201a8\"], [0.3333333333333333, \"#9c179e\"], [0.4444444444444444, \"#bd3786\"], [0.5555555555555556, \"#d8576b\"], [0.6666666666666666, \"#ed7953\"], [0.7777777777777778, \"#fb9f3a\"], [0.8888888888888888, \"#fdca26\"], [1.0, \"#f0f921\"]], \"type\": \"contour\"}], \"contourcarpet\": [{\"colorbar\": {\"outlinewidth\": 0, \"ticks\": \"\"}, \"type\": \"contourcarpet\"}], \"heatmap\": [{\"colorbar\": {\"outlinewidth\": 0, \"ticks\": \"\"}, \"colorscale\": [[0.0, \"#0d0887\"], [0.1111111111111111, \"#46039f\"], [0.2222222222222222, \"#7201a8\"], [0.3333333333333333, \"#9c179e\"], [0.4444444444444444, \"#bd3786\"], [0.5555555555555556, \"#d8576b\"], [0.6666666666666666, \"#ed7953\"], [0.7777777777777778, \"#fb9f3a\"], [0.8888888888888888, \"#fdca26\"], [1.0, \"#f0f921\"]], \"type\": \"heatmap\"}], \"heatmapgl\": [{\"colorbar\": {\"outlinewidth\": 0, \"ticks\": \"\"}, \"colorscale\": [[0.0, \"#0d0887\"], [0.1111111111111111, \"#46039f\"], [0.2222222222222222, \"#7201a8\"], [0.3333333333333333, \"#9c179e\"], [0.4444444444444444, \"#bd3786\"], [0.5555555555555556, \"#d8576b\"], [0.6666666666666666, \"#ed7953\"], [0.7777777777777778, \"#fb9f3a\"], [0.8888888888888888, \"#fdca26\"], [1.0, \"#f0f921\"]], \"type\": \"heatmapgl\"}], \"histogram\": [{\"marker\": {\"colorbar\": {\"outlinewidth\": 0, \"ticks\": \"\"}}, \"type\": \"histogram\"}], \"histogram2d\": [{\"colorbar\": {\"outlinewidth\": 0, \"ticks\": \"\"}, \"colorscale\": [[0.0, \"#0d0887\"], [0.1111111111111111, \"#46039f\"], [0.2222222222222222, \"#7201a8\"], [0.3333333333333333, \"#9c179e\"], [0.4444444444444444, \"#bd3786\"], [0.5555555555555556, \"#d8576b\"], [0.6666666666666666, \"#ed7953\"], [0.7777777777777778, \"#fb9f3a\"], [0.8888888888888888, \"#fdca26\"], [1.0, \"#f0f921\"]], \"type\": \"histogram2d\"}], \"histogram2dcontour\": [{\"colorbar\": {\"outlinewidth\": 0, \"ticks\": \"\"}, \"colorscale\": [[0.0, \"#0d0887\"], [0.1111111111111111, \"#46039f\"], [0.2222222222222222, \"#7201a8\"], [0.3333333333333333, \"#9c179e\"], [0.4444444444444444, \"#bd3786\"], [0.5555555555555556, \"#d8576b\"], [0.6666666666666666, \"#ed7953\"], [0.7777777777777778, \"#fb9f3a\"], [0.8888888888888888, \"#fdca26\"], [1.0, \"#f0f921\"]], \"type\": \"histogram2dcontour\"}], \"mesh3d\": [{\"colorbar\": {\"outlinewidth\": 0, \"ticks\": \"\"}, \"type\": \"mesh3d\"}], \"parcoords\": [{\"line\": {\"colorbar\": {\"outlinewidth\": 0, \"ticks\": \"\"}}, \"type\": \"parcoords\"}], \"pie\": [{\"automargin\": true, \"type\": \"pie\"}], \"scatter\": [{\"marker\": {\"colorbar\": {\"outlinewidth\": 0, \"ticks\": \"\"}}, \"type\": \"scatter\"}], \"scatter3d\": [{\"line\": {\"colorbar\": {\"outlinewidth\": 0, \"ticks\": \"\"}}, \"marker\": {\"colorbar\": {\"outlinewidth\": 0, \"ticks\": \"\"}}, \"type\": \"scatter3d\"}], \"scattercarpet\": [{\"marker\": {\"colorbar\": {\"outlinewidth\": 0, \"ticks\": \"\"}}, \"type\": \"scattercarpet\"}], \"scattergeo\": [{\"marker\": {\"colorbar\": {\"outlinewidth\": 0, \"ticks\": \"\"}}, \"type\": \"scattergeo\"}], \"scattergl\": [{\"marker\": {\"colorbar\": {\"outlinewidth\": 0, \"ticks\": \"\"}}, \"type\": \"scattergl\"}], \"scattermapbox\": [{\"marker\": {\"colorbar\": {\"outlinewidth\": 0, \"ticks\": \"\"}}, \"type\": \"scattermapbox\"}], \"scatterpolar\": [{\"marker\": {\"colorbar\": {\"outlinewidth\": 0, \"ticks\": \"\"}}, \"type\": \"scatterpolar\"}], \"scatterpolargl\": [{\"marker\": {\"colorbar\": {\"outlinewidth\": 0, \"ticks\": \"\"}}, \"type\": \"scatterpolargl\"}], \"scatterternary\": [{\"marker\": {\"colorbar\": {\"outlinewidth\": 0, \"ticks\": \"\"}}, \"type\": \"scatterternary\"}], \"surface\": [{\"colorbar\": {\"outlinewidth\": 0, \"ticks\": \"\"}, \"colorscale\": [[0.0, \"#0d0887\"], [0.1111111111111111, \"#46039f\"], [0.2222222222222222, \"#7201a8\"], [0.3333333333333333, \"#9c179e\"], [0.4444444444444444, \"#bd3786\"], [0.5555555555555556, \"#d8576b\"], [0.6666666666666666, \"#ed7953\"], [0.7777777777777778, \"#fb9f3a\"], [0.8888888888888888, \"#fdca26\"], [1.0, \"#f0f921\"]], \"type\": \"surface\"}], \"table\": [{\"cells\": {\"fill\": {\"color\": \"#EBF0F8\"}, \"line\": {\"color\": \"white\"}}, \"header\": {\"fill\": {\"color\": \"#C8D4E3\"}, \"line\": {\"color\": \"white\"}}, \"type\": \"table\"}]}, \"layout\": {\"annotationdefaults\": {\"arrowcolor\": \"#2a3f5f\", \"arrowhead\": 0, \"arrowwidth\": 1}, \"autotypenumbers\": \"strict\", \"coloraxis\": {\"colorbar\": {\"outlinewidth\": 0, \"ticks\": \"\"}}, \"colorscale\": {\"diverging\": [[0, \"#8e0152\"], [0.1, \"#c51b7d\"], [0.2, \"#de77ae\"], [0.3, \"#f1b6da\"], [0.4, \"#fde0ef\"], [0.5, \"#f7f7f7\"], [0.6, \"#e6f5d0\"], [0.7, \"#b8e186\"], [0.8, \"#7fbc41\"], [0.9, \"#4d9221\"], [1, \"#276419\"]], \"sequential\": [[0.0, \"#0d0887\"], [0.1111111111111111, \"#46039f\"], [0.2222222222222222, \"#7201a8\"], [0.3333333333333333, \"#9c179e\"], [0.4444444444444444, \"#bd3786\"], [0.5555555555555556, \"#d8576b\"], [0.6666666666666666, \"#ed7953\"], [0.7777777777777778, \"#fb9f3a\"], [0.8888888888888888, \"#fdca26\"], [1.0, \"#f0f921\"]], \"sequentialminus\": [[0.0, \"#0d0887\"], [0.1111111111111111, \"#46039f\"], [0.2222222222222222, \"#7201a8\"], [0.3333333333333333, \"#9c179e\"], [0.4444444444444444, \"#bd3786\"], [0.5555555555555556, \"#d8576b\"], [0.6666666666666666, \"#ed7953\"], [0.7777777777777778, \"#fb9f3a\"], [0.8888888888888888, \"#fdca26\"], [1.0, \"#f0f921\"]]}, \"colorway\": [\"#636efa\", \"#EF553B\", \"#00cc96\", \"#ab63fa\", \"#FFA15A\", \"#19d3f3\", \"#FF6692\", \"#B6E880\", \"#FF97FF\", \"#FECB52\"], \"font\": {\"color\": \"#2a3f5f\"}, \"geo\": {\"bgcolor\": \"white\", \"lakecolor\": \"white\", \"landcolor\": \"#E5ECF6\", \"showlakes\": true, \"showland\": true, \"subunitcolor\": \"white\"}, \"hoverlabel\": {\"align\": \"left\"}, \"hovermode\": \"closest\", \"mapbox\": {\"style\": \"light\"}, \"paper_bgcolor\": \"white\", \"plot_bgcolor\": \"#E5ECF6\", \"polar\": {\"angularaxis\": {\"gridcolor\": \"white\", \"linecolor\": \"white\", \"ticks\": \"\"}, \"bgcolor\": \"#E5ECF6\", \"radialaxis\": {\"gridcolor\": \"white\", \"linecolor\": \"white\", \"ticks\": \"\"}}, \"scene\": {\"xaxis\": {\"backgroundcolor\": \"#E5ECF6\", \"gridcolor\": \"white\", \"gridwidth\": 2, \"linecolor\": \"white\", \"showbackground\": true, \"ticks\": \"\", \"zerolinecolor\": \"white\"}, \"yaxis\": {\"backgroundcolor\": \"#E5ECF6\", \"gridcolor\": \"white\", \"gridwidth\": 2, \"linecolor\": \"white\", \"showbackground\": true, \"ticks\": \"\", \"zerolinecolor\": \"white\"}, \"zaxis\": {\"backgroundcolor\": \"#E5ECF6\", \"gridcolor\": \"white\", \"gridwidth\": 2, \"linecolor\": \"white\", \"showbackground\": true, \"ticks\": \"\", \"zerolinecolor\": \"white\"}}, \"shapedefaults\": {\"line\": {\"color\": \"#2a3f5f\"}}, \"ternary\": {\"aaxis\": {\"gridcolor\": \"white\", \"linecolor\": \"white\", \"ticks\": \"\"}, \"baxis\": {\"gridcolor\": \"white\", \"linecolor\": \"white\", \"ticks\": \"\"}, \"bgcolor\": \"#E5ECF6\", \"caxis\": {\"gridcolor\": \"white\", \"linecolor\": \"white\", \"ticks\": \"\"}}, \"title\": {\"x\": 0.05}, \"xaxis\": {\"automargin\": true, \"gridcolor\": \"white\", \"linecolor\": \"white\", \"ticks\": \"\", \"title\": {\"standoff\": 15}, \"zerolinecolor\": \"white\", \"zerolinewidth\": 2}, \"yaxis\": {\"automargin\": true, \"gridcolor\": \"white\", \"linecolor\": \"white\", \"ticks\": \"\", \"title\": {\"standoff\": 15}, \"zerolinecolor\": \"white\", \"zerolinewidth\": 2}}}, \"title\": {\"font\": {\"color\": \"#4D5663\"}}, \"xaxis\": {\"gridcolor\": \"#E1E5ED\", \"showgrid\": true, \"tickfont\": {\"color\": \"#4D5663\"}, \"title\": {\"font\": {\"color\": \"#4D5663\"}, \"text\": \"\"}, \"zerolinecolor\": \"#E1E5ED\"}, \"yaxis\": {\"gridcolor\": \"#E1E5ED\", \"showgrid\": true, \"tickfont\": {\"color\": \"#4D5663\"}, \"title\": {\"font\": {\"color\": \"#4D5663\"}, \"text\": \"\"}, \"zerolinecolor\": \"#E1E5ED\"}},                        {\"showLink\": true, \"linkText\": \"Export to plot.ly\", \"plotlyServerURL\": \"https://plot.ly\", \"responsive\": true}                    ).then(function(){\n",
       "                            \n",
       "var gd = document.getElementById('c8af7c45-9fc6-4ee1-9a46-16785951b8f7');\n",
       "var x = new MutationObserver(function (mutations, observer) {{\n",
       "        var display = window.getComputedStyle(gd).display;\n",
       "        if (!display || display === 'none') {{\n",
       "            console.log([gd, 'removed!']);\n",
       "            Plotly.purge(gd);\n",
       "            observer.disconnect();\n",
       "        }}\n",
       "}});\n",
       "\n",
       "// Listen for the removal of the full notebook cells\n",
       "var notebookContainer = gd.closest('#notebook-container');\n",
       "if (notebookContainer) {{\n",
       "    x.observe(notebookContainer, {childList: true});\n",
       "}}\n",
       "\n",
       "// Listen for the clearing of the current output cell\n",
       "var outputEl = gd.closest('.output');\n",
       "if (outputEl) {{\n",
       "    x.observe(outputEl, {childList: true});\n",
       "}}\n",
       "\n",
       "                        })                };                });            </script>        </div>"
      ]
     },
     "metadata": {},
     "output_type": "display_data"
    }
   ],
   "source": [
    "df.iplot()"
   ]
  },
  {
   "cell_type": "markdown",
   "metadata": {},
   "source": [
    "Veja que se eu utilizar o método **.iplot()** eu crio uma plotagem totalmente interativa!!!<br><br>\n",
    "\n",
    "Nessa plotagem é possível passar o mouse por cima das linhas que o valor irá aparecer automaticamente, eu consigo dar zoom etc., basta ir explorando as funcionalidades e isso é totalmente intuitivo!"
   ]
  },
  {
   "cell_type": "code",
   "execution_count": 10,
   "metadata": {},
   "outputs": [
    {
     "data": {
      "application/vnd.plotly.v1+json": {
       "config": {
        "linkText": "Export to plot.ly",
        "plotlyServerURL": "https://plot.ly",
        "showLink": true
       },
       "data": [
        {
         "line": {
          "color": "rgba(255, 153, 51, 1.0)",
          "dash": "solid",
          "shape": "linear",
          "width": 1.3
         },
         "mode": "lines",
         "name": "B",
         "text": "",
         "type": "scatter",
         "x": [
          -0.07626798862524346,
          0.22540134756441488,
          -0.8057647977006603,
          0.3775230577282411,
          -0.1680604099266579,
          0.8713582072512306,
          -0.08016296132520627,
          2.0793375312602986,
          0.6174946047522917,
          1.3470244023614335,
          -0.45534748125031793,
          1.1567776506639353,
          -0.8740526020125177,
          -0.037407388938710644,
          0.5532512221426178,
          -1.051190550010996,
          -0.35056999351700524,
          1.071823066376621,
          0.9093892370915182,
          -1.0488537815283008,
          -0.4599270555168315,
          1.8602051198265883,
          -0.8249352680142302,
          -1.5106002057662986,
          0.0996067858587673,
          -0.9955831080121025,
          -1.1743481536862996,
          0.798495220365897,
          2.135298305419711,
          -0.918373544679037,
          -1.3292049671635469,
          -1.482014934583836,
          0.4658513332948664,
          1.7175357781491922,
          -0.1606077083412937,
          0.5805593871078475,
          -0.2538847588879203,
          1.0542215320006398,
          -0.4301439180270131,
          -1.2014952657868243,
          0.4460530424636575,
          -0.38016505214183166,
          1.187504657276655,
          1.0092529666759915,
          0.5276280783314551,
          -2.3146759442720812,
          -0.9726633353919516,
          -1.4651901913239982,
          -0.8517523630692322,
          -2.317281604613853,
          -0.14261933190625772,
          -2.077146476047186,
          -0.3251807441512565,
          0.1319632239823357,
          0.7486045945026552,
          0.33685670014918506,
          -0.037845194242645784,
          -1.3667973040236276,
          0.7727164075726849,
          -1.2011494900729764,
          0.2691153645066599,
          -0.7673187313510428,
          0.7313925705637623,
          0.27488086113873705,
          -0.21474757848854253,
          0.9183127839848029,
          0.20274982610001047,
          -1.2321068101491492,
          2.2023622350450003,
          0.22588488340486504,
          -0.21025110889818346,
          -0.06932808427719565,
          -0.330211178580367,
          -1.1630223928019472,
          0.3991187829537466,
          0.26561049183638635,
          0.2489546357507444,
          -1.0363391210443667,
          0.28072456627802256,
          -1.4258804403303178,
          0.34187592095465646,
          -1.1053725354624688,
          -0.7016568221765985,
          0.3193171141371305,
          -1.6882672411213937,
          -0.6384005418166574,
          1.1931023903017663,
          -1.079295557921701,
          0.953153121390354,
          0.4535569514855566,
          -0.6142109560790182,
          1.7927716591736043,
          -2.0886630176573466,
          -0.647956166935598,
          -0.5679356570104203,
          0.6153764784573306,
          1.211953758491585,
          -1.516211074458471,
          -0.6678919354224481,
          0.7549092172063453
         ],
         "y": [
          -0.740902655559266,
          -0.08310433278810744,
          -1.251683393405426,
          -1.204225704833254,
          1.0143348303407134,
          -1.0161633496549207,
          -1.7583971257729267,
          1.4521908459282145,
          -0.480368906287327,
          0.5131858057305899,
          0.27503721587001323,
          1.290465634875162,
          1.1124276711007453,
          -1.4899235118041922,
          0.38697483901701935,
          0.4129744286146979,
          2.095129686566982,
          0.8399787083500704,
          0.6710525662253761,
          -0.4681469240612532,
          2.1194359317570535,
          1.038915191126487,
          -0.7172554535302076,
          0.5688903859711237,
          0.826646992545889,
          0.09105518538007447,
          -0.589810469872444,
          -0.1525563108196747,
          -0.3633806409535802,
          0.2692246496286448,
          -0.1395863420602316,
          0.6420796882555284,
          -0.3895501220033279,
          -0.6842852202025996,
          -0.0662269940405855,
          -2.6265164759204436,
          -0.9020476303540725,
          -0.4167566139166744,
          0.7135005499949627,
          -1.094409509953378,
          -1.7596727501739213,
          -1.3221416350039188,
          -1.165871915271899,
          -0.17725703007771632,
          0.07750703246294158,
          -0.4058509152122095,
          1.0113863879667255,
          1.1743453857185353,
          0.1522145118031781,
          -0.7226455063181879,
          -0.9955570686188059,
          0.2765818865175756,
          -1.3549808500418952,
          1.337102837580037,
          -0.08188136453619636,
          -1.04472177658133,
          0.7038632224719813,
          -1.2644862932195187,
          0.3524073622222112,
          -0.46797925694821996,
          0.6379518560397109,
          0.5978368539603639,
          0.1896862075086954,
          0.01498863199058901,
          0.6737610775168448,
          -0.2093368496264277,
          -0.4445627663438925,
          -0.5225801896099493,
          0.11252918692066753,
          0.8218878151077612,
          -0.8365245614729655,
          -0.8260737556521454,
          0.821246020726017,
          1.7053976790292478,
          0.9591926546787697,
          1.0830800300363144,
          -0.7458624482789284,
          0.00978102219508137,
          -0.9888119728575078,
          -1.0526562671556607,
          -0.48038870163723124,
          -0.6569719817113063,
          -0.848735736192335,
          2.190392250125886,
          0.8904709443200586,
          -0.24858231907030764,
          0.9716461842773628,
          -1.0724720077866086,
          0.15156616663461042,
          0.36165937700608153,
          -0.7221361260002299,
          -2.0364234750392334,
          -0.6879418802528297,
          -0.40851358835174423,
          0.9529887543414152,
          -0.15851581650574076,
          -1.4341531957352023,
          0.1659117333162127,
          2.344432739425215,
          0.23891550498788275
         ]
        }
       ],
       "layout": {
        "legend": {
         "bgcolor": "#F5F6F9",
         "font": {
          "color": "#4D5663"
         }
        },
        "paper_bgcolor": "#F5F6F9",
        "plot_bgcolor": "#F5F6F9",
        "template": {
         "data": {
          "bar": [
           {
            "error_x": {
             "color": "#2a3f5f"
            },
            "error_y": {
             "color": "#2a3f5f"
            },
            "marker": {
             "line": {
              "color": "#E5ECF6",
              "width": 0.5
             }
            },
            "type": "bar"
           }
          ],
          "barpolar": [
           {
            "marker": {
             "line": {
              "color": "#E5ECF6",
              "width": 0.5
             }
            },
            "type": "barpolar"
           }
          ],
          "carpet": [
           {
            "aaxis": {
             "endlinecolor": "#2a3f5f",
             "gridcolor": "white",
             "linecolor": "white",
             "minorgridcolor": "white",
             "startlinecolor": "#2a3f5f"
            },
            "baxis": {
             "endlinecolor": "#2a3f5f",
             "gridcolor": "white",
             "linecolor": "white",
             "minorgridcolor": "white",
             "startlinecolor": "#2a3f5f"
            },
            "type": "carpet"
           }
          ],
          "choropleth": [
           {
            "colorbar": {
             "outlinewidth": 0,
             "ticks": ""
            },
            "type": "choropleth"
           }
          ],
          "contour": [
           {
            "colorbar": {
             "outlinewidth": 0,
             "ticks": ""
            },
            "colorscale": [
             [
              0,
              "#0d0887"
             ],
             [
              0.1111111111111111,
              "#46039f"
             ],
             [
              0.2222222222222222,
              "#7201a8"
             ],
             [
              0.3333333333333333,
              "#9c179e"
             ],
             [
              0.4444444444444444,
              "#bd3786"
             ],
             [
              0.5555555555555556,
              "#d8576b"
             ],
             [
              0.6666666666666666,
              "#ed7953"
             ],
             [
              0.7777777777777778,
              "#fb9f3a"
             ],
             [
              0.8888888888888888,
              "#fdca26"
             ],
             [
              1,
              "#f0f921"
             ]
            ],
            "type": "contour"
           }
          ],
          "contourcarpet": [
           {
            "colorbar": {
             "outlinewidth": 0,
             "ticks": ""
            },
            "type": "contourcarpet"
           }
          ],
          "heatmap": [
           {
            "colorbar": {
             "outlinewidth": 0,
             "ticks": ""
            },
            "colorscale": [
             [
              0,
              "#0d0887"
             ],
             [
              0.1111111111111111,
              "#46039f"
             ],
             [
              0.2222222222222222,
              "#7201a8"
             ],
             [
              0.3333333333333333,
              "#9c179e"
             ],
             [
              0.4444444444444444,
              "#bd3786"
             ],
             [
              0.5555555555555556,
              "#d8576b"
             ],
             [
              0.6666666666666666,
              "#ed7953"
             ],
             [
              0.7777777777777778,
              "#fb9f3a"
             ],
             [
              0.8888888888888888,
              "#fdca26"
             ],
             [
              1,
              "#f0f921"
             ]
            ],
            "type": "heatmap"
           }
          ],
          "heatmapgl": [
           {
            "colorbar": {
             "outlinewidth": 0,
             "ticks": ""
            },
            "colorscale": [
             [
              0,
              "#0d0887"
             ],
             [
              0.1111111111111111,
              "#46039f"
             ],
             [
              0.2222222222222222,
              "#7201a8"
             ],
             [
              0.3333333333333333,
              "#9c179e"
             ],
             [
              0.4444444444444444,
              "#bd3786"
             ],
             [
              0.5555555555555556,
              "#d8576b"
             ],
             [
              0.6666666666666666,
              "#ed7953"
             ],
             [
              0.7777777777777778,
              "#fb9f3a"
             ],
             [
              0.8888888888888888,
              "#fdca26"
             ],
             [
              1,
              "#f0f921"
             ]
            ],
            "type": "heatmapgl"
           }
          ],
          "histogram": [
           {
            "marker": {
             "colorbar": {
              "outlinewidth": 0,
              "ticks": ""
             }
            },
            "type": "histogram"
           }
          ],
          "histogram2d": [
           {
            "colorbar": {
             "outlinewidth": 0,
             "ticks": ""
            },
            "colorscale": [
             [
              0,
              "#0d0887"
             ],
             [
              0.1111111111111111,
              "#46039f"
             ],
             [
              0.2222222222222222,
              "#7201a8"
             ],
             [
              0.3333333333333333,
              "#9c179e"
             ],
             [
              0.4444444444444444,
              "#bd3786"
             ],
             [
              0.5555555555555556,
              "#d8576b"
             ],
             [
              0.6666666666666666,
              "#ed7953"
             ],
             [
              0.7777777777777778,
              "#fb9f3a"
             ],
             [
              0.8888888888888888,
              "#fdca26"
             ],
             [
              1,
              "#f0f921"
             ]
            ],
            "type": "histogram2d"
           }
          ],
          "histogram2dcontour": [
           {
            "colorbar": {
             "outlinewidth": 0,
             "ticks": ""
            },
            "colorscale": [
             [
              0,
              "#0d0887"
             ],
             [
              0.1111111111111111,
              "#46039f"
             ],
             [
              0.2222222222222222,
              "#7201a8"
             ],
             [
              0.3333333333333333,
              "#9c179e"
             ],
             [
              0.4444444444444444,
              "#bd3786"
             ],
             [
              0.5555555555555556,
              "#d8576b"
             ],
             [
              0.6666666666666666,
              "#ed7953"
             ],
             [
              0.7777777777777778,
              "#fb9f3a"
             ],
             [
              0.8888888888888888,
              "#fdca26"
             ],
             [
              1,
              "#f0f921"
             ]
            ],
            "type": "histogram2dcontour"
           }
          ],
          "mesh3d": [
           {
            "colorbar": {
             "outlinewidth": 0,
             "ticks": ""
            },
            "type": "mesh3d"
           }
          ],
          "parcoords": [
           {
            "line": {
             "colorbar": {
              "outlinewidth": 0,
              "ticks": ""
             }
            },
            "type": "parcoords"
           }
          ],
          "pie": [
           {
            "automargin": true,
            "type": "pie"
           }
          ],
          "scatter": [
           {
            "marker": {
             "colorbar": {
              "outlinewidth": 0,
              "ticks": ""
             }
            },
            "type": "scatter"
           }
          ],
          "scatter3d": [
           {
            "line": {
             "colorbar": {
              "outlinewidth": 0,
              "ticks": ""
             }
            },
            "marker": {
             "colorbar": {
              "outlinewidth": 0,
              "ticks": ""
             }
            },
            "type": "scatter3d"
           }
          ],
          "scattercarpet": [
           {
            "marker": {
             "colorbar": {
              "outlinewidth": 0,
              "ticks": ""
             }
            },
            "type": "scattercarpet"
           }
          ],
          "scattergeo": [
           {
            "marker": {
             "colorbar": {
              "outlinewidth": 0,
              "ticks": ""
             }
            },
            "type": "scattergeo"
           }
          ],
          "scattergl": [
           {
            "marker": {
             "colorbar": {
              "outlinewidth": 0,
              "ticks": ""
             }
            },
            "type": "scattergl"
           }
          ],
          "scattermapbox": [
           {
            "marker": {
             "colorbar": {
              "outlinewidth": 0,
              "ticks": ""
             }
            },
            "type": "scattermapbox"
           }
          ],
          "scatterpolar": [
           {
            "marker": {
             "colorbar": {
              "outlinewidth": 0,
              "ticks": ""
             }
            },
            "type": "scatterpolar"
           }
          ],
          "scatterpolargl": [
           {
            "marker": {
             "colorbar": {
              "outlinewidth": 0,
              "ticks": ""
             }
            },
            "type": "scatterpolargl"
           }
          ],
          "scatterternary": [
           {
            "marker": {
             "colorbar": {
              "outlinewidth": 0,
              "ticks": ""
             }
            },
            "type": "scatterternary"
           }
          ],
          "surface": [
           {
            "colorbar": {
             "outlinewidth": 0,
             "ticks": ""
            },
            "colorscale": [
             [
              0,
              "#0d0887"
             ],
             [
              0.1111111111111111,
              "#46039f"
             ],
             [
              0.2222222222222222,
              "#7201a8"
             ],
             [
              0.3333333333333333,
              "#9c179e"
             ],
             [
              0.4444444444444444,
              "#bd3786"
             ],
             [
              0.5555555555555556,
              "#d8576b"
             ],
             [
              0.6666666666666666,
              "#ed7953"
             ],
             [
              0.7777777777777778,
              "#fb9f3a"
             ],
             [
              0.8888888888888888,
              "#fdca26"
             ],
             [
              1,
              "#f0f921"
             ]
            ],
            "type": "surface"
           }
          ],
          "table": [
           {
            "cells": {
             "fill": {
              "color": "#EBF0F8"
             },
             "line": {
              "color": "white"
             }
            },
            "header": {
             "fill": {
              "color": "#C8D4E3"
             },
             "line": {
              "color": "white"
             }
            },
            "type": "table"
           }
          ]
         },
         "layout": {
          "annotationdefaults": {
           "arrowcolor": "#2a3f5f",
           "arrowhead": 0,
           "arrowwidth": 1
          },
          "autotypenumbers": "strict",
          "coloraxis": {
           "colorbar": {
            "outlinewidth": 0,
            "ticks": ""
           }
          },
          "colorscale": {
           "diverging": [
            [
             0,
             "#8e0152"
            ],
            [
             0.1,
             "#c51b7d"
            ],
            [
             0.2,
             "#de77ae"
            ],
            [
             0.3,
             "#f1b6da"
            ],
            [
             0.4,
             "#fde0ef"
            ],
            [
             0.5,
             "#f7f7f7"
            ],
            [
             0.6,
             "#e6f5d0"
            ],
            [
             0.7,
             "#b8e186"
            ],
            [
             0.8,
             "#7fbc41"
            ],
            [
             0.9,
             "#4d9221"
            ],
            [
             1,
             "#276419"
            ]
           ],
           "sequential": [
            [
             0,
             "#0d0887"
            ],
            [
             0.1111111111111111,
             "#46039f"
            ],
            [
             0.2222222222222222,
             "#7201a8"
            ],
            [
             0.3333333333333333,
             "#9c179e"
            ],
            [
             0.4444444444444444,
             "#bd3786"
            ],
            [
             0.5555555555555556,
             "#d8576b"
            ],
            [
             0.6666666666666666,
             "#ed7953"
            ],
            [
             0.7777777777777778,
             "#fb9f3a"
            ],
            [
             0.8888888888888888,
             "#fdca26"
            ],
            [
             1,
             "#f0f921"
            ]
           ],
           "sequentialminus": [
            [
             0,
             "#0d0887"
            ],
            [
             0.1111111111111111,
             "#46039f"
            ],
            [
             0.2222222222222222,
             "#7201a8"
            ],
            [
             0.3333333333333333,
             "#9c179e"
            ],
            [
             0.4444444444444444,
             "#bd3786"
            ],
            [
             0.5555555555555556,
             "#d8576b"
            ],
            [
             0.6666666666666666,
             "#ed7953"
            ],
            [
             0.7777777777777778,
             "#fb9f3a"
            ],
            [
             0.8888888888888888,
             "#fdca26"
            ],
            [
             1,
             "#f0f921"
            ]
           ]
          },
          "colorway": [
           "#636efa",
           "#EF553B",
           "#00cc96",
           "#ab63fa",
           "#FFA15A",
           "#19d3f3",
           "#FF6692",
           "#B6E880",
           "#FF97FF",
           "#FECB52"
          ],
          "font": {
           "color": "#2a3f5f"
          },
          "geo": {
           "bgcolor": "white",
           "lakecolor": "white",
           "landcolor": "#E5ECF6",
           "showlakes": true,
           "showland": true,
           "subunitcolor": "white"
          },
          "hoverlabel": {
           "align": "left"
          },
          "hovermode": "closest",
          "mapbox": {
           "style": "light"
          },
          "paper_bgcolor": "white",
          "plot_bgcolor": "#E5ECF6",
          "polar": {
           "angularaxis": {
            "gridcolor": "white",
            "linecolor": "white",
            "ticks": ""
           },
           "bgcolor": "#E5ECF6",
           "radialaxis": {
            "gridcolor": "white",
            "linecolor": "white",
            "ticks": ""
           }
          },
          "scene": {
           "xaxis": {
            "backgroundcolor": "#E5ECF6",
            "gridcolor": "white",
            "gridwidth": 2,
            "linecolor": "white",
            "showbackground": true,
            "ticks": "",
            "zerolinecolor": "white"
           },
           "yaxis": {
            "backgroundcolor": "#E5ECF6",
            "gridcolor": "white",
            "gridwidth": 2,
            "linecolor": "white",
            "showbackground": true,
            "ticks": "",
            "zerolinecolor": "white"
           },
           "zaxis": {
            "backgroundcolor": "#E5ECF6",
            "gridcolor": "white",
            "gridwidth": 2,
            "linecolor": "white",
            "showbackground": true,
            "ticks": "",
            "zerolinecolor": "white"
           }
          },
          "shapedefaults": {
           "line": {
            "color": "#2a3f5f"
           }
          },
          "ternary": {
           "aaxis": {
            "gridcolor": "white",
            "linecolor": "white",
            "ticks": ""
           },
           "baxis": {
            "gridcolor": "white",
            "linecolor": "white",
            "ticks": ""
           },
           "bgcolor": "#E5ECF6",
           "caxis": {
            "gridcolor": "white",
            "linecolor": "white",
            "ticks": ""
           }
          },
          "title": {
           "x": 0.05
          },
          "xaxis": {
           "automargin": true,
           "gridcolor": "white",
           "linecolor": "white",
           "ticks": "",
           "title": {
            "standoff": 15
           },
           "zerolinecolor": "white",
           "zerolinewidth": 2
          },
          "yaxis": {
           "automargin": true,
           "gridcolor": "white",
           "linecolor": "white",
           "ticks": "",
           "title": {
            "standoff": 15
           },
           "zerolinecolor": "white",
           "zerolinewidth": 2
          }
         }
        },
        "title": {
         "font": {
          "color": "#4D5663"
         }
        },
        "xaxis": {
         "gridcolor": "#E1E5ED",
         "showgrid": true,
         "tickfont": {
          "color": "#4D5663"
         },
         "title": {
          "font": {
           "color": "#4D5663"
          },
          "text": ""
         },
         "zerolinecolor": "#E1E5ED"
        },
        "yaxis": {
         "gridcolor": "#E1E5ED",
         "showgrid": true,
         "tickfont": {
          "color": "#4D5663"
         },
         "title": {
          "font": {
           "color": "#4D5663"
          },
          "text": ""
         },
         "zerolinecolor": "#E1E5ED"
        }
       }
      },
      "text/html": [
       "<div>                            <div id=\"76a6c751-12f1-4403-983f-672c7f490733\" class=\"plotly-graph-div\" style=\"height:525px; width:100%;\"></div>            <script type=\"text/javascript\">                require([\"plotly\"], function(Plotly) {                    window.PLOTLYENV=window.PLOTLYENV || {};\n",
       "                    window.PLOTLYENV.BASE_URL='https://plot.ly';                                    if (document.getElementById(\"76a6c751-12f1-4403-983f-672c7f490733\")) {                    Plotly.newPlot(                        \"76a6c751-12f1-4403-983f-672c7f490733\",                        [{\"line\": {\"color\": \"rgba(255, 153, 51, 1.0)\", \"dash\": \"solid\", \"shape\": \"linear\", \"width\": 1.3}, \"mode\": \"lines\", \"name\": \"B\", \"text\": \"\", \"type\": \"scatter\", \"x\": [-0.07626798862524346, 0.22540134756441488, -0.8057647977006603, 0.3775230577282411, -0.1680604099266579, 0.8713582072512306, -0.08016296132520627, 2.0793375312602986, 0.6174946047522917, 1.3470244023614335, -0.45534748125031793, 1.1567776506639353, -0.8740526020125177, -0.037407388938710644, 0.5532512221426178, -1.051190550010996, -0.35056999351700524, 1.071823066376621, 0.9093892370915182, -1.0488537815283008, -0.4599270555168315, 1.8602051198265883, -0.8249352680142302, -1.5106002057662986, 0.0996067858587673, -0.9955831080121025, -1.1743481536862996, 0.798495220365897, 2.135298305419711, -0.918373544679037, -1.3292049671635469, -1.482014934583836, 0.4658513332948664, 1.7175357781491922, -0.1606077083412937, 0.5805593871078475, -0.2538847588879203, 1.0542215320006398, -0.4301439180270131, -1.2014952657868243, 0.4460530424636575, -0.38016505214183166, 1.187504657276655, 1.0092529666759915, 0.5276280783314551, -2.3146759442720812, -0.9726633353919516, -1.4651901913239982, -0.8517523630692322, -2.317281604613853, -0.14261933190625772, -2.077146476047186, -0.3251807441512565, 0.1319632239823357, 0.7486045945026552, 0.33685670014918506, -0.037845194242645784, -1.3667973040236276, 0.7727164075726849, -1.2011494900729764, 0.2691153645066599, -0.7673187313510428, 0.7313925705637623, 0.27488086113873705, -0.21474757848854253, 0.9183127839848029, 0.20274982610001047, -1.2321068101491492, 2.2023622350450003, 0.22588488340486504, -0.21025110889818346, -0.06932808427719565, -0.330211178580367, -1.1630223928019472, 0.3991187829537466, 0.26561049183638635, 0.2489546357507444, -1.0363391210443667, 0.28072456627802256, -1.4258804403303178, 0.34187592095465646, -1.1053725354624688, -0.7016568221765985, 0.3193171141371305, -1.6882672411213937, -0.6384005418166574, 1.1931023903017663, -1.079295557921701, 0.953153121390354, 0.4535569514855566, -0.6142109560790182, 1.7927716591736043, -2.0886630176573466, -0.647956166935598, -0.5679356570104203, 0.6153764784573306, 1.211953758491585, -1.516211074458471, -0.6678919354224481, 0.7549092172063453], \"y\": [-0.740902655559266, -0.08310433278810744, -1.251683393405426, -1.204225704833254, 1.0143348303407134, -1.0161633496549207, -1.7583971257729267, 1.4521908459282145, -0.480368906287327, 0.5131858057305899, 0.27503721587001323, 1.290465634875162, 1.1124276711007453, -1.4899235118041922, 0.38697483901701935, 0.4129744286146979, 2.095129686566982, 0.8399787083500704, 0.6710525662253761, -0.4681469240612532, 2.1194359317570535, 1.038915191126487, -0.7172554535302076, 0.5688903859711237, 0.826646992545889, 0.09105518538007447, -0.589810469872444, -0.1525563108196747, -0.3633806409535802, 0.2692246496286448, -0.1395863420602316, 0.6420796882555284, -0.3895501220033279, -0.6842852202025996, -0.0662269940405855, -2.6265164759204436, -0.9020476303540725, -0.4167566139166744, 0.7135005499949627, -1.094409509953378, -1.7596727501739213, -1.3221416350039188, -1.165871915271899, -0.17725703007771632, 0.07750703246294158, -0.4058509152122095, 1.0113863879667255, 1.1743453857185353, 0.1522145118031781, -0.7226455063181879, -0.9955570686188059, 0.2765818865175756, -1.3549808500418952, 1.337102837580037, -0.08188136453619636, -1.04472177658133, 0.7038632224719813, -1.2644862932195187, 0.3524073622222112, -0.46797925694821996, 0.6379518560397109, 0.5978368539603639, 0.1896862075086954, 0.01498863199058901, 0.6737610775168448, -0.2093368496264277, -0.4445627663438925, -0.5225801896099493, 0.11252918692066753, 0.8218878151077612, -0.8365245614729655, -0.8260737556521454, 0.821246020726017, 1.7053976790292478, 0.9591926546787697, 1.0830800300363144, -0.7458624482789284, 0.00978102219508137, -0.9888119728575078, -1.0526562671556607, -0.48038870163723124, -0.6569719817113063, -0.848735736192335, 2.190392250125886, 0.8904709443200586, -0.24858231907030764, 0.9716461842773628, -1.0724720077866086, 0.15156616663461042, 0.36165937700608153, -0.7221361260002299, -2.0364234750392334, -0.6879418802528297, -0.40851358835174423, 0.9529887543414152, -0.15851581650574076, -1.4341531957352023, 0.1659117333162127, 2.344432739425215, 0.23891550498788275]}],                        {\"legend\": {\"bgcolor\": \"#F5F6F9\", \"font\": {\"color\": \"#4D5663\"}}, \"paper_bgcolor\": \"#F5F6F9\", \"plot_bgcolor\": \"#F5F6F9\", \"template\": {\"data\": {\"bar\": [{\"error_x\": {\"color\": \"#2a3f5f\"}, \"error_y\": {\"color\": \"#2a3f5f\"}, \"marker\": {\"line\": {\"color\": \"#E5ECF6\", \"width\": 0.5}}, \"type\": \"bar\"}], \"barpolar\": [{\"marker\": {\"line\": {\"color\": \"#E5ECF6\", \"width\": 0.5}}, \"type\": \"barpolar\"}], \"carpet\": [{\"aaxis\": {\"endlinecolor\": \"#2a3f5f\", \"gridcolor\": \"white\", \"linecolor\": \"white\", \"minorgridcolor\": \"white\", \"startlinecolor\": \"#2a3f5f\"}, \"baxis\": {\"endlinecolor\": \"#2a3f5f\", \"gridcolor\": \"white\", \"linecolor\": \"white\", \"minorgridcolor\": \"white\", \"startlinecolor\": \"#2a3f5f\"}, \"type\": \"carpet\"}], \"choropleth\": [{\"colorbar\": {\"outlinewidth\": 0, \"ticks\": \"\"}, \"type\": \"choropleth\"}], \"contour\": [{\"colorbar\": {\"outlinewidth\": 0, \"ticks\": \"\"}, \"colorscale\": [[0.0, \"#0d0887\"], [0.1111111111111111, \"#46039f\"], [0.2222222222222222, \"#7201a8\"], [0.3333333333333333, \"#9c179e\"], [0.4444444444444444, \"#bd3786\"], [0.5555555555555556, \"#d8576b\"], [0.6666666666666666, \"#ed7953\"], [0.7777777777777778, \"#fb9f3a\"], [0.8888888888888888, \"#fdca26\"], [1.0, \"#f0f921\"]], \"type\": \"contour\"}], \"contourcarpet\": [{\"colorbar\": {\"outlinewidth\": 0, \"ticks\": \"\"}, \"type\": \"contourcarpet\"}], \"heatmap\": [{\"colorbar\": {\"outlinewidth\": 0, \"ticks\": \"\"}, \"colorscale\": [[0.0, \"#0d0887\"], [0.1111111111111111, \"#46039f\"], [0.2222222222222222, \"#7201a8\"], [0.3333333333333333, \"#9c179e\"], [0.4444444444444444, \"#bd3786\"], [0.5555555555555556, \"#d8576b\"], [0.6666666666666666, \"#ed7953\"], [0.7777777777777778, \"#fb9f3a\"], [0.8888888888888888, \"#fdca26\"], [1.0, \"#f0f921\"]], \"type\": \"heatmap\"}], \"heatmapgl\": [{\"colorbar\": {\"outlinewidth\": 0, \"ticks\": \"\"}, \"colorscale\": [[0.0, \"#0d0887\"], [0.1111111111111111, \"#46039f\"], [0.2222222222222222, \"#7201a8\"], [0.3333333333333333, \"#9c179e\"], [0.4444444444444444, \"#bd3786\"], [0.5555555555555556, \"#d8576b\"], [0.6666666666666666, \"#ed7953\"], [0.7777777777777778, \"#fb9f3a\"], [0.8888888888888888, \"#fdca26\"], [1.0, \"#f0f921\"]], \"type\": \"heatmapgl\"}], \"histogram\": [{\"marker\": {\"colorbar\": {\"outlinewidth\": 0, \"ticks\": \"\"}}, \"type\": \"histogram\"}], \"histogram2d\": [{\"colorbar\": {\"outlinewidth\": 0, \"ticks\": \"\"}, \"colorscale\": [[0.0, \"#0d0887\"], [0.1111111111111111, \"#46039f\"], [0.2222222222222222, \"#7201a8\"], [0.3333333333333333, \"#9c179e\"], [0.4444444444444444, \"#bd3786\"], [0.5555555555555556, \"#d8576b\"], [0.6666666666666666, \"#ed7953\"], [0.7777777777777778, \"#fb9f3a\"], [0.8888888888888888, \"#fdca26\"], [1.0, \"#f0f921\"]], \"type\": \"histogram2d\"}], \"histogram2dcontour\": [{\"colorbar\": {\"outlinewidth\": 0, \"ticks\": \"\"}, \"colorscale\": [[0.0, \"#0d0887\"], [0.1111111111111111, \"#46039f\"], [0.2222222222222222, \"#7201a8\"], [0.3333333333333333, \"#9c179e\"], [0.4444444444444444, \"#bd3786\"], [0.5555555555555556, \"#d8576b\"], [0.6666666666666666, \"#ed7953\"], [0.7777777777777778, \"#fb9f3a\"], [0.8888888888888888, \"#fdca26\"], [1.0, \"#f0f921\"]], \"type\": \"histogram2dcontour\"}], \"mesh3d\": [{\"colorbar\": {\"outlinewidth\": 0, \"ticks\": \"\"}, \"type\": \"mesh3d\"}], \"parcoords\": [{\"line\": {\"colorbar\": {\"outlinewidth\": 0, \"ticks\": \"\"}}, \"type\": \"parcoords\"}], \"pie\": [{\"automargin\": true, \"type\": \"pie\"}], \"scatter\": [{\"marker\": {\"colorbar\": {\"outlinewidth\": 0, \"ticks\": \"\"}}, \"type\": \"scatter\"}], \"scatter3d\": [{\"line\": {\"colorbar\": {\"outlinewidth\": 0, \"ticks\": \"\"}}, \"marker\": {\"colorbar\": {\"outlinewidth\": 0, \"ticks\": \"\"}}, \"type\": \"scatter3d\"}], \"scattercarpet\": [{\"marker\": {\"colorbar\": {\"outlinewidth\": 0, \"ticks\": \"\"}}, \"type\": \"scattercarpet\"}], \"scattergeo\": [{\"marker\": {\"colorbar\": {\"outlinewidth\": 0, \"ticks\": \"\"}}, \"type\": \"scattergeo\"}], \"scattergl\": [{\"marker\": {\"colorbar\": {\"outlinewidth\": 0, \"ticks\": \"\"}}, \"type\": \"scattergl\"}], \"scattermapbox\": [{\"marker\": {\"colorbar\": {\"outlinewidth\": 0, \"ticks\": \"\"}}, \"type\": \"scattermapbox\"}], \"scatterpolar\": [{\"marker\": {\"colorbar\": {\"outlinewidth\": 0, \"ticks\": \"\"}}, \"type\": \"scatterpolar\"}], \"scatterpolargl\": [{\"marker\": {\"colorbar\": {\"outlinewidth\": 0, \"ticks\": \"\"}}, \"type\": \"scatterpolargl\"}], \"scatterternary\": [{\"marker\": {\"colorbar\": {\"outlinewidth\": 0, \"ticks\": \"\"}}, \"type\": \"scatterternary\"}], \"surface\": [{\"colorbar\": {\"outlinewidth\": 0, \"ticks\": \"\"}, \"colorscale\": [[0.0, \"#0d0887\"], [0.1111111111111111, \"#46039f\"], [0.2222222222222222, \"#7201a8\"], [0.3333333333333333, \"#9c179e\"], [0.4444444444444444, \"#bd3786\"], [0.5555555555555556, \"#d8576b\"], [0.6666666666666666, \"#ed7953\"], [0.7777777777777778, \"#fb9f3a\"], [0.8888888888888888, \"#fdca26\"], [1.0, \"#f0f921\"]], \"type\": \"surface\"}], \"table\": [{\"cells\": {\"fill\": {\"color\": \"#EBF0F8\"}, \"line\": {\"color\": \"white\"}}, \"header\": {\"fill\": {\"color\": \"#C8D4E3\"}, \"line\": {\"color\": \"white\"}}, \"type\": \"table\"}]}, \"layout\": {\"annotationdefaults\": {\"arrowcolor\": \"#2a3f5f\", \"arrowhead\": 0, \"arrowwidth\": 1}, \"autotypenumbers\": \"strict\", \"coloraxis\": {\"colorbar\": {\"outlinewidth\": 0, \"ticks\": \"\"}}, \"colorscale\": {\"diverging\": [[0, \"#8e0152\"], [0.1, \"#c51b7d\"], [0.2, \"#de77ae\"], [0.3, \"#f1b6da\"], [0.4, \"#fde0ef\"], [0.5, \"#f7f7f7\"], [0.6, \"#e6f5d0\"], [0.7, \"#b8e186\"], [0.8, \"#7fbc41\"], [0.9, \"#4d9221\"], [1, \"#276419\"]], \"sequential\": [[0.0, \"#0d0887\"], [0.1111111111111111, \"#46039f\"], [0.2222222222222222, \"#7201a8\"], [0.3333333333333333, \"#9c179e\"], [0.4444444444444444, \"#bd3786\"], [0.5555555555555556, \"#d8576b\"], [0.6666666666666666, \"#ed7953\"], [0.7777777777777778, \"#fb9f3a\"], [0.8888888888888888, \"#fdca26\"], [1.0, \"#f0f921\"]], \"sequentialminus\": [[0.0, \"#0d0887\"], [0.1111111111111111, \"#46039f\"], [0.2222222222222222, \"#7201a8\"], [0.3333333333333333, \"#9c179e\"], [0.4444444444444444, \"#bd3786\"], [0.5555555555555556, \"#d8576b\"], [0.6666666666666666, \"#ed7953\"], [0.7777777777777778, \"#fb9f3a\"], [0.8888888888888888, \"#fdca26\"], [1.0, \"#f0f921\"]]}, \"colorway\": [\"#636efa\", \"#EF553B\", \"#00cc96\", \"#ab63fa\", \"#FFA15A\", \"#19d3f3\", \"#FF6692\", \"#B6E880\", \"#FF97FF\", \"#FECB52\"], \"font\": {\"color\": \"#2a3f5f\"}, \"geo\": {\"bgcolor\": \"white\", \"lakecolor\": \"white\", \"landcolor\": \"#E5ECF6\", \"showlakes\": true, \"showland\": true, \"subunitcolor\": \"white\"}, \"hoverlabel\": {\"align\": \"left\"}, \"hovermode\": \"closest\", \"mapbox\": {\"style\": \"light\"}, \"paper_bgcolor\": \"white\", \"plot_bgcolor\": \"#E5ECF6\", \"polar\": {\"angularaxis\": {\"gridcolor\": \"white\", \"linecolor\": \"white\", \"ticks\": \"\"}, \"bgcolor\": \"#E5ECF6\", \"radialaxis\": {\"gridcolor\": \"white\", \"linecolor\": \"white\", \"ticks\": \"\"}}, \"scene\": {\"xaxis\": {\"backgroundcolor\": \"#E5ECF6\", \"gridcolor\": \"white\", \"gridwidth\": 2, \"linecolor\": \"white\", \"showbackground\": true, \"ticks\": \"\", \"zerolinecolor\": \"white\"}, \"yaxis\": {\"backgroundcolor\": \"#E5ECF6\", \"gridcolor\": \"white\", \"gridwidth\": 2, \"linecolor\": \"white\", \"showbackground\": true, \"ticks\": \"\", \"zerolinecolor\": \"white\"}, \"zaxis\": {\"backgroundcolor\": \"#E5ECF6\", \"gridcolor\": \"white\", \"gridwidth\": 2, \"linecolor\": \"white\", \"showbackground\": true, \"ticks\": \"\", \"zerolinecolor\": \"white\"}}, \"shapedefaults\": {\"line\": {\"color\": \"#2a3f5f\"}}, \"ternary\": {\"aaxis\": {\"gridcolor\": \"white\", \"linecolor\": \"white\", \"ticks\": \"\"}, \"baxis\": {\"gridcolor\": \"white\", \"linecolor\": \"white\", \"ticks\": \"\"}, \"bgcolor\": \"#E5ECF6\", \"caxis\": {\"gridcolor\": \"white\", \"linecolor\": \"white\", \"ticks\": \"\"}}, \"title\": {\"x\": 0.05}, \"xaxis\": {\"automargin\": true, \"gridcolor\": \"white\", \"linecolor\": \"white\", \"ticks\": \"\", \"title\": {\"standoff\": 15}, \"zerolinecolor\": \"white\", \"zerolinewidth\": 2}, \"yaxis\": {\"automargin\": true, \"gridcolor\": \"white\", \"linecolor\": \"white\", \"ticks\": \"\", \"title\": {\"standoff\": 15}, \"zerolinecolor\": \"white\", \"zerolinewidth\": 2}}}, \"title\": {\"font\": {\"color\": \"#4D5663\"}}, \"xaxis\": {\"gridcolor\": \"#E1E5ED\", \"showgrid\": true, \"tickfont\": {\"color\": \"#4D5663\"}, \"title\": {\"font\": {\"color\": \"#4D5663\"}, \"text\": \"\"}, \"zerolinecolor\": \"#E1E5ED\"}, \"yaxis\": {\"gridcolor\": \"#E1E5ED\", \"showgrid\": true, \"tickfont\": {\"color\": \"#4D5663\"}, \"title\": {\"font\": {\"color\": \"#4D5663\"}, \"text\": \"\"}, \"zerolinecolor\": \"#E1E5ED\"}},                        {\"showLink\": true, \"linkText\": \"Export to plot.ly\", \"plotlyServerURL\": \"https://plot.ly\", \"responsive\": true}                    ).then(function(){\n",
       "                            \n",
       "var gd = document.getElementById('76a6c751-12f1-4403-983f-672c7f490733');\n",
       "var x = new MutationObserver(function (mutations, observer) {{\n",
       "        var display = window.getComputedStyle(gd).display;\n",
       "        if (!display || display === 'none') {{\n",
       "            console.log([gd, 'removed!']);\n",
       "            Plotly.purge(gd);\n",
       "            observer.disconnect();\n",
       "        }}\n",
       "}});\n",
       "\n",
       "// Listen for the removal of the full notebook cells\n",
       "var notebookContainer = gd.closest('#notebook-container');\n",
       "if (notebookContainer) {{\n",
       "    x.observe(notebookContainer, {childList: true});\n",
       "}}\n",
       "\n",
       "// Listen for the clearing of the current output cell\n",
       "var outputEl = gd.closest('.output');\n",
       "if (outputEl) {{\n",
       "    x.observe(outputEl, {childList: true});\n",
       "}}\n",
       "\n",
       "                        })                };                });            </script>        </div>"
      ]
     },
     "metadata": {},
     "output_type": "display_data"
    }
   ],
   "source": [
    "df.iplot(kind='scatter', x='A', y='B')"
   ]
  },
  {
   "cell_type": "markdown",
   "metadata": {},
   "source": [
    "Acima, eu tentei fazer um Scatterplot, semelhante ao que fizemos no Seaborn, porém veja que a plotagem acima não faz muito sentido. Isso porque faltou eu especificar o argumento **mode**. Veja abaixo:"
   ]
  },
  {
   "cell_type": "code",
   "execution_count": 11,
   "metadata": {},
   "outputs": [
    {
     "data": {
      "application/vnd.plotly.v1+json": {
       "config": {
        "linkText": "Export to plot.ly",
        "plotlyServerURL": "https://plot.ly",
        "showLink": true
       },
       "data": [
        {
         "line": {
          "color": "rgba(255, 153, 51, 1.0)",
          "dash": "solid",
          "shape": "linear",
          "width": 1.3
         },
         "marker": {
          "size": 12,
          "symbol": "circle"
         },
         "mode": "markers",
         "name": "B",
         "text": "",
         "type": "scatter",
         "x": [
          -0.07626798862524346,
          0.22540134756441488,
          -0.8057647977006603,
          0.3775230577282411,
          -0.1680604099266579,
          0.8713582072512306,
          -0.08016296132520627,
          2.0793375312602986,
          0.6174946047522917,
          1.3470244023614335,
          -0.45534748125031793,
          1.1567776506639353,
          -0.8740526020125177,
          -0.037407388938710644,
          0.5532512221426178,
          -1.051190550010996,
          -0.35056999351700524,
          1.071823066376621,
          0.9093892370915182,
          -1.0488537815283008,
          -0.4599270555168315,
          1.8602051198265883,
          -0.8249352680142302,
          -1.5106002057662986,
          0.0996067858587673,
          -0.9955831080121025,
          -1.1743481536862996,
          0.798495220365897,
          2.135298305419711,
          -0.918373544679037,
          -1.3292049671635469,
          -1.482014934583836,
          0.4658513332948664,
          1.7175357781491922,
          -0.1606077083412937,
          0.5805593871078475,
          -0.2538847588879203,
          1.0542215320006398,
          -0.4301439180270131,
          -1.2014952657868243,
          0.4460530424636575,
          -0.38016505214183166,
          1.187504657276655,
          1.0092529666759915,
          0.5276280783314551,
          -2.3146759442720812,
          -0.9726633353919516,
          -1.4651901913239982,
          -0.8517523630692322,
          -2.317281604613853,
          -0.14261933190625772,
          -2.077146476047186,
          -0.3251807441512565,
          0.1319632239823357,
          0.7486045945026552,
          0.33685670014918506,
          -0.037845194242645784,
          -1.3667973040236276,
          0.7727164075726849,
          -1.2011494900729764,
          0.2691153645066599,
          -0.7673187313510428,
          0.7313925705637623,
          0.27488086113873705,
          -0.21474757848854253,
          0.9183127839848029,
          0.20274982610001047,
          -1.2321068101491492,
          2.2023622350450003,
          0.22588488340486504,
          -0.21025110889818346,
          -0.06932808427719565,
          -0.330211178580367,
          -1.1630223928019472,
          0.3991187829537466,
          0.26561049183638635,
          0.2489546357507444,
          -1.0363391210443667,
          0.28072456627802256,
          -1.4258804403303178,
          0.34187592095465646,
          -1.1053725354624688,
          -0.7016568221765985,
          0.3193171141371305,
          -1.6882672411213937,
          -0.6384005418166574,
          1.1931023903017663,
          -1.079295557921701,
          0.953153121390354,
          0.4535569514855566,
          -0.6142109560790182,
          1.7927716591736043,
          -2.0886630176573466,
          -0.647956166935598,
          -0.5679356570104203,
          0.6153764784573306,
          1.211953758491585,
          -1.516211074458471,
          -0.6678919354224481,
          0.7549092172063453
         ],
         "y": [
          -0.740902655559266,
          -0.08310433278810744,
          -1.251683393405426,
          -1.204225704833254,
          1.0143348303407134,
          -1.0161633496549207,
          -1.7583971257729267,
          1.4521908459282145,
          -0.480368906287327,
          0.5131858057305899,
          0.27503721587001323,
          1.290465634875162,
          1.1124276711007453,
          -1.4899235118041922,
          0.38697483901701935,
          0.4129744286146979,
          2.095129686566982,
          0.8399787083500704,
          0.6710525662253761,
          -0.4681469240612532,
          2.1194359317570535,
          1.038915191126487,
          -0.7172554535302076,
          0.5688903859711237,
          0.826646992545889,
          0.09105518538007447,
          -0.589810469872444,
          -0.1525563108196747,
          -0.3633806409535802,
          0.2692246496286448,
          -0.1395863420602316,
          0.6420796882555284,
          -0.3895501220033279,
          -0.6842852202025996,
          -0.0662269940405855,
          -2.6265164759204436,
          -0.9020476303540725,
          -0.4167566139166744,
          0.7135005499949627,
          -1.094409509953378,
          -1.7596727501739213,
          -1.3221416350039188,
          -1.165871915271899,
          -0.17725703007771632,
          0.07750703246294158,
          -0.4058509152122095,
          1.0113863879667255,
          1.1743453857185353,
          0.1522145118031781,
          -0.7226455063181879,
          -0.9955570686188059,
          0.2765818865175756,
          -1.3549808500418952,
          1.337102837580037,
          -0.08188136453619636,
          -1.04472177658133,
          0.7038632224719813,
          -1.2644862932195187,
          0.3524073622222112,
          -0.46797925694821996,
          0.6379518560397109,
          0.5978368539603639,
          0.1896862075086954,
          0.01498863199058901,
          0.6737610775168448,
          -0.2093368496264277,
          -0.4445627663438925,
          -0.5225801896099493,
          0.11252918692066753,
          0.8218878151077612,
          -0.8365245614729655,
          -0.8260737556521454,
          0.821246020726017,
          1.7053976790292478,
          0.9591926546787697,
          1.0830800300363144,
          -0.7458624482789284,
          0.00978102219508137,
          -0.9888119728575078,
          -1.0526562671556607,
          -0.48038870163723124,
          -0.6569719817113063,
          -0.848735736192335,
          2.190392250125886,
          0.8904709443200586,
          -0.24858231907030764,
          0.9716461842773628,
          -1.0724720077866086,
          0.15156616663461042,
          0.36165937700608153,
          -0.7221361260002299,
          -2.0364234750392334,
          -0.6879418802528297,
          -0.40851358835174423,
          0.9529887543414152,
          -0.15851581650574076,
          -1.4341531957352023,
          0.1659117333162127,
          2.344432739425215,
          0.23891550498788275
         ]
        }
       ],
       "layout": {
        "legend": {
         "bgcolor": "#F5F6F9",
         "font": {
          "color": "#4D5663"
         }
        },
        "paper_bgcolor": "#F5F6F9",
        "plot_bgcolor": "#F5F6F9",
        "template": {
         "data": {
          "bar": [
           {
            "error_x": {
             "color": "#2a3f5f"
            },
            "error_y": {
             "color": "#2a3f5f"
            },
            "marker": {
             "line": {
              "color": "#E5ECF6",
              "width": 0.5
             }
            },
            "type": "bar"
           }
          ],
          "barpolar": [
           {
            "marker": {
             "line": {
              "color": "#E5ECF6",
              "width": 0.5
             }
            },
            "type": "barpolar"
           }
          ],
          "carpet": [
           {
            "aaxis": {
             "endlinecolor": "#2a3f5f",
             "gridcolor": "white",
             "linecolor": "white",
             "minorgridcolor": "white",
             "startlinecolor": "#2a3f5f"
            },
            "baxis": {
             "endlinecolor": "#2a3f5f",
             "gridcolor": "white",
             "linecolor": "white",
             "minorgridcolor": "white",
             "startlinecolor": "#2a3f5f"
            },
            "type": "carpet"
           }
          ],
          "choropleth": [
           {
            "colorbar": {
             "outlinewidth": 0,
             "ticks": ""
            },
            "type": "choropleth"
           }
          ],
          "contour": [
           {
            "colorbar": {
             "outlinewidth": 0,
             "ticks": ""
            },
            "colorscale": [
             [
              0,
              "#0d0887"
             ],
             [
              0.1111111111111111,
              "#46039f"
             ],
             [
              0.2222222222222222,
              "#7201a8"
             ],
             [
              0.3333333333333333,
              "#9c179e"
             ],
             [
              0.4444444444444444,
              "#bd3786"
             ],
             [
              0.5555555555555556,
              "#d8576b"
             ],
             [
              0.6666666666666666,
              "#ed7953"
             ],
             [
              0.7777777777777778,
              "#fb9f3a"
             ],
             [
              0.8888888888888888,
              "#fdca26"
             ],
             [
              1,
              "#f0f921"
             ]
            ],
            "type": "contour"
           }
          ],
          "contourcarpet": [
           {
            "colorbar": {
             "outlinewidth": 0,
             "ticks": ""
            },
            "type": "contourcarpet"
           }
          ],
          "heatmap": [
           {
            "colorbar": {
             "outlinewidth": 0,
             "ticks": ""
            },
            "colorscale": [
             [
              0,
              "#0d0887"
             ],
             [
              0.1111111111111111,
              "#46039f"
             ],
             [
              0.2222222222222222,
              "#7201a8"
             ],
             [
              0.3333333333333333,
              "#9c179e"
             ],
             [
              0.4444444444444444,
              "#bd3786"
             ],
             [
              0.5555555555555556,
              "#d8576b"
             ],
             [
              0.6666666666666666,
              "#ed7953"
             ],
             [
              0.7777777777777778,
              "#fb9f3a"
             ],
             [
              0.8888888888888888,
              "#fdca26"
             ],
             [
              1,
              "#f0f921"
             ]
            ],
            "type": "heatmap"
           }
          ],
          "heatmapgl": [
           {
            "colorbar": {
             "outlinewidth": 0,
             "ticks": ""
            },
            "colorscale": [
             [
              0,
              "#0d0887"
             ],
             [
              0.1111111111111111,
              "#46039f"
             ],
             [
              0.2222222222222222,
              "#7201a8"
             ],
             [
              0.3333333333333333,
              "#9c179e"
             ],
             [
              0.4444444444444444,
              "#bd3786"
             ],
             [
              0.5555555555555556,
              "#d8576b"
             ],
             [
              0.6666666666666666,
              "#ed7953"
             ],
             [
              0.7777777777777778,
              "#fb9f3a"
             ],
             [
              0.8888888888888888,
              "#fdca26"
             ],
             [
              1,
              "#f0f921"
             ]
            ],
            "type": "heatmapgl"
           }
          ],
          "histogram": [
           {
            "marker": {
             "colorbar": {
              "outlinewidth": 0,
              "ticks": ""
             }
            },
            "type": "histogram"
           }
          ],
          "histogram2d": [
           {
            "colorbar": {
             "outlinewidth": 0,
             "ticks": ""
            },
            "colorscale": [
             [
              0,
              "#0d0887"
             ],
             [
              0.1111111111111111,
              "#46039f"
             ],
             [
              0.2222222222222222,
              "#7201a8"
             ],
             [
              0.3333333333333333,
              "#9c179e"
             ],
             [
              0.4444444444444444,
              "#bd3786"
             ],
             [
              0.5555555555555556,
              "#d8576b"
             ],
             [
              0.6666666666666666,
              "#ed7953"
             ],
             [
              0.7777777777777778,
              "#fb9f3a"
             ],
             [
              0.8888888888888888,
              "#fdca26"
             ],
             [
              1,
              "#f0f921"
             ]
            ],
            "type": "histogram2d"
           }
          ],
          "histogram2dcontour": [
           {
            "colorbar": {
             "outlinewidth": 0,
             "ticks": ""
            },
            "colorscale": [
             [
              0,
              "#0d0887"
             ],
             [
              0.1111111111111111,
              "#46039f"
             ],
             [
              0.2222222222222222,
              "#7201a8"
             ],
             [
              0.3333333333333333,
              "#9c179e"
             ],
             [
              0.4444444444444444,
              "#bd3786"
             ],
             [
              0.5555555555555556,
              "#d8576b"
             ],
             [
              0.6666666666666666,
              "#ed7953"
             ],
             [
              0.7777777777777778,
              "#fb9f3a"
             ],
             [
              0.8888888888888888,
              "#fdca26"
             ],
             [
              1,
              "#f0f921"
             ]
            ],
            "type": "histogram2dcontour"
           }
          ],
          "mesh3d": [
           {
            "colorbar": {
             "outlinewidth": 0,
             "ticks": ""
            },
            "type": "mesh3d"
           }
          ],
          "parcoords": [
           {
            "line": {
             "colorbar": {
              "outlinewidth": 0,
              "ticks": ""
             }
            },
            "type": "parcoords"
           }
          ],
          "pie": [
           {
            "automargin": true,
            "type": "pie"
           }
          ],
          "scatter": [
           {
            "marker": {
             "colorbar": {
              "outlinewidth": 0,
              "ticks": ""
             }
            },
            "type": "scatter"
           }
          ],
          "scatter3d": [
           {
            "line": {
             "colorbar": {
              "outlinewidth": 0,
              "ticks": ""
             }
            },
            "marker": {
             "colorbar": {
              "outlinewidth": 0,
              "ticks": ""
             }
            },
            "type": "scatter3d"
           }
          ],
          "scattercarpet": [
           {
            "marker": {
             "colorbar": {
              "outlinewidth": 0,
              "ticks": ""
             }
            },
            "type": "scattercarpet"
           }
          ],
          "scattergeo": [
           {
            "marker": {
             "colorbar": {
              "outlinewidth": 0,
              "ticks": ""
             }
            },
            "type": "scattergeo"
           }
          ],
          "scattergl": [
           {
            "marker": {
             "colorbar": {
              "outlinewidth": 0,
              "ticks": ""
             }
            },
            "type": "scattergl"
           }
          ],
          "scattermapbox": [
           {
            "marker": {
             "colorbar": {
              "outlinewidth": 0,
              "ticks": ""
             }
            },
            "type": "scattermapbox"
           }
          ],
          "scatterpolar": [
           {
            "marker": {
             "colorbar": {
              "outlinewidth": 0,
              "ticks": ""
             }
            },
            "type": "scatterpolar"
           }
          ],
          "scatterpolargl": [
           {
            "marker": {
             "colorbar": {
              "outlinewidth": 0,
              "ticks": ""
             }
            },
            "type": "scatterpolargl"
           }
          ],
          "scatterternary": [
           {
            "marker": {
             "colorbar": {
              "outlinewidth": 0,
              "ticks": ""
             }
            },
            "type": "scatterternary"
           }
          ],
          "surface": [
           {
            "colorbar": {
             "outlinewidth": 0,
             "ticks": ""
            },
            "colorscale": [
             [
              0,
              "#0d0887"
             ],
             [
              0.1111111111111111,
              "#46039f"
             ],
             [
              0.2222222222222222,
              "#7201a8"
             ],
             [
              0.3333333333333333,
              "#9c179e"
             ],
             [
              0.4444444444444444,
              "#bd3786"
             ],
             [
              0.5555555555555556,
              "#d8576b"
             ],
             [
              0.6666666666666666,
              "#ed7953"
             ],
             [
              0.7777777777777778,
              "#fb9f3a"
             ],
             [
              0.8888888888888888,
              "#fdca26"
             ],
             [
              1,
              "#f0f921"
             ]
            ],
            "type": "surface"
           }
          ],
          "table": [
           {
            "cells": {
             "fill": {
              "color": "#EBF0F8"
             },
             "line": {
              "color": "white"
             }
            },
            "header": {
             "fill": {
              "color": "#C8D4E3"
             },
             "line": {
              "color": "white"
             }
            },
            "type": "table"
           }
          ]
         },
         "layout": {
          "annotationdefaults": {
           "arrowcolor": "#2a3f5f",
           "arrowhead": 0,
           "arrowwidth": 1
          },
          "autotypenumbers": "strict",
          "coloraxis": {
           "colorbar": {
            "outlinewidth": 0,
            "ticks": ""
           }
          },
          "colorscale": {
           "diverging": [
            [
             0,
             "#8e0152"
            ],
            [
             0.1,
             "#c51b7d"
            ],
            [
             0.2,
             "#de77ae"
            ],
            [
             0.3,
             "#f1b6da"
            ],
            [
             0.4,
             "#fde0ef"
            ],
            [
             0.5,
             "#f7f7f7"
            ],
            [
             0.6,
             "#e6f5d0"
            ],
            [
             0.7,
             "#b8e186"
            ],
            [
             0.8,
             "#7fbc41"
            ],
            [
             0.9,
             "#4d9221"
            ],
            [
             1,
             "#276419"
            ]
           ],
           "sequential": [
            [
             0,
             "#0d0887"
            ],
            [
             0.1111111111111111,
             "#46039f"
            ],
            [
             0.2222222222222222,
             "#7201a8"
            ],
            [
             0.3333333333333333,
             "#9c179e"
            ],
            [
             0.4444444444444444,
             "#bd3786"
            ],
            [
             0.5555555555555556,
             "#d8576b"
            ],
            [
             0.6666666666666666,
             "#ed7953"
            ],
            [
             0.7777777777777778,
             "#fb9f3a"
            ],
            [
             0.8888888888888888,
             "#fdca26"
            ],
            [
             1,
             "#f0f921"
            ]
           ],
           "sequentialminus": [
            [
             0,
             "#0d0887"
            ],
            [
             0.1111111111111111,
             "#46039f"
            ],
            [
             0.2222222222222222,
             "#7201a8"
            ],
            [
             0.3333333333333333,
             "#9c179e"
            ],
            [
             0.4444444444444444,
             "#bd3786"
            ],
            [
             0.5555555555555556,
             "#d8576b"
            ],
            [
             0.6666666666666666,
             "#ed7953"
            ],
            [
             0.7777777777777778,
             "#fb9f3a"
            ],
            [
             0.8888888888888888,
             "#fdca26"
            ],
            [
             1,
             "#f0f921"
            ]
           ]
          },
          "colorway": [
           "#636efa",
           "#EF553B",
           "#00cc96",
           "#ab63fa",
           "#FFA15A",
           "#19d3f3",
           "#FF6692",
           "#B6E880",
           "#FF97FF",
           "#FECB52"
          ],
          "font": {
           "color": "#2a3f5f"
          },
          "geo": {
           "bgcolor": "white",
           "lakecolor": "white",
           "landcolor": "#E5ECF6",
           "showlakes": true,
           "showland": true,
           "subunitcolor": "white"
          },
          "hoverlabel": {
           "align": "left"
          },
          "hovermode": "closest",
          "mapbox": {
           "style": "light"
          },
          "paper_bgcolor": "white",
          "plot_bgcolor": "#E5ECF6",
          "polar": {
           "angularaxis": {
            "gridcolor": "white",
            "linecolor": "white",
            "ticks": ""
           },
           "bgcolor": "#E5ECF6",
           "radialaxis": {
            "gridcolor": "white",
            "linecolor": "white",
            "ticks": ""
           }
          },
          "scene": {
           "xaxis": {
            "backgroundcolor": "#E5ECF6",
            "gridcolor": "white",
            "gridwidth": 2,
            "linecolor": "white",
            "showbackground": true,
            "ticks": "",
            "zerolinecolor": "white"
           },
           "yaxis": {
            "backgroundcolor": "#E5ECF6",
            "gridcolor": "white",
            "gridwidth": 2,
            "linecolor": "white",
            "showbackground": true,
            "ticks": "",
            "zerolinecolor": "white"
           },
           "zaxis": {
            "backgroundcolor": "#E5ECF6",
            "gridcolor": "white",
            "gridwidth": 2,
            "linecolor": "white",
            "showbackground": true,
            "ticks": "",
            "zerolinecolor": "white"
           }
          },
          "shapedefaults": {
           "line": {
            "color": "#2a3f5f"
           }
          },
          "ternary": {
           "aaxis": {
            "gridcolor": "white",
            "linecolor": "white",
            "ticks": ""
           },
           "baxis": {
            "gridcolor": "white",
            "linecolor": "white",
            "ticks": ""
           },
           "bgcolor": "#E5ECF6",
           "caxis": {
            "gridcolor": "white",
            "linecolor": "white",
            "ticks": ""
           }
          },
          "title": {
           "x": 0.05
          },
          "xaxis": {
           "automargin": true,
           "gridcolor": "white",
           "linecolor": "white",
           "ticks": "",
           "title": {
            "standoff": 15
           },
           "zerolinecolor": "white",
           "zerolinewidth": 2
          },
          "yaxis": {
           "automargin": true,
           "gridcolor": "white",
           "linecolor": "white",
           "ticks": "",
           "title": {
            "standoff": 15
           },
           "zerolinecolor": "white",
           "zerolinewidth": 2
          }
         }
        },
        "title": {
         "font": {
          "color": "#4D5663"
         }
        },
        "xaxis": {
         "gridcolor": "#E1E5ED",
         "showgrid": true,
         "tickfont": {
          "color": "#4D5663"
         },
         "title": {
          "font": {
           "color": "#4D5663"
          },
          "text": ""
         },
         "zerolinecolor": "#E1E5ED"
        },
        "yaxis": {
         "gridcolor": "#E1E5ED",
         "showgrid": true,
         "tickfont": {
          "color": "#4D5663"
         },
         "title": {
          "font": {
           "color": "#4D5663"
          },
          "text": ""
         },
         "zerolinecolor": "#E1E5ED"
        }
       }
      },
      "text/html": [
       "<div>                            <div id=\"501d67c4-ed8f-4ca5-a661-8c8714baf75c\" class=\"plotly-graph-div\" style=\"height:525px; width:100%;\"></div>            <script type=\"text/javascript\">                require([\"plotly\"], function(Plotly) {                    window.PLOTLYENV=window.PLOTLYENV || {};\n",
       "                    window.PLOTLYENV.BASE_URL='https://plot.ly';                                    if (document.getElementById(\"501d67c4-ed8f-4ca5-a661-8c8714baf75c\")) {                    Plotly.newPlot(                        \"501d67c4-ed8f-4ca5-a661-8c8714baf75c\",                        [{\"line\": {\"color\": \"rgba(255, 153, 51, 1.0)\", \"dash\": \"solid\", \"shape\": \"linear\", \"width\": 1.3}, \"marker\": {\"size\": 12, \"symbol\": \"circle\"}, \"mode\": \"markers\", \"name\": \"B\", \"text\": \"\", \"type\": \"scatter\", \"x\": [-0.07626798862524346, 0.22540134756441488, -0.8057647977006603, 0.3775230577282411, -0.1680604099266579, 0.8713582072512306, -0.08016296132520627, 2.0793375312602986, 0.6174946047522917, 1.3470244023614335, -0.45534748125031793, 1.1567776506639353, -0.8740526020125177, -0.037407388938710644, 0.5532512221426178, -1.051190550010996, -0.35056999351700524, 1.071823066376621, 0.9093892370915182, -1.0488537815283008, -0.4599270555168315, 1.8602051198265883, -0.8249352680142302, -1.5106002057662986, 0.0996067858587673, -0.9955831080121025, -1.1743481536862996, 0.798495220365897, 2.135298305419711, -0.918373544679037, -1.3292049671635469, -1.482014934583836, 0.4658513332948664, 1.7175357781491922, -0.1606077083412937, 0.5805593871078475, -0.2538847588879203, 1.0542215320006398, -0.4301439180270131, -1.2014952657868243, 0.4460530424636575, -0.38016505214183166, 1.187504657276655, 1.0092529666759915, 0.5276280783314551, -2.3146759442720812, -0.9726633353919516, -1.4651901913239982, -0.8517523630692322, -2.317281604613853, -0.14261933190625772, -2.077146476047186, -0.3251807441512565, 0.1319632239823357, 0.7486045945026552, 0.33685670014918506, -0.037845194242645784, -1.3667973040236276, 0.7727164075726849, -1.2011494900729764, 0.2691153645066599, -0.7673187313510428, 0.7313925705637623, 0.27488086113873705, -0.21474757848854253, 0.9183127839848029, 0.20274982610001047, -1.2321068101491492, 2.2023622350450003, 0.22588488340486504, -0.21025110889818346, -0.06932808427719565, -0.330211178580367, -1.1630223928019472, 0.3991187829537466, 0.26561049183638635, 0.2489546357507444, -1.0363391210443667, 0.28072456627802256, -1.4258804403303178, 0.34187592095465646, -1.1053725354624688, -0.7016568221765985, 0.3193171141371305, -1.6882672411213937, -0.6384005418166574, 1.1931023903017663, -1.079295557921701, 0.953153121390354, 0.4535569514855566, -0.6142109560790182, 1.7927716591736043, -2.0886630176573466, -0.647956166935598, -0.5679356570104203, 0.6153764784573306, 1.211953758491585, -1.516211074458471, -0.6678919354224481, 0.7549092172063453], \"y\": [-0.740902655559266, -0.08310433278810744, -1.251683393405426, -1.204225704833254, 1.0143348303407134, -1.0161633496549207, -1.7583971257729267, 1.4521908459282145, -0.480368906287327, 0.5131858057305899, 0.27503721587001323, 1.290465634875162, 1.1124276711007453, -1.4899235118041922, 0.38697483901701935, 0.4129744286146979, 2.095129686566982, 0.8399787083500704, 0.6710525662253761, -0.4681469240612532, 2.1194359317570535, 1.038915191126487, -0.7172554535302076, 0.5688903859711237, 0.826646992545889, 0.09105518538007447, -0.589810469872444, -0.1525563108196747, -0.3633806409535802, 0.2692246496286448, -0.1395863420602316, 0.6420796882555284, -0.3895501220033279, -0.6842852202025996, -0.0662269940405855, -2.6265164759204436, -0.9020476303540725, -0.4167566139166744, 0.7135005499949627, -1.094409509953378, -1.7596727501739213, -1.3221416350039188, -1.165871915271899, -0.17725703007771632, 0.07750703246294158, -0.4058509152122095, 1.0113863879667255, 1.1743453857185353, 0.1522145118031781, -0.7226455063181879, -0.9955570686188059, 0.2765818865175756, -1.3549808500418952, 1.337102837580037, -0.08188136453619636, -1.04472177658133, 0.7038632224719813, -1.2644862932195187, 0.3524073622222112, -0.46797925694821996, 0.6379518560397109, 0.5978368539603639, 0.1896862075086954, 0.01498863199058901, 0.6737610775168448, -0.2093368496264277, -0.4445627663438925, -0.5225801896099493, 0.11252918692066753, 0.8218878151077612, -0.8365245614729655, -0.8260737556521454, 0.821246020726017, 1.7053976790292478, 0.9591926546787697, 1.0830800300363144, -0.7458624482789284, 0.00978102219508137, -0.9888119728575078, -1.0526562671556607, -0.48038870163723124, -0.6569719817113063, -0.848735736192335, 2.190392250125886, 0.8904709443200586, -0.24858231907030764, 0.9716461842773628, -1.0724720077866086, 0.15156616663461042, 0.36165937700608153, -0.7221361260002299, -2.0364234750392334, -0.6879418802528297, -0.40851358835174423, 0.9529887543414152, -0.15851581650574076, -1.4341531957352023, 0.1659117333162127, 2.344432739425215, 0.23891550498788275]}],                        {\"legend\": {\"bgcolor\": \"#F5F6F9\", \"font\": {\"color\": \"#4D5663\"}}, \"paper_bgcolor\": \"#F5F6F9\", \"plot_bgcolor\": \"#F5F6F9\", \"template\": {\"data\": {\"bar\": [{\"error_x\": {\"color\": \"#2a3f5f\"}, \"error_y\": {\"color\": \"#2a3f5f\"}, \"marker\": {\"line\": {\"color\": \"#E5ECF6\", \"width\": 0.5}}, \"type\": \"bar\"}], \"barpolar\": [{\"marker\": {\"line\": {\"color\": \"#E5ECF6\", \"width\": 0.5}}, \"type\": \"barpolar\"}], \"carpet\": [{\"aaxis\": {\"endlinecolor\": \"#2a3f5f\", \"gridcolor\": \"white\", \"linecolor\": \"white\", \"minorgridcolor\": \"white\", \"startlinecolor\": \"#2a3f5f\"}, \"baxis\": {\"endlinecolor\": \"#2a3f5f\", \"gridcolor\": \"white\", \"linecolor\": \"white\", \"minorgridcolor\": \"white\", \"startlinecolor\": \"#2a3f5f\"}, \"type\": \"carpet\"}], \"choropleth\": [{\"colorbar\": {\"outlinewidth\": 0, \"ticks\": \"\"}, \"type\": \"choropleth\"}], \"contour\": [{\"colorbar\": {\"outlinewidth\": 0, \"ticks\": \"\"}, \"colorscale\": [[0.0, \"#0d0887\"], [0.1111111111111111, \"#46039f\"], [0.2222222222222222, \"#7201a8\"], [0.3333333333333333, \"#9c179e\"], [0.4444444444444444, \"#bd3786\"], [0.5555555555555556, \"#d8576b\"], [0.6666666666666666, \"#ed7953\"], [0.7777777777777778, \"#fb9f3a\"], [0.8888888888888888, \"#fdca26\"], [1.0, \"#f0f921\"]], \"type\": \"contour\"}], \"contourcarpet\": [{\"colorbar\": {\"outlinewidth\": 0, \"ticks\": \"\"}, \"type\": \"contourcarpet\"}], \"heatmap\": [{\"colorbar\": {\"outlinewidth\": 0, \"ticks\": \"\"}, \"colorscale\": [[0.0, \"#0d0887\"], [0.1111111111111111, \"#46039f\"], [0.2222222222222222, \"#7201a8\"], [0.3333333333333333, \"#9c179e\"], [0.4444444444444444, \"#bd3786\"], [0.5555555555555556, \"#d8576b\"], [0.6666666666666666, \"#ed7953\"], [0.7777777777777778, \"#fb9f3a\"], [0.8888888888888888, \"#fdca26\"], [1.0, \"#f0f921\"]], \"type\": \"heatmap\"}], \"heatmapgl\": [{\"colorbar\": {\"outlinewidth\": 0, \"ticks\": \"\"}, \"colorscale\": [[0.0, \"#0d0887\"], [0.1111111111111111, \"#46039f\"], [0.2222222222222222, \"#7201a8\"], [0.3333333333333333, \"#9c179e\"], [0.4444444444444444, \"#bd3786\"], [0.5555555555555556, \"#d8576b\"], [0.6666666666666666, \"#ed7953\"], [0.7777777777777778, \"#fb9f3a\"], [0.8888888888888888, \"#fdca26\"], [1.0, \"#f0f921\"]], \"type\": \"heatmapgl\"}], \"histogram\": [{\"marker\": {\"colorbar\": {\"outlinewidth\": 0, \"ticks\": \"\"}}, \"type\": \"histogram\"}], \"histogram2d\": [{\"colorbar\": {\"outlinewidth\": 0, \"ticks\": \"\"}, \"colorscale\": [[0.0, \"#0d0887\"], [0.1111111111111111, \"#46039f\"], [0.2222222222222222, \"#7201a8\"], [0.3333333333333333, \"#9c179e\"], [0.4444444444444444, \"#bd3786\"], [0.5555555555555556, \"#d8576b\"], [0.6666666666666666, \"#ed7953\"], [0.7777777777777778, \"#fb9f3a\"], [0.8888888888888888, \"#fdca26\"], [1.0, \"#f0f921\"]], \"type\": \"histogram2d\"}], \"histogram2dcontour\": [{\"colorbar\": {\"outlinewidth\": 0, \"ticks\": \"\"}, \"colorscale\": [[0.0, \"#0d0887\"], [0.1111111111111111, \"#46039f\"], [0.2222222222222222, \"#7201a8\"], [0.3333333333333333, \"#9c179e\"], [0.4444444444444444, \"#bd3786\"], [0.5555555555555556, \"#d8576b\"], [0.6666666666666666, \"#ed7953\"], [0.7777777777777778, \"#fb9f3a\"], [0.8888888888888888, \"#fdca26\"], [1.0, \"#f0f921\"]], \"type\": \"histogram2dcontour\"}], \"mesh3d\": [{\"colorbar\": {\"outlinewidth\": 0, \"ticks\": \"\"}, \"type\": \"mesh3d\"}], \"parcoords\": [{\"line\": {\"colorbar\": {\"outlinewidth\": 0, \"ticks\": \"\"}}, \"type\": \"parcoords\"}], \"pie\": [{\"automargin\": true, \"type\": \"pie\"}], \"scatter\": [{\"marker\": {\"colorbar\": {\"outlinewidth\": 0, \"ticks\": \"\"}}, \"type\": \"scatter\"}], \"scatter3d\": [{\"line\": {\"colorbar\": {\"outlinewidth\": 0, \"ticks\": \"\"}}, \"marker\": {\"colorbar\": {\"outlinewidth\": 0, \"ticks\": \"\"}}, \"type\": \"scatter3d\"}], \"scattercarpet\": [{\"marker\": {\"colorbar\": {\"outlinewidth\": 0, \"ticks\": \"\"}}, \"type\": \"scattercarpet\"}], \"scattergeo\": [{\"marker\": {\"colorbar\": {\"outlinewidth\": 0, \"ticks\": \"\"}}, \"type\": \"scattergeo\"}], \"scattergl\": [{\"marker\": {\"colorbar\": {\"outlinewidth\": 0, \"ticks\": \"\"}}, \"type\": \"scattergl\"}], \"scattermapbox\": [{\"marker\": {\"colorbar\": {\"outlinewidth\": 0, \"ticks\": \"\"}}, \"type\": \"scattermapbox\"}], \"scatterpolar\": [{\"marker\": {\"colorbar\": {\"outlinewidth\": 0, \"ticks\": \"\"}}, \"type\": \"scatterpolar\"}], \"scatterpolargl\": [{\"marker\": {\"colorbar\": {\"outlinewidth\": 0, \"ticks\": \"\"}}, \"type\": \"scatterpolargl\"}], \"scatterternary\": [{\"marker\": {\"colorbar\": {\"outlinewidth\": 0, \"ticks\": \"\"}}, \"type\": \"scatterternary\"}], \"surface\": [{\"colorbar\": {\"outlinewidth\": 0, \"ticks\": \"\"}, \"colorscale\": [[0.0, \"#0d0887\"], [0.1111111111111111, \"#46039f\"], [0.2222222222222222, \"#7201a8\"], [0.3333333333333333, \"#9c179e\"], [0.4444444444444444, \"#bd3786\"], [0.5555555555555556, \"#d8576b\"], [0.6666666666666666, \"#ed7953\"], [0.7777777777777778, \"#fb9f3a\"], [0.8888888888888888, \"#fdca26\"], [1.0, \"#f0f921\"]], \"type\": \"surface\"}], \"table\": [{\"cells\": {\"fill\": {\"color\": \"#EBF0F8\"}, \"line\": {\"color\": \"white\"}}, \"header\": {\"fill\": {\"color\": \"#C8D4E3\"}, \"line\": {\"color\": \"white\"}}, \"type\": \"table\"}]}, \"layout\": {\"annotationdefaults\": {\"arrowcolor\": \"#2a3f5f\", \"arrowhead\": 0, \"arrowwidth\": 1}, \"autotypenumbers\": \"strict\", \"coloraxis\": {\"colorbar\": {\"outlinewidth\": 0, \"ticks\": \"\"}}, \"colorscale\": {\"diverging\": [[0, \"#8e0152\"], [0.1, \"#c51b7d\"], [0.2, \"#de77ae\"], [0.3, \"#f1b6da\"], [0.4, \"#fde0ef\"], [0.5, \"#f7f7f7\"], [0.6, \"#e6f5d0\"], [0.7, \"#b8e186\"], [0.8, \"#7fbc41\"], [0.9, \"#4d9221\"], [1, \"#276419\"]], \"sequential\": [[0.0, \"#0d0887\"], [0.1111111111111111, \"#46039f\"], [0.2222222222222222, \"#7201a8\"], [0.3333333333333333, \"#9c179e\"], [0.4444444444444444, \"#bd3786\"], [0.5555555555555556, \"#d8576b\"], [0.6666666666666666, \"#ed7953\"], [0.7777777777777778, \"#fb9f3a\"], [0.8888888888888888, \"#fdca26\"], [1.0, \"#f0f921\"]], \"sequentialminus\": [[0.0, \"#0d0887\"], [0.1111111111111111, \"#46039f\"], [0.2222222222222222, \"#7201a8\"], [0.3333333333333333, \"#9c179e\"], [0.4444444444444444, \"#bd3786\"], [0.5555555555555556, \"#d8576b\"], [0.6666666666666666, \"#ed7953\"], [0.7777777777777778, \"#fb9f3a\"], [0.8888888888888888, \"#fdca26\"], [1.0, \"#f0f921\"]]}, \"colorway\": [\"#636efa\", \"#EF553B\", \"#00cc96\", \"#ab63fa\", \"#FFA15A\", \"#19d3f3\", \"#FF6692\", \"#B6E880\", \"#FF97FF\", \"#FECB52\"], \"font\": {\"color\": \"#2a3f5f\"}, \"geo\": {\"bgcolor\": \"white\", \"lakecolor\": \"white\", \"landcolor\": \"#E5ECF6\", \"showlakes\": true, \"showland\": true, \"subunitcolor\": \"white\"}, \"hoverlabel\": {\"align\": \"left\"}, \"hovermode\": \"closest\", \"mapbox\": {\"style\": \"light\"}, \"paper_bgcolor\": \"white\", \"plot_bgcolor\": \"#E5ECF6\", \"polar\": {\"angularaxis\": {\"gridcolor\": \"white\", \"linecolor\": \"white\", \"ticks\": \"\"}, \"bgcolor\": \"#E5ECF6\", \"radialaxis\": {\"gridcolor\": \"white\", \"linecolor\": \"white\", \"ticks\": \"\"}}, \"scene\": {\"xaxis\": {\"backgroundcolor\": \"#E5ECF6\", \"gridcolor\": \"white\", \"gridwidth\": 2, \"linecolor\": \"white\", \"showbackground\": true, \"ticks\": \"\", \"zerolinecolor\": \"white\"}, \"yaxis\": {\"backgroundcolor\": \"#E5ECF6\", \"gridcolor\": \"white\", \"gridwidth\": 2, \"linecolor\": \"white\", \"showbackground\": true, \"ticks\": \"\", \"zerolinecolor\": \"white\"}, \"zaxis\": {\"backgroundcolor\": \"#E5ECF6\", \"gridcolor\": \"white\", \"gridwidth\": 2, \"linecolor\": \"white\", \"showbackground\": true, \"ticks\": \"\", \"zerolinecolor\": \"white\"}}, \"shapedefaults\": {\"line\": {\"color\": \"#2a3f5f\"}}, \"ternary\": {\"aaxis\": {\"gridcolor\": \"white\", \"linecolor\": \"white\", \"ticks\": \"\"}, \"baxis\": {\"gridcolor\": \"white\", \"linecolor\": \"white\", \"ticks\": \"\"}, \"bgcolor\": \"#E5ECF6\", \"caxis\": {\"gridcolor\": \"white\", \"linecolor\": \"white\", \"ticks\": \"\"}}, \"title\": {\"x\": 0.05}, \"xaxis\": {\"automargin\": true, \"gridcolor\": \"white\", \"linecolor\": \"white\", \"ticks\": \"\", \"title\": {\"standoff\": 15}, \"zerolinecolor\": \"white\", \"zerolinewidth\": 2}, \"yaxis\": {\"automargin\": true, \"gridcolor\": \"white\", \"linecolor\": \"white\", \"ticks\": \"\", \"title\": {\"standoff\": 15}, \"zerolinecolor\": \"white\", \"zerolinewidth\": 2}}}, \"title\": {\"font\": {\"color\": \"#4D5663\"}}, \"xaxis\": {\"gridcolor\": \"#E1E5ED\", \"showgrid\": true, \"tickfont\": {\"color\": \"#4D5663\"}, \"title\": {\"font\": {\"color\": \"#4D5663\"}, \"text\": \"\"}, \"zerolinecolor\": \"#E1E5ED\"}, \"yaxis\": {\"gridcolor\": \"#E1E5ED\", \"showgrid\": true, \"tickfont\": {\"color\": \"#4D5663\"}, \"title\": {\"font\": {\"color\": \"#4D5663\"}, \"text\": \"\"}, \"zerolinecolor\": \"#E1E5ED\"}},                        {\"showLink\": true, \"linkText\": \"Export to plot.ly\", \"plotlyServerURL\": \"https://plot.ly\", \"responsive\": true}                    ).then(function(){\n",
       "                            \n",
       "var gd = document.getElementById('501d67c4-ed8f-4ca5-a661-8c8714baf75c');\n",
       "var x = new MutationObserver(function (mutations, observer) {{\n",
       "        var display = window.getComputedStyle(gd).display;\n",
       "        if (!display || display === 'none') {{\n",
       "            console.log([gd, 'removed!']);\n",
       "            Plotly.purge(gd);\n",
       "            observer.disconnect();\n",
       "        }}\n",
       "}});\n",
       "\n",
       "// Listen for the removal of the full notebook cells\n",
       "var notebookContainer = gd.closest('#notebook-container');\n",
       "if (notebookContainer) {{\n",
       "    x.observe(notebookContainer, {childList: true});\n",
       "}}\n",
       "\n",
       "// Listen for the clearing of the current output cell\n",
       "var outputEl = gd.closest('.output');\n",
       "if (outputEl) {{\n",
       "    x.observe(outputEl, {childList: true});\n",
       "}}\n",
       "\n",
       "                        })                };                });            </script>        </div>"
      ]
     },
     "metadata": {},
     "output_type": "display_data"
    }
   ],
   "source": [
    "df.iplot(kind='scatter', x='A', y='B', mode='markers')"
   ]
  },
  {
   "cell_type": "code",
   "execution_count": 12,
   "metadata": {},
   "outputs": [
    {
     "data": {
      "application/vnd.plotly.v1+json": {
       "config": {
        "linkText": "Export to plot.ly",
        "plotlyServerURL": "https://plot.ly",
        "showLink": true
       },
       "data": [
        {
         "line": {
          "color": "rgba(255, 153, 51, 1.0)",
          "dash": "solid",
          "shape": "linear",
          "width": 1.3
         },
         "marker": {
          "size": 20,
          "symbol": "circle"
         },
         "mode": "markers",
         "name": "B",
         "text": "",
         "type": "scatter",
         "x": [
          -0.07626798862524346,
          0.22540134756441488,
          -0.8057647977006603,
          0.3775230577282411,
          -0.1680604099266579,
          0.8713582072512306,
          -0.08016296132520627,
          2.0793375312602986,
          0.6174946047522917,
          1.3470244023614335,
          -0.45534748125031793,
          1.1567776506639353,
          -0.8740526020125177,
          -0.037407388938710644,
          0.5532512221426178,
          -1.051190550010996,
          -0.35056999351700524,
          1.071823066376621,
          0.9093892370915182,
          -1.0488537815283008,
          -0.4599270555168315,
          1.8602051198265883,
          -0.8249352680142302,
          -1.5106002057662986,
          0.0996067858587673,
          -0.9955831080121025,
          -1.1743481536862996,
          0.798495220365897,
          2.135298305419711,
          -0.918373544679037,
          -1.3292049671635469,
          -1.482014934583836,
          0.4658513332948664,
          1.7175357781491922,
          -0.1606077083412937,
          0.5805593871078475,
          -0.2538847588879203,
          1.0542215320006398,
          -0.4301439180270131,
          -1.2014952657868243,
          0.4460530424636575,
          -0.38016505214183166,
          1.187504657276655,
          1.0092529666759915,
          0.5276280783314551,
          -2.3146759442720812,
          -0.9726633353919516,
          -1.4651901913239982,
          -0.8517523630692322,
          -2.317281604613853,
          -0.14261933190625772,
          -2.077146476047186,
          -0.3251807441512565,
          0.1319632239823357,
          0.7486045945026552,
          0.33685670014918506,
          -0.037845194242645784,
          -1.3667973040236276,
          0.7727164075726849,
          -1.2011494900729764,
          0.2691153645066599,
          -0.7673187313510428,
          0.7313925705637623,
          0.27488086113873705,
          -0.21474757848854253,
          0.9183127839848029,
          0.20274982610001047,
          -1.2321068101491492,
          2.2023622350450003,
          0.22588488340486504,
          -0.21025110889818346,
          -0.06932808427719565,
          -0.330211178580367,
          -1.1630223928019472,
          0.3991187829537466,
          0.26561049183638635,
          0.2489546357507444,
          -1.0363391210443667,
          0.28072456627802256,
          -1.4258804403303178,
          0.34187592095465646,
          -1.1053725354624688,
          -0.7016568221765985,
          0.3193171141371305,
          -1.6882672411213937,
          -0.6384005418166574,
          1.1931023903017663,
          -1.079295557921701,
          0.953153121390354,
          0.4535569514855566,
          -0.6142109560790182,
          1.7927716591736043,
          -2.0886630176573466,
          -0.647956166935598,
          -0.5679356570104203,
          0.6153764784573306,
          1.211953758491585,
          -1.516211074458471,
          -0.6678919354224481,
          0.7549092172063453
         ],
         "y": [
          -0.740902655559266,
          -0.08310433278810744,
          -1.251683393405426,
          -1.204225704833254,
          1.0143348303407134,
          -1.0161633496549207,
          -1.7583971257729267,
          1.4521908459282145,
          -0.480368906287327,
          0.5131858057305899,
          0.27503721587001323,
          1.290465634875162,
          1.1124276711007453,
          -1.4899235118041922,
          0.38697483901701935,
          0.4129744286146979,
          2.095129686566982,
          0.8399787083500704,
          0.6710525662253761,
          -0.4681469240612532,
          2.1194359317570535,
          1.038915191126487,
          -0.7172554535302076,
          0.5688903859711237,
          0.826646992545889,
          0.09105518538007447,
          -0.589810469872444,
          -0.1525563108196747,
          -0.3633806409535802,
          0.2692246496286448,
          -0.1395863420602316,
          0.6420796882555284,
          -0.3895501220033279,
          -0.6842852202025996,
          -0.0662269940405855,
          -2.6265164759204436,
          -0.9020476303540725,
          -0.4167566139166744,
          0.7135005499949627,
          -1.094409509953378,
          -1.7596727501739213,
          -1.3221416350039188,
          -1.165871915271899,
          -0.17725703007771632,
          0.07750703246294158,
          -0.4058509152122095,
          1.0113863879667255,
          1.1743453857185353,
          0.1522145118031781,
          -0.7226455063181879,
          -0.9955570686188059,
          0.2765818865175756,
          -1.3549808500418952,
          1.337102837580037,
          -0.08188136453619636,
          -1.04472177658133,
          0.7038632224719813,
          -1.2644862932195187,
          0.3524073622222112,
          -0.46797925694821996,
          0.6379518560397109,
          0.5978368539603639,
          0.1896862075086954,
          0.01498863199058901,
          0.6737610775168448,
          -0.2093368496264277,
          -0.4445627663438925,
          -0.5225801896099493,
          0.11252918692066753,
          0.8218878151077612,
          -0.8365245614729655,
          -0.8260737556521454,
          0.821246020726017,
          1.7053976790292478,
          0.9591926546787697,
          1.0830800300363144,
          -0.7458624482789284,
          0.00978102219508137,
          -0.9888119728575078,
          -1.0526562671556607,
          -0.48038870163723124,
          -0.6569719817113063,
          -0.848735736192335,
          2.190392250125886,
          0.8904709443200586,
          -0.24858231907030764,
          0.9716461842773628,
          -1.0724720077866086,
          0.15156616663461042,
          0.36165937700608153,
          -0.7221361260002299,
          -2.0364234750392334,
          -0.6879418802528297,
          -0.40851358835174423,
          0.9529887543414152,
          -0.15851581650574076,
          -1.4341531957352023,
          0.1659117333162127,
          2.344432739425215,
          0.23891550498788275
         ]
        }
       ],
       "layout": {
        "legend": {
         "bgcolor": "#F5F6F9",
         "font": {
          "color": "#4D5663"
         }
        },
        "paper_bgcolor": "#F5F6F9",
        "plot_bgcolor": "#F5F6F9",
        "template": {
         "data": {
          "bar": [
           {
            "error_x": {
             "color": "#2a3f5f"
            },
            "error_y": {
             "color": "#2a3f5f"
            },
            "marker": {
             "line": {
              "color": "#E5ECF6",
              "width": 0.5
             }
            },
            "type": "bar"
           }
          ],
          "barpolar": [
           {
            "marker": {
             "line": {
              "color": "#E5ECF6",
              "width": 0.5
             }
            },
            "type": "barpolar"
           }
          ],
          "carpet": [
           {
            "aaxis": {
             "endlinecolor": "#2a3f5f",
             "gridcolor": "white",
             "linecolor": "white",
             "minorgridcolor": "white",
             "startlinecolor": "#2a3f5f"
            },
            "baxis": {
             "endlinecolor": "#2a3f5f",
             "gridcolor": "white",
             "linecolor": "white",
             "minorgridcolor": "white",
             "startlinecolor": "#2a3f5f"
            },
            "type": "carpet"
           }
          ],
          "choropleth": [
           {
            "colorbar": {
             "outlinewidth": 0,
             "ticks": ""
            },
            "type": "choropleth"
           }
          ],
          "contour": [
           {
            "colorbar": {
             "outlinewidth": 0,
             "ticks": ""
            },
            "colorscale": [
             [
              0,
              "#0d0887"
             ],
             [
              0.1111111111111111,
              "#46039f"
             ],
             [
              0.2222222222222222,
              "#7201a8"
             ],
             [
              0.3333333333333333,
              "#9c179e"
             ],
             [
              0.4444444444444444,
              "#bd3786"
             ],
             [
              0.5555555555555556,
              "#d8576b"
             ],
             [
              0.6666666666666666,
              "#ed7953"
             ],
             [
              0.7777777777777778,
              "#fb9f3a"
             ],
             [
              0.8888888888888888,
              "#fdca26"
             ],
             [
              1,
              "#f0f921"
             ]
            ],
            "type": "contour"
           }
          ],
          "contourcarpet": [
           {
            "colorbar": {
             "outlinewidth": 0,
             "ticks": ""
            },
            "type": "contourcarpet"
           }
          ],
          "heatmap": [
           {
            "colorbar": {
             "outlinewidth": 0,
             "ticks": ""
            },
            "colorscale": [
             [
              0,
              "#0d0887"
             ],
             [
              0.1111111111111111,
              "#46039f"
             ],
             [
              0.2222222222222222,
              "#7201a8"
             ],
             [
              0.3333333333333333,
              "#9c179e"
             ],
             [
              0.4444444444444444,
              "#bd3786"
             ],
             [
              0.5555555555555556,
              "#d8576b"
             ],
             [
              0.6666666666666666,
              "#ed7953"
             ],
             [
              0.7777777777777778,
              "#fb9f3a"
             ],
             [
              0.8888888888888888,
              "#fdca26"
             ],
             [
              1,
              "#f0f921"
             ]
            ],
            "type": "heatmap"
           }
          ],
          "heatmapgl": [
           {
            "colorbar": {
             "outlinewidth": 0,
             "ticks": ""
            },
            "colorscale": [
             [
              0,
              "#0d0887"
             ],
             [
              0.1111111111111111,
              "#46039f"
             ],
             [
              0.2222222222222222,
              "#7201a8"
             ],
             [
              0.3333333333333333,
              "#9c179e"
             ],
             [
              0.4444444444444444,
              "#bd3786"
             ],
             [
              0.5555555555555556,
              "#d8576b"
             ],
             [
              0.6666666666666666,
              "#ed7953"
             ],
             [
              0.7777777777777778,
              "#fb9f3a"
             ],
             [
              0.8888888888888888,
              "#fdca26"
             ],
             [
              1,
              "#f0f921"
             ]
            ],
            "type": "heatmapgl"
           }
          ],
          "histogram": [
           {
            "marker": {
             "colorbar": {
              "outlinewidth": 0,
              "ticks": ""
             }
            },
            "type": "histogram"
           }
          ],
          "histogram2d": [
           {
            "colorbar": {
             "outlinewidth": 0,
             "ticks": ""
            },
            "colorscale": [
             [
              0,
              "#0d0887"
             ],
             [
              0.1111111111111111,
              "#46039f"
             ],
             [
              0.2222222222222222,
              "#7201a8"
             ],
             [
              0.3333333333333333,
              "#9c179e"
             ],
             [
              0.4444444444444444,
              "#bd3786"
             ],
             [
              0.5555555555555556,
              "#d8576b"
             ],
             [
              0.6666666666666666,
              "#ed7953"
             ],
             [
              0.7777777777777778,
              "#fb9f3a"
             ],
             [
              0.8888888888888888,
              "#fdca26"
             ],
             [
              1,
              "#f0f921"
             ]
            ],
            "type": "histogram2d"
           }
          ],
          "histogram2dcontour": [
           {
            "colorbar": {
             "outlinewidth": 0,
             "ticks": ""
            },
            "colorscale": [
             [
              0,
              "#0d0887"
             ],
             [
              0.1111111111111111,
              "#46039f"
             ],
             [
              0.2222222222222222,
              "#7201a8"
             ],
             [
              0.3333333333333333,
              "#9c179e"
             ],
             [
              0.4444444444444444,
              "#bd3786"
             ],
             [
              0.5555555555555556,
              "#d8576b"
             ],
             [
              0.6666666666666666,
              "#ed7953"
             ],
             [
              0.7777777777777778,
              "#fb9f3a"
             ],
             [
              0.8888888888888888,
              "#fdca26"
             ],
             [
              1,
              "#f0f921"
             ]
            ],
            "type": "histogram2dcontour"
           }
          ],
          "mesh3d": [
           {
            "colorbar": {
             "outlinewidth": 0,
             "ticks": ""
            },
            "type": "mesh3d"
           }
          ],
          "parcoords": [
           {
            "line": {
             "colorbar": {
              "outlinewidth": 0,
              "ticks": ""
             }
            },
            "type": "parcoords"
           }
          ],
          "pie": [
           {
            "automargin": true,
            "type": "pie"
           }
          ],
          "scatter": [
           {
            "marker": {
             "colorbar": {
              "outlinewidth": 0,
              "ticks": ""
             }
            },
            "type": "scatter"
           }
          ],
          "scatter3d": [
           {
            "line": {
             "colorbar": {
              "outlinewidth": 0,
              "ticks": ""
             }
            },
            "marker": {
             "colorbar": {
              "outlinewidth": 0,
              "ticks": ""
             }
            },
            "type": "scatter3d"
           }
          ],
          "scattercarpet": [
           {
            "marker": {
             "colorbar": {
              "outlinewidth": 0,
              "ticks": ""
             }
            },
            "type": "scattercarpet"
           }
          ],
          "scattergeo": [
           {
            "marker": {
             "colorbar": {
              "outlinewidth": 0,
              "ticks": ""
             }
            },
            "type": "scattergeo"
           }
          ],
          "scattergl": [
           {
            "marker": {
             "colorbar": {
              "outlinewidth": 0,
              "ticks": ""
             }
            },
            "type": "scattergl"
           }
          ],
          "scattermapbox": [
           {
            "marker": {
             "colorbar": {
              "outlinewidth": 0,
              "ticks": ""
             }
            },
            "type": "scattermapbox"
           }
          ],
          "scatterpolar": [
           {
            "marker": {
             "colorbar": {
              "outlinewidth": 0,
              "ticks": ""
             }
            },
            "type": "scatterpolar"
           }
          ],
          "scatterpolargl": [
           {
            "marker": {
             "colorbar": {
              "outlinewidth": 0,
              "ticks": ""
             }
            },
            "type": "scatterpolargl"
           }
          ],
          "scatterternary": [
           {
            "marker": {
             "colorbar": {
              "outlinewidth": 0,
              "ticks": ""
             }
            },
            "type": "scatterternary"
           }
          ],
          "surface": [
           {
            "colorbar": {
             "outlinewidth": 0,
             "ticks": ""
            },
            "colorscale": [
             [
              0,
              "#0d0887"
             ],
             [
              0.1111111111111111,
              "#46039f"
             ],
             [
              0.2222222222222222,
              "#7201a8"
             ],
             [
              0.3333333333333333,
              "#9c179e"
             ],
             [
              0.4444444444444444,
              "#bd3786"
             ],
             [
              0.5555555555555556,
              "#d8576b"
             ],
             [
              0.6666666666666666,
              "#ed7953"
             ],
             [
              0.7777777777777778,
              "#fb9f3a"
             ],
             [
              0.8888888888888888,
              "#fdca26"
             ],
             [
              1,
              "#f0f921"
             ]
            ],
            "type": "surface"
           }
          ],
          "table": [
           {
            "cells": {
             "fill": {
              "color": "#EBF0F8"
             },
             "line": {
              "color": "white"
             }
            },
            "header": {
             "fill": {
              "color": "#C8D4E3"
             },
             "line": {
              "color": "white"
             }
            },
            "type": "table"
           }
          ]
         },
         "layout": {
          "annotationdefaults": {
           "arrowcolor": "#2a3f5f",
           "arrowhead": 0,
           "arrowwidth": 1
          },
          "autotypenumbers": "strict",
          "coloraxis": {
           "colorbar": {
            "outlinewidth": 0,
            "ticks": ""
           }
          },
          "colorscale": {
           "diverging": [
            [
             0,
             "#8e0152"
            ],
            [
             0.1,
             "#c51b7d"
            ],
            [
             0.2,
             "#de77ae"
            ],
            [
             0.3,
             "#f1b6da"
            ],
            [
             0.4,
             "#fde0ef"
            ],
            [
             0.5,
             "#f7f7f7"
            ],
            [
             0.6,
             "#e6f5d0"
            ],
            [
             0.7,
             "#b8e186"
            ],
            [
             0.8,
             "#7fbc41"
            ],
            [
             0.9,
             "#4d9221"
            ],
            [
             1,
             "#276419"
            ]
           ],
           "sequential": [
            [
             0,
             "#0d0887"
            ],
            [
             0.1111111111111111,
             "#46039f"
            ],
            [
             0.2222222222222222,
             "#7201a8"
            ],
            [
             0.3333333333333333,
             "#9c179e"
            ],
            [
             0.4444444444444444,
             "#bd3786"
            ],
            [
             0.5555555555555556,
             "#d8576b"
            ],
            [
             0.6666666666666666,
             "#ed7953"
            ],
            [
             0.7777777777777778,
             "#fb9f3a"
            ],
            [
             0.8888888888888888,
             "#fdca26"
            ],
            [
             1,
             "#f0f921"
            ]
           ],
           "sequentialminus": [
            [
             0,
             "#0d0887"
            ],
            [
             0.1111111111111111,
             "#46039f"
            ],
            [
             0.2222222222222222,
             "#7201a8"
            ],
            [
             0.3333333333333333,
             "#9c179e"
            ],
            [
             0.4444444444444444,
             "#bd3786"
            ],
            [
             0.5555555555555556,
             "#d8576b"
            ],
            [
             0.6666666666666666,
             "#ed7953"
            ],
            [
             0.7777777777777778,
             "#fb9f3a"
            ],
            [
             0.8888888888888888,
             "#fdca26"
            ],
            [
             1,
             "#f0f921"
            ]
           ]
          },
          "colorway": [
           "#636efa",
           "#EF553B",
           "#00cc96",
           "#ab63fa",
           "#FFA15A",
           "#19d3f3",
           "#FF6692",
           "#B6E880",
           "#FF97FF",
           "#FECB52"
          ],
          "font": {
           "color": "#2a3f5f"
          },
          "geo": {
           "bgcolor": "white",
           "lakecolor": "white",
           "landcolor": "#E5ECF6",
           "showlakes": true,
           "showland": true,
           "subunitcolor": "white"
          },
          "hoverlabel": {
           "align": "left"
          },
          "hovermode": "closest",
          "mapbox": {
           "style": "light"
          },
          "paper_bgcolor": "white",
          "plot_bgcolor": "#E5ECF6",
          "polar": {
           "angularaxis": {
            "gridcolor": "white",
            "linecolor": "white",
            "ticks": ""
           },
           "bgcolor": "#E5ECF6",
           "radialaxis": {
            "gridcolor": "white",
            "linecolor": "white",
            "ticks": ""
           }
          },
          "scene": {
           "xaxis": {
            "backgroundcolor": "#E5ECF6",
            "gridcolor": "white",
            "gridwidth": 2,
            "linecolor": "white",
            "showbackground": true,
            "ticks": "",
            "zerolinecolor": "white"
           },
           "yaxis": {
            "backgroundcolor": "#E5ECF6",
            "gridcolor": "white",
            "gridwidth": 2,
            "linecolor": "white",
            "showbackground": true,
            "ticks": "",
            "zerolinecolor": "white"
           },
           "zaxis": {
            "backgroundcolor": "#E5ECF6",
            "gridcolor": "white",
            "gridwidth": 2,
            "linecolor": "white",
            "showbackground": true,
            "ticks": "",
            "zerolinecolor": "white"
           }
          },
          "shapedefaults": {
           "line": {
            "color": "#2a3f5f"
           }
          },
          "ternary": {
           "aaxis": {
            "gridcolor": "white",
            "linecolor": "white",
            "ticks": ""
           },
           "baxis": {
            "gridcolor": "white",
            "linecolor": "white",
            "ticks": ""
           },
           "bgcolor": "#E5ECF6",
           "caxis": {
            "gridcolor": "white",
            "linecolor": "white",
            "ticks": ""
           }
          },
          "title": {
           "x": 0.05
          },
          "xaxis": {
           "automargin": true,
           "gridcolor": "white",
           "linecolor": "white",
           "ticks": "",
           "title": {
            "standoff": 15
           },
           "zerolinecolor": "white",
           "zerolinewidth": 2
          },
          "yaxis": {
           "automargin": true,
           "gridcolor": "white",
           "linecolor": "white",
           "ticks": "",
           "title": {
            "standoff": 15
           },
           "zerolinecolor": "white",
           "zerolinewidth": 2
          }
         }
        },
        "title": {
         "font": {
          "color": "#4D5663"
         }
        },
        "xaxis": {
         "gridcolor": "#E1E5ED",
         "showgrid": true,
         "tickfont": {
          "color": "#4D5663"
         },
         "title": {
          "font": {
           "color": "#4D5663"
          },
          "text": ""
         },
         "zerolinecolor": "#E1E5ED"
        },
        "yaxis": {
         "gridcolor": "#E1E5ED",
         "showgrid": true,
         "tickfont": {
          "color": "#4D5663"
         },
         "title": {
          "font": {
           "color": "#4D5663"
          },
          "text": ""
         },
         "zerolinecolor": "#E1E5ED"
        }
       }
      },
      "text/html": [
       "<div>                            <div id=\"623ecdc8-83b3-4654-8969-928234cc4f76\" class=\"plotly-graph-div\" style=\"height:525px; width:100%;\"></div>            <script type=\"text/javascript\">                require([\"plotly\"], function(Plotly) {                    window.PLOTLYENV=window.PLOTLYENV || {};\n",
       "                    window.PLOTLYENV.BASE_URL='https://plot.ly';                                    if (document.getElementById(\"623ecdc8-83b3-4654-8969-928234cc4f76\")) {                    Plotly.newPlot(                        \"623ecdc8-83b3-4654-8969-928234cc4f76\",                        [{\"line\": {\"color\": \"rgba(255, 153, 51, 1.0)\", \"dash\": \"solid\", \"shape\": \"linear\", \"width\": 1.3}, \"marker\": {\"size\": 20, \"symbol\": \"circle\"}, \"mode\": \"markers\", \"name\": \"B\", \"text\": \"\", \"type\": \"scatter\", \"x\": [-0.07626798862524346, 0.22540134756441488, -0.8057647977006603, 0.3775230577282411, -0.1680604099266579, 0.8713582072512306, -0.08016296132520627, 2.0793375312602986, 0.6174946047522917, 1.3470244023614335, -0.45534748125031793, 1.1567776506639353, -0.8740526020125177, -0.037407388938710644, 0.5532512221426178, -1.051190550010996, -0.35056999351700524, 1.071823066376621, 0.9093892370915182, -1.0488537815283008, -0.4599270555168315, 1.8602051198265883, -0.8249352680142302, -1.5106002057662986, 0.0996067858587673, -0.9955831080121025, -1.1743481536862996, 0.798495220365897, 2.135298305419711, -0.918373544679037, -1.3292049671635469, -1.482014934583836, 0.4658513332948664, 1.7175357781491922, -0.1606077083412937, 0.5805593871078475, -0.2538847588879203, 1.0542215320006398, -0.4301439180270131, -1.2014952657868243, 0.4460530424636575, -0.38016505214183166, 1.187504657276655, 1.0092529666759915, 0.5276280783314551, -2.3146759442720812, -0.9726633353919516, -1.4651901913239982, -0.8517523630692322, -2.317281604613853, -0.14261933190625772, -2.077146476047186, -0.3251807441512565, 0.1319632239823357, 0.7486045945026552, 0.33685670014918506, -0.037845194242645784, -1.3667973040236276, 0.7727164075726849, -1.2011494900729764, 0.2691153645066599, -0.7673187313510428, 0.7313925705637623, 0.27488086113873705, -0.21474757848854253, 0.9183127839848029, 0.20274982610001047, -1.2321068101491492, 2.2023622350450003, 0.22588488340486504, -0.21025110889818346, -0.06932808427719565, -0.330211178580367, -1.1630223928019472, 0.3991187829537466, 0.26561049183638635, 0.2489546357507444, -1.0363391210443667, 0.28072456627802256, -1.4258804403303178, 0.34187592095465646, -1.1053725354624688, -0.7016568221765985, 0.3193171141371305, -1.6882672411213937, -0.6384005418166574, 1.1931023903017663, -1.079295557921701, 0.953153121390354, 0.4535569514855566, -0.6142109560790182, 1.7927716591736043, -2.0886630176573466, -0.647956166935598, -0.5679356570104203, 0.6153764784573306, 1.211953758491585, -1.516211074458471, -0.6678919354224481, 0.7549092172063453], \"y\": [-0.740902655559266, -0.08310433278810744, -1.251683393405426, -1.204225704833254, 1.0143348303407134, -1.0161633496549207, -1.7583971257729267, 1.4521908459282145, -0.480368906287327, 0.5131858057305899, 0.27503721587001323, 1.290465634875162, 1.1124276711007453, -1.4899235118041922, 0.38697483901701935, 0.4129744286146979, 2.095129686566982, 0.8399787083500704, 0.6710525662253761, -0.4681469240612532, 2.1194359317570535, 1.038915191126487, -0.7172554535302076, 0.5688903859711237, 0.826646992545889, 0.09105518538007447, -0.589810469872444, -0.1525563108196747, -0.3633806409535802, 0.2692246496286448, -0.1395863420602316, 0.6420796882555284, -0.3895501220033279, -0.6842852202025996, -0.0662269940405855, -2.6265164759204436, -0.9020476303540725, -0.4167566139166744, 0.7135005499949627, -1.094409509953378, -1.7596727501739213, -1.3221416350039188, -1.165871915271899, -0.17725703007771632, 0.07750703246294158, -0.4058509152122095, 1.0113863879667255, 1.1743453857185353, 0.1522145118031781, -0.7226455063181879, -0.9955570686188059, 0.2765818865175756, -1.3549808500418952, 1.337102837580037, -0.08188136453619636, -1.04472177658133, 0.7038632224719813, -1.2644862932195187, 0.3524073622222112, -0.46797925694821996, 0.6379518560397109, 0.5978368539603639, 0.1896862075086954, 0.01498863199058901, 0.6737610775168448, -0.2093368496264277, -0.4445627663438925, -0.5225801896099493, 0.11252918692066753, 0.8218878151077612, -0.8365245614729655, -0.8260737556521454, 0.821246020726017, 1.7053976790292478, 0.9591926546787697, 1.0830800300363144, -0.7458624482789284, 0.00978102219508137, -0.9888119728575078, -1.0526562671556607, -0.48038870163723124, -0.6569719817113063, -0.848735736192335, 2.190392250125886, 0.8904709443200586, -0.24858231907030764, 0.9716461842773628, -1.0724720077866086, 0.15156616663461042, 0.36165937700608153, -0.7221361260002299, -2.0364234750392334, -0.6879418802528297, -0.40851358835174423, 0.9529887543414152, -0.15851581650574076, -1.4341531957352023, 0.1659117333162127, 2.344432739425215, 0.23891550498788275]}],                        {\"legend\": {\"bgcolor\": \"#F5F6F9\", \"font\": {\"color\": \"#4D5663\"}}, \"paper_bgcolor\": \"#F5F6F9\", \"plot_bgcolor\": \"#F5F6F9\", \"template\": {\"data\": {\"bar\": [{\"error_x\": {\"color\": \"#2a3f5f\"}, \"error_y\": {\"color\": \"#2a3f5f\"}, \"marker\": {\"line\": {\"color\": \"#E5ECF6\", \"width\": 0.5}}, \"type\": \"bar\"}], \"barpolar\": [{\"marker\": {\"line\": {\"color\": \"#E5ECF6\", \"width\": 0.5}}, \"type\": \"barpolar\"}], \"carpet\": [{\"aaxis\": {\"endlinecolor\": \"#2a3f5f\", \"gridcolor\": \"white\", \"linecolor\": \"white\", \"minorgridcolor\": \"white\", \"startlinecolor\": \"#2a3f5f\"}, \"baxis\": {\"endlinecolor\": \"#2a3f5f\", \"gridcolor\": \"white\", \"linecolor\": \"white\", \"minorgridcolor\": \"white\", \"startlinecolor\": \"#2a3f5f\"}, \"type\": \"carpet\"}], \"choropleth\": [{\"colorbar\": {\"outlinewidth\": 0, \"ticks\": \"\"}, \"type\": \"choropleth\"}], \"contour\": [{\"colorbar\": {\"outlinewidth\": 0, \"ticks\": \"\"}, \"colorscale\": [[0.0, \"#0d0887\"], [0.1111111111111111, \"#46039f\"], [0.2222222222222222, \"#7201a8\"], [0.3333333333333333, \"#9c179e\"], [0.4444444444444444, \"#bd3786\"], [0.5555555555555556, \"#d8576b\"], [0.6666666666666666, \"#ed7953\"], [0.7777777777777778, \"#fb9f3a\"], [0.8888888888888888, \"#fdca26\"], [1.0, \"#f0f921\"]], \"type\": \"contour\"}], \"contourcarpet\": [{\"colorbar\": {\"outlinewidth\": 0, \"ticks\": \"\"}, \"type\": \"contourcarpet\"}], \"heatmap\": [{\"colorbar\": {\"outlinewidth\": 0, \"ticks\": \"\"}, \"colorscale\": [[0.0, \"#0d0887\"], [0.1111111111111111, \"#46039f\"], [0.2222222222222222, \"#7201a8\"], [0.3333333333333333, \"#9c179e\"], [0.4444444444444444, \"#bd3786\"], [0.5555555555555556, \"#d8576b\"], [0.6666666666666666, \"#ed7953\"], [0.7777777777777778, \"#fb9f3a\"], [0.8888888888888888, \"#fdca26\"], [1.0, \"#f0f921\"]], \"type\": \"heatmap\"}], \"heatmapgl\": [{\"colorbar\": {\"outlinewidth\": 0, \"ticks\": \"\"}, \"colorscale\": [[0.0, \"#0d0887\"], [0.1111111111111111, \"#46039f\"], [0.2222222222222222, \"#7201a8\"], [0.3333333333333333, \"#9c179e\"], [0.4444444444444444, \"#bd3786\"], [0.5555555555555556, \"#d8576b\"], [0.6666666666666666, \"#ed7953\"], [0.7777777777777778, \"#fb9f3a\"], [0.8888888888888888, \"#fdca26\"], [1.0, \"#f0f921\"]], \"type\": \"heatmapgl\"}], \"histogram\": [{\"marker\": {\"colorbar\": {\"outlinewidth\": 0, \"ticks\": \"\"}}, \"type\": \"histogram\"}], \"histogram2d\": [{\"colorbar\": {\"outlinewidth\": 0, \"ticks\": \"\"}, \"colorscale\": [[0.0, \"#0d0887\"], [0.1111111111111111, \"#46039f\"], [0.2222222222222222, \"#7201a8\"], [0.3333333333333333, \"#9c179e\"], [0.4444444444444444, \"#bd3786\"], [0.5555555555555556, \"#d8576b\"], [0.6666666666666666, \"#ed7953\"], [0.7777777777777778, \"#fb9f3a\"], [0.8888888888888888, \"#fdca26\"], [1.0, \"#f0f921\"]], \"type\": \"histogram2d\"}], \"histogram2dcontour\": [{\"colorbar\": {\"outlinewidth\": 0, \"ticks\": \"\"}, \"colorscale\": [[0.0, \"#0d0887\"], [0.1111111111111111, \"#46039f\"], [0.2222222222222222, \"#7201a8\"], [0.3333333333333333, \"#9c179e\"], [0.4444444444444444, \"#bd3786\"], [0.5555555555555556, \"#d8576b\"], [0.6666666666666666, \"#ed7953\"], [0.7777777777777778, \"#fb9f3a\"], [0.8888888888888888, \"#fdca26\"], [1.0, \"#f0f921\"]], \"type\": \"histogram2dcontour\"}], \"mesh3d\": [{\"colorbar\": {\"outlinewidth\": 0, \"ticks\": \"\"}, \"type\": \"mesh3d\"}], \"parcoords\": [{\"line\": {\"colorbar\": {\"outlinewidth\": 0, \"ticks\": \"\"}}, \"type\": \"parcoords\"}], \"pie\": [{\"automargin\": true, \"type\": \"pie\"}], \"scatter\": [{\"marker\": {\"colorbar\": {\"outlinewidth\": 0, \"ticks\": \"\"}}, \"type\": \"scatter\"}], \"scatter3d\": [{\"line\": {\"colorbar\": {\"outlinewidth\": 0, \"ticks\": \"\"}}, \"marker\": {\"colorbar\": {\"outlinewidth\": 0, \"ticks\": \"\"}}, \"type\": \"scatter3d\"}], \"scattercarpet\": [{\"marker\": {\"colorbar\": {\"outlinewidth\": 0, \"ticks\": \"\"}}, \"type\": \"scattercarpet\"}], \"scattergeo\": [{\"marker\": {\"colorbar\": {\"outlinewidth\": 0, \"ticks\": \"\"}}, \"type\": \"scattergeo\"}], \"scattergl\": [{\"marker\": {\"colorbar\": {\"outlinewidth\": 0, \"ticks\": \"\"}}, \"type\": \"scattergl\"}], \"scattermapbox\": [{\"marker\": {\"colorbar\": {\"outlinewidth\": 0, \"ticks\": \"\"}}, \"type\": \"scattermapbox\"}], \"scatterpolar\": [{\"marker\": {\"colorbar\": {\"outlinewidth\": 0, \"ticks\": \"\"}}, \"type\": \"scatterpolar\"}], \"scatterpolargl\": [{\"marker\": {\"colorbar\": {\"outlinewidth\": 0, \"ticks\": \"\"}}, \"type\": \"scatterpolargl\"}], \"scatterternary\": [{\"marker\": {\"colorbar\": {\"outlinewidth\": 0, \"ticks\": \"\"}}, \"type\": \"scatterternary\"}], \"surface\": [{\"colorbar\": {\"outlinewidth\": 0, \"ticks\": \"\"}, \"colorscale\": [[0.0, \"#0d0887\"], [0.1111111111111111, \"#46039f\"], [0.2222222222222222, \"#7201a8\"], [0.3333333333333333, \"#9c179e\"], [0.4444444444444444, \"#bd3786\"], [0.5555555555555556, \"#d8576b\"], [0.6666666666666666, \"#ed7953\"], [0.7777777777777778, \"#fb9f3a\"], [0.8888888888888888, \"#fdca26\"], [1.0, \"#f0f921\"]], \"type\": \"surface\"}], \"table\": [{\"cells\": {\"fill\": {\"color\": \"#EBF0F8\"}, \"line\": {\"color\": \"white\"}}, \"header\": {\"fill\": {\"color\": \"#C8D4E3\"}, \"line\": {\"color\": \"white\"}}, \"type\": \"table\"}]}, \"layout\": {\"annotationdefaults\": {\"arrowcolor\": \"#2a3f5f\", \"arrowhead\": 0, \"arrowwidth\": 1}, \"autotypenumbers\": \"strict\", \"coloraxis\": {\"colorbar\": {\"outlinewidth\": 0, \"ticks\": \"\"}}, \"colorscale\": {\"diverging\": [[0, \"#8e0152\"], [0.1, \"#c51b7d\"], [0.2, \"#de77ae\"], [0.3, \"#f1b6da\"], [0.4, \"#fde0ef\"], [0.5, \"#f7f7f7\"], [0.6, \"#e6f5d0\"], [0.7, \"#b8e186\"], [0.8, \"#7fbc41\"], [0.9, \"#4d9221\"], [1, \"#276419\"]], \"sequential\": [[0.0, \"#0d0887\"], [0.1111111111111111, \"#46039f\"], [0.2222222222222222, \"#7201a8\"], [0.3333333333333333, \"#9c179e\"], [0.4444444444444444, \"#bd3786\"], [0.5555555555555556, \"#d8576b\"], [0.6666666666666666, \"#ed7953\"], [0.7777777777777778, \"#fb9f3a\"], [0.8888888888888888, \"#fdca26\"], [1.0, \"#f0f921\"]], \"sequentialminus\": [[0.0, \"#0d0887\"], [0.1111111111111111, \"#46039f\"], [0.2222222222222222, \"#7201a8\"], [0.3333333333333333, \"#9c179e\"], [0.4444444444444444, \"#bd3786\"], [0.5555555555555556, \"#d8576b\"], [0.6666666666666666, \"#ed7953\"], [0.7777777777777778, \"#fb9f3a\"], [0.8888888888888888, \"#fdca26\"], [1.0, \"#f0f921\"]]}, \"colorway\": [\"#636efa\", \"#EF553B\", \"#00cc96\", \"#ab63fa\", \"#FFA15A\", \"#19d3f3\", \"#FF6692\", \"#B6E880\", \"#FF97FF\", \"#FECB52\"], \"font\": {\"color\": \"#2a3f5f\"}, \"geo\": {\"bgcolor\": \"white\", \"lakecolor\": \"white\", \"landcolor\": \"#E5ECF6\", \"showlakes\": true, \"showland\": true, \"subunitcolor\": \"white\"}, \"hoverlabel\": {\"align\": \"left\"}, \"hovermode\": \"closest\", \"mapbox\": {\"style\": \"light\"}, \"paper_bgcolor\": \"white\", \"plot_bgcolor\": \"#E5ECF6\", \"polar\": {\"angularaxis\": {\"gridcolor\": \"white\", \"linecolor\": \"white\", \"ticks\": \"\"}, \"bgcolor\": \"#E5ECF6\", \"radialaxis\": {\"gridcolor\": \"white\", \"linecolor\": \"white\", \"ticks\": \"\"}}, \"scene\": {\"xaxis\": {\"backgroundcolor\": \"#E5ECF6\", \"gridcolor\": \"white\", \"gridwidth\": 2, \"linecolor\": \"white\", \"showbackground\": true, \"ticks\": \"\", \"zerolinecolor\": \"white\"}, \"yaxis\": {\"backgroundcolor\": \"#E5ECF6\", \"gridcolor\": \"white\", \"gridwidth\": 2, \"linecolor\": \"white\", \"showbackground\": true, \"ticks\": \"\", \"zerolinecolor\": \"white\"}, \"zaxis\": {\"backgroundcolor\": \"#E5ECF6\", \"gridcolor\": \"white\", \"gridwidth\": 2, \"linecolor\": \"white\", \"showbackground\": true, \"ticks\": \"\", \"zerolinecolor\": \"white\"}}, \"shapedefaults\": {\"line\": {\"color\": \"#2a3f5f\"}}, \"ternary\": {\"aaxis\": {\"gridcolor\": \"white\", \"linecolor\": \"white\", \"ticks\": \"\"}, \"baxis\": {\"gridcolor\": \"white\", \"linecolor\": \"white\", \"ticks\": \"\"}, \"bgcolor\": \"#E5ECF6\", \"caxis\": {\"gridcolor\": \"white\", \"linecolor\": \"white\", \"ticks\": \"\"}}, \"title\": {\"x\": 0.05}, \"xaxis\": {\"automargin\": true, \"gridcolor\": \"white\", \"linecolor\": \"white\", \"ticks\": \"\", \"title\": {\"standoff\": 15}, \"zerolinecolor\": \"white\", \"zerolinewidth\": 2}, \"yaxis\": {\"automargin\": true, \"gridcolor\": \"white\", \"linecolor\": \"white\", \"ticks\": \"\", \"title\": {\"standoff\": 15}, \"zerolinecolor\": \"white\", \"zerolinewidth\": 2}}}, \"title\": {\"font\": {\"color\": \"#4D5663\"}}, \"xaxis\": {\"gridcolor\": \"#E1E5ED\", \"showgrid\": true, \"tickfont\": {\"color\": \"#4D5663\"}, \"title\": {\"font\": {\"color\": \"#4D5663\"}, \"text\": \"\"}, \"zerolinecolor\": \"#E1E5ED\"}, \"yaxis\": {\"gridcolor\": \"#E1E5ED\", \"showgrid\": true, \"tickfont\": {\"color\": \"#4D5663\"}, \"title\": {\"font\": {\"color\": \"#4D5663\"}, \"text\": \"\"}, \"zerolinecolor\": \"#E1E5ED\"}},                        {\"showLink\": true, \"linkText\": \"Export to plot.ly\", \"plotlyServerURL\": \"https://plot.ly\", \"responsive\": true}                    ).then(function(){\n",
       "                            \n",
       "var gd = document.getElementById('623ecdc8-83b3-4654-8969-928234cc4f76');\n",
       "var x = new MutationObserver(function (mutations, observer) {{\n",
       "        var display = window.getComputedStyle(gd).display;\n",
       "        if (!display || display === 'none') {{\n",
       "            console.log([gd, 'removed!']);\n",
       "            Plotly.purge(gd);\n",
       "            observer.disconnect();\n",
       "        }}\n",
       "}});\n",
       "\n",
       "// Listen for the removal of the full notebook cells\n",
       "var notebookContainer = gd.closest('#notebook-container');\n",
       "if (notebookContainer) {{\n",
       "    x.observe(notebookContainer, {childList: true});\n",
       "}}\n",
       "\n",
       "// Listen for the clearing of the current output cell\n",
       "var outputEl = gd.closest('.output');\n",
       "if (outputEl) {{\n",
       "    x.observe(outputEl, {childList: true});\n",
       "}}\n",
       "\n",
       "                        })                };                });            </script>        </div>"
      ]
     },
     "metadata": {},
     "output_type": "display_data"
    }
   ],
   "source": [
    "df.iplot(kind='scatter', x='A', y='B', mode='markers', size=20) #posso colocar o tamanho dos markes também"
   ]
  },
  {
   "cell_type": "code",
   "execution_count": 13,
   "metadata": {},
   "outputs": [
    {
     "data": {
      "application/vnd.plotly.v1+json": {
       "config": {
        "linkText": "Export to plot.ly",
        "plotlyServerURL": "https://plot.ly",
        "showLink": true
       },
       "data": [
        {
         "marker": {
          "color": "rgba(255, 153, 51, 0.6)",
          "line": {
           "color": "rgba(255, 153, 51, 1.0)",
           "width": 1
          }
         },
         "name": "Values",
         "orientation": "v",
         "text": "",
         "type": "bar",
         "x": [
          "A",
          "B",
          "C"
         ],
         "y": [
          32,
          43,
          50
         ]
        }
       ],
       "layout": {
        "legend": {
         "bgcolor": "#F5F6F9",
         "font": {
          "color": "#4D5663"
         }
        },
        "paper_bgcolor": "#F5F6F9",
        "plot_bgcolor": "#F5F6F9",
        "template": {
         "data": {
          "bar": [
           {
            "error_x": {
             "color": "#2a3f5f"
            },
            "error_y": {
             "color": "#2a3f5f"
            },
            "marker": {
             "line": {
              "color": "#E5ECF6",
              "width": 0.5
             }
            },
            "type": "bar"
           }
          ],
          "barpolar": [
           {
            "marker": {
             "line": {
              "color": "#E5ECF6",
              "width": 0.5
             }
            },
            "type": "barpolar"
           }
          ],
          "carpet": [
           {
            "aaxis": {
             "endlinecolor": "#2a3f5f",
             "gridcolor": "white",
             "linecolor": "white",
             "minorgridcolor": "white",
             "startlinecolor": "#2a3f5f"
            },
            "baxis": {
             "endlinecolor": "#2a3f5f",
             "gridcolor": "white",
             "linecolor": "white",
             "minorgridcolor": "white",
             "startlinecolor": "#2a3f5f"
            },
            "type": "carpet"
           }
          ],
          "choropleth": [
           {
            "colorbar": {
             "outlinewidth": 0,
             "ticks": ""
            },
            "type": "choropleth"
           }
          ],
          "contour": [
           {
            "colorbar": {
             "outlinewidth": 0,
             "ticks": ""
            },
            "colorscale": [
             [
              0,
              "#0d0887"
             ],
             [
              0.1111111111111111,
              "#46039f"
             ],
             [
              0.2222222222222222,
              "#7201a8"
             ],
             [
              0.3333333333333333,
              "#9c179e"
             ],
             [
              0.4444444444444444,
              "#bd3786"
             ],
             [
              0.5555555555555556,
              "#d8576b"
             ],
             [
              0.6666666666666666,
              "#ed7953"
             ],
             [
              0.7777777777777778,
              "#fb9f3a"
             ],
             [
              0.8888888888888888,
              "#fdca26"
             ],
             [
              1,
              "#f0f921"
             ]
            ],
            "type": "contour"
           }
          ],
          "contourcarpet": [
           {
            "colorbar": {
             "outlinewidth": 0,
             "ticks": ""
            },
            "type": "contourcarpet"
           }
          ],
          "heatmap": [
           {
            "colorbar": {
             "outlinewidth": 0,
             "ticks": ""
            },
            "colorscale": [
             [
              0,
              "#0d0887"
             ],
             [
              0.1111111111111111,
              "#46039f"
             ],
             [
              0.2222222222222222,
              "#7201a8"
             ],
             [
              0.3333333333333333,
              "#9c179e"
             ],
             [
              0.4444444444444444,
              "#bd3786"
             ],
             [
              0.5555555555555556,
              "#d8576b"
             ],
             [
              0.6666666666666666,
              "#ed7953"
             ],
             [
              0.7777777777777778,
              "#fb9f3a"
             ],
             [
              0.8888888888888888,
              "#fdca26"
             ],
             [
              1,
              "#f0f921"
             ]
            ],
            "type": "heatmap"
           }
          ],
          "heatmapgl": [
           {
            "colorbar": {
             "outlinewidth": 0,
             "ticks": ""
            },
            "colorscale": [
             [
              0,
              "#0d0887"
             ],
             [
              0.1111111111111111,
              "#46039f"
             ],
             [
              0.2222222222222222,
              "#7201a8"
             ],
             [
              0.3333333333333333,
              "#9c179e"
             ],
             [
              0.4444444444444444,
              "#bd3786"
             ],
             [
              0.5555555555555556,
              "#d8576b"
             ],
             [
              0.6666666666666666,
              "#ed7953"
             ],
             [
              0.7777777777777778,
              "#fb9f3a"
             ],
             [
              0.8888888888888888,
              "#fdca26"
             ],
             [
              1,
              "#f0f921"
             ]
            ],
            "type": "heatmapgl"
           }
          ],
          "histogram": [
           {
            "marker": {
             "colorbar": {
              "outlinewidth": 0,
              "ticks": ""
             }
            },
            "type": "histogram"
           }
          ],
          "histogram2d": [
           {
            "colorbar": {
             "outlinewidth": 0,
             "ticks": ""
            },
            "colorscale": [
             [
              0,
              "#0d0887"
             ],
             [
              0.1111111111111111,
              "#46039f"
             ],
             [
              0.2222222222222222,
              "#7201a8"
             ],
             [
              0.3333333333333333,
              "#9c179e"
             ],
             [
              0.4444444444444444,
              "#bd3786"
             ],
             [
              0.5555555555555556,
              "#d8576b"
             ],
             [
              0.6666666666666666,
              "#ed7953"
             ],
             [
              0.7777777777777778,
              "#fb9f3a"
             ],
             [
              0.8888888888888888,
              "#fdca26"
             ],
             [
              1,
              "#f0f921"
             ]
            ],
            "type": "histogram2d"
           }
          ],
          "histogram2dcontour": [
           {
            "colorbar": {
             "outlinewidth": 0,
             "ticks": ""
            },
            "colorscale": [
             [
              0,
              "#0d0887"
             ],
             [
              0.1111111111111111,
              "#46039f"
             ],
             [
              0.2222222222222222,
              "#7201a8"
             ],
             [
              0.3333333333333333,
              "#9c179e"
             ],
             [
              0.4444444444444444,
              "#bd3786"
             ],
             [
              0.5555555555555556,
              "#d8576b"
             ],
             [
              0.6666666666666666,
              "#ed7953"
             ],
             [
              0.7777777777777778,
              "#fb9f3a"
             ],
             [
              0.8888888888888888,
              "#fdca26"
             ],
             [
              1,
              "#f0f921"
             ]
            ],
            "type": "histogram2dcontour"
           }
          ],
          "mesh3d": [
           {
            "colorbar": {
             "outlinewidth": 0,
             "ticks": ""
            },
            "type": "mesh3d"
           }
          ],
          "parcoords": [
           {
            "line": {
             "colorbar": {
              "outlinewidth": 0,
              "ticks": ""
             }
            },
            "type": "parcoords"
           }
          ],
          "pie": [
           {
            "automargin": true,
            "type": "pie"
           }
          ],
          "scatter": [
           {
            "marker": {
             "colorbar": {
              "outlinewidth": 0,
              "ticks": ""
             }
            },
            "type": "scatter"
           }
          ],
          "scatter3d": [
           {
            "line": {
             "colorbar": {
              "outlinewidth": 0,
              "ticks": ""
             }
            },
            "marker": {
             "colorbar": {
              "outlinewidth": 0,
              "ticks": ""
             }
            },
            "type": "scatter3d"
           }
          ],
          "scattercarpet": [
           {
            "marker": {
             "colorbar": {
              "outlinewidth": 0,
              "ticks": ""
             }
            },
            "type": "scattercarpet"
           }
          ],
          "scattergeo": [
           {
            "marker": {
             "colorbar": {
              "outlinewidth": 0,
              "ticks": ""
             }
            },
            "type": "scattergeo"
           }
          ],
          "scattergl": [
           {
            "marker": {
             "colorbar": {
              "outlinewidth": 0,
              "ticks": ""
             }
            },
            "type": "scattergl"
           }
          ],
          "scattermapbox": [
           {
            "marker": {
             "colorbar": {
              "outlinewidth": 0,
              "ticks": ""
             }
            },
            "type": "scattermapbox"
           }
          ],
          "scatterpolar": [
           {
            "marker": {
             "colorbar": {
              "outlinewidth": 0,
              "ticks": ""
             }
            },
            "type": "scatterpolar"
           }
          ],
          "scatterpolargl": [
           {
            "marker": {
             "colorbar": {
              "outlinewidth": 0,
              "ticks": ""
             }
            },
            "type": "scatterpolargl"
           }
          ],
          "scatterternary": [
           {
            "marker": {
             "colorbar": {
              "outlinewidth": 0,
              "ticks": ""
             }
            },
            "type": "scatterternary"
           }
          ],
          "surface": [
           {
            "colorbar": {
             "outlinewidth": 0,
             "ticks": ""
            },
            "colorscale": [
             [
              0,
              "#0d0887"
             ],
             [
              0.1111111111111111,
              "#46039f"
             ],
             [
              0.2222222222222222,
              "#7201a8"
             ],
             [
              0.3333333333333333,
              "#9c179e"
             ],
             [
              0.4444444444444444,
              "#bd3786"
             ],
             [
              0.5555555555555556,
              "#d8576b"
             ],
             [
              0.6666666666666666,
              "#ed7953"
             ],
             [
              0.7777777777777778,
              "#fb9f3a"
             ],
             [
              0.8888888888888888,
              "#fdca26"
             ],
             [
              1,
              "#f0f921"
             ]
            ],
            "type": "surface"
           }
          ],
          "table": [
           {
            "cells": {
             "fill": {
              "color": "#EBF0F8"
             },
             "line": {
              "color": "white"
             }
            },
            "header": {
             "fill": {
              "color": "#C8D4E3"
             },
             "line": {
              "color": "white"
             }
            },
            "type": "table"
           }
          ]
         },
         "layout": {
          "annotationdefaults": {
           "arrowcolor": "#2a3f5f",
           "arrowhead": 0,
           "arrowwidth": 1
          },
          "autotypenumbers": "strict",
          "coloraxis": {
           "colorbar": {
            "outlinewidth": 0,
            "ticks": ""
           }
          },
          "colorscale": {
           "diverging": [
            [
             0,
             "#8e0152"
            ],
            [
             0.1,
             "#c51b7d"
            ],
            [
             0.2,
             "#de77ae"
            ],
            [
             0.3,
             "#f1b6da"
            ],
            [
             0.4,
             "#fde0ef"
            ],
            [
             0.5,
             "#f7f7f7"
            ],
            [
             0.6,
             "#e6f5d0"
            ],
            [
             0.7,
             "#b8e186"
            ],
            [
             0.8,
             "#7fbc41"
            ],
            [
             0.9,
             "#4d9221"
            ],
            [
             1,
             "#276419"
            ]
           ],
           "sequential": [
            [
             0,
             "#0d0887"
            ],
            [
             0.1111111111111111,
             "#46039f"
            ],
            [
             0.2222222222222222,
             "#7201a8"
            ],
            [
             0.3333333333333333,
             "#9c179e"
            ],
            [
             0.4444444444444444,
             "#bd3786"
            ],
            [
             0.5555555555555556,
             "#d8576b"
            ],
            [
             0.6666666666666666,
             "#ed7953"
            ],
            [
             0.7777777777777778,
             "#fb9f3a"
            ],
            [
             0.8888888888888888,
             "#fdca26"
            ],
            [
             1,
             "#f0f921"
            ]
           ],
           "sequentialminus": [
            [
             0,
             "#0d0887"
            ],
            [
             0.1111111111111111,
             "#46039f"
            ],
            [
             0.2222222222222222,
             "#7201a8"
            ],
            [
             0.3333333333333333,
             "#9c179e"
            ],
            [
             0.4444444444444444,
             "#bd3786"
            ],
            [
             0.5555555555555556,
             "#d8576b"
            ],
            [
             0.6666666666666666,
             "#ed7953"
            ],
            [
             0.7777777777777778,
             "#fb9f3a"
            ],
            [
             0.8888888888888888,
             "#fdca26"
            ],
            [
             1,
             "#f0f921"
            ]
           ]
          },
          "colorway": [
           "#636efa",
           "#EF553B",
           "#00cc96",
           "#ab63fa",
           "#FFA15A",
           "#19d3f3",
           "#FF6692",
           "#B6E880",
           "#FF97FF",
           "#FECB52"
          ],
          "font": {
           "color": "#2a3f5f"
          },
          "geo": {
           "bgcolor": "white",
           "lakecolor": "white",
           "landcolor": "#E5ECF6",
           "showlakes": true,
           "showland": true,
           "subunitcolor": "white"
          },
          "hoverlabel": {
           "align": "left"
          },
          "hovermode": "closest",
          "mapbox": {
           "style": "light"
          },
          "paper_bgcolor": "white",
          "plot_bgcolor": "#E5ECF6",
          "polar": {
           "angularaxis": {
            "gridcolor": "white",
            "linecolor": "white",
            "ticks": ""
           },
           "bgcolor": "#E5ECF6",
           "radialaxis": {
            "gridcolor": "white",
            "linecolor": "white",
            "ticks": ""
           }
          },
          "scene": {
           "xaxis": {
            "backgroundcolor": "#E5ECF6",
            "gridcolor": "white",
            "gridwidth": 2,
            "linecolor": "white",
            "showbackground": true,
            "ticks": "",
            "zerolinecolor": "white"
           },
           "yaxis": {
            "backgroundcolor": "#E5ECF6",
            "gridcolor": "white",
            "gridwidth": 2,
            "linecolor": "white",
            "showbackground": true,
            "ticks": "",
            "zerolinecolor": "white"
           },
           "zaxis": {
            "backgroundcolor": "#E5ECF6",
            "gridcolor": "white",
            "gridwidth": 2,
            "linecolor": "white",
            "showbackground": true,
            "ticks": "",
            "zerolinecolor": "white"
           }
          },
          "shapedefaults": {
           "line": {
            "color": "#2a3f5f"
           }
          },
          "ternary": {
           "aaxis": {
            "gridcolor": "white",
            "linecolor": "white",
            "ticks": ""
           },
           "baxis": {
            "gridcolor": "white",
            "linecolor": "white",
            "ticks": ""
           },
           "bgcolor": "#E5ECF6",
           "caxis": {
            "gridcolor": "white",
            "linecolor": "white",
            "ticks": ""
           }
          },
          "title": {
           "x": 0.05
          },
          "xaxis": {
           "automargin": true,
           "gridcolor": "white",
           "linecolor": "white",
           "ticks": "",
           "title": {
            "standoff": 15
           },
           "zerolinecolor": "white",
           "zerolinewidth": 2
          },
          "yaxis": {
           "automargin": true,
           "gridcolor": "white",
           "linecolor": "white",
           "ticks": "",
           "title": {
            "standoff": 15
           },
           "zerolinecolor": "white",
           "zerolinewidth": 2
          }
         }
        },
        "title": {
         "font": {
          "color": "#4D5663"
         }
        },
        "xaxis": {
         "gridcolor": "#E1E5ED",
         "showgrid": true,
         "tickfont": {
          "color": "#4D5663"
         },
         "title": {
          "font": {
           "color": "#4D5663"
          },
          "text": ""
         },
         "zerolinecolor": "#E1E5ED"
        },
        "yaxis": {
         "gridcolor": "#E1E5ED",
         "showgrid": true,
         "tickfont": {
          "color": "#4D5663"
         },
         "title": {
          "font": {
           "color": "#4D5663"
          },
          "text": ""
         },
         "zerolinecolor": "#E1E5ED"
        }
       }
      },
      "text/html": [
       "<div>                            <div id=\"c570ec86-6f1a-4599-87af-de7cdf7f742b\" class=\"plotly-graph-div\" style=\"height:525px; width:100%;\"></div>            <script type=\"text/javascript\">                require([\"plotly\"], function(Plotly) {                    window.PLOTLYENV=window.PLOTLYENV || {};\n",
       "                    window.PLOTLYENV.BASE_URL='https://plot.ly';                                    if (document.getElementById(\"c570ec86-6f1a-4599-87af-de7cdf7f742b\")) {                    Plotly.newPlot(                        \"c570ec86-6f1a-4599-87af-de7cdf7f742b\",                        [{\"marker\": {\"color\": \"rgba(255, 153, 51, 0.6)\", \"line\": {\"color\": \"rgba(255, 153, 51, 1.0)\", \"width\": 1}}, \"name\": \"Values\", \"orientation\": \"v\", \"text\": \"\", \"type\": \"bar\", \"x\": [\"A\", \"B\", \"C\"], \"y\": [32, 43, 50]}],                        {\"legend\": {\"bgcolor\": \"#F5F6F9\", \"font\": {\"color\": \"#4D5663\"}}, \"paper_bgcolor\": \"#F5F6F9\", \"plot_bgcolor\": \"#F5F6F9\", \"template\": {\"data\": {\"bar\": [{\"error_x\": {\"color\": \"#2a3f5f\"}, \"error_y\": {\"color\": \"#2a3f5f\"}, \"marker\": {\"line\": {\"color\": \"#E5ECF6\", \"width\": 0.5}}, \"type\": \"bar\"}], \"barpolar\": [{\"marker\": {\"line\": {\"color\": \"#E5ECF6\", \"width\": 0.5}}, \"type\": \"barpolar\"}], \"carpet\": [{\"aaxis\": {\"endlinecolor\": \"#2a3f5f\", \"gridcolor\": \"white\", \"linecolor\": \"white\", \"minorgridcolor\": \"white\", \"startlinecolor\": \"#2a3f5f\"}, \"baxis\": {\"endlinecolor\": \"#2a3f5f\", \"gridcolor\": \"white\", \"linecolor\": \"white\", \"minorgridcolor\": \"white\", \"startlinecolor\": \"#2a3f5f\"}, \"type\": \"carpet\"}], \"choropleth\": [{\"colorbar\": {\"outlinewidth\": 0, \"ticks\": \"\"}, \"type\": \"choropleth\"}], \"contour\": [{\"colorbar\": {\"outlinewidth\": 0, \"ticks\": \"\"}, \"colorscale\": [[0.0, \"#0d0887\"], [0.1111111111111111, \"#46039f\"], [0.2222222222222222, \"#7201a8\"], [0.3333333333333333, \"#9c179e\"], [0.4444444444444444, \"#bd3786\"], [0.5555555555555556, \"#d8576b\"], [0.6666666666666666, \"#ed7953\"], [0.7777777777777778, \"#fb9f3a\"], [0.8888888888888888, \"#fdca26\"], [1.0, \"#f0f921\"]], \"type\": \"contour\"}], \"contourcarpet\": [{\"colorbar\": {\"outlinewidth\": 0, \"ticks\": \"\"}, \"type\": \"contourcarpet\"}], \"heatmap\": [{\"colorbar\": {\"outlinewidth\": 0, \"ticks\": \"\"}, \"colorscale\": [[0.0, \"#0d0887\"], [0.1111111111111111, \"#46039f\"], [0.2222222222222222, \"#7201a8\"], [0.3333333333333333, \"#9c179e\"], [0.4444444444444444, \"#bd3786\"], [0.5555555555555556, \"#d8576b\"], [0.6666666666666666, \"#ed7953\"], [0.7777777777777778, \"#fb9f3a\"], [0.8888888888888888, \"#fdca26\"], [1.0, \"#f0f921\"]], \"type\": \"heatmap\"}], \"heatmapgl\": [{\"colorbar\": {\"outlinewidth\": 0, \"ticks\": \"\"}, \"colorscale\": [[0.0, \"#0d0887\"], [0.1111111111111111, \"#46039f\"], [0.2222222222222222, \"#7201a8\"], [0.3333333333333333, \"#9c179e\"], [0.4444444444444444, \"#bd3786\"], [0.5555555555555556, \"#d8576b\"], [0.6666666666666666, \"#ed7953\"], [0.7777777777777778, \"#fb9f3a\"], [0.8888888888888888, \"#fdca26\"], [1.0, \"#f0f921\"]], \"type\": \"heatmapgl\"}], \"histogram\": [{\"marker\": {\"colorbar\": {\"outlinewidth\": 0, \"ticks\": \"\"}}, \"type\": \"histogram\"}], \"histogram2d\": [{\"colorbar\": {\"outlinewidth\": 0, \"ticks\": \"\"}, \"colorscale\": [[0.0, \"#0d0887\"], [0.1111111111111111, \"#46039f\"], [0.2222222222222222, \"#7201a8\"], [0.3333333333333333, \"#9c179e\"], [0.4444444444444444, \"#bd3786\"], [0.5555555555555556, \"#d8576b\"], [0.6666666666666666, \"#ed7953\"], [0.7777777777777778, \"#fb9f3a\"], [0.8888888888888888, \"#fdca26\"], [1.0, \"#f0f921\"]], \"type\": \"histogram2d\"}], \"histogram2dcontour\": [{\"colorbar\": {\"outlinewidth\": 0, \"ticks\": \"\"}, \"colorscale\": [[0.0, \"#0d0887\"], [0.1111111111111111, \"#46039f\"], [0.2222222222222222, \"#7201a8\"], [0.3333333333333333, \"#9c179e\"], [0.4444444444444444, \"#bd3786\"], [0.5555555555555556, \"#d8576b\"], [0.6666666666666666, \"#ed7953\"], [0.7777777777777778, \"#fb9f3a\"], [0.8888888888888888, \"#fdca26\"], [1.0, \"#f0f921\"]], \"type\": \"histogram2dcontour\"}], \"mesh3d\": [{\"colorbar\": {\"outlinewidth\": 0, \"ticks\": \"\"}, \"type\": \"mesh3d\"}], \"parcoords\": [{\"line\": {\"colorbar\": {\"outlinewidth\": 0, \"ticks\": \"\"}}, \"type\": \"parcoords\"}], \"pie\": [{\"automargin\": true, \"type\": \"pie\"}], \"scatter\": [{\"marker\": {\"colorbar\": {\"outlinewidth\": 0, \"ticks\": \"\"}}, \"type\": \"scatter\"}], \"scatter3d\": [{\"line\": {\"colorbar\": {\"outlinewidth\": 0, \"ticks\": \"\"}}, \"marker\": {\"colorbar\": {\"outlinewidth\": 0, \"ticks\": \"\"}}, \"type\": \"scatter3d\"}], \"scattercarpet\": [{\"marker\": {\"colorbar\": {\"outlinewidth\": 0, \"ticks\": \"\"}}, \"type\": \"scattercarpet\"}], \"scattergeo\": [{\"marker\": {\"colorbar\": {\"outlinewidth\": 0, \"ticks\": \"\"}}, \"type\": \"scattergeo\"}], \"scattergl\": [{\"marker\": {\"colorbar\": {\"outlinewidth\": 0, \"ticks\": \"\"}}, \"type\": \"scattergl\"}], \"scattermapbox\": [{\"marker\": {\"colorbar\": {\"outlinewidth\": 0, \"ticks\": \"\"}}, \"type\": \"scattermapbox\"}], \"scatterpolar\": [{\"marker\": {\"colorbar\": {\"outlinewidth\": 0, \"ticks\": \"\"}}, \"type\": \"scatterpolar\"}], \"scatterpolargl\": [{\"marker\": {\"colorbar\": {\"outlinewidth\": 0, \"ticks\": \"\"}}, \"type\": \"scatterpolargl\"}], \"scatterternary\": [{\"marker\": {\"colorbar\": {\"outlinewidth\": 0, \"ticks\": \"\"}}, \"type\": \"scatterternary\"}], \"surface\": [{\"colorbar\": {\"outlinewidth\": 0, \"ticks\": \"\"}, \"colorscale\": [[0.0, \"#0d0887\"], [0.1111111111111111, \"#46039f\"], [0.2222222222222222, \"#7201a8\"], [0.3333333333333333, \"#9c179e\"], [0.4444444444444444, \"#bd3786\"], [0.5555555555555556, \"#d8576b\"], [0.6666666666666666, \"#ed7953\"], [0.7777777777777778, \"#fb9f3a\"], [0.8888888888888888, \"#fdca26\"], [1.0, \"#f0f921\"]], \"type\": \"surface\"}], \"table\": [{\"cells\": {\"fill\": {\"color\": \"#EBF0F8\"}, \"line\": {\"color\": \"white\"}}, \"header\": {\"fill\": {\"color\": \"#C8D4E3\"}, \"line\": {\"color\": \"white\"}}, \"type\": \"table\"}]}, \"layout\": {\"annotationdefaults\": {\"arrowcolor\": \"#2a3f5f\", \"arrowhead\": 0, \"arrowwidth\": 1}, \"autotypenumbers\": \"strict\", \"coloraxis\": {\"colorbar\": {\"outlinewidth\": 0, \"ticks\": \"\"}}, \"colorscale\": {\"diverging\": [[0, \"#8e0152\"], [0.1, \"#c51b7d\"], [0.2, \"#de77ae\"], [0.3, \"#f1b6da\"], [0.4, \"#fde0ef\"], [0.5, \"#f7f7f7\"], [0.6, \"#e6f5d0\"], [0.7, \"#b8e186\"], [0.8, \"#7fbc41\"], [0.9, \"#4d9221\"], [1, \"#276419\"]], \"sequential\": [[0.0, \"#0d0887\"], [0.1111111111111111, \"#46039f\"], [0.2222222222222222, \"#7201a8\"], [0.3333333333333333, \"#9c179e\"], [0.4444444444444444, \"#bd3786\"], [0.5555555555555556, \"#d8576b\"], [0.6666666666666666, \"#ed7953\"], [0.7777777777777778, \"#fb9f3a\"], [0.8888888888888888, \"#fdca26\"], [1.0, \"#f0f921\"]], \"sequentialminus\": [[0.0, \"#0d0887\"], [0.1111111111111111, \"#46039f\"], [0.2222222222222222, \"#7201a8\"], [0.3333333333333333, \"#9c179e\"], [0.4444444444444444, \"#bd3786\"], [0.5555555555555556, \"#d8576b\"], [0.6666666666666666, \"#ed7953\"], [0.7777777777777778, \"#fb9f3a\"], [0.8888888888888888, \"#fdca26\"], [1.0, \"#f0f921\"]]}, \"colorway\": [\"#636efa\", \"#EF553B\", \"#00cc96\", \"#ab63fa\", \"#FFA15A\", \"#19d3f3\", \"#FF6692\", \"#B6E880\", \"#FF97FF\", \"#FECB52\"], \"font\": {\"color\": \"#2a3f5f\"}, \"geo\": {\"bgcolor\": \"white\", \"lakecolor\": \"white\", \"landcolor\": \"#E5ECF6\", \"showlakes\": true, \"showland\": true, \"subunitcolor\": \"white\"}, \"hoverlabel\": {\"align\": \"left\"}, \"hovermode\": \"closest\", \"mapbox\": {\"style\": \"light\"}, \"paper_bgcolor\": \"white\", \"plot_bgcolor\": \"#E5ECF6\", \"polar\": {\"angularaxis\": {\"gridcolor\": \"white\", \"linecolor\": \"white\", \"ticks\": \"\"}, \"bgcolor\": \"#E5ECF6\", \"radialaxis\": {\"gridcolor\": \"white\", \"linecolor\": \"white\", \"ticks\": \"\"}}, \"scene\": {\"xaxis\": {\"backgroundcolor\": \"#E5ECF6\", \"gridcolor\": \"white\", \"gridwidth\": 2, \"linecolor\": \"white\", \"showbackground\": true, \"ticks\": \"\", \"zerolinecolor\": \"white\"}, \"yaxis\": {\"backgroundcolor\": \"#E5ECF6\", \"gridcolor\": \"white\", \"gridwidth\": 2, \"linecolor\": \"white\", \"showbackground\": true, \"ticks\": \"\", \"zerolinecolor\": \"white\"}, \"zaxis\": {\"backgroundcolor\": \"#E5ECF6\", \"gridcolor\": \"white\", \"gridwidth\": 2, \"linecolor\": \"white\", \"showbackground\": true, \"ticks\": \"\", \"zerolinecolor\": \"white\"}}, \"shapedefaults\": {\"line\": {\"color\": \"#2a3f5f\"}}, \"ternary\": {\"aaxis\": {\"gridcolor\": \"white\", \"linecolor\": \"white\", \"ticks\": \"\"}, \"baxis\": {\"gridcolor\": \"white\", \"linecolor\": \"white\", \"ticks\": \"\"}, \"bgcolor\": \"#E5ECF6\", \"caxis\": {\"gridcolor\": \"white\", \"linecolor\": \"white\", \"ticks\": \"\"}}, \"title\": {\"x\": 0.05}, \"xaxis\": {\"automargin\": true, \"gridcolor\": \"white\", \"linecolor\": \"white\", \"ticks\": \"\", \"title\": {\"standoff\": 15}, \"zerolinecolor\": \"white\", \"zerolinewidth\": 2}, \"yaxis\": {\"automargin\": true, \"gridcolor\": \"white\", \"linecolor\": \"white\", \"ticks\": \"\", \"title\": {\"standoff\": 15}, \"zerolinecolor\": \"white\", \"zerolinewidth\": 2}}}, \"title\": {\"font\": {\"color\": \"#4D5663\"}}, \"xaxis\": {\"gridcolor\": \"#E1E5ED\", \"showgrid\": true, \"tickfont\": {\"color\": \"#4D5663\"}, \"title\": {\"font\": {\"color\": \"#4D5663\"}, \"text\": \"\"}, \"zerolinecolor\": \"#E1E5ED\"}, \"yaxis\": {\"gridcolor\": \"#E1E5ED\", \"showgrid\": true, \"tickfont\": {\"color\": \"#4D5663\"}, \"title\": {\"font\": {\"color\": \"#4D5663\"}, \"text\": \"\"}, \"zerolinecolor\": \"#E1E5ED\"}},                        {\"showLink\": true, \"linkText\": \"Export to plot.ly\", \"plotlyServerURL\": \"https://plot.ly\", \"responsive\": true}                    ).then(function(){\n",
       "                            \n",
       "var gd = document.getElementById('c570ec86-6f1a-4599-87af-de7cdf7f742b');\n",
       "var x = new MutationObserver(function (mutations, observer) {{\n",
       "        var display = window.getComputedStyle(gd).display;\n",
       "        if (!display || display === 'none') {{\n",
       "            console.log([gd, 'removed!']);\n",
       "            Plotly.purge(gd);\n",
       "            observer.disconnect();\n",
       "        }}\n",
       "}});\n",
       "\n",
       "// Listen for the removal of the full notebook cells\n",
       "var notebookContainer = gd.closest('#notebook-container');\n",
       "if (notebookContainer) {{\n",
       "    x.observe(notebookContainer, {childList: true});\n",
       "}}\n",
       "\n",
       "// Listen for the clearing of the current output cell\n",
       "var outputEl = gd.closest('.output');\n",
       "if (outputEl) {{\n",
       "    x.observe(outputEl, {childList: true});\n",
       "}}\n",
       "\n",
       "                        })                };                });            </script>        </div>"
      ]
     },
     "metadata": {},
     "output_type": "display_data"
    }
   ],
   "source": [
    "df2.iplot(kind='bar', x='Category', y='Values')"
   ]
  },
  {
   "cell_type": "code",
   "execution_count": 14,
   "metadata": {},
   "outputs": [
    {
     "data": {
      "application/vnd.plotly.v1+json": {
       "config": {
        "linkText": "Export to plot.ly",
        "plotlyServerURL": "https://plot.ly",
        "showLink": true
       },
       "data": [
        {
         "marker": {
          "color": "rgba(255, 153, 51, 0.6)",
          "line": {
           "color": "rgba(255, 153, 51, 1.0)",
           "width": 1
          }
         },
         "name": "None",
         "orientation": "v",
         "text": "",
         "type": "bar",
         "x": [
          "A",
          "B",
          "C",
          "D"
         ],
         "y": [
          -10.16947375320919,
          -4.465355564910638,
          7.173450272114162,
          -2.5041601706219825
         ]
        }
       ],
       "layout": {
        "legend": {
         "bgcolor": "#F5F6F9",
         "font": {
          "color": "#4D5663"
         }
        },
        "paper_bgcolor": "#F5F6F9",
        "plot_bgcolor": "#F5F6F9",
        "template": {
         "data": {
          "bar": [
           {
            "error_x": {
             "color": "#2a3f5f"
            },
            "error_y": {
             "color": "#2a3f5f"
            },
            "marker": {
             "line": {
              "color": "#E5ECF6",
              "width": 0.5
             }
            },
            "type": "bar"
           }
          ],
          "barpolar": [
           {
            "marker": {
             "line": {
              "color": "#E5ECF6",
              "width": 0.5
             }
            },
            "type": "barpolar"
           }
          ],
          "carpet": [
           {
            "aaxis": {
             "endlinecolor": "#2a3f5f",
             "gridcolor": "white",
             "linecolor": "white",
             "minorgridcolor": "white",
             "startlinecolor": "#2a3f5f"
            },
            "baxis": {
             "endlinecolor": "#2a3f5f",
             "gridcolor": "white",
             "linecolor": "white",
             "minorgridcolor": "white",
             "startlinecolor": "#2a3f5f"
            },
            "type": "carpet"
           }
          ],
          "choropleth": [
           {
            "colorbar": {
             "outlinewidth": 0,
             "ticks": ""
            },
            "type": "choropleth"
           }
          ],
          "contour": [
           {
            "colorbar": {
             "outlinewidth": 0,
             "ticks": ""
            },
            "colorscale": [
             [
              0,
              "#0d0887"
             ],
             [
              0.1111111111111111,
              "#46039f"
             ],
             [
              0.2222222222222222,
              "#7201a8"
             ],
             [
              0.3333333333333333,
              "#9c179e"
             ],
             [
              0.4444444444444444,
              "#bd3786"
             ],
             [
              0.5555555555555556,
              "#d8576b"
             ],
             [
              0.6666666666666666,
              "#ed7953"
             ],
             [
              0.7777777777777778,
              "#fb9f3a"
             ],
             [
              0.8888888888888888,
              "#fdca26"
             ],
             [
              1,
              "#f0f921"
             ]
            ],
            "type": "contour"
           }
          ],
          "contourcarpet": [
           {
            "colorbar": {
             "outlinewidth": 0,
             "ticks": ""
            },
            "type": "contourcarpet"
           }
          ],
          "heatmap": [
           {
            "colorbar": {
             "outlinewidth": 0,
             "ticks": ""
            },
            "colorscale": [
             [
              0,
              "#0d0887"
             ],
             [
              0.1111111111111111,
              "#46039f"
             ],
             [
              0.2222222222222222,
              "#7201a8"
             ],
             [
              0.3333333333333333,
              "#9c179e"
             ],
             [
              0.4444444444444444,
              "#bd3786"
             ],
             [
              0.5555555555555556,
              "#d8576b"
             ],
             [
              0.6666666666666666,
              "#ed7953"
             ],
             [
              0.7777777777777778,
              "#fb9f3a"
             ],
             [
              0.8888888888888888,
              "#fdca26"
             ],
             [
              1,
              "#f0f921"
             ]
            ],
            "type": "heatmap"
           }
          ],
          "heatmapgl": [
           {
            "colorbar": {
             "outlinewidth": 0,
             "ticks": ""
            },
            "colorscale": [
             [
              0,
              "#0d0887"
             ],
             [
              0.1111111111111111,
              "#46039f"
             ],
             [
              0.2222222222222222,
              "#7201a8"
             ],
             [
              0.3333333333333333,
              "#9c179e"
             ],
             [
              0.4444444444444444,
              "#bd3786"
             ],
             [
              0.5555555555555556,
              "#d8576b"
             ],
             [
              0.6666666666666666,
              "#ed7953"
             ],
             [
              0.7777777777777778,
              "#fb9f3a"
             ],
             [
              0.8888888888888888,
              "#fdca26"
             ],
             [
              1,
              "#f0f921"
             ]
            ],
            "type": "heatmapgl"
           }
          ],
          "histogram": [
           {
            "marker": {
             "colorbar": {
              "outlinewidth": 0,
              "ticks": ""
             }
            },
            "type": "histogram"
           }
          ],
          "histogram2d": [
           {
            "colorbar": {
             "outlinewidth": 0,
             "ticks": ""
            },
            "colorscale": [
             [
              0,
              "#0d0887"
             ],
             [
              0.1111111111111111,
              "#46039f"
             ],
             [
              0.2222222222222222,
              "#7201a8"
             ],
             [
              0.3333333333333333,
              "#9c179e"
             ],
             [
              0.4444444444444444,
              "#bd3786"
             ],
             [
              0.5555555555555556,
              "#d8576b"
             ],
             [
              0.6666666666666666,
              "#ed7953"
             ],
             [
              0.7777777777777778,
              "#fb9f3a"
             ],
             [
              0.8888888888888888,
              "#fdca26"
             ],
             [
              1,
              "#f0f921"
             ]
            ],
            "type": "histogram2d"
           }
          ],
          "histogram2dcontour": [
           {
            "colorbar": {
             "outlinewidth": 0,
             "ticks": ""
            },
            "colorscale": [
             [
              0,
              "#0d0887"
             ],
             [
              0.1111111111111111,
              "#46039f"
             ],
             [
              0.2222222222222222,
              "#7201a8"
             ],
             [
              0.3333333333333333,
              "#9c179e"
             ],
             [
              0.4444444444444444,
              "#bd3786"
             ],
             [
              0.5555555555555556,
              "#d8576b"
             ],
             [
              0.6666666666666666,
              "#ed7953"
             ],
             [
              0.7777777777777778,
              "#fb9f3a"
             ],
             [
              0.8888888888888888,
              "#fdca26"
             ],
             [
              1,
              "#f0f921"
             ]
            ],
            "type": "histogram2dcontour"
           }
          ],
          "mesh3d": [
           {
            "colorbar": {
             "outlinewidth": 0,
             "ticks": ""
            },
            "type": "mesh3d"
           }
          ],
          "parcoords": [
           {
            "line": {
             "colorbar": {
              "outlinewidth": 0,
              "ticks": ""
             }
            },
            "type": "parcoords"
           }
          ],
          "pie": [
           {
            "automargin": true,
            "type": "pie"
           }
          ],
          "scatter": [
           {
            "marker": {
             "colorbar": {
              "outlinewidth": 0,
              "ticks": ""
             }
            },
            "type": "scatter"
           }
          ],
          "scatter3d": [
           {
            "line": {
             "colorbar": {
              "outlinewidth": 0,
              "ticks": ""
             }
            },
            "marker": {
             "colorbar": {
              "outlinewidth": 0,
              "ticks": ""
             }
            },
            "type": "scatter3d"
           }
          ],
          "scattercarpet": [
           {
            "marker": {
             "colorbar": {
              "outlinewidth": 0,
              "ticks": ""
             }
            },
            "type": "scattercarpet"
           }
          ],
          "scattergeo": [
           {
            "marker": {
             "colorbar": {
              "outlinewidth": 0,
              "ticks": ""
             }
            },
            "type": "scattergeo"
           }
          ],
          "scattergl": [
           {
            "marker": {
             "colorbar": {
              "outlinewidth": 0,
              "ticks": ""
             }
            },
            "type": "scattergl"
           }
          ],
          "scattermapbox": [
           {
            "marker": {
             "colorbar": {
              "outlinewidth": 0,
              "ticks": ""
             }
            },
            "type": "scattermapbox"
           }
          ],
          "scatterpolar": [
           {
            "marker": {
             "colorbar": {
              "outlinewidth": 0,
              "ticks": ""
             }
            },
            "type": "scatterpolar"
           }
          ],
          "scatterpolargl": [
           {
            "marker": {
             "colorbar": {
              "outlinewidth": 0,
              "ticks": ""
             }
            },
            "type": "scatterpolargl"
           }
          ],
          "scatterternary": [
           {
            "marker": {
             "colorbar": {
              "outlinewidth": 0,
              "ticks": ""
             }
            },
            "type": "scatterternary"
           }
          ],
          "surface": [
           {
            "colorbar": {
             "outlinewidth": 0,
             "ticks": ""
            },
            "colorscale": [
             [
              0,
              "#0d0887"
             ],
             [
              0.1111111111111111,
              "#46039f"
             ],
             [
              0.2222222222222222,
              "#7201a8"
             ],
             [
              0.3333333333333333,
              "#9c179e"
             ],
             [
              0.4444444444444444,
              "#bd3786"
             ],
             [
              0.5555555555555556,
              "#d8576b"
             ],
             [
              0.6666666666666666,
              "#ed7953"
             ],
             [
              0.7777777777777778,
              "#fb9f3a"
             ],
             [
              0.8888888888888888,
              "#fdca26"
             ],
             [
              1,
              "#f0f921"
             ]
            ],
            "type": "surface"
           }
          ],
          "table": [
           {
            "cells": {
             "fill": {
              "color": "#EBF0F8"
             },
             "line": {
              "color": "white"
             }
            },
            "header": {
             "fill": {
              "color": "#C8D4E3"
             },
             "line": {
              "color": "white"
             }
            },
            "type": "table"
           }
          ]
         },
         "layout": {
          "annotationdefaults": {
           "arrowcolor": "#2a3f5f",
           "arrowhead": 0,
           "arrowwidth": 1
          },
          "autotypenumbers": "strict",
          "coloraxis": {
           "colorbar": {
            "outlinewidth": 0,
            "ticks": ""
           }
          },
          "colorscale": {
           "diverging": [
            [
             0,
             "#8e0152"
            ],
            [
             0.1,
             "#c51b7d"
            ],
            [
             0.2,
             "#de77ae"
            ],
            [
             0.3,
             "#f1b6da"
            ],
            [
             0.4,
             "#fde0ef"
            ],
            [
             0.5,
             "#f7f7f7"
            ],
            [
             0.6,
             "#e6f5d0"
            ],
            [
             0.7,
             "#b8e186"
            ],
            [
             0.8,
             "#7fbc41"
            ],
            [
             0.9,
             "#4d9221"
            ],
            [
             1,
             "#276419"
            ]
           ],
           "sequential": [
            [
             0,
             "#0d0887"
            ],
            [
             0.1111111111111111,
             "#46039f"
            ],
            [
             0.2222222222222222,
             "#7201a8"
            ],
            [
             0.3333333333333333,
             "#9c179e"
            ],
            [
             0.4444444444444444,
             "#bd3786"
            ],
            [
             0.5555555555555556,
             "#d8576b"
            ],
            [
             0.6666666666666666,
             "#ed7953"
            ],
            [
             0.7777777777777778,
             "#fb9f3a"
            ],
            [
             0.8888888888888888,
             "#fdca26"
            ],
            [
             1,
             "#f0f921"
            ]
           ],
           "sequentialminus": [
            [
             0,
             "#0d0887"
            ],
            [
             0.1111111111111111,
             "#46039f"
            ],
            [
             0.2222222222222222,
             "#7201a8"
            ],
            [
             0.3333333333333333,
             "#9c179e"
            ],
            [
             0.4444444444444444,
             "#bd3786"
            ],
            [
             0.5555555555555556,
             "#d8576b"
            ],
            [
             0.6666666666666666,
             "#ed7953"
            ],
            [
             0.7777777777777778,
             "#fb9f3a"
            ],
            [
             0.8888888888888888,
             "#fdca26"
            ],
            [
             1,
             "#f0f921"
            ]
           ]
          },
          "colorway": [
           "#636efa",
           "#EF553B",
           "#00cc96",
           "#ab63fa",
           "#FFA15A",
           "#19d3f3",
           "#FF6692",
           "#B6E880",
           "#FF97FF",
           "#FECB52"
          ],
          "font": {
           "color": "#2a3f5f"
          },
          "geo": {
           "bgcolor": "white",
           "lakecolor": "white",
           "landcolor": "#E5ECF6",
           "showlakes": true,
           "showland": true,
           "subunitcolor": "white"
          },
          "hoverlabel": {
           "align": "left"
          },
          "hovermode": "closest",
          "mapbox": {
           "style": "light"
          },
          "paper_bgcolor": "white",
          "plot_bgcolor": "#E5ECF6",
          "polar": {
           "angularaxis": {
            "gridcolor": "white",
            "linecolor": "white",
            "ticks": ""
           },
           "bgcolor": "#E5ECF6",
           "radialaxis": {
            "gridcolor": "white",
            "linecolor": "white",
            "ticks": ""
           }
          },
          "scene": {
           "xaxis": {
            "backgroundcolor": "#E5ECF6",
            "gridcolor": "white",
            "gridwidth": 2,
            "linecolor": "white",
            "showbackground": true,
            "ticks": "",
            "zerolinecolor": "white"
           },
           "yaxis": {
            "backgroundcolor": "#E5ECF6",
            "gridcolor": "white",
            "gridwidth": 2,
            "linecolor": "white",
            "showbackground": true,
            "ticks": "",
            "zerolinecolor": "white"
           },
           "zaxis": {
            "backgroundcolor": "#E5ECF6",
            "gridcolor": "white",
            "gridwidth": 2,
            "linecolor": "white",
            "showbackground": true,
            "ticks": "",
            "zerolinecolor": "white"
           }
          },
          "shapedefaults": {
           "line": {
            "color": "#2a3f5f"
           }
          },
          "ternary": {
           "aaxis": {
            "gridcolor": "white",
            "linecolor": "white",
            "ticks": ""
           },
           "baxis": {
            "gridcolor": "white",
            "linecolor": "white",
            "ticks": ""
           },
           "bgcolor": "#E5ECF6",
           "caxis": {
            "gridcolor": "white",
            "linecolor": "white",
            "ticks": ""
           }
          },
          "title": {
           "x": 0.05
          },
          "xaxis": {
           "automargin": true,
           "gridcolor": "white",
           "linecolor": "white",
           "ticks": "",
           "title": {
            "standoff": 15
           },
           "zerolinecolor": "white",
           "zerolinewidth": 2
          },
          "yaxis": {
           "automargin": true,
           "gridcolor": "white",
           "linecolor": "white",
           "ticks": "",
           "title": {
            "standoff": 15
           },
           "zerolinecolor": "white",
           "zerolinewidth": 2
          }
         }
        },
        "title": {
         "font": {
          "color": "#4D5663"
         }
        },
        "xaxis": {
         "gridcolor": "#E1E5ED",
         "showgrid": true,
         "tickfont": {
          "color": "#4D5663"
         },
         "title": {
          "font": {
           "color": "#4D5663"
          },
          "text": ""
         },
         "zerolinecolor": "#E1E5ED"
        },
        "yaxis": {
         "gridcolor": "#E1E5ED",
         "showgrid": true,
         "tickfont": {
          "color": "#4D5663"
         },
         "title": {
          "font": {
           "color": "#4D5663"
          },
          "text": ""
         },
         "zerolinecolor": "#E1E5ED"
        }
       }
      },
      "text/html": [
       "<div>                            <div id=\"34106a46-249d-4f7a-9acf-0724cbe374e7\" class=\"plotly-graph-div\" style=\"height:525px; width:100%;\"></div>            <script type=\"text/javascript\">                require([\"plotly\"], function(Plotly) {                    window.PLOTLYENV=window.PLOTLYENV || {};\n",
       "                    window.PLOTLYENV.BASE_URL='https://plot.ly';                                    if (document.getElementById(\"34106a46-249d-4f7a-9acf-0724cbe374e7\")) {                    Plotly.newPlot(                        \"34106a46-249d-4f7a-9acf-0724cbe374e7\",                        [{\"marker\": {\"color\": \"rgba(255, 153, 51, 0.6)\", \"line\": {\"color\": \"rgba(255, 153, 51, 1.0)\", \"width\": 1}}, \"name\": \"None\", \"orientation\": \"v\", \"text\": \"\", \"type\": \"bar\", \"x\": [\"A\", \"B\", \"C\", \"D\"], \"y\": [-10.16947375320919, -4.465355564910638, 7.173450272114162, -2.5041601706219825]}],                        {\"legend\": {\"bgcolor\": \"#F5F6F9\", \"font\": {\"color\": \"#4D5663\"}}, \"paper_bgcolor\": \"#F5F6F9\", \"plot_bgcolor\": \"#F5F6F9\", \"template\": {\"data\": {\"bar\": [{\"error_x\": {\"color\": \"#2a3f5f\"}, \"error_y\": {\"color\": \"#2a3f5f\"}, \"marker\": {\"line\": {\"color\": \"#E5ECF6\", \"width\": 0.5}}, \"type\": \"bar\"}], \"barpolar\": [{\"marker\": {\"line\": {\"color\": \"#E5ECF6\", \"width\": 0.5}}, \"type\": \"barpolar\"}], \"carpet\": [{\"aaxis\": {\"endlinecolor\": \"#2a3f5f\", \"gridcolor\": \"white\", \"linecolor\": \"white\", \"minorgridcolor\": \"white\", \"startlinecolor\": \"#2a3f5f\"}, \"baxis\": {\"endlinecolor\": \"#2a3f5f\", \"gridcolor\": \"white\", \"linecolor\": \"white\", \"minorgridcolor\": \"white\", \"startlinecolor\": \"#2a3f5f\"}, \"type\": \"carpet\"}], \"choropleth\": [{\"colorbar\": {\"outlinewidth\": 0, \"ticks\": \"\"}, \"type\": \"choropleth\"}], \"contour\": [{\"colorbar\": {\"outlinewidth\": 0, \"ticks\": \"\"}, \"colorscale\": [[0.0, \"#0d0887\"], [0.1111111111111111, \"#46039f\"], [0.2222222222222222, \"#7201a8\"], [0.3333333333333333, \"#9c179e\"], [0.4444444444444444, \"#bd3786\"], [0.5555555555555556, \"#d8576b\"], [0.6666666666666666, \"#ed7953\"], [0.7777777777777778, \"#fb9f3a\"], [0.8888888888888888, \"#fdca26\"], [1.0, \"#f0f921\"]], \"type\": \"contour\"}], \"contourcarpet\": [{\"colorbar\": {\"outlinewidth\": 0, \"ticks\": \"\"}, \"type\": \"contourcarpet\"}], \"heatmap\": [{\"colorbar\": {\"outlinewidth\": 0, \"ticks\": \"\"}, \"colorscale\": [[0.0, \"#0d0887\"], [0.1111111111111111, \"#46039f\"], [0.2222222222222222, \"#7201a8\"], [0.3333333333333333, \"#9c179e\"], [0.4444444444444444, \"#bd3786\"], [0.5555555555555556, \"#d8576b\"], [0.6666666666666666, \"#ed7953\"], [0.7777777777777778, \"#fb9f3a\"], [0.8888888888888888, \"#fdca26\"], [1.0, \"#f0f921\"]], \"type\": \"heatmap\"}], \"heatmapgl\": [{\"colorbar\": {\"outlinewidth\": 0, \"ticks\": \"\"}, \"colorscale\": [[0.0, \"#0d0887\"], [0.1111111111111111, \"#46039f\"], [0.2222222222222222, \"#7201a8\"], [0.3333333333333333, \"#9c179e\"], [0.4444444444444444, \"#bd3786\"], [0.5555555555555556, \"#d8576b\"], [0.6666666666666666, \"#ed7953\"], [0.7777777777777778, \"#fb9f3a\"], [0.8888888888888888, \"#fdca26\"], [1.0, \"#f0f921\"]], \"type\": \"heatmapgl\"}], \"histogram\": [{\"marker\": {\"colorbar\": {\"outlinewidth\": 0, \"ticks\": \"\"}}, \"type\": \"histogram\"}], \"histogram2d\": [{\"colorbar\": {\"outlinewidth\": 0, \"ticks\": \"\"}, \"colorscale\": [[0.0, \"#0d0887\"], [0.1111111111111111, \"#46039f\"], [0.2222222222222222, \"#7201a8\"], [0.3333333333333333, \"#9c179e\"], [0.4444444444444444, \"#bd3786\"], [0.5555555555555556, \"#d8576b\"], [0.6666666666666666, \"#ed7953\"], [0.7777777777777778, \"#fb9f3a\"], [0.8888888888888888, \"#fdca26\"], [1.0, \"#f0f921\"]], \"type\": \"histogram2d\"}], \"histogram2dcontour\": [{\"colorbar\": {\"outlinewidth\": 0, \"ticks\": \"\"}, \"colorscale\": [[0.0, \"#0d0887\"], [0.1111111111111111, \"#46039f\"], [0.2222222222222222, \"#7201a8\"], [0.3333333333333333, \"#9c179e\"], [0.4444444444444444, \"#bd3786\"], [0.5555555555555556, \"#d8576b\"], [0.6666666666666666, \"#ed7953\"], [0.7777777777777778, \"#fb9f3a\"], [0.8888888888888888, \"#fdca26\"], [1.0, \"#f0f921\"]], \"type\": \"histogram2dcontour\"}], \"mesh3d\": [{\"colorbar\": {\"outlinewidth\": 0, \"ticks\": \"\"}, \"type\": \"mesh3d\"}], \"parcoords\": [{\"line\": {\"colorbar\": {\"outlinewidth\": 0, \"ticks\": \"\"}}, \"type\": \"parcoords\"}], \"pie\": [{\"automargin\": true, \"type\": \"pie\"}], \"scatter\": [{\"marker\": {\"colorbar\": {\"outlinewidth\": 0, \"ticks\": \"\"}}, \"type\": \"scatter\"}], \"scatter3d\": [{\"line\": {\"colorbar\": {\"outlinewidth\": 0, \"ticks\": \"\"}}, \"marker\": {\"colorbar\": {\"outlinewidth\": 0, \"ticks\": \"\"}}, \"type\": \"scatter3d\"}], \"scattercarpet\": [{\"marker\": {\"colorbar\": {\"outlinewidth\": 0, \"ticks\": \"\"}}, \"type\": \"scattercarpet\"}], \"scattergeo\": [{\"marker\": {\"colorbar\": {\"outlinewidth\": 0, \"ticks\": \"\"}}, \"type\": \"scattergeo\"}], \"scattergl\": [{\"marker\": {\"colorbar\": {\"outlinewidth\": 0, \"ticks\": \"\"}}, \"type\": \"scattergl\"}], \"scattermapbox\": [{\"marker\": {\"colorbar\": {\"outlinewidth\": 0, \"ticks\": \"\"}}, \"type\": \"scattermapbox\"}], \"scatterpolar\": [{\"marker\": {\"colorbar\": {\"outlinewidth\": 0, \"ticks\": \"\"}}, \"type\": \"scatterpolar\"}], \"scatterpolargl\": [{\"marker\": {\"colorbar\": {\"outlinewidth\": 0, \"ticks\": \"\"}}, \"type\": \"scatterpolargl\"}], \"scatterternary\": [{\"marker\": {\"colorbar\": {\"outlinewidth\": 0, \"ticks\": \"\"}}, \"type\": \"scatterternary\"}], \"surface\": [{\"colorbar\": {\"outlinewidth\": 0, \"ticks\": \"\"}, \"colorscale\": [[0.0, \"#0d0887\"], [0.1111111111111111, \"#46039f\"], [0.2222222222222222, \"#7201a8\"], [0.3333333333333333, \"#9c179e\"], [0.4444444444444444, \"#bd3786\"], [0.5555555555555556, \"#d8576b\"], [0.6666666666666666, \"#ed7953\"], [0.7777777777777778, \"#fb9f3a\"], [0.8888888888888888, \"#fdca26\"], [1.0, \"#f0f921\"]], \"type\": \"surface\"}], \"table\": [{\"cells\": {\"fill\": {\"color\": \"#EBF0F8\"}, \"line\": {\"color\": \"white\"}}, \"header\": {\"fill\": {\"color\": \"#C8D4E3\"}, \"line\": {\"color\": \"white\"}}, \"type\": \"table\"}]}, \"layout\": {\"annotationdefaults\": {\"arrowcolor\": \"#2a3f5f\", \"arrowhead\": 0, \"arrowwidth\": 1}, \"autotypenumbers\": \"strict\", \"coloraxis\": {\"colorbar\": {\"outlinewidth\": 0, \"ticks\": \"\"}}, \"colorscale\": {\"diverging\": [[0, \"#8e0152\"], [0.1, \"#c51b7d\"], [0.2, \"#de77ae\"], [0.3, \"#f1b6da\"], [0.4, \"#fde0ef\"], [0.5, \"#f7f7f7\"], [0.6, \"#e6f5d0\"], [0.7, \"#b8e186\"], [0.8, \"#7fbc41\"], [0.9, \"#4d9221\"], [1, \"#276419\"]], \"sequential\": [[0.0, \"#0d0887\"], [0.1111111111111111, \"#46039f\"], [0.2222222222222222, \"#7201a8\"], [0.3333333333333333, \"#9c179e\"], [0.4444444444444444, \"#bd3786\"], [0.5555555555555556, \"#d8576b\"], [0.6666666666666666, \"#ed7953\"], [0.7777777777777778, \"#fb9f3a\"], [0.8888888888888888, \"#fdca26\"], [1.0, \"#f0f921\"]], \"sequentialminus\": [[0.0, \"#0d0887\"], [0.1111111111111111, \"#46039f\"], [0.2222222222222222, \"#7201a8\"], [0.3333333333333333, \"#9c179e\"], [0.4444444444444444, \"#bd3786\"], [0.5555555555555556, \"#d8576b\"], [0.6666666666666666, \"#ed7953\"], [0.7777777777777778, \"#fb9f3a\"], [0.8888888888888888, \"#fdca26\"], [1.0, \"#f0f921\"]]}, \"colorway\": [\"#636efa\", \"#EF553B\", \"#00cc96\", \"#ab63fa\", \"#FFA15A\", \"#19d3f3\", \"#FF6692\", \"#B6E880\", \"#FF97FF\", \"#FECB52\"], \"font\": {\"color\": \"#2a3f5f\"}, \"geo\": {\"bgcolor\": \"white\", \"lakecolor\": \"white\", \"landcolor\": \"#E5ECF6\", \"showlakes\": true, \"showland\": true, \"subunitcolor\": \"white\"}, \"hoverlabel\": {\"align\": \"left\"}, \"hovermode\": \"closest\", \"mapbox\": {\"style\": \"light\"}, \"paper_bgcolor\": \"white\", \"plot_bgcolor\": \"#E5ECF6\", \"polar\": {\"angularaxis\": {\"gridcolor\": \"white\", \"linecolor\": \"white\", \"ticks\": \"\"}, \"bgcolor\": \"#E5ECF6\", \"radialaxis\": {\"gridcolor\": \"white\", \"linecolor\": \"white\", \"ticks\": \"\"}}, \"scene\": {\"xaxis\": {\"backgroundcolor\": \"#E5ECF6\", \"gridcolor\": \"white\", \"gridwidth\": 2, \"linecolor\": \"white\", \"showbackground\": true, \"ticks\": \"\", \"zerolinecolor\": \"white\"}, \"yaxis\": {\"backgroundcolor\": \"#E5ECF6\", \"gridcolor\": \"white\", \"gridwidth\": 2, \"linecolor\": \"white\", \"showbackground\": true, \"ticks\": \"\", \"zerolinecolor\": \"white\"}, \"zaxis\": {\"backgroundcolor\": \"#E5ECF6\", \"gridcolor\": \"white\", \"gridwidth\": 2, \"linecolor\": \"white\", \"showbackground\": true, \"ticks\": \"\", \"zerolinecolor\": \"white\"}}, \"shapedefaults\": {\"line\": {\"color\": \"#2a3f5f\"}}, \"ternary\": {\"aaxis\": {\"gridcolor\": \"white\", \"linecolor\": \"white\", \"ticks\": \"\"}, \"baxis\": {\"gridcolor\": \"white\", \"linecolor\": \"white\", \"ticks\": \"\"}, \"bgcolor\": \"#E5ECF6\", \"caxis\": {\"gridcolor\": \"white\", \"linecolor\": \"white\", \"ticks\": \"\"}}, \"title\": {\"x\": 0.05}, \"xaxis\": {\"automargin\": true, \"gridcolor\": \"white\", \"linecolor\": \"white\", \"ticks\": \"\", \"title\": {\"standoff\": 15}, \"zerolinecolor\": \"white\", \"zerolinewidth\": 2}, \"yaxis\": {\"automargin\": true, \"gridcolor\": \"white\", \"linecolor\": \"white\", \"ticks\": \"\", \"title\": {\"standoff\": 15}, \"zerolinecolor\": \"white\", \"zerolinewidth\": 2}}}, \"title\": {\"font\": {\"color\": \"#4D5663\"}}, \"xaxis\": {\"gridcolor\": \"#E1E5ED\", \"showgrid\": true, \"tickfont\": {\"color\": \"#4D5663\"}, \"title\": {\"font\": {\"color\": \"#4D5663\"}, \"text\": \"\"}, \"zerolinecolor\": \"#E1E5ED\"}, \"yaxis\": {\"gridcolor\": \"#E1E5ED\", \"showgrid\": true, \"tickfont\": {\"color\": \"#4D5663\"}, \"title\": {\"font\": {\"color\": \"#4D5663\"}, \"text\": \"\"}, \"zerolinecolor\": \"#E1E5ED\"}},                        {\"showLink\": true, \"linkText\": \"Export to plot.ly\", \"plotlyServerURL\": \"https://plot.ly\", \"responsive\": true}                    ).then(function(){\n",
       "                            \n",
       "var gd = document.getElementById('34106a46-249d-4f7a-9acf-0724cbe374e7');\n",
       "var x = new MutationObserver(function (mutations, observer) {{\n",
       "        var display = window.getComputedStyle(gd).display;\n",
       "        if (!display || display === 'none') {{\n",
       "            console.log([gd, 'removed!']);\n",
       "            Plotly.purge(gd);\n",
       "            observer.disconnect();\n",
       "        }}\n",
       "}});\n",
       "\n",
       "// Listen for the removal of the full notebook cells\n",
       "var notebookContainer = gd.closest('#notebook-container');\n",
       "if (notebookContainer) {{\n",
       "    x.observe(notebookContainer, {childList: true});\n",
       "}}\n",
       "\n",
       "// Listen for the clearing of the current output cell\n",
       "var outputEl = gd.closest('.output');\n",
       "if (outputEl) {{\n",
       "    x.observe(outputEl, {childList: true});\n",
       "}}\n",
       "\n",
       "                        })                };                });            </script>        </div>"
      ]
     },
     "metadata": {},
     "output_type": "display_data"
    }
   ],
   "source": [
    "df.sum().iplot(kind='bar')"
   ]
  },
  {
   "cell_type": "code",
   "execution_count": 15,
   "metadata": {},
   "outputs": [
    {
     "data": {
      "application/vnd.plotly.v1+json": {
       "config": {
        "linkText": "Export to plot.ly",
        "plotlyServerURL": "https://plot.ly",
        "showLink": true
       },
       "data": [
        {
         "boxpoints": false,
         "line": {
          "width": 1.3
         },
         "marker": {
          "color": "rgba(255, 153, 51, 1.0)"
         },
         "name": "A",
         "orientation": "v",
         "type": "box",
         "y": [
          -0.07626798862524346,
          0.22540134756441488,
          -0.8057647977006603,
          0.3775230577282411,
          -0.1680604099266579,
          0.8713582072512306,
          -0.08016296132520627,
          2.0793375312602986,
          0.6174946047522917,
          1.3470244023614335,
          -0.45534748125031793,
          1.1567776506639353,
          -0.8740526020125177,
          -0.037407388938710644,
          0.5532512221426178,
          -1.051190550010996,
          -0.35056999351700524,
          1.071823066376621,
          0.9093892370915182,
          -1.0488537815283008,
          -0.4599270555168315,
          1.8602051198265883,
          -0.8249352680142302,
          -1.5106002057662986,
          0.0996067858587673,
          -0.9955831080121025,
          -1.1743481536862996,
          0.798495220365897,
          2.135298305419711,
          -0.918373544679037,
          -1.3292049671635469,
          -1.482014934583836,
          0.4658513332948664,
          1.7175357781491922,
          -0.1606077083412937,
          0.5805593871078475,
          -0.2538847588879203,
          1.0542215320006398,
          -0.4301439180270131,
          -1.2014952657868243,
          0.4460530424636575,
          -0.38016505214183166,
          1.187504657276655,
          1.0092529666759915,
          0.5276280783314551,
          -2.3146759442720812,
          -0.9726633353919516,
          -1.4651901913239982,
          -0.8517523630692322,
          -2.317281604613853,
          -0.14261933190625772,
          -2.077146476047186,
          -0.3251807441512565,
          0.1319632239823357,
          0.7486045945026552,
          0.33685670014918506,
          -0.037845194242645784,
          -1.3667973040236276,
          0.7727164075726849,
          -1.2011494900729764,
          0.2691153645066599,
          -0.7673187313510428,
          0.7313925705637623,
          0.27488086113873705,
          -0.21474757848854253,
          0.9183127839848029,
          0.20274982610001047,
          -1.2321068101491492,
          2.2023622350450003,
          0.22588488340486504,
          -0.21025110889818346,
          -0.06932808427719565,
          -0.330211178580367,
          -1.1630223928019472,
          0.3991187829537466,
          0.26561049183638635,
          0.2489546357507444,
          -1.0363391210443667,
          0.28072456627802256,
          -1.4258804403303178,
          0.34187592095465646,
          -1.1053725354624688,
          -0.7016568221765985,
          0.3193171141371305,
          -1.6882672411213937,
          -0.6384005418166574,
          1.1931023903017663,
          -1.079295557921701,
          0.953153121390354,
          0.4535569514855566,
          -0.6142109560790182,
          1.7927716591736043,
          -2.0886630176573466,
          -0.647956166935598,
          -0.5679356570104203,
          0.6153764784573306,
          1.211953758491585,
          -1.516211074458471,
          -0.6678919354224481,
          0.7549092172063453
         ]
        },
        {
         "boxpoints": false,
         "line": {
          "width": 1.3
         },
         "marker": {
          "color": "rgba(55, 128, 191, 1.0)"
         },
         "name": "B",
         "orientation": "v",
         "type": "box",
         "y": [
          -0.740902655559266,
          -0.08310433278810744,
          -1.251683393405426,
          -1.204225704833254,
          1.0143348303407134,
          -1.0161633496549207,
          -1.7583971257729267,
          1.4521908459282145,
          -0.480368906287327,
          0.5131858057305899,
          0.27503721587001323,
          1.290465634875162,
          1.1124276711007453,
          -1.4899235118041922,
          0.38697483901701935,
          0.4129744286146979,
          2.095129686566982,
          0.8399787083500704,
          0.6710525662253761,
          -0.4681469240612532,
          2.1194359317570535,
          1.038915191126487,
          -0.7172554535302076,
          0.5688903859711237,
          0.826646992545889,
          0.09105518538007447,
          -0.589810469872444,
          -0.1525563108196747,
          -0.3633806409535802,
          0.2692246496286448,
          -0.1395863420602316,
          0.6420796882555284,
          -0.3895501220033279,
          -0.6842852202025996,
          -0.0662269940405855,
          -2.6265164759204436,
          -0.9020476303540725,
          -0.4167566139166744,
          0.7135005499949627,
          -1.094409509953378,
          -1.7596727501739213,
          -1.3221416350039188,
          -1.165871915271899,
          -0.17725703007771632,
          0.07750703246294158,
          -0.4058509152122095,
          1.0113863879667255,
          1.1743453857185353,
          0.1522145118031781,
          -0.7226455063181879,
          -0.9955570686188059,
          0.2765818865175756,
          -1.3549808500418952,
          1.337102837580037,
          -0.08188136453619636,
          -1.04472177658133,
          0.7038632224719813,
          -1.2644862932195187,
          0.3524073622222112,
          -0.46797925694821996,
          0.6379518560397109,
          0.5978368539603639,
          0.1896862075086954,
          0.01498863199058901,
          0.6737610775168448,
          -0.2093368496264277,
          -0.4445627663438925,
          -0.5225801896099493,
          0.11252918692066753,
          0.8218878151077612,
          -0.8365245614729655,
          -0.8260737556521454,
          0.821246020726017,
          1.7053976790292478,
          0.9591926546787697,
          1.0830800300363144,
          -0.7458624482789284,
          0.00978102219508137,
          -0.9888119728575078,
          -1.0526562671556607,
          -0.48038870163723124,
          -0.6569719817113063,
          -0.848735736192335,
          2.190392250125886,
          0.8904709443200586,
          -0.24858231907030764,
          0.9716461842773628,
          -1.0724720077866086,
          0.15156616663461042,
          0.36165937700608153,
          -0.7221361260002299,
          -2.0364234750392334,
          -0.6879418802528297,
          -0.40851358835174423,
          0.9529887543414152,
          -0.15851581650574076,
          -1.4341531957352023,
          0.1659117333162127,
          2.344432739425215,
          0.23891550498788275
         ]
        },
        {
         "boxpoints": false,
         "line": {
          "width": 1.3
         },
         "marker": {
          "color": "rgba(50, 171, 96, 1.0)"
         },
         "name": "C",
         "orientation": "v",
         "type": "box",
         "y": [
          0.11506777591334545,
          -0.4669527591483944,
          0.838753938652362,
          1.7939169837397981,
          -1.3438326100575777,
          0.7772824387875003,
          0.5255163998487751,
          -0.14372743715167027,
          -1.1350475503194846,
          0.8377061742195445,
          -1.2893734663813263,
          -0.6490806584734865,
          -0.7905725983268116,
          1.4409167604861066,
          0.4687506103857752,
          0.9228644793460214,
          0.7256872634793196,
          -0.6776405780161343,
          -0.4906669437171314,
          -0.8185539687468362,
          -0.9529249151507974,
          0.9494275287384024,
          -0.8404780177971688,
          -0.23859050718064892,
          -1.33085820350392,
          -0.2547223651273164,
          1.3848369503129814,
          -0.015170397451762494,
          1.081412525387793,
          0.13221713750683914,
          -0.5915055288945772,
          -0.694599290081804,
          1.0150485266600329,
          1.5155566873877593,
          0.6275328930383646,
          -0.5840219696353247,
          -0.776311457551167,
          -0.6717617949609185,
          -0.9457685055861333,
          -0.6349865365838709,
          -0.9450538817674731,
          0.3358272922545994,
          2.2519875839333503,
          1.0990320253477452,
          2.1579827483939638,
          0.6262070029210622,
          0.3469528394636604,
          0.8181198570393231,
          0.3584307652929029,
          0.5411769289617455,
          -1.6469461542071104,
          -0.9394111622402175,
          0.34570756963622945,
          -0.08313735682778838,
          -0.5827389646844746,
          0.9313053242818813,
          0.522310163649811,
          0.6073699269751509,
          -2.0324889511721214,
          -1.9066225540276152,
          1.590194563123513,
          -0.4311534589466588,
          2.0156464167629853,
          0.5105587282134346,
          0.06424465390783764,
          1.2993272757132333,
          -0.8002831178402844,
          -0.09064770187143911,
          0.9597380188142864,
          0.048626762496730105,
          1.015142005510411,
          3.2188022869139106,
          -0.10316204116054475,
          -1.2826721358372464,
          0.2232936363291398,
          -1.1676562338091363,
          0.29032401337670666,
          0.14965456611823938,
          1.4024381550184488,
          -2.1890658665656177,
          0.2755147161407717,
          1.5955506986374905,
          0.07572171368240455,
          -0.08262244372807441,
          0.2166289542416796,
          0.08603331417035655,
          -1.021756178602517,
          -0.5269913512362231,
          -0.3539868604883295,
          -0.35340661766312104,
          -0.8723077965365962,
          -0.856046069191193,
          -0.16826738357465057,
          1.4501480109011096,
          0.5542794821235857,
          -1.1598134961669193,
          -0.2878579037631965,
          0.10974255297595349,
          -0.996444324819498,
          1.1446227114720948
         ]
        },
        {
         "boxpoints": false,
         "line": {
          "width": 1.3
         },
         "marker": {
          "color": "rgba(128, 0, 128, 1.0)"
         },
         "name": "D",
         "orientation": "v",
         "type": "box",
         "y": [
          1.4569727607926122,
          1.5803324075229161,
          -1.2897002441333556,
          -0.16166551474494495,
          -1.976502864334509,
          -0.8693958414819042,
          0.9551460280404175,
          0.2802516103397689,
          1.2550272097356434,
          0.9155115058822488,
          0.7733482131769092,
          -1.1631126105679386,
          0.3931126235197993,
          1.5592260592093,
          -0.7546707280860958,
          -0.577462363122032,
          0.10812191862643344,
          -1.3021525005770849,
          0.0013863273196885522,
          -1.1565924417119133,
          0.030893790789631646,
          -0.2921139554387492,
          -0.6378229963088616,
          -0.2552420579232666,
          -0.7105803541717001,
          -0.7310763884707412,
          0.850591748444687,
          0.25350478409356253,
          -0.0025095031827617282,
          -1.038633643463149,
          0.8260476059311241,
          0.5222387643383883,
          1.4269978745065481,
          -2.1968429450957525,
          0.1884115433816258,
          -0.26168481206024646,
          0.7273415497579273,
          2.299797566491191,
          0.8788511743957212,
          1.1091884743081923,
          0.388275901319309,
          0.059801554863223624,
          0.7049894936262245,
          1.0788069961882627,
          0.430901839072723,
          0.625095337397016,
          -0.15792309032785642,
          0.45281184157042315,
          -0.4517714112086825,
          -1.321525146743949,
          0.6769278297715584,
          -0.66020231086785,
          0.02621609074868664,
          1.237167600904855,
          -0.37366966211437025,
          -0.8374883670259714,
          -1.7838417355758664,
          1.9282931010823163,
          0.9403749494318877,
          0.30310974524093093,
          1.0237472277719784,
          -0.9817481934613881,
          -0.7965587873113616,
          -0.2756526237681351,
          0.07193352921125992,
          1.3843610975021363,
          -1.1883473539731926,
          -1.132010345991311,
          -1.0217264191012476,
          0.7850296917497678,
          2.2121655730172725,
          0.5932119006791556,
          -1.439284833023011,
          -0.7046679703172876,
          -0.42747316155692994,
          -1.7867416717823146,
          -1.3465481460900666,
          -1.1275245220204797,
          -0.1920986987537914,
          0.2695193429927655,
          -2.0193794708287247,
          0.664330606404295,
          -2.5251217573612994,
          2.195869829867191,
          0.6241679103092804,
          -2.4482135541760828,
          2.022834651920917,
          1.0827267716967608,
          -0.006038442634036476,
          -0.861912397917697,
          1.4948604815170339,
          -0.21769551523968977,
          -0.26311210258217965,
          0.37203035503116805,
          -0.7976063789805946,
          -0.557349689706263,
          2.148558435514855,
          -1.074934475018916,
          -2.799387901627083,
          0.2607365043330616
         ]
        }
       ],
       "layout": {
        "legend": {
         "bgcolor": "#F5F6F9",
         "font": {
          "color": "#4D5663"
         }
        },
        "paper_bgcolor": "#F5F6F9",
        "plot_bgcolor": "#F5F6F9",
        "template": {
         "data": {
          "bar": [
           {
            "error_x": {
             "color": "#2a3f5f"
            },
            "error_y": {
             "color": "#2a3f5f"
            },
            "marker": {
             "line": {
              "color": "#E5ECF6",
              "width": 0.5
             }
            },
            "type": "bar"
           }
          ],
          "barpolar": [
           {
            "marker": {
             "line": {
              "color": "#E5ECF6",
              "width": 0.5
             }
            },
            "type": "barpolar"
           }
          ],
          "carpet": [
           {
            "aaxis": {
             "endlinecolor": "#2a3f5f",
             "gridcolor": "white",
             "linecolor": "white",
             "minorgridcolor": "white",
             "startlinecolor": "#2a3f5f"
            },
            "baxis": {
             "endlinecolor": "#2a3f5f",
             "gridcolor": "white",
             "linecolor": "white",
             "minorgridcolor": "white",
             "startlinecolor": "#2a3f5f"
            },
            "type": "carpet"
           }
          ],
          "choropleth": [
           {
            "colorbar": {
             "outlinewidth": 0,
             "ticks": ""
            },
            "type": "choropleth"
           }
          ],
          "contour": [
           {
            "colorbar": {
             "outlinewidth": 0,
             "ticks": ""
            },
            "colorscale": [
             [
              0,
              "#0d0887"
             ],
             [
              0.1111111111111111,
              "#46039f"
             ],
             [
              0.2222222222222222,
              "#7201a8"
             ],
             [
              0.3333333333333333,
              "#9c179e"
             ],
             [
              0.4444444444444444,
              "#bd3786"
             ],
             [
              0.5555555555555556,
              "#d8576b"
             ],
             [
              0.6666666666666666,
              "#ed7953"
             ],
             [
              0.7777777777777778,
              "#fb9f3a"
             ],
             [
              0.8888888888888888,
              "#fdca26"
             ],
             [
              1,
              "#f0f921"
             ]
            ],
            "type": "contour"
           }
          ],
          "contourcarpet": [
           {
            "colorbar": {
             "outlinewidth": 0,
             "ticks": ""
            },
            "type": "contourcarpet"
           }
          ],
          "heatmap": [
           {
            "colorbar": {
             "outlinewidth": 0,
             "ticks": ""
            },
            "colorscale": [
             [
              0,
              "#0d0887"
             ],
             [
              0.1111111111111111,
              "#46039f"
             ],
             [
              0.2222222222222222,
              "#7201a8"
             ],
             [
              0.3333333333333333,
              "#9c179e"
             ],
             [
              0.4444444444444444,
              "#bd3786"
             ],
             [
              0.5555555555555556,
              "#d8576b"
             ],
             [
              0.6666666666666666,
              "#ed7953"
             ],
             [
              0.7777777777777778,
              "#fb9f3a"
             ],
             [
              0.8888888888888888,
              "#fdca26"
             ],
             [
              1,
              "#f0f921"
             ]
            ],
            "type": "heatmap"
           }
          ],
          "heatmapgl": [
           {
            "colorbar": {
             "outlinewidth": 0,
             "ticks": ""
            },
            "colorscale": [
             [
              0,
              "#0d0887"
             ],
             [
              0.1111111111111111,
              "#46039f"
             ],
             [
              0.2222222222222222,
              "#7201a8"
             ],
             [
              0.3333333333333333,
              "#9c179e"
             ],
             [
              0.4444444444444444,
              "#bd3786"
             ],
             [
              0.5555555555555556,
              "#d8576b"
             ],
             [
              0.6666666666666666,
              "#ed7953"
             ],
             [
              0.7777777777777778,
              "#fb9f3a"
             ],
             [
              0.8888888888888888,
              "#fdca26"
             ],
             [
              1,
              "#f0f921"
             ]
            ],
            "type": "heatmapgl"
           }
          ],
          "histogram": [
           {
            "marker": {
             "colorbar": {
              "outlinewidth": 0,
              "ticks": ""
             }
            },
            "type": "histogram"
           }
          ],
          "histogram2d": [
           {
            "colorbar": {
             "outlinewidth": 0,
             "ticks": ""
            },
            "colorscale": [
             [
              0,
              "#0d0887"
             ],
             [
              0.1111111111111111,
              "#46039f"
             ],
             [
              0.2222222222222222,
              "#7201a8"
             ],
             [
              0.3333333333333333,
              "#9c179e"
             ],
             [
              0.4444444444444444,
              "#bd3786"
             ],
             [
              0.5555555555555556,
              "#d8576b"
             ],
             [
              0.6666666666666666,
              "#ed7953"
             ],
             [
              0.7777777777777778,
              "#fb9f3a"
             ],
             [
              0.8888888888888888,
              "#fdca26"
             ],
             [
              1,
              "#f0f921"
             ]
            ],
            "type": "histogram2d"
           }
          ],
          "histogram2dcontour": [
           {
            "colorbar": {
             "outlinewidth": 0,
             "ticks": ""
            },
            "colorscale": [
             [
              0,
              "#0d0887"
             ],
             [
              0.1111111111111111,
              "#46039f"
             ],
             [
              0.2222222222222222,
              "#7201a8"
             ],
             [
              0.3333333333333333,
              "#9c179e"
             ],
             [
              0.4444444444444444,
              "#bd3786"
             ],
             [
              0.5555555555555556,
              "#d8576b"
             ],
             [
              0.6666666666666666,
              "#ed7953"
             ],
             [
              0.7777777777777778,
              "#fb9f3a"
             ],
             [
              0.8888888888888888,
              "#fdca26"
             ],
             [
              1,
              "#f0f921"
             ]
            ],
            "type": "histogram2dcontour"
           }
          ],
          "mesh3d": [
           {
            "colorbar": {
             "outlinewidth": 0,
             "ticks": ""
            },
            "type": "mesh3d"
           }
          ],
          "parcoords": [
           {
            "line": {
             "colorbar": {
              "outlinewidth": 0,
              "ticks": ""
             }
            },
            "type": "parcoords"
           }
          ],
          "pie": [
           {
            "automargin": true,
            "type": "pie"
           }
          ],
          "scatter": [
           {
            "marker": {
             "colorbar": {
              "outlinewidth": 0,
              "ticks": ""
             }
            },
            "type": "scatter"
           }
          ],
          "scatter3d": [
           {
            "line": {
             "colorbar": {
              "outlinewidth": 0,
              "ticks": ""
             }
            },
            "marker": {
             "colorbar": {
              "outlinewidth": 0,
              "ticks": ""
             }
            },
            "type": "scatter3d"
           }
          ],
          "scattercarpet": [
           {
            "marker": {
             "colorbar": {
              "outlinewidth": 0,
              "ticks": ""
             }
            },
            "type": "scattercarpet"
           }
          ],
          "scattergeo": [
           {
            "marker": {
             "colorbar": {
              "outlinewidth": 0,
              "ticks": ""
             }
            },
            "type": "scattergeo"
           }
          ],
          "scattergl": [
           {
            "marker": {
             "colorbar": {
              "outlinewidth": 0,
              "ticks": ""
             }
            },
            "type": "scattergl"
           }
          ],
          "scattermapbox": [
           {
            "marker": {
             "colorbar": {
              "outlinewidth": 0,
              "ticks": ""
             }
            },
            "type": "scattermapbox"
           }
          ],
          "scatterpolar": [
           {
            "marker": {
             "colorbar": {
              "outlinewidth": 0,
              "ticks": ""
             }
            },
            "type": "scatterpolar"
           }
          ],
          "scatterpolargl": [
           {
            "marker": {
             "colorbar": {
              "outlinewidth": 0,
              "ticks": ""
             }
            },
            "type": "scatterpolargl"
           }
          ],
          "scatterternary": [
           {
            "marker": {
             "colorbar": {
              "outlinewidth": 0,
              "ticks": ""
             }
            },
            "type": "scatterternary"
           }
          ],
          "surface": [
           {
            "colorbar": {
             "outlinewidth": 0,
             "ticks": ""
            },
            "colorscale": [
             [
              0,
              "#0d0887"
             ],
             [
              0.1111111111111111,
              "#46039f"
             ],
             [
              0.2222222222222222,
              "#7201a8"
             ],
             [
              0.3333333333333333,
              "#9c179e"
             ],
             [
              0.4444444444444444,
              "#bd3786"
             ],
             [
              0.5555555555555556,
              "#d8576b"
             ],
             [
              0.6666666666666666,
              "#ed7953"
             ],
             [
              0.7777777777777778,
              "#fb9f3a"
             ],
             [
              0.8888888888888888,
              "#fdca26"
             ],
             [
              1,
              "#f0f921"
             ]
            ],
            "type": "surface"
           }
          ],
          "table": [
           {
            "cells": {
             "fill": {
              "color": "#EBF0F8"
             },
             "line": {
              "color": "white"
             }
            },
            "header": {
             "fill": {
              "color": "#C8D4E3"
             },
             "line": {
              "color": "white"
             }
            },
            "type": "table"
           }
          ]
         },
         "layout": {
          "annotationdefaults": {
           "arrowcolor": "#2a3f5f",
           "arrowhead": 0,
           "arrowwidth": 1
          },
          "autotypenumbers": "strict",
          "coloraxis": {
           "colorbar": {
            "outlinewidth": 0,
            "ticks": ""
           }
          },
          "colorscale": {
           "diverging": [
            [
             0,
             "#8e0152"
            ],
            [
             0.1,
             "#c51b7d"
            ],
            [
             0.2,
             "#de77ae"
            ],
            [
             0.3,
             "#f1b6da"
            ],
            [
             0.4,
             "#fde0ef"
            ],
            [
             0.5,
             "#f7f7f7"
            ],
            [
             0.6,
             "#e6f5d0"
            ],
            [
             0.7,
             "#b8e186"
            ],
            [
             0.8,
             "#7fbc41"
            ],
            [
             0.9,
             "#4d9221"
            ],
            [
             1,
             "#276419"
            ]
           ],
           "sequential": [
            [
             0,
             "#0d0887"
            ],
            [
             0.1111111111111111,
             "#46039f"
            ],
            [
             0.2222222222222222,
             "#7201a8"
            ],
            [
             0.3333333333333333,
             "#9c179e"
            ],
            [
             0.4444444444444444,
             "#bd3786"
            ],
            [
             0.5555555555555556,
             "#d8576b"
            ],
            [
             0.6666666666666666,
             "#ed7953"
            ],
            [
             0.7777777777777778,
             "#fb9f3a"
            ],
            [
             0.8888888888888888,
             "#fdca26"
            ],
            [
             1,
             "#f0f921"
            ]
           ],
           "sequentialminus": [
            [
             0,
             "#0d0887"
            ],
            [
             0.1111111111111111,
             "#46039f"
            ],
            [
             0.2222222222222222,
             "#7201a8"
            ],
            [
             0.3333333333333333,
             "#9c179e"
            ],
            [
             0.4444444444444444,
             "#bd3786"
            ],
            [
             0.5555555555555556,
             "#d8576b"
            ],
            [
             0.6666666666666666,
             "#ed7953"
            ],
            [
             0.7777777777777778,
             "#fb9f3a"
            ],
            [
             0.8888888888888888,
             "#fdca26"
            ],
            [
             1,
             "#f0f921"
            ]
           ]
          },
          "colorway": [
           "#636efa",
           "#EF553B",
           "#00cc96",
           "#ab63fa",
           "#FFA15A",
           "#19d3f3",
           "#FF6692",
           "#B6E880",
           "#FF97FF",
           "#FECB52"
          ],
          "font": {
           "color": "#2a3f5f"
          },
          "geo": {
           "bgcolor": "white",
           "lakecolor": "white",
           "landcolor": "#E5ECF6",
           "showlakes": true,
           "showland": true,
           "subunitcolor": "white"
          },
          "hoverlabel": {
           "align": "left"
          },
          "hovermode": "closest",
          "mapbox": {
           "style": "light"
          },
          "paper_bgcolor": "white",
          "plot_bgcolor": "#E5ECF6",
          "polar": {
           "angularaxis": {
            "gridcolor": "white",
            "linecolor": "white",
            "ticks": ""
           },
           "bgcolor": "#E5ECF6",
           "radialaxis": {
            "gridcolor": "white",
            "linecolor": "white",
            "ticks": ""
           }
          },
          "scene": {
           "xaxis": {
            "backgroundcolor": "#E5ECF6",
            "gridcolor": "white",
            "gridwidth": 2,
            "linecolor": "white",
            "showbackground": true,
            "ticks": "",
            "zerolinecolor": "white"
           },
           "yaxis": {
            "backgroundcolor": "#E5ECF6",
            "gridcolor": "white",
            "gridwidth": 2,
            "linecolor": "white",
            "showbackground": true,
            "ticks": "",
            "zerolinecolor": "white"
           },
           "zaxis": {
            "backgroundcolor": "#E5ECF6",
            "gridcolor": "white",
            "gridwidth": 2,
            "linecolor": "white",
            "showbackground": true,
            "ticks": "",
            "zerolinecolor": "white"
           }
          },
          "shapedefaults": {
           "line": {
            "color": "#2a3f5f"
           }
          },
          "ternary": {
           "aaxis": {
            "gridcolor": "white",
            "linecolor": "white",
            "ticks": ""
           },
           "baxis": {
            "gridcolor": "white",
            "linecolor": "white",
            "ticks": ""
           },
           "bgcolor": "#E5ECF6",
           "caxis": {
            "gridcolor": "white",
            "linecolor": "white",
            "ticks": ""
           }
          },
          "title": {
           "x": 0.05
          },
          "xaxis": {
           "automargin": true,
           "gridcolor": "white",
           "linecolor": "white",
           "ticks": "",
           "title": {
            "standoff": 15
           },
           "zerolinecolor": "white",
           "zerolinewidth": 2
          },
          "yaxis": {
           "automargin": true,
           "gridcolor": "white",
           "linecolor": "white",
           "ticks": "",
           "title": {
            "standoff": 15
           },
           "zerolinecolor": "white",
           "zerolinewidth": 2
          }
         }
        },
        "title": {
         "font": {
          "color": "#4D5663"
         }
        },
        "xaxis": {
         "gridcolor": "#E1E5ED",
         "showgrid": true,
         "tickfont": {
          "color": "#4D5663"
         },
         "title": {
          "font": {
           "color": "#4D5663"
          },
          "text": ""
         },
         "zerolinecolor": "#E1E5ED"
        },
        "yaxis": {
         "gridcolor": "#E1E5ED",
         "showgrid": true,
         "tickfont": {
          "color": "#4D5663"
         },
         "title": {
          "font": {
           "color": "#4D5663"
          },
          "text": ""
         },
         "zerolinecolor": "#E1E5ED"
        }
       }
      },
      "text/html": [
       "<div>                            <div id=\"9f1f474c-14db-43a4-bd57-4f38932a55ef\" class=\"plotly-graph-div\" style=\"height:525px; width:100%;\"></div>            <script type=\"text/javascript\">                require([\"plotly\"], function(Plotly) {                    window.PLOTLYENV=window.PLOTLYENV || {};\n",
       "                    window.PLOTLYENV.BASE_URL='https://plot.ly';                                    if (document.getElementById(\"9f1f474c-14db-43a4-bd57-4f38932a55ef\")) {                    Plotly.newPlot(                        \"9f1f474c-14db-43a4-bd57-4f38932a55ef\",                        [{\"boxpoints\": false, \"line\": {\"width\": 1.3}, \"marker\": {\"color\": \"rgba(255, 153, 51, 1.0)\"}, \"name\": \"A\", \"orientation\": \"v\", \"type\": \"box\", \"y\": [-0.07626798862524346, 0.22540134756441488, -0.8057647977006603, 0.3775230577282411, -0.1680604099266579, 0.8713582072512306, -0.08016296132520627, 2.0793375312602986, 0.6174946047522917, 1.3470244023614335, -0.45534748125031793, 1.1567776506639353, -0.8740526020125177, -0.037407388938710644, 0.5532512221426178, -1.051190550010996, -0.35056999351700524, 1.071823066376621, 0.9093892370915182, -1.0488537815283008, -0.4599270555168315, 1.8602051198265883, -0.8249352680142302, -1.5106002057662986, 0.0996067858587673, -0.9955831080121025, -1.1743481536862996, 0.798495220365897, 2.135298305419711, -0.918373544679037, -1.3292049671635469, -1.482014934583836, 0.4658513332948664, 1.7175357781491922, -0.1606077083412937, 0.5805593871078475, -0.2538847588879203, 1.0542215320006398, -0.4301439180270131, -1.2014952657868243, 0.4460530424636575, -0.38016505214183166, 1.187504657276655, 1.0092529666759915, 0.5276280783314551, -2.3146759442720812, -0.9726633353919516, -1.4651901913239982, -0.8517523630692322, -2.317281604613853, -0.14261933190625772, -2.077146476047186, -0.3251807441512565, 0.1319632239823357, 0.7486045945026552, 0.33685670014918506, -0.037845194242645784, -1.3667973040236276, 0.7727164075726849, -1.2011494900729764, 0.2691153645066599, -0.7673187313510428, 0.7313925705637623, 0.27488086113873705, -0.21474757848854253, 0.9183127839848029, 0.20274982610001047, -1.2321068101491492, 2.2023622350450003, 0.22588488340486504, -0.21025110889818346, -0.06932808427719565, -0.330211178580367, -1.1630223928019472, 0.3991187829537466, 0.26561049183638635, 0.2489546357507444, -1.0363391210443667, 0.28072456627802256, -1.4258804403303178, 0.34187592095465646, -1.1053725354624688, -0.7016568221765985, 0.3193171141371305, -1.6882672411213937, -0.6384005418166574, 1.1931023903017663, -1.079295557921701, 0.953153121390354, 0.4535569514855566, -0.6142109560790182, 1.7927716591736043, -2.0886630176573466, -0.647956166935598, -0.5679356570104203, 0.6153764784573306, 1.211953758491585, -1.516211074458471, -0.6678919354224481, 0.7549092172063453]}, {\"boxpoints\": false, \"line\": {\"width\": 1.3}, \"marker\": {\"color\": \"rgba(55, 128, 191, 1.0)\"}, \"name\": \"B\", \"orientation\": \"v\", \"type\": \"box\", \"y\": [-0.740902655559266, -0.08310433278810744, -1.251683393405426, -1.204225704833254, 1.0143348303407134, -1.0161633496549207, -1.7583971257729267, 1.4521908459282145, -0.480368906287327, 0.5131858057305899, 0.27503721587001323, 1.290465634875162, 1.1124276711007453, -1.4899235118041922, 0.38697483901701935, 0.4129744286146979, 2.095129686566982, 0.8399787083500704, 0.6710525662253761, -0.4681469240612532, 2.1194359317570535, 1.038915191126487, -0.7172554535302076, 0.5688903859711237, 0.826646992545889, 0.09105518538007447, -0.589810469872444, -0.1525563108196747, -0.3633806409535802, 0.2692246496286448, -0.1395863420602316, 0.6420796882555284, -0.3895501220033279, -0.6842852202025996, -0.0662269940405855, -2.6265164759204436, -0.9020476303540725, -0.4167566139166744, 0.7135005499949627, -1.094409509953378, -1.7596727501739213, -1.3221416350039188, -1.165871915271899, -0.17725703007771632, 0.07750703246294158, -0.4058509152122095, 1.0113863879667255, 1.1743453857185353, 0.1522145118031781, -0.7226455063181879, -0.9955570686188059, 0.2765818865175756, -1.3549808500418952, 1.337102837580037, -0.08188136453619636, -1.04472177658133, 0.7038632224719813, -1.2644862932195187, 0.3524073622222112, -0.46797925694821996, 0.6379518560397109, 0.5978368539603639, 0.1896862075086954, 0.01498863199058901, 0.6737610775168448, -0.2093368496264277, -0.4445627663438925, -0.5225801896099493, 0.11252918692066753, 0.8218878151077612, -0.8365245614729655, -0.8260737556521454, 0.821246020726017, 1.7053976790292478, 0.9591926546787697, 1.0830800300363144, -0.7458624482789284, 0.00978102219508137, -0.9888119728575078, -1.0526562671556607, -0.48038870163723124, -0.6569719817113063, -0.848735736192335, 2.190392250125886, 0.8904709443200586, -0.24858231907030764, 0.9716461842773628, -1.0724720077866086, 0.15156616663461042, 0.36165937700608153, -0.7221361260002299, -2.0364234750392334, -0.6879418802528297, -0.40851358835174423, 0.9529887543414152, -0.15851581650574076, -1.4341531957352023, 0.1659117333162127, 2.344432739425215, 0.23891550498788275]}, {\"boxpoints\": false, \"line\": {\"width\": 1.3}, \"marker\": {\"color\": \"rgba(50, 171, 96, 1.0)\"}, \"name\": \"C\", \"orientation\": \"v\", \"type\": \"box\", \"y\": [0.11506777591334545, -0.4669527591483944, 0.838753938652362, 1.7939169837397981, -1.3438326100575777, 0.7772824387875003, 0.5255163998487751, -0.14372743715167027, -1.1350475503194846, 0.8377061742195445, -1.2893734663813263, -0.6490806584734865, -0.7905725983268116, 1.4409167604861066, 0.4687506103857752, 0.9228644793460214, 0.7256872634793196, -0.6776405780161343, -0.4906669437171314, -0.8185539687468362, -0.9529249151507974, 0.9494275287384024, -0.8404780177971688, -0.23859050718064892, -1.33085820350392, -0.2547223651273164, 1.3848369503129814, -0.015170397451762494, 1.081412525387793, 0.13221713750683914, -0.5915055288945772, -0.694599290081804, 1.0150485266600329, 1.5155566873877593, 0.6275328930383646, -0.5840219696353247, -0.776311457551167, -0.6717617949609185, -0.9457685055861333, -0.6349865365838709, -0.9450538817674731, 0.3358272922545994, 2.2519875839333503, 1.0990320253477452, 2.1579827483939638, 0.6262070029210622, 0.3469528394636604, 0.8181198570393231, 0.3584307652929029, 0.5411769289617455, -1.6469461542071104, -0.9394111622402175, 0.34570756963622945, -0.08313735682778838, -0.5827389646844746, 0.9313053242818813, 0.522310163649811, 0.6073699269751509, -2.0324889511721214, -1.9066225540276152, 1.590194563123513, -0.4311534589466588, 2.0156464167629853, 0.5105587282134346, 0.06424465390783764, 1.2993272757132333, -0.8002831178402844, -0.09064770187143911, 0.9597380188142864, 0.048626762496730105, 1.015142005510411, 3.2188022869139106, -0.10316204116054475, -1.2826721358372464, 0.2232936363291398, -1.1676562338091363, 0.29032401337670666, 0.14965456611823938, 1.4024381550184488, -2.1890658665656177, 0.2755147161407717, 1.5955506986374905, 0.07572171368240455, -0.08262244372807441, 0.2166289542416796, 0.08603331417035655, -1.021756178602517, -0.5269913512362231, -0.3539868604883295, -0.35340661766312104, -0.8723077965365962, -0.856046069191193, -0.16826738357465057, 1.4501480109011096, 0.5542794821235857, -1.1598134961669193, -0.2878579037631965, 0.10974255297595349, -0.996444324819498, 1.1446227114720948]}, {\"boxpoints\": false, \"line\": {\"width\": 1.3}, \"marker\": {\"color\": \"rgba(128, 0, 128, 1.0)\"}, \"name\": \"D\", \"orientation\": \"v\", \"type\": \"box\", \"y\": [1.4569727607926122, 1.5803324075229161, -1.2897002441333556, -0.16166551474494495, -1.976502864334509, -0.8693958414819042, 0.9551460280404175, 0.2802516103397689, 1.2550272097356434, 0.9155115058822488, 0.7733482131769092, -1.1631126105679386, 0.3931126235197993, 1.5592260592093, -0.7546707280860958, -0.577462363122032, 0.10812191862643344, -1.3021525005770849, 0.0013863273196885522, -1.1565924417119133, 0.030893790789631646, -0.2921139554387492, -0.6378229963088616, -0.2552420579232666, -0.7105803541717001, -0.7310763884707412, 0.850591748444687, 0.25350478409356253, -0.0025095031827617282, -1.038633643463149, 0.8260476059311241, 0.5222387643383883, 1.4269978745065481, -2.1968429450957525, 0.1884115433816258, -0.26168481206024646, 0.7273415497579273, 2.299797566491191, 0.8788511743957212, 1.1091884743081923, 0.388275901319309, 0.059801554863223624, 0.7049894936262245, 1.0788069961882627, 0.430901839072723, 0.625095337397016, -0.15792309032785642, 0.45281184157042315, -0.4517714112086825, -1.321525146743949, 0.6769278297715584, -0.66020231086785, 0.02621609074868664, 1.237167600904855, -0.37366966211437025, -0.8374883670259714, -1.7838417355758664, 1.9282931010823163, 0.9403749494318877, 0.30310974524093093, 1.0237472277719784, -0.9817481934613881, -0.7965587873113616, -0.2756526237681351, 0.07193352921125992, 1.3843610975021363, -1.1883473539731926, -1.132010345991311, -1.0217264191012476, 0.7850296917497678, 2.2121655730172725, 0.5932119006791556, -1.439284833023011, -0.7046679703172876, -0.42747316155692994, -1.7867416717823146, -1.3465481460900666, -1.1275245220204797, -0.1920986987537914, 0.2695193429927655, -2.0193794708287247, 0.664330606404295, -2.5251217573612994, 2.195869829867191, 0.6241679103092804, -2.4482135541760828, 2.022834651920917, 1.0827267716967608, -0.006038442634036476, -0.861912397917697, 1.4948604815170339, -0.21769551523968977, -0.26311210258217965, 0.37203035503116805, -0.7976063789805946, -0.557349689706263, 2.148558435514855, -1.074934475018916, -2.799387901627083, 0.2607365043330616]}],                        {\"legend\": {\"bgcolor\": \"#F5F6F9\", \"font\": {\"color\": \"#4D5663\"}}, \"paper_bgcolor\": \"#F5F6F9\", \"plot_bgcolor\": \"#F5F6F9\", \"template\": {\"data\": {\"bar\": [{\"error_x\": {\"color\": \"#2a3f5f\"}, \"error_y\": {\"color\": \"#2a3f5f\"}, \"marker\": {\"line\": {\"color\": \"#E5ECF6\", \"width\": 0.5}}, \"type\": \"bar\"}], \"barpolar\": [{\"marker\": {\"line\": {\"color\": \"#E5ECF6\", \"width\": 0.5}}, \"type\": \"barpolar\"}], \"carpet\": [{\"aaxis\": {\"endlinecolor\": \"#2a3f5f\", \"gridcolor\": \"white\", \"linecolor\": \"white\", \"minorgridcolor\": \"white\", \"startlinecolor\": \"#2a3f5f\"}, \"baxis\": {\"endlinecolor\": \"#2a3f5f\", \"gridcolor\": \"white\", \"linecolor\": \"white\", \"minorgridcolor\": \"white\", \"startlinecolor\": \"#2a3f5f\"}, \"type\": \"carpet\"}], \"choropleth\": [{\"colorbar\": {\"outlinewidth\": 0, \"ticks\": \"\"}, \"type\": \"choropleth\"}], \"contour\": [{\"colorbar\": {\"outlinewidth\": 0, \"ticks\": \"\"}, \"colorscale\": [[0.0, \"#0d0887\"], [0.1111111111111111, \"#46039f\"], [0.2222222222222222, \"#7201a8\"], [0.3333333333333333, \"#9c179e\"], [0.4444444444444444, \"#bd3786\"], [0.5555555555555556, \"#d8576b\"], [0.6666666666666666, \"#ed7953\"], [0.7777777777777778, \"#fb9f3a\"], [0.8888888888888888, \"#fdca26\"], [1.0, \"#f0f921\"]], \"type\": \"contour\"}], \"contourcarpet\": [{\"colorbar\": {\"outlinewidth\": 0, \"ticks\": \"\"}, \"type\": \"contourcarpet\"}], \"heatmap\": [{\"colorbar\": {\"outlinewidth\": 0, \"ticks\": \"\"}, \"colorscale\": [[0.0, \"#0d0887\"], [0.1111111111111111, \"#46039f\"], [0.2222222222222222, \"#7201a8\"], [0.3333333333333333, \"#9c179e\"], [0.4444444444444444, \"#bd3786\"], [0.5555555555555556, \"#d8576b\"], [0.6666666666666666, \"#ed7953\"], [0.7777777777777778, \"#fb9f3a\"], [0.8888888888888888, \"#fdca26\"], [1.0, \"#f0f921\"]], \"type\": \"heatmap\"}], \"heatmapgl\": [{\"colorbar\": {\"outlinewidth\": 0, \"ticks\": \"\"}, \"colorscale\": [[0.0, \"#0d0887\"], [0.1111111111111111, \"#46039f\"], [0.2222222222222222, \"#7201a8\"], [0.3333333333333333, \"#9c179e\"], [0.4444444444444444, \"#bd3786\"], [0.5555555555555556, \"#d8576b\"], [0.6666666666666666, \"#ed7953\"], [0.7777777777777778, \"#fb9f3a\"], [0.8888888888888888, \"#fdca26\"], [1.0, \"#f0f921\"]], \"type\": \"heatmapgl\"}], \"histogram\": [{\"marker\": {\"colorbar\": {\"outlinewidth\": 0, \"ticks\": \"\"}}, \"type\": \"histogram\"}], \"histogram2d\": [{\"colorbar\": {\"outlinewidth\": 0, \"ticks\": \"\"}, \"colorscale\": [[0.0, \"#0d0887\"], [0.1111111111111111, \"#46039f\"], [0.2222222222222222, \"#7201a8\"], [0.3333333333333333, \"#9c179e\"], [0.4444444444444444, \"#bd3786\"], [0.5555555555555556, \"#d8576b\"], [0.6666666666666666, \"#ed7953\"], [0.7777777777777778, \"#fb9f3a\"], [0.8888888888888888, \"#fdca26\"], [1.0, \"#f0f921\"]], \"type\": \"histogram2d\"}], \"histogram2dcontour\": [{\"colorbar\": {\"outlinewidth\": 0, \"ticks\": \"\"}, \"colorscale\": [[0.0, \"#0d0887\"], [0.1111111111111111, \"#46039f\"], [0.2222222222222222, \"#7201a8\"], [0.3333333333333333, \"#9c179e\"], [0.4444444444444444, \"#bd3786\"], [0.5555555555555556, \"#d8576b\"], [0.6666666666666666, \"#ed7953\"], [0.7777777777777778, \"#fb9f3a\"], [0.8888888888888888, \"#fdca26\"], [1.0, \"#f0f921\"]], \"type\": \"histogram2dcontour\"}], \"mesh3d\": [{\"colorbar\": {\"outlinewidth\": 0, \"ticks\": \"\"}, \"type\": \"mesh3d\"}], \"parcoords\": [{\"line\": {\"colorbar\": {\"outlinewidth\": 0, \"ticks\": \"\"}}, \"type\": \"parcoords\"}], \"pie\": [{\"automargin\": true, \"type\": \"pie\"}], \"scatter\": [{\"marker\": {\"colorbar\": {\"outlinewidth\": 0, \"ticks\": \"\"}}, \"type\": \"scatter\"}], \"scatter3d\": [{\"line\": {\"colorbar\": {\"outlinewidth\": 0, \"ticks\": \"\"}}, \"marker\": {\"colorbar\": {\"outlinewidth\": 0, \"ticks\": \"\"}}, \"type\": \"scatter3d\"}], \"scattercarpet\": [{\"marker\": {\"colorbar\": {\"outlinewidth\": 0, \"ticks\": \"\"}}, \"type\": \"scattercarpet\"}], \"scattergeo\": [{\"marker\": {\"colorbar\": {\"outlinewidth\": 0, \"ticks\": \"\"}}, \"type\": \"scattergeo\"}], \"scattergl\": [{\"marker\": {\"colorbar\": {\"outlinewidth\": 0, \"ticks\": \"\"}}, \"type\": \"scattergl\"}], \"scattermapbox\": [{\"marker\": {\"colorbar\": {\"outlinewidth\": 0, \"ticks\": \"\"}}, \"type\": \"scattermapbox\"}], \"scatterpolar\": [{\"marker\": {\"colorbar\": {\"outlinewidth\": 0, \"ticks\": \"\"}}, \"type\": \"scatterpolar\"}], \"scatterpolargl\": [{\"marker\": {\"colorbar\": {\"outlinewidth\": 0, \"ticks\": \"\"}}, \"type\": \"scatterpolargl\"}], \"scatterternary\": [{\"marker\": {\"colorbar\": {\"outlinewidth\": 0, \"ticks\": \"\"}}, \"type\": \"scatterternary\"}], \"surface\": [{\"colorbar\": {\"outlinewidth\": 0, \"ticks\": \"\"}, \"colorscale\": [[0.0, \"#0d0887\"], [0.1111111111111111, \"#46039f\"], [0.2222222222222222, \"#7201a8\"], [0.3333333333333333, \"#9c179e\"], [0.4444444444444444, \"#bd3786\"], [0.5555555555555556, \"#d8576b\"], [0.6666666666666666, \"#ed7953\"], [0.7777777777777778, \"#fb9f3a\"], [0.8888888888888888, \"#fdca26\"], [1.0, \"#f0f921\"]], \"type\": \"surface\"}], \"table\": [{\"cells\": {\"fill\": {\"color\": \"#EBF0F8\"}, \"line\": {\"color\": \"white\"}}, \"header\": {\"fill\": {\"color\": \"#C8D4E3\"}, \"line\": {\"color\": \"white\"}}, \"type\": \"table\"}]}, \"layout\": {\"annotationdefaults\": {\"arrowcolor\": \"#2a3f5f\", \"arrowhead\": 0, \"arrowwidth\": 1}, \"autotypenumbers\": \"strict\", \"coloraxis\": {\"colorbar\": {\"outlinewidth\": 0, \"ticks\": \"\"}}, \"colorscale\": {\"diverging\": [[0, \"#8e0152\"], [0.1, \"#c51b7d\"], [0.2, \"#de77ae\"], [0.3, \"#f1b6da\"], [0.4, \"#fde0ef\"], [0.5, \"#f7f7f7\"], [0.6, \"#e6f5d0\"], [0.7, \"#b8e186\"], [0.8, \"#7fbc41\"], [0.9, \"#4d9221\"], [1, \"#276419\"]], \"sequential\": [[0.0, \"#0d0887\"], [0.1111111111111111, \"#46039f\"], [0.2222222222222222, \"#7201a8\"], [0.3333333333333333, \"#9c179e\"], [0.4444444444444444, \"#bd3786\"], [0.5555555555555556, \"#d8576b\"], [0.6666666666666666, \"#ed7953\"], [0.7777777777777778, \"#fb9f3a\"], [0.8888888888888888, \"#fdca26\"], [1.0, \"#f0f921\"]], \"sequentialminus\": [[0.0, \"#0d0887\"], [0.1111111111111111, \"#46039f\"], [0.2222222222222222, \"#7201a8\"], [0.3333333333333333, \"#9c179e\"], [0.4444444444444444, \"#bd3786\"], [0.5555555555555556, \"#d8576b\"], [0.6666666666666666, \"#ed7953\"], [0.7777777777777778, \"#fb9f3a\"], [0.8888888888888888, \"#fdca26\"], [1.0, \"#f0f921\"]]}, \"colorway\": [\"#636efa\", \"#EF553B\", \"#00cc96\", \"#ab63fa\", \"#FFA15A\", \"#19d3f3\", \"#FF6692\", \"#B6E880\", \"#FF97FF\", \"#FECB52\"], \"font\": {\"color\": \"#2a3f5f\"}, \"geo\": {\"bgcolor\": \"white\", \"lakecolor\": \"white\", \"landcolor\": \"#E5ECF6\", \"showlakes\": true, \"showland\": true, \"subunitcolor\": \"white\"}, \"hoverlabel\": {\"align\": \"left\"}, \"hovermode\": \"closest\", \"mapbox\": {\"style\": \"light\"}, \"paper_bgcolor\": \"white\", \"plot_bgcolor\": \"#E5ECF6\", \"polar\": {\"angularaxis\": {\"gridcolor\": \"white\", \"linecolor\": \"white\", \"ticks\": \"\"}, \"bgcolor\": \"#E5ECF6\", \"radialaxis\": {\"gridcolor\": \"white\", \"linecolor\": \"white\", \"ticks\": \"\"}}, \"scene\": {\"xaxis\": {\"backgroundcolor\": \"#E5ECF6\", \"gridcolor\": \"white\", \"gridwidth\": 2, \"linecolor\": \"white\", \"showbackground\": true, \"ticks\": \"\", \"zerolinecolor\": \"white\"}, \"yaxis\": {\"backgroundcolor\": \"#E5ECF6\", \"gridcolor\": \"white\", \"gridwidth\": 2, \"linecolor\": \"white\", \"showbackground\": true, \"ticks\": \"\", \"zerolinecolor\": \"white\"}, \"zaxis\": {\"backgroundcolor\": \"#E5ECF6\", \"gridcolor\": \"white\", \"gridwidth\": 2, \"linecolor\": \"white\", \"showbackground\": true, \"ticks\": \"\", \"zerolinecolor\": \"white\"}}, \"shapedefaults\": {\"line\": {\"color\": \"#2a3f5f\"}}, \"ternary\": {\"aaxis\": {\"gridcolor\": \"white\", \"linecolor\": \"white\", \"ticks\": \"\"}, \"baxis\": {\"gridcolor\": \"white\", \"linecolor\": \"white\", \"ticks\": \"\"}, \"bgcolor\": \"#E5ECF6\", \"caxis\": {\"gridcolor\": \"white\", \"linecolor\": \"white\", \"ticks\": \"\"}}, \"title\": {\"x\": 0.05}, \"xaxis\": {\"automargin\": true, \"gridcolor\": \"white\", \"linecolor\": \"white\", \"ticks\": \"\", \"title\": {\"standoff\": 15}, \"zerolinecolor\": \"white\", \"zerolinewidth\": 2}, \"yaxis\": {\"automargin\": true, \"gridcolor\": \"white\", \"linecolor\": \"white\", \"ticks\": \"\", \"title\": {\"standoff\": 15}, \"zerolinecolor\": \"white\", \"zerolinewidth\": 2}}}, \"title\": {\"font\": {\"color\": \"#4D5663\"}}, \"xaxis\": {\"gridcolor\": \"#E1E5ED\", \"showgrid\": true, \"tickfont\": {\"color\": \"#4D5663\"}, \"title\": {\"font\": {\"color\": \"#4D5663\"}, \"text\": \"\"}, \"zerolinecolor\": \"#E1E5ED\"}, \"yaxis\": {\"gridcolor\": \"#E1E5ED\", \"showgrid\": true, \"tickfont\": {\"color\": \"#4D5663\"}, \"title\": {\"font\": {\"color\": \"#4D5663\"}, \"text\": \"\"}, \"zerolinecolor\": \"#E1E5ED\"}},                        {\"showLink\": true, \"linkText\": \"Export to plot.ly\", \"plotlyServerURL\": \"https://plot.ly\", \"responsive\": true}                    ).then(function(){\n",
       "                            \n",
       "var gd = document.getElementById('9f1f474c-14db-43a4-bd57-4f38932a55ef');\n",
       "var x = new MutationObserver(function (mutations, observer) {{\n",
       "        var display = window.getComputedStyle(gd).display;\n",
       "        if (!display || display === 'none') {{\n",
       "            console.log([gd, 'removed!']);\n",
       "            Plotly.purge(gd);\n",
       "            observer.disconnect();\n",
       "        }}\n",
       "}});\n",
       "\n",
       "// Listen for the removal of the full notebook cells\n",
       "var notebookContainer = gd.closest('#notebook-container');\n",
       "if (notebookContainer) {{\n",
       "    x.observe(notebookContainer, {childList: true});\n",
       "}}\n",
       "\n",
       "// Listen for the clearing of the current output cell\n",
       "var outputEl = gd.closest('.output');\n",
       "if (outputEl) {{\n",
       "    x.observe(outputEl, {childList: true});\n",
       "}}\n",
       "\n",
       "                        })                };                });            </script>        </div>"
      ]
     },
     "metadata": {},
     "output_type": "display_data"
    }
   ],
   "source": [
    "df.iplot(kind='box')"
   ]
  },
  {
   "cell_type": "markdown",
   "metadata": {},
   "source": [
    "Veja que até agora não realizamos nenhuma plotagem extremamente inovadora, porém são plotagens interativas que podem ser extremamente úteis, e é fácil de utilizar a biblioteca, muito semelhante ao Seaborn!"
   ]
  },
  {
   "cell_type": "markdown",
   "metadata": {},
   "source": [
    "Agora vamos ver um pouco da plotagem 3D:"
   ]
  },
  {
   "cell_type": "code",
   "execution_count": 16,
   "metadata": {},
   "outputs": [],
   "source": [
    "#Primeiro vamos criar um dataframe simulando 3 dimensões\n",
    "\n",
    "df3 = pd.DataFrame({'x' : [1,2,3,4,5],\n",
    "                   'y' : [10,20,30,20,10],\n",
    "                   'z' : [500,400,300,200,100]})"
   ]
  },
  {
   "cell_type": "code",
   "execution_count": 17,
   "metadata": {},
   "outputs": [
    {
     "data": {
      "text/html": [
       "<div>\n",
       "<style scoped>\n",
       "    .dataframe tbody tr th:only-of-type {\n",
       "        vertical-align: middle;\n",
       "    }\n",
       "\n",
       "    .dataframe tbody tr th {\n",
       "        vertical-align: top;\n",
       "    }\n",
       "\n",
       "    .dataframe thead th {\n",
       "        text-align: right;\n",
       "    }\n",
       "</style>\n",
       "<table border=\"1\" class=\"dataframe\">\n",
       "  <thead>\n",
       "    <tr style=\"text-align: right;\">\n",
       "      <th></th>\n",
       "      <th>x</th>\n",
       "      <th>y</th>\n",
       "      <th>z</th>\n",
       "    </tr>\n",
       "  </thead>\n",
       "  <tbody>\n",
       "    <tr>\n",
       "      <th>0</th>\n",
       "      <td>1</td>\n",
       "      <td>10</td>\n",
       "      <td>500</td>\n",
       "    </tr>\n",
       "    <tr>\n",
       "      <th>1</th>\n",
       "      <td>2</td>\n",
       "      <td>20</td>\n",
       "      <td>400</td>\n",
       "    </tr>\n",
       "    <tr>\n",
       "      <th>2</th>\n",
       "      <td>3</td>\n",
       "      <td>30</td>\n",
       "      <td>300</td>\n",
       "    </tr>\n",
       "    <tr>\n",
       "      <th>3</th>\n",
       "      <td>4</td>\n",
       "      <td>20</td>\n",
       "      <td>200</td>\n",
       "    </tr>\n",
       "    <tr>\n",
       "      <th>4</th>\n",
       "      <td>5</td>\n",
       "      <td>10</td>\n",
       "      <td>100</td>\n",
       "    </tr>\n",
       "  </tbody>\n",
       "</table>\n",
       "</div>"
      ],
      "text/plain": [
       "   x   y    z\n",
       "0  1  10  500\n",
       "1  2  20  400\n",
       "2  3  30  300\n",
       "3  4  20  200\n",
       "4  5  10  100"
      ]
     },
     "execution_count": 17,
     "metadata": {},
     "output_type": "execute_result"
    }
   ],
   "source": [
    "df3"
   ]
  },
  {
   "cell_type": "code",
   "execution_count": 18,
   "metadata": {},
   "outputs": [
    {
     "data": {
      "application/vnd.plotly.v1+json": {
       "config": {
        "linkText": "Export to plot.ly",
        "plotlyServerURL": "https://plot.ly",
        "showLink": true
       },
       "data": [
        {
         "colorscale": [
          [
           0,
           "rgb(255, 153, 51)"
          ],
          [
           0.1111111111111111,
           "rgb(55, 128, 191)"
          ],
          [
           0.2222222222222222,
           "rgb(50, 171, 96)"
          ],
          [
           0.3333333333333333,
           "rgb(128, 0, 128)"
          ],
          [
           0.4444444444444444,
           "rgb(219, 64, 82)"
          ],
          [
           0.5555555555555556,
           "rgb(0, 128, 128)"
          ],
          [
           0.6666666666666666,
           "rgb(255, 255, 51)"
          ],
          [
           0.7777777777777778,
           "rgb(128, 128, 0)"
          ],
          [
           0.8888888888888888,
           "rgb(251, 128, 114)"
          ],
          [
           1,
           "rgb(128, 177, 211)"
          ]
         ],
         "type": "surface",
         "x": [
          0,
          1,
          2,
          3,
          4
         ],
         "y": [
          "x",
          "y",
          "z"
         ],
         "z": [
          [
           1,
           2,
           3,
           4,
           5
          ],
          [
           10,
           20,
           30,
           20,
           10
          ],
          [
           500,
           400,
           300,
           200,
           100
          ]
         ]
        }
       ],
       "layout": {
        "legend": {
         "bgcolor": "#F5F6F9",
         "font": {
          "color": "#4D5663"
         }
        },
        "paper_bgcolor": "#F5F6F9",
        "plot_bgcolor": "#F5F6F9",
        "template": {
         "data": {
          "bar": [
           {
            "error_x": {
             "color": "#2a3f5f"
            },
            "error_y": {
             "color": "#2a3f5f"
            },
            "marker": {
             "line": {
              "color": "#E5ECF6",
              "width": 0.5
             }
            },
            "type": "bar"
           }
          ],
          "barpolar": [
           {
            "marker": {
             "line": {
              "color": "#E5ECF6",
              "width": 0.5
             }
            },
            "type": "barpolar"
           }
          ],
          "carpet": [
           {
            "aaxis": {
             "endlinecolor": "#2a3f5f",
             "gridcolor": "white",
             "linecolor": "white",
             "minorgridcolor": "white",
             "startlinecolor": "#2a3f5f"
            },
            "baxis": {
             "endlinecolor": "#2a3f5f",
             "gridcolor": "white",
             "linecolor": "white",
             "minorgridcolor": "white",
             "startlinecolor": "#2a3f5f"
            },
            "type": "carpet"
           }
          ],
          "choropleth": [
           {
            "colorbar": {
             "outlinewidth": 0,
             "ticks": ""
            },
            "type": "choropleth"
           }
          ],
          "contour": [
           {
            "colorbar": {
             "outlinewidth": 0,
             "ticks": ""
            },
            "colorscale": [
             [
              0,
              "#0d0887"
             ],
             [
              0.1111111111111111,
              "#46039f"
             ],
             [
              0.2222222222222222,
              "#7201a8"
             ],
             [
              0.3333333333333333,
              "#9c179e"
             ],
             [
              0.4444444444444444,
              "#bd3786"
             ],
             [
              0.5555555555555556,
              "#d8576b"
             ],
             [
              0.6666666666666666,
              "#ed7953"
             ],
             [
              0.7777777777777778,
              "#fb9f3a"
             ],
             [
              0.8888888888888888,
              "#fdca26"
             ],
             [
              1,
              "#f0f921"
             ]
            ],
            "type": "contour"
           }
          ],
          "contourcarpet": [
           {
            "colorbar": {
             "outlinewidth": 0,
             "ticks": ""
            },
            "type": "contourcarpet"
           }
          ],
          "heatmap": [
           {
            "colorbar": {
             "outlinewidth": 0,
             "ticks": ""
            },
            "colorscale": [
             [
              0,
              "#0d0887"
             ],
             [
              0.1111111111111111,
              "#46039f"
             ],
             [
              0.2222222222222222,
              "#7201a8"
             ],
             [
              0.3333333333333333,
              "#9c179e"
             ],
             [
              0.4444444444444444,
              "#bd3786"
             ],
             [
              0.5555555555555556,
              "#d8576b"
             ],
             [
              0.6666666666666666,
              "#ed7953"
             ],
             [
              0.7777777777777778,
              "#fb9f3a"
             ],
             [
              0.8888888888888888,
              "#fdca26"
             ],
             [
              1,
              "#f0f921"
             ]
            ],
            "type": "heatmap"
           }
          ],
          "heatmapgl": [
           {
            "colorbar": {
             "outlinewidth": 0,
             "ticks": ""
            },
            "colorscale": [
             [
              0,
              "#0d0887"
             ],
             [
              0.1111111111111111,
              "#46039f"
             ],
             [
              0.2222222222222222,
              "#7201a8"
             ],
             [
              0.3333333333333333,
              "#9c179e"
             ],
             [
              0.4444444444444444,
              "#bd3786"
             ],
             [
              0.5555555555555556,
              "#d8576b"
             ],
             [
              0.6666666666666666,
              "#ed7953"
             ],
             [
              0.7777777777777778,
              "#fb9f3a"
             ],
             [
              0.8888888888888888,
              "#fdca26"
             ],
             [
              1,
              "#f0f921"
             ]
            ],
            "type": "heatmapgl"
           }
          ],
          "histogram": [
           {
            "marker": {
             "colorbar": {
              "outlinewidth": 0,
              "ticks": ""
             }
            },
            "type": "histogram"
           }
          ],
          "histogram2d": [
           {
            "colorbar": {
             "outlinewidth": 0,
             "ticks": ""
            },
            "colorscale": [
             [
              0,
              "#0d0887"
             ],
             [
              0.1111111111111111,
              "#46039f"
             ],
             [
              0.2222222222222222,
              "#7201a8"
             ],
             [
              0.3333333333333333,
              "#9c179e"
             ],
             [
              0.4444444444444444,
              "#bd3786"
             ],
             [
              0.5555555555555556,
              "#d8576b"
             ],
             [
              0.6666666666666666,
              "#ed7953"
             ],
             [
              0.7777777777777778,
              "#fb9f3a"
             ],
             [
              0.8888888888888888,
              "#fdca26"
             ],
             [
              1,
              "#f0f921"
             ]
            ],
            "type": "histogram2d"
           }
          ],
          "histogram2dcontour": [
           {
            "colorbar": {
             "outlinewidth": 0,
             "ticks": ""
            },
            "colorscale": [
             [
              0,
              "#0d0887"
             ],
             [
              0.1111111111111111,
              "#46039f"
             ],
             [
              0.2222222222222222,
              "#7201a8"
             ],
             [
              0.3333333333333333,
              "#9c179e"
             ],
             [
              0.4444444444444444,
              "#bd3786"
             ],
             [
              0.5555555555555556,
              "#d8576b"
             ],
             [
              0.6666666666666666,
              "#ed7953"
             ],
             [
              0.7777777777777778,
              "#fb9f3a"
             ],
             [
              0.8888888888888888,
              "#fdca26"
             ],
             [
              1,
              "#f0f921"
             ]
            ],
            "type": "histogram2dcontour"
           }
          ],
          "mesh3d": [
           {
            "colorbar": {
             "outlinewidth": 0,
             "ticks": ""
            },
            "type": "mesh3d"
           }
          ],
          "parcoords": [
           {
            "line": {
             "colorbar": {
              "outlinewidth": 0,
              "ticks": ""
             }
            },
            "type": "parcoords"
           }
          ],
          "pie": [
           {
            "automargin": true,
            "type": "pie"
           }
          ],
          "scatter": [
           {
            "marker": {
             "colorbar": {
              "outlinewidth": 0,
              "ticks": ""
             }
            },
            "type": "scatter"
           }
          ],
          "scatter3d": [
           {
            "line": {
             "colorbar": {
              "outlinewidth": 0,
              "ticks": ""
             }
            },
            "marker": {
             "colorbar": {
              "outlinewidth": 0,
              "ticks": ""
             }
            },
            "type": "scatter3d"
           }
          ],
          "scattercarpet": [
           {
            "marker": {
             "colorbar": {
              "outlinewidth": 0,
              "ticks": ""
             }
            },
            "type": "scattercarpet"
           }
          ],
          "scattergeo": [
           {
            "marker": {
             "colorbar": {
              "outlinewidth": 0,
              "ticks": ""
             }
            },
            "type": "scattergeo"
           }
          ],
          "scattergl": [
           {
            "marker": {
             "colorbar": {
              "outlinewidth": 0,
              "ticks": ""
             }
            },
            "type": "scattergl"
           }
          ],
          "scattermapbox": [
           {
            "marker": {
             "colorbar": {
              "outlinewidth": 0,
              "ticks": ""
             }
            },
            "type": "scattermapbox"
           }
          ],
          "scatterpolar": [
           {
            "marker": {
             "colorbar": {
              "outlinewidth": 0,
              "ticks": ""
             }
            },
            "type": "scatterpolar"
           }
          ],
          "scatterpolargl": [
           {
            "marker": {
             "colorbar": {
              "outlinewidth": 0,
              "ticks": ""
             }
            },
            "type": "scatterpolargl"
           }
          ],
          "scatterternary": [
           {
            "marker": {
             "colorbar": {
              "outlinewidth": 0,
              "ticks": ""
             }
            },
            "type": "scatterternary"
           }
          ],
          "surface": [
           {
            "colorbar": {
             "outlinewidth": 0,
             "ticks": ""
            },
            "colorscale": [
             [
              0,
              "#0d0887"
             ],
             [
              0.1111111111111111,
              "#46039f"
             ],
             [
              0.2222222222222222,
              "#7201a8"
             ],
             [
              0.3333333333333333,
              "#9c179e"
             ],
             [
              0.4444444444444444,
              "#bd3786"
             ],
             [
              0.5555555555555556,
              "#d8576b"
             ],
             [
              0.6666666666666666,
              "#ed7953"
             ],
             [
              0.7777777777777778,
              "#fb9f3a"
             ],
             [
              0.8888888888888888,
              "#fdca26"
             ],
             [
              1,
              "#f0f921"
             ]
            ],
            "type": "surface"
           }
          ],
          "table": [
           {
            "cells": {
             "fill": {
              "color": "#EBF0F8"
             },
             "line": {
              "color": "white"
             }
            },
            "header": {
             "fill": {
              "color": "#C8D4E3"
             },
             "line": {
              "color": "white"
             }
            },
            "type": "table"
           }
          ]
         },
         "layout": {
          "annotationdefaults": {
           "arrowcolor": "#2a3f5f",
           "arrowhead": 0,
           "arrowwidth": 1
          },
          "autotypenumbers": "strict",
          "coloraxis": {
           "colorbar": {
            "outlinewidth": 0,
            "ticks": ""
           }
          },
          "colorscale": {
           "diverging": [
            [
             0,
             "#8e0152"
            ],
            [
             0.1,
             "#c51b7d"
            ],
            [
             0.2,
             "#de77ae"
            ],
            [
             0.3,
             "#f1b6da"
            ],
            [
             0.4,
             "#fde0ef"
            ],
            [
             0.5,
             "#f7f7f7"
            ],
            [
             0.6,
             "#e6f5d0"
            ],
            [
             0.7,
             "#b8e186"
            ],
            [
             0.8,
             "#7fbc41"
            ],
            [
             0.9,
             "#4d9221"
            ],
            [
             1,
             "#276419"
            ]
           ],
           "sequential": [
            [
             0,
             "#0d0887"
            ],
            [
             0.1111111111111111,
             "#46039f"
            ],
            [
             0.2222222222222222,
             "#7201a8"
            ],
            [
             0.3333333333333333,
             "#9c179e"
            ],
            [
             0.4444444444444444,
             "#bd3786"
            ],
            [
             0.5555555555555556,
             "#d8576b"
            ],
            [
             0.6666666666666666,
             "#ed7953"
            ],
            [
             0.7777777777777778,
             "#fb9f3a"
            ],
            [
             0.8888888888888888,
             "#fdca26"
            ],
            [
             1,
             "#f0f921"
            ]
           ],
           "sequentialminus": [
            [
             0,
             "#0d0887"
            ],
            [
             0.1111111111111111,
             "#46039f"
            ],
            [
             0.2222222222222222,
             "#7201a8"
            ],
            [
             0.3333333333333333,
             "#9c179e"
            ],
            [
             0.4444444444444444,
             "#bd3786"
            ],
            [
             0.5555555555555556,
             "#d8576b"
            ],
            [
             0.6666666666666666,
             "#ed7953"
            ],
            [
             0.7777777777777778,
             "#fb9f3a"
            ],
            [
             0.8888888888888888,
             "#fdca26"
            ],
            [
             1,
             "#f0f921"
            ]
           ]
          },
          "colorway": [
           "#636efa",
           "#EF553B",
           "#00cc96",
           "#ab63fa",
           "#FFA15A",
           "#19d3f3",
           "#FF6692",
           "#B6E880",
           "#FF97FF",
           "#FECB52"
          ],
          "font": {
           "color": "#2a3f5f"
          },
          "geo": {
           "bgcolor": "white",
           "lakecolor": "white",
           "landcolor": "#E5ECF6",
           "showlakes": true,
           "showland": true,
           "subunitcolor": "white"
          },
          "hoverlabel": {
           "align": "left"
          },
          "hovermode": "closest",
          "mapbox": {
           "style": "light"
          },
          "paper_bgcolor": "white",
          "plot_bgcolor": "#E5ECF6",
          "polar": {
           "angularaxis": {
            "gridcolor": "white",
            "linecolor": "white",
            "ticks": ""
           },
           "bgcolor": "#E5ECF6",
           "radialaxis": {
            "gridcolor": "white",
            "linecolor": "white",
            "ticks": ""
           }
          },
          "scene": {
           "xaxis": {
            "backgroundcolor": "#E5ECF6",
            "gridcolor": "white",
            "gridwidth": 2,
            "linecolor": "white",
            "showbackground": true,
            "ticks": "",
            "zerolinecolor": "white"
           },
           "yaxis": {
            "backgroundcolor": "#E5ECF6",
            "gridcolor": "white",
            "gridwidth": 2,
            "linecolor": "white",
            "showbackground": true,
            "ticks": "",
            "zerolinecolor": "white"
           },
           "zaxis": {
            "backgroundcolor": "#E5ECF6",
            "gridcolor": "white",
            "gridwidth": 2,
            "linecolor": "white",
            "showbackground": true,
            "ticks": "",
            "zerolinecolor": "white"
           }
          },
          "shapedefaults": {
           "line": {
            "color": "#2a3f5f"
           }
          },
          "ternary": {
           "aaxis": {
            "gridcolor": "white",
            "linecolor": "white",
            "ticks": ""
           },
           "baxis": {
            "gridcolor": "white",
            "linecolor": "white",
            "ticks": ""
           },
           "bgcolor": "#E5ECF6",
           "caxis": {
            "gridcolor": "white",
            "linecolor": "white",
            "ticks": ""
           }
          },
          "title": {
           "x": 0.05
          },
          "xaxis": {
           "automargin": true,
           "gridcolor": "white",
           "linecolor": "white",
           "ticks": "",
           "title": {
            "standoff": 15
           },
           "zerolinecolor": "white",
           "zerolinewidth": 2
          },
          "yaxis": {
           "automargin": true,
           "gridcolor": "white",
           "linecolor": "white",
           "ticks": "",
           "title": {
            "standoff": 15
           },
           "zerolinecolor": "white",
           "zerolinewidth": 2
          }
         }
        },
        "title": {
         "font": {
          "color": "#4D5663"
         }
        },
        "xaxis": {
         "gridcolor": "#E1E5ED",
         "showgrid": true,
         "tickfont": {
          "color": "#4D5663"
         },
         "title": {
          "font": {
           "color": "#4D5663"
          },
          "text": ""
         },
         "zerolinecolor": "#E1E5ED"
        },
        "yaxis": {
         "gridcolor": "#E1E5ED",
         "showgrid": true,
         "tickfont": {
          "color": "#4D5663"
         },
         "title": {
          "font": {
           "color": "#4D5663"
          },
          "text": ""
         },
         "zerolinecolor": "#E1E5ED"
        }
       }
      },
      "text/html": [
       "<div>                            <div id=\"7dc424dd-de97-44d6-b5c7-f0a7a86159b8\" class=\"plotly-graph-div\" style=\"height:525px; width:100%;\"></div>            <script type=\"text/javascript\">                require([\"plotly\"], function(Plotly) {                    window.PLOTLYENV=window.PLOTLYENV || {};\n",
       "                    window.PLOTLYENV.BASE_URL='https://plot.ly';                                    if (document.getElementById(\"7dc424dd-de97-44d6-b5c7-f0a7a86159b8\")) {                    Plotly.newPlot(                        \"7dc424dd-de97-44d6-b5c7-f0a7a86159b8\",                        [{\"colorscale\": [[0.0, \"rgb(255, 153, 51)\"], [0.1111111111111111, \"rgb(55, 128, 191)\"], [0.2222222222222222, \"rgb(50, 171, 96)\"], [0.3333333333333333, \"rgb(128, 0, 128)\"], [0.4444444444444444, \"rgb(219, 64, 82)\"], [0.5555555555555556, \"rgb(0, 128, 128)\"], [0.6666666666666666, \"rgb(255, 255, 51)\"], [0.7777777777777778, \"rgb(128, 128, 0)\"], [0.8888888888888888, \"rgb(251, 128, 114)\"], [1.0, \"rgb(128, 177, 211)\"]], \"type\": \"surface\", \"x\": [0, 1, 2, 3, 4], \"y\": [\"x\", \"y\", \"z\"], \"z\": [[1, 2, 3, 4, 5], [10, 20, 30, 20, 10], [500, 400, 300, 200, 100]]}],                        {\"legend\": {\"bgcolor\": \"#F5F6F9\", \"font\": {\"color\": \"#4D5663\"}}, \"paper_bgcolor\": \"#F5F6F9\", \"plot_bgcolor\": \"#F5F6F9\", \"template\": {\"data\": {\"bar\": [{\"error_x\": {\"color\": \"#2a3f5f\"}, \"error_y\": {\"color\": \"#2a3f5f\"}, \"marker\": {\"line\": {\"color\": \"#E5ECF6\", \"width\": 0.5}}, \"type\": \"bar\"}], \"barpolar\": [{\"marker\": {\"line\": {\"color\": \"#E5ECF6\", \"width\": 0.5}}, \"type\": \"barpolar\"}], \"carpet\": [{\"aaxis\": {\"endlinecolor\": \"#2a3f5f\", \"gridcolor\": \"white\", \"linecolor\": \"white\", \"minorgridcolor\": \"white\", \"startlinecolor\": \"#2a3f5f\"}, \"baxis\": {\"endlinecolor\": \"#2a3f5f\", \"gridcolor\": \"white\", \"linecolor\": \"white\", \"minorgridcolor\": \"white\", \"startlinecolor\": \"#2a3f5f\"}, \"type\": \"carpet\"}], \"choropleth\": [{\"colorbar\": {\"outlinewidth\": 0, \"ticks\": \"\"}, \"type\": \"choropleth\"}], \"contour\": [{\"colorbar\": {\"outlinewidth\": 0, \"ticks\": \"\"}, \"colorscale\": [[0.0, \"#0d0887\"], [0.1111111111111111, \"#46039f\"], [0.2222222222222222, \"#7201a8\"], [0.3333333333333333, \"#9c179e\"], [0.4444444444444444, \"#bd3786\"], [0.5555555555555556, \"#d8576b\"], [0.6666666666666666, \"#ed7953\"], [0.7777777777777778, \"#fb9f3a\"], [0.8888888888888888, \"#fdca26\"], [1.0, \"#f0f921\"]], \"type\": \"contour\"}], \"contourcarpet\": [{\"colorbar\": {\"outlinewidth\": 0, \"ticks\": \"\"}, \"type\": \"contourcarpet\"}], \"heatmap\": [{\"colorbar\": {\"outlinewidth\": 0, \"ticks\": \"\"}, \"colorscale\": [[0.0, \"#0d0887\"], [0.1111111111111111, \"#46039f\"], [0.2222222222222222, \"#7201a8\"], [0.3333333333333333, \"#9c179e\"], [0.4444444444444444, \"#bd3786\"], [0.5555555555555556, \"#d8576b\"], [0.6666666666666666, \"#ed7953\"], [0.7777777777777778, \"#fb9f3a\"], [0.8888888888888888, \"#fdca26\"], [1.0, \"#f0f921\"]], \"type\": \"heatmap\"}], \"heatmapgl\": [{\"colorbar\": {\"outlinewidth\": 0, \"ticks\": \"\"}, \"colorscale\": [[0.0, \"#0d0887\"], [0.1111111111111111, \"#46039f\"], [0.2222222222222222, \"#7201a8\"], [0.3333333333333333, \"#9c179e\"], [0.4444444444444444, \"#bd3786\"], [0.5555555555555556, \"#d8576b\"], [0.6666666666666666, \"#ed7953\"], [0.7777777777777778, \"#fb9f3a\"], [0.8888888888888888, \"#fdca26\"], [1.0, \"#f0f921\"]], \"type\": \"heatmapgl\"}], \"histogram\": [{\"marker\": {\"colorbar\": {\"outlinewidth\": 0, \"ticks\": \"\"}}, \"type\": \"histogram\"}], \"histogram2d\": [{\"colorbar\": {\"outlinewidth\": 0, \"ticks\": \"\"}, \"colorscale\": [[0.0, \"#0d0887\"], [0.1111111111111111, \"#46039f\"], [0.2222222222222222, \"#7201a8\"], [0.3333333333333333, \"#9c179e\"], [0.4444444444444444, \"#bd3786\"], [0.5555555555555556, \"#d8576b\"], [0.6666666666666666, \"#ed7953\"], [0.7777777777777778, \"#fb9f3a\"], [0.8888888888888888, \"#fdca26\"], [1.0, \"#f0f921\"]], \"type\": \"histogram2d\"}], \"histogram2dcontour\": [{\"colorbar\": {\"outlinewidth\": 0, \"ticks\": \"\"}, \"colorscale\": [[0.0, \"#0d0887\"], [0.1111111111111111, \"#46039f\"], [0.2222222222222222, \"#7201a8\"], [0.3333333333333333, \"#9c179e\"], [0.4444444444444444, \"#bd3786\"], [0.5555555555555556, \"#d8576b\"], [0.6666666666666666, \"#ed7953\"], [0.7777777777777778, \"#fb9f3a\"], [0.8888888888888888, \"#fdca26\"], [1.0, \"#f0f921\"]], \"type\": \"histogram2dcontour\"}], \"mesh3d\": [{\"colorbar\": {\"outlinewidth\": 0, \"ticks\": \"\"}, \"type\": \"mesh3d\"}], \"parcoords\": [{\"line\": {\"colorbar\": {\"outlinewidth\": 0, \"ticks\": \"\"}}, \"type\": \"parcoords\"}], \"pie\": [{\"automargin\": true, \"type\": \"pie\"}], \"scatter\": [{\"marker\": {\"colorbar\": {\"outlinewidth\": 0, \"ticks\": \"\"}}, \"type\": \"scatter\"}], \"scatter3d\": [{\"line\": {\"colorbar\": {\"outlinewidth\": 0, \"ticks\": \"\"}}, \"marker\": {\"colorbar\": {\"outlinewidth\": 0, \"ticks\": \"\"}}, \"type\": \"scatter3d\"}], \"scattercarpet\": [{\"marker\": {\"colorbar\": {\"outlinewidth\": 0, \"ticks\": \"\"}}, \"type\": \"scattercarpet\"}], \"scattergeo\": [{\"marker\": {\"colorbar\": {\"outlinewidth\": 0, \"ticks\": \"\"}}, \"type\": \"scattergeo\"}], \"scattergl\": [{\"marker\": {\"colorbar\": {\"outlinewidth\": 0, \"ticks\": \"\"}}, \"type\": \"scattergl\"}], \"scattermapbox\": [{\"marker\": {\"colorbar\": {\"outlinewidth\": 0, \"ticks\": \"\"}}, \"type\": \"scattermapbox\"}], \"scatterpolar\": [{\"marker\": {\"colorbar\": {\"outlinewidth\": 0, \"ticks\": \"\"}}, \"type\": \"scatterpolar\"}], \"scatterpolargl\": [{\"marker\": {\"colorbar\": {\"outlinewidth\": 0, \"ticks\": \"\"}}, \"type\": \"scatterpolargl\"}], \"scatterternary\": [{\"marker\": {\"colorbar\": {\"outlinewidth\": 0, \"ticks\": \"\"}}, \"type\": \"scatterternary\"}], \"surface\": [{\"colorbar\": {\"outlinewidth\": 0, \"ticks\": \"\"}, \"colorscale\": [[0.0, \"#0d0887\"], [0.1111111111111111, \"#46039f\"], [0.2222222222222222, \"#7201a8\"], [0.3333333333333333, \"#9c179e\"], [0.4444444444444444, \"#bd3786\"], [0.5555555555555556, \"#d8576b\"], [0.6666666666666666, \"#ed7953\"], [0.7777777777777778, \"#fb9f3a\"], [0.8888888888888888, \"#fdca26\"], [1.0, \"#f0f921\"]], \"type\": \"surface\"}], \"table\": [{\"cells\": {\"fill\": {\"color\": \"#EBF0F8\"}, \"line\": {\"color\": \"white\"}}, \"header\": {\"fill\": {\"color\": \"#C8D4E3\"}, \"line\": {\"color\": \"white\"}}, \"type\": \"table\"}]}, \"layout\": {\"annotationdefaults\": {\"arrowcolor\": \"#2a3f5f\", \"arrowhead\": 0, \"arrowwidth\": 1}, \"autotypenumbers\": \"strict\", \"coloraxis\": {\"colorbar\": {\"outlinewidth\": 0, \"ticks\": \"\"}}, \"colorscale\": {\"diverging\": [[0, \"#8e0152\"], [0.1, \"#c51b7d\"], [0.2, \"#de77ae\"], [0.3, \"#f1b6da\"], [0.4, \"#fde0ef\"], [0.5, \"#f7f7f7\"], [0.6, \"#e6f5d0\"], [0.7, \"#b8e186\"], [0.8, \"#7fbc41\"], [0.9, \"#4d9221\"], [1, \"#276419\"]], \"sequential\": [[0.0, \"#0d0887\"], [0.1111111111111111, \"#46039f\"], [0.2222222222222222, \"#7201a8\"], [0.3333333333333333, \"#9c179e\"], [0.4444444444444444, \"#bd3786\"], [0.5555555555555556, \"#d8576b\"], [0.6666666666666666, \"#ed7953\"], [0.7777777777777778, \"#fb9f3a\"], [0.8888888888888888, \"#fdca26\"], [1.0, \"#f0f921\"]], \"sequentialminus\": [[0.0, \"#0d0887\"], [0.1111111111111111, \"#46039f\"], [0.2222222222222222, \"#7201a8\"], [0.3333333333333333, \"#9c179e\"], [0.4444444444444444, \"#bd3786\"], [0.5555555555555556, \"#d8576b\"], [0.6666666666666666, \"#ed7953\"], [0.7777777777777778, \"#fb9f3a\"], [0.8888888888888888, \"#fdca26\"], [1.0, \"#f0f921\"]]}, \"colorway\": [\"#636efa\", \"#EF553B\", \"#00cc96\", \"#ab63fa\", \"#FFA15A\", \"#19d3f3\", \"#FF6692\", \"#B6E880\", \"#FF97FF\", \"#FECB52\"], \"font\": {\"color\": \"#2a3f5f\"}, \"geo\": {\"bgcolor\": \"white\", \"lakecolor\": \"white\", \"landcolor\": \"#E5ECF6\", \"showlakes\": true, \"showland\": true, \"subunitcolor\": \"white\"}, \"hoverlabel\": {\"align\": \"left\"}, \"hovermode\": \"closest\", \"mapbox\": {\"style\": \"light\"}, \"paper_bgcolor\": \"white\", \"plot_bgcolor\": \"#E5ECF6\", \"polar\": {\"angularaxis\": {\"gridcolor\": \"white\", \"linecolor\": \"white\", \"ticks\": \"\"}, \"bgcolor\": \"#E5ECF6\", \"radialaxis\": {\"gridcolor\": \"white\", \"linecolor\": \"white\", \"ticks\": \"\"}}, \"scene\": {\"xaxis\": {\"backgroundcolor\": \"#E5ECF6\", \"gridcolor\": \"white\", \"gridwidth\": 2, \"linecolor\": \"white\", \"showbackground\": true, \"ticks\": \"\", \"zerolinecolor\": \"white\"}, \"yaxis\": {\"backgroundcolor\": \"#E5ECF6\", \"gridcolor\": \"white\", \"gridwidth\": 2, \"linecolor\": \"white\", \"showbackground\": true, \"ticks\": \"\", \"zerolinecolor\": \"white\"}, \"zaxis\": {\"backgroundcolor\": \"#E5ECF6\", \"gridcolor\": \"white\", \"gridwidth\": 2, \"linecolor\": \"white\", \"showbackground\": true, \"ticks\": \"\", \"zerolinecolor\": \"white\"}}, \"shapedefaults\": {\"line\": {\"color\": \"#2a3f5f\"}}, \"ternary\": {\"aaxis\": {\"gridcolor\": \"white\", \"linecolor\": \"white\", \"ticks\": \"\"}, \"baxis\": {\"gridcolor\": \"white\", \"linecolor\": \"white\", \"ticks\": \"\"}, \"bgcolor\": \"#E5ECF6\", \"caxis\": {\"gridcolor\": \"white\", \"linecolor\": \"white\", \"ticks\": \"\"}}, \"title\": {\"x\": 0.05}, \"xaxis\": {\"automargin\": true, \"gridcolor\": \"white\", \"linecolor\": \"white\", \"ticks\": \"\", \"title\": {\"standoff\": 15}, \"zerolinecolor\": \"white\", \"zerolinewidth\": 2}, \"yaxis\": {\"automargin\": true, \"gridcolor\": \"white\", \"linecolor\": \"white\", \"ticks\": \"\", \"title\": {\"standoff\": 15}, \"zerolinecolor\": \"white\", \"zerolinewidth\": 2}}}, \"title\": {\"font\": {\"color\": \"#4D5663\"}}, \"xaxis\": {\"gridcolor\": \"#E1E5ED\", \"showgrid\": true, \"tickfont\": {\"color\": \"#4D5663\"}, \"title\": {\"font\": {\"color\": \"#4D5663\"}, \"text\": \"\"}, \"zerolinecolor\": \"#E1E5ED\"}, \"yaxis\": {\"gridcolor\": \"#E1E5ED\", \"showgrid\": true, \"tickfont\": {\"color\": \"#4D5663\"}, \"title\": {\"font\": {\"color\": \"#4D5663\"}, \"text\": \"\"}, \"zerolinecolor\": \"#E1E5ED\"}},                        {\"showLink\": true, \"linkText\": \"Export to plot.ly\", \"plotlyServerURL\": \"https://plot.ly\", \"responsive\": true}                    ).then(function(){\n",
       "                            \n",
       "var gd = document.getElementById('7dc424dd-de97-44d6-b5c7-f0a7a86159b8');\n",
       "var x = new MutationObserver(function (mutations, observer) {{\n",
       "        var display = window.getComputedStyle(gd).display;\n",
       "        if (!display || display === 'none') {{\n",
       "            console.log([gd, 'removed!']);\n",
       "            Plotly.purge(gd);\n",
       "            observer.disconnect();\n",
       "        }}\n",
       "}});\n",
       "\n",
       "// Listen for the removal of the full notebook cells\n",
       "var notebookContainer = gd.closest('#notebook-container');\n",
       "if (notebookContainer) {{\n",
       "    x.observe(notebookContainer, {childList: true});\n",
       "}}\n",
       "\n",
       "// Listen for the clearing of the current output cell\n",
       "var outputEl = gd.closest('.output');\n",
       "if (outputEl) {{\n",
       "    x.observe(outputEl, {childList: true});\n",
       "}}\n",
       "\n",
       "                        })                };                });            </script>        </div>"
      ]
     },
     "metadata": {},
     "output_type": "display_data"
    }
   ],
   "source": [
    "df3.iplot(kind='surface')"
   ]
  },
  {
   "cell_type": "code",
   "execution_count": 20,
   "metadata": {},
   "outputs": [
    {
     "data": {
      "application/vnd.plotly.v1+json": {
       "config": {
        "linkText": "Export to plot.ly",
        "plotlyServerURL": "https://plot.ly",
        "showLink": true
       },
       "data": [
        {
         "colorscale": [
          [
           0,
           "rgb(165,0,38)"
          ],
          [
           0.1,
           "rgb(215,48,39)"
          ],
          [
           0.2,
           "rgb(244,109,67)"
          ],
          [
           0.3,
           "rgb(253,174,97)"
          ],
          [
           0.4,
           "rgb(254,224,144)"
          ],
          [
           0.5,
           "rgb(255,255,191)"
          ],
          [
           0.6,
           "rgb(224,243,248)"
          ],
          [
           0.7,
           "rgb(171,217,233)"
          ],
          [
           0.8,
           "rgb(116,173,209)"
          ],
          [
           0.9,
           "rgb(69,117,180)"
          ],
          [
           1,
           "rgb(49,54,149)"
          ]
         ],
         "type": "surface",
         "x": [
          0,
          1,
          2,
          3,
          4
         ],
         "y": [
          "x",
          "y",
          "z"
         ],
         "z": [
          [
           1,
           2,
           3,
           4,
           5
          ],
          [
           10,
           20,
           30,
           20,
           10
          ],
          [
           500,
           400,
           300,
           200,
           100
          ]
         ]
        }
       ],
       "layout": {
        "legend": {
         "bgcolor": "#F5F6F9",
         "font": {
          "color": "#4D5663"
         }
        },
        "paper_bgcolor": "#F5F6F9",
        "plot_bgcolor": "#F5F6F9",
        "template": {
         "data": {
          "bar": [
           {
            "error_x": {
             "color": "#2a3f5f"
            },
            "error_y": {
             "color": "#2a3f5f"
            },
            "marker": {
             "line": {
              "color": "#E5ECF6",
              "width": 0.5
             }
            },
            "type": "bar"
           }
          ],
          "barpolar": [
           {
            "marker": {
             "line": {
              "color": "#E5ECF6",
              "width": 0.5
             }
            },
            "type": "barpolar"
           }
          ],
          "carpet": [
           {
            "aaxis": {
             "endlinecolor": "#2a3f5f",
             "gridcolor": "white",
             "linecolor": "white",
             "minorgridcolor": "white",
             "startlinecolor": "#2a3f5f"
            },
            "baxis": {
             "endlinecolor": "#2a3f5f",
             "gridcolor": "white",
             "linecolor": "white",
             "minorgridcolor": "white",
             "startlinecolor": "#2a3f5f"
            },
            "type": "carpet"
           }
          ],
          "choropleth": [
           {
            "colorbar": {
             "outlinewidth": 0,
             "ticks": ""
            },
            "type": "choropleth"
           }
          ],
          "contour": [
           {
            "colorbar": {
             "outlinewidth": 0,
             "ticks": ""
            },
            "colorscale": [
             [
              0,
              "#0d0887"
             ],
             [
              0.1111111111111111,
              "#46039f"
             ],
             [
              0.2222222222222222,
              "#7201a8"
             ],
             [
              0.3333333333333333,
              "#9c179e"
             ],
             [
              0.4444444444444444,
              "#bd3786"
             ],
             [
              0.5555555555555556,
              "#d8576b"
             ],
             [
              0.6666666666666666,
              "#ed7953"
             ],
             [
              0.7777777777777778,
              "#fb9f3a"
             ],
             [
              0.8888888888888888,
              "#fdca26"
             ],
             [
              1,
              "#f0f921"
             ]
            ],
            "type": "contour"
           }
          ],
          "contourcarpet": [
           {
            "colorbar": {
             "outlinewidth": 0,
             "ticks": ""
            },
            "type": "contourcarpet"
           }
          ],
          "heatmap": [
           {
            "colorbar": {
             "outlinewidth": 0,
             "ticks": ""
            },
            "colorscale": [
             [
              0,
              "#0d0887"
             ],
             [
              0.1111111111111111,
              "#46039f"
             ],
             [
              0.2222222222222222,
              "#7201a8"
             ],
             [
              0.3333333333333333,
              "#9c179e"
             ],
             [
              0.4444444444444444,
              "#bd3786"
             ],
             [
              0.5555555555555556,
              "#d8576b"
             ],
             [
              0.6666666666666666,
              "#ed7953"
             ],
             [
              0.7777777777777778,
              "#fb9f3a"
             ],
             [
              0.8888888888888888,
              "#fdca26"
             ],
             [
              1,
              "#f0f921"
             ]
            ],
            "type": "heatmap"
           }
          ],
          "heatmapgl": [
           {
            "colorbar": {
             "outlinewidth": 0,
             "ticks": ""
            },
            "colorscale": [
             [
              0,
              "#0d0887"
             ],
             [
              0.1111111111111111,
              "#46039f"
             ],
             [
              0.2222222222222222,
              "#7201a8"
             ],
             [
              0.3333333333333333,
              "#9c179e"
             ],
             [
              0.4444444444444444,
              "#bd3786"
             ],
             [
              0.5555555555555556,
              "#d8576b"
             ],
             [
              0.6666666666666666,
              "#ed7953"
             ],
             [
              0.7777777777777778,
              "#fb9f3a"
             ],
             [
              0.8888888888888888,
              "#fdca26"
             ],
             [
              1,
              "#f0f921"
             ]
            ],
            "type": "heatmapgl"
           }
          ],
          "histogram": [
           {
            "marker": {
             "colorbar": {
              "outlinewidth": 0,
              "ticks": ""
             }
            },
            "type": "histogram"
           }
          ],
          "histogram2d": [
           {
            "colorbar": {
             "outlinewidth": 0,
             "ticks": ""
            },
            "colorscale": [
             [
              0,
              "#0d0887"
             ],
             [
              0.1111111111111111,
              "#46039f"
             ],
             [
              0.2222222222222222,
              "#7201a8"
             ],
             [
              0.3333333333333333,
              "#9c179e"
             ],
             [
              0.4444444444444444,
              "#bd3786"
             ],
             [
              0.5555555555555556,
              "#d8576b"
             ],
             [
              0.6666666666666666,
              "#ed7953"
             ],
             [
              0.7777777777777778,
              "#fb9f3a"
             ],
             [
              0.8888888888888888,
              "#fdca26"
             ],
             [
              1,
              "#f0f921"
             ]
            ],
            "type": "histogram2d"
           }
          ],
          "histogram2dcontour": [
           {
            "colorbar": {
             "outlinewidth": 0,
             "ticks": ""
            },
            "colorscale": [
             [
              0,
              "#0d0887"
             ],
             [
              0.1111111111111111,
              "#46039f"
             ],
             [
              0.2222222222222222,
              "#7201a8"
             ],
             [
              0.3333333333333333,
              "#9c179e"
             ],
             [
              0.4444444444444444,
              "#bd3786"
             ],
             [
              0.5555555555555556,
              "#d8576b"
             ],
             [
              0.6666666666666666,
              "#ed7953"
             ],
             [
              0.7777777777777778,
              "#fb9f3a"
             ],
             [
              0.8888888888888888,
              "#fdca26"
             ],
             [
              1,
              "#f0f921"
             ]
            ],
            "type": "histogram2dcontour"
           }
          ],
          "mesh3d": [
           {
            "colorbar": {
             "outlinewidth": 0,
             "ticks": ""
            },
            "type": "mesh3d"
           }
          ],
          "parcoords": [
           {
            "line": {
             "colorbar": {
              "outlinewidth": 0,
              "ticks": ""
             }
            },
            "type": "parcoords"
           }
          ],
          "pie": [
           {
            "automargin": true,
            "type": "pie"
           }
          ],
          "scatter": [
           {
            "marker": {
             "colorbar": {
              "outlinewidth": 0,
              "ticks": ""
             }
            },
            "type": "scatter"
           }
          ],
          "scatter3d": [
           {
            "line": {
             "colorbar": {
              "outlinewidth": 0,
              "ticks": ""
             }
            },
            "marker": {
             "colorbar": {
              "outlinewidth": 0,
              "ticks": ""
             }
            },
            "type": "scatter3d"
           }
          ],
          "scattercarpet": [
           {
            "marker": {
             "colorbar": {
              "outlinewidth": 0,
              "ticks": ""
             }
            },
            "type": "scattercarpet"
           }
          ],
          "scattergeo": [
           {
            "marker": {
             "colorbar": {
              "outlinewidth": 0,
              "ticks": ""
             }
            },
            "type": "scattergeo"
           }
          ],
          "scattergl": [
           {
            "marker": {
             "colorbar": {
              "outlinewidth": 0,
              "ticks": ""
             }
            },
            "type": "scattergl"
           }
          ],
          "scattermapbox": [
           {
            "marker": {
             "colorbar": {
              "outlinewidth": 0,
              "ticks": ""
             }
            },
            "type": "scattermapbox"
           }
          ],
          "scatterpolar": [
           {
            "marker": {
             "colorbar": {
              "outlinewidth": 0,
              "ticks": ""
             }
            },
            "type": "scatterpolar"
           }
          ],
          "scatterpolargl": [
           {
            "marker": {
             "colorbar": {
              "outlinewidth": 0,
              "ticks": ""
             }
            },
            "type": "scatterpolargl"
           }
          ],
          "scatterternary": [
           {
            "marker": {
             "colorbar": {
              "outlinewidth": 0,
              "ticks": ""
             }
            },
            "type": "scatterternary"
           }
          ],
          "surface": [
           {
            "colorbar": {
             "outlinewidth": 0,
             "ticks": ""
            },
            "colorscale": [
             [
              0,
              "#0d0887"
             ],
             [
              0.1111111111111111,
              "#46039f"
             ],
             [
              0.2222222222222222,
              "#7201a8"
             ],
             [
              0.3333333333333333,
              "#9c179e"
             ],
             [
              0.4444444444444444,
              "#bd3786"
             ],
             [
              0.5555555555555556,
              "#d8576b"
             ],
             [
              0.6666666666666666,
              "#ed7953"
             ],
             [
              0.7777777777777778,
              "#fb9f3a"
             ],
             [
              0.8888888888888888,
              "#fdca26"
             ],
             [
              1,
              "#f0f921"
             ]
            ],
            "type": "surface"
           }
          ],
          "table": [
           {
            "cells": {
             "fill": {
              "color": "#EBF0F8"
             },
             "line": {
              "color": "white"
             }
            },
            "header": {
             "fill": {
              "color": "#C8D4E3"
             },
             "line": {
              "color": "white"
             }
            },
            "type": "table"
           }
          ]
         },
         "layout": {
          "annotationdefaults": {
           "arrowcolor": "#2a3f5f",
           "arrowhead": 0,
           "arrowwidth": 1
          },
          "autotypenumbers": "strict",
          "coloraxis": {
           "colorbar": {
            "outlinewidth": 0,
            "ticks": ""
           }
          },
          "colorscale": {
           "diverging": [
            [
             0,
             "#8e0152"
            ],
            [
             0.1,
             "#c51b7d"
            ],
            [
             0.2,
             "#de77ae"
            ],
            [
             0.3,
             "#f1b6da"
            ],
            [
             0.4,
             "#fde0ef"
            ],
            [
             0.5,
             "#f7f7f7"
            ],
            [
             0.6,
             "#e6f5d0"
            ],
            [
             0.7,
             "#b8e186"
            ],
            [
             0.8,
             "#7fbc41"
            ],
            [
             0.9,
             "#4d9221"
            ],
            [
             1,
             "#276419"
            ]
           ],
           "sequential": [
            [
             0,
             "#0d0887"
            ],
            [
             0.1111111111111111,
             "#46039f"
            ],
            [
             0.2222222222222222,
             "#7201a8"
            ],
            [
             0.3333333333333333,
             "#9c179e"
            ],
            [
             0.4444444444444444,
             "#bd3786"
            ],
            [
             0.5555555555555556,
             "#d8576b"
            ],
            [
             0.6666666666666666,
             "#ed7953"
            ],
            [
             0.7777777777777778,
             "#fb9f3a"
            ],
            [
             0.8888888888888888,
             "#fdca26"
            ],
            [
             1,
             "#f0f921"
            ]
           ],
           "sequentialminus": [
            [
             0,
             "#0d0887"
            ],
            [
             0.1111111111111111,
             "#46039f"
            ],
            [
             0.2222222222222222,
             "#7201a8"
            ],
            [
             0.3333333333333333,
             "#9c179e"
            ],
            [
             0.4444444444444444,
             "#bd3786"
            ],
            [
             0.5555555555555556,
             "#d8576b"
            ],
            [
             0.6666666666666666,
             "#ed7953"
            ],
            [
             0.7777777777777778,
             "#fb9f3a"
            ],
            [
             0.8888888888888888,
             "#fdca26"
            ],
            [
             1,
             "#f0f921"
            ]
           ]
          },
          "colorway": [
           "#636efa",
           "#EF553B",
           "#00cc96",
           "#ab63fa",
           "#FFA15A",
           "#19d3f3",
           "#FF6692",
           "#B6E880",
           "#FF97FF",
           "#FECB52"
          ],
          "font": {
           "color": "#2a3f5f"
          },
          "geo": {
           "bgcolor": "white",
           "lakecolor": "white",
           "landcolor": "#E5ECF6",
           "showlakes": true,
           "showland": true,
           "subunitcolor": "white"
          },
          "hoverlabel": {
           "align": "left"
          },
          "hovermode": "closest",
          "mapbox": {
           "style": "light"
          },
          "paper_bgcolor": "white",
          "plot_bgcolor": "#E5ECF6",
          "polar": {
           "angularaxis": {
            "gridcolor": "white",
            "linecolor": "white",
            "ticks": ""
           },
           "bgcolor": "#E5ECF6",
           "radialaxis": {
            "gridcolor": "white",
            "linecolor": "white",
            "ticks": ""
           }
          },
          "scene": {
           "xaxis": {
            "backgroundcolor": "#E5ECF6",
            "gridcolor": "white",
            "gridwidth": 2,
            "linecolor": "white",
            "showbackground": true,
            "ticks": "",
            "zerolinecolor": "white"
           },
           "yaxis": {
            "backgroundcolor": "#E5ECF6",
            "gridcolor": "white",
            "gridwidth": 2,
            "linecolor": "white",
            "showbackground": true,
            "ticks": "",
            "zerolinecolor": "white"
           },
           "zaxis": {
            "backgroundcolor": "#E5ECF6",
            "gridcolor": "white",
            "gridwidth": 2,
            "linecolor": "white",
            "showbackground": true,
            "ticks": "",
            "zerolinecolor": "white"
           }
          },
          "shapedefaults": {
           "line": {
            "color": "#2a3f5f"
           }
          },
          "ternary": {
           "aaxis": {
            "gridcolor": "white",
            "linecolor": "white",
            "ticks": ""
           },
           "baxis": {
            "gridcolor": "white",
            "linecolor": "white",
            "ticks": ""
           },
           "bgcolor": "#E5ECF6",
           "caxis": {
            "gridcolor": "white",
            "linecolor": "white",
            "ticks": ""
           }
          },
          "title": {
           "x": 0.05
          },
          "xaxis": {
           "automargin": true,
           "gridcolor": "white",
           "linecolor": "white",
           "ticks": "",
           "title": {
            "standoff": 15
           },
           "zerolinecolor": "white",
           "zerolinewidth": 2
          },
          "yaxis": {
           "automargin": true,
           "gridcolor": "white",
           "linecolor": "white",
           "ticks": "",
           "title": {
            "standoff": 15
           },
           "zerolinecolor": "white",
           "zerolinewidth": 2
          }
         }
        },
        "title": {
         "font": {
          "color": "#4D5663"
         }
        },
        "xaxis": {
         "gridcolor": "#E1E5ED",
         "showgrid": true,
         "tickfont": {
          "color": "#4D5663"
         },
         "title": {
          "font": {
           "color": "#4D5663"
          },
          "text": ""
         },
         "zerolinecolor": "#E1E5ED"
        },
        "yaxis": {
         "gridcolor": "#E1E5ED",
         "showgrid": true,
         "tickfont": {
          "color": "#4D5663"
         },
         "title": {
          "font": {
           "color": "#4D5663"
          },
          "text": ""
         },
         "zerolinecolor": "#E1E5ED"
        }
       }
      },
      "text/html": [
       "<div>                            <div id=\"b99ef520-7f95-4ef9-b1fc-b213e724ff9a\" class=\"plotly-graph-div\" style=\"height:525px; width:100%;\"></div>            <script type=\"text/javascript\">                require([\"plotly\"], function(Plotly) {                    window.PLOTLYENV=window.PLOTLYENV || {};\n",
       "                    window.PLOTLYENV.BASE_URL='https://plot.ly';                                    if (document.getElementById(\"b99ef520-7f95-4ef9-b1fc-b213e724ff9a\")) {                    Plotly.newPlot(                        \"b99ef520-7f95-4ef9-b1fc-b213e724ff9a\",                        [{\"colorscale\": [[0.0, \"rgb(165,0,38)\"], [0.1, \"rgb(215,48,39)\"], [0.2, \"rgb(244,109,67)\"], [0.3, \"rgb(253,174,97)\"], [0.4, \"rgb(254,224,144)\"], [0.5, \"rgb(255,255,191)\"], [0.6, \"rgb(224,243,248)\"], [0.7, \"rgb(171,217,233)\"], [0.8, \"rgb(116,173,209)\"], [0.9, \"rgb(69,117,180)\"], [1.0, \"rgb(49,54,149)\"]], \"type\": \"surface\", \"x\": [0, 1, 2, 3, 4], \"y\": [\"x\", \"y\", \"z\"], \"z\": [[1, 2, 3, 4, 5], [10, 20, 30, 20, 10], [500, 400, 300, 200, 100]]}],                        {\"legend\": {\"bgcolor\": \"#F5F6F9\", \"font\": {\"color\": \"#4D5663\"}}, \"paper_bgcolor\": \"#F5F6F9\", \"plot_bgcolor\": \"#F5F6F9\", \"template\": {\"data\": {\"bar\": [{\"error_x\": {\"color\": \"#2a3f5f\"}, \"error_y\": {\"color\": \"#2a3f5f\"}, \"marker\": {\"line\": {\"color\": \"#E5ECF6\", \"width\": 0.5}}, \"type\": \"bar\"}], \"barpolar\": [{\"marker\": {\"line\": {\"color\": \"#E5ECF6\", \"width\": 0.5}}, \"type\": \"barpolar\"}], \"carpet\": [{\"aaxis\": {\"endlinecolor\": \"#2a3f5f\", \"gridcolor\": \"white\", \"linecolor\": \"white\", \"minorgridcolor\": \"white\", \"startlinecolor\": \"#2a3f5f\"}, \"baxis\": {\"endlinecolor\": \"#2a3f5f\", \"gridcolor\": \"white\", \"linecolor\": \"white\", \"minorgridcolor\": \"white\", \"startlinecolor\": \"#2a3f5f\"}, \"type\": \"carpet\"}], \"choropleth\": [{\"colorbar\": {\"outlinewidth\": 0, \"ticks\": \"\"}, \"type\": \"choropleth\"}], \"contour\": [{\"colorbar\": {\"outlinewidth\": 0, \"ticks\": \"\"}, \"colorscale\": [[0.0, \"#0d0887\"], [0.1111111111111111, \"#46039f\"], [0.2222222222222222, \"#7201a8\"], [0.3333333333333333, \"#9c179e\"], [0.4444444444444444, \"#bd3786\"], [0.5555555555555556, \"#d8576b\"], [0.6666666666666666, \"#ed7953\"], [0.7777777777777778, \"#fb9f3a\"], [0.8888888888888888, \"#fdca26\"], [1.0, \"#f0f921\"]], \"type\": \"contour\"}], \"contourcarpet\": [{\"colorbar\": {\"outlinewidth\": 0, \"ticks\": \"\"}, \"type\": \"contourcarpet\"}], \"heatmap\": [{\"colorbar\": {\"outlinewidth\": 0, \"ticks\": \"\"}, \"colorscale\": [[0.0, \"#0d0887\"], [0.1111111111111111, \"#46039f\"], [0.2222222222222222, \"#7201a8\"], [0.3333333333333333, \"#9c179e\"], [0.4444444444444444, \"#bd3786\"], [0.5555555555555556, \"#d8576b\"], [0.6666666666666666, \"#ed7953\"], [0.7777777777777778, \"#fb9f3a\"], [0.8888888888888888, \"#fdca26\"], [1.0, \"#f0f921\"]], \"type\": \"heatmap\"}], \"heatmapgl\": [{\"colorbar\": {\"outlinewidth\": 0, \"ticks\": \"\"}, \"colorscale\": [[0.0, \"#0d0887\"], [0.1111111111111111, \"#46039f\"], [0.2222222222222222, \"#7201a8\"], [0.3333333333333333, \"#9c179e\"], [0.4444444444444444, \"#bd3786\"], [0.5555555555555556, \"#d8576b\"], [0.6666666666666666, \"#ed7953\"], [0.7777777777777778, \"#fb9f3a\"], [0.8888888888888888, \"#fdca26\"], [1.0, \"#f0f921\"]], \"type\": \"heatmapgl\"}], \"histogram\": [{\"marker\": {\"colorbar\": {\"outlinewidth\": 0, \"ticks\": \"\"}}, \"type\": \"histogram\"}], \"histogram2d\": [{\"colorbar\": {\"outlinewidth\": 0, \"ticks\": \"\"}, \"colorscale\": [[0.0, \"#0d0887\"], [0.1111111111111111, \"#46039f\"], [0.2222222222222222, \"#7201a8\"], [0.3333333333333333, \"#9c179e\"], [0.4444444444444444, \"#bd3786\"], [0.5555555555555556, \"#d8576b\"], [0.6666666666666666, \"#ed7953\"], [0.7777777777777778, \"#fb9f3a\"], [0.8888888888888888, \"#fdca26\"], [1.0, \"#f0f921\"]], \"type\": \"histogram2d\"}], \"histogram2dcontour\": [{\"colorbar\": {\"outlinewidth\": 0, \"ticks\": \"\"}, \"colorscale\": [[0.0, \"#0d0887\"], [0.1111111111111111, \"#46039f\"], [0.2222222222222222, \"#7201a8\"], [0.3333333333333333, \"#9c179e\"], [0.4444444444444444, \"#bd3786\"], [0.5555555555555556, \"#d8576b\"], [0.6666666666666666, \"#ed7953\"], [0.7777777777777778, \"#fb9f3a\"], [0.8888888888888888, \"#fdca26\"], [1.0, \"#f0f921\"]], \"type\": \"histogram2dcontour\"}], \"mesh3d\": [{\"colorbar\": {\"outlinewidth\": 0, \"ticks\": \"\"}, \"type\": \"mesh3d\"}], \"parcoords\": [{\"line\": {\"colorbar\": {\"outlinewidth\": 0, \"ticks\": \"\"}}, \"type\": \"parcoords\"}], \"pie\": [{\"automargin\": true, \"type\": \"pie\"}], \"scatter\": [{\"marker\": {\"colorbar\": {\"outlinewidth\": 0, \"ticks\": \"\"}}, \"type\": \"scatter\"}], \"scatter3d\": [{\"line\": {\"colorbar\": {\"outlinewidth\": 0, \"ticks\": \"\"}}, \"marker\": {\"colorbar\": {\"outlinewidth\": 0, \"ticks\": \"\"}}, \"type\": \"scatter3d\"}], \"scattercarpet\": [{\"marker\": {\"colorbar\": {\"outlinewidth\": 0, \"ticks\": \"\"}}, \"type\": \"scattercarpet\"}], \"scattergeo\": [{\"marker\": {\"colorbar\": {\"outlinewidth\": 0, \"ticks\": \"\"}}, \"type\": \"scattergeo\"}], \"scattergl\": [{\"marker\": {\"colorbar\": {\"outlinewidth\": 0, \"ticks\": \"\"}}, \"type\": \"scattergl\"}], \"scattermapbox\": [{\"marker\": {\"colorbar\": {\"outlinewidth\": 0, \"ticks\": \"\"}}, \"type\": \"scattermapbox\"}], \"scatterpolar\": [{\"marker\": {\"colorbar\": {\"outlinewidth\": 0, \"ticks\": \"\"}}, \"type\": \"scatterpolar\"}], \"scatterpolargl\": [{\"marker\": {\"colorbar\": {\"outlinewidth\": 0, \"ticks\": \"\"}}, \"type\": \"scatterpolargl\"}], \"scatterternary\": [{\"marker\": {\"colorbar\": {\"outlinewidth\": 0, \"ticks\": \"\"}}, \"type\": \"scatterternary\"}], \"surface\": [{\"colorbar\": {\"outlinewidth\": 0, \"ticks\": \"\"}, \"colorscale\": [[0.0, \"#0d0887\"], [0.1111111111111111, \"#46039f\"], [0.2222222222222222, \"#7201a8\"], [0.3333333333333333, \"#9c179e\"], [0.4444444444444444, \"#bd3786\"], [0.5555555555555556, \"#d8576b\"], [0.6666666666666666, \"#ed7953\"], [0.7777777777777778, \"#fb9f3a\"], [0.8888888888888888, \"#fdca26\"], [1.0, \"#f0f921\"]], \"type\": \"surface\"}], \"table\": [{\"cells\": {\"fill\": {\"color\": \"#EBF0F8\"}, \"line\": {\"color\": \"white\"}}, \"header\": {\"fill\": {\"color\": \"#C8D4E3\"}, \"line\": {\"color\": \"white\"}}, \"type\": \"table\"}]}, \"layout\": {\"annotationdefaults\": {\"arrowcolor\": \"#2a3f5f\", \"arrowhead\": 0, \"arrowwidth\": 1}, \"autotypenumbers\": \"strict\", \"coloraxis\": {\"colorbar\": {\"outlinewidth\": 0, \"ticks\": \"\"}}, \"colorscale\": {\"diverging\": [[0, \"#8e0152\"], [0.1, \"#c51b7d\"], [0.2, \"#de77ae\"], [0.3, \"#f1b6da\"], [0.4, \"#fde0ef\"], [0.5, \"#f7f7f7\"], [0.6, \"#e6f5d0\"], [0.7, \"#b8e186\"], [0.8, \"#7fbc41\"], [0.9, \"#4d9221\"], [1, \"#276419\"]], \"sequential\": [[0.0, \"#0d0887\"], [0.1111111111111111, \"#46039f\"], [0.2222222222222222, \"#7201a8\"], [0.3333333333333333, \"#9c179e\"], [0.4444444444444444, \"#bd3786\"], [0.5555555555555556, \"#d8576b\"], [0.6666666666666666, \"#ed7953\"], [0.7777777777777778, \"#fb9f3a\"], [0.8888888888888888, \"#fdca26\"], [1.0, \"#f0f921\"]], \"sequentialminus\": [[0.0, \"#0d0887\"], [0.1111111111111111, \"#46039f\"], [0.2222222222222222, \"#7201a8\"], [0.3333333333333333, \"#9c179e\"], [0.4444444444444444, \"#bd3786\"], [0.5555555555555556, \"#d8576b\"], [0.6666666666666666, \"#ed7953\"], [0.7777777777777778, \"#fb9f3a\"], [0.8888888888888888, \"#fdca26\"], [1.0, \"#f0f921\"]]}, \"colorway\": [\"#636efa\", \"#EF553B\", \"#00cc96\", \"#ab63fa\", \"#FFA15A\", \"#19d3f3\", \"#FF6692\", \"#B6E880\", \"#FF97FF\", \"#FECB52\"], \"font\": {\"color\": \"#2a3f5f\"}, \"geo\": {\"bgcolor\": \"white\", \"lakecolor\": \"white\", \"landcolor\": \"#E5ECF6\", \"showlakes\": true, \"showland\": true, \"subunitcolor\": \"white\"}, \"hoverlabel\": {\"align\": \"left\"}, \"hovermode\": \"closest\", \"mapbox\": {\"style\": \"light\"}, \"paper_bgcolor\": \"white\", \"plot_bgcolor\": \"#E5ECF6\", \"polar\": {\"angularaxis\": {\"gridcolor\": \"white\", \"linecolor\": \"white\", \"ticks\": \"\"}, \"bgcolor\": \"#E5ECF6\", \"radialaxis\": {\"gridcolor\": \"white\", \"linecolor\": \"white\", \"ticks\": \"\"}}, \"scene\": {\"xaxis\": {\"backgroundcolor\": \"#E5ECF6\", \"gridcolor\": \"white\", \"gridwidth\": 2, \"linecolor\": \"white\", \"showbackground\": true, \"ticks\": \"\", \"zerolinecolor\": \"white\"}, \"yaxis\": {\"backgroundcolor\": \"#E5ECF6\", \"gridcolor\": \"white\", \"gridwidth\": 2, \"linecolor\": \"white\", \"showbackground\": true, \"ticks\": \"\", \"zerolinecolor\": \"white\"}, \"zaxis\": {\"backgroundcolor\": \"#E5ECF6\", \"gridcolor\": \"white\", \"gridwidth\": 2, \"linecolor\": \"white\", \"showbackground\": true, \"ticks\": \"\", \"zerolinecolor\": \"white\"}}, \"shapedefaults\": {\"line\": {\"color\": \"#2a3f5f\"}}, \"ternary\": {\"aaxis\": {\"gridcolor\": \"white\", \"linecolor\": \"white\", \"ticks\": \"\"}, \"baxis\": {\"gridcolor\": \"white\", \"linecolor\": \"white\", \"ticks\": \"\"}, \"bgcolor\": \"#E5ECF6\", \"caxis\": {\"gridcolor\": \"white\", \"linecolor\": \"white\", \"ticks\": \"\"}}, \"title\": {\"x\": 0.05}, \"xaxis\": {\"automargin\": true, \"gridcolor\": \"white\", \"linecolor\": \"white\", \"ticks\": \"\", \"title\": {\"standoff\": 15}, \"zerolinecolor\": \"white\", \"zerolinewidth\": 2}, \"yaxis\": {\"automargin\": true, \"gridcolor\": \"white\", \"linecolor\": \"white\", \"ticks\": \"\", \"title\": {\"standoff\": 15}, \"zerolinecolor\": \"white\", \"zerolinewidth\": 2}}}, \"title\": {\"font\": {\"color\": \"#4D5663\"}}, \"xaxis\": {\"gridcolor\": \"#E1E5ED\", \"showgrid\": true, \"tickfont\": {\"color\": \"#4D5663\"}, \"title\": {\"font\": {\"color\": \"#4D5663\"}, \"text\": \"\"}, \"zerolinecolor\": \"#E1E5ED\"}, \"yaxis\": {\"gridcolor\": \"#E1E5ED\", \"showgrid\": true, \"tickfont\": {\"color\": \"#4D5663\"}, \"title\": {\"font\": {\"color\": \"#4D5663\"}, \"text\": \"\"}, \"zerolinecolor\": \"#E1E5ED\"}},                        {\"showLink\": true, \"linkText\": \"Export to plot.ly\", \"plotlyServerURL\": \"https://plot.ly\", \"responsive\": true}                    ).then(function(){\n",
       "                            \n",
       "var gd = document.getElementById('b99ef520-7f95-4ef9-b1fc-b213e724ff9a');\n",
       "var x = new MutationObserver(function (mutations, observer) {{\n",
       "        var display = window.getComputedStyle(gd).display;\n",
       "        if (!display || display === 'none') {{\n",
       "            console.log([gd, 'removed!']);\n",
       "            Plotly.purge(gd);\n",
       "            observer.disconnect();\n",
       "        }}\n",
       "}});\n",
       "\n",
       "// Listen for the removal of the full notebook cells\n",
       "var notebookContainer = gd.closest('#notebook-container');\n",
       "if (notebookContainer) {{\n",
       "    x.observe(notebookContainer, {childList: true});\n",
       "}}\n",
       "\n",
       "// Listen for the clearing of the current output cell\n",
       "var outputEl = gd.closest('.output');\n",
       "if (outputEl) {{\n",
       "    x.observe(outputEl, {childList: true});\n",
       "}}\n",
       "\n",
       "                        })                };                });            </script>        </div>"
      ]
     },
     "metadata": {},
     "output_type": "display_data"
    }
   ],
   "source": [
    "#podemos mudar as cores, e infelizmente não é igual aos cmaps do Matplotlib\n",
    "df3.iplot(kind='surface', colorscale='rdylbu')"
   ]
  },
  {
   "cell_type": "markdown",
   "metadata": {},
   "source": [
    "Podemos fazer plotagens simples, mas que também são bem comuns:"
   ]
  },
  {
   "cell_type": "code",
   "execution_count": 23,
   "metadata": {},
   "outputs": [
    {
     "data": {
      "application/vnd.plotly.v1+json": {
       "config": {
        "linkText": "Export to plot.ly",
        "plotlyServerURL": "https://plot.ly",
        "showLink": true
       },
       "data": [
        {
         "histfunc": "count",
         "histnorm": "",
         "marker": {
          "color": "rgba(255, 153, 51, 1.0)",
          "line": {
           "color": "#4D5663",
           "width": 1.3
          }
         },
         "name": "A",
         "nbinsx": 30,
         "opacity": 0.8,
         "orientation": "v",
         "type": "histogram",
         "x": [
          -0.07626798862524346,
          0.22540134756441488,
          -0.8057647977006603,
          0.3775230577282411,
          -0.1680604099266579,
          0.8713582072512306,
          -0.08016296132520627,
          2.0793375312602986,
          0.6174946047522917,
          1.3470244023614335,
          -0.45534748125031793,
          1.1567776506639353,
          -0.8740526020125177,
          -0.037407388938710644,
          0.5532512221426178,
          -1.051190550010996,
          -0.35056999351700524,
          1.071823066376621,
          0.9093892370915182,
          -1.0488537815283008,
          -0.4599270555168315,
          1.8602051198265883,
          -0.8249352680142302,
          -1.5106002057662986,
          0.0996067858587673,
          -0.9955831080121025,
          -1.1743481536862996,
          0.798495220365897,
          2.135298305419711,
          -0.918373544679037,
          -1.3292049671635469,
          -1.482014934583836,
          0.4658513332948664,
          1.7175357781491922,
          -0.1606077083412937,
          0.5805593871078475,
          -0.2538847588879203,
          1.0542215320006398,
          -0.4301439180270131,
          -1.2014952657868243,
          0.4460530424636575,
          -0.38016505214183166,
          1.187504657276655,
          1.0092529666759915,
          0.5276280783314551,
          -2.3146759442720812,
          -0.9726633353919516,
          -1.4651901913239982,
          -0.8517523630692322,
          -2.317281604613853,
          -0.14261933190625772,
          -2.077146476047186,
          -0.3251807441512565,
          0.1319632239823357,
          0.7486045945026552,
          0.33685670014918506,
          -0.037845194242645784,
          -1.3667973040236276,
          0.7727164075726849,
          -1.2011494900729764,
          0.2691153645066599,
          -0.7673187313510428,
          0.7313925705637623,
          0.27488086113873705,
          -0.21474757848854253,
          0.9183127839848029,
          0.20274982610001047,
          -1.2321068101491492,
          2.2023622350450003,
          0.22588488340486504,
          -0.21025110889818346,
          -0.06932808427719565,
          -0.330211178580367,
          -1.1630223928019472,
          0.3991187829537466,
          0.26561049183638635,
          0.2489546357507444,
          -1.0363391210443667,
          0.28072456627802256,
          -1.4258804403303178,
          0.34187592095465646,
          -1.1053725354624688,
          -0.7016568221765985,
          0.3193171141371305,
          -1.6882672411213937,
          -0.6384005418166574,
          1.1931023903017663,
          -1.079295557921701,
          0.953153121390354,
          0.4535569514855566,
          -0.6142109560790182,
          1.7927716591736043,
          -2.0886630176573466,
          -0.647956166935598,
          -0.5679356570104203,
          0.6153764784573306,
          1.211953758491585,
          -1.516211074458471,
          -0.6678919354224481,
          0.7549092172063453
         ]
        }
       ],
       "layout": {
        "barmode": "overlay",
        "legend": {
         "bgcolor": "#F5F6F9",
         "font": {
          "color": "#4D5663"
         }
        },
        "paper_bgcolor": "#F5F6F9",
        "plot_bgcolor": "#F5F6F9",
        "template": {
         "data": {
          "bar": [
           {
            "error_x": {
             "color": "#2a3f5f"
            },
            "error_y": {
             "color": "#2a3f5f"
            },
            "marker": {
             "line": {
              "color": "#E5ECF6",
              "width": 0.5
             }
            },
            "type": "bar"
           }
          ],
          "barpolar": [
           {
            "marker": {
             "line": {
              "color": "#E5ECF6",
              "width": 0.5
             }
            },
            "type": "barpolar"
           }
          ],
          "carpet": [
           {
            "aaxis": {
             "endlinecolor": "#2a3f5f",
             "gridcolor": "white",
             "linecolor": "white",
             "minorgridcolor": "white",
             "startlinecolor": "#2a3f5f"
            },
            "baxis": {
             "endlinecolor": "#2a3f5f",
             "gridcolor": "white",
             "linecolor": "white",
             "minorgridcolor": "white",
             "startlinecolor": "#2a3f5f"
            },
            "type": "carpet"
           }
          ],
          "choropleth": [
           {
            "colorbar": {
             "outlinewidth": 0,
             "ticks": ""
            },
            "type": "choropleth"
           }
          ],
          "contour": [
           {
            "colorbar": {
             "outlinewidth": 0,
             "ticks": ""
            },
            "colorscale": [
             [
              0,
              "#0d0887"
             ],
             [
              0.1111111111111111,
              "#46039f"
             ],
             [
              0.2222222222222222,
              "#7201a8"
             ],
             [
              0.3333333333333333,
              "#9c179e"
             ],
             [
              0.4444444444444444,
              "#bd3786"
             ],
             [
              0.5555555555555556,
              "#d8576b"
             ],
             [
              0.6666666666666666,
              "#ed7953"
             ],
             [
              0.7777777777777778,
              "#fb9f3a"
             ],
             [
              0.8888888888888888,
              "#fdca26"
             ],
             [
              1,
              "#f0f921"
             ]
            ],
            "type": "contour"
           }
          ],
          "contourcarpet": [
           {
            "colorbar": {
             "outlinewidth": 0,
             "ticks": ""
            },
            "type": "contourcarpet"
           }
          ],
          "heatmap": [
           {
            "colorbar": {
             "outlinewidth": 0,
             "ticks": ""
            },
            "colorscale": [
             [
              0,
              "#0d0887"
             ],
             [
              0.1111111111111111,
              "#46039f"
             ],
             [
              0.2222222222222222,
              "#7201a8"
             ],
             [
              0.3333333333333333,
              "#9c179e"
             ],
             [
              0.4444444444444444,
              "#bd3786"
             ],
             [
              0.5555555555555556,
              "#d8576b"
             ],
             [
              0.6666666666666666,
              "#ed7953"
             ],
             [
              0.7777777777777778,
              "#fb9f3a"
             ],
             [
              0.8888888888888888,
              "#fdca26"
             ],
             [
              1,
              "#f0f921"
             ]
            ],
            "type": "heatmap"
           }
          ],
          "heatmapgl": [
           {
            "colorbar": {
             "outlinewidth": 0,
             "ticks": ""
            },
            "colorscale": [
             [
              0,
              "#0d0887"
             ],
             [
              0.1111111111111111,
              "#46039f"
             ],
             [
              0.2222222222222222,
              "#7201a8"
             ],
             [
              0.3333333333333333,
              "#9c179e"
             ],
             [
              0.4444444444444444,
              "#bd3786"
             ],
             [
              0.5555555555555556,
              "#d8576b"
             ],
             [
              0.6666666666666666,
              "#ed7953"
             ],
             [
              0.7777777777777778,
              "#fb9f3a"
             ],
             [
              0.8888888888888888,
              "#fdca26"
             ],
             [
              1,
              "#f0f921"
             ]
            ],
            "type": "heatmapgl"
           }
          ],
          "histogram": [
           {
            "marker": {
             "colorbar": {
              "outlinewidth": 0,
              "ticks": ""
             }
            },
            "type": "histogram"
           }
          ],
          "histogram2d": [
           {
            "colorbar": {
             "outlinewidth": 0,
             "ticks": ""
            },
            "colorscale": [
             [
              0,
              "#0d0887"
             ],
             [
              0.1111111111111111,
              "#46039f"
             ],
             [
              0.2222222222222222,
              "#7201a8"
             ],
             [
              0.3333333333333333,
              "#9c179e"
             ],
             [
              0.4444444444444444,
              "#bd3786"
             ],
             [
              0.5555555555555556,
              "#d8576b"
             ],
             [
              0.6666666666666666,
              "#ed7953"
             ],
             [
              0.7777777777777778,
              "#fb9f3a"
             ],
             [
              0.8888888888888888,
              "#fdca26"
             ],
             [
              1,
              "#f0f921"
             ]
            ],
            "type": "histogram2d"
           }
          ],
          "histogram2dcontour": [
           {
            "colorbar": {
             "outlinewidth": 0,
             "ticks": ""
            },
            "colorscale": [
             [
              0,
              "#0d0887"
             ],
             [
              0.1111111111111111,
              "#46039f"
             ],
             [
              0.2222222222222222,
              "#7201a8"
             ],
             [
              0.3333333333333333,
              "#9c179e"
             ],
             [
              0.4444444444444444,
              "#bd3786"
             ],
             [
              0.5555555555555556,
              "#d8576b"
             ],
             [
              0.6666666666666666,
              "#ed7953"
             ],
             [
              0.7777777777777778,
              "#fb9f3a"
             ],
             [
              0.8888888888888888,
              "#fdca26"
             ],
             [
              1,
              "#f0f921"
             ]
            ],
            "type": "histogram2dcontour"
           }
          ],
          "mesh3d": [
           {
            "colorbar": {
             "outlinewidth": 0,
             "ticks": ""
            },
            "type": "mesh3d"
           }
          ],
          "parcoords": [
           {
            "line": {
             "colorbar": {
              "outlinewidth": 0,
              "ticks": ""
             }
            },
            "type": "parcoords"
           }
          ],
          "pie": [
           {
            "automargin": true,
            "type": "pie"
           }
          ],
          "scatter": [
           {
            "marker": {
             "colorbar": {
              "outlinewidth": 0,
              "ticks": ""
             }
            },
            "type": "scatter"
           }
          ],
          "scatter3d": [
           {
            "line": {
             "colorbar": {
              "outlinewidth": 0,
              "ticks": ""
             }
            },
            "marker": {
             "colorbar": {
              "outlinewidth": 0,
              "ticks": ""
             }
            },
            "type": "scatter3d"
           }
          ],
          "scattercarpet": [
           {
            "marker": {
             "colorbar": {
              "outlinewidth": 0,
              "ticks": ""
             }
            },
            "type": "scattercarpet"
           }
          ],
          "scattergeo": [
           {
            "marker": {
             "colorbar": {
              "outlinewidth": 0,
              "ticks": ""
             }
            },
            "type": "scattergeo"
           }
          ],
          "scattergl": [
           {
            "marker": {
             "colorbar": {
              "outlinewidth": 0,
              "ticks": ""
             }
            },
            "type": "scattergl"
           }
          ],
          "scattermapbox": [
           {
            "marker": {
             "colorbar": {
              "outlinewidth": 0,
              "ticks": ""
             }
            },
            "type": "scattermapbox"
           }
          ],
          "scatterpolar": [
           {
            "marker": {
             "colorbar": {
              "outlinewidth": 0,
              "ticks": ""
             }
            },
            "type": "scatterpolar"
           }
          ],
          "scatterpolargl": [
           {
            "marker": {
             "colorbar": {
              "outlinewidth": 0,
              "ticks": ""
             }
            },
            "type": "scatterpolargl"
           }
          ],
          "scatterternary": [
           {
            "marker": {
             "colorbar": {
              "outlinewidth": 0,
              "ticks": ""
             }
            },
            "type": "scatterternary"
           }
          ],
          "surface": [
           {
            "colorbar": {
             "outlinewidth": 0,
             "ticks": ""
            },
            "colorscale": [
             [
              0,
              "#0d0887"
             ],
             [
              0.1111111111111111,
              "#46039f"
             ],
             [
              0.2222222222222222,
              "#7201a8"
             ],
             [
              0.3333333333333333,
              "#9c179e"
             ],
             [
              0.4444444444444444,
              "#bd3786"
             ],
             [
              0.5555555555555556,
              "#d8576b"
             ],
             [
              0.6666666666666666,
              "#ed7953"
             ],
             [
              0.7777777777777778,
              "#fb9f3a"
             ],
             [
              0.8888888888888888,
              "#fdca26"
             ],
             [
              1,
              "#f0f921"
             ]
            ],
            "type": "surface"
           }
          ],
          "table": [
           {
            "cells": {
             "fill": {
              "color": "#EBF0F8"
             },
             "line": {
              "color": "white"
             }
            },
            "header": {
             "fill": {
              "color": "#C8D4E3"
             },
             "line": {
              "color": "white"
             }
            },
            "type": "table"
           }
          ]
         },
         "layout": {
          "annotationdefaults": {
           "arrowcolor": "#2a3f5f",
           "arrowhead": 0,
           "arrowwidth": 1
          },
          "autotypenumbers": "strict",
          "coloraxis": {
           "colorbar": {
            "outlinewidth": 0,
            "ticks": ""
           }
          },
          "colorscale": {
           "diverging": [
            [
             0,
             "#8e0152"
            ],
            [
             0.1,
             "#c51b7d"
            ],
            [
             0.2,
             "#de77ae"
            ],
            [
             0.3,
             "#f1b6da"
            ],
            [
             0.4,
             "#fde0ef"
            ],
            [
             0.5,
             "#f7f7f7"
            ],
            [
             0.6,
             "#e6f5d0"
            ],
            [
             0.7,
             "#b8e186"
            ],
            [
             0.8,
             "#7fbc41"
            ],
            [
             0.9,
             "#4d9221"
            ],
            [
             1,
             "#276419"
            ]
           ],
           "sequential": [
            [
             0,
             "#0d0887"
            ],
            [
             0.1111111111111111,
             "#46039f"
            ],
            [
             0.2222222222222222,
             "#7201a8"
            ],
            [
             0.3333333333333333,
             "#9c179e"
            ],
            [
             0.4444444444444444,
             "#bd3786"
            ],
            [
             0.5555555555555556,
             "#d8576b"
            ],
            [
             0.6666666666666666,
             "#ed7953"
            ],
            [
             0.7777777777777778,
             "#fb9f3a"
            ],
            [
             0.8888888888888888,
             "#fdca26"
            ],
            [
             1,
             "#f0f921"
            ]
           ],
           "sequentialminus": [
            [
             0,
             "#0d0887"
            ],
            [
             0.1111111111111111,
             "#46039f"
            ],
            [
             0.2222222222222222,
             "#7201a8"
            ],
            [
             0.3333333333333333,
             "#9c179e"
            ],
            [
             0.4444444444444444,
             "#bd3786"
            ],
            [
             0.5555555555555556,
             "#d8576b"
            ],
            [
             0.6666666666666666,
             "#ed7953"
            ],
            [
             0.7777777777777778,
             "#fb9f3a"
            ],
            [
             0.8888888888888888,
             "#fdca26"
            ],
            [
             1,
             "#f0f921"
            ]
           ]
          },
          "colorway": [
           "#636efa",
           "#EF553B",
           "#00cc96",
           "#ab63fa",
           "#FFA15A",
           "#19d3f3",
           "#FF6692",
           "#B6E880",
           "#FF97FF",
           "#FECB52"
          ],
          "font": {
           "color": "#2a3f5f"
          },
          "geo": {
           "bgcolor": "white",
           "lakecolor": "white",
           "landcolor": "#E5ECF6",
           "showlakes": true,
           "showland": true,
           "subunitcolor": "white"
          },
          "hoverlabel": {
           "align": "left"
          },
          "hovermode": "closest",
          "mapbox": {
           "style": "light"
          },
          "paper_bgcolor": "white",
          "plot_bgcolor": "#E5ECF6",
          "polar": {
           "angularaxis": {
            "gridcolor": "white",
            "linecolor": "white",
            "ticks": ""
           },
           "bgcolor": "#E5ECF6",
           "radialaxis": {
            "gridcolor": "white",
            "linecolor": "white",
            "ticks": ""
           }
          },
          "scene": {
           "xaxis": {
            "backgroundcolor": "#E5ECF6",
            "gridcolor": "white",
            "gridwidth": 2,
            "linecolor": "white",
            "showbackground": true,
            "ticks": "",
            "zerolinecolor": "white"
           },
           "yaxis": {
            "backgroundcolor": "#E5ECF6",
            "gridcolor": "white",
            "gridwidth": 2,
            "linecolor": "white",
            "showbackground": true,
            "ticks": "",
            "zerolinecolor": "white"
           },
           "zaxis": {
            "backgroundcolor": "#E5ECF6",
            "gridcolor": "white",
            "gridwidth": 2,
            "linecolor": "white",
            "showbackground": true,
            "ticks": "",
            "zerolinecolor": "white"
           }
          },
          "shapedefaults": {
           "line": {
            "color": "#2a3f5f"
           }
          },
          "ternary": {
           "aaxis": {
            "gridcolor": "white",
            "linecolor": "white",
            "ticks": ""
           },
           "baxis": {
            "gridcolor": "white",
            "linecolor": "white",
            "ticks": ""
           },
           "bgcolor": "#E5ECF6",
           "caxis": {
            "gridcolor": "white",
            "linecolor": "white",
            "ticks": ""
           }
          },
          "title": {
           "x": 0.05
          },
          "xaxis": {
           "automargin": true,
           "gridcolor": "white",
           "linecolor": "white",
           "ticks": "",
           "title": {
            "standoff": 15
           },
           "zerolinecolor": "white",
           "zerolinewidth": 2
          },
          "yaxis": {
           "automargin": true,
           "gridcolor": "white",
           "linecolor": "white",
           "ticks": "",
           "title": {
            "standoff": 15
           },
           "zerolinecolor": "white",
           "zerolinewidth": 2
          }
         }
        },
        "title": {
         "font": {
          "color": "#4D5663"
         }
        },
        "xaxis": {
         "gridcolor": "#E1E5ED",
         "showgrid": true,
         "tickfont": {
          "color": "#4D5663"
         },
         "title": {
          "font": {
           "color": "#4D5663"
          },
          "text": ""
         },
         "zerolinecolor": "#E1E5ED"
        },
        "yaxis": {
         "gridcolor": "#E1E5ED",
         "showgrid": true,
         "tickfont": {
          "color": "#4D5663"
         },
         "title": {
          "font": {
           "color": "#4D5663"
          },
          "text": ""
         },
         "zerolinecolor": "#E1E5ED"
        }
       }
      },
      "text/html": [
       "<div>                            <div id=\"232ad077-b4dd-45ae-a25c-f932fd257ed7\" class=\"plotly-graph-div\" style=\"height:525px; width:100%;\"></div>            <script type=\"text/javascript\">                require([\"plotly\"], function(Plotly) {                    window.PLOTLYENV=window.PLOTLYENV || {};\n",
       "                    window.PLOTLYENV.BASE_URL='https://plot.ly';                                    if (document.getElementById(\"232ad077-b4dd-45ae-a25c-f932fd257ed7\")) {                    Plotly.newPlot(                        \"232ad077-b4dd-45ae-a25c-f932fd257ed7\",                        [{\"histfunc\": \"count\", \"histnorm\": \"\", \"marker\": {\"color\": \"rgba(255, 153, 51, 1.0)\", \"line\": {\"color\": \"#4D5663\", \"width\": 1.3}}, \"name\": \"A\", \"nbinsx\": 30, \"opacity\": 0.8, \"orientation\": \"v\", \"type\": \"histogram\", \"x\": [-0.07626798862524346, 0.22540134756441488, -0.8057647977006603, 0.3775230577282411, -0.1680604099266579, 0.8713582072512306, -0.08016296132520627, 2.0793375312602986, 0.6174946047522917, 1.3470244023614335, -0.45534748125031793, 1.1567776506639353, -0.8740526020125177, -0.037407388938710644, 0.5532512221426178, -1.051190550010996, -0.35056999351700524, 1.071823066376621, 0.9093892370915182, -1.0488537815283008, -0.4599270555168315, 1.8602051198265883, -0.8249352680142302, -1.5106002057662986, 0.0996067858587673, -0.9955831080121025, -1.1743481536862996, 0.798495220365897, 2.135298305419711, -0.918373544679037, -1.3292049671635469, -1.482014934583836, 0.4658513332948664, 1.7175357781491922, -0.1606077083412937, 0.5805593871078475, -0.2538847588879203, 1.0542215320006398, -0.4301439180270131, -1.2014952657868243, 0.4460530424636575, -0.38016505214183166, 1.187504657276655, 1.0092529666759915, 0.5276280783314551, -2.3146759442720812, -0.9726633353919516, -1.4651901913239982, -0.8517523630692322, -2.317281604613853, -0.14261933190625772, -2.077146476047186, -0.3251807441512565, 0.1319632239823357, 0.7486045945026552, 0.33685670014918506, -0.037845194242645784, -1.3667973040236276, 0.7727164075726849, -1.2011494900729764, 0.2691153645066599, -0.7673187313510428, 0.7313925705637623, 0.27488086113873705, -0.21474757848854253, 0.9183127839848029, 0.20274982610001047, -1.2321068101491492, 2.2023622350450003, 0.22588488340486504, -0.21025110889818346, -0.06932808427719565, -0.330211178580367, -1.1630223928019472, 0.3991187829537466, 0.26561049183638635, 0.2489546357507444, -1.0363391210443667, 0.28072456627802256, -1.4258804403303178, 0.34187592095465646, -1.1053725354624688, -0.7016568221765985, 0.3193171141371305, -1.6882672411213937, -0.6384005418166574, 1.1931023903017663, -1.079295557921701, 0.953153121390354, 0.4535569514855566, -0.6142109560790182, 1.7927716591736043, -2.0886630176573466, -0.647956166935598, -0.5679356570104203, 0.6153764784573306, 1.211953758491585, -1.516211074458471, -0.6678919354224481, 0.7549092172063453]}],                        {\"barmode\": \"overlay\", \"legend\": {\"bgcolor\": \"#F5F6F9\", \"font\": {\"color\": \"#4D5663\"}}, \"paper_bgcolor\": \"#F5F6F9\", \"plot_bgcolor\": \"#F5F6F9\", \"template\": {\"data\": {\"bar\": [{\"error_x\": {\"color\": \"#2a3f5f\"}, \"error_y\": {\"color\": \"#2a3f5f\"}, \"marker\": {\"line\": {\"color\": \"#E5ECF6\", \"width\": 0.5}}, \"type\": \"bar\"}], \"barpolar\": [{\"marker\": {\"line\": {\"color\": \"#E5ECF6\", \"width\": 0.5}}, \"type\": \"barpolar\"}], \"carpet\": [{\"aaxis\": {\"endlinecolor\": \"#2a3f5f\", \"gridcolor\": \"white\", \"linecolor\": \"white\", \"minorgridcolor\": \"white\", \"startlinecolor\": \"#2a3f5f\"}, \"baxis\": {\"endlinecolor\": \"#2a3f5f\", \"gridcolor\": \"white\", \"linecolor\": \"white\", \"minorgridcolor\": \"white\", \"startlinecolor\": \"#2a3f5f\"}, \"type\": \"carpet\"}], \"choropleth\": [{\"colorbar\": {\"outlinewidth\": 0, \"ticks\": \"\"}, \"type\": \"choropleth\"}], \"contour\": [{\"colorbar\": {\"outlinewidth\": 0, \"ticks\": \"\"}, \"colorscale\": [[0.0, \"#0d0887\"], [0.1111111111111111, \"#46039f\"], [0.2222222222222222, \"#7201a8\"], [0.3333333333333333, \"#9c179e\"], [0.4444444444444444, \"#bd3786\"], [0.5555555555555556, \"#d8576b\"], [0.6666666666666666, \"#ed7953\"], [0.7777777777777778, \"#fb9f3a\"], [0.8888888888888888, \"#fdca26\"], [1.0, \"#f0f921\"]], \"type\": \"contour\"}], \"contourcarpet\": [{\"colorbar\": {\"outlinewidth\": 0, \"ticks\": \"\"}, \"type\": \"contourcarpet\"}], \"heatmap\": [{\"colorbar\": {\"outlinewidth\": 0, \"ticks\": \"\"}, \"colorscale\": [[0.0, \"#0d0887\"], [0.1111111111111111, \"#46039f\"], [0.2222222222222222, \"#7201a8\"], [0.3333333333333333, \"#9c179e\"], [0.4444444444444444, \"#bd3786\"], [0.5555555555555556, \"#d8576b\"], [0.6666666666666666, \"#ed7953\"], [0.7777777777777778, \"#fb9f3a\"], [0.8888888888888888, \"#fdca26\"], [1.0, \"#f0f921\"]], \"type\": \"heatmap\"}], \"heatmapgl\": [{\"colorbar\": {\"outlinewidth\": 0, \"ticks\": \"\"}, \"colorscale\": [[0.0, \"#0d0887\"], [0.1111111111111111, \"#46039f\"], [0.2222222222222222, \"#7201a8\"], [0.3333333333333333, \"#9c179e\"], [0.4444444444444444, \"#bd3786\"], [0.5555555555555556, \"#d8576b\"], [0.6666666666666666, \"#ed7953\"], [0.7777777777777778, \"#fb9f3a\"], [0.8888888888888888, \"#fdca26\"], [1.0, \"#f0f921\"]], \"type\": \"heatmapgl\"}], \"histogram\": [{\"marker\": {\"colorbar\": {\"outlinewidth\": 0, \"ticks\": \"\"}}, \"type\": \"histogram\"}], \"histogram2d\": [{\"colorbar\": {\"outlinewidth\": 0, \"ticks\": \"\"}, \"colorscale\": [[0.0, \"#0d0887\"], [0.1111111111111111, \"#46039f\"], [0.2222222222222222, \"#7201a8\"], [0.3333333333333333, \"#9c179e\"], [0.4444444444444444, \"#bd3786\"], [0.5555555555555556, \"#d8576b\"], [0.6666666666666666, \"#ed7953\"], [0.7777777777777778, \"#fb9f3a\"], [0.8888888888888888, \"#fdca26\"], [1.0, \"#f0f921\"]], \"type\": \"histogram2d\"}], \"histogram2dcontour\": [{\"colorbar\": {\"outlinewidth\": 0, \"ticks\": \"\"}, \"colorscale\": [[0.0, \"#0d0887\"], [0.1111111111111111, \"#46039f\"], [0.2222222222222222, \"#7201a8\"], [0.3333333333333333, \"#9c179e\"], [0.4444444444444444, \"#bd3786\"], [0.5555555555555556, \"#d8576b\"], [0.6666666666666666, \"#ed7953\"], [0.7777777777777778, \"#fb9f3a\"], [0.8888888888888888, \"#fdca26\"], [1.0, \"#f0f921\"]], \"type\": \"histogram2dcontour\"}], \"mesh3d\": [{\"colorbar\": {\"outlinewidth\": 0, \"ticks\": \"\"}, \"type\": \"mesh3d\"}], \"parcoords\": [{\"line\": {\"colorbar\": {\"outlinewidth\": 0, \"ticks\": \"\"}}, \"type\": \"parcoords\"}], \"pie\": [{\"automargin\": true, \"type\": \"pie\"}], \"scatter\": [{\"marker\": {\"colorbar\": {\"outlinewidth\": 0, \"ticks\": \"\"}}, \"type\": \"scatter\"}], \"scatter3d\": [{\"line\": {\"colorbar\": {\"outlinewidth\": 0, \"ticks\": \"\"}}, \"marker\": {\"colorbar\": {\"outlinewidth\": 0, \"ticks\": \"\"}}, \"type\": \"scatter3d\"}], \"scattercarpet\": [{\"marker\": {\"colorbar\": {\"outlinewidth\": 0, \"ticks\": \"\"}}, \"type\": \"scattercarpet\"}], \"scattergeo\": [{\"marker\": {\"colorbar\": {\"outlinewidth\": 0, \"ticks\": \"\"}}, \"type\": \"scattergeo\"}], \"scattergl\": [{\"marker\": {\"colorbar\": {\"outlinewidth\": 0, \"ticks\": \"\"}}, \"type\": \"scattergl\"}], \"scattermapbox\": [{\"marker\": {\"colorbar\": {\"outlinewidth\": 0, \"ticks\": \"\"}}, \"type\": \"scattermapbox\"}], \"scatterpolar\": [{\"marker\": {\"colorbar\": {\"outlinewidth\": 0, \"ticks\": \"\"}}, \"type\": \"scatterpolar\"}], \"scatterpolargl\": [{\"marker\": {\"colorbar\": {\"outlinewidth\": 0, \"ticks\": \"\"}}, \"type\": \"scatterpolargl\"}], \"scatterternary\": [{\"marker\": {\"colorbar\": {\"outlinewidth\": 0, \"ticks\": \"\"}}, \"type\": \"scatterternary\"}], \"surface\": [{\"colorbar\": {\"outlinewidth\": 0, \"ticks\": \"\"}, \"colorscale\": [[0.0, \"#0d0887\"], [0.1111111111111111, \"#46039f\"], [0.2222222222222222, \"#7201a8\"], [0.3333333333333333, \"#9c179e\"], [0.4444444444444444, \"#bd3786\"], [0.5555555555555556, \"#d8576b\"], [0.6666666666666666, \"#ed7953\"], [0.7777777777777778, \"#fb9f3a\"], [0.8888888888888888, \"#fdca26\"], [1.0, \"#f0f921\"]], \"type\": \"surface\"}], \"table\": [{\"cells\": {\"fill\": {\"color\": \"#EBF0F8\"}, \"line\": {\"color\": \"white\"}}, \"header\": {\"fill\": {\"color\": \"#C8D4E3\"}, \"line\": {\"color\": \"white\"}}, \"type\": \"table\"}]}, \"layout\": {\"annotationdefaults\": {\"arrowcolor\": \"#2a3f5f\", \"arrowhead\": 0, \"arrowwidth\": 1}, \"autotypenumbers\": \"strict\", \"coloraxis\": {\"colorbar\": {\"outlinewidth\": 0, \"ticks\": \"\"}}, \"colorscale\": {\"diverging\": [[0, \"#8e0152\"], [0.1, \"#c51b7d\"], [0.2, \"#de77ae\"], [0.3, \"#f1b6da\"], [0.4, \"#fde0ef\"], [0.5, \"#f7f7f7\"], [0.6, \"#e6f5d0\"], [0.7, \"#b8e186\"], [0.8, \"#7fbc41\"], [0.9, \"#4d9221\"], [1, \"#276419\"]], \"sequential\": [[0.0, \"#0d0887\"], [0.1111111111111111, \"#46039f\"], [0.2222222222222222, \"#7201a8\"], [0.3333333333333333, \"#9c179e\"], [0.4444444444444444, \"#bd3786\"], [0.5555555555555556, \"#d8576b\"], [0.6666666666666666, \"#ed7953\"], [0.7777777777777778, \"#fb9f3a\"], [0.8888888888888888, \"#fdca26\"], [1.0, \"#f0f921\"]], \"sequentialminus\": [[0.0, \"#0d0887\"], [0.1111111111111111, \"#46039f\"], [0.2222222222222222, \"#7201a8\"], [0.3333333333333333, \"#9c179e\"], [0.4444444444444444, \"#bd3786\"], [0.5555555555555556, \"#d8576b\"], [0.6666666666666666, \"#ed7953\"], [0.7777777777777778, \"#fb9f3a\"], [0.8888888888888888, \"#fdca26\"], [1.0, \"#f0f921\"]]}, \"colorway\": [\"#636efa\", \"#EF553B\", \"#00cc96\", \"#ab63fa\", \"#FFA15A\", \"#19d3f3\", \"#FF6692\", \"#B6E880\", \"#FF97FF\", \"#FECB52\"], \"font\": {\"color\": \"#2a3f5f\"}, \"geo\": {\"bgcolor\": \"white\", \"lakecolor\": \"white\", \"landcolor\": \"#E5ECF6\", \"showlakes\": true, \"showland\": true, \"subunitcolor\": \"white\"}, \"hoverlabel\": {\"align\": \"left\"}, \"hovermode\": \"closest\", \"mapbox\": {\"style\": \"light\"}, \"paper_bgcolor\": \"white\", \"plot_bgcolor\": \"#E5ECF6\", \"polar\": {\"angularaxis\": {\"gridcolor\": \"white\", \"linecolor\": \"white\", \"ticks\": \"\"}, \"bgcolor\": \"#E5ECF6\", \"radialaxis\": {\"gridcolor\": \"white\", \"linecolor\": \"white\", \"ticks\": \"\"}}, \"scene\": {\"xaxis\": {\"backgroundcolor\": \"#E5ECF6\", \"gridcolor\": \"white\", \"gridwidth\": 2, \"linecolor\": \"white\", \"showbackground\": true, \"ticks\": \"\", \"zerolinecolor\": \"white\"}, \"yaxis\": {\"backgroundcolor\": \"#E5ECF6\", \"gridcolor\": \"white\", \"gridwidth\": 2, \"linecolor\": \"white\", \"showbackground\": true, \"ticks\": \"\", \"zerolinecolor\": \"white\"}, \"zaxis\": {\"backgroundcolor\": \"#E5ECF6\", \"gridcolor\": \"white\", \"gridwidth\": 2, \"linecolor\": \"white\", \"showbackground\": true, \"ticks\": \"\", \"zerolinecolor\": \"white\"}}, \"shapedefaults\": {\"line\": {\"color\": \"#2a3f5f\"}}, \"ternary\": {\"aaxis\": {\"gridcolor\": \"white\", \"linecolor\": \"white\", \"ticks\": \"\"}, \"baxis\": {\"gridcolor\": \"white\", \"linecolor\": \"white\", \"ticks\": \"\"}, \"bgcolor\": \"#E5ECF6\", \"caxis\": {\"gridcolor\": \"white\", \"linecolor\": \"white\", \"ticks\": \"\"}}, \"title\": {\"x\": 0.05}, \"xaxis\": {\"automargin\": true, \"gridcolor\": \"white\", \"linecolor\": \"white\", \"ticks\": \"\", \"title\": {\"standoff\": 15}, \"zerolinecolor\": \"white\", \"zerolinewidth\": 2}, \"yaxis\": {\"automargin\": true, \"gridcolor\": \"white\", \"linecolor\": \"white\", \"ticks\": \"\", \"title\": {\"standoff\": 15}, \"zerolinecolor\": \"white\", \"zerolinewidth\": 2}}}, \"title\": {\"font\": {\"color\": \"#4D5663\"}}, \"xaxis\": {\"gridcolor\": \"#E1E5ED\", \"showgrid\": true, \"tickfont\": {\"color\": \"#4D5663\"}, \"title\": {\"font\": {\"color\": \"#4D5663\"}, \"text\": \"\"}, \"zerolinecolor\": \"#E1E5ED\"}, \"yaxis\": {\"gridcolor\": \"#E1E5ED\", \"showgrid\": true, \"tickfont\": {\"color\": \"#4D5663\"}, \"title\": {\"font\": {\"color\": \"#4D5663\"}, \"text\": \"\"}, \"zerolinecolor\": \"#E1E5ED\"}},                        {\"showLink\": true, \"linkText\": \"Export to plot.ly\", \"plotlyServerURL\": \"https://plot.ly\", \"responsive\": true}                    ).then(function(){\n",
       "                            \n",
       "var gd = document.getElementById('232ad077-b4dd-45ae-a25c-f932fd257ed7');\n",
       "var x = new MutationObserver(function (mutations, observer) {{\n",
       "        var display = window.getComputedStyle(gd).display;\n",
       "        if (!display || display === 'none') {{\n",
       "            console.log([gd, 'removed!']);\n",
       "            Plotly.purge(gd);\n",
       "            observer.disconnect();\n",
       "        }}\n",
       "}});\n",
       "\n",
       "// Listen for the removal of the full notebook cells\n",
       "var notebookContainer = gd.closest('#notebook-container');\n",
       "if (notebookContainer) {{\n",
       "    x.observe(notebookContainer, {childList: true});\n",
       "}}\n",
       "\n",
       "// Listen for the clearing of the current output cell\n",
       "var outputEl = gd.closest('.output');\n",
       "if (outputEl) {{\n",
       "    x.observe(outputEl, {childList: true});\n",
       "}}\n",
       "\n",
       "                        })                };                });            </script>        </div>"
      ]
     },
     "metadata": {},
     "output_type": "display_data"
    }
   ],
   "source": [
    "df['A'].iplot(kind='hist', bins=30)"
   ]
  },
  {
   "cell_type": "code",
   "execution_count": 24,
   "metadata": {},
   "outputs": [
    {
     "data": {
      "application/vnd.plotly.v1+json": {
       "config": {
        "linkText": "Export to plot.ly",
        "plotlyServerURL": "https://plot.ly",
        "showLink": true
       },
       "data": [
        {
         "histfunc": "count",
         "histnorm": "",
         "marker": {
          "color": "rgba(255, 153, 51, 1.0)",
          "line": {
           "color": "#4D5663",
           "width": 1.3
          }
         },
         "name": "A",
         "nbinsx": 30,
         "opacity": 0.8,
         "orientation": "v",
         "type": "histogram",
         "x": [
          -0.07626798862524346,
          0.22540134756441488,
          -0.8057647977006603,
          0.3775230577282411,
          -0.1680604099266579,
          0.8713582072512306,
          -0.08016296132520627,
          2.0793375312602986,
          0.6174946047522917,
          1.3470244023614335,
          -0.45534748125031793,
          1.1567776506639353,
          -0.8740526020125177,
          -0.037407388938710644,
          0.5532512221426178,
          -1.051190550010996,
          -0.35056999351700524,
          1.071823066376621,
          0.9093892370915182,
          -1.0488537815283008,
          -0.4599270555168315,
          1.8602051198265883,
          -0.8249352680142302,
          -1.5106002057662986,
          0.0996067858587673,
          -0.9955831080121025,
          -1.1743481536862996,
          0.798495220365897,
          2.135298305419711,
          -0.918373544679037,
          -1.3292049671635469,
          -1.482014934583836,
          0.4658513332948664,
          1.7175357781491922,
          -0.1606077083412937,
          0.5805593871078475,
          -0.2538847588879203,
          1.0542215320006398,
          -0.4301439180270131,
          -1.2014952657868243,
          0.4460530424636575,
          -0.38016505214183166,
          1.187504657276655,
          1.0092529666759915,
          0.5276280783314551,
          -2.3146759442720812,
          -0.9726633353919516,
          -1.4651901913239982,
          -0.8517523630692322,
          -2.317281604613853,
          -0.14261933190625772,
          -2.077146476047186,
          -0.3251807441512565,
          0.1319632239823357,
          0.7486045945026552,
          0.33685670014918506,
          -0.037845194242645784,
          -1.3667973040236276,
          0.7727164075726849,
          -1.2011494900729764,
          0.2691153645066599,
          -0.7673187313510428,
          0.7313925705637623,
          0.27488086113873705,
          -0.21474757848854253,
          0.9183127839848029,
          0.20274982610001047,
          -1.2321068101491492,
          2.2023622350450003,
          0.22588488340486504,
          -0.21025110889818346,
          -0.06932808427719565,
          -0.330211178580367,
          -1.1630223928019472,
          0.3991187829537466,
          0.26561049183638635,
          0.2489546357507444,
          -1.0363391210443667,
          0.28072456627802256,
          -1.4258804403303178,
          0.34187592095465646,
          -1.1053725354624688,
          -0.7016568221765985,
          0.3193171141371305,
          -1.6882672411213937,
          -0.6384005418166574,
          1.1931023903017663,
          -1.079295557921701,
          0.953153121390354,
          0.4535569514855566,
          -0.6142109560790182,
          1.7927716591736043,
          -2.0886630176573466,
          -0.647956166935598,
          -0.5679356570104203,
          0.6153764784573306,
          1.211953758491585,
          -1.516211074458471,
          -0.6678919354224481,
          0.7549092172063453
         ]
        },
        {
         "histfunc": "count",
         "histnorm": "",
         "marker": {
          "color": "rgba(55, 128, 191, 1.0)",
          "line": {
           "color": "#4D5663",
           "width": 1.3
          }
         },
         "name": "B",
         "nbinsx": 30,
         "opacity": 0.8,
         "orientation": "v",
         "type": "histogram",
         "x": [
          -0.740902655559266,
          -0.08310433278810744,
          -1.251683393405426,
          -1.204225704833254,
          1.0143348303407134,
          -1.0161633496549207,
          -1.7583971257729267,
          1.4521908459282145,
          -0.480368906287327,
          0.5131858057305899,
          0.27503721587001323,
          1.290465634875162,
          1.1124276711007453,
          -1.4899235118041922,
          0.38697483901701935,
          0.4129744286146979,
          2.095129686566982,
          0.8399787083500704,
          0.6710525662253761,
          -0.4681469240612532,
          2.1194359317570535,
          1.038915191126487,
          -0.7172554535302076,
          0.5688903859711237,
          0.826646992545889,
          0.09105518538007447,
          -0.589810469872444,
          -0.1525563108196747,
          -0.3633806409535802,
          0.2692246496286448,
          -0.1395863420602316,
          0.6420796882555284,
          -0.3895501220033279,
          -0.6842852202025996,
          -0.0662269940405855,
          -2.6265164759204436,
          -0.9020476303540725,
          -0.4167566139166744,
          0.7135005499949627,
          -1.094409509953378,
          -1.7596727501739213,
          -1.3221416350039188,
          -1.165871915271899,
          -0.17725703007771632,
          0.07750703246294158,
          -0.4058509152122095,
          1.0113863879667255,
          1.1743453857185353,
          0.1522145118031781,
          -0.7226455063181879,
          -0.9955570686188059,
          0.2765818865175756,
          -1.3549808500418952,
          1.337102837580037,
          -0.08188136453619636,
          -1.04472177658133,
          0.7038632224719813,
          -1.2644862932195187,
          0.3524073622222112,
          -0.46797925694821996,
          0.6379518560397109,
          0.5978368539603639,
          0.1896862075086954,
          0.01498863199058901,
          0.6737610775168448,
          -0.2093368496264277,
          -0.4445627663438925,
          -0.5225801896099493,
          0.11252918692066753,
          0.8218878151077612,
          -0.8365245614729655,
          -0.8260737556521454,
          0.821246020726017,
          1.7053976790292478,
          0.9591926546787697,
          1.0830800300363144,
          -0.7458624482789284,
          0.00978102219508137,
          -0.9888119728575078,
          -1.0526562671556607,
          -0.48038870163723124,
          -0.6569719817113063,
          -0.848735736192335,
          2.190392250125886,
          0.8904709443200586,
          -0.24858231907030764,
          0.9716461842773628,
          -1.0724720077866086,
          0.15156616663461042,
          0.36165937700608153,
          -0.7221361260002299,
          -2.0364234750392334,
          -0.6879418802528297,
          -0.40851358835174423,
          0.9529887543414152,
          -0.15851581650574076,
          -1.4341531957352023,
          0.1659117333162127,
          2.344432739425215,
          0.23891550498788275
         ]
        },
        {
         "histfunc": "count",
         "histnorm": "",
         "marker": {
          "color": "rgba(50, 171, 96, 1.0)",
          "line": {
           "color": "#4D5663",
           "width": 1.3
          }
         },
         "name": "C",
         "nbinsx": 30,
         "opacity": 0.8,
         "orientation": "v",
         "type": "histogram",
         "x": [
          0.11506777591334545,
          -0.4669527591483944,
          0.838753938652362,
          1.7939169837397981,
          -1.3438326100575777,
          0.7772824387875003,
          0.5255163998487751,
          -0.14372743715167027,
          -1.1350475503194846,
          0.8377061742195445,
          -1.2893734663813263,
          -0.6490806584734865,
          -0.7905725983268116,
          1.4409167604861066,
          0.4687506103857752,
          0.9228644793460214,
          0.7256872634793196,
          -0.6776405780161343,
          -0.4906669437171314,
          -0.8185539687468362,
          -0.9529249151507974,
          0.9494275287384024,
          -0.8404780177971688,
          -0.23859050718064892,
          -1.33085820350392,
          -0.2547223651273164,
          1.3848369503129814,
          -0.015170397451762494,
          1.081412525387793,
          0.13221713750683914,
          -0.5915055288945772,
          -0.694599290081804,
          1.0150485266600329,
          1.5155566873877593,
          0.6275328930383646,
          -0.5840219696353247,
          -0.776311457551167,
          -0.6717617949609185,
          -0.9457685055861333,
          -0.6349865365838709,
          -0.9450538817674731,
          0.3358272922545994,
          2.2519875839333503,
          1.0990320253477452,
          2.1579827483939638,
          0.6262070029210622,
          0.3469528394636604,
          0.8181198570393231,
          0.3584307652929029,
          0.5411769289617455,
          -1.6469461542071104,
          -0.9394111622402175,
          0.34570756963622945,
          -0.08313735682778838,
          -0.5827389646844746,
          0.9313053242818813,
          0.522310163649811,
          0.6073699269751509,
          -2.0324889511721214,
          -1.9066225540276152,
          1.590194563123513,
          -0.4311534589466588,
          2.0156464167629853,
          0.5105587282134346,
          0.06424465390783764,
          1.2993272757132333,
          -0.8002831178402844,
          -0.09064770187143911,
          0.9597380188142864,
          0.048626762496730105,
          1.015142005510411,
          3.2188022869139106,
          -0.10316204116054475,
          -1.2826721358372464,
          0.2232936363291398,
          -1.1676562338091363,
          0.29032401337670666,
          0.14965456611823938,
          1.4024381550184488,
          -2.1890658665656177,
          0.2755147161407717,
          1.5955506986374905,
          0.07572171368240455,
          -0.08262244372807441,
          0.2166289542416796,
          0.08603331417035655,
          -1.021756178602517,
          -0.5269913512362231,
          -0.3539868604883295,
          -0.35340661766312104,
          -0.8723077965365962,
          -0.856046069191193,
          -0.16826738357465057,
          1.4501480109011096,
          0.5542794821235857,
          -1.1598134961669193,
          -0.2878579037631965,
          0.10974255297595349,
          -0.996444324819498,
          1.1446227114720948
         ]
        },
        {
         "histfunc": "count",
         "histnorm": "",
         "marker": {
          "color": "rgba(128, 0, 128, 1.0)",
          "line": {
           "color": "#4D5663",
           "width": 1.3
          }
         },
         "name": "D",
         "nbinsx": 30,
         "opacity": 0.8,
         "orientation": "v",
         "type": "histogram",
         "x": [
          1.4569727607926122,
          1.5803324075229161,
          -1.2897002441333556,
          -0.16166551474494495,
          -1.976502864334509,
          -0.8693958414819042,
          0.9551460280404175,
          0.2802516103397689,
          1.2550272097356434,
          0.9155115058822488,
          0.7733482131769092,
          -1.1631126105679386,
          0.3931126235197993,
          1.5592260592093,
          -0.7546707280860958,
          -0.577462363122032,
          0.10812191862643344,
          -1.3021525005770849,
          0.0013863273196885522,
          -1.1565924417119133,
          0.030893790789631646,
          -0.2921139554387492,
          -0.6378229963088616,
          -0.2552420579232666,
          -0.7105803541717001,
          -0.7310763884707412,
          0.850591748444687,
          0.25350478409356253,
          -0.0025095031827617282,
          -1.038633643463149,
          0.8260476059311241,
          0.5222387643383883,
          1.4269978745065481,
          -2.1968429450957525,
          0.1884115433816258,
          -0.26168481206024646,
          0.7273415497579273,
          2.299797566491191,
          0.8788511743957212,
          1.1091884743081923,
          0.388275901319309,
          0.059801554863223624,
          0.7049894936262245,
          1.0788069961882627,
          0.430901839072723,
          0.625095337397016,
          -0.15792309032785642,
          0.45281184157042315,
          -0.4517714112086825,
          -1.321525146743949,
          0.6769278297715584,
          -0.66020231086785,
          0.02621609074868664,
          1.237167600904855,
          -0.37366966211437025,
          -0.8374883670259714,
          -1.7838417355758664,
          1.9282931010823163,
          0.9403749494318877,
          0.30310974524093093,
          1.0237472277719784,
          -0.9817481934613881,
          -0.7965587873113616,
          -0.2756526237681351,
          0.07193352921125992,
          1.3843610975021363,
          -1.1883473539731926,
          -1.132010345991311,
          -1.0217264191012476,
          0.7850296917497678,
          2.2121655730172725,
          0.5932119006791556,
          -1.439284833023011,
          -0.7046679703172876,
          -0.42747316155692994,
          -1.7867416717823146,
          -1.3465481460900666,
          -1.1275245220204797,
          -0.1920986987537914,
          0.2695193429927655,
          -2.0193794708287247,
          0.664330606404295,
          -2.5251217573612994,
          2.195869829867191,
          0.6241679103092804,
          -2.4482135541760828,
          2.022834651920917,
          1.0827267716967608,
          -0.006038442634036476,
          -0.861912397917697,
          1.4948604815170339,
          -0.21769551523968977,
          -0.26311210258217965,
          0.37203035503116805,
          -0.7976063789805946,
          -0.557349689706263,
          2.148558435514855,
          -1.074934475018916,
          -2.799387901627083,
          0.2607365043330616
         ]
        }
       ],
       "layout": {
        "barmode": "overlay",
        "legend": {
         "bgcolor": "#F5F6F9",
         "font": {
          "color": "#4D5663"
         }
        },
        "paper_bgcolor": "#F5F6F9",
        "plot_bgcolor": "#F5F6F9",
        "template": {
         "data": {
          "bar": [
           {
            "error_x": {
             "color": "#2a3f5f"
            },
            "error_y": {
             "color": "#2a3f5f"
            },
            "marker": {
             "line": {
              "color": "#E5ECF6",
              "width": 0.5
             }
            },
            "type": "bar"
           }
          ],
          "barpolar": [
           {
            "marker": {
             "line": {
              "color": "#E5ECF6",
              "width": 0.5
             }
            },
            "type": "barpolar"
           }
          ],
          "carpet": [
           {
            "aaxis": {
             "endlinecolor": "#2a3f5f",
             "gridcolor": "white",
             "linecolor": "white",
             "minorgridcolor": "white",
             "startlinecolor": "#2a3f5f"
            },
            "baxis": {
             "endlinecolor": "#2a3f5f",
             "gridcolor": "white",
             "linecolor": "white",
             "minorgridcolor": "white",
             "startlinecolor": "#2a3f5f"
            },
            "type": "carpet"
           }
          ],
          "choropleth": [
           {
            "colorbar": {
             "outlinewidth": 0,
             "ticks": ""
            },
            "type": "choropleth"
           }
          ],
          "contour": [
           {
            "colorbar": {
             "outlinewidth": 0,
             "ticks": ""
            },
            "colorscale": [
             [
              0,
              "#0d0887"
             ],
             [
              0.1111111111111111,
              "#46039f"
             ],
             [
              0.2222222222222222,
              "#7201a8"
             ],
             [
              0.3333333333333333,
              "#9c179e"
             ],
             [
              0.4444444444444444,
              "#bd3786"
             ],
             [
              0.5555555555555556,
              "#d8576b"
             ],
             [
              0.6666666666666666,
              "#ed7953"
             ],
             [
              0.7777777777777778,
              "#fb9f3a"
             ],
             [
              0.8888888888888888,
              "#fdca26"
             ],
             [
              1,
              "#f0f921"
             ]
            ],
            "type": "contour"
           }
          ],
          "contourcarpet": [
           {
            "colorbar": {
             "outlinewidth": 0,
             "ticks": ""
            },
            "type": "contourcarpet"
           }
          ],
          "heatmap": [
           {
            "colorbar": {
             "outlinewidth": 0,
             "ticks": ""
            },
            "colorscale": [
             [
              0,
              "#0d0887"
             ],
             [
              0.1111111111111111,
              "#46039f"
             ],
             [
              0.2222222222222222,
              "#7201a8"
             ],
             [
              0.3333333333333333,
              "#9c179e"
             ],
             [
              0.4444444444444444,
              "#bd3786"
             ],
             [
              0.5555555555555556,
              "#d8576b"
             ],
             [
              0.6666666666666666,
              "#ed7953"
             ],
             [
              0.7777777777777778,
              "#fb9f3a"
             ],
             [
              0.8888888888888888,
              "#fdca26"
             ],
             [
              1,
              "#f0f921"
             ]
            ],
            "type": "heatmap"
           }
          ],
          "heatmapgl": [
           {
            "colorbar": {
             "outlinewidth": 0,
             "ticks": ""
            },
            "colorscale": [
             [
              0,
              "#0d0887"
             ],
             [
              0.1111111111111111,
              "#46039f"
             ],
             [
              0.2222222222222222,
              "#7201a8"
             ],
             [
              0.3333333333333333,
              "#9c179e"
             ],
             [
              0.4444444444444444,
              "#bd3786"
             ],
             [
              0.5555555555555556,
              "#d8576b"
             ],
             [
              0.6666666666666666,
              "#ed7953"
             ],
             [
              0.7777777777777778,
              "#fb9f3a"
             ],
             [
              0.8888888888888888,
              "#fdca26"
             ],
             [
              1,
              "#f0f921"
             ]
            ],
            "type": "heatmapgl"
           }
          ],
          "histogram": [
           {
            "marker": {
             "colorbar": {
              "outlinewidth": 0,
              "ticks": ""
             }
            },
            "type": "histogram"
           }
          ],
          "histogram2d": [
           {
            "colorbar": {
             "outlinewidth": 0,
             "ticks": ""
            },
            "colorscale": [
             [
              0,
              "#0d0887"
             ],
             [
              0.1111111111111111,
              "#46039f"
             ],
             [
              0.2222222222222222,
              "#7201a8"
             ],
             [
              0.3333333333333333,
              "#9c179e"
             ],
             [
              0.4444444444444444,
              "#bd3786"
             ],
             [
              0.5555555555555556,
              "#d8576b"
             ],
             [
              0.6666666666666666,
              "#ed7953"
             ],
             [
              0.7777777777777778,
              "#fb9f3a"
             ],
             [
              0.8888888888888888,
              "#fdca26"
             ],
             [
              1,
              "#f0f921"
             ]
            ],
            "type": "histogram2d"
           }
          ],
          "histogram2dcontour": [
           {
            "colorbar": {
             "outlinewidth": 0,
             "ticks": ""
            },
            "colorscale": [
             [
              0,
              "#0d0887"
             ],
             [
              0.1111111111111111,
              "#46039f"
             ],
             [
              0.2222222222222222,
              "#7201a8"
             ],
             [
              0.3333333333333333,
              "#9c179e"
             ],
             [
              0.4444444444444444,
              "#bd3786"
             ],
             [
              0.5555555555555556,
              "#d8576b"
             ],
             [
              0.6666666666666666,
              "#ed7953"
             ],
             [
              0.7777777777777778,
              "#fb9f3a"
             ],
             [
              0.8888888888888888,
              "#fdca26"
             ],
             [
              1,
              "#f0f921"
             ]
            ],
            "type": "histogram2dcontour"
           }
          ],
          "mesh3d": [
           {
            "colorbar": {
             "outlinewidth": 0,
             "ticks": ""
            },
            "type": "mesh3d"
           }
          ],
          "parcoords": [
           {
            "line": {
             "colorbar": {
              "outlinewidth": 0,
              "ticks": ""
             }
            },
            "type": "parcoords"
           }
          ],
          "pie": [
           {
            "automargin": true,
            "type": "pie"
           }
          ],
          "scatter": [
           {
            "marker": {
             "colorbar": {
              "outlinewidth": 0,
              "ticks": ""
             }
            },
            "type": "scatter"
           }
          ],
          "scatter3d": [
           {
            "line": {
             "colorbar": {
              "outlinewidth": 0,
              "ticks": ""
             }
            },
            "marker": {
             "colorbar": {
              "outlinewidth": 0,
              "ticks": ""
             }
            },
            "type": "scatter3d"
           }
          ],
          "scattercarpet": [
           {
            "marker": {
             "colorbar": {
              "outlinewidth": 0,
              "ticks": ""
             }
            },
            "type": "scattercarpet"
           }
          ],
          "scattergeo": [
           {
            "marker": {
             "colorbar": {
              "outlinewidth": 0,
              "ticks": ""
             }
            },
            "type": "scattergeo"
           }
          ],
          "scattergl": [
           {
            "marker": {
             "colorbar": {
              "outlinewidth": 0,
              "ticks": ""
             }
            },
            "type": "scattergl"
           }
          ],
          "scattermapbox": [
           {
            "marker": {
             "colorbar": {
              "outlinewidth": 0,
              "ticks": ""
             }
            },
            "type": "scattermapbox"
           }
          ],
          "scatterpolar": [
           {
            "marker": {
             "colorbar": {
              "outlinewidth": 0,
              "ticks": ""
             }
            },
            "type": "scatterpolar"
           }
          ],
          "scatterpolargl": [
           {
            "marker": {
             "colorbar": {
              "outlinewidth": 0,
              "ticks": ""
             }
            },
            "type": "scatterpolargl"
           }
          ],
          "scatterternary": [
           {
            "marker": {
             "colorbar": {
              "outlinewidth": 0,
              "ticks": ""
             }
            },
            "type": "scatterternary"
           }
          ],
          "surface": [
           {
            "colorbar": {
             "outlinewidth": 0,
             "ticks": ""
            },
            "colorscale": [
             [
              0,
              "#0d0887"
             ],
             [
              0.1111111111111111,
              "#46039f"
             ],
             [
              0.2222222222222222,
              "#7201a8"
             ],
             [
              0.3333333333333333,
              "#9c179e"
             ],
             [
              0.4444444444444444,
              "#bd3786"
             ],
             [
              0.5555555555555556,
              "#d8576b"
             ],
             [
              0.6666666666666666,
              "#ed7953"
             ],
             [
              0.7777777777777778,
              "#fb9f3a"
             ],
             [
              0.8888888888888888,
              "#fdca26"
             ],
             [
              1,
              "#f0f921"
             ]
            ],
            "type": "surface"
           }
          ],
          "table": [
           {
            "cells": {
             "fill": {
              "color": "#EBF0F8"
             },
             "line": {
              "color": "white"
             }
            },
            "header": {
             "fill": {
              "color": "#C8D4E3"
             },
             "line": {
              "color": "white"
             }
            },
            "type": "table"
           }
          ]
         },
         "layout": {
          "annotationdefaults": {
           "arrowcolor": "#2a3f5f",
           "arrowhead": 0,
           "arrowwidth": 1
          },
          "autotypenumbers": "strict",
          "coloraxis": {
           "colorbar": {
            "outlinewidth": 0,
            "ticks": ""
           }
          },
          "colorscale": {
           "diverging": [
            [
             0,
             "#8e0152"
            ],
            [
             0.1,
             "#c51b7d"
            ],
            [
             0.2,
             "#de77ae"
            ],
            [
             0.3,
             "#f1b6da"
            ],
            [
             0.4,
             "#fde0ef"
            ],
            [
             0.5,
             "#f7f7f7"
            ],
            [
             0.6,
             "#e6f5d0"
            ],
            [
             0.7,
             "#b8e186"
            ],
            [
             0.8,
             "#7fbc41"
            ],
            [
             0.9,
             "#4d9221"
            ],
            [
             1,
             "#276419"
            ]
           ],
           "sequential": [
            [
             0,
             "#0d0887"
            ],
            [
             0.1111111111111111,
             "#46039f"
            ],
            [
             0.2222222222222222,
             "#7201a8"
            ],
            [
             0.3333333333333333,
             "#9c179e"
            ],
            [
             0.4444444444444444,
             "#bd3786"
            ],
            [
             0.5555555555555556,
             "#d8576b"
            ],
            [
             0.6666666666666666,
             "#ed7953"
            ],
            [
             0.7777777777777778,
             "#fb9f3a"
            ],
            [
             0.8888888888888888,
             "#fdca26"
            ],
            [
             1,
             "#f0f921"
            ]
           ],
           "sequentialminus": [
            [
             0,
             "#0d0887"
            ],
            [
             0.1111111111111111,
             "#46039f"
            ],
            [
             0.2222222222222222,
             "#7201a8"
            ],
            [
             0.3333333333333333,
             "#9c179e"
            ],
            [
             0.4444444444444444,
             "#bd3786"
            ],
            [
             0.5555555555555556,
             "#d8576b"
            ],
            [
             0.6666666666666666,
             "#ed7953"
            ],
            [
             0.7777777777777778,
             "#fb9f3a"
            ],
            [
             0.8888888888888888,
             "#fdca26"
            ],
            [
             1,
             "#f0f921"
            ]
           ]
          },
          "colorway": [
           "#636efa",
           "#EF553B",
           "#00cc96",
           "#ab63fa",
           "#FFA15A",
           "#19d3f3",
           "#FF6692",
           "#B6E880",
           "#FF97FF",
           "#FECB52"
          ],
          "font": {
           "color": "#2a3f5f"
          },
          "geo": {
           "bgcolor": "white",
           "lakecolor": "white",
           "landcolor": "#E5ECF6",
           "showlakes": true,
           "showland": true,
           "subunitcolor": "white"
          },
          "hoverlabel": {
           "align": "left"
          },
          "hovermode": "closest",
          "mapbox": {
           "style": "light"
          },
          "paper_bgcolor": "white",
          "plot_bgcolor": "#E5ECF6",
          "polar": {
           "angularaxis": {
            "gridcolor": "white",
            "linecolor": "white",
            "ticks": ""
           },
           "bgcolor": "#E5ECF6",
           "radialaxis": {
            "gridcolor": "white",
            "linecolor": "white",
            "ticks": ""
           }
          },
          "scene": {
           "xaxis": {
            "backgroundcolor": "#E5ECF6",
            "gridcolor": "white",
            "gridwidth": 2,
            "linecolor": "white",
            "showbackground": true,
            "ticks": "",
            "zerolinecolor": "white"
           },
           "yaxis": {
            "backgroundcolor": "#E5ECF6",
            "gridcolor": "white",
            "gridwidth": 2,
            "linecolor": "white",
            "showbackground": true,
            "ticks": "",
            "zerolinecolor": "white"
           },
           "zaxis": {
            "backgroundcolor": "#E5ECF6",
            "gridcolor": "white",
            "gridwidth": 2,
            "linecolor": "white",
            "showbackground": true,
            "ticks": "",
            "zerolinecolor": "white"
           }
          },
          "shapedefaults": {
           "line": {
            "color": "#2a3f5f"
           }
          },
          "ternary": {
           "aaxis": {
            "gridcolor": "white",
            "linecolor": "white",
            "ticks": ""
           },
           "baxis": {
            "gridcolor": "white",
            "linecolor": "white",
            "ticks": ""
           },
           "bgcolor": "#E5ECF6",
           "caxis": {
            "gridcolor": "white",
            "linecolor": "white",
            "ticks": ""
           }
          },
          "title": {
           "x": 0.05
          },
          "xaxis": {
           "automargin": true,
           "gridcolor": "white",
           "linecolor": "white",
           "ticks": "",
           "title": {
            "standoff": 15
           },
           "zerolinecolor": "white",
           "zerolinewidth": 2
          },
          "yaxis": {
           "automargin": true,
           "gridcolor": "white",
           "linecolor": "white",
           "ticks": "",
           "title": {
            "standoff": 15
           },
           "zerolinecolor": "white",
           "zerolinewidth": 2
          }
         }
        },
        "title": {
         "font": {
          "color": "#4D5663"
         }
        },
        "xaxis": {
         "gridcolor": "#E1E5ED",
         "showgrid": true,
         "tickfont": {
          "color": "#4D5663"
         },
         "title": {
          "font": {
           "color": "#4D5663"
          },
          "text": ""
         },
         "zerolinecolor": "#E1E5ED"
        },
        "yaxis": {
         "gridcolor": "#E1E5ED",
         "showgrid": true,
         "tickfont": {
          "color": "#4D5663"
         },
         "title": {
          "font": {
           "color": "#4D5663"
          },
          "text": ""
         },
         "zerolinecolor": "#E1E5ED"
        }
       }
      },
      "text/html": [
       "<div>                            <div id=\"fff0a390-222a-4344-98c3-886458e5fbfb\" class=\"plotly-graph-div\" style=\"height:525px; width:100%;\"></div>            <script type=\"text/javascript\">                require([\"plotly\"], function(Plotly) {                    window.PLOTLYENV=window.PLOTLYENV || {};\n",
       "                    window.PLOTLYENV.BASE_URL='https://plot.ly';                                    if (document.getElementById(\"fff0a390-222a-4344-98c3-886458e5fbfb\")) {                    Plotly.newPlot(                        \"fff0a390-222a-4344-98c3-886458e5fbfb\",                        [{\"histfunc\": \"count\", \"histnorm\": \"\", \"marker\": {\"color\": \"rgba(255, 153, 51, 1.0)\", \"line\": {\"color\": \"#4D5663\", \"width\": 1.3}}, \"name\": \"A\", \"nbinsx\": 30, \"opacity\": 0.8, \"orientation\": \"v\", \"type\": \"histogram\", \"x\": [-0.07626798862524346, 0.22540134756441488, -0.8057647977006603, 0.3775230577282411, -0.1680604099266579, 0.8713582072512306, -0.08016296132520627, 2.0793375312602986, 0.6174946047522917, 1.3470244023614335, -0.45534748125031793, 1.1567776506639353, -0.8740526020125177, -0.037407388938710644, 0.5532512221426178, -1.051190550010996, -0.35056999351700524, 1.071823066376621, 0.9093892370915182, -1.0488537815283008, -0.4599270555168315, 1.8602051198265883, -0.8249352680142302, -1.5106002057662986, 0.0996067858587673, -0.9955831080121025, -1.1743481536862996, 0.798495220365897, 2.135298305419711, -0.918373544679037, -1.3292049671635469, -1.482014934583836, 0.4658513332948664, 1.7175357781491922, -0.1606077083412937, 0.5805593871078475, -0.2538847588879203, 1.0542215320006398, -0.4301439180270131, -1.2014952657868243, 0.4460530424636575, -0.38016505214183166, 1.187504657276655, 1.0092529666759915, 0.5276280783314551, -2.3146759442720812, -0.9726633353919516, -1.4651901913239982, -0.8517523630692322, -2.317281604613853, -0.14261933190625772, -2.077146476047186, -0.3251807441512565, 0.1319632239823357, 0.7486045945026552, 0.33685670014918506, -0.037845194242645784, -1.3667973040236276, 0.7727164075726849, -1.2011494900729764, 0.2691153645066599, -0.7673187313510428, 0.7313925705637623, 0.27488086113873705, -0.21474757848854253, 0.9183127839848029, 0.20274982610001047, -1.2321068101491492, 2.2023622350450003, 0.22588488340486504, -0.21025110889818346, -0.06932808427719565, -0.330211178580367, -1.1630223928019472, 0.3991187829537466, 0.26561049183638635, 0.2489546357507444, -1.0363391210443667, 0.28072456627802256, -1.4258804403303178, 0.34187592095465646, -1.1053725354624688, -0.7016568221765985, 0.3193171141371305, -1.6882672411213937, -0.6384005418166574, 1.1931023903017663, -1.079295557921701, 0.953153121390354, 0.4535569514855566, -0.6142109560790182, 1.7927716591736043, -2.0886630176573466, -0.647956166935598, -0.5679356570104203, 0.6153764784573306, 1.211953758491585, -1.516211074458471, -0.6678919354224481, 0.7549092172063453]}, {\"histfunc\": \"count\", \"histnorm\": \"\", \"marker\": {\"color\": \"rgba(55, 128, 191, 1.0)\", \"line\": {\"color\": \"#4D5663\", \"width\": 1.3}}, \"name\": \"B\", \"nbinsx\": 30, \"opacity\": 0.8, \"orientation\": \"v\", \"type\": \"histogram\", \"x\": [-0.740902655559266, -0.08310433278810744, -1.251683393405426, -1.204225704833254, 1.0143348303407134, -1.0161633496549207, -1.7583971257729267, 1.4521908459282145, -0.480368906287327, 0.5131858057305899, 0.27503721587001323, 1.290465634875162, 1.1124276711007453, -1.4899235118041922, 0.38697483901701935, 0.4129744286146979, 2.095129686566982, 0.8399787083500704, 0.6710525662253761, -0.4681469240612532, 2.1194359317570535, 1.038915191126487, -0.7172554535302076, 0.5688903859711237, 0.826646992545889, 0.09105518538007447, -0.589810469872444, -0.1525563108196747, -0.3633806409535802, 0.2692246496286448, -0.1395863420602316, 0.6420796882555284, -0.3895501220033279, -0.6842852202025996, -0.0662269940405855, -2.6265164759204436, -0.9020476303540725, -0.4167566139166744, 0.7135005499949627, -1.094409509953378, -1.7596727501739213, -1.3221416350039188, -1.165871915271899, -0.17725703007771632, 0.07750703246294158, -0.4058509152122095, 1.0113863879667255, 1.1743453857185353, 0.1522145118031781, -0.7226455063181879, -0.9955570686188059, 0.2765818865175756, -1.3549808500418952, 1.337102837580037, -0.08188136453619636, -1.04472177658133, 0.7038632224719813, -1.2644862932195187, 0.3524073622222112, -0.46797925694821996, 0.6379518560397109, 0.5978368539603639, 0.1896862075086954, 0.01498863199058901, 0.6737610775168448, -0.2093368496264277, -0.4445627663438925, -0.5225801896099493, 0.11252918692066753, 0.8218878151077612, -0.8365245614729655, -0.8260737556521454, 0.821246020726017, 1.7053976790292478, 0.9591926546787697, 1.0830800300363144, -0.7458624482789284, 0.00978102219508137, -0.9888119728575078, -1.0526562671556607, -0.48038870163723124, -0.6569719817113063, -0.848735736192335, 2.190392250125886, 0.8904709443200586, -0.24858231907030764, 0.9716461842773628, -1.0724720077866086, 0.15156616663461042, 0.36165937700608153, -0.7221361260002299, -2.0364234750392334, -0.6879418802528297, -0.40851358835174423, 0.9529887543414152, -0.15851581650574076, -1.4341531957352023, 0.1659117333162127, 2.344432739425215, 0.23891550498788275]}, {\"histfunc\": \"count\", \"histnorm\": \"\", \"marker\": {\"color\": \"rgba(50, 171, 96, 1.0)\", \"line\": {\"color\": \"#4D5663\", \"width\": 1.3}}, \"name\": \"C\", \"nbinsx\": 30, \"opacity\": 0.8, \"orientation\": \"v\", \"type\": \"histogram\", \"x\": [0.11506777591334545, -0.4669527591483944, 0.838753938652362, 1.7939169837397981, -1.3438326100575777, 0.7772824387875003, 0.5255163998487751, -0.14372743715167027, -1.1350475503194846, 0.8377061742195445, -1.2893734663813263, -0.6490806584734865, -0.7905725983268116, 1.4409167604861066, 0.4687506103857752, 0.9228644793460214, 0.7256872634793196, -0.6776405780161343, -0.4906669437171314, -0.8185539687468362, -0.9529249151507974, 0.9494275287384024, -0.8404780177971688, -0.23859050718064892, -1.33085820350392, -0.2547223651273164, 1.3848369503129814, -0.015170397451762494, 1.081412525387793, 0.13221713750683914, -0.5915055288945772, -0.694599290081804, 1.0150485266600329, 1.5155566873877593, 0.6275328930383646, -0.5840219696353247, -0.776311457551167, -0.6717617949609185, -0.9457685055861333, -0.6349865365838709, -0.9450538817674731, 0.3358272922545994, 2.2519875839333503, 1.0990320253477452, 2.1579827483939638, 0.6262070029210622, 0.3469528394636604, 0.8181198570393231, 0.3584307652929029, 0.5411769289617455, -1.6469461542071104, -0.9394111622402175, 0.34570756963622945, -0.08313735682778838, -0.5827389646844746, 0.9313053242818813, 0.522310163649811, 0.6073699269751509, -2.0324889511721214, -1.9066225540276152, 1.590194563123513, -0.4311534589466588, 2.0156464167629853, 0.5105587282134346, 0.06424465390783764, 1.2993272757132333, -0.8002831178402844, -0.09064770187143911, 0.9597380188142864, 0.048626762496730105, 1.015142005510411, 3.2188022869139106, -0.10316204116054475, -1.2826721358372464, 0.2232936363291398, -1.1676562338091363, 0.29032401337670666, 0.14965456611823938, 1.4024381550184488, -2.1890658665656177, 0.2755147161407717, 1.5955506986374905, 0.07572171368240455, -0.08262244372807441, 0.2166289542416796, 0.08603331417035655, -1.021756178602517, -0.5269913512362231, -0.3539868604883295, -0.35340661766312104, -0.8723077965365962, -0.856046069191193, -0.16826738357465057, 1.4501480109011096, 0.5542794821235857, -1.1598134961669193, -0.2878579037631965, 0.10974255297595349, -0.996444324819498, 1.1446227114720948]}, {\"histfunc\": \"count\", \"histnorm\": \"\", \"marker\": {\"color\": \"rgba(128, 0, 128, 1.0)\", \"line\": {\"color\": \"#4D5663\", \"width\": 1.3}}, \"name\": \"D\", \"nbinsx\": 30, \"opacity\": 0.8, \"orientation\": \"v\", \"type\": \"histogram\", \"x\": [1.4569727607926122, 1.5803324075229161, -1.2897002441333556, -0.16166551474494495, -1.976502864334509, -0.8693958414819042, 0.9551460280404175, 0.2802516103397689, 1.2550272097356434, 0.9155115058822488, 0.7733482131769092, -1.1631126105679386, 0.3931126235197993, 1.5592260592093, -0.7546707280860958, -0.577462363122032, 0.10812191862643344, -1.3021525005770849, 0.0013863273196885522, -1.1565924417119133, 0.030893790789631646, -0.2921139554387492, -0.6378229963088616, -0.2552420579232666, -0.7105803541717001, -0.7310763884707412, 0.850591748444687, 0.25350478409356253, -0.0025095031827617282, -1.038633643463149, 0.8260476059311241, 0.5222387643383883, 1.4269978745065481, -2.1968429450957525, 0.1884115433816258, -0.26168481206024646, 0.7273415497579273, 2.299797566491191, 0.8788511743957212, 1.1091884743081923, 0.388275901319309, 0.059801554863223624, 0.7049894936262245, 1.0788069961882627, 0.430901839072723, 0.625095337397016, -0.15792309032785642, 0.45281184157042315, -0.4517714112086825, -1.321525146743949, 0.6769278297715584, -0.66020231086785, 0.02621609074868664, 1.237167600904855, -0.37366966211437025, -0.8374883670259714, -1.7838417355758664, 1.9282931010823163, 0.9403749494318877, 0.30310974524093093, 1.0237472277719784, -0.9817481934613881, -0.7965587873113616, -0.2756526237681351, 0.07193352921125992, 1.3843610975021363, -1.1883473539731926, -1.132010345991311, -1.0217264191012476, 0.7850296917497678, 2.2121655730172725, 0.5932119006791556, -1.439284833023011, -0.7046679703172876, -0.42747316155692994, -1.7867416717823146, -1.3465481460900666, -1.1275245220204797, -0.1920986987537914, 0.2695193429927655, -2.0193794708287247, 0.664330606404295, -2.5251217573612994, 2.195869829867191, 0.6241679103092804, -2.4482135541760828, 2.022834651920917, 1.0827267716967608, -0.006038442634036476, -0.861912397917697, 1.4948604815170339, -0.21769551523968977, -0.26311210258217965, 0.37203035503116805, -0.7976063789805946, -0.557349689706263, 2.148558435514855, -1.074934475018916, -2.799387901627083, 0.2607365043330616]}],                        {\"barmode\": \"overlay\", \"legend\": {\"bgcolor\": \"#F5F6F9\", \"font\": {\"color\": \"#4D5663\"}}, \"paper_bgcolor\": \"#F5F6F9\", \"plot_bgcolor\": \"#F5F6F9\", \"template\": {\"data\": {\"bar\": [{\"error_x\": {\"color\": \"#2a3f5f\"}, \"error_y\": {\"color\": \"#2a3f5f\"}, \"marker\": {\"line\": {\"color\": \"#E5ECF6\", \"width\": 0.5}}, \"type\": \"bar\"}], \"barpolar\": [{\"marker\": {\"line\": {\"color\": \"#E5ECF6\", \"width\": 0.5}}, \"type\": \"barpolar\"}], \"carpet\": [{\"aaxis\": {\"endlinecolor\": \"#2a3f5f\", \"gridcolor\": \"white\", \"linecolor\": \"white\", \"minorgridcolor\": \"white\", \"startlinecolor\": \"#2a3f5f\"}, \"baxis\": {\"endlinecolor\": \"#2a3f5f\", \"gridcolor\": \"white\", \"linecolor\": \"white\", \"minorgridcolor\": \"white\", \"startlinecolor\": \"#2a3f5f\"}, \"type\": \"carpet\"}], \"choropleth\": [{\"colorbar\": {\"outlinewidth\": 0, \"ticks\": \"\"}, \"type\": \"choropleth\"}], \"contour\": [{\"colorbar\": {\"outlinewidth\": 0, \"ticks\": \"\"}, \"colorscale\": [[0.0, \"#0d0887\"], [0.1111111111111111, \"#46039f\"], [0.2222222222222222, \"#7201a8\"], [0.3333333333333333, \"#9c179e\"], [0.4444444444444444, \"#bd3786\"], [0.5555555555555556, \"#d8576b\"], [0.6666666666666666, \"#ed7953\"], [0.7777777777777778, \"#fb9f3a\"], [0.8888888888888888, \"#fdca26\"], [1.0, \"#f0f921\"]], \"type\": \"contour\"}], \"contourcarpet\": [{\"colorbar\": {\"outlinewidth\": 0, \"ticks\": \"\"}, \"type\": \"contourcarpet\"}], \"heatmap\": [{\"colorbar\": {\"outlinewidth\": 0, \"ticks\": \"\"}, \"colorscale\": [[0.0, \"#0d0887\"], [0.1111111111111111, \"#46039f\"], [0.2222222222222222, \"#7201a8\"], [0.3333333333333333, \"#9c179e\"], [0.4444444444444444, \"#bd3786\"], [0.5555555555555556, \"#d8576b\"], [0.6666666666666666, \"#ed7953\"], [0.7777777777777778, \"#fb9f3a\"], [0.8888888888888888, \"#fdca26\"], [1.0, \"#f0f921\"]], \"type\": \"heatmap\"}], \"heatmapgl\": [{\"colorbar\": {\"outlinewidth\": 0, \"ticks\": \"\"}, \"colorscale\": [[0.0, \"#0d0887\"], [0.1111111111111111, \"#46039f\"], [0.2222222222222222, \"#7201a8\"], [0.3333333333333333, \"#9c179e\"], [0.4444444444444444, \"#bd3786\"], [0.5555555555555556, \"#d8576b\"], [0.6666666666666666, \"#ed7953\"], [0.7777777777777778, \"#fb9f3a\"], [0.8888888888888888, \"#fdca26\"], [1.0, \"#f0f921\"]], \"type\": \"heatmapgl\"}], \"histogram\": [{\"marker\": {\"colorbar\": {\"outlinewidth\": 0, \"ticks\": \"\"}}, \"type\": \"histogram\"}], \"histogram2d\": [{\"colorbar\": {\"outlinewidth\": 0, \"ticks\": \"\"}, \"colorscale\": [[0.0, \"#0d0887\"], [0.1111111111111111, \"#46039f\"], [0.2222222222222222, \"#7201a8\"], [0.3333333333333333, \"#9c179e\"], [0.4444444444444444, \"#bd3786\"], [0.5555555555555556, \"#d8576b\"], [0.6666666666666666, \"#ed7953\"], [0.7777777777777778, \"#fb9f3a\"], [0.8888888888888888, \"#fdca26\"], [1.0, \"#f0f921\"]], \"type\": \"histogram2d\"}], \"histogram2dcontour\": [{\"colorbar\": {\"outlinewidth\": 0, \"ticks\": \"\"}, \"colorscale\": [[0.0, \"#0d0887\"], [0.1111111111111111, \"#46039f\"], [0.2222222222222222, \"#7201a8\"], [0.3333333333333333, \"#9c179e\"], [0.4444444444444444, \"#bd3786\"], [0.5555555555555556, \"#d8576b\"], [0.6666666666666666, \"#ed7953\"], [0.7777777777777778, \"#fb9f3a\"], [0.8888888888888888, \"#fdca26\"], [1.0, \"#f0f921\"]], \"type\": \"histogram2dcontour\"}], \"mesh3d\": [{\"colorbar\": {\"outlinewidth\": 0, \"ticks\": \"\"}, \"type\": \"mesh3d\"}], \"parcoords\": [{\"line\": {\"colorbar\": {\"outlinewidth\": 0, \"ticks\": \"\"}}, \"type\": \"parcoords\"}], \"pie\": [{\"automargin\": true, \"type\": \"pie\"}], \"scatter\": [{\"marker\": {\"colorbar\": {\"outlinewidth\": 0, \"ticks\": \"\"}}, \"type\": \"scatter\"}], \"scatter3d\": [{\"line\": {\"colorbar\": {\"outlinewidth\": 0, \"ticks\": \"\"}}, \"marker\": {\"colorbar\": {\"outlinewidth\": 0, \"ticks\": \"\"}}, \"type\": \"scatter3d\"}], \"scattercarpet\": [{\"marker\": {\"colorbar\": {\"outlinewidth\": 0, \"ticks\": \"\"}}, \"type\": \"scattercarpet\"}], \"scattergeo\": [{\"marker\": {\"colorbar\": {\"outlinewidth\": 0, \"ticks\": \"\"}}, \"type\": \"scattergeo\"}], \"scattergl\": [{\"marker\": {\"colorbar\": {\"outlinewidth\": 0, \"ticks\": \"\"}}, \"type\": \"scattergl\"}], \"scattermapbox\": [{\"marker\": {\"colorbar\": {\"outlinewidth\": 0, \"ticks\": \"\"}}, \"type\": \"scattermapbox\"}], \"scatterpolar\": [{\"marker\": {\"colorbar\": {\"outlinewidth\": 0, \"ticks\": \"\"}}, \"type\": \"scatterpolar\"}], \"scatterpolargl\": [{\"marker\": {\"colorbar\": {\"outlinewidth\": 0, \"ticks\": \"\"}}, \"type\": \"scatterpolargl\"}], \"scatterternary\": [{\"marker\": {\"colorbar\": {\"outlinewidth\": 0, \"ticks\": \"\"}}, \"type\": \"scatterternary\"}], \"surface\": [{\"colorbar\": {\"outlinewidth\": 0, \"ticks\": \"\"}, \"colorscale\": [[0.0, \"#0d0887\"], [0.1111111111111111, \"#46039f\"], [0.2222222222222222, \"#7201a8\"], [0.3333333333333333, \"#9c179e\"], [0.4444444444444444, \"#bd3786\"], [0.5555555555555556, \"#d8576b\"], [0.6666666666666666, \"#ed7953\"], [0.7777777777777778, \"#fb9f3a\"], [0.8888888888888888, \"#fdca26\"], [1.0, \"#f0f921\"]], \"type\": \"surface\"}], \"table\": [{\"cells\": {\"fill\": {\"color\": \"#EBF0F8\"}, \"line\": {\"color\": \"white\"}}, \"header\": {\"fill\": {\"color\": \"#C8D4E3\"}, \"line\": {\"color\": \"white\"}}, \"type\": \"table\"}]}, \"layout\": {\"annotationdefaults\": {\"arrowcolor\": \"#2a3f5f\", \"arrowhead\": 0, \"arrowwidth\": 1}, \"autotypenumbers\": \"strict\", \"coloraxis\": {\"colorbar\": {\"outlinewidth\": 0, \"ticks\": \"\"}}, \"colorscale\": {\"diverging\": [[0, \"#8e0152\"], [0.1, \"#c51b7d\"], [0.2, \"#de77ae\"], [0.3, \"#f1b6da\"], [0.4, \"#fde0ef\"], [0.5, \"#f7f7f7\"], [0.6, \"#e6f5d0\"], [0.7, \"#b8e186\"], [0.8, \"#7fbc41\"], [0.9, \"#4d9221\"], [1, \"#276419\"]], \"sequential\": [[0.0, \"#0d0887\"], [0.1111111111111111, \"#46039f\"], [0.2222222222222222, \"#7201a8\"], [0.3333333333333333, \"#9c179e\"], [0.4444444444444444, \"#bd3786\"], [0.5555555555555556, \"#d8576b\"], [0.6666666666666666, \"#ed7953\"], [0.7777777777777778, \"#fb9f3a\"], [0.8888888888888888, \"#fdca26\"], [1.0, \"#f0f921\"]], \"sequentialminus\": [[0.0, \"#0d0887\"], [0.1111111111111111, \"#46039f\"], [0.2222222222222222, \"#7201a8\"], [0.3333333333333333, \"#9c179e\"], [0.4444444444444444, \"#bd3786\"], [0.5555555555555556, \"#d8576b\"], [0.6666666666666666, \"#ed7953\"], [0.7777777777777778, \"#fb9f3a\"], [0.8888888888888888, \"#fdca26\"], [1.0, \"#f0f921\"]]}, \"colorway\": [\"#636efa\", \"#EF553B\", \"#00cc96\", \"#ab63fa\", \"#FFA15A\", \"#19d3f3\", \"#FF6692\", \"#B6E880\", \"#FF97FF\", \"#FECB52\"], \"font\": {\"color\": \"#2a3f5f\"}, \"geo\": {\"bgcolor\": \"white\", \"lakecolor\": \"white\", \"landcolor\": \"#E5ECF6\", \"showlakes\": true, \"showland\": true, \"subunitcolor\": \"white\"}, \"hoverlabel\": {\"align\": \"left\"}, \"hovermode\": \"closest\", \"mapbox\": {\"style\": \"light\"}, \"paper_bgcolor\": \"white\", \"plot_bgcolor\": \"#E5ECF6\", \"polar\": {\"angularaxis\": {\"gridcolor\": \"white\", \"linecolor\": \"white\", \"ticks\": \"\"}, \"bgcolor\": \"#E5ECF6\", \"radialaxis\": {\"gridcolor\": \"white\", \"linecolor\": \"white\", \"ticks\": \"\"}}, \"scene\": {\"xaxis\": {\"backgroundcolor\": \"#E5ECF6\", \"gridcolor\": \"white\", \"gridwidth\": 2, \"linecolor\": \"white\", \"showbackground\": true, \"ticks\": \"\", \"zerolinecolor\": \"white\"}, \"yaxis\": {\"backgroundcolor\": \"#E5ECF6\", \"gridcolor\": \"white\", \"gridwidth\": 2, \"linecolor\": \"white\", \"showbackground\": true, \"ticks\": \"\", \"zerolinecolor\": \"white\"}, \"zaxis\": {\"backgroundcolor\": \"#E5ECF6\", \"gridcolor\": \"white\", \"gridwidth\": 2, \"linecolor\": \"white\", \"showbackground\": true, \"ticks\": \"\", \"zerolinecolor\": \"white\"}}, \"shapedefaults\": {\"line\": {\"color\": \"#2a3f5f\"}}, \"ternary\": {\"aaxis\": {\"gridcolor\": \"white\", \"linecolor\": \"white\", \"ticks\": \"\"}, \"baxis\": {\"gridcolor\": \"white\", \"linecolor\": \"white\", \"ticks\": \"\"}, \"bgcolor\": \"#E5ECF6\", \"caxis\": {\"gridcolor\": \"white\", \"linecolor\": \"white\", \"ticks\": \"\"}}, \"title\": {\"x\": 0.05}, \"xaxis\": {\"automargin\": true, \"gridcolor\": \"white\", \"linecolor\": \"white\", \"ticks\": \"\", \"title\": {\"standoff\": 15}, \"zerolinecolor\": \"white\", \"zerolinewidth\": 2}, \"yaxis\": {\"automargin\": true, \"gridcolor\": \"white\", \"linecolor\": \"white\", \"ticks\": \"\", \"title\": {\"standoff\": 15}, \"zerolinecolor\": \"white\", \"zerolinewidth\": 2}}}, \"title\": {\"font\": {\"color\": \"#4D5663\"}}, \"xaxis\": {\"gridcolor\": \"#E1E5ED\", \"showgrid\": true, \"tickfont\": {\"color\": \"#4D5663\"}, \"title\": {\"font\": {\"color\": \"#4D5663\"}, \"text\": \"\"}, \"zerolinecolor\": \"#E1E5ED\"}, \"yaxis\": {\"gridcolor\": \"#E1E5ED\", \"showgrid\": true, \"tickfont\": {\"color\": \"#4D5663\"}, \"title\": {\"font\": {\"color\": \"#4D5663\"}, \"text\": \"\"}, \"zerolinecolor\": \"#E1E5ED\"}},                        {\"showLink\": true, \"linkText\": \"Export to plot.ly\", \"plotlyServerURL\": \"https://plot.ly\", \"responsive\": true}                    ).then(function(){\n",
       "                            \n",
       "var gd = document.getElementById('fff0a390-222a-4344-98c3-886458e5fbfb');\n",
       "var x = new MutationObserver(function (mutations, observer) {{\n",
       "        var display = window.getComputedStyle(gd).display;\n",
       "        if (!display || display === 'none') {{\n",
       "            console.log([gd, 'removed!']);\n",
       "            Plotly.purge(gd);\n",
       "            observer.disconnect();\n",
       "        }}\n",
       "}});\n",
       "\n",
       "// Listen for the removal of the full notebook cells\n",
       "var notebookContainer = gd.closest('#notebook-container');\n",
       "if (notebookContainer) {{\n",
       "    x.observe(notebookContainer, {childList: true});\n",
       "}}\n",
       "\n",
       "// Listen for the clearing of the current output cell\n",
       "var outputEl = gd.closest('.output');\n",
       "if (outputEl) {{\n",
       "    x.observe(outputEl, {childList: true});\n",
       "}}\n",
       "\n",
       "                        })                };                });            </script>        </div>"
      ]
     },
     "metadata": {},
     "output_type": "display_data"
    }
   ],
   "source": [
    "#Eu posso criar o histograma sem selecionar a coluna, e filtrar o desejado clicando na legenda!\n",
    "df.iplot(kind='hist', bins=30)"
   ]
  },
  {
   "cell_type": "markdown",
   "metadata": {},
   "source": [
    "Acima, eu cliquei na legenda do B e do A, e os valores remanescentes foram A e D!"
   ]
  },
  {
   "cell_type": "code",
   "execution_count": 25,
   "metadata": {
    "scrolled": false
   },
   "outputs": [
    {
     "name": "stderr",
     "output_type": "stream",
     "text": [
      "c:\\users\\joao\\appdata\\local\\programs\\python\\python37\\lib\\site-packages\\cufflinks\\plotlytools.py:849: FutureWarning:\n",
      "\n",
      "The pandas.np module is deprecated and will be removed from pandas in a future version. Import numpy directly instead\n",
      "\n",
      "c:\\users\\joao\\appdata\\local\\programs\\python\\python37\\lib\\site-packages\\cufflinks\\plotlytools.py:850: FutureWarning:\n",
      "\n",
      "The pandas.np module is deprecated and will be removed from pandas in a future version. Import numpy directly instead\n",
      "\n"
     ]
    },
    {
     "data": {
      "application/vnd.plotly.v1+json": {
       "config": {
        "linkText": "Export to plot.ly",
        "plotlyServerURL": "https://plot.ly",
        "showLink": true
       },
       "data": [
        {
         "line": {
          "color": "rgba(255, 153, 51, 1.0)",
          "dash": "solid",
          "shape": "linear",
          "width": 1.3
         },
         "mode": "lines",
         "name": "A",
         "text": "",
         "type": "scatter",
         "x": [
          0,
          1,
          2,
          3,
          4,
          5,
          6,
          7,
          8,
          9,
          10,
          11,
          12,
          13,
          14,
          15,
          16,
          17,
          18,
          19,
          20,
          21,
          22,
          23,
          24,
          25,
          26,
          27,
          28,
          29,
          30,
          31,
          32,
          33,
          34,
          35,
          36,
          37,
          38,
          39,
          40,
          41,
          42,
          43,
          44,
          45,
          46,
          47,
          48,
          49,
          50,
          51,
          52,
          53,
          54,
          55,
          56,
          57,
          58,
          59,
          60,
          61,
          62,
          63,
          64,
          65,
          66,
          67,
          68,
          69,
          70,
          71,
          72,
          73,
          74,
          75,
          76,
          77,
          78,
          79,
          80,
          81,
          82,
          83,
          84,
          85,
          86,
          87,
          88,
          89,
          90,
          91,
          92,
          93,
          94,
          95,
          96,
          97,
          98,
          99
         ],
         "y": [
          -0.07626798862524346,
          0.22540134756441488,
          -0.8057647977006603,
          0.3775230577282411,
          -0.1680604099266579,
          0.8713582072512306,
          -0.08016296132520627,
          2.0793375312602986,
          0.6174946047522917,
          1.3470244023614335,
          -0.45534748125031793,
          1.1567776506639353,
          -0.8740526020125177,
          -0.037407388938710644,
          0.5532512221426178,
          -1.051190550010996,
          -0.35056999351700524,
          1.071823066376621,
          0.9093892370915182,
          -1.0488537815283008,
          -0.4599270555168315,
          1.8602051198265883,
          -0.8249352680142302,
          -1.5106002057662986,
          0.0996067858587673,
          -0.9955831080121025,
          -1.1743481536862996,
          0.798495220365897,
          2.135298305419711,
          -0.918373544679037,
          -1.3292049671635469,
          -1.482014934583836,
          0.4658513332948664,
          1.7175357781491922,
          -0.1606077083412937,
          0.5805593871078475,
          -0.2538847588879203,
          1.0542215320006398,
          -0.4301439180270131,
          -1.2014952657868243,
          0.4460530424636575,
          -0.38016505214183166,
          1.187504657276655,
          1.0092529666759915,
          0.5276280783314551,
          -2.3146759442720812,
          -0.9726633353919516,
          -1.4651901913239982,
          -0.8517523630692322,
          -2.317281604613853,
          -0.14261933190625772,
          -2.077146476047186,
          -0.3251807441512565,
          0.1319632239823357,
          0.7486045945026552,
          0.33685670014918506,
          -0.037845194242645784,
          -1.3667973040236276,
          0.7727164075726849,
          -1.2011494900729764,
          0.2691153645066599,
          -0.7673187313510428,
          0.7313925705637623,
          0.27488086113873705,
          -0.21474757848854253,
          0.9183127839848029,
          0.20274982610001047,
          -1.2321068101491492,
          2.2023622350450003,
          0.22588488340486504,
          -0.21025110889818346,
          -0.06932808427719565,
          -0.330211178580367,
          -1.1630223928019472,
          0.3991187829537466,
          0.26561049183638635,
          0.2489546357507444,
          -1.0363391210443667,
          0.28072456627802256,
          -1.4258804403303178,
          0.34187592095465646,
          -1.1053725354624688,
          -0.7016568221765985,
          0.3193171141371305,
          -1.6882672411213937,
          -0.6384005418166574,
          1.1931023903017663,
          -1.079295557921701,
          0.953153121390354,
          0.4535569514855566,
          -0.6142109560790182,
          1.7927716591736043,
          -2.0886630176573466,
          -0.647956166935598,
          -0.5679356570104203,
          0.6153764784573306,
          1.211953758491585,
          -1.516211074458471,
          -0.6678919354224481,
          0.7549092172063453
         ]
        },
        {
         "line": {
          "color": "rgba(55, 128, 191, 1.0)",
          "dash": "solid",
          "shape": "linear",
          "width": 1.3
         },
         "mode": "lines",
         "name": "B",
         "text": "",
         "type": "scatter",
         "x": [
          0,
          1,
          2,
          3,
          4,
          5,
          6,
          7,
          8,
          9,
          10,
          11,
          12,
          13,
          14,
          15,
          16,
          17,
          18,
          19,
          20,
          21,
          22,
          23,
          24,
          25,
          26,
          27,
          28,
          29,
          30,
          31,
          32,
          33,
          34,
          35,
          36,
          37,
          38,
          39,
          40,
          41,
          42,
          43,
          44,
          45,
          46,
          47,
          48,
          49,
          50,
          51,
          52,
          53,
          54,
          55,
          56,
          57,
          58,
          59,
          60,
          61,
          62,
          63,
          64,
          65,
          66,
          67,
          68,
          69,
          70,
          71,
          72,
          73,
          74,
          75,
          76,
          77,
          78,
          79,
          80,
          81,
          82,
          83,
          84,
          85,
          86,
          87,
          88,
          89,
          90,
          91,
          92,
          93,
          94,
          95,
          96,
          97,
          98,
          99
         ],
         "y": [
          -0.740902655559266,
          -0.08310433278810744,
          -1.251683393405426,
          -1.204225704833254,
          1.0143348303407134,
          -1.0161633496549207,
          -1.7583971257729267,
          1.4521908459282145,
          -0.480368906287327,
          0.5131858057305899,
          0.27503721587001323,
          1.290465634875162,
          1.1124276711007453,
          -1.4899235118041922,
          0.38697483901701935,
          0.4129744286146979,
          2.095129686566982,
          0.8399787083500704,
          0.6710525662253761,
          -0.4681469240612532,
          2.1194359317570535,
          1.038915191126487,
          -0.7172554535302076,
          0.5688903859711237,
          0.826646992545889,
          0.09105518538007447,
          -0.589810469872444,
          -0.1525563108196747,
          -0.3633806409535802,
          0.2692246496286448,
          -0.1395863420602316,
          0.6420796882555284,
          -0.3895501220033279,
          -0.6842852202025996,
          -0.0662269940405855,
          -2.6265164759204436,
          -0.9020476303540725,
          -0.4167566139166744,
          0.7135005499949627,
          -1.094409509953378,
          -1.7596727501739213,
          -1.3221416350039188,
          -1.165871915271899,
          -0.17725703007771632,
          0.07750703246294158,
          -0.4058509152122095,
          1.0113863879667255,
          1.1743453857185353,
          0.1522145118031781,
          -0.7226455063181879,
          -0.9955570686188059,
          0.2765818865175756,
          -1.3549808500418952,
          1.337102837580037,
          -0.08188136453619636,
          -1.04472177658133,
          0.7038632224719813,
          -1.2644862932195187,
          0.3524073622222112,
          -0.46797925694821996,
          0.6379518560397109,
          0.5978368539603639,
          0.1896862075086954,
          0.01498863199058901,
          0.6737610775168448,
          -0.2093368496264277,
          -0.4445627663438925,
          -0.5225801896099493,
          0.11252918692066753,
          0.8218878151077612,
          -0.8365245614729655,
          -0.8260737556521454,
          0.821246020726017,
          1.7053976790292478,
          0.9591926546787697,
          1.0830800300363144,
          -0.7458624482789284,
          0.00978102219508137,
          -0.9888119728575078,
          -1.0526562671556607,
          -0.48038870163723124,
          -0.6569719817113063,
          -0.848735736192335,
          2.190392250125886,
          0.8904709443200586,
          -0.24858231907030764,
          0.9716461842773628,
          -1.0724720077866086,
          0.15156616663461042,
          0.36165937700608153,
          -0.7221361260002299,
          -2.0364234750392334,
          -0.6879418802528297,
          -0.40851358835174423,
          0.9529887543414152,
          -0.15851581650574076,
          -1.4341531957352023,
          0.1659117333162127,
          2.344432739425215,
          0.23891550498788275
         ]
        },
        {
         "connectgaps": false,
         "fill": "tozeroy",
         "line": {
          "color": "green",
          "dash": "solid",
          "shape": "linear",
          "width": 0.5
         },
         "mode": "lines",
         "name": "Spread",
         "showlegend": false,
         "type": "scatter",
         "x": [
          0,
          1,
          2,
          3,
          4,
          5,
          6,
          7,
          8,
          9,
          10,
          11,
          12,
          13,
          14,
          15,
          16,
          17,
          18,
          19,
          20,
          21,
          22,
          23,
          24,
          25,
          26,
          27,
          28,
          29,
          30,
          31,
          32,
          33,
          34,
          35,
          36,
          37,
          38,
          39,
          40,
          41,
          42,
          43,
          44,
          45,
          46,
          47,
          48,
          49,
          50,
          51,
          52,
          53,
          54,
          55,
          56,
          57,
          58,
          59,
          60,
          61,
          62,
          63,
          64,
          65,
          66,
          67,
          68,
          69,
          70,
          71,
          72,
          73,
          74,
          75,
          76,
          77,
          78,
          79,
          80,
          81,
          82,
          83,
          84,
          85,
          86,
          87,
          88,
          89,
          90,
          91,
          92,
          93,
          94,
          95,
          96,
          97,
          98,
          99
         ],
         "xaxis": "x2",
         "y": [
          0.6646346669340226,
          0.30850568035252235,
          0.44591859570476555,
          1.5817487625614952,
          "",
          1.8875215569061514,
          1.6782341644477206,
          0.6271466853320842,
          1.0978635110396187,
          0.8338385966308436,
          "",
          "",
          "",
          1.4525161228654817,
          0.16627638312559845,
          "",
          "",
          0.23184435802655068,
          0.23833667086614208,
          "",
          "",
          0.8212899287001014,
          "",
          "",
          "",
          "",
          "",
          0.9510515311855717,
          2.4986789463732912,
          "",
          "",
          "",
          0.8554014552981943,
          2.4018209983517917,
          "",
          3.207075863028291,
          0.6481628714661523,
          1.4709781459173144,
          "",
          "",
          2.205725792637579,
          0.9419765828620872,
          2.3533765725485543,
          1.1865099967537078,
          0.45012104586851354,
          "",
          "",
          "",
          "",
          "",
          0.8529377367125481,
          "",
          1.0298001058906388,
          "",
          0.8304859590388515,
          1.381578476730515,
          "",
          "",
          0.4203090453504737,
          "",
          "",
          "",
          0.5417063630550669,
          0.259892229148148,
          "",
          1.1276496336112305,
          0.6473125924439029,
          "",
          2.0898330481243326,
          "",
          0.6262734525747821,
          0.7567456713749497,
          "",
          "",
          "",
          "",
          0.9948170840296728,
          "",
          1.2695365391355304,
          "",
          0.8222646225918877,
          "",
          0.14707891401573647,
          "",
          "",
          "",
          0.22145620602440352,
          "",
          0.8015869547557436,
          0.09189757447947505,
          0.1079251699212117,
          3.8291951342128376,
          "",
          "",
          "",
          0.7738922949630713,
          2.646106954226787,
          "",
          "",
          0.5159937122184626
         ],
         "yaxis": "y2"
        },
        {
         "connectgaps": false,
         "fill": "tozeroy",
         "line": {
          "color": "red",
          "dash": "solid",
          "shape": "linear",
          "width": 0.5
         },
         "mode": "lines",
         "name": "Spread",
         "showlegend": false,
         "type": "scatter",
         "x": [
          0,
          1,
          2,
          3,
          4,
          5,
          6,
          7,
          8,
          9,
          10,
          11,
          12,
          13,
          14,
          15,
          16,
          17,
          18,
          19,
          20,
          21,
          22,
          23,
          24,
          25,
          26,
          27,
          28,
          29,
          30,
          31,
          32,
          33,
          34,
          35,
          36,
          37,
          38,
          39,
          40,
          41,
          42,
          43,
          44,
          45,
          46,
          47,
          48,
          49,
          50,
          51,
          52,
          53,
          54,
          55,
          56,
          57,
          58,
          59,
          60,
          61,
          62,
          63,
          64,
          65,
          66,
          67,
          68,
          69,
          70,
          71,
          72,
          73,
          74,
          75,
          76,
          77,
          78,
          79,
          80,
          81,
          82,
          83,
          84,
          85,
          86,
          87,
          88,
          89,
          90,
          91,
          92,
          93,
          94,
          95,
          96,
          97,
          98,
          99
         ],
         "xaxis": "x2",
         "y": [
          "",
          "",
          "",
          "",
          -1.1823952402673712,
          "",
          "",
          "",
          "",
          "",
          -0.7303846971203312,
          -0.13368798421122663,
          -1.986480273113263,
          "",
          "",
          -1.4641649786256938,
          -2.445699680083987,
          "",
          "",
          -0.5807068574670475,
          -2.579362987273885,
          "",
          -0.10767981448402264,
          -2.0794905917374225,
          -0.7270402066871218,
          -1.086638293392177,
          -0.5845376838138556,
          "",
          "",
          -1.1875981943076819,
          -1.1896186251033152,
          -2.1240946228393645,
          "",
          "",
          -0.0943807143007082,
          "",
          "",
          "",
          -1.1436444680219757,
          -0.10708575583344637,
          "",
          "",
          "",
          "",
          "",
          -1.9088250290598716,
          -1.9840497233586771,
          -2.6395355770425333,
          -1.0039668748724102,
          -1.5946360982956653,
          "",
          -2.3537283625647616,
          "",
          -1.2051396135977013,
          "",
          "",
          -0.7417084167146271,
          -0.10231101080410898,
          "",
          -0.7331702331247565,
          -0.36883649153305104,
          -1.3651555853114066,
          "",
          "",
          -0.8885086560053873,
          "",
          "",
          -0.7095266205391999,
          "",
          -0.5960029317028962,
          "",
          "",
          -1.151457199306384,
          -2.8684200718311947,
          -0.5600738717250231,
          -0.817469538199928,
          "",
          -1.046120143239448,
          "",
          -0.37322417317465706,
          "",
          -0.4484005537511625,
          "",
          -1.8710751359887554,
          -2.5787381854414524,
          -0.38981822274634975,
          "",
          -0.006823550135092393,
          "",
          "",
          "",
          "",
          -1.400721137404517,
          -0.23944257858385376,
          -1.5209244113518354,
          "",
          "",
          -1.6821228077746837,
          -3.012324674847663,
          ""
         ],
         "yaxis": "y2"
        }
       ],
       "layout": {
        "hovermode": "x",
        "legend": {
         "bgcolor": "#F5F6F9",
         "font": {
          "color": "#4D5663"
         }
        },
        "paper_bgcolor": "#F5F6F9",
        "plot_bgcolor": "#F5F6F9",
        "template": {
         "data": {
          "bar": [
           {
            "error_x": {
             "color": "#2a3f5f"
            },
            "error_y": {
             "color": "#2a3f5f"
            },
            "marker": {
             "line": {
              "color": "#E5ECF6",
              "width": 0.5
             }
            },
            "type": "bar"
           }
          ],
          "barpolar": [
           {
            "marker": {
             "line": {
              "color": "#E5ECF6",
              "width": 0.5
             }
            },
            "type": "barpolar"
           }
          ],
          "carpet": [
           {
            "aaxis": {
             "endlinecolor": "#2a3f5f",
             "gridcolor": "white",
             "linecolor": "white",
             "minorgridcolor": "white",
             "startlinecolor": "#2a3f5f"
            },
            "baxis": {
             "endlinecolor": "#2a3f5f",
             "gridcolor": "white",
             "linecolor": "white",
             "minorgridcolor": "white",
             "startlinecolor": "#2a3f5f"
            },
            "type": "carpet"
           }
          ],
          "choropleth": [
           {
            "colorbar": {
             "outlinewidth": 0,
             "ticks": ""
            },
            "type": "choropleth"
           }
          ],
          "contour": [
           {
            "colorbar": {
             "outlinewidth": 0,
             "ticks": ""
            },
            "colorscale": [
             [
              0,
              "#0d0887"
             ],
             [
              0.1111111111111111,
              "#46039f"
             ],
             [
              0.2222222222222222,
              "#7201a8"
             ],
             [
              0.3333333333333333,
              "#9c179e"
             ],
             [
              0.4444444444444444,
              "#bd3786"
             ],
             [
              0.5555555555555556,
              "#d8576b"
             ],
             [
              0.6666666666666666,
              "#ed7953"
             ],
             [
              0.7777777777777778,
              "#fb9f3a"
             ],
             [
              0.8888888888888888,
              "#fdca26"
             ],
             [
              1,
              "#f0f921"
             ]
            ],
            "type": "contour"
           }
          ],
          "contourcarpet": [
           {
            "colorbar": {
             "outlinewidth": 0,
             "ticks": ""
            },
            "type": "contourcarpet"
           }
          ],
          "heatmap": [
           {
            "colorbar": {
             "outlinewidth": 0,
             "ticks": ""
            },
            "colorscale": [
             [
              0,
              "#0d0887"
             ],
             [
              0.1111111111111111,
              "#46039f"
             ],
             [
              0.2222222222222222,
              "#7201a8"
             ],
             [
              0.3333333333333333,
              "#9c179e"
             ],
             [
              0.4444444444444444,
              "#bd3786"
             ],
             [
              0.5555555555555556,
              "#d8576b"
             ],
             [
              0.6666666666666666,
              "#ed7953"
             ],
             [
              0.7777777777777778,
              "#fb9f3a"
             ],
             [
              0.8888888888888888,
              "#fdca26"
             ],
             [
              1,
              "#f0f921"
             ]
            ],
            "type": "heatmap"
           }
          ],
          "heatmapgl": [
           {
            "colorbar": {
             "outlinewidth": 0,
             "ticks": ""
            },
            "colorscale": [
             [
              0,
              "#0d0887"
             ],
             [
              0.1111111111111111,
              "#46039f"
             ],
             [
              0.2222222222222222,
              "#7201a8"
             ],
             [
              0.3333333333333333,
              "#9c179e"
             ],
             [
              0.4444444444444444,
              "#bd3786"
             ],
             [
              0.5555555555555556,
              "#d8576b"
             ],
             [
              0.6666666666666666,
              "#ed7953"
             ],
             [
              0.7777777777777778,
              "#fb9f3a"
             ],
             [
              0.8888888888888888,
              "#fdca26"
             ],
             [
              1,
              "#f0f921"
             ]
            ],
            "type": "heatmapgl"
           }
          ],
          "histogram": [
           {
            "marker": {
             "colorbar": {
              "outlinewidth": 0,
              "ticks": ""
             }
            },
            "type": "histogram"
           }
          ],
          "histogram2d": [
           {
            "colorbar": {
             "outlinewidth": 0,
             "ticks": ""
            },
            "colorscale": [
             [
              0,
              "#0d0887"
             ],
             [
              0.1111111111111111,
              "#46039f"
             ],
             [
              0.2222222222222222,
              "#7201a8"
             ],
             [
              0.3333333333333333,
              "#9c179e"
             ],
             [
              0.4444444444444444,
              "#bd3786"
             ],
             [
              0.5555555555555556,
              "#d8576b"
             ],
             [
              0.6666666666666666,
              "#ed7953"
             ],
             [
              0.7777777777777778,
              "#fb9f3a"
             ],
             [
              0.8888888888888888,
              "#fdca26"
             ],
             [
              1,
              "#f0f921"
             ]
            ],
            "type": "histogram2d"
           }
          ],
          "histogram2dcontour": [
           {
            "colorbar": {
             "outlinewidth": 0,
             "ticks": ""
            },
            "colorscale": [
             [
              0,
              "#0d0887"
             ],
             [
              0.1111111111111111,
              "#46039f"
             ],
             [
              0.2222222222222222,
              "#7201a8"
             ],
             [
              0.3333333333333333,
              "#9c179e"
             ],
             [
              0.4444444444444444,
              "#bd3786"
             ],
             [
              0.5555555555555556,
              "#d8576b"
             ],
             [
              0.6666666666666666,
              "#ed7953"
             ],
             [
              0.7777777777777778,
              "#fb9f3a"
             ],
             [
              0.8888888888888888,
              "#fdca26"
             ],
             [
              1,
              "#f0f921"
             ]
            ],
            "type": "histogram2dcontour"
           }
          ],
          "mesh3d": [
           {
            "colorbar": {
             "outlinewidth": 0,
             "ticks": ""
            },
            "type": "mesh3d"
           }
          ],
          "parcoords": [
           {
            "line": {
             "colorbar": {
              "outlinewidth": 0,
              "ticks": ""
             }
            },
            "type": "parcoords"
           }
          ],
          "pie": [
           {
            "automargin": true,
            "type": "pie"
           }
          ],
          "scatter": [
           {
            "marker": {
             "colorbar": {
              "outlinewidth": 0,
              "ticks": ""
             }
            },
            "type": "scatter"
           }
          ],
          "scatter3d": [
           {
            "line": {
             "colorbar": {
              "outlinewidth": 0,
              "ticks": ""
             }
            },
            "marker": {
             "colorbar": {
              "outlinewidth": 0,
              "ticks": ""
             }
            },
            "type": "scatter3d"
           }
          ],
          "scattercarpet": [
           {
            "marker": {
             "colorbar": {
              "outlinewidth": 0,
              "ticks": ""
             }
            },
            "type": "scattercarpet"
           }
          ],
          "scattergeo": [
           {
            "marker": {
             "colorbar": {
              "outlinewidth": 0,
              "ticks": ""
             }
            },
            "type": "scattergeo"
           }
          ],
          "scattergl": [
           {
            "marker": {
             "colorbar": {
              "outlinewidth": 0,
              "ticks": ""
             }
            },
            "type": "scattergl"
           }
          ],
          "scattermapbox": [
           {
            "marker": {
             "colorbar": {
              "outlinewidth": 0,
              "ticks": ""
             }
            },
            "type": "scattermapbox"
           }
          ],
          "scatterpolar": [
           {
            "marker": {
             "colorbar": {
              "outlinewidth": 0,
              "ticks": ""
             }
            },
            "type": "scatterpolar"
           }
          ],
          "scatterpolargl": [
           {
            "marker": {
             "colorbar": {
              "outlinewidth": 0,
              "ticks": ""
             }
            },
            "type": "scatterpolargl"
           }
          ],
          "scatterternary": [
           {
            "marker": {
             "colorbar": {
              "outlinewidth": 0,
              "ticks": ""
             }
            },
            "type": "scatterternary"
           }
          ],
          "surface": [
           {
            "colorbar": {
             "outlinewidth": 0,
             "ticks": ""
            },
            "colorscale": [
             [
              0,
              "#0d0887"
             ],
             [
              0.1111111111111111,
              "#46039f"
             ],
             [
              0.2222222222222222,
              "#7201a8"
             ],
             [
              0.3333333333333333,
              "#9c179e"
             ],
             [
              0.4444444444444444,
              "#bd3786"
             ],
             [
              0.5555555555555556,
              "#d8576b"
             ],
             [
              0.6666666666666666,
              "#ed7953"
             ],
             [
              0.7777777777777778,
              "#fb9f3a"
             ],
             [
              0.8888888888888888,
              "#fdca26"
             ],
             [
              1,
              "#f0f921"
             ]
            ],
            "type": "surface"
           }
          ],
          "table": [
           {
            "cells": {
             "fill": {
              "color": "#EBF0F8"
             },
             "line": {
              "color": "white"
             }
            },
            "header": {
             "fill": {
              "color": "#C8D4E3"
             },
             "line": {
              "color": "white"
             }
            },
            "type": "table"
           }
          ]
         },
         "layout": {
          "annotationdefaults": {
           "arrowcolor": "#2a3f5f",
           "arrowhead": 0,
           "arrowwidth": 1
          },
          "autotypenumbers": "strict",
          "coloraxis": {
           "colorbar": {
            "outlinewidth": 0,
            "ticks": ""
           }
          },
          "colorscale": {
           "diverging": [
            [
             0,
             "#8e0152"
            ],
            [
             0.1,
             "#c51b7d"
            ],
            [
             0.2,
             "#de77ae"
            ],
            [
             0.3,
             "#f1b6da"
            ],
            [
             0.4,
             "#fde0ef"
            ],
            [
             0.5,
             "#f7f7f7"
            ],
            [
             0.6,
             "#e6f5d0"
            ],
            [
             0.7,
             "#b8e186"
            ],
            [
             0.8,
             "#7fbc41"
            ],
            [
             0.9,
             "#4d9221"
            ],
            [
             1,
             "#276419"
            ]
           ],
           "sequential": [
            [
             0,
             "#0d0887"
            ],
            [
             0.1111111111111111,
             "#46039f"
            ],
            [
             0.2222222222222222,
             "#7201a8"
            ],
            [
             0.3333333333333333,
             "#9c179e"
            ],
            [
             0.4444444444444444,
             "#bd3786"
            ],
            [
             0.5555555555555556,
             "#d8576b"
            ],
            [
             0.6666666666666666,
             "#ed7953"
            ],
            [
             0.7777777777777778,
             "#fb9f3a"
            ],
            [
             0.8888888888888888,
             "#fdca26"
            ],
            [
             1,
             "#f0f921"
            ]
           ],
           "sequentialminus": [
            [
             0,
             "#0d0887"
            ],
            [
             0.1111111111111111,
             "#46039f"
            ],
            [
             0.2222222222222222,
             "#7201a8"
            ],
            [
             0.3333333333333333,
             "#9c179e"
            ],
            [
             0.4444444444444444,
             "#bd3786"
            ],
            [
             0.5555555555555556,
             "#d8576b"
            ],
            [
             0.6666666666666666,
             "#ed7953"
            ],
            [
             0.7777777777777778,
             "#fb9f3a"
            ],
            [
             0.8888888888888888,
             "#fdca26"
            ],
            [
             1,
             "#f0f921"
            ]
           ]
          },
          "colorway": [
           "#636efa",
           "#EF553B",
           "#00cc96",
           "#ab63fa",
           "#FFA15A",
           "#19d3f3",
           "#FF6692",
           "#B6E880",
           "#FF97FF",
           "#FECB52"
          ],
          "font": {
           "color": "#2a3f5f"
          },
          "geo": {
           "bgcolor": "white",
           "lakecolor": "white",
           "landcolor": "#E5ECF6",
           "showlakes": true,
           "showland": true,
           "subunitcolor": "white"
          },
          "hoverlabel": {
           "align": "left"
          },
          "hovermode": "closest",
          "mapbox": {
           "style": "light"
          },
          "paper_bgcolor": "white",
          "plot_bgcolor": "#E5ECF6",
          "polar": {
           "angularaxis": {
            "gridcolor": "white",
            "linecolor": "white",
            "ticks": ""
           },
           "bgcolor": "#E5ECF6",
           "radialaxis": {
            "gridcolor": "white",
            "linecolor": "white",
            "ticks": ""
           }
          },
          "scene": {
           "xaxis": {
            "backgroundcolor": "#E5ECF6",
            "gridcolor": "white",
            "gridwidth": 2,
            "linecolor": "white",
            "showbackground": true,
            "ticks": "",
            "zerolinecolor": "white"
           },
           "yaxis": {
            "backgroundcolor": "#E5ECF6",
            "gridcolor": "white",
            "gridwidth": 2,
            "linecolor": "white",
            "showbackground": true,
            "ticks": "",
            "zerolinecolor": "white"
           },
           "zaxis": {
            "backgroundcolor": "#E5ECF6",
            "gridcolor": "white",
            "gridwidth": 2,
            "linecolor": "white",
            "showbackground": true,
            "ticks": "",
            "zerolinecolor": "white"
           }
          },
          "shapedefaults": {
           "line": {
            "color": "#2a3f5f"
           }
          },
          "ternary": {
           "aaxis": {
            "gridcolor": "white",
            "linecolor": "white",
            "ticks": ""
           },
           "baxis": {
            "gridcolor": "white",
            "linecolor": "white",
            "ticks": ""
           },
           "bgcolor": "#E5ECF6",
           "caxis": {
            "gridcolor": "white",
            "linecolor": "white",
            "ticks": ""
           }
          },
          "title": {
           "x": 0.05
          },
          "xaxis": {
           "automargin": true,
           "gridcolor": "white",
           "linecolor": "white",
           "ticks": "",
           "title": {
            "standoff": 15
           },
           "zerolinecolor": "white",
           "zerolinewidth": 2
          },
          "yaxis": {
           "automargin": true,
           "gridcolor": "white",
           "linecolor": "white",
           "ticks": "",
           "title": {
            "standoff": 15
           },
           "zerolinecolor": "white",
           "zerolinewidth": 2
          }
         }
        },
        "title": {
         "font": {
          "color": "#4D5663"
         }
        },
        "xaxis": {
         "gridcolor": "#E1E5ED",
         "showgrid": true,
         "tickfont": {
          "color": "#4D5663"
         },
         "title": {
          "font": {
           "color": "#4D5663"
          },
          "text": ""
         },
         "zerolinecolor": "#E1E5ED"
        },
        "xaxis2": {
         "anchor": "y2",
         "gridcolor": "#E1E5ED",
         "showgrid": true,
         "showticklabels": false,
         "tickfont": {
          "color": "#4D5663"
         },
         "title": {
          "font": {
           "color": "#4D5663"
          },
          "text": ""
         },
         "zerolinecolor": "#E1E5ED"
        },
        "yaxis": {
         "domain": [
          0.3,
          1
         ],
         "gridcolor": "#E1E5ED",
         "showgrid": true,
         "tickfont": {
          "color": "#4D5663"
         },
         "title": {
          "font": {
           "color": "#4D5663"
          },
          "text": ""
         },
         "zerolinecolor": "#E1E5ED"
        },
        "yaxis2": {
         "domain": [
          0,
          0.25
         ],
         "gridcolor": "#E1E5ED",
         "showgrid": true,
         "tickfont": {
          "color": "#4D5663"
         },
         "title": {
          "font": {
           "color": "#4D5663"
          },
          "text": "Spread"
         },
         "zerolinecolor": "#E1E5ED"
        }
       }
      },
      "text/html": [
       "<div>                            <div id=\"2955b479-4d18-4a7e-845a-f91147407556\" class=\"plotly-graph-div\" style=\"height:525px; width:100%;\"></div>            <script type=\"text/javascript\">                require([\"plotly\"], function(Plotly) {                    window.PLOTLYENV=window.PLOTLYENV || {};\n",
       "                    window.PLOTLYENV.BASE_URL='https://plot.ly';                                    if (document.getElementById(\"2955b479-4d18-4a7e-845a-f91147407556\")) {                    Plotly.newPlot(                        \"2955b479-4d18-4a7e-845a-f91147407556\",                        [{\"line\": {\"color\": \"rgba(255, 153, 51, 1.0)\", \"dash\": \"solid\", \"shape\": \"linear\", \"width\": 1.3}, \"mode\": \"lines\", \"name\": \"A\", \"text\": \"\", \"type\": \"scatter\", \"x\": [0, 1, 2, 3, 4, 5, 6, 7, 8, 9, 10, 11, 12, 13, 14, 15, 16, 17, 18, 19, 20, 21, 22, 23, 24, 25, 26, 27, 28, 29, 30, 31, 32, 33, 34, 35, 36, 37, 38, 39, 40, 41, 42, 43, 44, 45, 46, 47, 48, 49, 50, 51, 52, 53, 54, 55, 56, 57, 58, 59, 60, 61, 62, 63, 64, 65, 66, 67, 68, 69, 70, 71, 72, 73, 74, 75, 76, 77, 78, 79, 80, 81, 82, 83, 84, 85, 86, 87, 88, 89, 90, 91, 92, 93, 94, 95, 96, 97, 98, 99], \"y\": [-0.07626798862524346, 0.22540134756441488, -0.8057647977006603, 0.3775230577282411, -0.1680604099266579, 0.8713582072512306, -0.08016296132520627, 2.0793375312602986, 0.6174946047522917, 1.3470244023614335, -0.45534748125031793, 1.1567776506639353, -0.8740526020125177, -0.037407388938710644, 0.5532512221426178, -1.051190550010996, -0.35056999351700524, 1.071823066376621, 0.9093892370915182, -1.0488537815283008, -0.4599270555168315, 1.8602051198265883, -0.8249352680142302, -1.5106002057662986, 0.0996067858587673, -0.9955831080121025, -1.1743481536862996, 0.798495220365897, 2.135298305419711, -0.918373544679037, -1.3292049671635469, -1.482014934583836, 0.4658513332948664, 1.7175357781491922, -0.1606077083412937, 0.5805593871078475, -0.2538847588879203, 1.0542215320006398, -0.4301439180270131, -1.2014952657868243, 0.4460530424636575, -0.38016505214183166, 1.187504657276655, 1.0092529666759915, 0.5276280783314551, -2.3146759442720812, -0.9726633353919516, -1.4651901913239982, -0.8517523630692322, -2.317281604613853, -0.14261933190625772, -2.077146476047186, -0.3251807441512565, 0.1319632239823357, 0.7486045945026552, 0.33685670014918506, -0.037845194242645784, -1.3667973040236276, 0.7727164075726849, -1.2011494900729764, 0.2691153645066599, -0.7673187313510428, 0.7313925705637623, 0.27488086113873705, -0.21474757848854253, 0.9183127839848029, 0.20274982610001047, -1.2321068101491492, 2.2023622350450003, 0.22588488340486504, -0.21025110889818346, -0.06932808427719565, -0.330211178580367, -1.1630223928019472, 0.3991187829537466, 0.26561049183638635, 0.2489546357507444, -1.0363391210443667, 0.28072456627802256, -1.4258804403303178, 0.34187592095465646, -1.1053725354624688, -0.7016568221765985, 0.3193171141371305, -1.6882672411213937, -0.6384005418166574, 1.1931023903017663, -1.079295557921701, 0.953153121390354, 0.4535569514855566, -0.6142109560790182, 1.7927716591736043, -2.0886630176573466, -0.647956166935598, -0.5679356570104203, 0.6153764784573306, 1.211953758491585, -1.516211074458471, -0.6678919354224481, 0.7549092172063453]}, {\"line\": {\"color\": \"rgba(55, 128, 191, 1.0)\", \"dash\": \"solid\", \"shape\": \"linear\", \"width\": 1.3}, \"mode\": \"lines\", \"name\": \"B\", \"text\": \"\", \"type\": \"scatter\", \"x\": [0, 1, 2, 3, 4, 5, 6, 7, 8, 9, 10, 11, 12, 13, 14, 15, 16, 17, 18, 19, 20, 21, 22, 23, 24, 25, 26, 27, 28, 29, 30, 31, 32, 33, 34, 35, 36, 37, 38, 39, 40, 41, 42, 43, 44, 45, 46, 47, 48, 49, 50, 51, 52, 53, 54, 55, 56, 57, 58, 59, 60, 61, 62, 63, 64, 65, 66, 67, 68, 69, 70, 71, 72, 73, 74, 75, 76, 77, 78, 79, 80, 81, 82, 83, 84, 85, 86, 87, 88, 89, 90, 91, 92, 93, 94, 95, 96, 97, 98, 99], \"y\": [-0.740902655559266, -0.08310433278810744, -1.251683393405426, -1.204225704833254, 1.0143348303407134, -1.0161633496549207, -1.7583971257729267, 1.4521908459282145, -0.480368906287327, 0.5131858057305899, 0.27503721587001323, 1.290465634875162, 1.1124276711007453, -1.4899235118041922, 0.38697483901701935, 0.4129744286146979, 2.095129686566982, 0.8399787083500704, 0.6710525662253761, -0.4681469240612532, 2.1194359317570535, 1.038915191126487, -0.7172554535302076, 0.5688903859711237, 0.826646992545889, 0.09105518538007447, -0.589810469872444, -0.1525563108196747, -0.3633806409535802, 0.2692246496286448, -0.1395863420602316, 0.6420796882555284, -0.3895501220033279, -0.6842852202025996, -0.0662269940405855, -2.6265164759204436, -0.9020476303540725, -0.4167566139166744, 0.7135005499949627, -1.094409509953378, -1.7596727501739213, -1.3221416350039188, -1.165871915271899, -0.17725703007771632, 0.07750703246294158, -0.4058509152122095, 1.0113863879667255, 1.1743453857185353, 0.1522145118031781, -0.7226455063181879, -0.9955570686188059, 0.2765818865175756, -1.3549808500418952, 1.337102837580037, -0.08188136453619636, -1.04472177658133, 0.7038632224719813, -1.2644862932195187, 0.3524073622222112, -0.46797925694821996, 0.6379518560397109, 0.5978368539603639, 0.1896862075086954, 0.01498863199058901, 0.6737610775168448, -0.2093368496264277, -0.4445627663438925, -0.5225801896099493, 0.11252918692066753, 0.8218878151077612, -0.8365245614729655, -0.8260737556521454, 0.821246020726017, 1.7053976790292478, 0.9591926546787697, 1.0830800300363144, -0.7458624482789284, 0.00978102219508137, -0.9888119728575078, -1.0526562671556607, -0.48038870163723124, -0.6569719817113063, -0.848735736192335, 2.190392250125886, 0.8904709443200586, -0.24858231907030764, 0.9716461842773628, -1.0724720077866086, 0.15156616663461042, 0.36165937700608153, -0.7221361260002299, -2.0364234750392334, -0.6879418802528297, -0.40851358835174423, 0.9529887543414152, -0.15851581650574076, -1.4341531957352023, 0.1659117333162127, 2.344432739425215, 0.23891550498788275]}, {\"connectgaps\": false, \"fill\": \"tozeroy\", \"line\": {\"color\": \"green\", \"dash\": \"solid\", \"shape\": \"linear\", \"width\": 0.5}, \"mode\": \"lines\", \"name\": \"Spread\", \"showlegend\": false, \"type\": \"scatter\", \"x\": [0, 1, 2, 3, 4, 5, 6, 7, 8, 9, 10, 11, 12, 13, 14, 15, 16, 17, 18, 19, 20, 21, 22, 23, 24, 25, 26, 27, 28, 29, 30, 31, 32, 33, 34, 35, 36, 37, 38, 39, 40, 41, 42, 43, 44, 45, 46, 47, 48, 49, 50, 51, 52, 53, 54, 55, 56, 57, 58, 59, 60, 61, 62, 63, 64, 65, 66, 67, 68, 69, 70, 71, 72, 73, 74, 75, 76, 77, 78, 79, 80, 81, 82, 83, 84, 85, 86, 87, 88, 89, 90, 91, 92, 93, 94, 95, 96, 97, 98, 99], \"xaxis\": \"x2\", \"y\": [0.6646346669340226, 0.30850568035252235, 0.44591859570476555, 1.5817487625614952, \"\", 1.8875215569061514, 1.6782341644477206, 0.6271466853320842, 1.0978635110396187, 0.8338385966308436, \"\", \"\", \"\", 1.4525161228654817, 0.16627638312559845, \"\", \"\", 0.23184435802655068, 0.23833667086614208, \"\", \"\", 0.8212899287001014, \"\", \"\", \"\", \"\", \"\", 0.9510515311855717, 2.4986789463732912, \"\", \"\", \"\", 0.8554014552981943, 2.4018209983517917, \"\", 3.207075863028291, 0.6481628714661523, 1.4709781459173144, \"\", \"\", 2.205725792637579, 0.9419765828620872, 2.3533765725485543, 1.1865099967537078, 0.45012104586851354, \"\", \"\", \"\", \"\", \"\", 0.8529377367125481, \"\", 1.0298001058906388, \"\", 0.8304859590388515, 1.381578476730515, \"\", \"\", 0.4203090453504737, \"\", \"\", \"\", 0.5417063630550669, 0.259892229148148, \"\", 1.1276496336112305, 0.6473125924439029, \"\", 2.0898330481243326, \"\", 0.6262734525747821, 0.7567456713749497, \"\", \"\", \"\", \"\", 0.9948170840296728, \"\", 1.2695365391355304, \"\", 0.8222646225918877, \"\", 0.14707891401573647, \"\", \"\", \"\", 0.22145620602440352, \"\", 0.8015869547557436, 0.09189757447947505, 0.1079251699212117, 3.8291951342128376, \"\", \"\", \"\", 0.7738922949630713, 2.646106954226787, \"\", \"\", 0.5159937122184626], \"yaxis\": \"y2\"}, {\"connectgaps\": false, \"fill\": \"tozeroy\", \"line\": {\"color\": \"red\", \"dash\": \"solid\", \"shape\": \"linear\", \"width\": 0.5}, \"mode\": \"lines\", \"name\": \"Spread\", \"showlegend\": false, \"type\": \"scatter\", \"x\": [0, 1, 2, 3, 4, 5, 6, 7, 8, 9, 10, 11, 12, 13, 14, 15, 16, 17, 18, 19, 20, 21, 22, 23, 24, 25, 26, 27, 28, 29, 30, 31, 32, 33, 34, 35, 36, 37, 38, 39, 40, 41, 42, 43, 44, 45, 46, 47, 48, 49, 50, 51, 52, 53, 54, 55, 56, 57, 58, 59, 60, 61, 62, 63, 64, 65, 66, 67, 68, 69, 70, 71, 72, 73, 74, 75, 76, 77, 78, 79, 80, 81, 82, 83, 84, 85, 86, 87, 88, 89, 90, 91, 92, 93, 94, 95, 96, 97, 98, 99], \"xaxis\": \"x2\", \"y\": [\"\", \"\", \"\", \"\", -1.1823952402673712, \"\", \"\", \"\", \"\", \"\", -0.7303846971203312, -0.13368798421122663, -1.986480273113263, \"\", \"\", -1.4641649786256938, -2.445699680083987, \"\", \"\", -0.5807068574670475, -2.579362987273885, \"\", -0.10767981448402264, -2.0794905917374225, -0.7270402066871218, -1.086638293392177, -0.5845376838138556, \"\", \"\", -1.1875981943076819, -1.1896186251033152, -2.1240946228393645, \"\", \"\", -0.0943807143007082, \"\", \"\", \"\", -1.1436444680219757, -0.10708575583344637, \"\", \"\", \"\", \"\", \"\", -1.9088250290598716, -1.9840497233586771, -2.6395355770425333, -1.0039668748724102, -1.5946360982956653, \"\", -2.3537283625647616, \"\", -1.2051396135977013, \"\", \"\", -0.7417084167146271, -0.10231101080410898, \"\", -0.7331702331247565, -0.36883649153305104, -1.3651555853114066, \"\", \"\", -0.8885086560053873, \"\", \"\", -0.7095266205391999, \"\", -0.5960029317028962, \"\", \"\", -1.151457199306384, -2.8684200718311947, -0.5600738717250231, -0.817469538199928, \"\", -1.046120143239448, \"\", -0.37322417317465706, \"\", -0.4484005537511625, \"\", -1.8710751359887554, -2.5787381854414524, -0.38981822274634975, \"\", -0.006823550135092393, \"\", \"\", \"\", \"\", -1.400721137404517, -0.23944257858385376, -1.5209244113518354, \"\", \"\", -1.6821228077746837, -3.012324674847663, \"\"], \"yaxis\": \"y2\"}],                        {\"hovermode\": \"x\", \"legend\": {\"bgcolor\": \"#F5F6F9\", \"font\": {\"color\": \"#4D5663\"}}, \"paper_bgcolor\": \"#F5F6F9\", \"plot_bgcolor\": \"#F5F6F9\", \"template\": {\"data\": {\"bar\": [{\"error_x\": {\"color\": \"#2a3f5f\"}, \"error_y\": {\"color\": \"#2a3f5f\"}, \"marker\": {\"line\": {\"color\": \"#E5ECF6\", \"width\": 0.5}}, \"type\": \"bar\"}], \"barpolar\": [{\"marker\": {\"line\": {\"color\": \"#E5ECF6\", \"width\": 0.5}}, \"type\": \"barpolar\"}], \"carpet\": [{\"aaxis\": {\"endlinecolor\": \"#2a3f5f\", \"gridcolor\": \"white\", \"linecolor\": \"white\", \"minorgridcolor\": \"white\", \"startlinecolor\": \"#2a3f5f\"}, \"baxis\": {\"endlinecolor\": \"#2a3f5f\", \"gridcolor\": \"white\", \"linecolor\": \"white\", \"minorgridcolor\": \"white\", \"startlinecolor\": \"#2a3f5f\"}, \"type\": \"carpet\"}], \"choropleth\": [{\"colorbar\": {\"outlinewidth\": 0, \"ticks\": \"\"}, \"type\": \"choropleth\"}], \"contour\": [{\"colorbar\": {\"outlinewidth\": 0, \"ticks\": \"\"}, \"colorscale\": [[0.0, \"#0d0887\"], [0.1111111111111111, \"#46039f\"], [0.2222222222222222, \"#7201a8\"], [0.3333333333333333, \"#9c179e\"], [0.4444444444444444, \"#bd3786\"], [0.5555555555555556, \"#d8576b\"], [0.6666666666666666, \"#ed7953\"], [0.7777777777777778, \"#fb9f3a\"], [0.8888888888888888, \"#fdca26\"], [1.0, \"#f0f921\"]], \"type\": \"contour\"}], \"contourcarpet\": [{\"colorbar\": {\"outlinewidth\": 0, \"ticks\": \"\"}, \"type\": \"contourcarpet\"}], \"heatmap\": [{\"colorbar\": {\"outlinewidth\": 0, \"ticks\": \"\"}, \"colorscale\": [[0.0, \"#0d0887\"], [0.1111111111111111, \"#46039f\"], [0.2222222222222222, \"#7201a8\"], [0.3333333333333333, \"#9c179e\"], [0.4444444444444444, \"#bd3786\"], [0.5555555555555556, \"#d8576b\"], [0.6666666666666666, \"#ed7953\"], [0.7777777777777778, \"#fb9f3a\"], [0.8888888888888888, \"#fdca26\"], [1.0, \"#f0f921\"]], \"type\": \"heatmap\"}], \"heatmapgl\": [{\"colorbar\": {\"outlinewidth\": 0, \"ticks\": \"\"}, \"colorscale\": [[0.0, \"#0d0887\"], [0.1111111111111111, \"#46039f\"], [0.2222222222222222, \"#7201a8\"], [0.3333333333333333, \"#9c179e\"], [0.4444444444444444, \"#bd3786\"], [0.5555555555555556, \"#d8576b\"], [0.6666666666666666, \"#ed7953\"], [0.7777777777777778, \"#fb9f3a\"], [0.8888888888888888, \"#fdca26\"], [1.0, \"#f0f921\"]], \"type\": \"heatmapgl\"}], \"histogram\": [{\"marker\": {\"colorbar\": {\"outlinewidth\": 0, \"ticks\": \"\"}}, \"type\": \"histogram\"}], \"histogram2d\": [{\"colorbar\": {\"outlinewidth\": 0, \"ticks\": \"\"}, \"colorscale\": [[0.0, \"#0d0887\"], [0.1111111111111111, \"#46039f\"], [0.2222222222222222, \"#7201a8\"], [0.3333333333333333, \"#9c179e\"], [0.4444444444444444, \"#bd3786\"], [0.5555555555555556, \"#d8576b\"], [0.6666666666666666, \"#ed7953\"], [0.7777777777777778, \"#fb9f3a\"], [0.8888888888888888, \"#fdca26\"], [1.0, \"#f0f921\"]], \"type\": \"histogram2d\"}], \"histogram2dcontour\": [{\"colorbar\": {\"outlinewidth\": 0, \"ticks\": \"\"}, \"colorscale\": [[0.0, \"#0d0887\"], [0.1111111111111111, \"#46039f\"], [0.2222222222222222, \"#7201a8\"], [0.3333333333333333, \"#9c179e\"], [0.4444444444444444, \"#bd3786\"], [0.5555555555555556, \"#d8576b\"], [0.6666666666666666, \"#ed7953\"], [0.7777777777777778, \"#fb9f3a\"], [0.8888888888888888, \"#fdca26\"], [1.0, \"#f0f921\"]], \"type\": \"histogram2dcontour\"}], \"mesh3d\": [{\"colorbar\": {\"outlinewidth\": 0, \"ticks\": \"\"}, \"type\": \"mesh3d\"}], \"parcoords\": [{\"line\": {\"colorbar\": {\"outlinewidth\": 0, \"ticks\": \"\"}}, \"type\": \"parcoords\"}], \"pie\": [{\"automargin\": true, \"type\": \"pie\"}], \"scatter\": [{\"marker\": {\"colorbar\": {\"outlinewidth\": 0, \"ticks\": \"\"}}, \"type\": \"scatter\"}], \"scatter3d\": [{\"line\": {\"colorbar\": {\"outlinewidth\": 0, \"ticks\": \"\"}}, \"marker\": {\"colorbar\": {\"outlinewidth\": 0, \"ticks\": \"\"}}, \"type\": \"scatter3d\"}], \"scattercarpet\": [{\"marker\": {\"colorbar\": {\"outlinewidth\": 0, \"ticks\": \"\"}}, \"type\": \"scattercarpet\"}], \"scattergeo\": [{\"marker\": {\"colorbar\": {\"outlinewidth\": 0, \"ticks\": \"\"}}, \"type\": \"scattergeo\"}], \"scattergl\": [{\"marker\": {\"colorbar\": {\"outlinewidth\": 0, \"ticks\": \"\"}}, \"type\": \"scattergl\"}], \"scattermapbox\": [{\"marker\": {\"colorbar\": {\"outlinewidth\": 0, \"ticks\": \"\"}}, \"type\": \"scattermapbox\"}], \"scatterpolar\": [{\"marker\": {\"colorbar\": {\"outlinewidth\": 0, \"ticks\": \"\"}}, \"type\": \"scatterpolar\"}], \"scatterpolargl\": [{\"marker\": {\"colorbar\": {\"outlinewidth\": 0, \"ticks\": \"\"}}, \"type\": \"scatterpolargl\"}], \"scatterternary\": [{\"marker\": {\"colorbar\": {\"outlinewidth\": 0, \"ticks\": \"\"}}, \"type\": \"scatterternary\"}], \"surface\": [{\"colorbar\": {\"outlinewidth\": 0, \"ticks\": \"\"}, \"colorscale\": [[0.0, \"#0d0887\"], [0.1111111111111111, \"#46039f\"], [0.2222222222222222, \"#7201a8\"], [0.3333333333333333, \"#9c179e\"], [0.4444444444444444, \"#bd3786\"], [0.5555555555555556, \"#d8576b\"], [0.6666666666666666, \"#ed7953\"], [0.7777777777777778, \"#fb9f3a\"], [0.8888888888888888, \"#fdca26\"], [1.0, \"#f0f921\"]], \"type\": \"surface\"}], \"table\": [{\"cells\": {\"fill\": {\"color\": \"#EBF0F8\"}, \"line\": {\"color\": \"white\"}}, \"header\": {\"fill\": {\"color\": \"#C8D4E3\"}, \"line\": {\"color\": \"white\"}}, \"type\": \"table\"}]}, \"layout\": {\"annotationdefaults\": {\"arrowcolor\": \"#2a3f5f\", \"arrowhead\": 0, \"arrowwidth\": 1}, \"autotypenumbers\": \"strict\", \"coloraxis\": {\"colorbar\": {\"outlinewidth\": 0, \"ticks\": \"\"}}, \"colorscale\": {\"diverging\": [[0, \"#8e0152\"], [0.1, \"#c51b7d\"], [0.2, \"#de77ae\"], [0.3, \"#f1b6da\"], [0.4, \"#fde0ef\"], [0.5, \"#f7f7f7\"], [0.6, \"#e6f5d0\"], [0.7, \"#b8e186\"], [0.8, \"#7fbc41\"], [0.9, \"#4d9221\"], [1, \"#276419\"]], \"sequential\": [[0.0, \"#0d0887\"], [0.1111111111111111, \"#46039f\"], [0.2222222222222222, \"#7201a8\"], [0.3333333333333333, \"#9c179e\"], [0.4444444444444444, \"#bd3786\"], [0.5555555555555556, \"#d8576b\"], [0.6666666666666666, \"#ed7953\"], [0.7777777777777778, \"#fb9f3a\"], [0.8888888888888888, \"#fdca26\"], [1.0, \"#f0f921\"]], \"sequentialminus\": [[0.0, \"#0d0887\"], [0.1111111111111111, \"#46039f\"], [0.2222222222222222, \"#7201a8\"], [0.3333333333333333, \"#9c179e\"], [0.4444444444444444, \"#bd3786\"], [0.5555555555555556, \"#d8576b\"], [0.6666666666666666, \"#ed7953\"], [0.7777777777777778, \"#fb9f3a\"], [0.8888888888888888, \"#fdca26\"], [1.0, \"#f0f921\"]]}, \"colorway\": [\"#636efa\", \"#EF553B\", \"#00cc96\", \"#ab63fa\", \"#FFA15A\", \"#19d3f3\", \"#FF6692\", \"#B6E880\", \"#FF97FF\", \"#FECB52\"], \"font\": {\"color\": \"#2a3f5f\"}, \"geo\": {\"bgcolor\": \"white\", \"lakecolor\": \"white\", \"landcolor\": \"#E5ECF6\", \"showlakes\": true, \"showland\": true, \"subunitcolor\": \"white\"}, \"hoverlabel\": {\"align\": \"left\"}, \"hovermode\": \"closest\", \"mapbox\": {\"style\": \"light\"}, \"paper_bgcolor\": \"white\", \"plot_bgcolor\": \"#E5ECF6\", \"polar\": {\"angularaxis\": {\"gridcolor\": \"white\", \"linecolor\": \"white\", \"ticks\": \"\"}, \"bgcolor\": \"#E5ECF6\", \"radialaxis\": {\"gridcolor\": \"white\", \"linecolor\": \"white\", \"ticks\": \"\"}}, \"scene\": {\"xaxis\": {\"backgroundcolor\": \"#E5ECF6\", \"gridcolor\": \"white\", \"gridwidth\": 2, \"linecolor\": \"white\", \"showbackground\": true, \"ticks\": \"\", \"zerolinecolor\": \"white\"}, \"yaxis\": {\"backgroundcolor\": \"#E5ECF6\", \"gridcolor\": \"white\", \"gridwidth\": 2, \"linecolor\": \"white\", \"showbackground\": true, \"ticks\": \"\", \"zerolinecolor\": \"white\"}, \"zaxis\": {\"backgroundcolor\": \"#E5ECF6\", \"gridcolor\": \"white\", \"gridwidth\": 2, \"linecolor\": \"white\", \"showbackground\": true, \"ticks\": \"\", \"zerolinecolor\": \"white\"}}, \"shapedefaults\": {\"line\": {\"color\": \"#2a3f5f\"}}, \"ternary\": {\"aaxis\": {\"gridcolor\": \"white\", \"linecolor\": \"white\", \"ticks\": \"\"}, \"baxis\": {\"gridcolor\": \"white\", \"linecolor\": \"white\", \"ticks\": \"\"}, \"bgcolor\": \"#E5ECF6\", \"caxis\": {\"gridcolor\": \"white\", \"linecolor\": \"white\", \"ticks\": \"\"}}, \"title\": {\"x\": 0.05}, \"xaxis\": {\"automargin\": true, \"gridcolor\": \"white\", \"linecolor\": \"white\", \"ticks\": \"\", \"title\": {\"standoff\": 15}, \"zerolinecolor\": \"white\", \"zerolinewidth\": 2}, \"yaxis\": {\"automargin\": true, \"gridcolor\": \"white\", \"linecolor\": \"white\", \"ticks\": \"\", \"title\": {\"standoff\": 15}, \"zerolinecolor\": \"white\", \"zerolinewidth\": 2}}}, \"title\": {\"font\": {\"color\": \"#4D5663\"}}, \"xaxis\": {\"gridcolor\": \"#E1E5ED\", \"showgrid\": true, \"tickfont\": {\"color\": \"#4D5663\"}, \"title\": {\"font\": {\"color\": \"#4D5663\"}, \"text\": \"\"}, \"zerolinecolor\": \"#E1E5ED\"}, \"xaxis2\": {\"anchor\": \"y2\", \"gridcolor\": \"#E1E5ED\", \"showgrid\": true, \"showticklabels\": false, \"tickfont\": {\"color\": \"#4D5663\"}, \"title\": {\"font\": {\"color\": \"#4D5663\"}, \"text\": \"\"}, \"zerolinecolor\": \"#E1E5ED\"}, \"yaxis\": {\"domain\": [0.3, 1], \"gridcolor\": \"#E1E5ED\", \"showgrid\": true, \"tickfont\": {\"color\": \"#4D5663\"}, \"title\": {\"font\": {\"color\": \"#4D5663\"}, \"text\": \"\"}, \"zerolinecolor\": \"#E1E5ED\"}, \"yaxis2\": {\"domain\": [0, 0.25], \"gridcolor\": \"#E1E5ED\", \"showgrid\": true, \"tickfont\": {\"color\": \"#4D5663\"}, \"title\": {\"font\": {\"color\": \"#4D5663\"}, \"text\": \"Spread\"}, \"zerolinecolor\": \"#E1E5ED\"}},                        {\"showLink\": true, \"linkText\": \"Export to plot.ly\", \"plotlyServerURL\": \"https://plot.ly\", \"responsive\": true}                    ).then(function(){\n",
       "                            \n",
       "var gd = document.getElementById('2955b479-4d18-4a7e-845a-f91147407556');\n",
       "var x = new MutationObserver(function (mutations, observer) {{\n",
       "        var display = window.getComputedStyle(gd).display;\n",
       "        if (!display || display === 'none') {{\n",
       "            console.log([gd, 'removed!']);\n",
       "            Plotly.purge(gd);\n",
       "            observer.disconnect();\n",
       "        }}\n",
       "}});\n",
       "\n",
       "// Listen for the removal of the full notebook cells\n",
       "var notebookContainer = gd.closest('#notebook-container');\n",
       "if (notebookContainer) {{\n",
       "    x.observe(notebookContainer, {childList: true});\n",
       "}}\n",
       "\n",
       "// Listen for the clearing of the current output cell\n",
       "var outputEl = gd.closest('.output');\n",
       "if (outputEl) {{\n",
       "    x.observe(outputEl, {childList: true});\n",
       "}}\n",
       "\n",
       "                        })                };                });            </script>        </div>"
      ]
     },
     "metadata": {},
     "output_type": "display_data"
    }
   ],
   "source": [
    "df[['A', 'B']].iplot(kind='spread')"
   ]
  },
  {
   "cell_type": "markdown",
   "metadata": {},
   "source": [
    "Veja o gráfico acima que interessante! Ele é muito utilizado no ambiente financeiro para comparar ativos! <br><br>\n",
    "\n",
    "O gráfico de cima é apenas uma série temporal, normal, igual ao gráfico de linha que já havíamos visto, mas o gráfico debaixo nos mostra o spread (a diferença entre os valores) de um ativo e outro!"
   ]
  },
  {
   "cell_type": "code",
   "execution_count": 27,
   "metadata": {},
   "outputs": [
    {
     "data": {
      "application/vnd.plotly.v1+json": {
       "config": {
        "linkText": "Export to plot.ly",
        "plotlyServerURL": "https://plot.ly",
        "showLink": true
       },
       "data": [
        {
         "marker": {
          "color": [
           "rgb(255, 153, 51)",
           "rgb(55, 128, 191)",
           "rgb(50, 171, 96)",
           "rgb(128, 0, 128)",
           "rgb(219, 64, 82)",
           "rgb(0, 128, 128)",
           "rgb(255, 255, 51)",
           "rgb(128, 128, 0)",
           "rgb(251, 128, 114)",
           "rgb(128, 177, 211)"
          ],
          "line": {
           "width": 1.3
          },
          "size": [
           54,
           43,
           67,
           85,
           27,
           66,
           62,
           49,
           31,
           67,
           28,
           40,
           37,
           79,
           61,
           69,
           65,
           39,
           43,
           37,
           34,
           70,
           36,
           48,
           27,
           47,
           78,
           52,
           72,
           54,
           41,
           39,
           71,
           80,
           64,
           41,
           38,
           40,
           34,
           40,
           35,
           58,
           94,
           72,
           92,
           64,
           58,
           67,
           59,
           62,
           22,
           35,
           58,
           50,
           41,
           69,
           62,
           63,
           14,
           17,
           81,
           44,
           89,
           61,
           53,
           76,
           37,
           50,
           70,
           53,
           71,
           112,
           50,
           28,
           56,
           30,
           57,
           55,
           78,
           12,
           57,
           81,
           53,
           50,
           56,
           54,
           33,
           42,
           45,
           45,
           36,
           36,
           49,
           79,
           62,
           31,
           47,
           54,
           34,
           73
          ],
          "symbol": "circle"
         },
         "mode": "markers",
         "text": "",
         "type": "scatter",
         "x": [
          -0.07626798862524346,
          0.22540134756441488,
          -0.8057647977006603,
          0.3775230577282411,
          -0.1680604099266579,
          0.8713582072512306,
          -0.08016296132520627,
          2.0793375312602986,
          0.6174946047522917,
          1.3470244023614335,
          -0.45534748125031793,
          1.1567776506639353,
          -0.8740526020125177,
          -0.037407388938710644,
          0.5532512221426178,
          -1.051190550010996,
          -0.35056999351700524,
          1.071823066376621,
          0.9093892370915182,
          -1.0488537815283008,
          -0.4599270555168315,
          1.8602051198265883,
          -0.8249352680142302,
          -1.5106002057662986,
          0.0996067858587673,
          -0.9955831080121025,
          -1.1743481536862996,
          0.798495220365897,
          2.135298305419711,
          -0.918373544679037,
          -1.3292049671635469,
          -1.482014934583836,
          0.4658513332948664,
          1.7175357781491922,
          -0.1606077083412937,
          0.5805593871078475,
          -0.2538847588879203,
          1.0542215320006398,
          -0.4301439180270131,
          -1.2014952657868243,
          0.4460530424636575,
          -0.38016505214183166,
          1.187504657276655,
          1.0092529666759915,
          0.5276280783314551,
          -2.3146759442720812,
          -0.9726633353919516,
          -1.4651901913239982,
          -0.8517523630692322,
          -2.317281604613853,
          -0.14261933190625772,
          -2.077146476047186,
          -0.3251807441512565,
          0.1319632239823357,
          0.7486045945026552,
          0.33685670014918506,
          -0.037845194242645784,
          -1.3667973040236276,
          0.7727164075726849,
          -1.2011494900729764,
          0.2691153645066599,
          -0.7673187313510428,
          0.7313925705637623,
          0.27488086113873705,
          -0.21474757848854253,
          0.9183127839848029,
          0.20274982610001047,
          -1.2321068101491492,
          2.2023622350450003,
          0.22588488340486504,
          -0.21025110889818346,
          -0.06932808427719565,
          -0.330211178580367,
          -1.1630223928019472,
          0.3991187829537466,
          0.26561049183638635,
          0.2489546357507444,
          -1.0363391210443667,
          0.28072456627802256,
          -1.4258804403303178,
          0.34187592095465646,
          -1.1053725354624688,
          -0.7016568221765985,
          0.3193171141371305,
          -1.6882672411213937,
          -0.6384005418166574,
          1.1931023903017663,
          -1.079295557921701,
          0.953153121390354,
          0.4535569514855566,
          -0.6142109560790182,
          1.7927716591736043,
          -2.0886630176573466,
          -0.647956166935598,
          -0.5679356570104203,
          0.6153764784573306,
          1.211953758491585,
          -1.516211074458471,
          -0.6678919354224481,
          0.7549092172063453
         ],
         "y": [
          -0.740902655559266,
          -0.08310433278810744,
          -1.251683393405426,
          -1.204225704833254,
          1.0143348303407134,
          -1.0161633496549207,
          -1.7583971257729267,
          1.4521908459282145,
          -0.480368906287327,
          0.5131858057305899,
          0.27503721587001323,
          1.290465634875162,
          1.1124276711007453,
          -1.4899235118041922,
          0.38697483901701935,
          0.4129744286146979,
          2.095129686566982,
          0.8399787083500704,
          0.6710525662253761,
          -0.4681469240612532,
          2.1194359317570535,
          1.038915191126487,
          -0.7172554535302076,
          0.5688903859711237,
          0.826646992545889,
          0.09105518538007447,
          -0.589810469872444,
          -0.1525563108196747,
          -0.3633806409535802,
          0.2692246496286448,
          -0.1395863420602316,
          0.6420796882555284,
          -0.3895501220033279,
          -0.6842852202025996,
          -0.0662269940405855,
          -2.6265164759204436,
          -0.9020476303540725,
          -0.4167566139166744,
          0.7135005499949627,
          -1.094409509953378,
          -1.7596727501739213,
          -1.3221416350039188,
          -1.165871915271899,
          -0.17725703007771632,
          0.07750703246294158,
          -0.4058509152122095,
          1.0113863879667255,
          1.1743453857185353,
          0.1522145118031781,
          -0.7226455063181879,
          -0.9955570686188059,
          0.2765818865175756,
          -1.3549808500418952,
          1.337102837580037,
          -0.08188136453619636,
          -1.04472177658133,
          0.7038632224719813,
          -1.2644862932195187,
          0.3524073622222112,
          -0.46797925694821996,
          0.6379518560397109,
          0.5978368539603639,
          0.1896862075086954,
          0.01498863199058901,
          0.6737610775168448,
          -0.2093368496264277,
          -0.4445627663438925,
          -0.5225801896099493,
          0.11252918692066753,
          0.8218878151077612,
          -0.8365245614729655,
          -0.8260737556521454,
          0.821246020726017,
          1.7053976790292478,
          0.9591926546787697,
          1.0830800300363144,
          -0.7458624482789284,
          0.00978102219508137,
          -0.9888119728575078,
          -1.0526562671556607,
          -0.48038870163723124,
          -0.6569719817113063,
          -0.848735736192335,
          2.190392250125886,
          0.8904709443200586,
          -0.24858231907030764,
          0.9716461842773628,
          -1.0724720077866086,
          0.15156616663461042,
          0.36165937700608153,
          -0.7221361260002299,
          -2.0364234750392334,
          -0.6879418802528297,
          -0.40851358835174423,
          0.9529887543414152,
          -0.15851581650574076,
          -1.4341531957352023,
          0.1659117333162127,
          2.344432739425215,
          0.23891550498788275
         ]
        }
       ],
       "layout": {
        "legend": {
         "bgcolor": "#F5F6F9",
         "font": {
          "color": "#4D5663"
         }
        },
        "paper_bgcolor": "#F5F6F9",
        "plot_bgcolor": "#F5F6F9",
        "template": {
         "data": {
          "bar": [
           {
            "error_x": {
             "color": "#2a3f5f"
            },
            "error_y": {
             "color": "#2a3f5f"
            },
            "marker": {
             "line": {
              "color": "#E5ECF6",
              "width": 0.5
             }
            },
            "type": "bar"
           }
          ],
          "barpolar": [
           {
            "marker": {
             "line": {
              "color": "#E5ECF6",
              "width": 0.5
             }
            },
            "type": "barpolar"
           }
          ],
          "carpet": [
           {
            "aaxis": {
             "endlinecolor": "#2a3f5f",
             "gridcolor": "white",
             "linecolor": "white",
             "minorgridcolor": "white",
             "startlinecolor": "#2a3f5f"
            },
            "baxis": {
             "endlinecolor": "#2a3f5f",
             "gridcolor": "white",
             "linecolor": "white",
             "minorgridcolor": "white",
             "startlinecolor": "#2a3f5f"
            },
            "type": "carpet"
           }
          ],
          "choropleth": [
           {
            "colorbar": {
             "outlinewidth": 0,
             "ticks": ""
            },
            "type": "choropleth"
           }
          ],
          "contour": [
           {
            "colorbar": {
             "outlinewidth": 0,
             "ticks": ""
            },
            "colorscale": [
             [
              0,
              "#0d0887"
             ],
             [
              0.1111111111111111,
              "#46039f"
             ],
             [
              0.2222222222222222,
              "#7201a8"
             ],
             [
              0.3333333333333333,
              "#9c179e"
             ],
             [
              0.4444444444444444,
              "#bd3786"
             ],
             [
              0.5555555555555556,
              "#d8576b"
             ],
             [
              0.6666666666666666,
              "#ed7953"
             ],
             [
              0.7777777777777778,
              "#fb9f3a"
             ],
             [
              0.8888888888888888,
              "#fdca26"
             ],
             [
              1,
              "#f0f921"
             ]
            ],
            "type": "contour"
           }
          ],
          "contourcarpet": [
           {
            "colorbar": {
             "outlinewidth": 0,
             "ticks": ""
            },
            "type": "contourcarpet"
           }
          ],
          "heatmap": [
           {
            "colorbar": {
             "outlinewidth": 0,
             "ticks": ""
            },
            "colorscale": [
             [
              0,
              "#0d0887"
             ],
             [
              0.1111111111111111,
              "#46039f"
             ],
             [
              0.2222222222222222,
              "#7201a8"
             ],
             [
              0.3333333333333333,
              "#9c179e"
             ],
             [
              0.4444444444444444,
              "#bd3786"
             ],
             [
              0.5555555555555556,
              "#d8576b"
             ],
             [
              0.6666666666666666,
              "#ed7953"
             ],
             [
              0.7777777777777778,
              "#fb9f3a"
             ],
             [
              0.8888888888888888,
              "#fdca26"
             ],
             [
              1,
              "#f0f921"
             ]
            ],
            "type": "heatmap"
           }
          ],
          "heatmapgl": [
           {
            "colorbar": {
             "outlinewidth": 0,
             "ticks": ""
            },
            "colorscale": [
             [
              0,
              "#0d0887"
             ],
             [
              0.1111111111111111,
              "#46039f"
             ],
             [
              0.2222222222222222,
              "#7201a8"
             ],
             [
              0.3333333333333333,
              "#9c179e"
             ],
             [
              0.4444444444444444,
              "#bd3786"
             ],
             [
              0.5555555555555556,
              "#d8576b"
             ],
             [
              0.6666666666666666,
              "#ed7953"
             ],
             [
              0.7777777777777778,
              "#fb9f3a"
             ],
             [
              0.8888888888888888,
              "#fdca26"
             ],
             [
              1,
              "#f0f921"
             ]
            ],
            "type": "heatmapgl"
           }
          ],
          "histogram": [
           {
            "marker": {
             "colorbar": {
              "outlinewidth": 0,
              "ticks": ""
             }
            },
            "type": "histogram"
           }
          ],
          "histogram2d": [
           {
            "colorbar": {
             "outlinewidth": 0,
             "ticks": ""
            },
            "colorscale": [
             [
              0,
              "#0d0887"
             ],
             [
              0.1111111111111111,
              "#46039f"
             ],
             [
              0.2222222222222222,
              "#7201a8"
             ],
             [
              0.3333333333333333,
              "#9c179e"
             ],
             [
              0.4444444444444444,
              "#bd3786"
             ],
             [
              0.5555555555555556,
              "#d8576b"
             ],
             [
              0.6666666666666666,
              "#ed7953"
             ],
             [
              0.7777777777777778,
              "#fb9f3a"
             ],
             [
              0.8888888888888888,
              "#fdca26"
             ],
             [
              1,
              "#f0f921"
             ]
            ],
            "type": "histogram2d"
           }
          ],
          "histogram2dcontour": [
           {
            "colorbar": {
             "outlinewidth": 0,
             "ticks": ""
            },
            "colorscale": [
             [
              0,
              "#0d0887"
             ],
             [
              0.1111111111111111,
              "#46039f"
             ],
             [
              0.2222222222222222,
              "#7201a8"
             ],
             [
              0.3333333333333333,
              "#9c179e"
             ],
             [
              0.4444444444444444,
              "#bd3786"
             ],
             [
              0.5555555555555556,
              "#d8576b"
             ],
             [
              0.6666666666666666,
              "#ed7953"
             ],
             [
              0.7777777777777778,
              "#fb9f3a"
             ],
             [
              0.8888888888888888,
              "#fdca26"
             ],
             [
              1,
              "#f0f921"
             ]
            ],
            "type": "histogram2dcontour"
           }
          ],
          "mesh3d": [
           {
            "colorbar": {
             "outlinewidth": 0,
             "ticks": ""
            },
            "type": "mesh3d"
           }
          ],
          "parcoords": [
           {
            "line": {
             "colorbar": {
              "outlinewidth": 0,
              "ticks": ""
             }
            },
            "type": "parcoords"
           }
          ],
          "pie": [
           {
            "automargin": true,
            "type": "pie"
           }
          ],
          "scatter": [
           {
            "marker": {
             "colorbar": {
              "outlinewidth": 0,
              "ticks": ""
             }
            },
            "type": "scatter"
           }
          ],
          "scatter3d": [
           {
            "line": {
             "colorbar": {
              "outlinewidth": 0,
              "ticks": ""
             }
            },
            "marker": {
             "colorbar": {
              "outlinewidth": 0,
              "ticks": ""
             }
            },
            "type": "scatter3d"
           }
          ],
          "scattercarpet": [
           {
            "marker": {
             "colorbar": {
              "outlinewidth": 0,
              "ticks": ""
             }
            },
            "type": "scattercarpet"
           }
          ],
          "scattergeo": [
           {
            "marker": {
             "colorbar": {
              "outlinewidth": 0,
              "ticks": ""
             }
            },
            "type": "scattergeo"
           }
          ],
          "scattergl": [
           {
            "marker": {
             "colorbar": {
              "outlinewidth": 0,
              "ticks": ""
             }
            },
            "type": "scattergl"
           }
          ],
          "scattermapbox": [
           {
            "marker": {
             "colorbar": {
              "outlinewidth": 0,
              "ticks": ""
             }
            },
            "type": "scattermapbox"
           }
          ],
          "scatterpolar": [
           {
            "marker": {
             "colorbar": {
              "outlinewidth": 0,
              "ticks": ""
             }
            },
            "type": "scatterpolar"
           }
          ],
          "scatterpolargl": [
           {
            "marker": {
             "colorbar": {
              "outlinewidth": 0,
              "ticks": ""
             }
            },
            "type": "scatterpolargl"
           }
          ],
          "scatterternary": [
           {
            "marker": {
             "colorbar": {
              "outlinewidth": 0,
              "ticks": ""
             }
            },
            "type": "scatterternary"
           }
          ],
          "surface": [
           {
            "colorbar": {
             "outlinewidth": 0,
             "ticks": ""
            },
            "colorscale": [
             [
              0,
              "#0d0887"
             ],
             [
              0.1111111111111111,
              "#46039f"
             ],
             [
              0.2222222222222222,
              "#7201a8"
             ],
             [
              0.3333333333333333,
              "#9c179e"
             ],
             [
              0.4444444444444444,
              "#bd3786"
             ],
             [
              0.5555555555555556,
              "#d8576b"
             ],
             [
              0.6666666666666666,
              "#ed7953"
             ],
             [
              0.7777777777777778,
              "#fb9f3a"
             ],
             [
              0.8888888888888888,
              "#fdca26"
             ],
             [
              1,
              "#f0f921"
             ]
            ],
            "type": "surface"
           }
          ],
          "table": [
           {
            "cells": {
             "fill": {
              "color": "#EBF0F8"
             },
             "line": {
              "color": "white"
             }
            },
            "header": {
             "fill": {
              "color": "#C8D4E3"
             },
             "line": {
              "color": "white"
             }
            },
            "type": "table"
           }
          ]
         },
         "layout": {
          "annotationdefaults": {
           "arrowcolor": "#2a3f5f",
           "arrowhead": 0,
           "arrowwidth": 1
          },
          "autotypenumbers": "strict",
          "coloraxis": {
           "colorbar": {
            "outlinewidth": 0,
            "ticks": ""
           }
          },
          "colorscale": {
           "diverging": [
            [
             0,
             "#8e0152"
            ],
            [
             0.1,
             "#c51b7d"
            ],
            [
             0.2,
             "#de77ae"
            ],
            [
             0.3,
             "#f1b6da"
            ],
            [
             0.4,
             "#fde0ef"
            ],
            [
             0.5,
             "#f7f7f7"
            ],
            [
             0.6,
             "#e6f5d0"
            ],
            [
             0.7,
             "#b8e186"
            ],
            [
             0.8,
             "#7fbc41"
            ],
            [
             0.9,
             "#4d9221"
            ],
            [
             1,
             "#276419"
            ]
           ],
           "sequential": [
            [
             0,
             "#0d0887"
            ],
            [
             0.1111111111111111,
             "#46039f"
            ],
            [
             0.2222222222222222,
             "#7201a8"
            ],
            [
             0.3333333333333333,
             "#9c179e"
            ],
            [
             0.4444444444444444,
             "#bd3786"
            ],
            [
             0.5555555555555556,
             "#d8576b"
            ],
            [
             0.6666666666666666,
             "#ed7953"
            ],
            [
             0.7777777777777778,
             "#fb9f3a"
            ],
            [
             0.8888888888888888,
             "#fdca26"
            ],
            [
             1,
             "#f0f921"
            ]
           ],
           "sequentialminus": [
            [
             0,
             "#0d0887"
            ],
            [
             0.1111111111111111,
             "#46039f"
            ],
            [
             0.2222222222222222,
             "#7201a8"
            ],
            [
             0.3333333333333333,
             "#9c179e"
            ],
            [
             0.4444444444444444,
             "#bd3786"
            ],
            [
             0.5555555555555556,
             "#d8576b"
            ],
            [
             0.6666666666666666,
             "#ed7953"
            ],
            [
             0.7777777777777778,
             "#fb9f3a"
            ],
            [
             0.8888888888888888,
             "#fdca26"
            ],
            [
             1,
             "#f0f921"
            ]
           ]
          },
          "colorway": [
           "#636efa",
           "#EF553B",
           "#00cc96",
           "#ab63fa",
           "#FFA15A",
           "#19d3f3",
           "#FF6692",
           "#B6E880",
           "#FF97FF",
           "#FECB52"
          ],
          "font": {
           "color": "#2a3f5f"
          },
          "geo": {
           "bgcolor": "white",
           "lakecolor": "white",
           "landcolor": "#E5ECF6",
           "showlakes": true,
           "showland": true,
           "subunitcolor": "white"
          },
          "hoverlabel": {
           "align": "left"
          },
          "hovermode": "closest",
          "mapbox": {
           "style": "light"
          },
          "paper_bgcolor": "white",
          "plot_bgcolor": "#E5ECF6",
          "polar": {
           "angularaxis": {
            "gridcolor": "white",
            "linecolor": "white",
            "ticks": ""
           },
           "bgcolor": "#E5ECF6",
           "radialaxis": {
            "gridcolor": "white",
            "linecolor": "white",
            "ticks": ""
           }
          },
          "scene": {
           "xaxis": {
            "backgroundcolor": "#E5ECF6",
            "gridcolor": "white",
            "gridwidth": 2,
            "linecolor": "white",
            "showbackground": true,
            "ticks": "",
            "zerolinecolor": "white"
           },
           "yaxis": {
            "backgroundcolor": "#E5ECF6",
            "gridcolor": "white",
            "gridwidth": 2,
            "linecolor": "white",
            "showbackground": true,
            "ticks": "",
            "zerolinecolor": "white"
           },
           "zaxis": {
            "backgroundcolor": "#E5ECF6",
            "gridcolor": "white",
            "gridwidth": 2,
            "linecolor": "white",
            "showbackground": true,
            "ticks": "",
            "zerolinecolor": "white"
           }
          },
          "shapedefaults": {
           "line": {
            "color": "#2a3f5f"
           }
          },
          "ternary": {
           "aaxis": {
            "gridcolor": "white",
            "linecolor": "white",
            "ticks": ""
           },
           "baxis": {
            "gridcolor": "white",
            "linecolor": "white",
            "ticks": ""
           },
           "bgcolor": "#E5ECF6",
           "caxis": {
            "gridcolor": "white",
            "linecolor": "white",
            "ticks": ""
           }
          },
          "title": {
           "x": 0.05
          },
          "xaxis": {
           "automargin": true,
           "gridcolor": "white",
           "linecolor": "white",
           "ticks": "",
           "title": {
            "standoff": 15
           },
           "zerolinecolor": "white",
           "zerolinewidth": 2
          },
          "yaxis": {
           "automargin": true,
           "gridcolor": "white",
           "linecolor": "white",
           "ticks": "",
           "title": {
            "standoff": 15
           },
           "zerolinecolor": "white",
           "zerolinewidth": 2
          }
         }
        },
        "title": {
         "font": {
          "color": "#4D5663"
         }
        },
        "xaxis": {
         "gridcolor": "#E1E5ED",
         "showgrid": true,
         "tickfont": {
          "color": "#4D5663"
         },
         "title": {
          "font": {
           "color": "#4D5663"
          },
          "text": ""
         },
         "zerolinecolor": "#E1E5ED"
        },
        "yaxis": {
         "gridcolor": "#E1E5ED",
         "showgrid": true,
         "tickfont": {
          "color": "#4D5663"
         },
         "title": {
          "font": {
           "color": "#4D5663"
          },
          "text": ""
         },
         "zerolinecolor": "#E1E5ED"
        }
       }
      },
      "text/html": [
       "<div>                            <div id=\"7cd9e4ee-f886-449b-9bc1-b5d06ebb83f6\" class=\"plotly-graph-div\" style=\"height:525px; width:100%;\"></div>            <script type=\"text/javascript\">                require([\"plotly\"], function(Plotly) {                    window.PLOTLYENV=window.PLOTLYENV || {};\n",
       "                    window.PLOTLYENV.BASE_URL='https://plot.ly';                                    if (document.getElementById(\"7cd9e4ee-f886-449b-9bc1-b5d06ebb83f6\")) {                    Plotly.newPlot(                        \"7cd9e4ee-f886-449b-9bc1-b5d06ebb83f6\",                        [{\"marker\": {\"color\": [\"rgb(255, 153, 51)\", \"rgb(55, 128, 191)\", \"rgb(50, 171, 96)\", \"rgb(128, 0, 128)\", \"rgb(219, 64, 82)\", \"rgb(0, 128, 128)\", \"rgb(255, 255, 51)\", \"rgb(128, 128, 0)\", \"rgb(251, 128, 114)\", \"rgb(128, 177, 211)\"], \"line\": {\"width\": 1.3}, \"size\": [54, 43, 67, 85, 27, 66, 62, 49, 31, 67, 28, 40, 37, 79, 61, 69, 65, 39, 43, 37, 34, 70, 36, 48, 27, 47, 78, 52, 72, 54, 41, 39, 71, 80, 64, 41, 38, 40, 34, 40, 35, 58, 94, 72, 92, 64, 58, 67, 59, 62, 22, 35, 58, 50, 41, 69, 62, 63, 14, 17, 81, 44, 89, 61, 53, 76, 37, 50, 70, 53, 71, 112, 50, 28, 56, 30, 57, 55, 78, 12, 57, 81, 53, 50, 56, 54, 33, 42, 45, 45, 36, 36, 49, 79, 62, 31, 47, 54, 34, 73], \"symbol\": \"circle\"}, \"mode\": \"markers\", \"text\": \"\", \"type\": \"scatter\", \"x\": [-0.07626798862524346, 0.22540134756441488, -0.8057647977006603, 0.3775230577282411, -0.1680604099266579, 0.8713582072512306, -0.08016296132520627, 2.0793375312602986, 0.6174946047522917, 1.3470244023614335, -0.45534748125031793, 1.1567776506639353, -0.8740526020125177, -0.037407388938710644, 0.5532512221426178, -1.051190550010996, -0.35056999351700524, 1.071823066376621, 0.9093892370915182, -1.0488537815283008, -0.4599270555168315, 1.8602051198265883, -0.8249352680142302, -1.5106002057662986, 0.0996067858587673, -0.9955831080121025, -1.1743481536862996, 0.798495220365897, 2.135298305419711, -0.918373544679037, -1.3292049671635469, -1.482014934583836, 0.4658513332948664, 1.7175357781491922, -0.1606077083412937, 0.5805593871078475, -0.2538847588879203, 1.0542215320006398, -0.4301439180270131, -1.2014952657868243, 0.4460530424636575, -0.38016505214183166, 1.187504657276655, 1.0092529666759915, 0.5276280783314551, -2.3146759442720812, -0.9726633353919516, -1.4651901913239982, -0.8517523630692322, -2.317281604613853, -0.14261933190625772, -2.077146476047186, -0.3251807441512565, 0.1319632239823357, 0.7486045945026552, 0.33685670014918506, -0.037845194242645784, -1.3667973040236276, 0.7727164075726849, -1.2011494900729764, 0.2691153645066599, -0.7673187313510428, 0.7313925705637623, 0.27488086113873705, -0.21474757848854253, 0.9183127839848029, 0.20274982610001047, -1.2321068101491492, 2.2023622350450003, 0.22588488340486504, -0.21025110889818346, -0.06932808427719565, -0.330211178580367, -1.1630223928019472, 0.3991187829537466, 0.26561049183638635, 0.2489546357507444, -1.0363391210443667, 0.28072456627802256, -1.4258804403303178, 0.34187592095465646, -1.1053725354624688, -0.7016568221765985, 0.3193171141371305, -1.6882672411213937, -0.6384005418166574, 1.1931023903017663, -1.079295557921701, 0.953153121390354, 0.4535569514855566, -0.6142109560790182, 1.7927716591736043, -2.0886630176573466, -0.647956166935598, -0.5679356570104203, 0.6153764784573306, 1.211953758491585, -1.516211074458471, -0.6678919354224481, 0.7549092172063453], \"y\": [-0.740902655559266, -0.08310433278810744, -1.251683393405426, -1.204225704833254, 1.0143348303407134, -1.0161633496549207, -1.7583971257729267, 1.4521908459282145, -0.480368906287327, 0.5131858057305899, 0.27503721587001323, 1.290465634875162, 1.1124276711007453, -1.4899235118041922, 0.38697483901701935, 0.4129744286146979, 2.095129686566982, 0.8399787083500704, 0.6710525662253761, -0.4681469240612532, 2.1194359317570535, 1.038915191126487, -0.7172554535302076, 0.5688903859711237, 0.826646992545889, 0.09105518538007447, -0.589810469872444, -0.1525563108196747, -0.3633806409535802, 0.2692246496286448, -0.1395863420602316, 0.6420796882555284, -0.3895501220033279, -0.6842852202025996, -0.0662269940405855, -2.6265164759204436, -0.9020476303540725, -0.4167566139166744, 0.7135005499949627, -1.094409509953378, -1.7596727501739213, -1.3221416350039188, -1.165871915271899, -0.17725703007771632, 0.07750703246294158, -0.4058509152122095, 1.0113863879667255, 1.1743453857185353, 0.1522145118031781, -0.7226455063181879, -0.9955570686188059, 0.2765818865175756, -1.3549808500418952, 1.337102837580037, -0.08188136453619636, -1.04472177658133, 0.7038632224719813, -1.2644862932195187, 0.3524073622222112, -0.46797925694821996, 0.6379518560397109, 0.5978368539603639, 0.1896862075086954, 0.01498863199058901, 0.6737610775168448, -0.2093368496264277, -0.4445627663438925, -0.5225801896099493, 0.11252918692066753, 0.8218878151077612, -0.8365245614729655, -0.8260737556521454, 0.821246020726017, 1.7053976790292478, 0.9591926546787697, 1.0830800300363144, -0.7458624482789284, 0.00978102219508137, -0.9888119728575078, -1.0526562671556607, -0.48038870163723124, -0.6569719817113063, -0.848735736192335, 2.190392250125886, 0.8904709443200586, -0.24858231907030764, 0.9716461842773628, -1.0724720077866086, 0.15156616663461042, 0.36165937700608153, -0.7221361260002299, -2.0364234750392334, -0.6879418802528297, -0.40851358835174423, 0.9529887543414152, -0.15851581650574076, -1.4341531957352023, 0.1659117333162127, 2.344432739425215, 0.23891550498788275]}],                        {\"legend\": {\"bgcolor\": \"#F5F6F9\", \"font\": {\"color\": \"#4D5663\"}}, \"paper_bgcolor\": \"#F5F6F9\", \"plot_bgcolor\": \"#F5F6F9\", \"template\": {\"data\": {\"bar\": [{\"error_x\": {\"color\": \"#2a3f5f\"}, \"error_y\": {\"color\": \"#2a3f5f\"}, \"marker\": {\"line\": {\"color\": \"#E5ECF6\", \"width\": 0.5}}, \"type\": \"bar\"}], \"barpolar\": [{\"marker\": {\"line\": {\"color\": \"#E5ECF6\", \"width\": 0.5}}, \"type\": \"barpolar\"}], \"carpet\": [{\"aaxis\": {\"endlinecolor\": \"#2a3f5f\", \"gridcolor\": \"white\", \"linecolor\": \"white\", \"minorgridcolor\": \"white\", \"startlinecolor\": \"#2a3f5f\"}, \"baxis\": {\"endlinecolor\": \"#2a3f5f\", \"gridcolor\": \"white\", \"linecolor\": \"white\", \"minorgridcolor\": \"white\", \"startlinecolor\": \"#2a3f5f\"}, \"type\": \"carpet\"}], \"choropleth\": [{\"colorbar\": {\"outlinewidth\": 0, \"ticks\": \"\"}, \"type\": \"choropleth\"}], \"contour\": [{\"colorbar\": {\"outlinewidth\": 0, \"ticks\": \"\"}, \"colorscale\": [[0.0, \"#0d0887\"], [0.1111111111111111, \"#46039f\"], [0.2222222222222222, \"#7201a8\"], [0.3333333333333333, \"#9c179e\"], [0.4444444444444444, \"#bd3786\"], [0.5555555555555556, \"#d8576b\"], [0.6666666666666666, \"#ed7953\"], [0.7777777777777778, \"#fb9f3a\"], [0.8888888888888888, \"#fdca26\"], [1.0, \"#f0f921\"]], \"type\": \"contour\"}], \"contourcarpet\": [{\"colorbar\": {\"outlinewidth\": 0, \"ticks\": \"\"}, \"type\": \"contourcarpet\"}], \"heatmap\": [{\"colorbar\": {\"outlinewidth\": 0, \"ticks\": \"\"}, \"colorscale\": [[0.0, \"#0d0887\"], [0.1111111111111111, \"#46039f\"], [0.2222222222222222, \"#7201a8\"], [0.3333333333333333, \"#9c179e\"], [0.4444444444444444, \"#bd3786\"], [0.5555555555555556, \"#d8576b\"], [0.6666666666666666, \"#ed7953\"], [0.7777777777777778, \"#fb9f3a\"], [0.8888888888888888, \"#fdca26\"], [1.0, \"#f0f921\"]], \"type\": \"heatmap\"}], \"heatmapgl\": [{\"colorbar\": {\"outlinewidth\": 0, \"ticks\": \"\"}, \"colorscale\": [[0.0, \"#0d0887\"], [0.1111111111111111, \"#46039f\"], [0.2222222222222222, \"#7201a8\"], [0.3333333333333333, \"#9c179e\"], [0.4444444444444444, \"#bd3786\"], [0.5555555555555556, \"#d8576b\"], [0.6666666666666666, \"#ed7953\"], [0.7777777777777778, \"#fb9f3a\"], [0.8888888888888888, \"#fdca26\"], [1.0, \"#f0f921\"]], \"type\": \"heatmapgl\"}], \"histogram\": [{\"marker\": {\"colorbar\": {\"outlinewidth\": 0, \"ticks\": \"\"}}, \"type\": \"histogram\"}], \"histogram2d\": [{\"colorbar\": {\"outlinewidth\": 0, \"ticks\": \"\"}, \"colorscale\": [[0.0, \"#0d0887\"], [0.1111111111111111, \"#46039f\"], [0.2222222222222222, \"#7201a8\"], [0.3333333333333333, \"#9c179e\"], [0.4444444444444444, \"#bd3786\"], [0.5555555555555556, \"#d8576b\"], [0.6666666666666666, \"#ed7953\"], [0.7777777777777778, \"#fb9f3a\"], [0.8888888888888888, \"#fdca26\"], [1.0, \"#f0f921\"]], \"type\": \"histogram2d\"}], \"histogram2dcontour\": [{\"colorbar\": {\"outlinewidth\": 0, \"ticks\": \"\"}, \"colorscale\": [[0.0, \"#0d0887\"], [0.1111111111111111, \"#46039f\"], [0.2222222222222222, \"#7201a8\"], [0.3333333333333333, \"#9c179e\"], [0.4444444444444444, \"#bd3786\"], [0.5555555555555556, \"#d8576b\"], [0.6666666666666666, \"#ed7953\"], [0.7777777777777778, \"#fb9f3a\"], [0.8888888888888888, \"#fdca26\"], [1.0, \"#f0f921\"]], \"type\": \"histogram2dcontour\"}], \"mesh3d\": [{\"colorbar\": {\"outlinewidth\": 0, \"ticks\": \"\"}, \"type\": \"mesh3d\"}], \"parcoords\": [{\"line\": {\"colorbar\": {\"outlinewidth\": 0, \"ticks\": \"\"}}, \"type\": \"parcoords\"}], \"pie\": [{\"automargin\": true, \"type\": \"pie\"}], \"scatter\": [{\"marker\": {\"colorbar\": {\"outlinewidth\": 0, \"ticks\": \"\"}}, \"type\": \"scatter\"}], \"scatter3d\": [{\"line\": {\"colorbar\": {\"outlinewidth\": 0, \"ticks\": \"\"}}, \"marker\": {\"colorbar\": {\"outlinewidth\": 0, \"ticks\": \"\"}}, \"type\": \"scatter3d\"}], \"scattercarpet\": [{\"marker\": {\"colorbar\": {\"outlinewidth\": 0, \"ticks\": \"\"}}, \"type\": \"scattercarpet\"}], \"scattergeo\": [{\"marker\": {\"colorbar\": {\"outlinewidth\": 0, \"ticks\": \"\"}}, \"type\": \"scattergeo\"}], \"scattergl\": [{\"marker\": {\"colorbar\": {\"outlinewidth\": 0, \"ticks\": \"\"}}, \"type\": \"scattergl\"}], \"scattermapbox\": [{\"marker\": {\"colorbar\": {\"outlinewidth\": 0, \"ticks\": \"\"}}, \"type\": \"scattermapbox\"}], \"scatterpolar\": [{\"marker\": {\"colorbar\": {\"outlinewidth\": 0, \"ticks\": \"\"}}, \"type\": \"scatterpolar\"}], \"scatterpolargl\": [{\"marker\": {\"colorbar\": {\"outlinewidth\": 0, \"ticks\": \"\"}}, \"type\": \"scatterpolargl\"}], \"scatterternary\": [{\"marker\": {\"colorbar\": {\"outlinewidth\": 0, \"ticks\": \"\"}}, \"type\": \"scatterternary\"}], \"surface\": [{\"colorbar\": {\"outlinewidth\": 0, \"ticks\": \"\"}, \"colorscale\": [[0.0, \"#0d0887\"], [0.1111111111111111, \"#46039f\"], [0.2222222222222222, \"#7201a8\"], [0.3333333333333333, \"#9c179e\"], [0.4444444444444444, \"#bd3786\"], [0.5555555555555556, \"#d8576b\"], [0.6666666666666666, \"#ed7953\"], [0.7777777777777778, \"#fb9f3a\"], [0.8888888888888888, \"#fdca26\"], [1.0, \"#f0f921\"]], \"type\": \"surface\"}], \"table\": [{\"cells\": {\"fill\": {\"color\": \"#EBF0F8\"}, \"line\": {\"color\": \"white\"}}, \"header\": {\"fill\": {\"color\": \"#C8D4E3\"}, \"line\": {\"color\": \"white\"}}, \"type\": \"table\"}]}, \"layout\": {\"annotationdefaults\": {\"arrowcolor\": \"#2a3f5f\", \"arrowhead\": 0, \"arrowwidth\": 1}, \"autotypenumbers\": \"strict\", \"coloraxis\": {\"colorbar\": {\"outlinewidth\": 0, \"ticks\": \"\"}}, \"colorscale\": {\"diverging\": [[0, \"#8e0152\"], [0.1, \"#c51b7d\"], [0.2, \"#de77ae\"], [0.3, \"#f1b6da\"], [0.4, \"#fde0ef\"], [0.5, \"#f7f7f7\"], [0.6, \"#e6f5d0\"], [0.7, \"#b8e186\"], [0.8, \"#7fbc41\"], [0.9, \"#4d9221\"], [1, \"#276419\"]], \"sequential\": [[0.0, \"#0d0887\"], [0.1111111111111111, \"#46039f\"], [0.2222222222222222, \"#7201a8\"], [0.3333333333333333, \"#9c179e\"], [0.4444444444444444, \"#bd3786\"], [0.5555555555555556, \"#d8576b\"], [0.6666666666666666, \"#ed7953\"], [0.7777777777777778, \"#fb9f3a\"], [0.8888888888888888, \"#fdca26\"], [1.0, \"#f0f921\"]], \"sequentialminus\": [[0.0, \"#0d0887\"], [0.1111111111111111, \"#46039f\"], [0.2222222222222222, \"#7201a8\"], [0.3333333333333333, \"#9c179e\"], [0.4444444444444444, \"#bd3786\"], [0.5555555555555556, \"#d8576b\"], [0.6666666666666666, \"#ed7953\"], [0.7777777777777778, \"#fb9f3a\"], [0.8888888888888888, \"#fdca26\"], [1.0, \"#f0f921\"]]}, \"colorway\": [\"#636efa\", \"#EF553B\", \"#00cc96\", \"#ab63fa\", \"#FFA15A\", \"#19d3f3\", \"#FF6692\", \"#B6E880\", \"#FF97FF\", \"#FECB52\"], \"font\": {\"color\": \"#2a3f5f\"}, \"geo\": {\"bgcolor\": \"white\", \"lakecolor\": \"white\", \"landcolor\": \"#E5ECF6\", \"showlakes\": true, \"showland\": true, \"subunitcolor\": \"white\"}, \"hoverlabel\": {\"align\": \"left\"}, \"hovermode\": \"closest\", \"mapbox\": {\"style\": \"light\"}, \"paper_bgcolor\": \"white\", \"plot_bgcolor\": \"#E5ECF6\", \"polar\": {\"angularaxis\": {\"gridcolor\": \"white\", \"linecolor\": \"white\", \"ticks\": \"\"}, \"bgcolor\": \"#E5ECF6\", \"radialaxis\": {\"gridcolor\": \"white\", \"linecolor\": \"white\", \"ticks\": \"\"}}, \"scene\": {\"xaxis\": {\"backgroundcolor\": \"#E5ECF6\", \"gridcolor\": \"white\", \"gridwidth\": 2, \"linecolor\": \"white\", \"showbackground\": true, \"ticks\": \"\", \"zerolinecolor\": \"white\"}, \"yaxis\": {\"backgroundcolor\": \"#E5ECF6\", \"gridcolor\": \"white\", \"gridwidth\": 2, \"linecolor\": \"white\", \"showbackground\": true, \"ticks\": \"\", \"zerolinecolor\": \"white\"}, \"zaxis\": {\"backgroundcolor\": \"#E5ECF6\", \"gridcolor\": \"white\", \"gridwidth\": 2, \"linecolor\": \"white\", \"showbackground\": true, \"ticks\": \"\", \"zerolinecolor\": \"white\"}}, \"shapedefaults\": {\"line\": {\"color\": \"#2a3f5f\"}}, \"ternary\": {\"aaxis\": {\"gridcolor\": \"white\", \"linecolor\": \"white\", \"ticks\": \"\"}, \"baxis\": {\"gridcolor\": \"white\", \"linecolor\": \"white\", \"ticks\": \"\"}, \"bgcolor\": \"#E5ECF6\", \"caxis\": {\"gridcolor\": \"white\", \"linecolor\": \"white\", \"ticks\": \"\"}}, \"title\": {\"x\": 0.05}, \"xaxis\": {\"automargin\": true, \"gridcolor\": \"white\", \"linecolor\": \"white\", \"ticks\": \"\", \"title\": {\"standoff\": 15}, \"zerolinecolor\": \"white\", \"zerolinewidth\": 2}, \"yaxis\": {\"automargin\": true, \"gridcolor\": \"white\", \"linecolor\": \"white\", \"ticks\": \"\", \"title\": {\"standoff\": 15}, \"zerolinecolor\": \"white\", \"zerolinewidth\": 2}}}, \"title\": {\"font\": {\"color\": \"#4D5663\"}}, \"xaxis\": {\"gridcolor\": \"#E1E5ED\", \"showgrid\": true, \"tickfont\": {\"color\": \"#4D5663\"}, \"title\": {\"font\": {\"color\": \"#4D5663\"}, \"text\": \"\"}, \"zerolinecolor\": \"#E1E5ED\"}, \"yaxis\": {\"gridcolor\": \"#E1E5ED\", \"showgrid\": true, \"tickfont\": {\"color\": \"#4D5663\"}, \"title\": {\"font\": {\"color\": \"#4D5663\"}, \"text\": \"\"}, \"zerolinecolor\": \"#E1E5ED\"}},                        {\"showLink\": true, \"linkText\": \"Export to plot.ly\", \"plotlyServerURL\": \"https://plot.ly\", \"responsive\": true}                    ).then(function(){\n",
       "                            \n",
       "var gd = document.getElementById('7cd9e4ee-f886-449b-9bc1-b5d06ebb83f6');\n",
       "var x = new MutationObserver(function (mutations, observer) {{\n",
       "        var display = window.getComputedStyle(gd).display;\n",
       "        if (!display || display === 'none') {{\n",
       "            console.log([gd, 'removed!']);\n",
       "            Plotly.purge(gd);\n",
       "            observer.disconnect();\n",
       "        }}\n",
       "}});\n",
       "\n",
       "// Listen for the removal of the full notebook cells\n",
       "var notebookContainer = gd.closest('#notebook-container');\n",
       "if (notebookContainer) {{\n",
       "    x.observe(notebookContainer, {childList: true});\n",
       "}}\n",
       "\n",
       "// Listen for the clearing of the current output cell\n",
       "var outputEl = gd.closest('.output');\n",
       "if (outputEl) {{\n",
       "    x.observe(outputEl, {childList: true});\n",
       "}}\n",
       "\n",
       "                        })                };                });            </script>        </div>"
      ]
     },
     "metadata": {},
     "output_type": "display_data"
    }
   ],
   "source": [
    "df.iplot(kind='bubble', x='A', y='B', size='C')"
   ]
  },
  {
   "cell_type": "markdown",
   "metadata": {},
   "source": [
    "Veja outro gráfico interessante! É como se fosse um scatterplot porém o tamanho do marcador é baseado em outra coluna do DF, vemos bastante esse gráfico por exemplo quando estamos falando de PIB de diferentes países e o tamanho do marcador é baseado no tamanho da população!"
   ]
  },
  {
   "cell_type": "code",
   "execution_count": 28,
   "metadata": {
    "scrolled": false
   },
   "outputs": [
    {
     "data": {
      "application/vnd.plotly.v1+json": {
       "config": {
        "linkText": "Export to plot.ly",
        "plotlyServerURL": "https://plot.ly",
        "showLink": true
       },
       "data": [
        {
         "histfunc": "count",
         "histnorm": "",
         "marker": {
          "color": "rgba(255, 153, 51, 1.0)",
          "line": {
           "color": "#4D5663",
           "width": 1.3
          }
         },
         "name": "A",
         "nbinsx": 10,
         "opacity": 0.8,
         "orientation": "v",
         "type": "histogram",
         "x": [
          -0.07626798862524346,
          0.22540134756441488,
          -0.8057647977006603,
          0.3775230577282411,
          -0.1680604099266579,
          0.8713582072512306,
          -0.08016296132520627,
          2.0793375312602986,
          0.6174946047522917,
          1.3470244023614335,
          -0.45534748125031793,
          1.1567776506639353,
          -0.8740526020125177,
          -0.037407388938710644,
          0.5532512221426178,
          -1.051190550010996,
          -0.35056999351700524,
          1.071823066376621,
          0.9093892370915182,
          -1.0488537815283008,
          -0.4599270555168315,
          1.8602051198265883,
          -0.8249352680142302,
          -1.5106002057662986,
          0.0996067858587673,
          -0.9955831080121025,
          -1.1743481536862996,
          0.798495220365897,
          2.135298305419711,
          -0.918373544679037,
          -1.3292049671635469,
          -1.482014934583836,
          0.4658513332948664,
          1.7175357781491922,
          -0.1606077083412937,
          0.5805593871078475,
          -0.2538847588879203,
          1.0542215320006398,
          -0.4301439180270131,
          -1.2014952657868243,
          0.4460530424636575,
          -0.38016505214183166,
          1.187504657276655,
          1.0092529666759915,
          0.5276280783314551,
          -2.3146759442720812,
          -0.9726633353919516,
          -1.4651901913239982,
          -0.8517523630692322,
          -2.317281604613853,
          -0.14261933190625772,
          -2.077146476047186,
          -0.3251807441512565,
          0.1319632239823357,
          0.7486045945026552,
          0.33685670014918506,
          -0.037845194242645784,
          -1.3667973040236276,
          0.7727164075726849,
          -1.2011494900729764,
          0.2691153645066599,
          -0.7673187313510428,
          0.7313925705637623,
          0.27488086113873705,
          -0.21474757848854253,
          0.9183127839848029,
          0.20274982610001047,
          -1.2321068101491492,
          2.2023622350450003,
          0.22588488340486504,
          -0.21025110889818346,
          -0.06932808427719565,
          -0.330211178580367,
          -1.1630223928019472,
          0.3991187829537466,
          0.26561049183638635,
          0.2489546357507444,
          -1.0363391210443667,
          0.28072456627802256,
          -1.4258804403303178,
          0.34187592095465646,
          -1.1053725354624688,
          -0.7016568221765985,
          0.3193171141371305,
          -1.6882672411213937,
          -0.6384005418166574,
          1.1931023903017663,
          -1.079295557921701,
          0.953153121390354,
          0.4535569514855566,
          -0.6142109560790182,
          1.7927716591736043,
          -2.0886630176573466,
          -0.647956166935598,
          -0.5679356570104203,
          0.6153764784573306,
          1.211953758491585,
          -1.516211074458471,
          -0.6678919354224481,
          0.7549092172063453
         ],
         "xaxis": "x",
         "yaxis": "y"
        },
        {
         "line": {
          "color": "rgba(128, 128, 128, 1.0)",
          "dash": "solid",
          "shape": "linear",
          "width": 1.3
         },
         "marker": {
          "size": 2,
          "symbol": "circle"
         },
         "mode": "markers",
         "name": "A",
         "text": "",
         "type": "scatter",
         "x": [
          -0.740902655559266,
          -0.08310433278810744,
          -1.251683393405426,
          -1.204225704833254,
          1.0143348303407134,
          -1.0161633496549207,
          -1.7583971257729267,
          1.4521908459282145,
          -0.480368906287327,
          0.5131858057305899,
          0.27503721587001323,
          1.290465634875162,
          1.1124276711007453,
          -1.4899235118041922,
          0.38697483901701935,
          0.4129744286146979,
          2.095129686566982,
          0.8399787083500704,
          0.6710525662253761,
          -0.4681469240612532,
          2.1194359317570535,
          1.038915191126487,
          -0.7172554535302076,
          0.5688903859711237,
          0.826646992545889,
          0.09105518538007447,
          -0.589810469872444,
          -0.1525563108196747,
          -0.3633806409535802,
          0.2692246496286448,
          -0.1395863420602316,
          0.6420796882555284,
          -0.3895501220033279,
          -0.6842852202025996,
          -0.0662269940405855,
          -2.6265164759204436,
          -0.9020476303540725,
          -0.4167566139166744,
          0.7135005499949627,
          -1.094409509953378,
          -1.7596727501739213,
          -1.3221416350039188,
          -1.165871915271899,
          -0.17725703007771632,
          0.07750703246294158,
          -0.4058509152122095,
          1.0113863879667255,
          1.1743453857185353,
          0.1522145118031781,
          -0.7226455063181879,
          -0.9955570686188059,
          0.2765818865175756,
          -1.3549808500418952,
          1.337102837580037,
          -0.08188136453619636,
          -1.04472177658133,
          0.7038632224719813,
          -1.2644862932195187,
          0.3524073622222112,
          -0.46797925694821996,
          0.6379518560397109,
          0.5978368539603639,
          0.1896862075086954,
          0.01498863199058901,
          0.6737610775168448,
          -0.2093368496264277,
          -0.4445627663438925,
          -0.5225801896099493,
          0.11252918692066753,
          0.8218878151077612,
          -0.8365245614729655,
          -0.8260737556521454,
          0.821246020726017,
          1.7053976790292478,
          0.9591926546787697,
          1.0830800300363144,
          -0.7458624482789284,
          0.00978102219508137,
          -0.9888119728575078,
          -1.0526562671556607,
          -0.48038870163723124,
          -0.6569719817113063,
          -0.848735736192335,
          2.190392250125886,
          0.8904709443200586,
          -0.24858231907030764,
          0.9716461842773628,
          -1.0724720077866086,
          0.15156616663461042,
          0.36165937700608153,
          -0.7221361260002299,
          -2.0364234750392334,
          -0.6879418802528297,
          -0.40851358835174423,
          0.9529887543414152,
          -0.15851581650574076,
          -1.4341531957352023,
          0.1659117333162127,
          2.344432739425215,
          0.23891550498788275
         ],
         "xaxis": "x2",
         "y": [
          -0.07626798862524346,
          0.22540134756441488,
          -0.8057647977006603,
          0.3775230577282411,
          -0.1680604099266579,
          0.8713582072512306,
          -0.08016296132520627,
          2.0793375312602986,
          0.6174946047522917,
          1.3470244023614335,
          -0.45534748125031793,
          1.1567776506639353,
          -0.8740526020125177,
          -0.037407388938710644,
          0.5532512221426178,
          -1.051190550010996,
          -0.35056999351700524,
          1.071823066376621,
          0.9093892370915182,
          -1.0488537815283008,
          -0.4599270555168315,
          1.8602051198265883,
          -0.8249352680142302,
          -1.5106002057662986,
          0.0996067858587673,
          -0.9955831080121025,
          -1.1743481536862996,
          0.798495220365897,
          2.135298305419711,
          -0.918373544679037,
          -1.3292049671635469,
          -1.482014934583836,
          0.4658513332948664,
          1.7175357781491922,
          -0.1606077083412937,
          0.5805593871078475,
          -0.2538847588879203,
          1.0542215320006398,
          -0.4301439180270131,
          -1.2014952657868243,
          0.4460530424636575,
          -0.38016505214183166,
          1.187504657276655,
          1.0092529666759915,
          0.5276280783314551,
          -2.3146759442720812,
          -0.9726633353919516,
          -1.4651901913239982,
          -0.8517523630692322,
          -2.317281604613853,
          -0.14261933190625772,
          -2.077146476047186,
          -0.3251807441512565,
          0.1319632239823357,
          0.7486045945026552,
          0.33685670014918506,
          -0.037845194242645784,
          -1.3667973040236276,
          0.7727164075726849,
          -1.2011494900729764,
          0.2691153645066599,
          -0.7673187313510428,
          0.7313925705637623,
          0.27488086113873705,
          -0.21474757848854253,
          0.9183127839848029,
          0.20274982610001047,
          -1.2321068101491492,
          2.2023622350450003,
          0.22588488340486504,
          -0.21025110889818346,
          -0.06932808427719565,
          -0.330211178580367,
          -1.1630223928019472,
          0.3991187829537466,
          0.26561049183638635,
          0.2489546357507444,
          -1.0363391210443667,
          0.28072456627802256,
          -1.4258804403303178,
          0.34187592095465646,
          -1.1053725354624688,
          -0.7016568221765985,
          0.3193171141371305,
          -1.6882672411213937,
          -0.6384005418166574,
          1.1931023903017663,
          -1.079295557921701,
          0.953153121390354,
          0.4535569514855566,
          -0.6142109560790182,
          1.7927716591736043,
          -2.0886630176573466,
          -0.647956166935598,
          -0.5679356570104203,
          0.6153764784573306,
          1.211953758491585,
          -1.516211074458471,
          -0.6678919354224481,
          0.7549092172063453
         ],
         "yaxis": "y2"
        },
        {
         "line": {
          "color": "rgba(128, 128, 128, 1.0)",
          "dash": "solid",
          "shape": "linear",
          "width": 1.3
         },
         "marker": {
          "size": 2,
          "symbol": "circle"
         },
         "mode": "markers",
         "name": "A",
         "text": "",
         "type": "scatter",
         "x": [
          0.11506777591334545,
          -0.4669527591483944,
          0.838753938652362,
          1.7939169837397981,
          -1.3438326100575777,
          0.7772824387875003,
          0.5255163998487751,
          -0.14372743715167027,
          -1.1350475503194846,
          0.8377061742195445,
          -1.2893734663813263,
          -0.6490806584734865,
          -0.7905725983268116,
          1.4409167604861066,
          0.4687506103857752,
          0.9228644793460214,
          0.7256872634793196,
          -0.6776405780161343,
          -0.4906669437171314,
          -0.8185539687468362,
          -0.9529249151507974,
          0.9494275287384024,
          -0.8404780177971688,
          -0.23859050718064892,
          -1.33085820350392,
          -0.2547223651273164,
          1.3848369503129814,
          -0.015170397451762494,
          1.081412525387793,
          0.13221713750683914,
          -0.5915055288945772,
          -0.694599290081804,
          1.0150485266600329,
          1.5155566873877593,
          0.6275328930383646,
          -0.5840219696353247,
          -0.776311457551167,
          -0.6717617949609185,
          -0.9457685055861333,
          -0.6349865365838709,
          -0.9450538817674731,
          0.3358272922545994,
          2.2519875839333503,
          1.0990320253477452,
          2.1579827483939638,
          0.6262070029210622,
          0.3469528394636604,
          0.8181198570393231,
          0.3584307652929029,
          0.5411769289617455,
          -1.6469461542071104,
          -0.9394111622402175,
          0.34570756963622945,
          -0.08313735682778838,
          -0.5827389646844746,
          0.9313053242818813,
          0.522310163649811,
          0.6073699269751509,
          -2.0324889511721214,
          -1.9066225540276152,
          1.590194563123513,
          -0.4311534589466588,
          2.0156464167629853,
          0.5105587282134346,
          0.06424465390783764,
          1.2993272757132333,
          -0.8002831178402844,
          -0.09064770187143911,
          0.9597380188142864,
          0.048626762496730105,
          1.015142005510411,
          3.2188022869139106,
          -0.10316204116054475,
          -1.2826721358372464,
          0.2232936363291398,
          -1.1676562338091363,
          0.29032401337670666,
          0.14965456611823938,
          1.4024381550184488,
          -2.1890658665656177,
          0.2755147161407717,
          1.5955506986374905,
          0.07572171368240455,
          -0.08262244372807441,
          0.2166289542416796,
          0.08603331417035655,
          -1.021756178602517,
          -0.5269913512362231,
          -0.3539868604883295,
          -0.35340661766312104,
          -0.8723077965365962,
          -0.856046069191193,
          -0.16826738357465057,
          1.4501480109011096,
          0.5542794821235857,
          -1.1598134961669193,
          -0.2878579037631965,
          0.10974255297595349,
          -0.996444324819498,
          1.1446227114720948
         ],
         "xaxis": "x3",
         "y": [
          -0.07626798862524346,
          0.22540134756441488,
          -0.8057647977006603,
          0.3775230577282411,
          -0.1680604099266579,
          0.8713582072512306,
          -0.08016296132520627,
          2.0793375312602986,
          0.6174946047522917,
          1.3470244023614335,
          -0.45534748125031793,
          1.1567776506639353,
          -0.8740526020125177,
          -0.037407388938710644,
          0.5532512221426178,
          -1.051190550010996,
          -0.35056999351700524,
          1.071823066376621,
          0.9093892370915182,
          -1.0488537815283008,
          -0.4599270555168315,
          1.8602051198265883,
          -0.8249352680142302,
          -1.5106002057662986,
          0.0996067858587673,
          -0.9955831080121025,
          -1.1743481536862996,
          0.798495220365897,
          2.135298305419711,
          -0.918373544679037,
          -1.3292049671635469,
          -1.482014934583836,
          0.4658513332948664,
          1.7175357781491922,
          -0.1606077083412937,
          0.5805593871078475,
          -0.2538847588879203,
          1.0542215320006398,
          -0.4301439180270131,
          -1.2014952657868243,
          0.4460530424636575,
          -0.38016505214183166,
          1.187504657276655,
          1.0092529666759915,
          0.5276280783314551,
          -2.3146759442720812,
          -0.9726633353919516,
          -1.4651901913239982,
          -0.8517523630692322,
          -2.317281604613853,
          -0.14261933190625772,
          -2.077146476047186,
          -0.3251807441512565,
          0.1319632239823357,
          0.7486045945026552,
          0.33685670014918506,
          -0.037845194242645784,
          -1.3667973040236276,
          0.7727164075726849,
          -1.2011494900729764,
          0.2691153645066599,
          -0.7673187313510428,
          0.7313925705637623,
          0.27488086113873705,
          -0.21474757848854253,
          0.9183127839848029,
          0.20274982610001047,
          -1.2321068101491492,
          2.2023622350450003,
          0.22588488340486504,
          -0.21025110889818346,
          -0.06932808427719565,
          -0.330211178580367,
          -1.1630223928019472,
          0.3991187829537466,
          0.26561049183638635,
          0.2489546357507444,
          -1.0363391210443667,
          0.28072456627802256,
          -1.4258804403303178,
          0.34187592095465646,
          -1.1053725354624688,
          -0.7016568221765985,
          0.3193171141371305,
          -1.6882672411213937,
          -0.6384005418166574,
          1.1931023903017663,
          -1.079295557921701,
          0.953153121390354,
          0.4535569514855566,
          -0.6142109560790182,
          1.7927716591736043,
          -2.0886630176573466,
          -0.647956166935598,
          -0.5679356570104203,
          0.6153764784573306,
          1.211953758491585,
          -1.516211074458471,
          -0.6678919354224481,
          0.7549092172063453
         ],
         "yaxis": "y3"
        },
        {
         "line": {
          "color": "rgba(128, 128, 128, 1.0)",
          "dash": "solid",
          "shape": "linear",
          "width": 1.3
         },
         "marker": {
          "size": 2,
          "symbol": "circle"
         },
         "mode": "markers",
         "name": "A",
         "text": "",
         "type": "scatter",
         "x": [
          1.4569727607926122,
          1.5803324075229161,
          -1.2897002441333556,
          -0.16166551474494495,
          -1.976502864334509,
          -0.8693958414819042,
          0.9551460280404175,
          0.2802516103397689,
          1.2550272097356434,
          0.9155115058822488,
          0.7733482131769092,
          -1.1631126105679386,
          0.3931126235197993,
          1.5592260592093,
          -0.7546707280860958,
          -0.577462363122032,
          0.10812191862643344,
          -1.3021525005770849,
          0.0013863273196885522,
          -1.1565924417119133,
          0.030893790789631646,
          -0.2921139554387492,
          -0.6378229963088616,
          -0.2552420579232666,
          -0.7105803541717001,
          -0.7310763884707412,
          0.850591748444687,
          0.25350478409356253,
          -0.0025095031827617282,
          -1.038633643463149,
          0.8260476059311241,
          0.5222387643383883,
          1.4269978745065481,
          -2.1968429450957525,
          0.1884115433816258,
          -0.26168481206024646,
          0.7273415497579273,
          2.299797566491191,
          0.8788511743957212,
          1.1091884743081923,
          0.388275901319309,
          0.059801554863223624,
          0.7049894936262245,
          1.0788069961882627,
          0.430901839072723,
          0.625095337397016,
          -0.15792309032785642,
          0.45281184157042315,
          -0.4517714112086825,
          -1.321525146743949,
          0.6769278297715584,
          -0.66020231086785,
          0.02621609074868664,
          1.237167600904855,
          -0.37366966211437025,
          -0.8374883670259714,
          -1.7838417355758664,
          1.9282931010823163,
          0.9403749494318877,
          0.30310974524093093,
          1.0237472277719784,
          -0.9817481934613881,
          -0.7965587873113616,
          -0.2756526237681351,
          0.07193352921125992,
          1.3843610975021363,
          -1.1883473539731926,
          -1.132010345991311,
          -1.0217264191012476,
          0.7850296917497678,
          2.2121655730172725,
          0.5932119006791556,
          -1.439284833023011,
          -0.7046679703172876,
          -0.42747316155692994,
          -1.7867416717823146,
          -1.3465481460900666,
          -1.1275245220204797,
          -0.1920986987537914,
          0.2695193429927655,
          -2.0193794708287247,
          0.664330606404295,
          -2.5251217573612994,
          2.195869829867191,
          0.6241679103092804,
          -2.4482135541760828,
          2.022834651920917,
          1.0827267716967608,
          -0.006038442634036476,
          -0.861912397917697,
          1.4948604815170339,
          -0.21769551523968977,
          -0.26311210258217965,
          0.37203035503116805,
          -0.7976063789805946,
          -0.557349689706263,
          2.148558435514855,
          -1.074934475018916,
          -2.799387901627083,
          0.2607365043330616
         ],
         "xaxis": "x4",
         "y": [
          -0.07626798862524346,
          0.22540134756441488,
          -0.8057647977006603,
          0.3775230577282411,
          -0.1680604099266579,
          0.8713582072512306,
          -0.08016296132520627,
          2.0793375312602986,
          0.6174946047522917,
          1.3470244023614335,
          -0.45534748125031793,
          1.1567776506639353,
          -0.8740526020125177,
          -0.037407388938710644,
          0.5532512221426178,
          -1.051190550010996,
          -0.35056999351700524,
          1.071823066376621,
          0.9093892370915182,
          -1.0488537815283008,
          -0.4599270555168315,
          1.8602051198265883,
          -0.8249352680142302,
          -1.5106002057662986,
          0.0996067858587673,
          -0.9955831080121025,
          -1.1743481536862996,
          0.798495220365897,
          2.135298305419711,
          -0.918373544679037,
          -1.3292049671635469,
          -1.482014934583836,
          0.4658513332948664,
          1.7175357781491922,
          -0.1606077083412937,
          0.5805593871078475,
          -0.2538847588879203,
          1.0542215320006398,
          -0.4301439180270131,
          -1.2014952657868243,
          0.4460530424636575,
          -0.38016505214183166,
          1.187504657276655,
          1.0092529666759915,
          0.5276280783314551,
          -2.3146759442720812,
          -0.9726633353919516,
          -1.4651901913239982,
          -0.8517523630692322,
          -2.317281604613853,
          -0.14261933190625772,
          -2.077146476047186,
          -0.3251807441512565,
          0.1319632239823357,
          0.7486045945026552,
          0.33685670014918506,
          -0.037845194242645784,
          -1.3667973040236276,
          0.7727164075726849,
          -1.2011494900729764,
          0.2691153645066599,
          -0.7673187313510428,
          0.7313925705637623,
          0.27488086113873705,
          -0.21474757848854253,
          0.9183127839848029,
          0.20274982610001047,
          -1.2321068101491492,
          2.2023622350450003,
          0.22588488340486504,
          -0.21025110889818346,
          -0.06932808427719565,
          -0.330211178580367,
          -1.1630223928019472,
          0.3991187829537466,
          0.26561049183638635,
          0.2489546357507444,
          -1.0363391210443667,
          0.28072456627802256,
          -1.4258804403303178,
          0.34187592095465646,
          -1.1053725354624688,
          -0.7016568221765985,
          0.3193171141371305,
          -1.6882672411213937,
          -0.6384005418166574,
          1.1931023903017663,
          -1.079295557921701,
          0.953153121390354,
          0.4535569514855566,
          -0.6142109560790182,
          1.7927716591736043,
          -2.0886630176573466,
          -0.647956166935598,
          -0.5679356570104203,
          0.6153764784573306,
          1.211953758491585,
          -1.516211074458471,
          -0.6678919354224481,
          0.7549092172063453
         ],
         "yaxis": "y4"
        },
        {
         "line": {
          "color": "rgba(128, 128, 128, 1.0)",
          "dash": "solid",
          "shape": "linear",
          "width": 1.3
         },
         "marker": {
          "size": 2,
          "symbol": "circle"
         },
         "mode": "markers",
         "name": "B",
         "text": "",
         "type": "scatter",
         "x": [
          -0.07626798862524346,
          0.22540134756441488,
          -0.8057647977006603,
          0.3775230577282411,
          -0.1680604099266579,
          0.8713582072512306,
          -0.08016296132520627,
          2.0793375312602986,
          0.6174946047522917,
          1.3470244023614335,
          -0.45534748125031793,
          1.1567776506639353,
          -0.8740526020125177,
          -0.037407388938710644,
          0.5532512221426178,
          -1.051190550010996,
          -0.35056999351700524,
          1.071823066376621,
          0.9093892370915182,
          -1.0488537815283008,
          -0.4599270555168315,
          1.8602051198265883,
          -0.8249352680142302,
          -1.5106002057662986,
          0.0996067858587673,
          -0.9955831080121025,
          -1.1743481536862996,
          0.798495220365897,
          2.135298305419711,
          -0.918373544679037,
          -1.3292049671635469,
          -1.482014934583836,
          0.4658513332948664,
          1.7175357781491922,
          -0.1606077083412937,
          0.5805593871078475,
          -0.2538847588879203,
          1.0542215320006398,
          -0.4301439180270131,
          -1.2014952657868243,
          0.4460530424636575,
          -0.38016505214183166,
          1.187504657276655,
          1.0092529666759915,
          0.5276280783314551,
          -2.3146759442720812,
          -0.9726633353919516,
          -1.4651901913239982,
          -0.8517523630692322,
          -2.317281604613853,
          -0.14261933190625772,
          -2.077146476047186,
          -0.3251807441512565,
          0.1319632239823357,
          0.7486045945026552,
          0.33685670014918506,
          -0.037845194242645784,
          -1.3667973040236276,
          0.7727164075726849,
          -1.2011494900729764,
          0.2691153645066599,
          -0.7673187313510428,
          0.7313925705637623,
          0.27488086113873705,
          -0.21474757848854253,
          0.9183127839848029,
          0.20274982610001047,
          -1.2321068101491492,
          2.2023622350450003,
          0.22588488340486504,
          -0.21025110889818346,
          -0.06932808427719565,
          -0.330211178580367,
          -1.1630223928019472,
          0.3991187829537466,
          0.26561049183638635,
          0.2489546357507444,
          -1.0363391210443667,
          0.28072456627802256,
          -1.4258804403303178,
          0.34187592095465646,
          -1.1053725354624688,
          -0.7016568221765985,
          0.3193171141371305,
          -1.6882672411213937,
          -0.6384005418166574,
          1.1931023903017663,
          -1.079295557921701,
          0.953153121390354,
          0.4535569514855566,
          -0.6142109560790182,
          1.7927716591736043,
          -2.0886630176573466,
          -0.647956166935598,
          -0.5679356570104203,
          0.6153764784573306,
          1.211953758491585,
          -1.516211074458471,
          -0.6678919354224481,
          0.7549092172063453
         ],
         "xaxis": "x5",
         "y": [
          -0.740902655559266,
          -0.08310433278810744,
          -1.251683393405426,
          -1.204225704833254,
          1.0143348303407134,
          -1.0161633496549207,
          -1.7583971257729267,
          1.4521908459282145,
          -0.480368906287327,
          0.5131858057305899,
          0.27503721587001323,
          1.290465634875162,
          1.1124276711007453,
          -1.4899235118041922,
          0.38697483901701935,
          0.4129744286146979,
          2.095129686566982,
          0.8399787083500704,
          0.6710525662253761,
          -0.4681469240612532,
          2.1194359317570535,
          1.038915191126487,
          -0.7172554535302076,
          0.5688903859711237,
          0.826646992545889,
          0.09105518538007447,
          -0.589810469872444,
          -0.1525563108196747,
          -0.3633806409535802,
          0.2692246496286448,
          -0.1395863420602316,
          0.6420796882555284,
          -0.3895501220033279,
          -0.6842852202025996,
          -0.0662269940405855,
          -2.6265164759204436,
          -0.9020476303540725,
          -0.4167566139166744,
          0.7135005499949627,
          -1.094409509953378,
          -1.7596727501739213,
          -1.3221416350039188,
          -1.165871915271899,
          -0.17725703007771632,
          0.07750703246294158,
          -0.4058509152122095,
          1.0113863879667255,
          1.1743453857185353,
          0.1522145118031781,
          -0.7226455063181879,
          -0.9955570686188059,
          0.2765818865175756,
          -1.3549808500418952,
          1.337102837580037,
          -0.08188136453619636,
          -1.04472177658133,
          0.7038632224719813,
          -1.2644862932195187,
          0.3524073622222112,
          -0.46797925694821996,
          0.6379518560397109,
          0.5978368539603639,
          0.1896862075086954,
          0.01498863199058901,
          0.6737610775168448,
          -0.2093368496264277,
          -0.4445627663438925,
          -0.5225801896099493,
          0.11252918692066753,
          0.8218878151077612,
          -0.8365245614729655,
          -0.8260737556521454,
          0.821246020726017,
          1.7053976790292478,
          0.9591926546787697,
          1.0830800300363144,
          -0.7458624482789284,
          0.00978102219508137,
          -0.9888119728575078,
          -1.0526562671556607,
          -0.48038870163723124,
          -0.6569719817113063,
          -0.848735736192335,
          2.190392250125886,
          0.8904709443200586,
          -0.24858231907030764,
          0.9716461842773628,
          -1.0724720077866086,
          0.15156616663461042,
          0.36165937700608153,
          -0.7221361260002299,
          -2.0364234750392334,
          -0.6879418802528297,
          -0.40851358835174423,
          0.9529887543414152,
          -0.15851581650574076,
          -1.4341531957352023,
          0.1659117333162127,
          2.344432739425215,
          0.23891550498788275
         ],
         "yaxis": "y5"
        },
        {
         "histfunc": "count",
         "histnorm": "",
         "marker": {
          "color": "rgba(55, 128, 191, 1.0)",
          "line": {
           "color": "#4D5663",
           "width": 1.3
          }
         },
         "name": "B",
         "nbinsx": 10,
         "opacity": 0.8,
         "orientation": "v",
         "type": "histogram",
         "x": [
          -0.740902655559266,
          -0.08310433278810744,
          -1.251683393405426,
          -1.204225704833254,
          1.0143348303407134,
          -1.0161633496549207,
          -1.7583971257729267,
          1.4521908459282145,
          -0.480368906287327,
          0.5131858057305899,
          0.27503721587001323,
          1.290465634875162,
          1.1124276711007453,
          -1.4899235118041922,
          0.38697483901701935,
          0.4129744286146979,
          2.095129686566982,
          0.8399787083500704,
          0.6710525662253761,
          -0.4681469240612532,
          2.1194359317570535,
          1.038915191126487,
          -0.7172554535302076,
          0.5688903859711237,
          0.826646992545889,
          0.09105518538007447,
          -0.589810469872444,
          -0.1525563108196747,
          -0.3633806409535802,
          0.2692246496286448,
          -0.1395863420602316,
          0.6420796882555284,
          -0.3895501220033279,
          -0.6842852202025996,
          -0.0662269940405855,
          -2.6265164759204436,
          -0.9020476303540725,
          -0.4167566139166744,
          0.7135005499949627,
          -1.094409509953378,
          -1.7596727501739213,
          -1.3221416350039188,
          -1.165871915271899,
          -0.17725703007771632,
          0.07750703246294158,
          -0.4058509152122095,
          1.0113863879667255,
          1.1743453857185353,
          0.1522145118031781,
          -0.7226455063181879,
          -0.9955570686188059,
          0.2765818865175756,
          -1.3549808500418952,
          1.337102837580037,
          -0.08188136453619636,
          -1.04472177658133,
          0.7038632224719813,
          -1.2644862932195187,
          0.3524073622222112,
          -0.46797925694821996,
          0.6379518560397109,
          0.5978368539603639,
          0.1896862075086954,
          0.01498863199058901,
          0.6737610775168448,
          -0.2093368496264277,
          -0.4445627663438925,
          -0.5225801896099493,
          0.11252918692066753,
          0.8218878151077612,
          -0.8365245614729655,
          -0.8260737556521454,
          0.821246020726017,
          1.7053976790292478,
          0.9591926546787697,
          1.0830800300363144,
          -0.7458624482789284,
          0.00978102219508137,
          -0.9888119728575078,
          -1.0526562671556607,
          -0.48038870163723124,
          -0.6569719817113063,
          -0.848735736192335,
          2.190392250125886,
          0.8904709443200586,
          -0.24858231907030764,
          0.9716461842773628,
          -1.0724720077866086,
          0.15156616663461042,
          0.36165937700608153,
          -0.7221361260002299,
          -2.0364234750392334,
          -0.6879418802528297,
          -0.40851358835174423,
          0.9529887543414152,
          -0.15851581650574076,
          -1.4341531957352023,
          0.1659117333162127,
          2.344432739425215,
          0.23891550498788275
         ],
         "xaxis": "x6",
         "yaxis": "y6"
        },
        {
         "line": {
          "color": "rgba(128, 128, 128, 1.0)",
          "dash": "solid",
          "shape": "linear",
          "width": 1.3
         },
         "marker": {
          "size": 2,
          "symbol": "circle"
         },
         "mode": "markers",
         "name": "B",
         "text": "",
         "type": "scatter",
         "x": [
          0.11506777591334545,
          -0.4669527591483944,
          0.838753938652362,
          1.7939169837397981,
          -1.3438326100575777,
          0.7772824387875003,
          0.5255163998487751,
          -0.14372743715167027,
          -1.1350475503194846,
          0.8377061742195445,
          -1.2893734663813263,
          -0.6490806584734865,
          -0.7905725983268116,
          1.4409167604861066,
          0.4687506103857752,
          0.9228644793460214,
          0.7256872634793196,
          -0.6776405780161343,
          -0.4906669437171314,
          -0.8185539687468362,
          -0.9529249151507974,
          0.9494275287384024,
          -0.8404780177971688,
          -0.23859050718064892,
          -1.33085820350392,
          -0.2547223651273164,
          1.3848369503129814,
          -0.015170397451762494,
          1.081412525387793,
          0.13221713750683914,
          -0.5915055288945772,
          -0.694599290081804,
          1.0150485266600329,
          1.5155566873877593,
          0.6275328930383646,
          -0.5840219696353247,
          -0.776311457551167,
          -0.6717617949609185,
          -0.9457685055861333,
          -0.6349865365838709,
          -0.9450538817674731,
          0.3358272922545994,
          2.2519875839333503,
          1.0990320253477452,
          2.1579827483939638,
          0.6262070029210622,
          0.3469528394636604,
          0.8181198570393231,
          0.3584307652929029,
          0.5411769289617455,
          -1.6469461542071104,
          -0.9394111622402175,
          0.34570756963622945,
          -0.08313735682778838,
          -0.5827389646844746,
          0.9313053242818813,
          0.522310163649811,
          0.6073699269751509,
          -2.0324889511721214,
          -1.9066225540276152,
          1.590194563123513,
          -0.4311534589466588,
          2.0156464167629853,
          0.5105587282134346,
          0.06424465390783764,
          1.2993272757132333,
          -0.8002831178402844,
          -0.09064770187143911,
          0.9597380188142864,
          0.048626762496730105,
          1.015142005510411,
          3.2188022869139106,
          -0.10316204116054475,
          -1.2826721358372464,
          0.2232936363291398,
          -1.1676562338091363,
          0.29032401337670666,
          0.14965456611823938,
          1.4024381550184488,
          -2.1890658665656177,
          0.2755147161407717,
          1.5955506986374905,
          0.07572171368240455,
          -0.08262244372807441,
          0.2166289542416796,
          0.08603331417035655,
          -1.021756178602517,
          -0.5269913512362231,
          -0.3539868604883295,
          -0.35340661766312104,
          -0.8723077965365962,
          -0.856046069191193,
          -0.16826738357465057,
          1.4501480109011096,
          0.5542794821235857,
          -1.1598134961669193,
          -0.2878579037631965,
          0.10974255297595349,
          -0.996444324819498,
          1.1446227114720948
         ],
         "xaxis": "x7",
         "y": [
          -0.740902655559266,
          -0.08310433278810744,
          -1.251683393405426,
          -1.204225704833254,
          1.0143348303407134,
          -1.0161633496549207,
          -1.7583971257729267,
          1.4521908459282145,
          -0.480368906287327,
          0.5131858057305899,
          0.27503721587001323,
          1.290465634875162,
          1.1124276711007453,
          -1.4899235118041922,
          0.38697483901701935,
          0.4129744286146979,
          2.095129686566982,
          0.8399787083500704,
          0.6710525662253761,
          -0.4681469240612532,
          2.1194359317570535,
          1.038915191126487,
          -0.7172554535302076,
          0.5688903859711237,
          0.826646992545889,
          0.09105518538007447,
          -0.589810469872444,
          -0.1525563108196747,
          -0.3633806409535802,
          0.2692246496286448,
          -0.1395863420602316,
          0.6420796882555284,
          -0.3895501220033279,
          -0.6842852202025996,
          -0.0662269940405855,
          -2.6265164759204436,
          -0.9020476303540725,
          -0.4167566139166744,
          0.7135005499949627,
          -1.094409509953378,
          -1.7596727501739213,
          -1.3221416350039188,
          -1.165871915271899,
          -0.17725703007771632,
          0.07750703246294158,
          -0.4058509152122095,
          1.0113863879667255,
          1.1743453857185353,
          0.1522145118031781,
          -0.7226455063181879,
          -0.9955570686188059,
          0.2765818865175756,
          -1.3549808500418952,
          1.337102837580037,
          -0.08188136453619636,
          -1.04472177658133,
          0.7038632224719813,
          -1.2644862932195187,
          0.3524073622222112,
          -0.46797925694821996,
          0.6379518560397109,
          0.5978368539603639,
          0.1896862075086954,
          0.01498863199058901,
          0.6737610775168448,
          -0.2093368496264277,
          -0.4445627663438925,
          -0.5225801896099493,
          0.11252918692066753,
          0.8218878151077612,
          -0.8365245614729655,
          -0.8260737556521454,
          0.821246020726017,
          1.7053976790292478,
          0.9591926546787697,
          1.0830800300363144,
          -0.7458624482789284,
          0.00978102219508137,
          -0.9888119728575078,
          -1.0526562671556607,
          -0.48038870163723124,
          -0.6569719817113063,
          -0.848735736192335,
          2.190392250125886,
          0.8904709443200586,
          -0.24858231907030764,
          0.9716461842773628,
          -1.0724720077866086,
          0.15156616663461042,
          0.36165937700608153,
          -0.7221361260002299,
          -2.0364234750392334,
          -0.6879418802528297,
          -0.40851358835174423,
          0.9529887543414152,
          -0.15851581650574076,
          -1.4341531957352023,
          0.1659117333162127,
          2.344432739425215,
          0.23891550498788275
         ],
         "yaxis": "y7"
        },
        {
         "line": {
          "color": "rgba(128, 128, 128, 1.0)",
          "dash": "solid",
          "shape": "linear",
          "width": 1.3
         },
         "marker": {
          "size": 2,
          "symbol": "circle"
         },
         "mode": "markers",
         "name": "B",
         "text": "",
         "type": "scatter",
         "x": [
          1.4569727607926122,
          1.5803324075229161,
          -1.2897002441333556,
          -0.16166551474494495,
          -1.976502864334509,
          -0.8693958414819042,
          0.9551460280404175,
          0.2802516103397689,
          1.2550272097356434,
          0.9155115058822488,
          0.7733482131769092,
          -1.1631126105679386,
          0.3931126235197993,
          1.5592260592093,
          -0.7546707280860958,
          -0.577462363122032,
          0.10812191862643344,
          -1.3021525005770849,
          0.0013863273196885522,
          -1.1565924417119133,
          0.030893790789631646,
          -0.2921139554387492,
          -0.6378229963088616,
          -0.2552420579232666,
          -0.7105803541717001,
          -0.7310763884707412,
          0.850591748444687,
          0.25350478409356253,
          -0.0025095031827617282,
          -1.038633643463149,
          0.8260476059311241,
          0.5222387643383883,
          1.4269978745065481,
          -2.1968429450957525,
          0.1884115433816258,
          -0.26168481206024646,
          0.7273415497579273,
          2.299797566491191,
          0.8788511743957212,
          1.1091884743081923,
          0.388275901319309,
          0.059801554863223624,
          0.7049894936262245,
          1.0788069961882627,
          0.430901839072723,
          0.625095337397016,
          -0.15792309032785642,
          0.45281184157042315,
          -0.4517714112086825,
          -1.321525146743949,
          0.6769278297715584,
          -0.66020231086785,
          0.02621609074868664,
          1.237167600904855,
          -0.37366966211437025,
          -0.8374883670259714,
          -1.7838417355758664,
          1.9282931010823163,
          0.9403749494318877,
          0.30310974524093093,
          1.0237472277719784,
          -0.9817481934613881,
          -0.7965587873113616,
          -0.2756526237681351,
          0.07193352921125992,
          1.3843610975021363,
          -1.1883473539731926,
          -1.132010345991311,
          -1.0217264191012476,
          0.7850296917497678,
          2.2121655730172725,
          0.5932119006791556,
          -1.439284833023011,
          -0.7046679703172876,
          -0.42747316155692994,
          -1.7867416717823146,
          -1.3465481460900666,
          -1.1275245220204797,
          -0.1920986987537914,
          0.2695193429927655,
          -2.0193794708287247,
          0.664330606404295,
          -2.5251217573612994,
          2.195869829867191,
          0.6241679103092804,
          -2.4482135541760828,
          2.022834651920917,
          1.0827267716967608,
          -0.006038442634036476,
          -0.861912397917697,
          1.4948604815170339,
          -0.21769551523968977,
          -0.26311210258217965,
          0.37203035503116805,
          -0.7976063789805946,
          -0.557349689706263,
          2.148558435514855,
          -1.074934475018916,
          -2.799387901627083,
          0.2607365043330616
         ],
         "xaxis": "x8",
         "y": [
          -0.740902655559266,
          -0.08310433278810744,
          -1.251683393405426,
          -1.204225704833254,
          1.0143348303407134,
          -1.0161633496549207,
          -1.7583971257729267,
          1.4521908459282145,
          -0.480368906287327,
          0.5131858057305899,
          0.27503721587001323,
          1.290465634875162,
          1.1124276711007453,
          -1.4899235118041922,
          0.38697483901701935,
          0.4129744286146979,
          2.095129686566982,
          0.8399787083500704,
          0.6710525662253761,
          -0.4681469240612532,
          2.1194359317570535,
          1.038915191126487,
          -0.7172554535302076,
          0.5688903859711237,
          0.826646992545889,
          0.09105518538007447,
          -0.589810469872444,
          -0.1525563108196747,
          -0.3633806409535802,
          0.2692246496286448,
          -0.1395863420602316,
          0.6420796882555284,
          -0.3895501220033279,
          -0.6842852202025996,
          -0.0662269940405855,
          -2.6265164759204436,
          -0.9020476303540725,
          -0.4167566139166744,
          0.7135005499949627,
          -1.094409509953378,
          -1.7596727501739213,
          -1.3221416350039188,
          -1.165871915271899,
          -0.17725703007771632,
          0.07750703246294158,
          -0.4058509152122095,
          1.0113863879667255,
          1.1743453857185353,
          0.1522145118031781,
          -0.7226455063181879,
          -0.9955570686188059,
          0.2765818865175756,
          -1.3549808500418952,
          1.337102837580037,
          -0.08188136453619636,
          -1.04472177658133,
          0.7038632224719813,
          -1.2644862932195187,
          0.3524073622222112,
          -0.46797925694821996,
          0.6379518560397109,
          0.5978368539603639,
          0.1896862075086954,
          0.01498863199058901,
          0.6737610775168448,
          -0.2093368496264277,
          -0.4445627663438925,
          -0.5225801896099493,
          0.11252918692066753,
          0.8218878151077612,
          -0.8365245614729655,
          -0.8260737556521454,
          0.821246020726017,
          1.7053976790292478,
          0.9591926546787697,
          1.0830800300363144,
          -0.7458624482789284,
          0.00978102219508137,
          -0.9888119728575078,
          -1.0526562671556607,
          -0.48038870163723124,
          -0.6569719817113063,
          -0.848735736192335,
          2.190392250125886,
          0.8904709443200586,
          -0.24858231907030764,
          0.9716461842773628,
          -1.0724720077866086,
          0.15156616663461042,
          0.36165937700608153,
          -0.7221361260002299,
          -2.0364234750392334,
          -0.6879418802528297,
          -0.40851358835174423,
          0.9529887543414152,
          -0.15851581650574076,
          -1.4341531957352023,
          0.1659117333162127,
          2.344432739425215,
          0.23891550498788275
         ],
         "yaxis": "y8"
        },
        {
         "line": {
          "color": "rgba(128, 128, 128, 1.0)",
          "dash": "solid",
          "shape": "linear",
          "width": 1.3
         },
         "marker": {
          "size": 2,
          "symbol": "circle"
         },
         "mode": "markers",
         "name": "C",
         "text": "",
         "type": "scatter",
         "x": [
          -0.07626798862524346,
          0.22540134756441488,
          -0.8057647977006603,
          0.3775230577282411,
          -0.1680604099266579,
          0.8713582072512306,
          -0.08016296132520627,
          2.0793375312602986,
          0.6174946047522917,
          1.3470244023614335,
          -0.45534748125031793,
          1.1567776506639353,
          -0.8740526020125177,
          -0.037407388938710644,
          0.5532512221426178,
          -1.051190550010996,
          -0.35056999351700524,
          1.071823066376621,
          0.9093892370915182,
          -1.0488537815283008,
          -0.4599270555168315,
          1.8602051198265883,
          -0.8249352680142302,
          -1.5106002057662986,
          0.0996067858587673,
          -0.9955831080121025,
          -1.1743481536862996,
          0.798495220365897,
          2.135298305419711,
          -0.918373544679037,
          -1.3292049671635469,
          -1.482014934583836,
          0.4658513332948664,
          1.7175357781491922,
          -0.1606077083412937,
          0.5805593871078475,
          -0.2538847588879203,
          1.0542215320006398,
          -0.4301439180270131,
          -1.2014952657868243,
          0.4460530424636575,
          -0.38016505214183166,
          1.187504657276655,
          1.0092529666759915,
          0.5276280783314551,
          -2.3146759442720812,
          -0.9726633353919516,
          -1.4651901913239982,
          -0.8517523630692322,
          -2.317281604613853,
          -0.14261933190625772,
          -2.077146476047186,
          -0.3251807441512565,
          0.1319632239823357,
          0.7486045945026552,
          0.33685670014918506,
          -0.037845194242645784,
          -1.3667973040236276,
          0.7727164075726849,
          -1.2011494900729764,
          0.2691153645066599,
          -0.7673187313510428,
          0.7313925705637623,
          0.27488086113873705,
          -0.21474757848854253,
          0.9183127839848029,
          0.20274982610001047,
          -1.2321068101491492,
          2.2023622350450003,
          0.22588488340486504,
          -0.21025110889818346,
          -0.06932808427719565,
          -0.330211178580367,
          -1.1630223928019472,
          0.3991187829537466,
          0.26561049183638635,
          0.2489546357507444,
          -1.0363391210443667,
          0.28072456627802256,
          -1.4258804403303178,
          0.34187592095465646,
          -1.1053725354624688,
          -0.7016568221765985,
          0.3193171141371305,
          -1.6882672411213937,
          -0.6384005418166574,
          1.1931023903017663,
          -1.079295557921701,
          0.953153121390354,
          0.4535569514855566,
          -0.6142109560790182,
          1.7927716591736043,
          -2.0886630176573466,
          -0.647956166935598,
          -0.5679356570104203,
          0.6153764784573306,
          1.211953758491585,
          -1.516211074458471,
          -0.6678919354224481,
          0.7549092172063453
         ],
         "xaxis": "x9",
         "y": [
          0.11506777591334545,
          -0.4669527591483944,
          0.838753938652362,
          1.7939169837397981,
          -1.3438326100575777,
          0.7772824387875003,
          0.5255163998487751,
          -0.14372743715167027,
          -1.1350475503194846,
          0.8377061742195445,
          -1.2893734663813263,
          -0.6490806584734865,
          -0.7905725983268116,
          1.4409167604861066,
          0.4687506103857752,
          0.9228644793460214,
          0.7256872634793196,
          -0.6776405780161343,
          -0.4906669437171314,
          -0.8185539687468362,
          -0.9529249151507974,
          0.9494275287384024,
          -0.8404780177971688,
          -0.23859050718064892,
          -1.33085820350392,
          -0.2547223651273164,
          1.3848369503129814,
          -0.015170397451762494,
          1.081412525387793,
          0.13221713750683914,
          -0.5915055288945772,
          -0.694599290081804,
          1.0150485266600329,
          1.5155566873877593,
          0.6275328930383646,
          -0.5840219696353247,
          -0.776311457551167,
          -0.6717617949609185,
          -0.9457685055861333,
          -0.6349865365838709,
          -0.9450538817674731,
          0.3358272922545994,
          2.2519875839333503,
          1.0990320253477452,
          2.1579827483939638,
          0.6262070029210622,
          0.3469528394636604,
          0.8181198570393231,
          0.3584307652929029,
          0.5411769289617455,
          -1.6469461542071104,
          -0.9394111622402175,
          0.34570756963622945,
          -0.08313735682778838,
          -0.5827389646844746,
          0.9313053242818813,
          0.522310163649811,
          0.6073699269751509,
          -2.0324889511721214,
          -1.9066225540276152,
          1.590194563123513,
          -0.4311534589466588,
          2.0156464167629853,
          0.5105587282134346,
          0.06424465390783764,
          1.2993272757132333,
          -0.8002831178402844,
          -0.09064770187143911,
          0.9597380188142864,
          0.048626762496730105,
          1.015142005510411,
          3.2188022869139106,
          -0.10316204116054475,
          -1.2826721358372464,
          0.2232936363291398,
          -1.1676562338091363,
          0.29032401337670666,
          0.14965456611823938,
          1.4024381550184488,
          -2.1890658665656177,
          0.2755147161407717,
          1.5955506986374905,
          0.07572171368240455,
          -0.08262244372807441,
          0.2166289542416796,
          0.08603331417035655,
          -1.021756178602517,
          -0.5269913512362231,
          -0.3539868604883295,
          -0.35340661766312104,
          -0.8723077965365962,
          -0.856046069191193,
          -0.16826738357465057,
          1.4501480109011096,
          0.5542794821235857,
          -1.1598134961669193,
          -0.2878579037631965,
          0.10974255297595349,
          -0.996444324819498,
          1.1446227114720948
         ],
         "yaxis": "y9"
        },
        {
         "line": {
          "color": "rgba(128, 128, 128, 1.0)",
          "dash": "solid",
          "shape": "linear",
          "width": 1.3
         },
         "marker": {
          "size": 2,
          "symbol": "circle"
         },
         "mode": "markers",
         "name": "C",
         "text": "",
         "type": "scatter",
         "x": [
          -0.740902655559266,
          -0.08310433278810744,
          -1.251683393405426,
          -1.204225704833254,
          1.0143348303407134,
          -1.0161633496549207,
          -1.7583971257729267,
          1.4521908459282145,
          -0.480368906287327,
          0.5131858057305899,
          0.27503721587001323,
          1.290465634875162,
          1.1124276711007453,
          -1.4899235118041922,
          0.38697483901701935,
          0.4129744286146979,
          2.095129686566982,
          0.8399787083500704,
          0.6710525662253761,
          -0.4681469240612532,
          2.1194359317570535,
          1.038915191126487,
          -0.7172554535302076,
          0.5688903859711237,
          0.826646992545889,
          0.09105518538007447,
          -0.589810469872444,
          -0.1525563108196747,
          -0.3633806409535802,
          0.2692246496286448,
          -0.1395863420602316,
          0.6420796882555284,
          -0.3895501220033279,
          -0.6842852202025996,
          -0.0662269940405855,
          -2.6265164759204436,
          -0.9020476303540725,
          -0.4167566139166744,
          0.7135005499949627,
          -1.094409509953378,
          -1.7596727501739213,
          -1.3221416350039188,
          -1.165871915271899,
          -0.17725703007771632,
          0.07750703246294158,
          -0.4058509152122095,
          1.0113863879667255,
          1.1743453857185353,
          0.1522145118031781,
          -0.7226455063181879,
          -0.9955570686188059,
          0.2765818865175756,
          -1.3549808500418952,
          1.337102837580037,
          -0.08188136453619636,
          -1.04472177658133,
          0.7038632224719813,
          -1.2644862932195187,
          0.3524073622222112,
          -0.46797925694821996,
          0.6379518560397109,
          0.5978368539603639,
          0.1896862075086954,
          0.01498863199058901,
          0.6737610775168448,
          -0.2093368496264277,
          -0.4445627663438925,
          -0.5225801896099493,
          0.11252918692066753,
          0.8218878151077612,
          -0.8365245614729655,
          -0.8260737556521454,
          0.821246020726017,
          1.7053976790292478,
          0.9591926546787697,
          1.0830800300363144,
          -0.7458624482789284,
          0.00978102219508137,
          -0.9888119728575078,
          -1.0526562671556607,
          -0.48038870163723124,
          -0.6569719817113063,
          -0.848735736192335,
          2.190392250125886,
          0.8904709443200586,
          -0.24858231907030764,
          0.9716461842773628,
          -1.0724720077866086,
          0.15156616663461042,
          0.36165937700608153,
          -0.7221361260002299,
          -2.0364234750392334,
          -0.6879418802528297,
          -0.40851358835174423,
          0.9529887543414152,
          -0.15851581650574076,
          -1.4341531957352023,
          0.1659117333162127,
          2.344432739425215,
          0.23891550498788275
         ],
         "xaxis": "x10",
         "y": [
          0.11506777591334545,
          -0.4669527591483944,
          0.838753938652362,
          1.7939169837397981,
          -1.3438326100575777,
          0.7772824387875003,
          0.5255163998487751,
          -0.14372743715167027,
          -1.1350475503194846,
          0.8377061742195445,
          -1.2893734663813263,
          -0.6490806584734865,
          -0.7905725983268116,
          1.4409167604861066,
          0.4687506103857752,
          0.9228644793460214,
          0.7256872634793196,
          -0.6776405780161343,
          -0.4906669437171314,
          -0.8185539687468362,
          -0.9529249151507974,
          0.9494275287384024,
          -0.8404780177971688,
          -0.23859050718064892,
          -1.33085820350392,
          -0.2547223651273164,
          1.3848369503129814,
          -0.015170397451762494,
          1.081412525387793,
          0.13221713750683914,
          -0.5915055288945772,
          -0.694599290081804,
          1.0150485266600329,
          1.5155566873877593,
          0.6275328930383646,
          -0.5840219696353247,
          -0.776311457551167,
          -0.6717617949609185,
          -0.9457685055861333,
          -0.6349865365838709,
          -0.9450538817674731,
          0.3358272922545994,
          2.2519875839333503,
          1.0990320253477452,
          2.1579827483939638,
          0.6262070029210622,
          0.3469528394636604,
          0.8181198570393231,
          0.3584307652929029,
          0.5411769289617455,
          -1.6469461542071104,
          -0.9394111622402175,
          0.34570756963622945,
          -0.08313735682778838,
          -0.5827389646844746,
          0.9313053242818813,
          0.522310163649811,
          0.6073699269751509,
          -2.0324889511721214,
          -1.9066225540276152,
          1.590194563123513,
          -0.4311534589466588,
          2.0156464167629853,
          0.5105587282134346,
          0.06424465390783764,
          1.2993272757132333,
          -0.8002831178402844,
          -0.09064770187143911,
          0.9597380188142864,
          0.048626762496730105,
          1.015142005510411,
          3.2188022869139106,
          -0.10316204116054475,
          -1.2826721358372464,
          0.2232936363291398,
          -1.1676562338091363,
          0.29032401337670666,
          0.14965456611823938,
          1.4024381550184488,
          -2.1890658665656177,
          0.2755147161407717,
          1.5955506986374905,
          0.07572171368240455,
          -0.08262244372807441,
          0.2166289542416796,
          0.08603331417035655,
          -1.021756178602517,
          -0.5269913512362231,
          -0.3539868604883295,
          -0.35340661766312104,
          -0.8723077965365962,
          -0.856046069191193,
          -0.16826738357465057,
          1.4501480109011096,
          0.5542794821235857,
          -1.1598134961669193,
          -0.2878579037631965,
          0.10974255297595349,
          -0.996444324819498,
          1.1446227114720948
         ],
         "yaxis": "y10"
        },
        {
         "histfunc": "count",
         "histnorm": "",
         "marker": {
          "color": "rgba(50, 171, 96, 1.0)",
          "line": {
           "color": "#4D5663",
           "width": 1.3
          }
         },
         "name": "C",
         "nbinsx": 10,
         "opacity": 0.8,
         "orientation": "v",
         "type": "histogram",
         "x": [
          0.11506777591334545,
          -0.4669527591483944,
          0.838753938652362,
          1.7939169837397981,
          -1.3438326100575777,
          0.7772824387875003,
          0.5255163998487751,
          -0.14372743715167027,
          -1.1350475503194846,
          0.8377061742195445,
          -1.2893734663813263,
          -0.6490806584734865,
          -0.7905725983268116,
          1.4409167604861066,
          0.4687506103857752,
          0.9228644793460214,
          0.7256872634793196,
          -0.6776405780161343,
          -0.4906669437171314,
          -0.8185539687468362,
          -0.9529249151507974,
          0.9494275287384024,
          -0.8404780177971688,
          -0.23859050718064892,
          -1.33085820350392,
          -0.2547223651273164,
          1.3848369503129814,
          -0.015170397451762494,
          1.081412525387793,
          0.13221713750683914,
          -0.5915055288945772,
          -0.694599290081804,
          1.0150485266600329,
          1.5155566873877593,
          0.6275328930383646,
          -0.5840219696353247,
          -0.776311457551167,
          -0.6717617949609185,
          -0.9457685055861333,
          -0.6349865365838709,
          -0.9450538817674731,
          0.3358272922545994,
          2.2519875839333503,
          1.0990320253477452,
          2.1579827483939638,
          0.6262070029210622,
          0.3469528394636604,
          0.8181198570393231,
          0.3584307652929029,
          0.5411769289617455,
          -1.6469461542071104,
          -0.9394111622402175,
          0.34570756963622945,
          -0.08313735682778838,
          -0.5827389646844746,
          0.9313053242818813,
          0.522310163649811,
          0.6073699269751509,
          -2.0324889511721214,
          -1.9066225540276152,
          1.590194563123513,
          -0.4311534589466588,
          2.0156464167629853,
          0.5105587282134346,
          0.06424465390783764,
          1.2993272757132333,
          -0.8002831178402844,
          -0.09064770187143911,
          0.9597380188142864,
          0.048626762496730105,
          1.015142005510411,
          3.2188022869139106,
          -0.10316204116054475,
          -1.2826721358372464,
          0.2232936363291398,
          -1.1676562338091363,
          0.29032401337670666,
          0.14965456611823938,
          1.4024381550184488,
          -2.1890658665656177,
          0.2755147161407717,
          1.5955506986374905,
          0.07572171368240455,
          -0.08262244372807441,
          0.2166289542416796,
          0.08603331417035655,
          -1.021756178602517,
          -0.5269913512362231,
          -0.3539868604883295,
          -0.35340661766312104,
          -0.8723077965365962,
          -0.856046069191193,
          -0.16826738357465057,
          1.4501480109011096,
          0.5542794821235857,
          -1.1598134961669193,
          -0.2878579037631965,
          0.10974255297595349,
          -0.996444324819498,
          1.1446227114720948
         ],
         "xaxis": "x11",
         "yaxis": "y11"
        },
        {
         "line": {
          "color": "rgba(128, 128, 128, 1.0)",
          "dash": "solid",
          "shape": "linear",
          "width": 1.3
         },
         "marker": {
          "size": 2,
          "symbol": "circle"
         },
         "mode": "markers",
         "name": "C",
         "text": "",
         "type": "scatter",
         "x": [
          1.4569727607926122,
          1.5803324075229161,
          -1.2897002441333556,
          -0.16166551474494495,
          -1.976502864334509,
          -0.8693958414819042,
          0.9551460280404175,
          0.2802516103397689,
          1.2550272097356434,
          0.9155115058822488,
          0.7733482131769092,
          -1.1631126105679386,
          0.3931126235197993,
          1.5592260592093,
          -0.7546707280860958,
          -0.577462363122032,
          0.10812191862643344,
          -1.3021525005770849,
          0.0013863273196885522,
          -1.1565924417119133,
          0.030893790789631646,
          -0.2921139554387492,
          -0.6378229963088616,
          -0.2552420579232666,
          -0.7105803541717001,
          -0.7310763884707412,
          0.850591748444687,
          0.25350478409356253,
          -0.0025095031827617282,
          -1.038633643463149,
          0.8260476059311241,
          0.5222387643383883,
          1.4269978745065481,
          -2.1968429450957525,
          0.1884115433816258,
          -0.26168481206024646,
          0.7273415497579273,
          2.299797566491191,
          0.8788511743957212,
          1.1091884743081923,
          0.388275901319309,
          0.059801554863223624,
          0.7049894936262245,
          1.0788069961882627,
          0.430901839072723,
          0.625095337397016,
          -0.15792309032785642,
          0.45281184157042315,
          -0.4517714112086825,
          -1.321525146743949,
          0.6769278297715584,
          -0.66020231086785,
          0.02621609074868664,
          1.237167600904855,
          -0.37366966211437025,
          -0.8374883670259714,
          -1.7838417355758664,
          1.9282931010823163,
          0.9403749494318877,
          0.30310974524093093,
          1.0237472277719784,
          -0.9817481934613881,
          -0.7965587873113616,
          -0.2756526237681351,
          0.07193352921125992,
          1.3843610975021363,
          -1.1883473539731926,
          -1.132010345991311,
          -1.0217264191012476,
          0.7850296917497678,
          2.2121655730172725,
          0.5932119006791556,
          -1.439284833023011,
          -0.7046679703172876,
          -0.42747316155692994,
          -1.7867416717823146,
          -1.3465481460900666,
          -1.1275245220204797,
          -0.1920986987537914,
          0.2695193429927655,
          -2.0193794708287247,
          0.664330606404295,
          -2.5251217573612994,
          2.195869829867191,
          0.6241679103092804,
          -2.4482135541760828,
          2.022834651920917,
          1.0827267716967608,
          -0.006038442634036476,
          -0.861912397917697,
          1.4948604815170339,
          -0.21769551523968977,
          -0.26311210258217965,
          0.37203035503116805,
          -0.7976063789805946,
          -0.557349689706263,
          2.148558435514855,
          -1.074934475018916,
          -2.799387901627083,
          0.2607365043330616
         ],
         "xaxis": "x12",
         "y": [
          0.11506777591334545,
          -0.4669527591483944,
          0.838753938652362,
          1.7939169837397981,
          -1.3438326100575777,
          0.7772824387875003,
          0.5255163998487751,
          -0.14372743715167027,
          -1.1350475503194846,
          0.8377061742195445,
          -1.2893734663813263,
          -0.6490806584734865,
          -0.7905725983268116,
          1.4409167604861066,
          0.4687506103857752,
          0.9228644793460214,
          0.7256872634793196,
          -0.6776405780161343,
          -0.4906669437171314,
          -0.8185539687468362,
          -0.9529249151507974,
          0.9494275287384024,
          -0.8404780177971688,
          -0.23859050718064892,
          -1.33085820350392,
          -0.2547223651273164,
          1.3848369503129814,
          -0.015170397451762494,
          1.081412525387793,
          0.13221713750683914,
          -0.5915055288945772,
          -0.694599290081804,
          1.0150485266600329,
          1.5155566873877593,
          0.6275328930383646,
          -0.5840219696353247,
          -0.776311457551167,
          -0.6717617949609185,
          -0.9457685055861333,
          -0.6349865365838709,
          -0.9450538817674731,
          0.3358272922545994,
          2.2519875839333503,
          1.0990320253477452,
          2.1579827483939638,
          0.6262070029210622,
          0.3469528394636604,
          0.8181198570393231,
          0.3584307652929029,
          0.5411769289617455,
          -1.6469461542071104,
          -0.9394111622402175,
          0.34570756963622945,
          -0.08313735682778838,
          -0.5827389646844746,
          0.9313053242818813,
          0.522310163649811,
          0.6073699269751509,
          -2.0324889511721214,
          -1.9066225540276152,
          1.590194563123513,
          -0.4311534589466588,
          2.0156464167629853,
          0.5105587282134346,
          0.06424465390783764,
          1.2993272757132333,
          -0.8002831178402844,
          -0.09064770187143911,
          0.9597380188142864,
          0.048626762496730105,
          1.015142005510411,
          3.2188022869139106,
          -0.10316204116054475,
          -1.2826721358372464,
          0.2232936363291398,
          -1.1676562338091363,
          0.29032401337670666,
          0.14965456611823938,
          1.4024381550184488,
          -2.1890658665656177,
          0.2755147161407717,
          1.5955506986374905,
          0.07572171368240455,
          -0.08262244372807441,
          0.2166289542416796,
          0.08603331417035655,
          -1.021756178602517,
          -0.5269913512362231,
          -0.3539868604883295,
          -0.35340661766312104,
          -0.8723077965365962,
          -0.856046069191193,
          -0.16826738357465057,
          1.4501480109011096,
          0.5542794821235857,
          -1.1598134961669193,
          -0.2878579037631965,
          0.10974255297595349,
          -0.996444324819498,
          1.1446227114720948
         ],
         "yaxis": "y12"
        },
        {
         "line": {
          "color": "rgba(128, 128, 128, 1.0)",
          "dash": "solid",
          "shape": "linear",
          "width": 1.3
         },
         "marker": {
          "size": 2,
          "symbol": "circle"
         },
         "mode": "markers",
         "name": "D",
         "text": "",
         "type": "scatter",
         "x": [
          -0.07626798862524346,
          0.22540134756441488,
          -0.8057647977006603,
          0.3775230577282411,
          -0.1680604099266579,
          0.8713582072512306,
          -0.08016296132520627,
          2.0793375312602986,
          0.6174946047522917,
          1.3470244023614335,
          -0.45534748125031793,
          1.1567776506639353,
          -0.8740526020125177,
          -0.037407388938710644,
          0.5532512221426178,
          -1.051190550010996,
          -0.35056999351700524,
          1.071823066376621,
          0.9093892370915182,
          -1.0488537815283008,
          -0.4599270555168315,
          1.8602051198265883,
          -0.8249352680142302,
          -1.5106002057662986,
          0.0996067858587673,
          -0.9955831080121025,
          -1.1743481536862996,
          0.798495220365897,
          2.135298305419711,
          -0.918373544679037,
          -1.3292049671635469,
          -1.482014934583836,
          0.4658513332948664,
          1.7175357781491922,
          -0.1606077083412937,
          0.5805593871078475,
          -0.2538847588879203,
          1.0542215320006398,
          -0.4301439180270131,
          -1.2014952657868243,
          0.4460530424636575,
          -0.38016505214183166,
          1.187504657276655,
          1.0092529666759915,
          0.5276280783314551,
          -2.3146759442720812,
          -0.9726633353919516,
          -1.4651901913239982,
          -0.8517523630692322,
          -2.317281604613853,
          -0.14261933190625772,
          -2.077146476047186,
          -0.3251807441512565,
          0.1319632239823357,
          0.7486045945026552,
          0.33685670014918506,
          -0.037845194242645784,
          -1.3667973040236276,
          0.7727164075726849,
          -1.2011494900729764,
          0.2691153645066599,
          -0.7673187313510428,
          0.7313925705637623,
          0.27488086113873705,
          -0.21474757848854253,
          0.9183127839848029,
          0.20274982610001047,
          -1.2321068101491492,
          2.2023622350450003,
          0.22588488340486504,
          -0.21025110889818346,
          -0.06932808427719565,
          -0.330211178580367,
          -1.1630223928019472,
          0.3991187829537466,
          0.26561049183638635,
          0.2489546357507444,
          -1.0363391210443667,
          0.28072456627802256,
          -1.4258804403303178,
          0.34187592095465646,
          -1.1053725354624688,
          -0.7016568221765985,
          0.3193171141371305,
          -1.6882672411213937,
          -0.6384005418166574,
          1.1931023903017663,
          -1.079295557921701,
          0.953153121390354,
          0.4535569514855566,
          -0.6142109560790182,
          1.7927716591736043,
          -2.0886630176573466,
          -0.647956166935598,
          -0.5679356570104203,
          0.6153764784573306,
          1.211953758491585,
          -1.516211074458471,
          -0.6678919354224481,
          0.7549092172063453
         ],
         "xaxis": "x13",
         "y": [
          1.4569727607926122,
          1.5803324075229161,
          -1.2897002441333556,
          -0.16166551474494495,
          -1.976502864334509,
          -0.8693958414819042,
          0.9551460280404175,
          0.2802516103397689,
          1.2550272097356434,
          0.9155115058822488,
          0.7733482131769092,
          -1.1631126105679386,
          0.3931126235197993,
          1.5592260592093,
          -0.7546707280860958,
          -0.577462363122032,
          0.10812191862643344,
          -1.3021525005770849,
          0.0013863273196885522,
          -1.1565924417119133,
          0.030893790789631646,
          -0.2921139554387492,
          -0.6378229963088616,
          -0.2552420579232666,
          -0.7105803541717001,
          -0.7310763884707412,
          0.850591748444687,
          0.25350478409356253,
          -0.0025095031827617282,
          -1.038633643463149,
          0.8260476059311241,
          0.5222387643383883,
          1.4269978745065481,
          -2.1968429450957525,
          0.1884115433816258,
          -0.26168481206024646,
          0.7273415497579273,
          2.299797566491191,
          0.8788511743957212,
          1.1091884743081923,
          0.388275901319309,
          0.059801554863223624,
          0.7049894936262245,
          1.0788069961882627,
          0.430901839072723,
          0.625095337397016,
          -0.15792309032785642,
          0.45281184157042315,
          -0.4517714112086825,
          -1.321525146743949,
          0.6769278297715584,
          -0.66020231086785,
          0.02621609074868664,
          1.237167600904855,
          -0.37366966211437025,
          -0.8374883670259714,
          -1.7838417355758664,
          1.9282931010823163,
          0.9403749494318877,
          0.30310974524093093,
          1.0237472277719784,
          -0.9817481934613881,
          -0.7965587873113616,
          -0.2756526237681351,
          0.07193352921125992,
          1.3843610975021363,
          -1.1883473539731926,
          -1.132010345991311,
          -1.0217264191012476,
          0.7850296917497678,
          2.2121655730172725,
          0.5932119006791556,
          -1.439284833023011,
          -0.7046679703172876,
          -0.42747316155692994,
          -1.7867416717823146,
          -1.3465481460900666,
          -1.1275245220204797,
          -0.1920986987537914,
          0.2695193429927655,
          -2.0193794708287247,
          0.664330606404295,
          -2.5251217573612994,
          2.195869829867191,
          0.6241679103092804,
          -2.4482135541760828,
          2.022834651920917,
          1.0827267716967608,
          -0.006038442634036476,
          -0.861912397917697,
          1.4948604815170339,
          -0.21769551523968977,
          -0.26311210258217965,
          0.37203035503116805,
          -0.7976063789805946,
          -0.557349689706263,
          2.148558435514855,
          -1.074934475018916,
          -2.799387901627083,
          0.2607365043330616
         ],
         "yaxis": "y13"
        },
        {
         "line": {
          "color": "rgba(128, 128, 128, 1.0)",
          "dash": "solid",
          "shape": "linear",
          "width": 1.3
         },
         "marker": {
          "size": 2,
          "symbol": "circle"
         },
         "mode": "markers",
         "name": "D",
         "text": "",
         "type": "scatter",
         "x": [
          -0.740902655559266,
          -0.08310433278810744,
          -1.251683393405426,
          -1.204225704833254,
          1.0143348303407134,
          -1.0161633496549207,
          -1.7583971257729267,
          1.4521908459282145,
          -0.480368906287327,
          0.5131858057305899,
          0.27503721587001323,
          1.290465634875162,
          1.1124276711007453,
          -1.4899235118041922,
          0.38697483901701935,
          0.4129744286146979,
          2.095129686566982,
          0.8399787083500704,
          0.6710525662253761,
          -0.4681469240612532,
          2.1194359317570535,
          1.038915191126487,
          -0.7172554535302076,
          0.5688903859711237,
          0.826646992545889,
          0.09105518538007447,
          -0.589810469872444,
          -0.1525563108196747,
          -0.3633806409535802,
          0.2692246496286448,
          -0.1395863420602316,
          0.6420796882555284,
          -0.3895501220033279,
          -0.6842852202025996,
          -0.0662269940405855,
          -2.6265164759204436,
          -0.9020476303540725,
          -0.4167566139166744,
          0.7135005499949627,
          -1.094409509953378,
          -1.7596727501739213,
          -1.3221416350039188,
          -1.165871915271899,
          -0.17725703007771632,
          0.07750703246294158,
          -0.4058509152122095,
          1.0113863879667255,
          1.1743453857185353,
          0.1522145118031781,
          -0.7226455063181879,
          -0.9955570686188059,
          0.2765818865175756,
          -1.3549808500418952,
          1.337102837580037,
          -0.08188136453619636,
          -1.04472177658133,
          0.7038632224719813,
          -1.2644862932195187,
          0.3524073622222112,
          -0.46797925694821996,
          0.6379518560397109,
          0.5978368539603639,
          0.1896862075086954,
          0.01498863199058901,
          0.6737610775168448,
          -0.2093368496264277,
          -0.4445627663438925,
          -0.5225801896099493,
          0.11252918692066753,
          0.8218878151077612,
          -0.8365245614729655,
          -0.8260737556521454,
          0.821246020726017,
          1.7053976790292478,
          0.9591926546787697,
          1.0830800300363144,
          -0.7458624482789284,
          0.00978102219508137,
          -0.9888119728575078,
          -1.0526562671556607,
          -0.48038870163723124,
          -0.6569719817113063,
          -0.848735736192335,
          2.190392250125886,
          0.8904709443200586,
          -0.24858231907030764,
          0.9716461842773628,
          -1.0724720077866086,
          0.15156616663461042,
          0.36165937700608153,
          -0.7221361260002299,
          -2.0364234750392334,
          -0.6879418802528297,
          -0.40851358835174423,
          0.9529887543414152,
          -0.15851581650574076,
          -1.4341531957352023,
          0.1659117333162127,
          2.344432739425215,
          0.23891550498788275
         ],
         "xaxis": "x14",
         "y": [
          1.4569727607926122,
          1.5803324075229161,
          -1.2897002441333556,
          -0.16166551474494495,
          -1.976502864334509,
          -0.8693958414819042,
          0.9551460280404175,
          0.2802516103397689,
          1.2550272097356434,
          0.9155115058822488,
          0.7733482131769092,
          -1.1631126105679386,
          0.3931126235197993,
          1.5592260592093,
          -0.7546707280860958,
          -0.577462363122032,
          0.10812191862643344,
          -1.3021525005770849,
          0.0013863273196885522,
          -1.1565924417119133,
          0.030893790789631646,
          -0.2921139554387492,
          -0.6378229963088616,
          -0.2552420579232666,
          -0.7105803541717001,
          -0.7310763884707412,
          0.850591748444687,
          0.25350478409356253,
          -0.0025095031827617282,
          -1.038633643463149,
          0.8260476059311241,
          0.5222387643383883,
          1.4269978745065481,
          -2.1968429450957525,
          0.1884115433816258,
          -0.26168481206024646,
          0.7273415497579273,
          2.299797566491191,
          0.8788511743957212,
          1.1091884743081923,
          0.388275901319309,
          0.059801554863223624,
          0.7049894936262245,
          1.0788069961882627,
          0.430901839072723,
          0.625095337397016,
          -0.15792309032785642,
          0.45281184157042315,
          -0.4517714112086825,
          -1.321525146743949,
          0.6769278297715584,
          -0.66020231086785,
          0.02621609074868664,
          1.237167600904855,
          -0.37366966211437025,
          -0.8374883670259714,
          -1.7838417355758664,
          1.9282931010823163,
          0.9403749494318877,
          0.30310974524093093,
          1.0237472277719784,
          -0.9817481934613881,
          -0.7965587873113616,
          -0.2756526237681351,
          0.07193352921125992,
          1.3843610975021363,
          -1.1883473539731926,
          -1.132010345991311,
          -1.0217264191012476,
          0.7850296917497678,
          2.2121655730172725,
          0.5932119006791556,
          -1.439284833023011,
          -0.7046679703172876,
          -0.42747316155692994,
          -1.7867416717823146,
          -1.3465481460900666,
          -1.1275245220204797,
          -0.1920986987537914,
          0.2695193429927655,
          -2.0193794708287247,
          0.664330606404295,
          -2.5251217573612994,
          2.195869829867191,
          0.6241679103092804,
          -2.4482135541760828,
          2.022834651920917,
          1.0827267716967608,
          -0.006038442634036476,
          -0.861912397917697,
          1.4948604815170339,
          -0.21769551523968977,
          -0.26311210258217965,
          0.37203035503116805,
          -0.7976063789805946,
          -0.557349689706263,
          2.148558435514855,
          -1.074934475018916,
          -2.799387901627083,
          0.2607365043330616
         ],
         "yaxis": "y14"
        },
        {
         "line": {
          "color": "rgba(128, 128, 128, 1.0)",
          "dash": "solid",
          "shape": "linear",
          "width": 1.3
         },
         "marker": {
          "size": 2,
          "symbol": "circle"
         },
         "mode": "markers",
         "name": "D",
         "text": "",
         "type": "scatter",
         "x": [
          0.11506777591334545,
          -0.4669527591483944,
          0.838753938652362,
          1.7939169837397981,
          -1.3438326100575777,
          0.7772824387875003,
          0.5255163998487751,
          -0.14372743715167027,
          -1.1350475503194846,
          0.8377061742195445,
          -1.2893734663813263,
          -0.6490806584734865,
          -0.7905725983268116,
          1.4409167604861066,
          0.4687506103857752,
          0.9228644793460214,
          0.7256872634793196,
          -0.6776405780161343,
          -0.4906669437171314,
          -0.8185539687468362,
          -0.9529249151507974,
          0.9494275287384024,
          -0.8404780177971688,
          -0.23859050718064892,
          -1.33085820350392,
          -0.2547223651273164,
          1.3848369503129814,
          -0.015170397451762494,
          1.081412525387793,
          0.13221713750683914,
          -0.5915055288945772,
          -0.694599290081804,
          1.0150485266600329,
          1.5155566873877593,
          0.6275328930383646,
          -0.5840219696353247,
          -0.776311457551167,
          -0.6717617949609185,
          -0.9457685055861333,
          -0.6349865365838709,
          -0.9450538817674731,
          0.3358272922545994,
          2.2519875839333503,
          1.0990320253477452,
          2.1579827483939638,
          0.6262070029210622,
          0.3469528394636604,
          0.8181198570393231,
          0.3584307652929029,
          0.5411769289617455,
          -1.6469461542071104,
          -0.9394111622402175,
          0.34570756963622945,
          -0.08313735682778838,
          -0.5827389646844746,
          0.9313053242818813,
          0.522310163649811,
          0.6073699269751509,
          -2.0324889511721214,
          -1.9066225540276152,
          1.590194563123513,
          -0.4311534589466588,
          2.0156464167629853,
          0.5105587282134346,
          0.06424465390783764,
          1.2993272757132333,
          -0.8002831178402844,
          -0.09064770187143911,
          0.9597380188142864,
          0.048626762496730105,
          1.015142005510411,
          3.2188022869139106,
          -0.10316204116054475,
          -1.2826721358372464,
          0.2232936363291398,
          -1.1676562338091363,
          0.29032401337670666,
          0.14965456611823938,
          1.4024381550184488,
          -2.1890658665656177,
          0.2755147161407717,
          1.5955506986374905,
          0.07572171368240455,
          -0.08262244372807441,
          0.2166289542416796,
          0.08603331417035655,
          -1.021756178602517,
          -0.5269913512362231,
          -0.3539868604883295,
          -0.35340661766312104,
          -0.8723077965365962,
          -0.856046069191193,
          -0.16826738357465057,
          1.4501480109011096,
          0.5542794821235857,
          -1.1598134961669193,
          -0.2878579037631965,
          0.10974255297595349,
          -0.996444324819498,
          1.1446227114720948
         ],
         "xaxis": "x15",
         "y": [
          1.4569727607926122,
          1.5803324075229161,
          -1.2897002441333556,
          -0.16166551474494495,
          -1.976502864334509,
          -0.8693958414819042,
          0.9551460280404175,
          0.2802516103397689,
          1.2550272097356434,
          0.9155115058822488,
          0.7733482131769092,
          -1.1631126105679386,
          0.3931126235197993,
          1.5592260592093,
          -0.7546707280860958,
          -0.577462363122032,
          0.10812191862643344,
          -1.3021525005770849,
          0.0013863273196885522,
          -1.1565924417119133,
          0.030893790789631646,
          -0.2921139554387492,
          -0.6378229963088616,
          -0.2552420579232666,
          -0.7105803541717001,
          -0.7310763884707412,
          0.850591748444687,
          0.25350478409356253,
          -0.0025095031827617282,
          -1.038633643463149,
          0.8260476059311241,
          0.5222387643383883,
          1.4269978745065481,
          -2.1968429450957525,
          0.1884115433816258,
          -0.26168481206024646,
          0.7273415497579273,
          2.299797566491191,
          0.8788511743957212,
          1.1091884743081923,
          0.388275901319309,
          0.059801554863223624,
          0.7049894936262245,
          1.0788069961882627,
          0.430901839072723,
          0.625095337397016,
          -0.15792309032785642,
          0.45281184157042315,
          -0.4517714112086825,
          -1.321525146743949,
          0.6769278297715584,
          -0.66020231086785,
          0.02621609074868664,
          1.237167600904855,
          -0.37366966211437025,
          -0.8374883670259714,
          -1.7838417355758664,
          1.9282931010823163,
          0.9403749494318877,
          0.30310974524093093,
          1.0237472277719784,
          -0.9817481934613881,
          -0.7965587873113616,
          -0.2756526237681351,
          0.07193352921125992,
          1.3843610975021363,
          -1.1883473539731926,
          -1.132010345991311,
          -1.0217264191012476,
          0.7850296917497678,
          2.2121655730172725,
          0.5932119006791556,
          -1.439284833023011,
          -0.7046679703172876,
          -0.42747316155692994,
          -1.7867416717823146,
          -1.3465481460900666,
          -1.1275245220204797,
          -0.1920986987537914,
          0.2695193429927655,
          -2.0193794708287247,
          0.664330606404295,
          -2.5251217573612994,
          2.195869829867191,
          0.6241679103092804,
          -2.4482135541760828,
          2.022834651920917,
          1.0827267716967608,
          -0.006038442634036476,
          -0.861912397917697,
          1.4948604815170339,
          -0.21769551523968977,
          -0.26311210258217965,
          0.37203035503116805,
          -0.7976063789805946,
          -0.557349689706263,
          2.148558435514855,
          -1.074934475018916,
          -2.799387901627083,
          0.2607365043330616
         ],
         "yaxis": "y15"
        },
        {
         "histfunc": "count",
         "histnorm": "",
         "marker": {
          "color": "rgba(128, 0, 128, 1.0)",
          "line": {
           "color": "#4D5663",
           "width": 1.3
          }
         },
         "name": "D",
         "nbinsx": 10,
         "opacity": 0.8,
         "orientation": "v",
         "type": "histogram",
         "x": [
          1.4569727607926122,
          1.5803324075229161,
          -1.2897002441333556,
          -0.16166551474494495,
          -1.976502864334509,
          -0.8693958414819042,
          0.9551460280404175,
          0.2802516103397689,
          1.2550272097356434,
          0.9155115058822488,
          0.7733482131769092,
          -1.1631126105679386,
          0.3931126235197993,
          1.5592260592093,
          -0.7546707280860958,
          -0.577462363122032,
          0.10812191862643344,
          -1.3021525005770849,
          0.0013863273196885522,
          -1.1565924417119133,
          0.030893790789631646,
          -0.2921139554387492,
          -0.6378229963088616,
          -0.2552420579232666,
          -0.7105803541717001,
          -0.7310763884707412,
          0.850591748444687,
          0.25350478409356253,
          -0.0025095031827617282,
          -1.038633643463149,
          0.8260476059311241,
          0.5222387643383883,
          1.4269978745065481,
          -2.1968429450957525,
          0.1884115433816258,
          -0.26168481206024646,
          0.7273415497579273,
          2.299797566491191,
          0.8788511743957212,
          1.1091884743081923,
          0.388275901319309,
          0.059801554863223624,
          0.7049894936262245,
          1.0788069961882627,
          0.430901839072723,
          0.625095337397016,
          -0.15792309032785642,
          0.45281184157042315,
          -0.4517714112086825,
          -1.321525146743949,
          0.6769278297715584,
          -0.66020231086785,
          0.02621609074868664,
          1.237167600904855,
          -0.37366966211437025,
          -0.8374883670259714,
          -1.7838417355758664,
          1.9282931010823163,
          0.9403749494318877,
          0.30310974524093093,
          1.0237472277719784,
          -0.9817481934613881,
          -0.7965587873113616,
          -0.2756526237681351,
          0.07193352921125992,
          1.3843610975021363,
          -1.1883473539731926,
          -1.132010345991311,
          -1.0217264191012476,
          0.7850296917497678,
          2.2121655730172725,
          0.5932119006791556,
          -1.439284833023011,
          -0.7046679703172876,
          -0.42747316155692994,
          -1.7867416717823146,
          -1.3465481460900666,
          -1.1275245220204797,
          -0.1920986987537914,
          0.2695193429927655,
          -2.0193794708287247,
          0.664330606404295,
          -2.5251217573612994,
          2.195869829867191,
          0.6241679103092804,
          -2.4482135541760828,
          2.022834651920917,
          1.0827267716967608,
          -0.006038442634036476,
          -0.861912397917697,
          1.4948604815170339,
          -0.21769551523968977,
          -0.26311210258217965,
          0.37203035503116805,
          -0.7976063789805946,
          -0.557349689706263,
          2.148558435514855,
          -1.074934475018916,
          -2.799387901627083,
          0.2607365043330616
         ],
         "xaxis": "x16",
         "yaxis": "y16"
        }
       ],
       "layout": {
        "bargap": 0.02,
        "legend": {
         "bgcolor": "#F5F6F9",
         "font": {
          "color": "#4D5663"
         }
        },
        "paper_bgcolor": "#F5F6F9",
        "plot_bgcolor": "#F5F6F9",
        "showlegend": false,
        "template": {
         "data": {
          "bar": [
           {
            "error_x": {
             "color": "#2a3f5f"
            },
            "error_y": {
             "color": "#2a3f5f"
            },
            "marker": {
             "line": {
              "color": "#E5ECF6",
              "width": 0.5
             }
            },
            "type": "bar"
           }
          ],
          "barpolar": [
           {
            "marker": {
             "line": {
              "color": "#E5ECF6",
              "width": 0.5
             }
            },
            "type": "barpolar"
           }
          ],
          "carpet": [
           {
            "aaxis": {
             "endlinecolor": "#2a3f5f",
             "gridcolor": "white",
             "linecolor": "white",
             "minorgridcolor": "white",
             "startlinecolor": "#2a3f5f"
            },
            "baxis": {
             "endlinecolor": "#2a3f5f",
             "gridcolor": "white",
             "linecolor": "white",
             "minorgridcolor": "white",
             "startlinecolor": "#2a3f5f"
            },
            "type": "carpet"
           }
          ],
          "choropleth": [
           {
            "colorbar": {
             "outlinewidth": 0,
             "ticks": ""
            },
            "type": "choropleth"
           }
          ],
          "contour": [
           {
            "colorbar": {
             "outlinewidth": 0,
             "ticks": ""
            },
            "colorscale": [
             [
              0,
              "#0d0887"
             ],
             [
              0.1111111111111111,
              "#46039f"
             ],
             [
              0.2222222222222222,
              "#7201a8"
             ],
             [
              0.3333333333333333,
              "#9c179e"
             ],
             [
              0.4444444444444444,
              "#bd3786"
             ],
             [
              0.5555555555555556,
              "#d8576b"
             ],
             [
              0.6666666666666666,
              "#ed7953"
             ],
             [
              0.7777777777777778,
              "#fb9f3a"
             ],
             [
              0.8888888888888888,
              "#fdca26"
             ],
             [
              1,
              "#f0f921"
             ]
            ],
            "type": "contour"
           }
          ],
          "contourcarpet": [
           {
            "colorbar": {
             "outlinewidth": 0,
             "ticks": ""
            },
            "type": "contourcarpet"
           }
          ],
          "heatmap": [
           {
            "colorbar": {
             "outlinewidth": 0,
             "ticks": ""
            },
            "colorscale": [
             [
              0,
              "#0d0887"
             ],
             [
              0.1111111111111111,
              "#46039f"
             ],
             [
              0.2222222222222222,
              "#7201a8"
             ],
             [
              0.3333333333333333,
              "#9c179e"
             ],
             [
              0.4444444444444444,
              "#bd3786"
             ],
             [
              0.5555555555555556,
              "#d8576b"
             ],
             [
              0.6666666666666666,
              "#ed7953"
             ],
             [
              0.7777777777777778,
              "#fb9f3a"
             ],
             [
              0.8888888888888888,
              "#fdca26"
             ],
             [
              1,
              "#f0f921"
             ]
            ],
            "type": "heatmap"
           }
          ],
          "heatmapgl": [
           {
            "colorbar": {
             "outlinewidth": 0,
             "ticks": ""
            },
            "colorscale": [
             [
              0,
              "#0d0887"
             ],
             [
              0.1111111111111111,
              "#46039f"
             ],
             [
              0.2222222222222222,
              "#7201a8"
             ],
             [
              0.3333333333333333,
              "#9c179e"
             ],
             [
              0.4444444444444444,
              "#bd3786"
             ],
             [
              0.5555555555555556,
              "#d8576b"
             ],
             [
              0.6666666666666666,
              "#ed7953"
             ],
             [
              0.7777777777777778,
              "#fb9f3a"
             ],
             [
              0.8888888888888888,
              "#fdca26"
             ],
             [
              1,
              "#f0f921"
             ]
            ],
            "type": "heatmapgl"
           }
          ],
          "histogram": [
           {
            "marker": {
             "colorbar": {
              "outlinewidth": 0,
              "ticks": ""
             }
            },
            "type": "histogram"
           }
          ],
          "histogram2d": [
           {
            "colorbar": {
             "outlinewidth": 0,
             "ticks": ""
            },
            "colorscale": [
             [
              0,
              "#0d0887"
             ],
             [
              0.1111111111111111,
              "#46039f"
             ],
             [
              0.2222222222222222,
              "#7201a8"
             ],
             [
              0.3333333333333333,
              "#9c179e"
             ],
             [
              0.4444444444444444,
              "#bd3786"
             ],
             [
              0.5555555555555556,
              "#d8576b"
             ],
             [
              0.6666666666666666,
              "#ed7953"
             ],
             [
              0.7777777777777778,
              "#fb9f3a"
             ],
             [
              0.8888888888888888,
              "#fdca26"
             ],
             [
              1,
              "#f0f921"
             ]
            ],
            "type": "histogram2d"
           }
          ],
          "histogram2dcontour": [
           {
            "colorbar": {
             "outlinewidth": 0,
             "ticks": ""
            },
            "colorscale": [
             [
              0,
              "#0d0887"
             ],
             [
              0.1111111111111111,
              "#46039f"
             ],
             [
              0.2222222222222222,
              "#7201a8"
             ],
             [
              0.3333333333333333,
              "#9c179e"
             ],
             [
              0.4444444444444444,
              "#bd3786"
             ],
             [
              0.5555555555555556,
              "#d8576b"
             ],
             [
              0.6666666666666666,
              "#ed7953"
             ],
             [
              0.7777777777777778,
              "#fb9f3a"
             ],
             [
              0.8888888888888888,
              "#fdca26"
             ],
             [
              1,
              "#f0f921"
             ]
            ],
            "type": "histogram2dcontour"
           }
          ],
          "mesh3d": [
           {
            "colorbar": {
             "outlinewidth": 0,
             "ticks": ""
            },
            "type": "mesh3d"
           }
          ],
          "parcoords": [
           {
            "line": {
             "colorbar": {
              "outlinewidth": 0,
              "ticks": ""
             }
            },
            "type": "parcoords"
           }
          ],
          "pie": [
           {
            "automargin": true,
            "type": "pie"
           }
          ],
          "scatter": [
           {
            "marker": {
             "colorbar": {
              "outlinewidth": 0,
              "ticks": ""
             }
            },
            "type": "scatter"
           }
          ],
          "scatter3d": [
           {
            "line": {
             "colorbar": {
              "outlinewidth": 0,
              "ticks": ""
             }
            },
            "marker": {
             "colorbar": {
              "outlinewidth": 0,
              "ticks": ""
             }
            },
            "type": "scatter3d"
           }
          ],
          "scattercarpet": [
           {
            "marker": {
             "colorbar": {
              "outlinewidth": 0,
              "ticks": ""
             }
            },
            "type": "scattercarpet"
           }
          ],
          "scattergeo": [
           {
            "marker": {
             "colorbar": {
              "outlinewidth": 0,
              "ticks": ""
             }
            },
            "type": "scattergeo"
           }
          ],
          "scattergl": [
           {
            "marker": {
             "colorbar": {
              "outlinewidth": 0,
              "ticks": ""
             }
            },
            "type": "scattergl"
           }
          ],
          "scattermapbox": [
           {
            "marker": {
             "colorbar": {
              "outlinewidth": 0,
              "ticks": ""
             }
            },
            "type": "scattermapbox"
           }
          ],
          "scatterpolar": [
           {
            "marker": {
             "colorbar": {
              "outlinewidth": 0,
              "ticks": ""
             }
            },
            "type": "scatterpolar"
           }
          ],
          "scatterpolargl": [
           {
            "marker": {
             "colorbar": {
              "outlinewidth": 0,
              "ticks": ""
             }
            },
            "type": "scatterpolargl"
           }
          ],
          "scatterternary": [
           {
            "marker": {
             "colorbar": {
              "outlinewidth": 0,
              "ticks": ""
             }
            },
            "type": "scatterternary"
           }
          ],
          "surface": [
           {
            "colorbar": {
             "outlinewidth": 0,
             "ticks": ""
            },
            "colorscale": [
             [
              0,
              "#0d0887"
             ],
             [
              0.1111111111111111,
              "#46039f"
             ],
             [
              0.2222222222222222,
              "#7201a8"
             ],
             [
              0.3333333333333333,
              "#9c179e"
             ],
             [
              0.4444444444444444,
              "#bd3786"
             ],
             [
              0.5555555555555556,
              "#d8576b"
             ],
             [
              0.6666666666666666,
              "#ed7953"
             ],
             [
              0.7777777777777778,
              "#fb9f3a"
             ],
             [
              0.8888888888888888,
              "#fdca26"
             ],
             [
              1,
              "#f0f921"
             ]
            ],
            "type": "surface"
           }
          ],
          "table": [
           {
            "cells": {
             "fill": {
              "color": "#EBF0F8"
             },
             "line": {
              "color": "white"
             }
            },
            "header": {
             "fill": {
              "color": "#C8D4E3"
             },
             "line": {
              "color": "white"
             }
            },
            "type": "table"
           }
          ]
         },
         "layout": {
          "annotationdefaults": {
           "arrowcolor": "#2a3f5f",
           "arrowhead": 0,
           "arrowwidth": 1
          },
          "autotypenumbers": "strict",
          "coloraxis": {
           "colorbar": {
            "outlinewidth": 0,
            "ticks": ""
           }
          },
          "colorscale": {
           "diverging": [
            [
             0,
             "#8e0152"
            ],
            [
             0.1,
             "#c51b7d"
            ],
            [
             0.2,
             "#de77ae"
            ],
            [
             0.3,
             "#f1b6da"
            ],
            [
             0.4,
             "#fde0ef"
            ],
            [
             0.5,
             "#f7f7f7"
            ],
            [
             0.6,
             "#e6f5d0"
            ],
            [
             0.7,
             "#b8e186"
            ],
            [
             0.8,
             "#7fbc41"
            ],
            [
             0.9,
             "#4d9221"
            ],
            [
             1,
             "#276419"
            ]
           ],
           "sequential": [
            [
             0,
             "#0d0887"
            ],
            [
             0.1111111111111111,
             "#46039f"
            ],
            [
             0.2222222222222222,
             "#7201a8"
            ],
            [
             0.3333333333333333,
             "#9c179e"
            ],
            [
             0.4444444444444444,
             "#bd3786"
            ],
            [
             0.5555555555555556,
             "#d8576b"
            ],
            [
             0.6666666666666666,
             "#ed7953"
            ],
            [
             0.7777777777777778,
             "#fb9f3a"
            ],
            [
             0.8888888888888888,
             "#fdca26"
            ],
            [
             1,
             "#f0f921"
            ]
           ],
           "sequentialminus": [
            [
             0,
             "#0d0887"
            ],
            [
             0.1111111111111111,
             "#46039f"
            ],
            [
             0.2222222222222222,
             "#7201a8"
            ],
            [
             0.3333333333333333,
             "#9c179e"
            ],
            [
             0.4444444444444444,
             "#bd3786"
            ],
            [
             0.5555555555555556,
             "#d8576b"
            ],
            [
             0.6666666666666666,
             "#ed7953"
            ],
            [
             0.7777777777777778,
             "#fb9f3a"
            ],
            [
             0.8888888888888888,
             "#fdca26"
            ],
            [
             1,
             "#f0f921"
            ]
           ]
          },
          "colorway": [
           "#636efa",
           "#EF553B",
           "#00cc96",
           "#ab63fa",
           "#FFA15A",
           "#19d3f3",
           "#FF6692",
           "#B6E880",
           "#FF97FF",
           "#FECB52"
          ],
          "font": {
           "color": "#2a3f5f"
          },
          "geo": {
           "bgcolor": "white",
           "lakecolor": "white",
           "landcolor": "#E5ECF6",
           "showlakes": true,
           "showland": true,
           "subunitcolor": "white"
          },
          "hoverlabel": {
           "align": "left"
          },
          "hovermode": "closest",
          "mapbox": {
           "style": "light"
          },
          "paper_bgcolor": "white",
          "plot_bgcolor": "#E5ECF6",
          "polar": {
           "angularaxis": {
            "gridcolor": "white",
            "linecolor": "white",
            "ticks": ""
           },
           "bgcolor": "#E5ECF6",
           "radialaxis": {
            "gridcolor": "white",
            "linecolor": "white",
            "ticks": ""
           }
          },
          "scene": {
           "xaxis": {
            "backgroundcolor": "#E5ECF6",
            "gridcolor": "white",
            "gridwidth": 2,
            "linecolor": "white",
            "showbackground": true,
            "ticks": "",
            "zerolinecolor": "white"
           },
           "yaxis": {
            "backgroundcolor": "#E5ECF6",
            "gridcolor": "white",
            "gridwidth": 2,
            "linecolor": "white",
            "showbackground": true,
            "ticks": "",
            "zerolinecolor": "white"
           },
           "zaxis": {
            "backgroundcolor": "#E5ECF6",
            "gridcolor": "white",
            "gridwidth": 2,
            "linecolor": "white",
            "showbackground": true,
            "ticks": "",
            "zerolinecolor": "white"
           }
          },
          "shapedefaults": {
           "line": {
            "color": "#2a3f5f"
           }
          },
          "ternary": {
           "aaxis": {
            "gridcolor": "white",
            "linecolor": "white",
            "ticks": ""
           },
           "baxis": {
            "gridcolor": "white",
            "linecolor": "white",
            "ticks": ""
           },
           "bgcolor": "#E5ECF6",
           "caxis": {
            "gridcolor": "white",
            "linecolor": "white",
            "ticks": ""
           }
          },
          "title": {
           "x": 0.05
          },
          "xaxis": {
           "automargin": true,
           "gridcolor": "white",
           "linecolor": "white",
           "ticks": "",
           "title": {
            "standoff": 15
           },
           "zerolinecolor": "white",
           "zerolinewidth": 2
          },
          "yaxis": {
           "automargin": true,
           "gridcolor": "white",
           "linecolor": "white",
           "ticks": "",
           "title": {
            "standoff": 15
           },
           "zerolinecolor": "white",
           "zerolinewidth": 2
          }
         }
        },
        "title": {
         "font": {
          "color": "#4D5663"
         }
        },
        "xaxis": {
         "anchor": "y",
         "domain": [
          0,
          0.2125
         ],
         "gridcolor": "#E1E5ED",
         "showgrid": false,
         "tickfont": {
          "color": "#4D5663"
         },
         "title": {
          "font": {
           "color": "#4D5663"
          },
          "text": ""
         },
         "zerolinecolor": "#E1E5ED"
        },
        "xaxis10": {
         "anchor": "y10",
         "domain": [
          0.2625,
          0.475
         ],
         "gridcolor": "#E1E5ED",
         "showgrid": false,
         "tickfont": {
          "color": "#4D5663"
         },
         "title": {
          "font": {
           "color": "#4D5663"
          },
          "text": ""
         },
         "zerolinecolor": "#E1E5ED"
        },
        "xaxis11": {
         "anchor": "y11",
         "domain": [
          0.525,
          0.7375
         ],
         "gridcolor": "#E1E5ED",
         "showgrid": false,
         "tickfont": {
          "color": "#4D5663"
         },
         "title": {
          "font": {
           "color": "#4D5663"
          },
          "text": ""
         },
         "zerolinecolor": "#E1E5ED"
        },
        "xaxis12": {
         "anchor": "y12",
         "domain": [
          0.7875,
          1
         ],
         "gridcolor": "#E1E5ED",
         "showgrid": false,
         "tickfont": {
          "color": "#4D5663"
         },
         "title": {
          "font": {
           "color": "#4D5663"
          },
          "text": ""
         },
         "zerolinecolor": "#E1E5ED"
        },
        "xaxis13": {
         "anchor": "y13",
         "domain": [
          0,
          0.2125
         ],
         "gridcolor": "#E1E5ED",
         "showgrid": false,
         "tickfont": {
          "color": "#4D5663"
         },
         "title": {
          "font": {
           "color": "#4D5663"
          },
          "text": ""
         },
         "zerolinecolor": "#E1E5ED"
        },
        "xaxis14": {
         "anchor": "y14",
         "domain": [
          0.2625,
          0.475
         ],
         "gridcolor": "#E1E5ED",
         "showgrid": false,
         "tickfont": {
          "color": "#4D5663"
         },
         "title": {
          "font": {
           "color": "#4D5663"
          },
          "text": ""
         },
         "zerolinecolor": "#E1E5ED"
        },
        "xaxis15": {
         "anchor": "y15",
         "domain": [
          0.525,
          0.7375
         ],
         "gridcolor": "#E1E5ED",
         "showgrid": false,
         "tickfont": {
          "color": "#4D5663"
         },
         "title": {
          "font": {
           "color": "#4D5663"
          },
          "text": ""
         },
         "zerolinecolor": "#E1E5ED"
        },
        "xaxis16": {
         "anchor": "y16",
         "domain": [
          0.7875,
          1
         ],
         "gridcolor": "#E1E5ED",
         "showgrid": false,
         "tickfont": {
          "color": "#4D5663"
         },
         "title": {
          "font": {
           "color": "#4D5663"
          },
          "text": ""
         },
         "zerolinecolor": "#E1E5ED"
        },
        "xaxis2": {
         "anchor": "y2",
         "domain": [
          0.2625,
          0.475
         ],
         "gridcolor": "#E1E5ED",
         "showgrid": false,
         "tickfont": {
          "color": "#4D5663"
         },
         "title": {
          "font": {
           "color": "#4D5663"
          },
          "text": ""
         },
         "zerolinecolor": "#E1E5ED"
        },
        "xaxis3": {
         "anchor": "y3",
         "domain": [
          0.525,
          0.7375
         ],
         "gridcolor": "#E1E5ED",
         "showgrid": false,
         "tickfont": {
          "color": "#4D5663"
         },
         "title": {
          "font": {
           "color": "#4D5663"
          },
          "text": ""
         },
         "zerolinecolor": "#E1E5ED"
        },
        "xaxis4": {
         "anchor": "y4",
         "domain": [
          0.7875,
          1
         ],
         "gridcolor": "#E1E5ED",
         "showgrid": false,
         "tickfont": {
          "color": "#4D5663"
         },
         "title": {
          "font": {
           "color": "#4D5663"
          },
          "text": ""
         },
         "zerolinecolor": "#E1E5ED"
        },
        "xaxis5": {
         "anchor": "y5",
         "domain": [
          0,
          0.2125
         ],
         "gridcolor": "#E1E5ED",
         "showgrid": false,
         "tickfont": {
          "color": "#4D5663"
         },
         "title": {
          "font": {
           "color": "#4D5663"
          },
          "text": ""
         },
         "zerolinecolor": "#E1E5ED"
        },
        "xaxis6": {
         "anchor": "y6",
         "domain": [
          0.2625,
          0.475
         ],
         "gridcolor": "#E1E5ED",
         "showgrid": false,
         "tickfont": {
          "color": "#4D5663"
         },
         "title": {
          "font": {
           "color": "#4D5663"
          },
          "text": ""
         },
         "zerolinecolor": "#E1E5ED"
        },
        "xaxis7": {
         "anchor": "y7",
         "domain": [
          0.525,
          0.7375
         ],
         "gridcolor": "#E1E5ED",
         "showgrid": false,
         "tickfont": {
          "color": "#4D5663"
         },
         "title": {
          "font": {
           "color": "#4D5663"
          },
          "text": ""
         },
         "zerolinecolor": "#E1E5ED"
        },
        "xaxis8": {
         "anchor": "y8",
         "domain": [
          0.7875,
          1
         ],
         "gridcolor": "#E1E5ED",
         "showgrid": false,
         "tickfont": {
          "color": "#4D5663"
         },
         "title": {
          "font": {
           "color": "#4D5663"
          },
          "text": ""
         },
         "zerolinecolor": "#E1E5ED"
        },
        "xaxis9": {
         "anchor": "y9",
         "domain": [
          0,
          0.2125
         ],
         "gridcolor": "#E1E5ED",
         "showgrid": false,
         "tickfont": {
          "color": "#4D5663"
         },
         "title": {
          "font": {
           "color": "#4D5663"
          },
          "text": ""
         },
         "zerolinecolor": "#E1E5ED"
        },
        "yaxis": {
         "anchor": "x",
         "domain": [
          0.8025,
          1
         ],
         "gridcolor": "#E1E5ED",
         "showgrid": false,
         "tickfont": {
          "color": "#4D5663"
         },
         "title": {
          "font": {
           "color": "#4D5663"
          },
          "text": ""
         },
         "zerolinecolor": "#E1E5ED"
        },
        "yaxis10": {
         "anchor": "x10",
         "domain": [
          0.2675,
          0.465
         ],
         "gridcolor": "#E1E5ED",
         "showgrid": false,
         "tickfont": {
          "color": "#4D5663"
         },
         "title": {
          "font": {
           "color": "#4D5663"
          },
          "text": ""
         },
         "zerolinecolor": "#E1E5ED"
        },
        "yaxis11": {
         "anchor": "x11",
         "domain": [
          0.2675,
          0.465
         ],
         "gridcolor": "#E1E5ED",
         "showgrid": false,
         "tickfont": {
          "color": "#4D5663"
         },
         "title": {
          "font": {
           "color": "#4D5663"
          },
          "text": ""
         },
         "zerolinecolor": "#E1E5ED"
        },
        "yaxis12": {
         "anchor": "x12",
         "domain": [
          0.2675,
          0.465
         ],
         "gridcolor": "#E1E5ED",
         "showgrid": false,
         "tickfont": {
          "color": "#4D5663"
         },
         "title": {
          "font": {
           "color": "#4D5663"
          },
          "text": ""
         },
         "zerolinecolor": "#E1E5ED"
        },
        "yaxis13": {
         "anchor": "x13",
         "domain": [
          0,
          0.1975
         ],
         "gridcolor": "#E1E5ED",
         "showgrid": false,
         "tickfont": {
          "color": "#4D5663"
         },
         "title": {
          "font": {
           "color": "#4D5663"
          },
          "text": ""
         },
         "zerolinecolor": "#E1E5ED"
        },
        "yaxis14": {
         "anchor": "x14",
         "domain": [
          0,
          0.1975
         ],
         "gridcolor": "#E1E5ED",
         "showgrid": false,
         "tickfont": {
          "color": "#4D5663"
         },
         "title": {
          "font": {
           "color": "#4D5663"
          },
          "text": ""
         },
         "zerolinecolor": "#E1E5ED"
        },
        "yaxis15": {
         "anchor": "x15",
         "domain": [
          0,
          0.1975
         ],
         "gridcolor": "#E1E5ED",
         "showgrid": false,
         "tickfont": {
          "color": "#4D5663"
         },
         "title": {
          "font": {
           "color": "#4D5663"
          },
          "text": ""
         },
         "zerolinecolor": "#E1E5ED"
        },
        "yaxis16": {
         "anchor": "x16",
         "domain": [
          0,
          0.1975
         ],
         "gridcolor": "#E1E5ED",
         "showgrid": false,
         "tickfont": {
          "color": "#4D5663"
         },
         "title": {
          "font": {
           "color": "#4D5663"
          },
          "text": ""
         },
         "zerolinecolor": "#E1E5ED"
        },
        "yaxis2": {
         "anchor": "x2",
         "domain": [
          0.8025,
          1
         ],
         "gridcolor": "#E1E5ED",
         "showgrid": false,
         "tickfont": {
          "color": "#4D5663"
         },
         "title": {
          "font": {
           "color": "#4D5663"
          },
          "text": ""
         },
         "zerolinecolor": "#E1E5ED"
        },
        "yaxis3": {
         "anchor": "x3",
         "domain": [
          0.8025,
          1
         ],
         "gridcolor": "#E1E5ED",
         "showgrid": false,
         "tickfont": {
          "color": "#4D5663"
         },
         "title": {
          "font": {
           "color": "#4D5663"
          },
          "text": ""
         },
         "zerolinecolor": "#E1E5ED"
        },
        "yaxis4": {
         "anchor": "x4",
         "domain": [
          0.8025,
          1
         ],
         "gridcolor": "#E1E5ED",
         "showgrid": false,
         "tickfont": {
          "color": "#4D5663"
         },
         "title": {
          "font": {
           "color": "#4D5663"
          },
          "text": ""
         },
         "zerolinecolor": "#E1E5ED"
        },
        "yaxis5": {
         "anchor": "x5",
         "domain": [
          0.535,
          0.7325
         ],
         "gridcolor": "#E1E5ED",
         "showgrid": false,
         "tickfont": {
          "color": "#4D5663"
         },
         "title": {
          "font": {
           "color": "#4D5663"
          },
          "text": ""
         },
         "zerolinecolor": "#E1E5ED"
        },
        "yaxis6": {
         "anchor": "x6",
         "domain": [
          0.535,
          0.7325
         ],
         "gridcolor": "#E1E5ED",
         "showgrid": false,
         "tickfont": {
          "color": "#4D5663"
         },
         "title": {
          "font": {
           "color": "#4D5663"
          },
          "text": ""
         },
         "zerolinecolor": "#E1E5ED"
        },
        "yaxis7": {
         "anchor": "x7",
         "domain": [
          0.535,
          0.7325
         ],
         "gridcolor": "#E1E5ED",
         "showgrid": false,
         "tickfont": {
          "color": "#4D5663"
         },
         "title": {
          "font": {
           "color": "#4D5663"
          },
          "text": ""
         },
         "zerolinecolor": "#E1E5ED"
        },
        "yaxis8": {
         "anchor": "x8",
         "domain": [
          0.535,
          0.7325
         ],
         "gridcolor": "#E1E5ED",
         "showgrid": false,
         "tickfont": {
          "color": "#4D5663"
         },
         "title": {
          "font": {
           "color": "#4D5663"
          },
          "text": ""
         },
         "zerolinecolor": "#E1E5ED"
        },
        "yaxis9": {
         "anchor": "x9",
         "domain": [
          0.2675,
          0.465
         ],
         "gridcolor": "#E1E5ED",
         "showgrid": false,
         "tickfont": {
          "color": "#4D5663"
         },
         "title": {
          "font": {
           "color": "#4D5663"
          },
          "text": ""
         },
         "zerolinecolor": "#E1E5ED"
        }
       }
      },
      "text/html": [
       "<div>                            <div id=\"04a390db-349d-435d-bf30-b955ce64ad76\" class=\"plotly-graph-div\" style=\"height:525px; width:100%;\"></div>            <script type=\"text/javascript\">                require([\"plotly\"], function(Plotly) {                    window.PLOTLYENV=window.PLOTLYENV || {};\n",
       "                    window.PLOTLYENV.BASE_URL='https://plot.ly';                                    if (document.getElementById(\"04a390db-349d-435d-bf30-b955ce64ad76\")) {                    Plotly.newPlot(                        \"04a390db-349d-435d-bf30-b955ce64ad76\",                        [{\"histfunc\": \"count\", \"histnorm\": \"\", \"marker\": {\"color\": \"rgba(255, 153, 51, 1.0)\", \"line\": {\"color\": \"#4D5663\", \"width\": 1.3}}, \"name\": \"A\", \"nbinsx\": 10, \"opacity\": 0.8, \"orientation\": \"v\", \"type\": \"histogram\", \"x\": [-0.07626798862524346, 0.22540134756441488, -0.8057647977006603, 0.3775230577282411, -0.1680604099266579, 0.8713582072512306, -0.08016296132520627, 2.0793375312602986, 0.6174946047522917, 1.3470244023614335, -0.45534748125031793, 1.1567776506639353, -0.8740526020125177, -0.037407388938710644, 0.5532512221426178, -1.051190550010996, -0.35056999351700524, 1.071823066376621, 0.9093892370915182, -1.0488537815283008, -0.4599270555168315, 1.8602051198265883, -0.8249352680142302, -1.5106002057662986, 0.0996067858587673, -0.9955831080121025, -1.1743481536862996, 0.798495220365897, 2.135298305419711, -0.918373544679037, -1.3292049671635469, -1.482014934583836, 0.4658513332948664, 1.7175357781491922, -0.1606077083412937, 0.5805593871078475, -0.2538847588879203, 1.0542215320006398, -0.4301439180270131, -1.2014952657868243, 0.4460530424636575, -0.38016505214183166, 1.187504657276655, 1.0092529666759915, 0.5276280783314551, -2.3146759442720812, -0.9726633353919516, -1.4651901913239982, -0.8517523630692322, -2.317281604613853, -0.14261933190625772, -2.077146476047186, -0.3251807441512565, 0.1319632239823357, 0.7486045945026552, 0.33685670014918506, -0.037845194242645784, -1.3667973040236276, 0.7727164075726849, -1.2011494900729764, 0.2691153645066599, -0.7673187313510428, 0.7313925705637623, 0.27488086113873705, -0.21474757848854253, 0.9183127839848029, 0.20274982610001047, -1.2321068101491492, 2.2023622350450003, 0.22588488340486504, -0.21025110889818346, -0.06932808427719565, -0.330211178580367, -1.1630223928019472, 0.3991187829537466, 0.26561049183638635, 0.2489546357507444, -1.0363391210443667, 0.28072456627802256, -1.4258804403303178, 0.34187592095465646, -1.1053725354624688, -0.7016568221765985, 0.3193171141371305, -1.6882672411213937, -0.6384005418166574, 1.1931023903017663, -1.079295557921701, 0.953153121390354, 0.4535569514855566, -0.6142109560790182, 1.7927716591736043, -2.0886630176573466, -0.647956166935598, -0.5679356570104203, 0.6153764784573306, 1.211953758491585, -1.516211074458471, -0.6678919354224481, 0.7549092172063453], \"xaxis\": \"x\", \"yaxis\": \"y\"}, {\"line\": {\"color\": \"rgba(128, 128, 128, 1.0)\", \"dash\": \"solid\", \"shape\": \"linear\", \"width\": 1.3}, \"marker\": {\"size\": 2, \"symbol\": \"circle\"}, \"mode\": \"markers\", \"name\": \"A\", \"text\": \"\", \"type\": \"scatter\", \"x\": [-0.740902655559266, -0.08310433278810744, -1.251683393405426, -1.204225704833254, 1.0143348303407134, -1.0161633496549207, -1.7583971257729267, 1.4521908459282145, -0.480368906287327, 0.5131858057305899, 0.27503721587001323, 1.290465634875162, 1.1124276711007453, -1.4899235118041922, 0.38697483901701935, 0.4129744286146979, 2.095129686566982, 0.8399787083500704, 0.6710525662253761, -0.4681469240612532, 2.1194359317570535, 1.038915191126487, -0.7172554535302076, 0.5688903859711237, 0.826646992545889, 0.09105518538007447, -0.589810469872444, -0.1525563108196747, -0.3633806409535802, 0.2692246496286448, -0.1395863420602316, 0.6420796882555284, -0.3895501220033279, -0.6842852202025996, -0.0662269940405855, -2.6265164759204436, -0.9020476303540725, -0.4167566139166744, 0.7135005499949627, -1.094409509953378, -1.7596727501739213, -1.3221416350039188, -1.165871915271899, -0.17725703007771632, 0.07750703246294158, -0.4058509152122095, 1.0113863879667255, 1.1743453857185353, 0.1522145118031781, -0.7226455063181879, -0.9955570686188059, 0.2765818865175756, -1.3549808500418952, 1.337102837580037, -0.08188136453619636, -1.04472177658133, 0.7038632224719813, -1.2644862932195187, 0.3524073622222112, -0.46797925694821996, 0.6379518560397109, 0.5978368539603639, 0.1896862075086954, 0.01498863199058901, 0.6737610775168448, -0.2093368496264277, -0.4445627663438925, -0.5225801896099493, 0.11252918692066753, 0.8218878151077612, -0.8365245614729655, -0.8260737556521454, 0.821246020726017, 1.7053976790292478, 0.9591926546787697, 1.0830800300363144, -0.7458624482789284, 0.00978102219508137, -0.9888119728575078, -1.0526562671556607, -0.48038870163723124, -0.6569719817113063, -0.848735736192335, 2.190392250125886, 0.8904709443200586, -0.24858231907030764, 0.9716461842773628, -1.0724720077866086, 0.15156616663461042, 0.36165937700608153, -0.7221361260002299, -2.0364234750392334, -0.6879418802528297, -0.40851358835174423, 0.9529887543414152, -0.15851581650574076, -1.4341531957352023, 0.1659117333162127, 2.344432739425215, 0.23891550498788275], \"xaxis\": \"x2\", \"y\": [-0.07626798862524346, 0.22540134756441488, -0.8057647977006603, 0.3775230577282411, -0.1680604099266579, 0.8713582072512306, -0.08016296132520627, 2.0793375312602986, 0.6174946047522917, 1.3470244023614335, -0.45534748125031793, 1.1567776506639353, -0.8740526020125177, -0.037407388938710644, 0.5532512221426178, -1.051190550010996, -0.35056999351700524, 1.071823066376621, 0.9093892370915182, -1.0488537815283008, -0.4599270555168315, 1.8602051198265883, -0.8249352680142302, -1.5106002057662986, 0.0996067858587673, -0.9955831080121025, -1.1743481536862996, 0.798495220365897, 2.135298305419711, -0.918373544679037, -1.3292049671635469, -1.482014934583836, 0.4658513332948664, 1.7175357781491922, -0.1606077083412937, 0.5805593871078475, -0.2538847588879203, 1.0542215320006398, -0.4301439180270131, -1.2014952657868243, 0.4460530424636575, -0.38016505214183166, 1.187504657276655, 1.0092529666759915, 0.5276280783314551, -2.3146759442720812, -0.9726633353919516, -1.4651901913239982, -0.8517523630692322, -2.317281604613853, -0.14261933190625772, -2.077146476047186, -0.3251807441512565, 0.1319632239823357, 0.7486045945026552, 0.33685670014918506, -0.037845194242645784, -1.3667973040236276, 0.7727164075726849, -1.2011494900729764, 0.2691153645066599, -0.7673187313510428, 0.7313925705637623, 0.27488086113873705, -0.21474757848854253, 0.9183127839848029, 0.20274982610001047, -1.2321068101491492, 2.2023622350450003, 0.22588488340486504, -0.21025110889818346, -0.06932808427719565, -0.330211178580367, -1.1630223928019472, 0.3991187829537466, 0.26561049183638635, 0.2489546357507444, -1.0363391210443667, 0.28072456627802256, -1.4258804403303178, 0.34187592095465646, -1.1053725354624688, -0.7016568221765985, 0.3193171141371305, -1.6882672411213937, -0.6384005418166574, 1.1931023903017663, -1.079295557921701, 0.953153121390354, 0.4535569514855566, -0.6142109560790182, 1.7927716591736043, -2.0886630176573466, -0.647956166935598, -0.5679356570104203, 0.6153764784573306, 1.211953758491585, -1.516211074458471, -0.6678919354224481, 0.7549092172063453], \"yaxis\": \"y2\"}, {\"line\": {\"color\": \"rgba(128, 128, 128, 1.0)\", \"dash\": \"solid\", \"shape\": \"linear\", \"width\": 1.3}, \"marker\": {\"size\": 2, \"symbol\": \"circle\"}, \"mode\": \"markers\", \"name\": \"A\", \"text\": \"\", \"type\": \"scatter\", \"x\": [0.11506777591334545, -0.4669527591483944, 0.838753938652362, 1.7939169837397981, -1.3438326100575777, 0.7772824387875003, 0.5255163998487751, -0.14372743715167027, -1.1350475503194846, 0.8377061742195445, -1.2893734663813263, -0.6490806584734865, -0.7905725983268116, 1.4409167604861066, 0.4687506103857752, 0.9228644793460214, 0.7256872634793196, -0.6776405780161343, -0.4906669437171314, -0.8185539687468362, -0.9529249151507974, 0.9494275287384024, -0.8404780177971688, -0.23859050718064892, -1.33085820350392, -0.2547223651273164, 1.3848369503129814, -0.015170397451762494, 1.081412525387793, 0.13221713750683914, -0.5915055288945772, -0.694599290081804, 1.0150485266600329, 1.5155566873877593, 0.6275328930383646, -0.5840219696353247, -0.776311457551167, -0.6717617949609185, -0.9457685055861333, -0.6349865365838709, -0.9450538817674731, 0.3358272922545994, 2.2519875839333503, 1.0990320253477452, 2.1579827483939638, 0.6262070029210622, 0.3469528394636604, 0.8181198570393231, 0.3584307652929029, 0.5411769289617455, -1.6469461542071104, -0.9394111622402175, 0.34570756963622945, -0.08313735682778838, -0.5827389646844746, 0.9313053242818813, 0.522310163649811, 0.6073699269751509, -2.0324889511721214, -1.9066225540276152, 1.590194563123513, -0.4311534589466588, 2.0156464167629853, 0.5105587282134346, 0.06424465390783764, 1.2993272757132333, -0.8002831178402844, -0.09064770187143911, 0.9597380188142864, 0.048626762496730105, 1.015142005510411, 3.2188022869139106, -0.10316204116054475, -1.2826721358372464, 0.2232936363291398, -1.1676562338091363, 0.29032401337670666, 0.14965456611823938, 1.4024381550184488, -2.1890658665656177, 0.2755147161407717, 1.5955506986374905, 0.07572171368240455, -0.08262244372807441, 0.2166289542416796, 0.08603331417035655, -1.021756178602517, -0.5269913512362231, -0.3539868604883295, -0.35340661766312104, -0.8723077965365962, -0.856046069191193, -0.16826738357465057, 1.4501480109011096, 0.5542794821235857, -1.1598134961669193, -0.2878579037631965, 0.10974255297595349, -0.996444324819498, 1.1446227114720948], \"xaxis\": \"x3\", \"y\": [-0.07626798862524346, 0.22540134756441488, -0.8057647977006603, 0.3775230577282411, -0.1680604099266579, 0.8713582072512306, -0.08016296132520627, 2.0793375312602986, 0.6174946047522917, 1.3470244023614335, -0.45534748125031793, 1.1567776506639353, -0.8740526020125177, -0.037407388938710644, 0.5532512221426178, -1.051190550010996, -0.35056999351700524, 1.071823066376621, 0.9093892370915182, -1.0488537815283008, -0.4599270555168315, 1.8602051198265883, -0.8249352680142302, -1.5106002057662986, 0.0996067858587673, -0.9955831080121025, -1.1743481536862996, 0.798495220365897, 2.135298305419711, -0.918373544679037, -1.3292049671635469, -1.482014934583836, 0.4658513332948664, 1.7175357781491922, -0.1606077083412937, 0.5805593871078475, -0.2538847588879203, 1.0542215320006398, -0.4301439180270131, -1.2014952657868243, 0.4460530424636575, -0.38016505214183166, 1.187504657276655, 1.0092529666759915, 0.5276280783314551, -2.3146759442720812, -0.9726633353919516, -1.4651901913239982, -0.8517523630692322, -2.317281604613853, -0.14261933190625772, -2.077146476047186, -0.3251807441512565, 0.1319632239823357, 0.7486045945026552, 0.33685670014918506, -0.037845194242645784, -1.3667973040236276, 0.7727164075726849, -1.2011494900729764, 0.2691153645066599, -0.7673187313510428, 0.7313925705637623, 0.27488086113873705, -0.21474757848854253, 0.9183127839848029, 0.20274982610001047, -1.2321068101491492, 2.2023622350450003, 0.22588488340486504, -0.21025110889818346, -0.06932808427719565, -0.330211178580367, -1.1630223928019472, 0.3991187829537466, 0.26561049183638635, 0.2489546357507444, -1.0363391210443667, 0.28072456627802256, -1.4258804403303178, 0.34187592095465646, -1.1053725354624688, -0.7016568221765985, 0.3193171141371305, -1.6882672411213937, -0.6384005418166574, 1.1931023903017663, -1.079295557921701, 0.953153121390354, 0.4535569514855566, -0.6142109560790182, 1.7927716591736043, -2.0886630176573466, -0.647956166935598, -0.5679356570104203, 0.6153764784573306, 1.211953758491585, -1.516211074458471, -0.6678919354224481, 0.7549092172063453], \"yaxis\": \"y3\"}, {\"line\": {\"color\": \"rgba(128, 128, 128, 1.0)\", \"dash\": \"solid\", \"shape\": \"linear\", \"width\": 1.3}, \"marker\": {\"size\": 2, \"symbol\": \"circle\"}, \"mode\": \"markers\", \"name\": \"A\", \"text\": \"\", \"type\": \"scatter\", \"x\": [1.4569727607926122, 1.5803324075229161, -1.2897002441333556, -0.16166551474494495, -1.976502864334509, -0.8693958414819042, 0.9551460280404175, 0.2802516103397689, 1.2550272097356434, 0.9155115058822488, 0.7733482131769092, -1.1631126105679386, 0.3931126235197993, 1.5592260592093, -0.7546707280860958, -0.577462363122032, 0.10812191862643344, -1.3021525005770849, 0.0013863273196885522, -1.1565924417119133, 0.030893790789631646, -0.2921139554387492, -0.6378229963088616, -0.2552420579232666, -0.7105803541717001, -0.7310763884707412, 0.850591748444687, 0.25350478409356253, -0.0025095031827617282, -1.038633643463149, 0.8260476059311241, 0.5222387643383883, 1.4269978745065481, -2.1968429450957525, 0.1884115433816258, -0.26168481206024646, 0.7273415497579273, 2.299797566491191, 0.8788511743957212, 1.1091884743081923, 0.388275901319309, 0.059801554863223624, 0.7049894936262245, 1.0788069961882627, 0.430901839072723, 0.625095337397016, -0.15792309032785642, 0.45281184157042315, -0.4517714112086825, -1.321525146743949, 0.6769278297715584, -0.66020231086785, 0.02621609074868664, 1.237167600904855, -0.37366966211437025, -0.8374883670259714, -1.7838417355758664, 1.9282931010823163, 0.9403749494318877, 0.30310974524093093, 1.0237472277719784, -0.9817481934613881, -0.7965587873113616, -0.2756526237681351, 0.07193352921125992, 1.3843610975021363, -1.1883473539731926, -1.132010345991311, -1.0217264191012476, 0.7850296917497678, 2.2121655730172725, 0.5932119006791556, -1.439284833023011, -0.7046679703172876, -0.42747316155692994, -1.7867416717823146, -1.3465481460900666, -1.1275245220204797, -0.1920986987537914, 0.2695193429927655, -2.0193794708287247, 0.664330606404295, -2.5251217573612994, 2.195869829867191, 0.6241679103092804, -2.4482135541760828, 2.022834651920917, 1.0827267716967608, -0.006038442634036476, -0.861912397917697, 1.4948604815170339, -0.21769551523968977, -0.26311210258217965, 0.37203035503116805, -0.7976063789805946, -0.557349689706263, 2.148558435514855, -1.074934475018916, -2.799387901627083, 0.2607365043330616], \"xaxis\": \"x4\", \"y\": [-0.07626798862524346, 0.22540134756441488, -0.8057647977006603, 0.3775230577282411, -0.1680604099266579, 0.8713582072512306, -0.08016296132520627, 2.0793375312602986, 0.6174946047522917, 1.3470244023614335, -0.45534748125031793, 1.1567776506639353, -0.8740526020125177, -0.037407388938710644, 0.5532512221426178, -1.051190550010996, -0.35056999351700524, 1.071823066376621, 0.9093892370915182, -1.0488537815283008, -0.4599270555168315, 1.8602051198265883, -0.8249352680142302, -1.5106002057662986, 0.0996067858587673, -0.9955831080121025, -1.1743481536862996, 0.798495220365897, 2.135298305419711, -0.918373544679037, -1.3292049671635469, -1.482014934583836, 0.4658513332948664, 1.7175357781491922, -0.1606077083412937, 0.5805593871078475, -0.2538847588879203, 1.0542215320006398, -0.4301439180270131, -1.2014952657868243, 0.4460530424636575, -0.38016505214183166, 1.187504657276655, 1.0092529666759915, 0.5276280783314551, -2.3146759442720812, -0.9726633353919516, -1.4651901913239982, -0.8517523630692322, -2.317281604613853, -0.14261933190625772, -2.077146476047186, -0.3251807441512565, 0.1319632239823357, 0.7486045945026552, 0.33685670014918506, -0.037845194242645784, -1.3667973040236276, 0.7727164075726849, -1.2011494900729764, 0.2691153645066599, -0.7673187313510428, 0.7313925705637623, 0.27488086113873705, -0.21474757848854253, 0.9183127839848029, 0.20274982610001047, -1.2321068101491492, 2.2023622350450003, 0.22588488340486504, -0.21025110889818346, -0.06932808427719565, -0.330211178580367, -1.1630223928019472, 0.3991187829537466, 0.26561049183638635, 0.2489546357507444, -1.0363391210443667, 0.28072456627802256, -1.4258804403303178, 0.34187592095465646, -1.1053725354624688, -0.7016568221765985, 0.3193171141371305, -1.6882672411213937, -0.6384005418166574, 1.1931023903017663, -1.079295557921701, 0.953153121390354, 0.4535569514855566, -0.6142109560790182, 1.7927716591736043, -2.0886630176573466, -0.647956166935598, -0.5679356570104203, 0.6153764784573306, 1.211953758491585, -1.516211074458471, -0.6678919354224481, 0.7549092172063453], \"yaxis\": \"y4\"}, {\"line\": {\"color\": \"rgba(128, 128, 128, 1.0)\", \"dash\": \"solid\", \"shape\": \"linear\", \"width\": 1.3}, \"marker\": {\"size\": 2, \"symbol\": \"circle\"}, \"mode\": \"markers\", \"name\": \"B\", \"text\": \"\", \"type\": \"scatter\", \"x\": [-0.07626798862524346, 0.22540134756441488, -0.8057647977006603, 0.3775230577282411, -0.1680604099266579, 0.8713582072512306, -0.08016296132520627, 2.0793375312602986, 0.6174946047522917, 1.3470244023614335, -0.45534748125031793, 1.1567776506639353, -0.8740526020125177, -0.037407388938710644, 0.5532512221426178, -1.051190550010996, -0.35056999351700524, 1.071823066376621, 0.9093892370915182, -1.0488537815283008, -0.4599270555168315, 1.8602051198265883, -0.8249352680142302, -1.5106002057662986, 0.0996067858587673, -0.9955831080121025, -1.1743481536862996, 0.798495220365897, 2.135298305419711, -0.918373544679037, -1.3292049671635469, -1.482014934583836, 0.4658513332948664, 1.7175357781491922, -0.1606077083412937, 0.5805593871078475, -0.2538847588879203, 1.0542215320006398, -0.4301439180270131, -1.2014952657868243, 0.4460530424636575, -0.38016505214183166, 1.187504657276655, 1.0092529666759915, 0.5276280783314551, -2.3146759442720812, -0.9726633353919516, -1.4651901913239982, -0.8517523630692322, -2.317281604613853, -0.14261933190625772, -2.077146476047186, -0.3251807441512565, 0.1319632239823357, 0.7486045945026552, 0.33685670014918506, -0.037845194242645784, -1.3667973040236276, 0.7727164075726849, -1.2011494900729764, 0.2691153645066599, -0.7673187313510428, 0.7313925705637623, 0.27488086113873705, -0.21474757848854253, 0.9183127839848029, 0.20274982610001047, -1.2321068101491492, 2.2023622350450003, 0.22588488340486504, -0.21025110889818346, -0.06932808427719565, -0.330211178580367, -1.1630223928019472, 0.3991187829537466, 0.26561049183638635, 0.2489546357507444, -1.0363391210443667, 0.28072456627802256, -1.4258804403303178, 0.34187592095465646, -1.1053725354624688, -0.7016568221765985, 0.3193171141371305, -1.6882672411213937, -0.6384005418166574, 1.1931023903017663, -1.079295557921701, 0.953153121390354, 0.4535569514855566, -0.6142109560790182, 1.7927716591736043, -2.0886630176573466, -0.647956166935598, -0.5679356570104203, 0.6153764784573306, 1.211953758491585, -1.516211074458471, -0.6678919354224481, 0.7549092172063453], \"xaxis\": \"x5\", \"y\": [-0.740902655559266, -0.08310433278810744, -1.251683393405426, -1.204225704833254, 1.0143348303407134, -1.0161633496549207, -1.7583971257729267, 1.4521908459282145, -0.480368906287327, 0.5131858057305899, 0.27503721587001323, 1.290465634875162, 1.1124276711007453, -1.4899235118041922, 0.38697483901701935, 0.4129744286146979, 2.095129686566982, 0.8399787083500704, 0.6710525662253761, -0.4681469240612532, 2.1194359317570535, 1.038915191126487, -0.7172554535302076, 0.5688903859711237, 0.826646992545889, 0.09105518538007447, -0.589810469872444, -0.1525563108196747, -0.3633806409535802, 0.2692246496286448, -0.1395863420602316, 0.6420796882555284, -0.3895501220033279, -0.6842852202025996, -0.0662269940405855, -2.6265164759204436, -0.9020476303540725, -0.4167566139166744, 0.7135005499949627, -1.094409509953378, -1.7596727501739213, -1.3221416350039188, -1.165871915271899, -0.17725703007771632, 0.07750703246294158, -0.4058509152122095, 1.0113863879667255, 1.1743453857185353, 0.1522145118031781, -0.7226455063181879, -0.9955570686188059, 0.2765818865175756, -1.3549808500418952, 1.337102837580037, -0.08188136453619636, -1.04472177658133, 0.7038632224719813, -1.2644862932195187, 0.3524073622222112, -0.46797925694821996, 0.6379518560397109, 0.5978368539603639, 0.1896862075086954, 0.01498863199058901, 0.6737610775168448, -0.2093368496264277, -0.4445627663438925, -0.5225801896099493, 0.11252918692066753, 0.8218878151077612, -0.8365245614729655, -0.8260737556521454, 0.821246020726017, 1.7053976790292478, 0.9591926546787697, 1.0830800300363144, -0.7458624482789284, 0.00978102219508137, -0.9888119728575078, -1.0526562671556607, -0.48038870163723124, -0.6569719817113063, -0.848735736192335, 2.190392250125886, 0.8904709443200586, -0.24858231907030764, 0.9716461842773628, -1.0724720077866086, 0.15156616663461042, 0.36165937700608153, -0.7221361260002299, -2.0364234750392334, -0.6879418802528297, -0.40851358835174423, 0.9529887543414152, -0.15851581650574076, -1.4341531957352023, 0.1659117333162127, 2.344432739425215, 0.23891550498788275], \"yaxis\": \"y5\"}, {\"histfunc\": \"count\", \"histnorm\": \"\", \"marker\": {\"color\": \"rgba(55, 128, 191, 1.0)\", \"line\": {\"color\": \"#4D5663\", \"width\": 1.3}}, \"name\": \"B\", \"nbinsx\": 10, \"opacity\": 0.8, \"orientation\": \"v\", \"type\": \"histogram\", \"x\": [-0.740902655559266, -0.08310433278810744, -1.251683393405426, -1.204225704833254, 1.0143348303407134, -1.0161633496549207, -1.7583971257729267, 1.4521908459282145, -0.480368906287327, 0.5131858057305899, 0.27503721587001323, 1.290465634875162, 1.1124276711007453, -1.4899235118041922, 0.38697483901701935, 0.4129744286146979, 2.095129686566982, 0.8399787083500704, 0.6710525662253761, -0.4681469240612532, 2.1194359317570535, 1.038915191126487, -0.7172554535302076, 0.5688903859711237, 0.826646992545889, 0.09105518538007447, -0.589810469872444, -0.1525563108196747, -0.3633806409535802, 0.2692246496286448, -0.1395863420602316, 0.6420796882555284, -0.3895501220033279, -0.6842852202025996, -0.0662269940405855, -2.6265164759204436, -0.9020476303540725, -0.4167566139166744, 0.7135005499949627, -1.094409509953378, -1.7596727501739213, -1.3221416350039188, -1.165871915271899, -0.17725703007771632, 0.07750703246294158, -0.4058509152122095, 1.0113863879667255, 1.1743453857185353, 0.1522145118031781, -0.7226455063181879, -0.9955570686188059, 0.2765818865175756, -1.3549808500418952, 1.337102837580037, -0.08188136453619636, -1.04472177658133, 0.7038632224719813, -1.2644862932195187, 0.3524073622222112, -0.46797925694821996, 0.6379518560397109, 0.5978368539603639, 0.1896862075086954, 0.01498863199058901, 0.6737610775168448, -0.2093368496264277, -0.4445627663438925, -0.5225801896099493, 0.11252918692066753, 0.8218878151077612, -0.8365245614729655, -0.8260737556521454, 0.821246020726017, 1.7053976790292478, 0.9591926546787697, 1.0830800300363144, -0.7458624482789284, 0.00978102219508137, -0.9888119728575078, -1.0526562671556607, -0.48038870163723124, -0.6569719817113063, -0.848735736192335, 2.190392250125886, 0.8904709443200586, -0.24858231907030764, 0.9716461842773628, -1.0724720077866086, 0.15156616663461042, 0.36165937700608153, -0.7221361260002299, -2.0364234750392334, -0.6879418802528297, -0.40851358835174423, 0.9529887543414152, -0.15851581650574076, -1.4341531957352023, 0.1659117333162127, 2.344432739425215, 0.23891550498788275], \"xaxis\": \"x6\", \"yaxis\": \"y6\"}, {\"line\": {\"color\": \"rgba(128, 128, 128, 1.0)\", \"dash\": \"solid\", \"shape\": \"linear\", \"width\": 1.3}, \"marker\": {\"size\": 2, \"symbol\": \"circle\"}, \"mode\": \"markers\", \"name\": \"B\", \"text\": \"\", \"type\": \"scatter\", \"x\": [0.11506777591334545, -0.4669527591483944, 0.838753938652362, 1.7939169837397981, -1.3438326100575777, 0.7772824387875003, 0.5255163998487751, -0.14372743715167027, -1.1350475503194846, 0.8377061742195445, -1.2893734663813263, -0.6490806584734865, -0.7905725983268116, 1.4409167604861066, 0.4687506103857752, 0.9228644793460214, 0.7256872634793196, -0.6776405780161343, -0.4906669437171314, -0.8185539687468362, -0.9529249151507974, 0.9494275287384024, -0.8404780177971688, -0.23859050718064892, -1.33085820350392, -0.2547223651273164, 1.3848369503129814, -0.015170397451762494, 1.081412525387793, 0.13221713750683914, -0.5915055288945772, -0.694599290081804, 1.0150485266600329, 1.5155566873877593, 0.6275328930383646, -0.5840219696353247, -0.776311457551167, -0.6717617949609185, -0.9457685055861333, -0.6349865365838709, -0.9450538817674731, 0.3358272922545994, 2.2519875839333503, 1.0990320253477452, 2.1579827483939638, 0.6262070029210622, 0.3469528394636604, 0.8181198570393231, 0.3584307652929029, 0.5411769289617455, -1.6469461542071104, -0.9394111622402175, 0.34570756963622945, -0.08313735682778838, -0.5827389646844746, 0.9313053242818813, 0.522310163649811, 0.6073699269751509, -2.0324889511721214, -1.9066225540276152, 1.590194563123513, -0.4311534589466588, 2.0156464167629853, 0.5105587282134346, 0.06424465390783764, 1.2993272757132333, -0.8002831178402844, -0.09064770187143911, 0.9597380188142864, 0.048626762496730105, 1.015142005510411, 3.2188022869139106, -0.10316204116054475, -1.2826721358372464, 0.2232936363291398, -1.1676562338091363, 0.29032401337670666, 0.14965456611823938, 1.4024381550184488, -2.1890658665656177, 0.2755147161407717, 1.5955506986374905, 0.07572171368240455, -0.08262244372807441, 0.2166289542416796, 0.08603331417035655, -1.021756178602517, -0.5269913512362231, -0.3539868604883295, -0.35340661766312104, -0.8723077965365962, -0.856046069191193, -0.16826738357465057, 1.4501480109011096, 0.5542794821235857, -1.1598134961669193, -0.2878579037631965, 0.10974255297595349, -0.996444324819498, 1.1446227114720948], \"xaxis\": \"x7\", \"y\": [-0.740902655559266, -0.08310433278810744, -1.251683393405426, -1.204225704833254, 1.0143348303407134, -1.0161633496549207, -1.7583971257729267, 1.4521908459282145, -0.480368906287327, 0.5131858057305899, 0.27503721587001323, 1.290465634875162, 1.1124276711007453, -1.4899235118041922, 0.38697483901701935, 0.4129744286146979, 2.095129686566982, 0.8399787083500704, 0.6710525662253761, -0.4681469240612532, 2.1194359317570535, 1.038915191126487, -0.7172554535302076, 0.5688903859711237, 0.826646992545889, 0.09105518538007447, -0.589810469872444, -0.1525563108196747, -0.3633806409535802, 0.2692246496286448, -0.1395863420602316, 0.6420796882555284, -0.3895501220033279, -0.6842852202025996, -0.0662269940405855, -2.6265164759204436, -0.9020476303540725, -0.4167566139166744, 0.7135005499949627, -1.094409509953378, -1.7596727501739213, -1.3221416350039188, -1.165871915271899, -0.17725703007771632, 0.07750703246294158, -0.4058509152122095, 1.0113863879667255, 1.1743453857185353, 0.1522145118031781, -0.7226455063181879, -0.9955570686188059, 0.2765818865175756, -1.3549808500418952, 1.337102837580037, -0.08188136453619636, -1.04472177658133, 0.7038632224719813, -1.2644862932195187, 0.3524073622222112, -0.46797925694821996, 0.6379518560397109, 0.5978368539603639, 0.1896862075086954, 0.01498863199058901, 0.6737610775168448, -0.2093368496264277, -0.4445627663438925, -0.5225801896099493, 0.11252918692066753, 0.8218878151077612, -0.8365245614729655, -0.8260737556521454, 0.821246020726017, 1.7053976790292478, 0.9591926546787697, 1.0830800300363144, -0.7458624482789284, 0.00978102219508137, -0.9888119728575078, -1.0526562671556607, -0.48038870163723124, -0.6569719817113063, -0.848735736192335, 2.190392250125886, 0.8904709443200586, -0.24858231907030764, 0.9716461842773628, -1.0724720077866086, 0.15156616663461042, 0.36165937700608153, -0.7221361260002299, -2.0364234750392334, -0.6879418802528297, -0.40851358835174423, 0.9529887543414152, -0.15851581650574076, -1.4341531957352023, 0.1659117333162127, 2.344432739425215, 0.23891550498788275], \"yaxis\": \"y7\"}, {\"line\": {\"color\": \"rgba(128, 128, 128, 1.0)\", \"dash\": \"solid\", \"shape\": \"linear\", \"width\": 1.3}, \"marker\": {\"size\": 2, \"symbol\": \"circle\"}, \"mode\": \"markers\", \"name\": \"B\", \"text\": \"\", \"type\": \"scatter\", \"x\": [1.4569727607926122, 1.5803324075229161, -1.2897002441333556, -0.16166551474494495, -1.976502864334509, -0.8693958414819042, 0.9551460280404175, 0.2802516103397689, 1.2550272097356434, 0.9155115058822488, 0.7733482131769092, -1.1631126105679386, 0.3931126235197993, 1.5592260592093, -0.7546707280860958, -0.577462363122032, 0.10812191862643344, -1.3021525005770849, 0.0013863273196885522, -1.1565924417119133, 0.030893790789631646, -0.2921139554387492, -0.6378229963088616, -0.2552420579232666, -0.7105803541717001, -0.7310763884707412, 0.850591748444687, 0.25350478409356253, -0.0025095031827617282, -1.038633643463149, 0.8260476059311241, 0.5222387643383883, 1.4269978745065481, -2.1968429450957525, 0.1884115433816258, -0.26168481206024646, 0.7273415497579273, 2.299797566491191, 0.8788511743957212, 1.1091884743081923, 0.388275901319309, 0.059801554863223624, 0.7049894936262245, 1.0788069961882627, 0.430901839072723, 0.625095337397016, -0.15792309032785642, 0.45281184157042315, -0.4517714112086825, -1.321525146743949, 0.6769278297715584, -0.66020231086785, 0.02621609074868664, 1.237167600904855, -0.37366966211437025, -0.8374883670259714, -1.7838417355758664, 1.9282931010823163, 0.9403749494318877, 0.30310974524093093, 1.0237472277719784, -0.9817481934613881, -0.7965587873113616, -0.2756526237681351, 0.07193352921125992, 1.3843610975021363, -1.1883473539731926, -1.132010345991311, -1.0217264191012476, 0.7850296917497678, 2.2121655730172725, 0.5932119006791556, -1.439284833023011, -0.7046679703172876, -0.42747316155692994, -1.7867416717823146, -1.3465481460900666, -1.1275245220204797, -0.1920986987537914, 0.2695193429927655, -2.0193794708287247, 0.664330606404295, -2.5251217573612994, 2.195869829867191, 0.6241679103092804, -2.4482135541760828, 2.022834651920917, 1.0827267716967608, -0.006038442634036476, -0.861912397917697, 1.4948604815170339, -0.21769551523968977, -0.26311210258217965, 0.37203035503116805, -0.7976063789805946, -0.557349689706263, 2.148558435514855, -1.074934475018916, -2.799387901627083, 0.2607365043330616], \"xaxis\": \"x8\", \"y\": [-0.740902655559266, -0.08310433278810744, -1.251683393405426, -1.204225704833254, 1.0143348303407134, -1.0161633496549207, -1.7583971257729267, 1.4521908459282145, -0.480368906287327, 0.5131858057305899, 0.27503721587001323, 1.290465634875162, 1.1124276711007453, -1.4899235118041922, 0.38697483901701935, 0.4129744286146979, 2.095129686566982, 0.8399787083500704, 0.6710525662253761, -0.4681469240612532, 2.1194359317570535, 1.038915191126487, -0.7172554535302076, 0.5688903859711237, 0.826646992545889, 0.09105518538007447, -0.589810469872444, -0.1525563108196747, -0.3633806409535802, 0.2692246496286448, -0.1395863420602316, 0.6420796882555284, -0.3895501220033279, -0.6842852202025996, -0.0662269940405855, -2.6265164759204436, -0.9020476303540725, -0.4167566139166744, 0.7135005499949627, -1.094409509953378, -1.7596727501739213, -1.3221416350039188, -1.165871915271899, -0.17725703007771632, 0.07750703246294158, -0.4058509152122095, 1.0113863879667255, 1.1743453857185353, 0.1522145118031781, -0.7226455063181879, -0.9955570686188059, 0.2765818865175756, -1.3549808500418952, 1.337102837580037, -0.08188136453619636, -1.04472177658133, 0.7038632224719813, -1.2644862932195187, 0.3524073622222112, -0.46797925694821996, 0.6379518560397109, 0.5978368539603639, 0.1896862075086954, 0.01498863199058901, 0.6737610775168448, -0.2093368496264277, -0.4445627663438925, -0.5225801896099493, 0.11252918692066753, 0.8218878151077612, -0.8365245614729655, -0.8260737556521454, 0.821246020726017, 1.7053976790292478, 0.9591926546787697, 1.0830800300363144, -0.7458624482789284, 0.00978102219508137, -0.9888119728575078, -1.0526562671556607, -0.48038870163723124, -0.6569719817113063, -0.848735736192335, 2.190392250125886, 0.8904709443200586, -0.24858231907030764, 0.9716461842773628, -1.0724720077866086, 0.15156616663461042, 0.36165937700608153, -0.7221361260002299, -2.0364234750392334, -0.6879418802528297, -0.40851358835174423, 0.9529887543414152, -0.15851581650574076, -1.4341531957352023, 0.1659117333162127, 2.344432739425215, 0.23891550498788275], \"yaxis\": \"y8\"}, {\"line\": {\"color\": \"rgba(128, 128, 128, 1.0)\", \"dash\": \"solid\", \"shape\": \"linear\", \"width\": 1.3}, \"marker\": {\"size\": 2, \"symbol\": \"circle\"}, \"mode\": \"markers\", \"name\": \"C\", \"text\": \"\", \"type\": \"scatter\", \"x\": [-0.07626798862524346, 0.22540134756441488, -0.8057647977006603, 0.3775230577282411, -0.1680604099266579, 0.8713582072512306, -0.08016296132520627, 2.0793375312602986, 0.6174946047522917, 1.3470244023614335, -0.45534748125031793, 1.1567776506639353, -0.8740526020125177, -0.037407388938710644, 0.5532512221426178, -1.051190550010996, -0.35056999351700524, 1.071823066376621, 0.9093892370915182, -1.0488537815283008, -0.4599270555168315, 1.8602051198265883, -0.8249352680142302, -1.5106002057662986, 0.0996067858587673, -0.9955831080121025, -1.1743481536862996, 0.798495220365897, 2.135298305419711, -0.918373544679037, -1.3292049671635469, -1.482014934583836, 0.4658513332948664, 1.7175357781491922, -0.1606077083412937, 0.5805593871078475, -0.2538847588879203, 1.0542215320006398, -0.4301439180270131, -1.2014952657868243, 0.4460530424636575, -0.38016505214183166, 1.187504657276655, 1.0092529666759915, 0.5276280783314551, -2.3146759442720812, -0.9726633353919516, -1.4651901913239982, -0.8517523630692322, -2.317281604613853, -0.14261933190625772, -2.077146476047186, -0.3251807441512565, 0.1319632239823357, 0.7486045945026552, 0.33685670014918506, -0.037845194242645784, -1.3667973040236276, 0.7727164075726849, -1.2011494900729764, 0.2691153645066599, -0.7673187313510428, 0.7313925705637623, 0.27488086113873705, -0.21474757848854253, 0.9183127839848029, 0.20274982610001047, -1.2321068101491492, 2.2023622350450003, 0.22588488340486504, -0.21025110889818346, -0.06932808427719565, -0.330211178580367, -1.1630223928019472, 0.3991187829537466, 0.26561049183638635, 0.2489546357507444, -1.0363391210443667, 0.28072456627802256, -1.4258804403303178, 0.34187592095465646, -1.1053725354624688, -0.7016568221765985, 0.3193171141371305, -1.6882672411213937, -0.6384005418166574, 1.1931023903017663, -1.079295557921701, 0.953153121390354, 0.4535569514855566, -0.6142109560790182, 1.7927716591736043, -2.0886630176573466, -0.647956166935598, -0.5679356570104203, 0.6153764784573306, 1.211953758491585, -1.516211074458471, -0.6678919354224481, 0.7549092172063453], \"xaxis\": \"x9\", \"y\": [0.11506777591334545, -0.4669527591483944, 0.838753938652362, 1.7939169837397981, -1.3438326100575777, 0.7772824387875003, 0.5255163998487751, -0.14372743715167027, -1.1350475503194846, 0.8377061742195445, -1.2893734663813263, -0.6490806584734865, -0.7905725983268116, 1.4409167604861066, 0.4687506103857752, 0.9228644793460214, 0.7256872634793196, -0.6776405780161343, -0.4906669437171314, -0.8185539687468362, -0.9529249151507974, 0.9494275287384024, -0.8404780177971688, -0.23859050718064892, -1.33085820350392, -0.2547223651273164, 1.3848369503129814, -0.015170397451762494, 1.081412525387793, 0.13221713750683914, -0.5915055288945772, -0.694599290081804, 1.0150485266600329, 1.5155566873877593, 0.6275328930383646, -0.5840219696353247, -0.776311457551167, -0.6717617949609185, -0.9457685055861333, -0.6349865365838709, -0.9450538817674731, 0.3358272922545994, 2.2519875839333503, 1.0990320253477452, 2.1579827483939638, 0.6262070029210622, 0.3469528394636604, 0.8181198570393231, 0.3584307652929029, 0.5411769289617455, -1.6469461542071104, -0.9394111622402175, 0.34570756963622945, -0.08313735682778838, -0.5827389646844746, 0.9313053242818813, 0.522310163649811, 0.6073699269751509, -2.0324889511721214, -1.9066225540276152, 1.590194563123513, -0.4311534589466588, 2.0156464167629853, 0.5105587282134346, 0.06424465390783764, 1.2993272757132333, -0.8002831178402844, -0.09064770187143911, 0.9597380188142864, 0.048626762496730105, 1.015142005510411, 3.2188022869139106, -0.10316204116054475, -1.2826721358372464, 0.2232936363291398, -1.1676562338091363, 0.29032401337670666, 0.14965456611823938, 1.4024381550184488, -2.1890658665656177, 0.2755147161407717, 1.5955506986374905, 0.07572171368240455, -0.08262244372807441, 0.2166289542416796, 0.08603331417035655, -1.021756178602517, -0.5269913512362231, -0.3539868604883295, -0.35340661766312104, -0.8723077965365962, -0.856046069191193, -0.16826738357465057, 1.4501480109011096, 0.5542794821235857, -1.1598134961669193, -0.2878579037631965, 0.10974255297595349, -0.996444324819498, 1.1446227114720948], \"yaxis\": \"y9\"}, {\"line\": {\"color\": \"rgba(128, 128, 128, 1.0)\", \"dash\": \"solid\", \"shape\": \"linear\", \"width\": 1.3}, \"marker\": {\"size\": 2, \"symbol\": \"circle\"}, \"mode\": \"markers\", \"name\": \"C\", \"text\": \"\", \"type\": \"scatter\", \"x\": [-0.740902655559266, -0.08310433278810744, -1.251683393405426, -1.204225704833254, 1.0143348303407134, -1.0161633496549207, -1.7583971257729267, 1.4521908459282145, -0.480368906287327, 0.5131858057305899, 0.27503721587001323, 1.290465634875162, 1.1124276711007453, -1.4899235118041922, 0.38697483901701935, 0.4129744286146979, 2.095129686566982, 0.8399787083500704, 0.6710525662253761, -0.4681469240612532, 2.1194359317570535, 1.038915191126487, -0.7172554535302076, 0.5688903859711237, 0.826646992545889, 0.09105518538007447, -0.589810469872444, -0.1525563108196747, -0.3633806409535802, 0.2692246496286448, -0.1395863420602316, 0.6420796882555284, -0.3895501220033279, -0.6842852202025996, -0.0662269940405855, -2.6265164759204436, -0.9020476303540725, -0.4167566139166744, 0.7135005499949627, -1.094409509953378, -1.7596727501739213, -1.3221416350039188, -1.165871915271899, -0.17725703007771632, 0.07750703246294158, -0.4058509152122095, 1.0113863879667255, 1.1743453857185353, 0.1522145118031781, -0.7226455063181879, -0.9955570686188059, 0.2765818865175756, -1.3549808500418952, 1.337102837580037, -0.08188136453619636, -1.04472177658133, 0.7038632224719813, -1.2644862932195187, 0.3524073622222112, -0.46797925694821996, 0.6379518560397109, 0.5978368539603639, 0.1896862075086954, 0.01498863199058901, 0.6737610775168448, -0.2093368496264277, -0.4445627663438925, -0.5225801896099493, 0.11252918692066753, 0.8218878151077612, -0.8365245614729655, -0.8260737556521454, 0.821246020726017, 1.7053976790292478, 0.9591926546787697, 1.0830800300363144, -0.7458624482789284, 0.00978102219508137, -0.9888119728575078, -1.0526562671556607, -0.48038870163723124, -0.6569719817113063, -0.848735736192335, 2.190392250125886, 0.8904709443200586, -0.24858231907030764, 0.9716461842773628, -1.0724720077866086, 0.15156616663461042, 0.36165937700608153, -0.7221361260002299, -2.0364234750392334, -0.6879418802528297, -0.40851358835174423, 0.9529887543414152, -0.15851581650574076, -1.4341531957352023, 0.1659117333162127, 2.344432739425215, 0.23891550498788275], \"xaxis\": \"x10\", \"y\": [0.11506777591334545, -0.4669527591483944, 0.838753938652362, 1.7939169837397981, -1.3438326100575777, 0.7772824387875003, 0.5255163998487751, -0.14372743715167027, -1.1350475503194846, 0.8377061742195445, -1.2893734663813263, -0.6490806584734865, -0.7905725983268116, 1.4409167604861066, 0.4687506103857752, 0.9228644793460214, 0.7256872634793196, -0.6776405780161343, -0.4906669437171314, -0.8185539687468362, -0.9529249151507974, 0.9494275287384024, -0.8404780177971688, -0.23859050718064892, -1.33085820350392, -0.2547223651273164, 1.3848369503129814, -0.015170397451762494, 1.081412525387793, 0.13221713750683914, -0.5915055288945772, -0.694599290081804, 1.0150485266600329, 1.5155566873877593, 0.6275328930383646, -0.5840219696353247, -0.776311457551167, -0.6717617949609185, -0.9457685055861333, -0.6349865365838709, -0.9450538817674731, 0.3358272922545994, 2.2519875839333503, 1.0990320253477452, 2.1579827483939638, 0.6262070029210622, 0.3469528394636604, 0.8181198570393231, 0.3584307652929029, 0.5411769289617455, -1.6469461542071104, -0.9394111622402175, 0.34570756963622945, -0.08313735682778838, -0.5827389646844746, 0.9313053242818813, 0.522310163649811, 0.6073699269751509, -2.0324889511721214, -1.9066225540276152, 1.590194563123513, -0.4311534589466588, 2.0156464167629853, 0.5105587282134346, 0.06424465390783764, 1.2993272757132333, -0.8002831178402844, -0.09064770187143911, 0.9597380188142864, 0.048626762496730105, 1.015142005510411, 3.2188022869139106, -0.10316204116054475, -1.2826721358372464, 0.2232936363291398, -1.1676562338091363, 0.29032401337670666, 0.14965456611823938, 1.4024381550184488, -2.1890658665656177, 0.2755147161407717, 1.5955506986374905, 0.07572171368240455, -0.08262244372807441, 0.2166289542416796, 0.08603331417035655, -1.021756178602517, -0.5269913512362231, -0.3539868604883295, -0.35340661766312104, -0.8723077965365962, -0.856046069191193, -0.16826738357465057, 1.4501480109011096, 0.5542794821235857, -1.1598134961669193, -0.2878579037631965, 0.10974255297595349, -0.996444324819498, 1.1446227114720948], \"yaxis\": \"y10\"}, {\"histfunc\": \"count\", \"histnorm\": \"\", \"marker\": {\"color\": \"rgba(50, 171, 96, 1.0)\", \"line\": {\"color\": \"#4D5663\", \"width\": 1.3}}, \"name\": \"C\", \"nbinsx\": 10, \"opacity\": 0.8, \"orientation\": \"v\", \"type\": \"histogram\", \"x\": [0.11506777591334545, -0.4669527591483944, 0.838753938652362, 1.7939169837397981, -1.3438326100575777, 0.7772824387875003, 0.5255163998487751, -0.14372743715167027, -1.1350475503194846, 0.8377061742195445, -1.2893734663813263, -0.6490806584734865, -0.7905725983268116, 1.4409167604861066, 0.4687506103857752, 0.9228644793460214, 0.7256872634793196, -0.6776405780161343, -0.4906669437171314, -0.8185539687468362, -0.9529249151507974, 0.9494275287384024, -0.8404780177971688, -0.23859050718064892, -1.33085820350392, -0.2547223651273164, 1.3848369503129814, -0.015170397451762494, 1.081412525387793, 0.13221713750683914, -0.5915055288945772, -0.694599290081804, 1.0150485266600329, 1.5155566873877593, 0.6275328930383646, -0.5840219696353247, -0.776311457551167, -0.6717617949609185, -0.9457685055861333, -0.6349865365838709, -0.9450538817674731, 0.3358272922545994, 2.2519875839333503, 1.0990320253477452, 2.1579827483939638, 0.6262070029210622, 0.3469528394636604, 0.8181198570393231, 0.3584307652929029, 0.5411769289617455, -1.6469461542071104, -0.9394111622402175, 0.34570756963622945, -0.08313735682778838, -0.5827389646844746, 0.9313053242818813, 0.522310163649811, 0.6073699269751509, -2.0324889511721214, -1.9066225540276152, 1.590194563123513, -0.4311534589466588, 2.0156464167629853, 0.5105587282134346, 0.06424465390783764, 1.2993272757132333, -0.8002831178402844, -0.09064770187143911, 0.9597380188142864, 0.048626762496730105, 1.015142005510411, 3.2188022869139106, -0.10316204116054475, -1.2826721358372464, 0.2232936363291398, -1.1676562338091363, 0.29032401337670666, 0.14965456611823938, 1.4024381550184488, -2.1890658665656177, 0.2755147161407717, 1.5955506986374905, 0.07572171368240455, -0.08262244372807441, 0.2166289542416796, 0.08603331417035655, -1.021756178602517, -0.5269913512362231, -0.3539868604883295, -0.35340661766312104, -0.8723077965365962, -0.856046069191193, -0.16826738357465057, 1.4501480109011096, 0.5542794821235857, -1.1598134961669193, -0.2878579037631965, 0.10974255297595349, -0.996444324819498, 1.1446227114720948], \"xaxis\": \"x11\", \"yaxis\": \"y11\"}, {\"line\": {\"color\": \"rgba(128, 128, 128, 1.0)\", \"dash\": \"solid\", \"shape\": \"linear\", \"width\": 1.3}, \"marker\": {\"size\": 2, \"symbol\": \"circle\"}, \"mode\": \"markers\", \"name\": \"C\", \"text\": \"\", \"type\": \"scatter\", \"x\": [1.4569727607926122, 1.5803324075229161, -1.2897002441333556, -0.16166551474494495, -1.976502864334509, -0.8693958414819042, 0.9551460280404175, 0.2802516103397689, 1.2550272097356434, 0.9155115058822488, 0.7733482131769092, -1.1631126105679386, 0.3931126235197993, 1.5592260592093, -0.7546707280860958, -0.577462363122032, 0.10812191862643344, -1.3021525005770849, 0.0013863273196885522, -1.1565924417119133, 0.030893790789631646, -0.2921139554387492, -0.6378229963088616, -0.2552420579232666, -0.7105803541717001, -0.7310763884707412, 0.850591748444687, 0.25350478409356253, -0.0025095031827617282, -1.038633643463149, 0.8260476059311241, 0.5222387643383883, 1.4269978745065481, -2.1968429450957525, 0.1884115433816258, -0.26168481206024646, 0.7273415497579273, 2.299797566491191, 0.8788511743957212, 1.1091884743081923, 0.388275901319309, 0.059801554863223624, 0.7049894936262245, 1.0788069961882627, 0.430901839072723, 0.625095337397016, -0.15792309032785642, 0.45281184157042315, -0.4517714112086825, -1.321525146743949, 0.6769278297715584, -0.66020231086785, 0.02621609074868664, 1.237167600904855, -0.37366966211437025, -0.8374883670259714, -1.7838417355758664, 1.9282931010823163, 0.9403749494318877, 0.30310974524093093, 1.0237472277719784, -0.9817481934613881, -0.7965587873113616, -0.2756526237681351, 0.07193352921125992, 1.3843610975021363, -1.1883473539731926, -1.132010345991311, -1.0217264191012476, 0.7850296917497678, 2.2121655730172725, 0.5932119006791556, -1.439284833023011, -0.7046679703172876, -0.42747316155692994, -1.7867416717823146, -1.3465481460900666, -1.1275245220204797, -0.1920986987537914, 0.2695193429927655, -2.0193794708287247, 0.664330606404295, -2.5251217573612994, 2.195869829867191, 0.6241679103092804, -2.4482135541760828, 2.022834651920917, 1.0827267716967608, -0.006038442634036476, -0.861912397917697, 1.4948604815170339, -0.21769551523968977, -0.26311210258217965, 0.37203035503116805, -0.7976063789805946, -0.557349689706263, 2.148558435514855, -1.074934475018916, -2.799387901627083, 0.2607365043330616], \"xaxis\": \"x12\", \"y\": [0.11506777591334545, -0.4669527591483944, 0.838753938652362, 1.7939169837397981, -1.3438326100575777, 0.7772824387875003, 0.5255163998487751, -0.14372743715167027, -1.1350475503194846, 0.8377061742195445, -1.2893734663813263, -0.6490806584734865, -0.7905725983268116, 1.4409167604861066, 0.4687506103857752, 0.9228644793460214, 0.7256872634793196, -0.6776405780161343, -0.4906669437171314, -0.8185539687468362, -0.9529249151507974, 0.9494275287384024, -0.8404780177971688, -0.23859050718064892, -1.33085820350392, -0.2547223651273164, 1.3848369503129814, -0.015170397451762494, 1.081412525387793, 0.13221713750683914, -0.5915055288945772, -0.694599290081804, 1.0150485266600329, 1.5155566873877593, 0.6275328930383646, -0.5840219696353247, -0.776311457551167, -0.6717617949609185, -0.9457685055861333, -0.6349865365838709, -0.9450538817674731, 0.3358272922545994, 2.2519875839333503, 1.0990320253477452, 2.1579827483939638, 0.6262070029210622, 0.3469528394636604, 0.8181198570393231, 0.3584307652929029, 0.5411769289617455, -1.6469461542071104, -0.9394111622402175, 0.34570756963622945, -0.08313735682778838, -0.5827389646844746, 0.9313053242818813, 0.522310163649811, 0.6073699269751509, -2.0324889511721214, -1.9066225540276152, 1.590194563123513, -0.4311534589466588, 2.0156464167629853, 0.5105587282134346, 0.06424465390783764, 1.2993272757132333, -0.8002831178402844, -0.09064770187143911, 0.9597380188142864, 0.048626762496730105, 1.015142005510411, 3.2188022869139106, -0.10316204116054475, -1.2826721358372464, 0.2232936363291398, -1.1676562338091363, 0.29032401337670666, 0.14965456611823938, 1.4024381550184488, -2.1890658665656177, 0.2755147161407717, 1.5955506986374905, 0.07572171368240455, -0.08262244372807441, 0.2166289542416796, 0.08603331417035655, -1.021756178602517, -0.5269913512362231, -0.3539868604883295, -0.35340661766312104, -0.8723077965365962, -0.856046069191193, -0.16826738357465057, 1.4501480109011096, 0.5542794821235857, -1.1598134961669193, -0.2878579037631965, 0.10974255297595349, -0.996444324819498, 1.1446227114720948], \"yaxis\": \"y12\"}, {\"line\": {\"color\": \"rgba(128, 128, 128, 1.0)\", \"dash\": \"solid\", \"shape\": \"linear\", \"width\": 1.3}, \"marker\": {\"size\": 2, \"symbol\": \"circle\"}, \"mode\": \"markers\", \"name\": \"D\", \"text\": \"\", \"type\": \"scatter\", \"x\": [-0.07626798862524346, 0.22540134756441488, -0.8057647977006603, 0.3775230577282411, -0.1680604099266579, 0.8713582072512306, -0.08016296132520627, 2.0793375312602986, 0.6174946047522917, 1.3470244023614335, -0.45534748125031793, 1.1567776506639353, -0.8740526020125177, -0.037407388938710644, 0.5532512221426178, -1.051190550010996, -0.35056999351700524, 1.071823066376621, 0.9093892370915182, -1.0488537815283008, -0.4599270555168315, 1.8602051198265883, -0.8249352680142302, -1.5106002057662986, 0.0996067858587673, -0.9955831080121025, -1.1743481536862996, 0.798495220365897, 2.135298305419711, -0.918373544679037, -1.3292049671635469, -1.482014934583836, 0.4658513332948664, 1.7175357781491922, -0.1606077083412937, 0.5805593871078475, -0.2538847588879203, 1.0542215320006398, -0.4301439180270131, -1.2014952657868243, 0.4460530424636575, -0.38016505214183166, 1.187504657276655, 1.0092529666759915, 0.5276280783314551, -2.3146759442720812, -0.9726633353919516, -1.4651901913239982, -0.8517523630692322, -2.317281604613853, -0.14261933190625772, -2.077146476047186, -0.3251807441512565, 0.1319632239823357, 0.7486045945026552, 0.33685670014918506, -0.037845194242645784, -1.3667973040236276, 0.7727164075726849, -1.2011494900729764, 0.2691153645066599, -0.7673187313510428, 0.7313925705637623, 0.27488086113873705, -0.21474757848854253, 0.9183127839848029, 0.20274982610001047, -1.2321068101491492, 2.2023622350450003, 0.22588488340486504, -0.21025110889818346, -0.06932808427719565, -0.330211178580367, -1.1630223928019472, 0.3991187829537466, 0.26561049183638635, 0.2489546357507444, -1.0363391210443667, 0.28072456627802256, -1.4258804403303178, 0.34187592095465646, -1.1053725354624688, -0.7016568221765985, 0.3193171141371305, -1.6882672411213937, -0.6384005418166574, 1.1931023903017663, -1.079295557921701, 0.953153121390354, 0.4535569514855566, -0.6142109560790182, 1.7927716591736043, -2.0886630176573466, -0.647956166935598, -0.5679356570104203, 0.6153764784573306, 1.211953758491585, -1.516211074458471, -0.6678919354224481, 0.7549092172063453], \"xaxis\": \"x13\", \"y\": [1.4569727607926122, 1.5803324075229161, -1.2897002441333556, -0.16166551474494495, -1.976502864334509, -0.8693958414819042, 0.9551460280404175, 0.2802516103397689, 1.2550272097356434, 0.9155115058822488, 0.7733482131769092, -1.1631126105679386, 0.3931126235197993, 1.5592260592093, -0.7546707280860958, -0.577462363122032, 0.10812191862643344, -1.3021525005770849, 0.0013863273196885522, -1.1565924417119133, 0.030893790789631646, -0.2921139554387492, -0.6378229963088616, -0.2552420579232666, -0.7105803541717001, -0.7310763884707412, 0.850591748444687, 0.25350478409356253, -0.0025095031827617282, -1.038633643463149, 0.8260476059311241, 0.5222387643383883, 1.4269978745065481, -2.1968429450957525, 0.1884115433816258, -0.26168481206024646, 0.7273415497579273, 2.299797566491191, 0.8788511743957212, 1.1091884743081923, 0.388275901319309, 0.059801554863223624, 0.7049894936262245, 1.0788069961882627, 0.430901839072723, 0.625095337397016, -0.15792309032785642, 0.45281184157042315, -0.4517714112086825, -1.321525146743949, 0.6769278297715584, -0.66020231086785, 0.02621609074868664, 1.237167600904855, -0.37366966211437025, -0.8374883670259714, -1.7838417355758664, 1.9282931010823163, 0.9403749494318877, 0.30310974524093093, 1.0237472277719784, -0.9817481934613881, -0.7965587873113616, -0.2756526237681351, 0.07193352921125992, 1.3843610975021363, -1.1883473539731926, -1.132010345991311, -1.0217264191012476, 0.7850296917497678, 2.2121655730172725, 0.5932119006791556, -1.439284833023011, -0.7046679703172876, -0.42747316155692994, -1.7867416717823146, -1.3465481460900666, -1.1275245220204797, -0.1920986987537914, 0.2695193429927655, -2.0193794708287247, 0.664330606404295, -2.5251217573612994, 2.195869829867191, 0.6241679103092804, -2.4482135541760828, 2.022834651920917, 1.0827267716967608, -0.006038442634036476, -0.861912397917697, 1.4948604815170339, -0.21769551523968977, -0.26311210258217965, 0.37203035503116805, -0.7976063789805946, -0.557349689706263, 2.148558435514855, -1.074934475018916, -2.799387901627083, 0.2607365043330616], \"yaxis\": \"y13\"}, {\"line\": {\"color\": \"rgba(128, 128, 128, 1.0)\", \"dash\": \"solid\", \"shape\": \"linear\", \"width\": 1.3}, \"marker\": {\"size\": 2, \"symbol\": \"circle\"}, \"mode\": \"markers\", \"name\": \"D\", \"text\": \"\", \"type\": \"scatter\", \"x\": [-0.740902655559266, -0.08310433278810744, -1.251683393405426, -1.204225704833254, 1.0143348303407134, -1.0161633496549207, -1.7583971257729267, 1.4521908459282145, -0.480368906287327, 0.5131858057305899, 0.27503721587001323, 1.290465634875162, 1.1124276711007453, -1.4899235118041922, 0.38697483901701935, 0.4129744286146979, 2.095129686566982, 0.8399787083500704, 0.6710525662253761, -0.4681469240612532, 2.1194359317570535, 1.038915191126487, -0.7172554535302076, 0.5688903859711237, 0.826646992545889, 0.09105518538007447, -0.589810469872444, -0.1525563108196747, -0.3633806409535802, 0.2692246496286448, -0.1395863420602316, 0.6420796882555284, -0.3895501220033279, -0.6842852202025996, -0.0662269940405855, -2.6265164759204436, -0.9020476303540725, -0.4167566139166744, 0.7135005499949627, -1.094409509953378, -1.7596727501739213, -1.3221416350039188, -1.165871915271899, -0.17725703007771632, 0.07750703246294158, -0.4058509152122095, 1.0113863879667255, 1.1743453857185353, 0.1522145118031781, -0.7226455063181879, -0.9955570686188059, 0.2765818865175756, -1.3549808500418952, 1.337102837580037, -0.08188136453619636, -1.04472177658133, 0.7038632224719813, -1.2644862932195187, 0.3524073622222112, -0.46797925694821996, 0.6379518560397109, 0.5978368539603639, 0.1896862075086954, 0.01498863199058901, 0.6737610775168448, -0.2093368496264277, -0.4445627663438925, -0.5225801896099493, 0.11252918692066753, 0.8218878151077612, -0.8365245614729655, -0.8260737556521454, 0.821246020726017, 1.7053976790292478, 0.9591926546787697, 1.0830800300363144, -0.7458624482789284, 0.00978102219508137, -0.9888119728575078, -1.0526562671556607, -0.48038870163723124, -0.6569719817113063, -0.848735736192335, 2.190392250125886, 0.8904709443200586, -0.24858231907030764, 0.9716461842773628, -1.0724720077866086, 0.15156616663461042, 0.36165937700608153, -0.7221361260002299, -2.0364234750392334, -0.6879418802528297, -0.40851358835174423, 0.9529887543414152, -0.15851581650574076, -1.4341531957352023, 0.1659117333162127, 2.344432739425215, 0.23891550498788275], \"xaxis\": \"x14\", \"y\": [1.4569727607926122, 1.5803324075229161, -1.2897002441333556, -0.16166551474494495, -1.976502864334509, -0.8693958414819042, 0.9551460280404175, 0.2802516103397689, 1.2550272097356434, 0.9155115058822488, 0.7733482131769092, -1.1631126105679386, 0.3931126235197993, 1.5592260592093, -0.7546707280860958, -0.577462363122032, 0.10812191862643344, -1.3021525005770849, 0.0013863273196885522, -1.1565924417119133, 0.030893790789631646, -0.2921139554387492, -0.6378229963088616, -0.2552420579232666, -0.7105803541717001, -0.7310763884707412, 0.850591748444687, 0.25350478409356253, -0.0025095031827617282, -1.038633643463149, 0.8260476059311241, 0.5222387643383883, 1.4269978745065481, -2.1968429450957525, 0.1884115433816258, -0.26168481206024646, 0.7273415497579273, 2.299797566491191, 0.8788511743957212, 1.1091884743081923, 0.388275901319309, 0.059801554863223624, 0.7049894936262245, 1.0788069961882627, 0.430901839072723, 0.625095337397016, -0.15792309032785642, 0.45281184157042315, -0.4517714112086825, -1.321525146743949, 0.6769278297715584, -0.66020231086785, 0.02621609074868664, 1.237167600904855, -0.37366966211437025, -0.8374883670259714, -1.7838417355758664, 1.9282931010823163, 0.9403749494318877, 0.30310974524093093, 1.0237472277719784, -0.9817481934613881, -0.7965587873113616, -0.2756526237681351, 0.07193352921125992, 1.3843610975021363, -1.1883473539731926, -1.132010345991311, -1.0217264191012476, 0.7850296917497678, 2.2121655730172725, 0.5932119006791556, -1.439284833023011, -0.7046679703172876, -0.42747316155692994, -1.7867416717823146, -1.3465481460900666, -1.1275245220204797, -0.1920986987537914, 0.2695193429927655, -2.0193794708287247, 0.664330606404295, -2.5251217573612994, 2.195869829867191, 0.6241679103092804, -2.4482135541760828, 2.022834651920917, 1.0827267716967608, -0.006038442634036476, -0.861912397917697, 1.4948604815170339, -0.21769551523968977, -0.26311210258217965, 0.37203035503116805, -0.7976063789805946, -0.557349689706263, 2.148558435514855, -1.074934475018916, -2.799387901627083, 0.2607365043330616], \"yaxis\": \"y14\"}, {\"line\": {\"color\": \"rgba(128, 128, 128, 1.0)\", \"dash\": \"solid\", \"shape\": \"linear\", \"width\": 1.3}, \"marker\": {\"size\": 2, \"symbol\": \"circle\"}, \"mode\": \"markers\", \"name\": \"D\", \"text\": \"\", \"type\": \"scatter\", \"x\": [0.11506777591334545, -0.4669527591483944, 0.838753938652362, 1.7939169837397981, -1.3438326100575777, 0.7772824387875003, 0.5255163998487751, -0.14372743715167027, -1.1350475503194846, 0.8377061742195445, -1.2893734663813263, -0.6490806584734865, -0.7905725983268116, 1.4409167604861066, 0.4687506103857752, 0.9228644793460214, 0.7256872634793196, -0.6776405780161343, -0.4906669437171314, -0.8185539687468362, -0.9529249151507974, 0.9494275287384024, -0.8404780177971688, -0.23859050718064892, -1.33085820350392, -0.2547223651273164, 1.3848369503129814, -0.015170397451762494, 1.081412525387793, 0.13221713750683914, -0.5915055288945772, -0.694599290081804, 1.0150485266600329, 1.5155566873877593, 0.6275328930383646, -0.5840219696353247, -0.776311457551167, -0.6717617949609185, -0.9457685055861333, -0.6349865365838709, -0.9450538817674731, 0.3358272922545994, 2.2519875839333503, 1.0990320253477452, 2.1579827483939638, 0.6262070029210622, 0.3469528394636604, 0.8181198570393231, 0.3584307652929029, 0.5411769289617455, -1.6469461542071104, -0.9394111622402175, 0.34570756963622945, -0.08313735682778838, -0.5827389646844746, 0.9313053242818813, 0.522310163649811, 0.6073699269751509, -2.0324889511721214, -1.9066225540276152, 1.590194563123513, -0.4311534589466588, 2.0156464167629853, 0.5105587282134346, 0.06424465390783764, 1.2993272757132333, -0.8002831178402844, -0.09064770187143911, 0.9597380188142864, 0.048626762496730105, 1.015142005510411, 3.2188022869139106, -0.10316204116054475, -1.2826721358372464, 0.2232936363291398, -1.1676562338091363, 0.29032401337670666, 0.14965456611823938, 1.4024381550184488, -2.1890658665656177, 0.2755147161407717, 1.5955506986374905, 0.07572171368240455, -0.08262244372807441, 0.2166289542416796, 0.08603331417035655, -1.021756178602517, -0.5269913512362231, -0.3539868604883295, -0.35340661766312104, -0.8723077965365962, -0.856046069191193, -0.16826738357465057, 1.4501480109011096, 0.5542794821235857, -1.1598134961669193, -0.2878579037631965, 0.10974255297595349, -0.996444324819498, 1.1446227114720948], \"xaxis\": \"x15\", \"y\": [1.4569727607926122, 1.5803324075229161, -1.2897002441333556, -0.16166551474494495, -1.976502864334509, -0.8693958414819042, 0.9551460280404175, 0.2802516103397689, 1.2550272097356434, 0.9155115058822488, 0.7733482131769092, -1.1631126105679386, 0.3931126235197993, 1.5592260592093, -0.7546707280860958, -0.577462363122032, 0.10812191862643344, -1.3021525005770849, 0.0013863273196885522, -1.1565924417119133, 0.030893790789631646, -0.2921139554387492, -0.6378229963088616, -0.2552420579232666, -0.7105803541717001, -0.7310763884707412, 0.850591748444687, 0.25350478409356253, -0.0025095031827617282, -1.038633643463149, 0.8260476059311241, 0.5222387643383883, 1.4269978745065481, -2.1968429450957525, 0.1884115433816258, -0.26168481206024646, 0.7273415497579273, 2.299797566491191, 0.8788511743957212, 1.1091884743081923, 0.388275901319309, 0.059801554863223624, 0.7049894936262245, 1.0788069961882627, 0.430901839072723, 0.625095337397016, -0.15792309032785642, 0.45281184157042315, -0.4517714112086825, -1.321525146743949, 0.6769278297715584, -0.66020231086785, 0.02621609074868664, 1.237167600904855, -0.37366966211437025, -0.8374883670259714, -1.7838417355758664, 1.9282931010823163, 0.9403749494318877, 0.30310974524093093, 1.0237472277719784, -0.9817481934613881, -0.7965587873113616, -0.2756526237681351, 0.07193352921125992, 1.3843610975021363, -1.1883473539731926, -1.132010345991311, -1.0217264191012476, 0.7850296917497678, 2.2121655730172725, 0.5932119006791556, -1.439284833023011, -0.7046679703172876, -0.42747316155692994, -1.7867416717823146, -1.3465481460900666, -1.1275245220204797, -0.1920986987537914, 0.2695193429927655, -2.0193794708287247, 0.664330606404295, -2.5251217573612994, 2.195869829867191, 0.6241679103092804, -2.4482135541760828, 2.022834651920917, 1.0827267716967608, -0.006038442634036476, -0.861912397917697, 1.4948604815170339, -0.21769551523968977, -0.26311210258217965, 0.37203035503116805, -0.7976063789805946, -0.557349689706263, 2.148558435514855, -1.074934475018916, -2.799387901627083, 0.2607365043330616], \"yaxis\": \"y15\"}, {\"histfunc\": \"count\", \"histnorm\": \"\", \"marker\": {\"color\": \"rgba(128, 0, 128, 1.0)\", \"line\": {\"color\": \"#4D5663\", \"width\": 1.3}}, \"name\": \"D\", \"nbinsx\": 10, \"opacity\": 0.8, \"orientation\": \"v\", \"type\": \"histogram\", \"x\": [1.4569727607926122, 1.5803324075229161, -1.2897002441333556, -0.16166551474494495, -1.976502864334509, -0.8693958414819042, 0.9551460280404175, 0.2802516103397689, 1.2550272097356434, 0.9155115058822488, 0.7733482131769092, -1.1631126105679386, 0.3931126235197993, 1.5592260592093, -0.7546707280860958, -0.577462363122032, 0.10812191862643344, -1.3021525005770849, 0.0013863273196885522, -1.1565924417119133, 0.030893790789631646, -0.2921139554387492, -0.6378229963088616, -0.2552420579232666, -0.7105803541717001, -0.7310763884707412, 0.850591748444687, 0.25350478409356253, -0.0025095031827617282, -1.038633643463149, 0.8260476059311241, 0.5222387643383883, 1.4269978745065481, -2.1968429450957525, 0.1884115433816258, -0.26168481206024646, 0.7273415497579273, 2.299797566491191, 0.8788511743957212, 1.1091884743081923, 0.388275901319309, 0.059801554863223624, 0.7049894936262245, 1.0788069961882627, 0.430901839072723, 0.625095337397016, -0.15792309032785642, 0.45281184157042315, -0.4517714112086825, -1.321525146743949, 0.6769278297715584, -0.66020231086785, 0.02621609074868664, 1.237167600904855, -0.37366966211437025, -0.8374883670259714, -1.7838417355758664, 1.9282931010823163, 0.9403749494318877, 0.30310974524093093, 1.0237472277719784, -0.9817481934613881, -0.7965587873113616, -0.2756526237681351, 0.07193352921125992, 1.3843610975021363, -1.1883473539731926, -1.132010345991311, -1.0217264191012476, 0.7850296917497678, 2.2121655730172725, 0.5932119006791556, -1.439284833023011, -0.7046679703172876, -0.42747316155692994, -1.7867416717823146, -1.3465481460900666, -1.1275245220204797, -0.1920986987537914, 0.2695193429927655, -2.0193794708287247, 0.664330606404295, -2.5251217573612994, 2.195869829867191, 0.6241679103092804, -2.4482135541760828, 2.022834651920917, 1.0827267716967608, -0.006038442634036476, -0.861912397917697, 1.4948604815170339, -0.21769551523968977, -0.26311210258217965, 0.37203035503116805, -0.7976063789805946, -0.557349689706263, 2.148558435514855, -1.074934475018916, -2.799387901627083, 0.2607365043330616], \"xaxis\": \"x16\", \"yaxis\": \"y16\"}],                        {\"bargap\": 0.02, \"legend\": {\"bgcolor\": \"#F5F6F9\", \"font\": {\"color\": \"#4D5663\"}}, \"paper_bgcolor\": \"#F5F6F9\", \"plot_bgcolor\": \"#F5F6F9\", \"showlegend\": false, \"template\": {\"data\": {\"bar\": [{\"error_x\": {\"color\": \"#2a3f5f\"}, \"error_y\": {\"color\": \"#2a3f5f\"}, \"marker\": {\"line\": {\"color\": \"#E5ECF6\", \"width\": 0.5}}, \"type\": \"bar\"}], \"barpolar\": [{\"marker\": {\"line\": {\"color\": \"#E5ECF6\", \"width\": 0.5}}, \"type\": \"barpolar\"}], \"carpet\": [{\"aaxis\": {\"endlinecolor\": \"#2a3f5f\", \"gridcolor\": \"white\", \"linecolor\": \"white\", \"minorgridcolor\": \"white\", \"startlinecolor\": \"#2a3f5f\"}, \"baxis\": {\"endlinecolor\": \"#2a3f5f\", \"gridcolor\": \"white\", \"linecolor\": \"white\", \"minorgridcolor\": \"white\", \"startlinecolor\": \"#2a3f5f\"}, \"type\": \"carpet\"}], \"choropleth\": [{\"colorbar\": {\"outlinewidth\": 0, \"ticks\": \"\"}, \"type\": \"choropleth\"}], \"contour\": [{\"colorbar\": {\"outlinewidth\": 0, \"ticks\": \"\"}, \"colorscale\": [[0.0, \"#0d0887\"], [0.1111111111111111, \"#46039f\"], [0.2222222222222222, \"#7201a8\"], [0.3333333333333333, \"#9c179e\"], [0.4444444444444444, \"#bd3786\"], [0.5555555555555556, \"#d8576b\"], [0.6666666666666666, \"#ed7953\"], [0.7777777777777778, \"#fb9f3a\"], [0.8888888888888888, \"#fdca26\"], [1.0, \"#f0f921\"]], \"type\": \"contour\"}], \"contourcarpet\": [{\"colorbar\": {\"outlinewidth\": 0, \"ticks\": \"\"}, \"type\": \"contourcarpet\"}], \"heatmap\": [{\"colorbar\": {\"outlinewidth\": 0, \"ticks\": \"\"}, \"colorscale\": [[0.0, \"#0d0887\"], [0.1111111111111111, \"#46039f\"], [0.2222222222222222, \"#7201a8\"], [0.3333333333333333, \"#9c179e\"], [0.4444444444444444, \"#bd3786\"], [0.5555555555555556, \"#d8576b\"], [0.6666666666666666, \"#ed7953\"], [0.7777777777777778, \"#fb9f3a\"], [0.8888888888888888, \"#fdca26\"], [1.0, \"#f0f921\"]], \"type\": \"heatmap\"}], \"heatmapgl\": [{\"colorbar\": {\"outlinewidth\": 0, \"ticks\": \"\"}, \"colorscale\": [[0.0, \"#0d0887\"], [0.1111111111111111, \"#46039f\"], [0.2222222222222222, \"#7201a8\"], [0.3333333333333333, \"#9c179e\"], [0.4444444444444444, \"#bd3786\"], [0.5555555555555556, \"#d8576b\"], [0.6666666666666666, \"#ed7953\"], [0.7777777777777778, \"#fb9f3a\"], [0.8888888888888888, \"#fdca26\"], [1.0, \"#f0f921\"]], \"type\": \"heatmapgl\"}], \"histogram\": [{\"marker\": {\"colorbar\": {\"outlinewidth\": 0, \"ticks\": \"\"}}, \"type\": \"histogram\"}], \"histogram2d\": [{\"colorbar\": {\"outlinewidth\": 0, \"ticks\": \"\"}, \"colorscale\": [[0.0, \"#0d0887\"], [0.1111111111111111, \"#46039f\"], [0.2222222222222222, \"#7201a8\"], [0.3333333333333333, \"#9c179e\"], [0.4444444444444444, \"#bd3786\"], [0.5555555555555556, \"#d8576b\"], [0.6666666666666666, \"#ed7953\"], [0.7777777777777778, \"#fb9f3a\"], [0.8888888888888888, \"#fdca26\"], [1.0, \"#f0f921\"]], \"type\": \"histogram2d\"}], \"histogram2dcontour\": [{\"colorbar\": {\"outlinewidth\": 0, \"ticks\": \"\"}, \"colorscale\": [[0.0, \"#0d0887\"], [0.1111111111111111, \"#46039f\"], [0.2222222222222222, \"#7201a8\"], [0.3333333333333333, \"#9c179e\"], [0.4444444444444444, \"#bd3786\"], [0.5555555555555556, \"#d8576b\"], [0.6666666666666666, \"#ed7953\"], [0.7777777777777778, \"#fb9f3a\"], [0.8888888888888888, \"#fdca26\"], [1.0, \"#f0f921\"]], \"type\": \"histogram2dcontour\"}], \"mesh3d\": [{\"colorbar\": {\"outlinewidth\": 0, \"ticks\": \"\"}, \"type\": \"mesh3d\"}], \"parcoords\": [{\"line\": {\"colorbar\": {\"outlinewidth\": 0, \"ticks\": \"\"}}, \"type\": \"parcoords\"}], \"pie\": [{\"automargin\": true, \"type\": \"pie\"}], \"scatter\": [{\"marker\": {\"colorbar\": {\"outlinewidth\": 0, \"ticks\": \"\"}}, \"type\": \"scatter\"}], \"scatter3d\": [{\"line\": {\"colorbar\": {\"outlinewidth\": 0, \"ticks\": \"\"}}, \"marker\": {\"colorbar\": {\"outlinewidth\": 0, \"ticks\": \"\"}}, \"type\": \"scatter3d\"}], \"scattercarpet\": [{\"marker\": {\"colorbar\": {\"outlinewidth\": 0, \"ticks\": \"\"}}, \"type\": \"scattercarpet\"}], \"scattergeo\": [{\"marker\": {\"colorbar\": {\"outlinewidth\": 0, \"ticks\": \"\"}}, \"type\": \"scattergeo\"}], \"scattergl\": [{\"marker\": {\"colorbar\": {\"outlinewidth\": 0, \"ticks\": \"\"}}, \"type\": \"scattergl\"}], \"scattermapbox\": [{\"marker\": {\"colorbar\": {\"outlinewidth\": 0, \"ticks\": \"\"}}, \"type\": \"scattermapbox\"}], \"scatterpolar\": [{\"marker\": {\"colorbar\": {\"outlinewidth\": 0, \"ticks\": \"\"}}, \"type\": \"scatterpolar\"}], \"scatterpolargl\": [{\"marker\": {\"colorbar\": {\"outlinewidth\": 0, \"ticks\": \"\"}}, \"type\": \"scatterpolargl\"}], \"scatterternary\": [{\"marker\": {\"colorbar\": {\"outlinewidth\": 0, \"ticks\": \"\"}}, \"type\": \"scatterternary\"}], \"surface\": [{\"colorbar\": {\"outlinewidth\": 0, \"ticks\": \"\"}, \"colorscale\": [[0.0, \"#0d0887\"], [0.1111111111111111, \"#46039f\"], [0.2222222222222222, \"#7201a8\"], [0.3333333333333333, \"#9c179e\"], [0.4444444444444444, \"#bd3786\"], [0.5555555555555556, \"#d8576b\"], [0.6666666666666666, \"#ed7953\"], [0.7777777777777778, \"#fb9f3a\"], [0.8888888888888888, \"#fdca26\"], [1.0, \"#f0f921\"]], \"type\": \"surface\"}], \"table\": [{\"cells\": {\"fill\": {\"color\": \"#EBF0F8\"}, \"line\": {\"color\": \"white\"}}, \"header\": {\"fill\": {\"color\": \"#C8D4E3\"}, \"line\": {\"color\": \"white\"}}, \"type\": \"table\"}]}, \"layout\": {\"annotationdefaults\": {\"arrowcolor\": \"#2a3f5f\", \"arrowhead\": 0, \"arrowwidth\": 1}, \"autotypenumbers\": \"strict\", \"coloraxis\": {\"colorbar\": {\"outlinewidth\": 0, \"ticks\": \"\"}}, \"colorscale\": {\"diverging\": [[0, \"#8e0152\"], [0.1, \"#c51b7d\"], [0.2, \"#de77ae\"], [0.3, \"#f1b6da\"], [0.4, \"#fde0ef\"], [0.5, \"#f7f7f7\"], [0.6, \"#e6f5d0\"], [0.7, \"#b8e186\"], [0.8, \"#7fbc41\"], [0.9, \"#4d9221\"], [1, \"#276419\"]], \"sequential\": [[0.0, \"#0d0887\"], [0.1111111111111111, \"#46039f\"], [0.2222222222222222, \"#7201a8\"], [0.3333333333333333, \"#9c179e\"], [0.4444444444444444, \"#bd3786\"], [0.5555555555555556, \"#d8576b\"], [0.6666666666666666, \"#ed7953\"], [0.7777777777777778, \"#fb9f3a\"], [0.8888888888888888, \"#fdca26\"], [1.0, \"#f0f921\"]], \"sequentialminus\": [[0.0, \"#0d0887\"], [0.1111111111111111, \"#46039f\"], [0.2222222222222222, \"#7201a8\"], [0.3333333333333333, \"#9c179e\"], [0.4444444444444444, \"#bd3786\"], [0.5555555555555556, \"#d8576b\"], [0.6666666666666666, \"#ed7953\"], [0.7777777777777778, \"#fb9f3a\"], [0.8888888888888888, \"#fdca26\"], [1.0, \"#f0f921\"]]}, \"colorway\": [\"#636efa\", \"#EF553B\", \"#00cc96\", \"#ab63fa\", \"#FFA15A\", \"#19d3f3\", \"#FF6692\", \"#B6E880\", \"#FF97FF\", \"#FECB52\"], \"font\": {\"color\": \"#2a3f5f\"}, \"geo\": {\"bgcolor\": \"white\", \"lakecolor\": \"white\", \"landcolor\": \"#E5ECF6\", \"showlakes\": true, \"showland\": true, \"subunitcolor\": \"white\"}, \"hoverlabel\": {\"align\": \"left\"}, \"hovermode\": \"closest\", \"mapbox\": {\"style\": \"light\"}, \"paper_bgcolor\": \"white\", \"plot_bgcolor\": \"#E5ECF6\", \"polar\": {\"angularaxis\": {\"gridcolor\": \"white\", \"linecolor\": \"white\", \"ticks\": \"\"}, \"bgcolor\": \"#E5ECF6\", \"radialaxis\": {\"gridcolor\": \"white\", \"linecolor\": \"white\", \"ticks\": \"\"}}, \"scene\": {\"xaxis\": {\"backgroundcolor\": \"#E5ECF6\", \"gridcolor\": \"white\", \"gridwidth\": 2, \"linecolor\": \"white\", \"showbackground\": true, \"ticks\": \"\", \"zerolinecolor\": \"white\"}, \"yaxis\": {\"backgroundcolor\": \"#E5ECF6\", \"gridcolor\": \"white\", \"gridwidth\": 2, \"linecolor\": \"white\", \"showbackground\": true, \"ticks\": \"\", \"zerolinecolor\": \"white\"}, \"zaxis\": {\"backgroundcolor\": \"#E5ECF6\", \"gridcolor\": \"white\", \"gridwidth\": 2, \"linecolor\": \"white\", \"showbackground\": true, \"ticks\": \"\", \"zerolinecolor\": \"white\"}}, \"shapedefaults\": {\"line\": {\"color\": \"#2a3f5f\"}}, \"ternary\": {\"aaxis\": {\"gridcolor\": \"white\", \"linecolor\": \"white\", \"ticks\": \"\"}, \"baxis\": {\"gridcolor\": \"white\", \"linecolor\": \"white\", \"ticks\": \"\"}, \"bgcolor\": \"#E5ECF6\", \"caxis\": {\"gridcolor\": \"white\", \"linecolor\": \"white\", \"ticks\": \"\"}}, \"title\": {\"x\": 0.05}, \"xaxis\": {\"automargin\": true, \"gridcolor\": \"white\", \"linecolor\": \"white\", \"ticks\": \"\", \"title\": {\"standoff\": 15}, \"zerolinecolor\": \"white\", \"zerolinewidth\": 2}, \"yaxis\": {\"automargin\": true, \"gridcolor\": \"white\", \"linecolor\": \"white\", \"ticks\": \"\", \"title\": {\"standoff\": 15}, \"zerolinecolor\": \"white\", \"zerolinewidth\": 2}}}, \"title\": {\"font\": {\"color\": \"#4D5663\"}}, \"xaxis\": {\"anchor\": \"y\", \"domain\": [0.0, 0.2125], \"gridcolor\": \"#E1E5ED\", \"showgrid\": false, \"tickfont\": {\"color\": \"#4D5663\"}, \"title\": {\"font\": {\"color\": \"#4D5663\"}, \"text\": \"\"}, \"zerolinecolor\": \"#E1E5ED\"}, \"xaxis10\": {\"anchor\": \"y10\", \"domain\": [0.2625, 0.475], \"gridcolor\": \"#E1E5ED\", \"showgrid\": false, \"tickfont\": {\"color\": \"#4D5663\"}, \"title\": {\"font\": {\"color\": \"#4D5663\"}, \"text\": \"\"}, \"zerolinecolor\": \"#E1E5ED\"}, \"xaxis11\": {\"anchor\": \"y11\", \"domain\": [0.525, 0.7375], \"gridcolor\": \"#E1E5ED\", \"showgrid\": false, \"tickfont\": {\"color\": \"#4D5663\"}, \"title\": {\"font\": {\"color\": \"#4D5663\"}, \"text\": \"\"}, \"zerolinecolor\": \"#E1E5ED\"}, \"xaxis12\": {\"anchor\": \"y12\", \"domain\": [0.7875, 1.0], \"gridcolor\": \"#E1E5ED\", \"showgrid\": false, \"tickfont\": {\"color\": \"#4D5663\"}, \"title\": {\"font\": {\"color\": \"#4D5663\"}, \"text\": \"\"}, \"zerolinecolor\": \"#E1E5ED\"}, \"xaxis13\": {\"anchor\": \"y13\", \"domain\": [0.0, 0.2125], \"gridcolor\": \"#E1E5ED\", \"showgrid\": false, \"tickfont\": {\"color\": \"#4D5663\"}, \"title\": {\"font\": {\"color\": \"#4D5663\"}, \"text\": \"\"}, \"zerolinecolor\": \"#E1E5ED\"}, \"xaxis14\": {\"anchor\": \"y14\", \"domain\": [0.2625, 0.475], \"gridcolor\": \"#E1E5ED\", \"showgrid\": false, \"tickfont\": {\"color\": \"#4D5663\"}, \"title\": {\"font\": {\"color\": \"#4D5663\"}, \"text\": \"\"}, \"zerolinecolor\": \"#E1E5ED\"}, \"xaxis15\": {\"anchor\": \"y15\", \"domain\": [0.525, 0.7375], \"gridcolor\": \"#E1E5ED\", \"showgrid\": false, \"tickfont\": {\"color\": \"#4D5663\"}, \"title\": {\"font\": {\"color\": \"#4D5663\"}, \"text\": \"\"}, \"zerolinecolor\": \"#E1E5ED\"}, \"xaxis16\": {\"anchor\": \"y16\", \"domain\": [0.7875, 1.0], \"gridcolor\": \"#E1E5ED\", \"showgrid\": false, \"tickfont\": {\"color\": \"#4D5663\"}, \"title\": {\"font\": {\"color\": \"#4D5663\"}, \"text\": \"\"}, \"zerolinecolor\": \"#E1E5ED\"}, \"xaxis2\": {\"anchor\": \"y2\", \"domain\": [0.2625, 0.475], \"gridcolor\": \"#E1E5ED\", \"showgrid\": false, \"tickfont\": {\"color\": \"#4D5663\"}, \"title\": {\"font\": {\"color\": \"#4D5663\"}, \"text\": \"\"}, \"zerolinecolor\": \"#E1E5ED\"}, \"xaxis3\": {\"anchor\": \"y3\", \"domain\": [0.525, 0.7375], \"gridcolor\": \"#E1E5ED\", \"showgrid\": false, \"tickfont\": {\"color\": \"#4D5663\"}, \"title\": {\"font\": {\"color\": \"#4D5663\"}, \"text\": \"\"}, \"zerolinecolor\": \"#E1E5ED\"}, \"xaxis4\": {\"anchor\": \"y4\", \"domain\": [0.7875, 1.0], \"gridcolor\": \"#E1E5ED\", \"showgrid\": false, \"tickfont\": {\"color\": \"#4D5663\"}, \"title\": {\"font\": {\"color\": \"#4D5663\"}, \"text\": \"\"}, \"zerolinecolor\": \"#E1E5ED\"}, \"xaxis5\": {\"anchor\": \"y5\", \"domain\": [0.0, 0.2125], \"gridcolor\": \"#E1E5ED\", \"showgrid\": false, \"tickfont\": {\"color\": \"#4D5663\"}, \"title\": {\"font\": {\"color\": \"#4D5663\"}, \"text\": \"\"}, \"zerolinecolor\": \"#E1E5ED\"}, \"xaxis6\": {\"anchor\": \"y6\", \"domain\": [0.2625, 0.475], \"gridcolor\": \"#E1E5ED\", \"showgrid\": false, \"tickfont\": {\"color\": \"#4D5663\"}, \"title\": {\"font\": {\"color\": \"#4D5663\"}, \"text\": \"\"}, \"zerolinecolor\": \"#E1E5ED\"}, \"xaxis7\": {\"anchor\": \"y7\", \"domain\": [0.525, 0.7375], \"gridcolor\": \"#E1E5ED\", \"showgrid\": false, \"tickfont\": {\"color\": \"#4D5663\"}, \"title\": {\"font\": {\"color\": \"#4D5663\"}, \"text\": \"\"}, \"zerolinecolor\": \"#E1E5ED\"}, \"xaxis8\": {\"anchor\": \"y8\", \"domain\": [0.7875, 1.0], \"gridcolor\": \"#E1E5ED\", \"showgrid\": false, \"tickfont\": {\"color\": \"#4D5663\"}, \"title\": {\"font\": {\"color\": \"#4D5663\"}, \"text\": \"\"}, \"zerolinecolor\": \"#E1E5ED\"}, \"xaxis9\": {\"anchor\": \"y9\", \"domain\": [0.0, 0.2125], \"gridcolor\": \"#E1E5ED\", \"showgrid\": false, \"tickfont\": {\"color\": \"#4D5663\"}, \"title\": {\"font\": {\"color\": \"#4D5663\"}, \"text\": \"\"}, \"zerolinecolor\": \"#E1E5ED\"}, \"yaxis\": {\"anchor\": \"x\", \"domain\": [0.8025, 1.0], \"gridcolor\": \"#E1E5ED\", \"showgrid\": false, \"tickfont\": {\"color\": \"#4D5663\"}, \"title\": {\"font\": {\"color\": \"#4D5663\"}, \"text\": \"\"}, \"zerolinecolor\": \"#E1E5ED\"}, \"yaxis10\": {\"anchor\": \"x10\", \"domain\": [0.2675, 0.465], \"gridcolor\": \"#E1E5ED\", \"showgrid\": false, \"tickfont\": {\"color\": \"#4D5663\"}, \"title\": {\"font\": {\"color\": \"#4D5663\"}, \"text\": \"\"}, \"zerolinecolor\": \"#E1E5ED\"}, \"yaxis11\": {\"anchor\": \"x11\", \"domain\": [0.2675, 0.465], \"gridcolor\": \"#E1E5ED\", \"showgrid\": false, \"tickfont\": {\"color\": \"#4D5663\"}, \"title\": {\"font\": {\"color\": \"#4D5663\"}, \"text\": \"\"}, \"zerolinecolor\": \"#E1E5ED\"}, \"yaxis12\": {\"anchor\": \"x12\", \"domain\": [0.2675, 0.465], \"gridcolor\": \"#E1E5ED\", \"showgrid\": false, \"tickfont\": {\"color\": \"#4D5663\"}, \"title\": {\"font\": {\"color\": \"#4D5663\"}, \"text\": \"\"}, \"zerolinecolor\": \"#E1E5ED\"}, \"yaxis13\": {\"anchor\": \"x13\", \"domain\": [0.0, 0.1975], \"gridcolor\": \"#E1E5ED\", \"showgrid\": false, \"tickfont\": {\"color\": \"#4D5663\"}, \"title\": {\"font\": {\"color\": \"#4D5663\"}, \"text\": \"\"}, \"zerolinecolor\": \"#E1E5ED\"}, \"yaxis14\": {\"anchor\": \"x14\", \"domain\": [0.0, 0.1975], \"gridcolor\": \"#E1E5ED\", \"showgrid\": false, \"tickfont\": {\"color\": \"#4D5663\"}, \"title\": {\"font\": {\"color\": \"#4D5663\"}, \"text\": \"\"}, \"zerolinecolor\": \"#E1E5ED\"}, \"yaxis15\": {\"anchor\": \"x15\", \"domain\": [0.0, 0.1975], \"gridcolor\": \"#E1E5ED\", \"showgrid\": false, \"tickfont\": {\"color\": \"#4D5663\"}, \"title\": {\"font\": {\"color\": \"#4D5663\"}, \"text\": \"\"}, \"zerolinecolor\": \"#E1E5ED\"}, \"yaxis16\": {\"anchor\": \"x16\", \"domain\": [0.0, 0.1975], \"gridcolor\": \"#E1E5ED\", \"showgrid\": false, \"tickfont\": {\"color\": \"#4D5663\"}, \"title\": {\"font\": {\"color\": \"#4D5663\"}, \"text\": \"\"}, \"zerolinecolor\": \"#E1E5ED\"}, \"yaxis2\": {\"anchor\": \"x2\", \"domain\": [0.8025, 1.0], \"gridcolor\": \"#E1E5ED\", \"showgrid\": false, \"tickfont\": {\"color\": \"#4D5663\"}, \"title\": {\"font\": {\"color\": \"#4D5663\"}, \"text\": \"\"}, \"zerolinecolor\": \"#E1E5ED\"}, \"yaxis3\": {\"anchor\": \"x3\", \"domain\": [0.8025, 1.0], \"gridcolor\": \"#E1E5ED\", \"showgrid\": false, \"tickfont\": {\"color\": \"#4D5663\"}, \"title\": {\"font\": {\"color\": \"#4D5663\"}, \"text\": \"\"}, \"zerolinecolor\": \"#E1E5ED\"}, \"yaxis4\": {\"anchor\": \"x4\", \"domain\": [0.8025, 1.0], \"gridcolor\": \"#E1E5ED\", \"showgrid\": false, \"tickfont\": {\"color\": \"#4D5663\"}, \"title\": {\"font\": {\"color\": \"#4D5663\"}, \"text\": \"\"}, \"zerolinecolor\": \"#E1E5ED\"}, \"yaxis5\": {\"anchor\": \"x5\", \"domain\": [0.535, 0.7325], \"gridcolor\": \"#E1E5ED\", \"showgrid\": false, \"tickfont\": {\"color\": \"#4D5663\"}, \"title\": {\"font\": {\"color\": \"#4D5663\"}, \"text\": \"\"}, \"zerolinecolor\": \"#E1E5ED\"}, \"yaxis6\": {\"anchor\": \"x6\", \"domain\": [0.535, 0.7325], \"gridcolor\": \"#E1E5ED\", \"showgrid\": false, \"tickfont\": {\"color\": \"#4D5663\"}, \"title\": {\"font\": {\"color\": \"#4D5663\"}, \"text\": \"\"}, \"zerolinecolor\": \"#E1E5ED\"}, \"yaxis7\": {\"anchor\": \"x7\", \"domain\": [0.535, 0.7325], \"gridcolor\": \"#E1E5ED\", \"showgrid\": false, \"tickfont\": {\"color\": \"#4D5663\"}, \"title\": {\"font\": {\"color\": \"#4D5663\"}, \"text\": \"\"}, \"zerolinecolor\": \"#E1E5ED\"}, \"yaxis8\": {\"anchor\": \"x8\", \"domain\": [0.535, 0.7325], \"gridcolor\": \"#E1E5ED\", \"showgrid\": false, \"tickfont\": {\"color\": \"#4D5663\"}, \"title\": {\"font\": {\"color\": \"#4D5663\"}, \"text\": \"\"}, \"zerolinecolor\": \"#E1E5ED\"}, \"yaxis9\": {\"anchor\": \"x9\", \"domain\": [0.2675, 0.465], \"gridcolor\": \"#E1E5ED\", \"showgrid\": false, \"tickfont\": {\"color\": \"#4D5663\"}, \"title\": {\"font\": {\"color\": \"#4D5663\"}, \"text\": \"\"}, \"zerolinecolor\": \"#E1E5ED\"}},                        {\"showLink\": true, \"linkText\": \"Export to plot.ly\", \"plotlyServerURL\": \"https://plot.ly\", \"responsive\": true}                    ).then(function(){\n",
       "                            \n",
       "var gd = document.getElementById('04a390db-349d-435d-bf30-b955ce64ad76');\n",
       "var x = new MutationObserver(function (mutations, observer) {{\n",
       "        var display = window.getComputedStyle(gd).display;\n",
       "        if (!display || display === 'none') {{\n",
       "            console.log([gd, 'removed!']);\n",
       "            Plotly.purge(gd);\n",
       "            observer.disconnect();\n",
       "        }}\n",
       "}});\n",
       "\n",
       "// Listen for the removal of the full notebook cells\n",
       "var notebookContainer = gd.closest('#notebook-container');\n",
       "if (notebookContainer) {{\n",
       "    x.observe(notebookContainer, {childList: true});\n",
       "}}\n",
       "\n",
       "// Listen for the clearing of the current output cell\n",
       "var outputEl = gd.closest('.output');\n",
       "if (outputEl) {{\n",
       "    x.observe(outputEl, {childList: true});\n",
       "}}\n",
       "\n",
       "                        })                };                });            </script>        </div>"
      ]
     },
     "metadata": {},
     "output_type": "display_data"
    }
   ],
   "source": [
    "df.scatter_matrix()"
   ]
  },
  {
   "cell_type": "markdown",
   "metadata": {},
   "source": [
    "A plotagem acima é muito semelhante ao pairplot do Seaborn!"
   ]
  },
  {
   "cell_type": "markdown",
   "metadata": {},
   "source": [
    "Criado por: <br><br>\n",
    "\n",
    "Reddit: **u_jvsm**"
   ]
  }
 ],
 "metadata": {
  "kernelspec": {
   "display_name": "Python 3",
   "language": "python",
   "name": "python3"
  },
  "language_info": {
   "codemirror_mode": {
    "name": "ipython",
    "version": 3
   },
   "file_extension": ".py",
   "mimetype": "text/x-python",
   "name": "python",
   "nbconvert_exporter": "python",
   "pygments_lexer": "ipython3",
   "version": "3.7.7"
  }
 },
 "nbformat": 4,
 "nbformat_minor": 4
}
