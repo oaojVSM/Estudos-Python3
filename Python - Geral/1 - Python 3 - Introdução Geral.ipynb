{
 "cells": [
  {
   "cell_type": "markdown",
   "metadata": {},
   "source": [
    "# Bem vindo ao Jupyter e à programação em Python 3!\n",
    "Este é um Jupyter Notebook sendo escrito com o kernel do Python 3. <br><br>\n",
    "Vamos à algumas perguntas e respostas: <br><br>\n",
    "**O que é isto?** <br>\n",
    " - Este é um projeto amador em Python, um material elaborado por alguém que está aprendendo por meio de ensinamentos, e, ao mesmo tempo, buscando transmitir os conhecimentos obtidos para o próximo, tentando antecipar dúvidas que eu mesmo tive quando comecei a aprender a programar. Eu, de longe, não sou nenhum mestre da programação mas acredito que sou capaz de transmitir de forma eficiente alguns de meus conhecimentos. <br> <br>\n",
    "\n",
    "**O que será abordado neste material?** <br><br>\n",
    " - Aqui serão abordados conceitos chave que qualquer um que programa em Python deve saber. Se você está fazendo um curso de Python, com certeza os conceitos abordados aqui serão os mesmos conceitos introdutórios abordados em seu curso e o que lhe apresento aqui, objetivei ser um minimamente bom material de apoio para um curso qualquer, ou um material de revisão para quem já teve contato com a linguagem. <br> Aqui não entrarei no mérito de qualquer conceito ou aplicação mais avançada, não é o objetivo aqui, possivelmente abordarei outros conceitos em outro material futuramente. <br> Tenha em mente que, apesar de que o ensinado aqui deva ser sabido por qualquer programador em Python, a minha aplicação desta linguagem é quase que exclusivamente para análise de dados e finanças, portanto, mesmo que conceitos básicos sejam o tema, eles serão abordados por meio desta ótica. Se a sua aplicação de Python for exclusivamente algo totalmente diferente disso, sugiro que procure outro material.<br><br>\n",
    "\n",
    "**Por que Python?** <br> <br>\n",
    "- Python possui vantagens técnicas sobre outras linguagens de programação e tem uma boa aplicação prática no mundo de economia, finanças e ciência de dados.\n",
    "- Python é open-source, ou seja, é de graça e qualquer um pode ter acesso e desenvolver.\n",
    "- Python é general-purpose, ou seja, mesmo apesar de estarmos explorando a aplicação em finanças, pode ser aplicado em diversos outros meios.\n",
    "- Python possui high-level language. Este conceito é um pouco mais técnico. \n",
    "> O seu computador entende apenas o *low-level language*, que é algo sem uma sintaxe necessariamente compreensível para o ser humano. Já o Python em si possui uma sintaxe lógica, que não é dificilmente compreendida, que então passa por um software chamado *Interpreter*, que transforma essa sintaxe lógica em uma linguagem que o computador então consegue interpretar.\n",
    "\n",
    "- Além disso o Python é relativamente fácil de aprender, e ainda assim é uma linguagem extremamente poderosa. <br><br>\n",
    "\n",
    "**Como eu faço para obter o Python/Jupyter em meu computador?**\n",
    "- Há diversas maneiras de instalar Python e Jupyter em seu computador, uma dessas maneiras é instalando o Anaconda. <br>\n",
    "Anaconda é uma distro (distribuição) do Python que vem com a linguagem, o Jupyter e diversas bibliotecas que podem ser úteis em análise de dados.<br>\n",
    "Após ter instalado o Anaconda para sua versão do Windows, Mac ou Linux, para iniciar o Jupyter da maneira mais fácil, basta abrir o seu *Command Prompt*, caso esteja no Windows, e digitar o seguinte comando: “jupyter notebook”, que uma nova aba do seu navegador abrirá com o Jupyter.\n",
    "- Porém, se eu puder lhe dar uma dica, inicie como eu, recomendo que instale a versão \"crua\" de Python, no próprio site da linguagem, pesquise e  instale os pacotes por meio do pip, isso dá mais trabalho, porém não é tanto trabalho assim e, no processo, você aprende um pouco de como uma linguagem de programação funciona e a utilizar o seu *Command Prompt*.\n",
    "\n",
    "\n",
    "\n",
    "**Como eu faço para programar, afinal?** <br><br>\n",
    "Python é uma **linguagem**, que te permite se comunicar com o seu computador, mas para de fato realizar esta tarefa, você vai precisar de um software que lhe permita (ou pelo menos auxilie) escrever o código. O software utilizado neste projeto é o Jupyter. <br> <br>Apenas para contextualização e explicação sobre IDEs:<br><br>\n",
    "O Jupyter funciona no seu próprio *web-browser* (cliente), que gera o código para um kernel (entenda, no momento, como o que vai \"ler\" o seu código) de Python. Quando você cria um código no Jupyter, você o está criando em um notebook (é o que você está lendo agora), este que é conectado  automaticamente ao kernel da linguagem que você escreveu naquele notebook. E este notebook possui texto (como agora), código (a seguir) e o output do seu código, em uma mesma página, apresentando tudo isso na ordem em que foi escrito e de forma simultânea. <br>\n",
    "O Jupyter é, com suas próprias especificidades, como uma IDE, ou Integrated Development Envinronment, que nada mais é do que onde você escreve o seu código nas mais diversas linguagens. Cada IDE possui suas vantagens, como apontar onde seu código está com alguma sintaxe errada, ou sugerir formas melhores de escrever partes do código, entre diversas outras coisas que podem simplificar a sua vida, o problema é que a tendência é que esses IDEs vão ficando gradualmente mais pesadas de se rodar. Se você realmente quiser, pode escrever o código em um Notepad! O problema é que você não terá nenhuma ajuda que vem com uma IDE mais completa. <br>\n",
    "O Jupyter foi escolhido aqui e apresentado, por ser leve, e por apresentar o código de maneira bem específica, visto que estou escrevendo este texto agora para que você possa ler, e logo na célula abaixo vou escrever um código simples para exemplificar o funcionamento deste programa. <br><br>\n",
    "Bom, sem mais delongas, vamos falar de Python. Abaixo vou escrever um código simples:"
   ]
  },
  {
   "cell_type": "code",
   "execution_count": 1,
   "metadata": {
    "scrolled": true
   },
   "outputs": [
    {
     "data": {
      "text/plain": [
       "'Olá! Bem vindo ao Jupyter'"
      ]
     },
     "execution_count": 1,
     "metadata": {},
     "output_type": "execute_result"
    }
   ],
   "source": [
    "x = \"Olá! Bem vindo ao Jupyter\"\n",
    "x"
   ]
  },
  {
   "cell_type": "markdown",
   "metadata": {},
   "source": [
    "Acima eu criei uma célula de \"Code\" e forneci um In (Input), chamando uma variável que contêm a frase que está no Out (Output), veja que o Output criado pelo seu devido Input terão o mesmo número entre colchetes ( [] ) "
   ]
  },
  {
   "cell_type": "markdown",
   "metadata": {},
   "source": [
    "Uma dica: Para se familiarizar com o Jupyter, ou com qualquer outra IDE, a melhor forma de fazê-lo é com prática, pesquise bem quais são os diferenciais de cada ambiente, como instalar e etc."
   ]
  },
  {
   "cell_type": "markdown",
   "metadata": {},
   "source": [
    "Bom, sem mais delongas, vamos começar a falar de Python:"
   ]
  },
  {
   "cell_type": "markdown",
   "metadata": {},
   "source": [
    "## Variáveis e Sintaxe básica\n",
    "A criação de uma variável é a maneira pela qual você armazena valores. Para criar uma variável, basta:"
   ]
  },
  {
   "cell_type": "code",
   "execution_count": 2,
   "metadata": {},
   "outputs": [],
   "source": [
    "x = 5"
   ]
  },
  {
   "cell_type": "code",
   "execution_count": 3,
   "metadata": {},
   "outputs": [
    {
     "data": {
      "text/plain": [
       "5"
      ]
     },
     "execution_count": 3,
     "metadata": {},
     "output_type": "execute_result"
    }
   ],
   "source": [
    "x"
   ]
  },
  {
   "cell_type": "markdown",
   "metadata": {},
   "source": [
    "Observe que basta eu criar um nome para a variável (não deve conter espaços e deve começar com letra minúscula). E usar o sinal de igual \"=\" para atribuir um valor para esta variável.\n",
    "Acima, eu apenas criei a variável \"x\", atribuindo o valor 5 a ela. Depois, na célula seguinte, ao digitar a variável e rodar o código, o output foi o valor que eu havia atribuído para esta variável."
   ]
  },
  {
   "cell_type": "markdown",
   "metadata": {},
   "source": [
    "Um jeito de eu atribuir valores a duas variáveis separadamente é a seguinte:"
   ]
  },
  {
   "cell_type": "code",
   "execution_count": 4,
   "metadata": {},
   "outputs": [],
   "source": [
    "x,y = (1,2)"
   ]
  },
  {
   "cell_type": "markdown",
   "metadata": {},
   "source": [
    "Isto é chamado de tuple assignement. Não se preocupe com isso, explicarei mais tarde. Agora chamando as variáveis:"
   ]
  },
  {
   "cell_type": "code",
   "execution_count": 5,
   "metadata": {},
   "outputs": [
    {
     "data": {
      "text/plain": [
       "1"
      ]
     },
     "execution_count": 5,
     "metadata": {},
     "output_type": "execute_result"
    }
   ],
   "source": [
    "x"
   ]
  },
  {
   "cell_type": "code",
   "execution_count": 6,
   "metadata": {},
   "outputs": [
    {
     "data": {
      "text/plain": [
       "2"
      ]
     },
     "execution_count": 6,
     "metadata": {},
     "output_type": "execute_result"
    }
   ],
   "source": [
    "y"
   ]
  },
  {
   "cell_type": "markdown",
   "metadata": {},
   "source": [
    "### Integers e Floats\n",
    "\n",
    "Ao programar, não apenas em Python, não é correto você dizer por exemplo que uma variável é do tipo \"numérico\", isso ocorre porque existem diversos tipos de variáveis dentre as diferentes linguagens de programação."
   ]
  },
  {
   "cell_type": "markdown",
   "metadata": {},
   "source": [
    "Em Python, as variáveis numéricas podem ser *Integers* (números inteiros) ou *Floating Points* (ou, chamadas de forma mais simples, de *Floats*), a diferença é que números inteiros não podem ter casa decimal atribuídas a eles, enquanto *floats* podem. Ambos podem ser positivos ou negativos."
   ]
  },
  {
   "cell_type": "code",
   "execution_count": 7,
   "metadata": {},
   "outputs": [
    {
     "data": {
      "text/plain": [
       "int"
      ]
     },
     "execution_count": 7,
     "metadata": {},
     "output_type": "execute_result"
    }
   ],
   "source": [
    "x1 = 5\n",
    "type(x1)"
   ]
  },
  {
   "cell_type": "markdown",
   "metadata": {},
   "source": [
    "Observe acima, ao rodar a função de type() na variável x1, o Python me indica \"int\", ou seja, é um integer."
   ]
  },
  {
   "cell_type": "code",
   "execution_count": 8,
   "metadata": {},
   "outputs": [
    {
     "data": {
      "text/plain": [
       "float"
      ]
     },
     "execution_count": 8,
     "metadata": {},
     "output_type": "execute_result"
    }
   ],
   "source": [
    "x2 = 5.9043950934509340593\n",
    "type(x2)"
   ]
  },
  {
   "cell_type": "markdown",
   "metadata": {},
   "source": [
    "Observe que agora, o Python me indicou Float. Floats também podem ser interpretados como números reais."
   ]
  },
  {
   "cell_type": "markdown",
   "metadata": {},
   "source": [
    "Veja que eu também posso \"forçar\" o Python a interpretar uma variável de certa maneira, tornando o x1 em float e o x2 em int, e veja o resultado (preste atenção nas casas decimais):"
   ]
  },
  {
   "cell_type": "code",
   "execution_count": 9,
   "metadata": {},
   "outputs": [
    {
     "data": {
      "text/plain": [
       "5.0"
      ]
     },
     "execution_count": 9,
     "metadata": {},
     "output_type": "execute_result"
    }
   ],
   "source": [
    "float(x1)"
   ]
  },
  {
   "cell_type": "code",
   "execution_count": 10,
   "metadata": {},
   "outputs": [
    {
     "data": {
      "text/plain": [
       "5"
      ]
     },
     "execution_count": 10,
     "metadata": {},
     "output_type": "execute_result"
    }
   ],
   "source": [
    "int(x2)"
   ]
  },
  {
   "cell_type": "markdown",
   "metadata": {},
   "source": [
    "Note que quando eu transformo para Integer, o valor não é arredondado para o número inteiro mais próximo, o que ocorre é apenas a retirada da casa decimal."
   ]
  },
  {
   "cell_type": "markdown",
   "metadata": {},
   "source": [
    "### Booleans\n",
    "\n",
    "Um outro tipo de variáveis que podemos encontrar no Python são os **booleans**. Que nada mais é do que um tipo de variável \"binária\", que pode ter um valor de Verdadeiro ou Falso."
   ]
  },
  {
   "cell_type": "code",
   "execution_count": 11,
   "metadata": {},
   "outputs": [
    {
     "data": {
      "text/plain": [
       "bool"
      ]
     },
     "execution_count": 11,
     "metadata": {},
     "output_type": "execute_result"
    }
   ],
   "source": [
    "x3 = True\n",
    "type(x3)"
   ]
  },
  {
   "cell_type": "markdown",
   "metadata": {},
   "source": [
    "Nota importante: Para que o Python identifique corretamente sua variável como boolean, é necessário que o True, ou o False esteja escrito com a primeira letra maiúscula."
   ]
  },
  {
   "cell_type": "markdown",
   "metadata": {},
   "source": [
    "### Strings\n",
    "\n",
    "Outro importante tipo de variável são os **strings**, que nada mais são do valores de textos, formados por uma sequência de caracteres."
   ]
  },
  {
   "cell_type": "markdown",
   "metadata": {},
   "source": [
    "Ao digitar por exemplo, João, o Python nos retornará um erro:"
   ]
  },
  {
   "cell_type": "code",
   "execution_count": 12,
   "metadata": {},
   "outputs": [
    {
     "ename": "NameError",
     "evalue": "name 'Joao' is not defined",
     "output_type": "error",
     "traceback": [
      "\u001b[1;31m---------------------------------------------------------------------------\u001b[0m",
      "\u001b[1;31mNameError\u001b[0m                                 Traceback (most recent call last)",
      "\u001b[1;32m<ipython-input-12-fc33109022b6>\u001b[0m in \u001b[0;36m<module>\u001b[1;34m\u001b[0m\n\u001b[1;32m----> 1\u001b[1;33m \u001b[0mJoao\u001b[0m\u001b[1;33m\u001b[0m\u001b[1;33m\u001b[0m\u001b[0m\n\u001b[0m",
      "\u001b[1;31mNameError\u001b[0m: name 'Joao' is not defined"
     ]
    }
   ],
   "source": [
    "Joao"
   ]
  },
  {
   "cell_type": "markdown",
   "metadata": {},
   "source": [
    "Isso acontece porque o nome Joao, acima, foi interpretado como uma variável qualquer, a qual não atribuímos um valor anteriormente, dessa forma, não há nada para ser dado como Output."
   ]
  },
  {
   "cell_type": "markdown",
   "metadata": {},
   "source": [
    "Para definirmos um String no Python, precisamos cercar nosso string de aspas, simples ou duplas. Veja:"
   ]
  },
  {
   "cell_type": "code",
   "execution_count": 13,
   "metadata": {},
   "outputs": [
    {
     "data": {
      "text/plain": [
       "'Joao'"
      ]
     },
     "execution_count": 13,
     "metadata": {},
     "output_type": "execute_result"
    }
   ],
   "source": [
    "y = \"Joao\"\n",
    "y"
   ]
  },
  {
   "cell_type": "code",
   "execution_count": 14,
   "metadata": {},
   "outputs": [
    {
     "data": {
      "text/plain": [
       "'Joao'"
      ]
     },
     "execution_count": 14,
     "metadata": {},
     "output_type": "execute_result"
    }
   ],
   "source": [
    "y = 'Joao'\n",
    "y"
   ]
  },
  {
   "cell_type": "markdown",
   "metadata": {},
   "source": [
    "Vejamos algo interessante agora se tentarmos misturar os conceitos de string e integer:"
   ]
  },
  {
   "cell_type": "code",
   "execution_count": 15,
   "metadata": {},
   "outputs": [
    {
     "ename": "TypeError",
     "evalue": "unsupported operand type(s) for +: 'int' and 'str'",
     "output_type": "error",
     "traceback": [
      "\u001b[1;31m---------------------------------------------------------------------------\u001b[0m",
      "\u001b[1;31mTypeError\u001b[0m                                 Traceback (most recent call last)",
      "\u001b[1;32m<ipython-input-15-176df9ee7098>\u001b[0m in \u001b[0;36m<module>\u001b[1;34m\u001b[0m\n\u001b[0;32m      1\u001b[0m \u001b[0my\u001b[0m \u001b[1;33m=\u001b[0m \u001b[1;36m10\u001b[0m\u001b[1;33m\u001b[0m\u001b[1;33m\u001b[0m\u001b[0m\n\u001b[1;32m----> 2\u001b[1;33m \u001b[0mprint\u001b[0m\u001b[1;33m(\u001b[0m\u001b[1;36m10\u001b[0m \u001b[1;33m+\u001b[0m \u001b[1;34m\" Reais\"\u001b[0m\u001b[1;33m)\u001b[0m\u001b[1;33m\u001b[0m\u001b[1;33m\u001b[0m\u001b[0m\n\u001b[0m",
      "\u001b[1;31mTypeError\u001b[0m: unsupported operand type(s) for +: 'int' and 'str'"
     ]
    }
   ],
   "source": [
    "y = 10\n",
    "print(10 + \" Reais\")"
   ]
  },
  {
   "cell_type": "markdown",
   "metadata": {},
   "source": [
    "Foi nos retornado um erro. Isso ocorre porque o Python, quando utilizamos a função Print não consegue misturar dois tipos diferentes de variáveis. Para solucionar isso, podemos converter, a nossa variável y para texto (String):"
   ]
  },
  {
   "cell_type": "code",
   "execution_count": 16,
   "metadata": {},
   "outputs": [
    {
     "name": "stdout",
     "output_type": "stream",
     "text": [
      "10 Reais\n"
     ]
    }
   ],
   "source": [
    "y = 10\n",
    "print (str(y) + \" Reais\")"
   ]
  },
  {
   "cell_type": "markdown",
   "metadata": {},
   "source": [
    "#### Obs:\n",
    "Se você é familiarizado com outras linguagens de programação, perceba que em Python não precisamos declarar o tipo de variável antes de atribuir um valor para a mesma, como seria necessário em outras linguagens, **o Python detecta o tipo da variável automaticamente.**"
   ]
  },
  {
   "cell_type": "markdown",
   "metadata": {},
   "source": [
    "Um problema que você pode encontrar ao escrever Strings no Pyton é o seguinte, vamos supor que você queira digitar: I'm fine:"
   ]
  },
  {
   "cell_type": "code",
   "execution_count": 17,
   "metadata": {},
   "outputs": [
    {
     "ename": "SyntaxError",
     "evalue": "invalid syntax (<ipython-input-17-4b03f9290adb>, line 1)",
     "output_type": "error",
     "traceback": [
      "\u001b[1;36m  File \u001b[1;32m\"<ipython-input-17-4b03f9290adb>\"\u001b[1;36m, line \u001b[1;32m1\u001b[0m\n\u001b[1;33m    'I'm fine'\u001b[0m\n\u001b[1;37m       ^\u001b[0m\n\u001b[1;31mSyntaxError\u001b[0m\u001b[1;31m:\u001b[0m invalid syntax\n"
     ]
    }
   ],
   "source": [
    "'I'm fine'"
   ]
  },
  {
   "cell_type": "markdown",
   "metadata": {},
   "source": [
    "Note que o Python nos retornou um erro de sintaxe, isso ocorre porque quando você digitou o ' em I'm, o Python interpretou como se estivesse fechando as aspas que definiriam a string, existem duas formas de solucionar este problema:"
   ]
  },
  {
   "cell_type": "code",
   "execution_count": 18,
   "metadata": {},
   "outputs": [
    {
     "data": {
      "text/plain": [
       "\"I'm fine\""
      ]
     },
     "execution_count": 18,
     "metadata": {},
     "output_type": "execute_result"
    }
   ],
   "source": [
    "\"I'm fine\""
   ]
  },
  {
   "cell_type": "code",
   "execution_count": 19,
   "metadata": {},
   "outputs": [
    {
     "data": {
      "text/plain": [
       "\"I'm fine\""
      ]
     },
     "execution_count": 19,
     "metadata": {},
     "output_type": "execute_result"
    }
   ],
   "source": [
    "'I\\'m fine'"
   ]
  },
  {
   "cell_type": "markdown",
   "metadata": {},
   "source": [
    "Em Python, o \" \\ \" é chamado de caracter Escape, o que ele faz é fazer com que o Python simplesmente ignore o caracter que vem em seguida. E o caracter utilizado para concatenar strings é o \"+\""
   ]
  },
  {
   "cell_type": "markdown",
   "metadata": {},
   "source": [
    "### Operadores\n",
    "\n",
    "Agora que vimos o básico de tipos de variáveis e exemplos de sintaxe, podemos apresentar os operadores, algo que é relativamente intuitivo:"
   ]
  },
  {
   "cell_type": "code",
   "execution_count": 20,
   "metadata": {},
   "outputs": [
    {
     "data": {
      "text/plain": [
       "3"
      ]
     },
     "execution_count": 20,
     "metadata": {},
     "output_type": "execute_result"
    }
   ],
   "source": [
    "1 + 2"
   ]
  },
  {
   "cell_type": "code",
   "execution_count": 21,
   "metadata": {},
   "outputs": [
    {
     "data": {
      "text/plain": [
       "2"
      ]
     },
     "execution_count": 21,
     "metadata": {},
     "output_type": "execute_result"
    }
   ],
   "source": [
    "1 * 2"
   ]
  },
  {
   "cell_type": "code",
   "execution_count": 22,
   "metadata": {},
   "outputs": [
    {
     "data": {
      "text/plain": [
       "1"
      ]
     },
     "execution_count": 22,
     "metadata": {},
     "output_type": "execute_result"
    }
   ],
   "source": [
    "1 ** 2"
   ]
  },
  {
   "cell_type": "code",
   "execution_count": 23,
   "metadata": {},
   "outputs": [
    {
     "data": {
      "text/plain": [
       "5.5"
      ]
     },
     "execution_count": 23,
     "metadata": {},
     "output_type": "execute_result"
    }
   ],
   "source": [
    "11 / 2"
   ]
  },
  {
   "cell_type": "code",
   "execution_count": 24,
   "metadata": {},
   "outputs": [
    {
     "data": {
      "text/plain": [
       "-1"
      ]
     },
     "execution_count": 24,
     "metadata": {},
     "output_type": "execute_result"
    }
   ],
   "source": [
    "1 - 2"
   ]
  },
  {
   "cell_type": "code",
   "execution_count": 25,
   "metadata": {},
   "outputs": [
    {
     "data": {
      "text/plain": [
       "1"
      ]
     },
     "execution_count": 25,
     "metadata": {},
     "output_type": "execute_result"
    }
   ],
   "source": [
    "11 % 2"
   ]
  },
  {
   "cell_type": "markdown",
   "metadata": {},
   "source": [
    "O \"%\" é chamado de operador Modulus. Ele nos dá a sobra da divisão entre os números. Então, é como se dividíssemos 11 por 2. No caso, em números inteiros, o resultado seria 5 e sobraria 1."
   ]
  },
  {
   "cell_type": "markdown",
   "metadata": {},
   "source": [
    "Já foi explicado que o \"=\" é o sinal utilizado para atribuir o valor para uma variável. Mas observe como funciona o sinal de igualdade duplicado:"
   ]
  },
  {
   "cell_type": "code",
   "execution_count": 26,
   "metadata": {},
   "outputs": [],
   "source": [
    "y = 2"
   ]
  },
  {
   "cell_type": "code",
   "execution_count": 27,
   "metadata": {},
   "outputs": [
    {
     "data": {
      "text/plain": [
       "True"
      ]
     },
     "execution_count": 27,
     "metadata": {},
     "output_type": "execute_result"
    }
   ],
   "source": [
    "y == 2"
   ]
  },
  {
   "cell_type": "code",
   "execution_count": 28,
   "metadata": {},
   "outputs": [
    {
     "data": {
      "text/plain": [
       "False"
      ]
     },
     "execution_count": 28,
     "metadata": {},
     "output_type": "execute_result"
    }
   ],
   "source": [
    "y == 3"
   ]
  },
  {
   "cell_type": "markdown",
   "metadata": {},
   "source": [
    "O sinal de \"==\" nos retorna um boolean. Interprete o código acima como: \"Y é igual a 3?\". Isso vai ser especialmente importante quando estudarmos os \"If statements\"."
   ]
  },
  {
   "cell_type": "markdown",
   "metadata": {},
   "source": [
    "### Comentários\n",
    "\n",
    "Comentários são strings que o computador simplesmente vai ignorar em um código. São interessantes para você colocar algum lembrete ou orientação no meio do seu código, principalmente quando escreve um código mais longo, com centenas de linhas, por exemplo. Para colocar um comentário, basta iniciar a linha do comentário com \"#\"."
   ]
  },
  {
   "cell_type": "code",
   "execution_count": 29,
   "metadata": {},
   "outputs": [
    {
     "data": {
      "text/plain": [
       "5"
      ]
     },
     "execution_count": 29,
     "metadata": {},
     "output_type": "execute_result"
    }
   ],
   "source": [
    "x = 5\n",
    "#Este código contém um exemplo de comentário, esta linha será ignorada\n",
    "x"
   ]
  },
  {
   "cell_type": "markdown",
   "metadata": {},
   "source": [
    "Se eu escrever o código sem o \"#\" teremos um erro:"
   ]
  },
  {
   "cell_type": "code",
   "execution_count": 30,
   "metadata": {},
   "outputs": [
    {
     "ename": "SyntaxError",
     "evalue": "invalid syntax (<ipython-input-30-c4ae1e91e939>, line 2)",
     "output_type": "error",
     "traceback": [
      "\u001b[1;36m  File \u001b[1;32m\"<ipython-input-30-c4ae1e91e939>\"\u001b[1;36m, line \u001b[1;32m2\u001b[0m\n\u001b[1;33m    Isto não é um comentário, portanto, teremos um erro.\u001b[0m\n\u001b[1;37m           ^\u001b[0m\n\u001b[1;31mSyntaxError\u001b[0m\u001b[1;31m:\u001b[0m invalid syntax\n"
     ]
    }
   ],
   "source": [
    "x = 5\n",
    "Isto não é um comentário, portanto, teremos um erro.\n",
    "x"
   ]
  },
  {
   "cell_type": "markdown",
   "metadata": {},
   "source": [
    "### Junção de linhas\n",
    "Um truque legal também, que é interessante quando você está escrevendo linhas longas de código, é utilizar \" \\ \" para que o Python interprete duas linhas como uma só. Veja abaixo:"
   ]
  },
  {
   "cell_type": "code",
   "execution_count": 31,
   "metadata": {},
   "outputs": [
    {
     "data": {
      "text/plain": [
       "17"
      ]
     },
     "execution_count": 31,
     "metadata": {},
     "output_type": "execute_result"
    }
   ],
   "source": [
    "2 + 5 * 3"
   ]
  },
  {
   "cell_type": "code",
   "execution_count": 32,
   "metadata": {},
   "outputs": [
    {
     "data": {
      "text/plain": [
       "17"
      ]
     },
     "execution_count": 32,
     "metadata": {},
     "output_type": "execute_result"
    }
   ],
   "source": [
    "2 + 5 * \\\n",
    "3"
   ]
  },
  {
   "cell_type": "markdown",
   "metadata": {},
   "source": [
    "### Indexação de elementos\n",
    "Em Python, o primeiro número quando contamos é o 0 (É como se contássemos: 0, 1, 2, 3...). Sim, isso parece estranho, mas entenda com um exemplo prático. Abaixo, vou colocar uma String e vou puxar um elemento desta String, isso pode ser feito por meio da colocação de colchetes ao final da string (e dentro dos colchetes, basta colocar a posição do elemento desejado), mas preste atenção na letra que ele irá me retornar a partir da posição que eu colocarei de Input:"
   ]
  },
  {
   "cell_type": "code",
   "execution_count": 33,
   "metadata": {},
   "outputs": [
    {
     "data": {
      "text/plain": [
       "'o'"
      ]
     },
     "execution_count": 33,
     "metadata": {},
     "output_type": "execute_result"
    }
   ],
   "source": [
    "\"Bolo\"[1]"
   ]
  },
  {
   "cell_type": "code",
   "execution_count": 34,
   "metadata": {},
   "outputs": [
    {
     "data": {
      "text/plain": [
       "'B'"
      ]
     },
     "execution_count": 34,
     "metadata": {},
     "output_type": "execute_result"
    }
   ],
   "source": [
    "\"Bolo\"[0]"
   ]
  },
  {
   "cell_type": "markdown",
   "metadata": {},
   "source": [
    "Veja que para obter a primeira letra da palavra, ou seja, a letra que está na primeira posição dessa string, eu devo pedir a letra que está na \"zeroésima\" posição. Sendo que se eu pedir a letra que está na primeira posição, eu terei na verdade o que seria comumente chamada de segunda letra! Isso porque em Python e em algumas outras linguagens de programação, é como se começássemos a contar a partir do 0."
   ]
  },
  {
   "cell_type": "markdown",
   "metadata": {},
   "source": [
    "Outra coisa interessante:"
   ]
  },
  {
   "cell_type": "code",
   "execution_count": 35,
   "metadata": {},
   "outputs": [
    {
     "data": {
      "text/plain": [
       "'o'"
      ]
     },
     "execution_count": 35,
     "metadata": {},
     "output_type": "execute_result"
    }
   ],
   "source": [
    "\"Bolo\"[-1]"
   ]
  },
  {
   "cell_type": "markdown",
   "metadata": {},
   "source": [
    "Sempre que você quiser o último elemento de uma sequência de caracteres, ou variáveis, basta colocar -1, para o penúltimo, -2 etc, é como se começássemos a contar de trás pra frente."
   ]
  },
  {
   "cell_type": "markdown",
   "metadata": {},
   "source": [
    "### Indentation\n",
    "\n",
    "Para organizar o seu código em Python, é necessário que ele seja organizado estruturalmente com recuos, ou, os Indentations. Um indentation ocorre, por exemplo, quando voce cria um IF statement ou quando está criando uma função. É colocado automaticamente na maioria dos IDEs depois de \":\". Veja abaixo, o uso do recuo é relativamente intuitivo:"
   ]
  },
  {
   "cell_type": "code",
   "execution_count": 36,
   "metadata": {},
   "outputs": [],
   "source": [
    "def somar_1 (x):\n",
    "    return x + 1\n",
    "    print(\"Olá!\")"
   ]
  },
  {
   "cell_type": "markdown",
   "metadata": {},
   "source": [
    "Veja que na célula acima, o comando Print não foi executado, isso ocorre porque a função print está dentro da função \"somar_1\", por conta da estruturação dos recuos, que foi criada, e esta função não foi chamada para execução. Agora, se eu criar a mesma função, porém colocar a função print sem o recuo, veja o que acontece:"
   ]
  },
  {
   "cell_type": "code",
   "execution_count": 37,
   "metadata": {},
   "outputs": [
    {
     "name": "stdout",
     "output_type": "stream",
     "text": [
      "Olá!\n"
     ]
    }
   ],
   "source": [
    "def somar_1 (x):\n",
    "    return x + 1\n",
    "print('Olá!')"
   ]
  },
  {
   "cell_type": "markdown",
   "metadata": {},
   "source": [
    "Veja que agora, como a função print está fora da função criada, esta passa a ser um comando separado, portanto, nos é retornado o 'Olá!'."
   ]
  },
  {
   "cell_type": "markdown",
   "metadata": {},
   "source": [
    "### Trabalho com operadores de comparação\n",
    "Já observamos como funciona o operador \"==\", outro que existe em Python é o \"!=\", \">\" e \"<\", que são os operadores de \"não-igual\", \"maior que\" e \"menor que\". Veja:"
   ]
  },
  {
   "cell_type": "code",
   "execution_count": 38,
   "metadata": {},
   "outputs": [
    {
     "data": {
      "text/plain": [
       "False"
      ]
     },
     "execution_count": 38,
     "metadata": {},
     "output_type": "execute_result"
    }
   ],
   "source": [
    "1 != 1"
   ]
  },
  {
   "cell_type": "code",
   "execution_count": 39,
   "metadata": {},
   "outputs": [
    {
     "data": {
      "text/plain": [
       "True"
      ]
     },
     "execution_count": 39,
     "metadata": {},
     "output_type": "execute_result"
    }
   ],
   "source": [
    "1 != 2"
   ]
  },
  {
   "cell_type": "code",
   "execution_count": 40,
   "metadata": {},
   "outputs": [
    {
     "data": {
      "text/plain": [
       "False"
      ]
     },
     "execution_count": 40,
     "metadata": {},
     "output_type": "execute_result"
    }
   ],
   "source": [
    "1 > 1"
   ]
  },
  {
   "cell_type": "code",
   "execution_count": 41,
   "metadata": {},
   "outputs": [
    {
     "data": {
      "text/plain": [
       "False"
      ]
     },
     "execution_count": 41,
     "metadata": {},
     "output_type": "execute_result"
    }
   ],
   "source": [
    "1 > 2"
   ]
  },
  {
   "cell_type": "code",
   "execution_count": 42,
   "metadata": {},
   "outputs": [
    {
     "data": {
      "text/plain": [
       "True"
      ]
     },
     "execution_count": 42,
     "metadata": {},
     "output_type": "execute_result"
    }
   ],
   "source": [
    "1 < 2"
   ]
  },
  {
   "cell_type": "markdown",
   "metadata": {},
   "source": [
    "### Operadores lógicos:\n",
    "Em Python, existe o operadores lógicos, ou também chamados de **Boolean Operators**, vamos começar com o \"and\". Este operador checa se as duas condições postas são verdadeiras (a lógica é melhor exemplificada durante a construção de funções e If Statements), mas veja de forma simples como isto é aplicado:"
   ]
  },
  {
   "cell_type": "code",
   "execution_count": 43,
   "metadata": {},
   "outputs": [
    {
     "data": {
      "text/plain": [
       "False"
      ]
     },
     "execution_count": 43,
     "metadata": {},
     "output_type": "execute_result"
    }
   ],
   "source": [
    "True and False"
   ]
  },
  {
   "cell_type": "code",
   "execution_count": 44,
   "metadata": {},
   "outputs": [
    {
     "data": {
      "text/plain": [
       "True"
      ]
     },
     "execution_count": 44,
     "metadata": {},
     "output_type": "execute_result"
    }
   ],
   "source": [
    "True and True"
   ]
  },
  {
   "cell_type": "markdown",
   "metadata": {},
   "source": [
    "O código nos retornou \"True\" apenas quando os dois statements cercando o operador eram True."
   ]
  },
  {
   "cell_type": "markdown",
   "metadata": {},
   "source": [
    "Temos também o operador \"or\". Que nos retorna \"True\" quando uma das afirmações cercando o Operador é \"True\"."
   ]
  },
  {
   "cell_type": "code",
   "execution_count": 45,
   "metadata": {},
   "outputs": [
    {
     "data": {
      "text/plain": [
       "True"
      ]
     },
     "execution_count": 45,
     "metadata": {},
     "output_type": "execute_result"
    }
   ],
   "source": [
    "True or False"
   ]
  },
  {
   "cell_type": "code",
   "execution_count": 46,
   "metadata": {},
   "outputs": [
    {
     "data": {
      "text/plain": [
       "False"
      ]
     },
     "execution_count": 46,
     "metadata": {},
     "output_type": "execute_result"
    }
   ],
   "source": [
    "False or False"
   ]
  },
  {
   "cell_type": "code",
   "execution_count": 47,
   "metadata": {},
   "outputs": [
    {
     "data": {
      "text/plain": [
       "True"
      ]
     },
     "execution_count": 47,
     "metadata": {},
     "output_type": "execute_result"
    }
   ],
   "source": [
    "True or True"
   ]
  },
  {
   "cell_type": "markdown",
   "metadata": {},
   "source": [
    "Outro operador é o \"not\" que nos dá o oposto de uma afirmação fornecida:"
   ]
  },
  {
   "cell_type": "code",
   "execution_count": 48,
   "metadata": {},
   "outputs": [
    {
     "data": {
      "text/plain": [
       "False"
      ]
     },
     "execution_count": 48,
     "metadata": {},
     "output_type": "execute_result"
    }
   ],
   "source": [
    "not True"
   ]
  },
  {
   "cell_type": "code",
   "execution_count": 49,
   "metadata": {},
   "outputs": [
    {
     "data": {
      "text/plain": [
       "True"
      ]
     },
     "execution_count": 49,
     "metadata": {},
     "output_type": "execute_result"
    }
   ],
   "source": [
    "not False"
   ]
  },
  {
   "cell_type": "markdown",
   "metadata": {},
   "source": [
    "Veja um outro tipo de exemplo e observe os resultados:"
   ]
  },
  {
   "cell_type": "code",
   "execution_count": 50,
   "metadata": {},
   "outputs": [
    {
     "data": {
      "text/plain": [
       "False"
      ]
     },
     "execution_count": 50,
     "metadata": {},
     "output_type": "execute_result"
    }
   ],
   "source": [
    "3 > 5 and 10 <= 13"
   ]
  },
  {
   "cell_type": "code",
   "execution_count": 51,
   "metadata": {},
   "outputs": [
    {
     "data": {
      "text/plain": [
       "False"
      ]
     },
     "execution_count": 51,
     "metadata": {},
     "output_type": "execute_result"
    }
   ],
   "source": [
    "True and not True"
   ]
  },
  {
   "cell_type": "code",
   "execution_count": 52,
   "metadata": {},
   "outputs": [
    {
     "data": {
      "text/plain": [
       "False"
      ]
     },
     "execution_count": 52,
     "metadata": {},
     "output_type": "execute_result"
    }
   ],
   "source": [
    "False or not True and True"
   ]
  },
  {
   "cell_type": "code",
   "execution_count": 53,
   "metadata": {},
   "outputs": [
    {
     "data": {
      "text/plain": [
       "True"
      ]
     },
     "execution_count": 53,
     "metadata": {},
     "output_type": "execute_result"
    }
   ],
   "source": [
    "True and not True or True"
   ]
  },
  {
   "cell_type": "markdown",
   "metadata": {},
   "source": [
    "### Operadores de identidade:\n",
    "Outro tipo de operador em Python é o chamado **Identity Operator** que são os: \"is\" e o \"is not\". Funcionam de forma similar ao \"==\" e o \"!=\":"
   ]
  },
  {
   "cell_type": "code",
   "execution_count": 54,
   "metadata": {},
   "outputs": [
    {
     "data": {
      "text/plain": [
       "False"
      ]
     },
     "execution_count": 54,
     "metadata": {},
     "output_type": "execute_result"
    }
   ],
   "source": [
    "5 is 6"
   ]
  },
  {
   "cell_type": "code",
   "execution_count": 55,
   "metadata": {},
   "outputs": [
    {
     "data": {
      "text/plain": [
       "False"
      ]
     },
     "execution_count": 55,
     "metadata": {},
     "output_type": "execute_result"
    }
   ],
   "source": [
    "5 == 6"
   ]
  },
  {
   "cell_type": "code",
   "execution_count": 56,
   "metadata": {},
   "outputs": [
    {
     "data": {
      "text/plain": [
       "True"
      ]
     },
     "execution_count": 56,
     "metadata": {},
     "output_type": "execute_result"
    }
   ],
   "source": [
    "5 is not 6"
   ]
  },
  {
   "cell_type": "code",
   "execution_count": 57,
   "metadata": {},
   "outputs": [
    {
     "data": {
      "text/plain": [
       "True"
      ]
     },
     "execution_count": 57,
     "metadata": {},
     "output_type": "execute_result"
    }
   ],
   "source": [
    "5 != 6"
   ]
  },
  {
   "cell_type": "markdown",
   "metadata": {},
   "source": [
    "## Afirmações Condicionais\n",
    "Agora que já falamos a respeito de como funciona a sintaxe em Python e os operadores, vamos falar de um tópico que é de grande importância para qualquer tipo de programação, os **Conditional Statements**. <br> Iniciamos falando do **IF statement**. O motivo pelo qual utilizar um \"if\" pode ser bem intuitivo, mas aqui vou te mostar como utilizá-lo, que pode ser algo não tão claro, especialmente para quem não teve contato com nenhum tipo de programação anteriormente. <br> O código deve ser escrito da seguinte forma:"
   ]
  },
  {
   "cell_type": "markdown",
   "metadata": {},
   "source": [
    "**if** *condição:* <br>\n",
    "> *código que só rodará se a condição for satisfeita* (se a condição for **True**)<br>\n",
    "\n",
    "*continuação do código* (não condicional - note o recuo)"
   ]
  },
  {
   "cell_type": "markdown",
   "metadata": {},
   "source": [
    "Vamos criar uma situação hipotética, que eu queira criar um código que me avisa se a soma que eu inserir é igual à 10. Veja como isso pode ser feito:"
   ]
  },
  {
   "cell_type": "code",
   "execution_count": 58,
   "metadata": {},
   "outputs": [
    {
     "name": "stdout",
     "output_type": "stream",
     "text": [
      "A soma é igual à 10!\n"
     ]
    }
   ],
   "source": [
    "if 5 + 5 == 10:\n",
    "    print ('A soma é igual à 10!')"
   ]
  },
  {
   "cell_type": "code",
   "execution_count": 59,
   "metadata": {},
   "outputs": [],
   "source": [
    "if 5 + 3 == 10:\n",
    "    print ('A soma é igual à 10!')"
   ]
  },
  {
   "cell_type": "markdown",
   "metadata": {},
   "source": [
    "Veja que quando eu inseri uma soma que não era igual à 10, o código não me retornou nada. Isso porque o Python funciona da seguinte maneira:"
   ]
  },
  {
   "attachments": {
    "image.png": {
     "image/png": "[encoded data removed]"
    }
   },
   "cell_type": "markdown",
   "metadata": {},
   "source": [
    "![image.png](attachment:image.png)"
   ]
  },
  {
   "cell_type": "markdown",
   "metadata": {},
   "source": [
    "Ou seja, o computador verifica se a condição que colocamos é verdadeira, caso Positivo, ele roda as linhas de código que colocamos dentro do IF statement, em caso Negativo, ele simplesmente roda o código pulando aquelas linhas. Em breve veremos como colocar, após o IF statement, o \"Else\", para dizer ao Python nos retornar algo caso a condição inicial seja False."
   ]
  },
  {
   "cell_type": "markdown",
   "metadata": {},
   "source": [
    "Vamos supor agora que eu queira que o código me dê também um Output caso a soma não seja 10. Podemos fazer da seguinte forma (note que neste caso, vou criar uma variável para conter o valor da soma):"
   ]
  },
  {
   "cell_type": "code",
   "execution_count": 60,
   "metadata": {},
   "outputs": [
    {
     "name": "stdout",
     "output_type": "stream",
     "text": [
      "A soma é igual à 10!\n"
     ]
    }
   ],
   "source": [
    "soma = 5 + 5\n",
    "\n",
    "if soma == 10:\n",
    "    print ('A soma é igual à 10!')\n",
    "if soma != 10:\n",
    "    print ('A soma NÃO é igual à 10!')"
   ]
  },
  {
   "cell_type": "code",
   "execution_count": 61,
   "metadata": {},
   "outputs": [
    {
     "name": "stdout",
     "output_type": "stream",
     "text": [
      "A soma NÃO é igual à 10!\n"
     ]
    }
   ],
   "source": [
    "soma = 5 + 7\n",
    "\n",
    "if soma == 10:\n",
    "    print ('A soma é igual à 10!')\n",
    "if soma != 10:\n",
    "    print ('A soma NÃO é igual à 10!')"
   ]
  },
  {
   "cell_type": "markdown",
   "metadata": {},
   "source": [
    "O código acima está correto e note que nos retorna o valor desejado, porém com certeza não é a forma mais eficiente para escrever códigos. Para obter o mesmo resultado de uma forma mais eficiente, temos o **ELSE statement**. O ELSE diz para o computador retornar um código caso a condição inicial posta no IF não for satisfeita. Veja:"
   ]
  },
  {
   "cell_type": "code",
   "execution_count": 62,
   "metadata": {},
   "outputs": [
    {
     "name": "stdout",
     "output_type": "stream",
     "text": [
      "A soma NÃO é igual à 10!\n"
     ]
    }
   ],
   "source": [
    "soma = 5 + 7\n",
    "\n",
    "if soma == 10:\n",
    "    print ('A soma é igual à 10!')\n",
    "else:\n",
    "    print ('A soma NÃO é igual à 10!')"
   ]
  },
  {
   "cell_type": "markdown",
   "metadata": {},
   "source": [
    "O código contido na condição ELSE será rodado sempre que a condição do IF não for satisfeita!"
   ]
  },
  {
   "cell_type": "markdown",
   "metadata": {},
   "source": [
    "Note que o ELSE statement deve estar na mesma linha vertical do que o seu respectivo IF statement, ou seja, devem ter o mesmo número de recuos."
   ]
  },
  {
   "cell_type": "markdown",
   "metadata": {},
   "source": [
    "Agora vamos dar uma olhada nos **ELIF Statements** (abreviação para Else If), ou seja, é como se fosse um ELSE porém acompanhado de uma nova condição, e o bloco de código contido no ELIF só será rodado se a condição dentro dela for satisfeita. Veja como funciona:"
   ]
  },
  {
   "cell_type": "code",
   "execution_count": 63,
   "metadata": {
    "scrolled": false
   },
   "outputs": [
    {
     "name": "stdout",
     "output_type": "stream",
     "text": [
      "A soma é igual a 10!\n"
     ]
    }
   ],
   "source": [
    "soma = 5 + 5\n",
    "\n",
    "if soma == 10:\n",
    "    print('A soma é igual a 10!')\n",
    "elif soma < 10:\n",
    "    print('A soma é menor que 10!')\n",
    "else:\n",
    "    print('A soma é maior que 10!')"
   ]
  },
  {
   "cell_type": "code",
   "execution_count": 64,
   "metadata": {},
   "outputs": [
    {
     "name": "stdout",
     "output_type": "stream",
     "text": [
      "A soma é maior que 10!\n"
     ]
    }
   ],
   "source": [
    "soma = 5 + 6\n",
    "\n",
    "if soma == 10:\n",
    "    print('A soma é igual a 10!')\n",
    "elif soma < 10:\n",
    "    print('A soma é menor que 10!')\n",
    "else:\n",
    "    print('A soma é maior que 10!')"
   ]
  },
  {
   "cell_type": "code",
   "execution_count": 65,
   "metadata": {},
   "outputs": [
    {
     "name": "stdout",
     "output_type": "stream",
     "text": [
      "A soma é menor que 10!\n"
     ]
    }
   ],
   "source": [
    "soma = 5 + 4\n",
    "\n",
    "if soma == 10:\n",
    "    print('A soma é igual a 10!')\n",
    "elif soma < 10:\n",
    "    print('A soma é menor que 10!')\n",
    "else:\n",
    "    print('A soma é maior que 10!')"
   ]
  },
  {
   "cell_type": "markdown",
   "metadata": {},
   "source": [
    "## Funções\n",
    "Vamos agora criar funções em Python, uma ferramenta importantíssima e muito poderosa. Uma função é um bloco que de código que pode ser chamado posteriormente em qualquer outro lugar do código para executar uma tarefa específica. Vamos começar apresentando a sintaxe:"
   ]
  },
  {
   "cell_type": "markdown",
   "metadata": {},
   "source": [
    "**def** *nome_função(parâmetro):* <br>\n",
    "> *corpo da função* <br>\n",
    "\n",
    "*continuação do código*"
   ]
  },
  {
   "cell_type": "markdown",
   "metadata": {},
   "source": [
    "Uma função pode ou não ter parâmetros, e só fornecerá um output quando for \"chamada\", veja abaixo:"
   ]
  },
  {
   "cell_type": "code",
   "execution_count": 66,
   "metadata": {},
   "outputs": [],
   "source": [
    "def primeira_funcao():\n",
    "    print('Este é o resultado da nossa primeira função!')"
   ]
  },
  {
   "cell_type": "markdown",
   "metadata": {},
   "source": [
    "Veja que ao executar o comando acima, não obtivemos nenhum output, isso ocorre porque eu criei um bloco de código, dentro da função \"primeira_funcao\" mas não a chamei. Para chamar a função, basta digitar o nome, e entre parênteses colocar os parâmetros, caso haja algum. <br> <br> Abaixo vou chamar a \"primeira_funcao\":"
   ]
  },
  {
   "cell_type": "code",
   "execution_count": 67,
   "metadata": {},
   "outputs": [
    {
     "name": "stdout",
     "output_type": "stream",
     "text": [
      "Este é o resultado da nossa primeira função!\n"
     ]
    }
   ],
   "source": [
    "primeira_funcao()"
   ]
  },
  {
   "cell_type": "markdown",
   "metadata": {},
   "source": [
    "Veja que agora obtivemos o output desejado a partir do comando que havíamos criado!"
   ]
  },
  {
   "cell_type": "markdown",
   "metadata": {},
   "source": [
    "Nosso próximo passo será criar uma função com um parâmetro! <br> Vou criar uma função que somará 10 ao número fornecido:"
   ]
  },
  {
   "cell_type": "code",
   "execution_count": 68,
   "metadata": {},
   "outputs": [],
   "source": [
    "def soma_dez(x):\n",
    "    return x + 10"
   ]
  },
  {
   "cell_type": "markdown",
   "metadata": {},
   "source": [
    "Note que usei o keyword \"Return\", ele é utilizado para retornar o valor de tal função. Não utilizei na função anterior para deixar as coisas mais simples e porque não necessariamente iria ser feito algum cálculo ou coisa do tipo, apenas executar um comando específico. Porém, é mais comumente usado o keyword \"Return\" quando queremos dar o resultado de alguma função. <br> <br> Vamos chamar a função abaixo e observar o resultado:"
   ]
  },
  {
   "cell_type": "code",
   "execution_count": 69,
   "metadata": {},
   "outputs": [
    {
     "data": {
      "text/plain": [
       "40"
      ]
     },
     "execution_count": 69,
     "metadata": {},
     "output_type": "execute_result"
    }
   ],
   "source": [
    "soma_dez(30)"
   ]
  },
  {
   "cell_type": "markdown",
   "metadata": {},
   "source": [
    "Para especificar o parâmetro desejado, é só colocar o valor desejado no lugar do parâmetro. Veja que obtivemos o output de 40 ao chamar a função com o parâmetro x = 30."
   ]
  },
  {
   "cell_type": "code",
   "execution_count": 70,
   "metadata": {},
   "outputs": [
    {
     "data": {
      "text/plain": [
       "13"
      ]
     },
     "execution_count": 70,
     "metadata": {},
     "output_type": "execute_result"
    }
   ],
   "source": [
    "soma_dez(3)"
   ]
  },
  {
   "cell_type": "markdown",
   "metadata": {},
   "source": [
    "Há uma outra maneira de escrever a função acima. Dentro da função podemos criar uma nova variável que vai conter o resultado da soma, e então, retornar o valor desta variável. Isso é mais comumente usado, principalmente porque, dependendo da função que for criada, pode envolver cálculos mais complexos, veja:"
   ]
  },
  {
   "cell_type": "code",
   "execution_count": 71,
   "metadata": {},
   "outputs": [],
   "source": [
    "def soma_dois(a):\n",
    "    x = a + 2\n",
    "    return x"
   ]
  },
  {
   "cell_type": "code",
   "execution_count": 72,
   "metadata": {},
   "outputs": [
    {
     "data": {
      "text/plain": [
       "5"
      ]
     },
     "execution_count": 72,
     "metadata": {},
     "output_type": "execute_result"
    }
   ],
   "source": [
    "soma_dois(3)"
   ]
  },
  {
   "cell_type": "markdown",
   "metadata": {},
   "source": [
    "O parâmetro da função pode ser opcional, e para isso, devemos dar um valor \"default\" para o parâmetro, esse valor será o que vai ser \"assumido\" pelo computador quando nenhum valor for dado para o parâmetro. Isso pode ser feito da seguinte forma:"
   ]
  },
  {
   "cell_type": "code",
   "execution_count": 73,
   "metadata": {},
   "outputs": [],
   "source": [
    "def soma_tres(a=0):\n",
    "    x = a + 3\n",
    "    return x"
   ]
  },
  {
   "cell_type": "code",
   "execution_count": 74,
   "metadata": {},
   "outputs": [
    {
     "data": {
      "text/plain": [
       "3"
      ]
     },
     "execution_count": 74,
     "metadata": {},
     "output_type": "execute_result"
    }
   ],
   "source": [
    "soma_tres()"
   ]
  },
  {
   "cell_type": "markdown",
   "metadata": {},
   "source": [
    "Algo que podemos incluir em nossas funções são os chamados **docstrings**, que nada mais são do que a documentação de nossa função. Para verificar a documentação de uma função no Jupyter, basta escrever o nome da função e utilizar o atalho *Shift + Tab* que aparecerá uma janela falando sobre a função. Podemos também utilizar a função **help()** do Python. O docstring pode ser inserido depois que você define o nome da função colocando 3 pares de aspas. Veja como vou fazer o docstring da função acima:"
   ]
  },
  {
   "cell_type": "code",
   "execution_count": 8,
   "metadata": {},
   "outputs": [],
   "source": [
    "def soma_tres(a=0):\n",
    "    \"\"\"\n",
    "    Este é o docstring da função soma três\n",
    "    Esta função retorna a variável inserida multiplicada por 3\n",
    "    \"\"\"\n",
    "    x = a + 3\n",
    "    return x"
   ]
  },
  {
   "cell_type": "code",
   "execution_count": 9,
   "metadata": {},
   "outputs": [
    {
     "name": "stdout",
     "output_type": "stream",
     "text": [
      "Help on function soma_tres in module __main__:\n",
      "\n",
      "soma_tres(a=0)\n",
      "    Este é o docstring da função soma três\n",
      "    Esta função retorna a variável inserida multiplicada por 3\n",
      "\n"
     ]
    }
   ],
   "source": [
    "help(soma_tres)"
   ]
  },
  {
   "cell_type": "markdown",
   "metadata": {},
   "source": [
    "Veja que acima, ao definir a função, coloquei o parâmetro \"a=0\", isso significa que quando eu não fornecer nenhum valor para o parâmetro \"a\". O computador vai presumir que este é igual a 0. Mas eu posso fornecer um valor para este parâmetro normalmente ao chamar a função:"
   ]
  },
  {
   "cell_type": "code",
   "execution_count": 75,
   "metadata": {},
   "outputs": [
    {
     "data": {
      "text/plain": [
       "6"
      ]
     },
     "execution_count": 75,
     "metadata": {},
     "output_type": "execute_result"
    }
   ],
   "source": [
    "soma_tres(3)"
   ]
  },
  {
   "cell_type": "markdown",
   "metadata": {},
   "source": [
    "Ao não fornecer um valor para a função \"soma_dois\" eu terei um erro, pois não coloquei um valor default para o parâmetro:"
   ]
  },
  {
   "cell_type": "code",
   "execution_count": 76,
   "metadata": {},
   "outputs": [
    {
     "ename": "TypeError",
     "evalue": "soma_dois() missing 1 required positional argument: 'a'",
     "output_type": "error",
     "traceback": [
      "\u001b[1;31m---------------------------------------------------------------------------\u001b[0m",
      "\u001b[1;31mTypeError\u001b[0m                                 Traceback (most recent call last)",
      "\u001b[1;32m<ipython-input-76-ccdba9dc832c>\u001b[0m in \u001b[0;36m<module>\u001b[1;34m\u001b[0m\n\u001b[1;32m----> 1\u001b[1;33m \u001b[0msoma_dois\u001b[0m\u001b[1;33m(\u001b[0m\u001b[1;33m)\u001b[0m\u001b[1;33m\u001b[0m\u001b[1;33m\u001b[0m\u001b[0m\n\u001b[0m",
      "\u001b[1;31mTypeError\u001b[0m: soma_dois() missing 1 required positional argument: 'a'"
     ]
    }
   ],
   "source": [
    "soma_dois()"
   ]
  },
  {
   "cell_type": "markdown",
   "metadata": {},
   "source": [
    "### Funções Lambda\n",
    "\n",
    "Existe uma outra maneira de criar funções em Python, são as chamadas expressões **Lambda**. Vamos supor que você queria criar uma função simples que vai ser utilizada apenas pontualmente em seu código. Neste caso, você pode criar a função na mesma linha em que realiza a operação, porém, essa função não vai poder ser chamada posteriormente como as funções que vimos até agora.<br><br>\n",
    "\n",
    "Vejamos como podemos fazer isso. Primeiro vou mostrar como faria essa função normalmente, seguindo a mesma lógica apresentada até aqui, e depois vou mostrar por meio da função **lambda**:"
   ]
  },
  {
   "cell_type": "code",
   "execution_count": 1,
   "metadata": {},
   "outputs": [],
   "source": [
    "def vezes2(num):\n",
    "    return num*2"
   ]
  },
  {
   "cell_type": "markdown",
   "metadata": {},
   "source": [
    "Para isso, vou mostrar também a utilização da função **map()**, que é uma função já embutida no Python. Utilizada para iterar nos elementos de um objeto. <br><br> Vou criar uma lista e multiplicar seus elementos por 2:"
   ]
  },
  {
   "cell_type": "code",
   "execution_count": 2,
   "metadata": {},
   "outputs": [
    {
     "data": {
      "text/plain": [
       "[2, 4, 6, 8, 10]"
      ]
     },
     "execution_count": 2,
     "metadata": {},
     "output_type": "execute_result"
    }
   ],
   "source": [
    "lista=[1,2,3,4,5]\n",
    "list(map(vezes2,lista))"
   ]
  },
  {
   "cell_type": "markdown",
   "metadata": {},
   "source": [
    "Veja que eu consegui o resultado desejado, agora vou criar uma função lambda para exemplificar:"
   ]
  },
  {
   "cell_type": "code",
   "execution_count": 3,
   "metadata": {},
   "outputs": [],
   "source": [
    "l = lambda num: num*2"
   ]
  },
  {
   "cell_type": "markdown",
   "metadata": {},
   "source": [
    "Acima eu criei uma função chamada lambda e chamei ela de L, ela produzirá o mesmo efeito que a função \"vezes2\" que eu havia criado. Note que quando eu dou o nome da função lambda da forma que eu fiz acima, eu posso chamá-la depois, como se fosse uma função normal:"
   ]
  },
  {
   "cell_type": "code",
   "execution_count": 5,
   "metadata": {},
   "outputs": [
    {
     "data": {
      "text/plain": [
       "4"
      ]
     },
     "execution_count": 5,
     "metadata": {},
     "output_type": "execute_result"
    }
   ],
   "source": [
    "l(2)"
   ]
  },
  {
   "cell_type": "markdown",
   "metadata": {},
   "source": [
    "Porém, não costuma ser assim a maior utilidade da função lambda, veja que interessante o que eu posso fazer combinando-a com a função **map()**:"
   ]
  },
  {
   "cell_type": "code",
   "execution_count": 6,
   "metadata": {},
   "outputs": [
    {
     "data": {
      "text/plain": [
       "[2, 4, 6, 8, 10]"
      ]
     },
     "execution_count": 6,
     "metadata": {},
     "output_type": "execute_result"
    }
   ],
   "source": [
    "list(map(lambda num: num*2,lista))"
   ]
  },
  {
   "cell_type": "markdown",
   "metadata": {},
   "source": [
    "Veja que eu obtive o mesmo resultado do que antes, quando eu criei a função, porém dessa vez escrevi muito menos código! E essa é a principal vantagem da função lambda. Claro que existe a possibilidade de realizar muito mais tarefas com a função lambda, e é possível se aprofundar nesse assunto, mas o intuito é justamente poder definir e realizar a função na mesma linha de código."
   ]
  },
  {
   "cell_type": "markdown",
   "metadata": {},
   "source": [
    "Apenas como um outro exemplo, vou utilizar a função lambda com a função padrão do Python chamada **filter()**. Que funciona de forma semelhante à função **map()** no sentido de iterar sobre os elementos de um objeto, porém a função filter trabalha com afirmações condicionais para nos retornar os elementos que atendem a condição que estabelecemos. Veja:"
   ]
  },
  {
   "cell_type": "markdown",
   "metadata": {},
   "source": [
    "Se eu quiser obter os elementos pares da lista que eu havia criado acima, eu posso fazê-lo da seguinte forma:"
   ]
  },
  {
   "cell_type": "code",
   "execution_count": 7,
   "metadata": {},
   "outputs": [
    {
     "data": {
      "text/plain": [
       "[2, 4]"
      ]
     },
     "execution_count": 7,
     "metadata": {},
     "output_type": "execute_result"
    }
   ],
   "source": [
    "list(filter(lambda num: num%2 == 0, lista))"
   ]
  },
  {
   "cell_type": "markdown",
   "metadata": {},
   "source": []
  },
  {
   "cell_type": "markdown",
   "metadata": {},
   "source": [
    "#### Diferença entre Print e Return:\n",
    "Você deve ter se perguntado qual a diferença entre finalizar a função com Print ou Return. E, superficialmente, a diferença pode parecer sutil, mas na verdade são bem diferentes. <br> O Return nos dá de fato o resultado da função, ou melhor, especifica o que uma determinada função deve trazer como resultado, e isso não necessariamente é algo que vai ser visualizado, aqui o Jupyter nos dá o output do código mas dependendo do funcionamento da sua IDE, você não verá o que a função te retornou. O print não nos fornece nenhum resultado da função e nem interfere no cálculo, e, pelo contrário, só nos dá uma visualização, de alguma variável por exemplo."
   ]
  },
  {
   "cell_type": "markdown",
   "metadata": {},
   "source": [
    "Para visualizar um resultado de função, você pode chamá-la da seguinte forma:"
   ]
  },
  {
   "cell_type": "code",
   "execution_count": 77,
   "metadata": {},
   "outputs": [
    {
     "name": "stdout",
     "output_type": "stream",
     "text": [
      "4\n"
     ]
    }
   ],
   "source": [
    "print(soma_dois(2))"
   ]
  },
  {
   "cell_type": "markdown",
   "metadata": {},
   "source": [
    "#### Funções com IF statements\n",
    "Já vimos como trabalhar com IF statements, agora vamos combiná-los com funções. <br> Na função abaixo, eu só quero somar dez se o parâmetro fornecido for maior do que 100, e caso negativo, retorne um aviso mencionando que o parâmetro não é mairo do que 100:"
   ]
  },
  {
   "cell_type": "code",
   "execution_count": 78,
   "metadata": {},
   "outputs": [],
   "source": [
    "def soma_dez(a):\n",
    "    if a > 100:\n",
    "        return a + 10\n",
    "    else:\n",
    "        return 'O parâmetro não é maior do que 100!'"
   ]
  },
  {
   "cell_type": "code",
   "execution_count": 79,
   "metadata": {},
   "outputs": [
    {
     "data": {
      "text/plain": [
       "'O parâmetro não é maior do que 100!'"
      ]
     },
     "execution_count": 79,
     "metadata": {},
     "output_type": "execute_result"
    }
   ],
   "source": [
    "soma_dez(10)"
   ]
  },
  {
   "cell_type": "code",
   "execution_count": 80,
   "metadata": {},
   "outputs": [
    {
     "data": {
      "text/plain": [
       "112"
      ]
     },
     "execution_count": 80,
     "metadata": {},
     "output_type": "execute_result"
    }
   ],
   "source": [
    "soma_dez(102)"
   ]
  },
  {
   "cell_type": "code",
   "execution_count": 81,
   "metadata": {},
   "outputs": [
    {
     "data": {
      "text/plain": [
       "'O parâmetro não é maior do que 100!'"
      ]
     },
     "execution_count": 81,
     "metadata": {},
     "output_type": "execute_result"
    }
   ],
   "source": [
    "soma_dez(100)"
   ]
  },
  {
   "cell_type": "markdown",
   "metadata": {},
   "source": [
    "#### Adicionando mais parâmetros\n",
    "Uma função pode ter vários parâmetros, e, na verdade, na maioria dos casos, terá:"
   ]
  },
  {
   "cell_type": "code",
   "execution_count": 82,
   "metadata": {},
   "outputs": [],
   "source": [
    "def soma_fatores(a, b, c):\n",
    "    x = a + b + c\n",
    "    return x"
   ]
  },
  {
   "cell_type": "code",
   "execution_count": 83,
   "metadata": {},
   "outputs": [
    {
     "data": {
      "text/plain": [
       "146"
      ]
     },
     "execution_count": 83,
     "metadata": {},
     "output_type": "execute_result"
    }
   ],
   "source": [
    "soma_fatores(10, 47, 89)"
   ]
  },
  {
   "cell_type": "markdown",
   "metadata": {},
   "source": [
    "Uma outra forma de você especificar os parâmetros é:"
   ]
  },
  {
   "cell_type": "code",
   "execution_count": 84,
   "metadata": {},
   "outputs": [
    {
     "data": {
      "text/plain": [
       "146"
      ]
     },
     "execution_count": 84,
     "metadata": {},
     "output_type": "execute_result"
    }
   ],
   "source": [
    "soma_fatores(b=47, c=89, a=10)"
   ]
  },
  {
   "cell_type": "markdown",
   "metadata": {},
   "source": [
    "Veja que ao declarar os parâmetros dessa forma, não precisamos nos preocupar nem com a ordem com a qual os especificamos, o que não é verdade quando não especificamos o parâmetro que estamos declarando. Isso é especialmente útil quando temos funções com muitos parâmetros e boa parte deles é opcional."
   ]
  },
  {
   "cell_type": "markdown",
   "metadata": {},
   "source": [
    "### Funções embutidas no Python:\n",
    "O Python, ao ser instalado, vem com algumas funções embutidas, as chamadas **built-in functions**. E, na verdade, já vimos exemplos destas anteriormente. Como por exemplo a função **\"type()\"**, que vimos no início que é utilizada para nos retornar o tipo de variável que é usada como argumento da função:"
   ]
  },
  {
   "cell_type": "code",
   "execution_count": 85,
   "metadata": {},
   "outputs": [
    {
     "data": {
      "text/plain": [
       "int"
      ]
     },
     "execution_count": 85,
     "metadata": {},
     "output_type": "execute_result"
    }
   ],
   "source": [
    "type(10)"
   ]
  },
  {
   "cell_type": "markdown",
   "metadata": {},
   "source": [
    "O output acima nos quer dizer que o argumento fornecido \"10\" é um valor do tipo **int**"
   ]
  },
  {
   "cell_type": "markdown",
   "metadata": {},
   "source": [
    "Outras funções importantes são as: **int(), float(), str()** que são utilizadas para converter os argumentos em, respectivamente: integers, floats e strings."
   ]
  },
  {
   "cell_type": "markdown",
   "metadata": {},
   "source": [
    "Outra função é a **max()**, que é utilizada para retornar o maior valor dentre uma sequência de números:"
   ]
  },
  {
   "cell_type": "code",
   "execution_count": 86,
   "metadata": {},
   "outputs": [
    {
     "data": {
      "text/plain": [
       "500"
      ]
     },
     "execution_count": 86,
     "metadata": {},
     "output_type": "execute_result"
    }
   ],
   "source": [
    "max(10, 20, 30, 40, 500, 60)"
   ]
  },
  {
   "cell_type": "markdown",
   "metadata": {},
   "source": [
    "Temos também a função **min()**, utilizada para retornar o menor valor:"
   ]
  },
  {
   "cell_type": "code",
   "execution_count": 87,
   "metadata": {},
   "outputs": [
    {
     "data": {
      "text/plain": [
       "10"
      ]
     },
     "execution_count": 87,
     "metadata": {},
     "output_type": "execute_result"
    }
   ],
   "source": [
    "min(10, 20, 30, 40, 500, 60)"
   ]
  },
  {
   "cell_type": "markdown",
   "metadata": {},
   "source": [
    "A funçao **abs()** nos retorna o valor absoluto de um número:"
   ]
  },
  {
   "cell_type": "code",
   "execution_count": 88,
   "metadata": {},
   "outputs": [
    {
     "data": {
      "text/plain": [
       "20"
      ]
     },
     "execution_count": 88,
     "metadata": {},
     "output_type": "execute_result"
    }
   ],
   "source": [
    "z = -20\n",
    "abs(z)"
   ]
  },
  {
   "cell_type": "markdown",
   "metadata": {},
   "source": [
    "Veja que ao chamarmos a função com a variável \"z\" de argumento, com um valor negativo atribuído a esta, será retornado o valor absoluto do número atribuído a \"z\"."
   ]
  },
  {
   "cell_type": "markdown",
   "metadata": {},
   "source": [
    "A função **sum()** soma todos os valores contidos em uma lista (Listas serão explicadas posteriormente):"
   ]
  },
  {
   "cell_type": "code",
   "execution_count": 89,
   "metadata": {},
   "outputs": [],
   "source": [
    "lista_1 = [1, 2, 5, 7, 9, 567]"
   ]
  },
  {
   "cell_type": "code",
   "execution_count": 90,
   "metadata": {},
   "outputs": [
    {
     "data": {
      "text/plain": [
       "591"
      ]
     },
     "execution_count": 90,
     "metadata": {},
     "output_type": "execute_result"
    }
   ],
   "source": [
    "sum(lista_1)"
   ]
  },
  {
   "cell_type": "markdown",
   "metadata": {},
   "source": [
    "A função **round(x, y)** nos retorna uma float baseada no argumento x, arredondada para um número específico de dígitos após a vírgula, de acordo com o argumento y. Veja:"
   ]
  },
  {
   "cell_type": "code",
   "execution_count": 91,
   "metadata": {},
   "outputs": [],
   "source": [
    "x = 5.9189301839839183\n",
    "y = 3"
   ]
  },
  {
   "cell_type": "code",
   "execution_count": 92,
   "metadata": {},
   "outputs": [
    {
     "data": {
      "text/plain": [
       "5.919"
      ]
     },
     "execution_count": 92,
     "metadata": {},
     "output_type": "execute_result"
    }
   ],
   "source": [
    "round(x, y)"
   ]
  },
  {
   "cell_type": "markdown",
   "metadata": {},
   "source": [
    "A função **pow(x, y)** nos retorna x elevado a yésima potência:"
   ]
  },
  {
   "cell_type": "code",
   "execution_count": 93,
   "metadata": {},
   "outputs": [
    {
     "data": {
      "text/plain": [
       "125"
      ]
     },
     "execution_count": 93,
     "metadata": {},
     "output_type": "execute_result"
    }
   ],
   "source": [
    "pow(5, 3)"
   ]
  },
  {
   "cell_type": "markdown",
   "metadata": {},
   "source": [
    "A função **len()** nos retorna a quantidade de elementos em um determinado objeto:"
   ]
  },
  {
   "cell_type": "code",
   "execution_count": 94,
   "metadata": {},
   "outputs": [
    {
     "data": {
      "text/plain": [
       "4"
      ]
     },
     "execution_count": 94,
     "metadata": {},
     "output_type": "execute_result"
    }
   ],
   "source": [
    "len('Joao')"
   ]
  },
  {
   "cell_type": "markdown",
   "metadata": {},
   "source": [
    "Isso significa que há 4 elementos (letras) na string 'Joao'"
   ]
  },
  {
   "cell_type": "markdown",
   "metadata": {},
   "source": [
    "Há diversas outras funções embutidas em Python, abordarei mais algumas no decorrer deste material e explicarei conforme falar sobre elas, porém essas são algumas das principais, utilizadas frequentemente em análise de dados e aplicações diversas mais avançadas."
   ]
  },
  {
   "cell_type": "markdown",
   "metadata": {},
   "source": [
    "## Listas\n",
    "\n",
    "Agora que vimos sobre funções, afirmações condicionais e etc. Vamos partir para **Listas**. Listas nada mais são do que coleções de dados, que possui uma sequência e é mutável. Em listas, podemos enumerar os diversos tipos de variáveis mencionadas. A sintaxe para definir listas é a seguinte:"
   ]
  },
  {
   "cell_type": "markdown",
   "metadata": {},
   "source": [
    "*Lista = [X1, X2, X3, X4]*"
   ]
  },
  {
   "cell_type": "markdown",
   "metadata": {},
   "source": [
    "Ou seja, a definição de uma lista em si é como qualquer outra variavel (colocando o nome de uma variável e utilizando \"=\"), mas note que os elementos de uma lista são colocados entre colchetes. Veja uma lista com strings dentro:"
   ]
  },
  {
   "cell_type": "code",
   "execution_count": 95,
   "metadata": {},
   "outputs": [],
   "source": [
    "nomes = ['Joao', 'Gabi', 'Maria', 'Jose']"
   ]
  },
  {
   "cell_type": "markdown",
   "metadata": {},
   "source": [
    "Agora, assim como indexamos previamente as strings, podemos utilizar a mesma lógica para indexar elementos da lista. Veja:"
   ]
  },
  {
   "cell_type": "code",
   "execution_count": 96,
   "metadata": {},
   "outputs": [
    {
     "data": {
      "text/plain": [
       "'Gabi'"
      ]
     },
     "execution_count": 96,
     "metadata": {},
     "output_type": "execute_result"
    }
   ],
   "source": [
    "nomes[1]"
   ]
  },
  {
   "cell_type": "markdown",
   "metadata": {},
   "source": [
    "Obs.: Lembre-se que em Python começamos a contar a partir do 0!"
   ]
  },
  {
   "cell_type": "code",
   "execution_count": 97,
   "metadata": {},
   "outputs": [
    {
     "data": {
      "text/plain": [
       "'Jose'"
      ]
     },
     "execution_count": 97,
     "metadata": {},
     "output_type": "execute_result"
    }
   ],
   "source": [
    "nomes[-1]"
   ]
  },
  {
   "cell_type": "markdown",
   "metadata": {},
   "source": [
    "E que podemos contar de trás pra frente a partir do -1!"
   ]
  },
  {
   "cell_type": "markdown",
   "metadata": {},
   "source": [
    "Veja que no início da seção de Listas eu mencionei que as listas são coleções mutáveis. <br> Isso se dá porque podemos apagar elementos de listas, trocá-los etc. Veja como, por exemplo, eu posso trocar o nome \"Jose\" por \"Luis\":"
   ]
  },
  {
   "cell_type": "code",
   "execution_count": 98,
   "metadata": {},
   "outputs": [
    {
     "name": "stdout",
     "output_type": "stream",
     "text": [
      "['Joao', 'Gabi', 'Maria', 'Luis']\n"
     ]
    }
   ],
   "source": [
    "nomes[3] = 'Luis'\n",
    "print(nomes)"
   ]
  },
  {
   "cell_type": "markdown",
   "metadata": {},
   "source": [
    "Ao indexar o nome 'Jose', que seria o elemento de index 3 na lista 'nomes', eu posso atribuir uma nova string nesta posição, assim substituindo a string anterior, basta eu utilizar \"=\". Após isso, utilizei o comando \"print\", para ver como ficou a lista após a minha alteração."
   ]
  },
  {
   "cell_type": "markdown",
   "metadata": {},
   "source": [
    "Se eu quiser simplesmente remover um nome da lista, eu posso utilizar o seguinte comando **del()**:"
   ]
  },
  {
   "cell_type": "code",
   "execution_count": 99,
   "metadata": {},
   "outputs": [
    {
     "name": "stdout",
     "output_type": "stream",
     "text": [
      "['Joao', 'Gabi', 'Luis']\n"
     ]
    }
   ],
   "source": [
    "del(nomes[2])\n",
    "print(nomes)"
   ]
  },
  {
   "cell_type": "markdown",
   "metadata": {},
   "source": [
    "Note que quando se utiliza o comando **del()** os índices de outros elementos da lista podem mudar!"
   ]
  },
  {
   "cell_type": "markdown",
   "metadata": {},
   "source": [
    "### Métodos\n",
    "Agora que estamos falando sobre listas é um bom momento para explicar o que são métodos <br> <br> **Métodos** funcionam como funções, porém, devem ser chamados na instância de um objeto, e são criados dentro de classes. Sim, eu sei que isso pode ter parecido confuso e que você pode não ter entendido nada. Mas vamos por partes. <br> <br> Métodos funcionam como funções porque, na verdade, em última instância acabam tendo a mesma finalidade, porém os métodos são chamados em seu código de forma diferente e fazem parte de uma classe (Classes são outro tipo de objeto em Python que poderemos abordar mais pra frente, não tem sentido falarmos sobre isso no momento). E assim como funções, o Python possui uma diversa gama de métodos já embutidos, que abordaremos em breve. Para chamar um método, no caso, estamos falando de listas, basta utilizar a sintaxe:"
   ]
  },
  {
   "cell_type": "markdown",
   "metadata": {},
   "source": [
    "*lista.método*"
   ]
  },
  {
   "cell_type": "markdown",
   "metadata": {},
   "source": [
    "Basta especificar o objeto (no caso, uma lista) no qual você quer realizar o método e utlizar um \".\" (é o chamado **dot operator**, que, como o nome diz, é o operator utilizado quando queremos chamar um método) antes de chamar o método. Vamos ver exemplos práticos que acredito que isso possa ser relativamente intuitivo:"
   ]
  },
  {
   "cell_type": "markdown",
   "metadata": {},
   "source": [
    "Vamos supor que queremos agora adicionar um nome ('Jorge') a nossa lista \"nomes\", para isso, contamos com a utilização do método **append()**:"
   ]
  },
  {
   "cell_type": "code",
   "execution_count": 100,
   "metadata": {},
   "outputs": [],
   "source": [
    "nomes.append(\"Jorge\")"
   ]
  },
  {
   "cell_type": "code",
   "execution_count": 101,
   "metadata": {},
   "outputs": [
    {
     "name": "stdout",
     "output_type": "stream",
     "text": [
      "['Joao', 'Gabi', 'Luis', 'Jorge']\n"
     ]
    }
   ],
   "source": [
    "print(nomes)"
   ]
  },
  {
   "cell_type": "markdown",
   "metadata": {},
   "source": [
    "Veja que agora nossa lista conta com um novo nome!"
   ]
  },
  {
   "cell_type": "markdown",
   "metadata": {},
   "source": [
    "Outra forma de adicionar nomes, seria utilizando o método **extend()**. A diferença deste pro append, é que no append, estamos acrescentando elemento por elemento a uma lista já existente, pela utilização do **extend()** é como se extendessemos a nossa lista com outra lista, ou seja, antes, como argumento da função append, utilizamos diretamente o string, agora, com o **extend()**, utilizamos uma outra lista como argumento. Veja:"
   ]
  },
  {
   "cell_type": "code",
   "execution_count": 102,
   "metadata": {},
   "outputs": [
    {
     "name": "stdout",
     "output_type": "stream",
     "text": [
      "['Joao', 'Gabi', 'Luis', 'Jorge', 'Victor', 'Pedro']\n"
     ]
    }
   ],
   "source": [
    "nomes.extend(['Victor', 'Pedro'])\n",
    "print(nomes)"
   ]
  },
  {
   "cell_type": "markdown",
   "metadata": {},
   "source": [
    "Se eu quiser saber o índice de um elemento, posso utilizar o método **index()**:"
   ]
  },
  {
   "cell_type": "code",
   "execution_count": 103,
   "metadata": {},
   "outputs": [
    {
     "data": {
      "text/plain": [
       "1"
      ]
     },
     "execution_count": 103,
     "metadata": {},
     "output_type": "execute_result"
    }
   ],
   "source": [
    "nomes.index('Gabi')"
   ]
  },
  {
   "cell_type": "markdown",
   "metadata": {},
   "source": [
    "Podemos organizar os nomes em nossa lista em ordem alfabética pelo método **sort()**:"
   ]
  },
  {
   "cell_type": "code",
   "execution_count": 104,
   "metadata": {},
   "outputs": [
    {
     "name": "stdout",
     "output_type": "stream",
     "text": [
      "['Gabi', 'Joao', 'Jorge', 'Luis', 'Pedro', 'Victor']\n"
     ]
    }
   ],
   "source": [
    "nomes.sort()\n",
    "print(nomes)"
   ]
  },
  {
   "cell_type": "markdown",
   "metadata": {},
   "source": [
    "Se utilizarmos o argumento \"reverse=True\" no método **sort()**, podemos colocar em ordem reversa:"
   ]
  },
  {
   "cell_type": "code",
   "execution_count": 105,
   "metadata": {},
   "outputs": [
    {
     "name": "stdout",
     "output_type": "stream",
     "text": [
      "['Victor', 'Pedro', 'Luis', 'Jorge', 'Joao', 'Gabi']\n"
     ]
    }
   ],
   "source": [
    "nomes.sort(reverse=True)\n",
    "print(nomes)"
   ]
  },
  {
   "cell_type": "markdown",
   "metadata": {},
   "source": [
    "O objeto lista e o Python como um todo possuem diversos métodos e, na maioria das vezes, muitos parâmetros opcionais! Procure-os e tente aplicá-los como treinamento, são métodos bem úteis que podem ser utilizados nas mais diversas aplicações!"
   ]
  },
  {
   "cell_type": "markdown",
   "metadata": {},
   "source": [
    "### List Comprehension\n",
    "\n",
    "Exise uma maneira diferente de criar uma lista que vale menção e pode se tornar bem útil dependendo do código que você esteja fazendo. Esta maneira é chamada de **List Comprehension**. Primeiro vou mostrar como podemos criar a lista y de uma forma mais simples, com um Loop simples e utilizando o método **append**."
   ]
  },
  {
   "cell_type": "code",
   "execution_count": 6,
   "metadata": {},
   "outputs": [
    {
     "name": "stdout",
     "output_type": "stream",
     "text": [
      "[1, 4, 9, 16]\n"
     ]
    }
   ],
   "source": [
    "x = [1, 2, 3, 4]\n",
    "y = []\n",
    "\n",
    "for item in x:\n",
    "    y.append(item**2)\n",
    "print(y)"
   ]
  },
  {
   "cell_type": "markdown",
   "metadata": {},
   "source": [
    "Veja que criei uma lista vazia chamada y e por meio do método **append** consegui adicionar todos os elementos de x elevados ao quadrado. Agora, vou fazer o mesmo, por meio de list comprehension:"
   ]
  },
  {
   "cell_type": "code",
   "execution_count": 7,
   "metadata": {},
   "outputs": [],
   "source": [
    "x = [1, 2, 3, 4]\n",
    "y = []"
   ]
  },
  {
   "cell_type": "code",
   "execution_count": 8,
   "metadata": {},
   "outputs": [],
   "source": [
    "y = [item**2 for item in x]"
   ]
  },
  {
   "cell_type": "code",
   "execution_count": 9,
   "metadata": {},
   "outputs": [
    {
     "name": "stdout",
     "output_type": "stream",
     "text": [
      "[1, 4, 9, 16]\n"
     ]
    }
   ],
   "source": [
    "print(y)"
   ]
  },
  {
   "cell_type": "markdown",
   "metadata": {},
   "source": [
    "List comprehension funciona, de certa forma, igual a um loop como qualquer outro, porém a ordem dos itens se inverte. Primeiramente escrevemos o que queremos, que seriam os elementos de x elevados ao quadrado, iterando pelos elementos na lista x. <br><br> \n",
    "\n",
    "Pelo menos pra mim isso foi de difícil compreensão no início, então não se sinta mal em simplesmente aceitar isso no momento e ir praticando pra entender melhor. E, no final das contas, acredito que isso pode ser substituído pelos loops em quase que qualquer momento."
   ]
  },
  {
   "cell_type": "markdown",
   "metadata": {},
   "source": [
    "### Slicing:\n",
    "Vamos falar agora de **list slicing**. Dependendo do código com o qual estiver trabalhando, pode ser que sua lista fique bem extensa, slicing serve justamente pra isso, extrairmos justamente elementos específicos de uma lista. Vamos supor que eu queira apenas saber quais são os nomes referentes aos índices 1 e 2. Eu faço isso da seguinte forma:"
   ]
  },
  {
   "cell_type": "code",
   "execution_count": 106,
   "metadata": {},
   "outputs": [
    {
     "name": "stdout",
     "output_type": "stream",
     "text": [
      "['Pedro', 'Luis']\n"
     ]
    }
   ],
   "source": [
    "print(nomes[1:3])"
   ]
  },
  {
   "cell_type": "markdown",
   "metadata": {},
   "source": [
    "Ou seja, o que eu fiz acima foi semelhante a uma indexação, porém é como se eu tivesse indexado um intervalo! Começando e incluindo o elemento no índice de número 1, e terminando e excluindo o índice de número 3."
   ]
  },
  {
   "cell_type": "markdown",
   "metadata": {},
   "source": [
    "Agora se eu quiser os dois primeiros nomes, eu posso simplesmente não especificar o início do intervalo, que o Python presume o índice 0:"
   ]
  },
  {
   "cell_type": "code",
   "execution_count": 107,
   "metadata": {},
   "outputs": [
    {
     "name": "stdout",
     "output_type": "stream",
     "text": [
      "['Victor', 'Pedro']\n"
     ]
    }
   ],
   "source": [
    "print(nomes[:2])"
   ]
  },
  {
   "cell_type": "markdown",
   "metadata": {},
   "source": [
    "Se eu quiser os dois últimos, é como se eu fizesse o contrário de querer os dois primeiros, eu na verdade especifico apenas o primeiro índice do intervalo e atribuo a ele um valor negativo, pois, é como se eu estivesse contando de trás pra frente:"
   ]
  },
  {
   "cell_type": "code",
   "execution_count": 108,
   "metadata": {},
   "outputs": [
    {
     "name": "stdout",
     "output_type": "stream",
     "text": [
      "['Joao', 'Gabi']\n"
     ]
    }
   ],
   "source": [
    "print(nomes[-2:])"
   ]
  },
  {
   "cell_type": "markdown",
   "metadata": {},
   "source": [
    "## Tuples\n",
    "Vamos agora falar de **Tuples**, que são outro objeto em Python, funcionam praticamente iguais às Listas, em termos de armazenar valores e indexação, porém as Tuples são imutáveis! Não podemos deletar elementos, append etc... <br> <br> Tuple é o tipo de coleção default em Python, então por exemplo, vou definir uma variável sem utilizar colchetes e veja o tipo dela:"
   ]
  },
  {
   "cell_type": "code",
   "execution_count": 109,
   "metadata": {},
   "outputs": [
    {
     "data": {
      "text/plain": [
       "tuple"
      ]
     },
     "execution_count": 109,
     "metadata": {},
     "output_type": "execute_result"
    }
   ],
   "source": [
    "y = 1, 2, 3, 4, 5\n",
    "type(y)"
   ]
  },
  {
   "cell_type": "markdown",
   "metadata": {},
   "source": [
    "Se eu quiser intencionalmente definir uma Tuple, a única diferença pras listas é que a Tuple, em vez de ser definida entre colchetes, é definida entre parênteses:"
   ]
  },
  {
   "cell_type": "code",
   "execution_count": 110,
   "metadata": {},
   "outputs": [
    {
     "data": {
      "text/plain": [
       "tuple"
      ]
     },
     "execution_count": 110,
     "metadata": {},
     "output_type": "execute_result"
    }
   ],
   "source": [
    "tuple_nomes = ('Joao', 'Gabi', 'Jose')\n",
    "type(tuple_nomes)"
   ]
  },
  {
   "cell_type": "markdown",
   "metadata": {},
   "source": [
    "Algo que podemos fazer com tuples é o chamado **tuple assignment** (também chamado de **tuple unpacking**) que é quando definimos mais de uma variável por meio de tuples antes e depois do \"=\":"
   ]
  },
  {
   "cell_type": "code",
   "execution_count": 111,
   "metadata": {},
   "outputs": [
    {
     "name": "stdout",
     "output_type": "stream",
     "text": [
      "1\n",
      "2\n",
      "3\n"
     ]
    }
   ],
   "source": [
    "a, b, c = 1, 2, 3\n",
    "print(a)\n",
    "print(b)\n",
    "print(c)"
   ]
  },
  {
   "cell_type": "markdown",
   "metadata": {},
   "source": [
    "Veja a utilização do método **split()** ao realizar um tuple assingment. O método split é utilizado para separar valores dentro de uma string baseado em um caracter específico dado como argumento. Veja:"
   ]
  },
  {
   "cell_type": "code",
   "execution_count": 112,
   "metadata": {},
   "outputs": [
    {
     "name": "stdout",
     "output_type": "stream",
     "text": [
      "Joao tem 30 anos de idade e estudou por 16 anos!\n"
     ]
    }
   ],
   "source": [
    "idade, anos_educ = \"30,16\".split(\",\")\n",
    "print(\"Joao tem \" + idade + \" anos de idade e estudou por \" + anos_educ + \" anos!\")"
   ]
  },
  {
   "cell_type": "markdown",
   "metadata": {},
   "source": [
    "## Dicionários\n",
    "Agora que já vimos o que são listas e tuples. Vamos falar sobre dicionários, que são uma outra maneira de guardar dados em Python, se trata de uma coleção que não é ordenada, é mutável e, diferente de listas, cada elemento do dicionário possui uma **chave**. Veja a sintaxe:"
   ]
  },
  {
   "cell_type": "markdown",
   "metadata": {},
   "source": [
    "*dicionário = {chave1 : elemento1, chave2: elemento2... }*"
   ]
  },
  {
   "cell_type": "markdown",
   "metadata": {},
   "source": [
    "Podemos criar por exemplo, um dicionário no qual as chaves são nomes de empresas, e os elementos são os seus preços de ações:"
   ]
  },
  {
   "cell_type": "code",
   "execution_count": 113,
   "metadata": {},
   "outputs": [],
   "source": [
    "dicionário = {'Empresa1' : 35, 'Empresa2' : 42, 'Empresa3' : 23}"
   ]
  },
  {
   "cell_type": "markdown",
   "metadata": {},
   "source": [
    "Para eu obter um valor do dicionário, em vez de eu fornecer o índice do elemento que eu quero, basta eu especificar sua key:"
   ]
  },
  {
   "cell_type": "code",
   "execution_count": 114,
   "metadata": {},
   "outputs": [
    {
     "name": "stdout",
     "output_type": "stream",
     "text": [
      "35\n"
     ]
    }
   ],
   "source": [
    "print(dicionário['Empresa1'])"
   ]
  },
  {
   "cell_type": "markdown",
   "metadata": {},
   "source": [
    "Ou eu posso usar o método **get()**:"
   ]
  },
  {
   "cell_type": "code",
   "execution_count": 115,
   "metadata": {},
   "outputs": [
    {
     "name": "stdout",
     "output_type": "stream",
     "text": [
      "35\n"
     ]
    }
   ],
   "source": [
    "print(dicionário.get('Empresa1'))"
   ]
  },
  {
   "cell_type": "markdown",
   "metadata": {},
   "source": [
    "Note que ao utilizar o método **get()** eu coloco a chave do dicionário entre parênteses, como argumento do método e não entre colchetes, que seria semelhante à forma de indexar o elemento de uma lista, por exemplo. <br> A diferença entre eu utilizar o método **get()** ou simplesmente digitar a chave entre colchetes seria ao tentar buscar uma chave que não existe no dicionário, se eu fizer sem o método, será me retornado um erro, se eu utilizar o método, ná verdade o Python me retorna \"None\". Veja:"
   ]
  },
  {
   "cell_type": "code",
   "execution_count": 116,
   "metadata": {},
   "outputs": [
    {
     "ename": "KeyError",
     "evalue": "'Empresa4'",
     "output_type": "error",
     "traceback": [
      "\u001b[1;31m---------------------------------------------------------------------------\u001b[0m",
      "\u001b[1;31mKeyError\u001b[0m                                  Traceback (most recent call last)",
      "\u001b[1;32m<ipython-input-116-805e491e1bc6>\u001b[0m in \u001b[0;36m<module>\u001b[1;34m\u001b[0m\n\u001b[1;32m----> 1\u001b[1;33m \u001b[0mprint\u001b[0m\u001b[1;33m(\u001b[0m\u001b[0mdicionário\u001b[0m\u001b[1;33m[\u001b[0m\u001b[1;34m'Empresa4'\u001b[0m\u001b[1;33m]\u001b[0m\u001b[1;33m)\u001b[0m\u001b[1;33m\u001b[0m\u001b[1;33m\u001b[0m\u001b[0m\n\u001b[0m",
      "\u001b[1;31mKeyError\u001b[0m: 'Empresa4'"
     ]
    }
   ],
   "source": [
    "print(dicionário['Empresa4'])"
   ]
  },
  {
   "cell_type": "code",
   "execution_count": 117,
   "metadata": {},
   "outputs": [
    {
     "name": "stdout",
     "output_type": "stream",
     "text": [
      "None\n"
     ]
    }
   ],
   "source": [
    "print(dicionário.get('Empresa4'))"
   ]
  },
  {
   "cell_type": "markdown",
   "metadata": {},
   "source": [
    "## Iteração\n",
    "\n",
    "Tendo em vista que falamos de algumas maneiras de armazenar dados por meios de coleções, agora vamos falar sobre iteração, que será uma forma pela qual você comumente vai manipular os seus dados. <br> A iteração é a habilidade de executar um código repetidamente por algum número de vezes."
   ]
  },
  {
   "cell_type": "markdown",
   "metadata": {},
   "source": [
    "### For Loops:\n",
    "\n",
    "As iterações são realizadas pelo que chamamos de **loops**, o tipo de **loop** que abordaremos primeiro são os chamados **For Loops**. Eles são utilizados para iterar por uma sequência pré-determinada (isso pode ser uma lista, tuple, dicionário ou até mesmo uma string). Veja um exemplo simples:"
   ]
  },
  {
   "cell_type": "code",
   "execution_count": 118,
   "metadata": {},
   "outputs": [],
   "source": [
    "lista = [0, 1, 2, 3, 4, 5, 6, 7, 8, 9, 10]"
   ]
  },
  {
   "cell_type": "markdown",
   "metadata": {},
   "source": [
    "O que fiz acima foi apenas criar uma lista, assim tendo uma sequência pela qual vou fazer uma iteração, veja abaixo:"
   ]
  },
  {
   "cell_type": "code",
   "execution_count": 119,
   "metadata": {},
   "outputs": [
    {
     "name": "stdout",
     "output_type": "stream",
     "text": [
      "0\n",
      "1\n",
      "2\n",
      "3\n",
      "4\n",
      "5\n",
      "6\n",
      "7\n",
      "8\n",
      "9\n",
      "10\n"
     ]
    }
   ],
   "source": [
    "for numero in lista:\n",
    "    print(numero)"
   ]
  },
  {
   "cell_type": "markdown",
   "metadata": {},
   "source": [
    "O que fiz acima foi: <br> <br> Criei um **For Loop** para iterar por cada elemento na minha lista, e para cada elemento, rodar o código que é a função print com o próprio elemento como argumento! O computador, para cada elemento que encontrar na lista, vai rodar o código que está dentro do corpo do loop."
   ]
  },
  {
   "cell_type": "markdown",
   "metadata": {},
   "source": [
    "Note que chamei o elemento da lista de \"numero\", este é o **loop variable** e você pode dar o nome que desejar. "
   ]
  },
  {
   "cell_type": "markdown",
   "metadata": {},
   "source": [
    "Vamos agora fazer uma variação do código acima e misturar com o conceito de IF statements. <br> <br> Supomos que eu queria imprimir apenas os números pares contidos na minha lista, veja como eu posso fazer isso:"
   ]
  },
  {
   "cell_type": "code",
   "execution_count": 120,
   "metadata": {},
   "outputs": [
    {
     "name": "stdout",
     "output_type": "stream",
     "text": [
      "0\n",
      "2\n",
      "4\n",
      "6\n",
      "8\n",
      "10\n"
     ]
    }
   ],
   "source": [
    "for n in lista:\n",
    "    if n % 2 == 0:\n",
    "        print(n)"
   ]
  },
  {
   "cell_type": "markdown",
   "metadata": {},
   "source": [
    "Obs.: lembre de como funciona o operador Modulus, explicado anteriormente neste material! <br> A lógica é a seguinte: se a divisão do elemento por dois tiver como resto 0, então este número é par e deve ser impresso."
   ]
  },
  {
   "cell_type": "markdown",
   "metadata": {},
   "source": [
    "### While Loops:\n",
    "Uma outra forma de você realizar loops em Python, é por meio dos chamados **While Loops**. O resultado obtido, em vários casos pode ser exatamente o mesmo quando utiliza-se os For Loops, porém, dependendo da aplicação, pode ser mais eficiente usar um ou outro. <br> <br> Vou mostrar como utilizá-lo, buscando obter exatamente o mesmo resultado acima, e em seguida explico:"
   ]
  },
  {
   "cell_type": "code",
   "execution_count": 121,
   "metadata": {},
   "outputs": [
    {
     "name": "stdout",
     "output_type": "stream",
     "text": [
      "0\n",
      "2\n",
      "4\n",
      "6\n",
      "8\n",
      "10\n"
     ]
    }
   ],
   "source": [
    "x = 0\n",
    "while x <= 10:\n",
    "    print(x)\n",
    "    x += 2"
   ]
  },
  {
   "cell_type": "markdown",
   "metadata": {},
   "source": [
    "O que eu fiz acima foi o seguinte: \n",
    "- Eu criei uma variável chamada \"x\" e atribui à ela o valor 0.\n",
    "- Depois eu criei um While Loop, para que, enquanto x for menor ou igual a 10, o computador deve rodar a função print utilizando x como argumento\n",
    "- Dentro do mesmo loop, logo após imprimir eu realizei o que é chamado de **incremento**, e adicionei 2, ao valor de x"
   ]
  },
  {
   "cell_type": "markdown",
   "metadata": {},
   "source": [
    "Observe que o resultado utilizando o for loop e o while loop foi exatamente o mesmo, porém a aplicação destes foi bem diferente. E isso de fato vai depender do código que você está criando, qual será mais eficiente na sua aplicação!"
   ]
  },
  {
   "cell_type": "markdown",
   "metadata": {},
   "source": [
    "### Função Range:\n",
    "Uma função também importante em Python e que se aplica muito bem quando estamos falando de loops é a função **range()**. Que é utilizada justamente para gerar um intervalo de números inteiros. <br> <br> A função range admite um início do intervalo, um fim e um \"step\" como argumento, e quando utilizada por si só em Python 3, nos retorna um objeto **range** mesmo. Veja e vou explicando:"
   ]
  },
  {
   "cell_type": "code",
   "execution_count": 1,
   "metadata": {},
   "outputs": [
    {
     "name": "stdout",
     "output_type": "stream",
     "text": [
      "Help on class range in module builtins:\n",
      "\n",
      "class range(object)\n",
      " |  range(stop) -> range object\n",
      " |  range(start, stop[, step]) -> range object\n",
      " |  \n",
      " |  Return an object that produces a sequence of integers from start (inclusive)\n",
      " |  to stop (exclusive) by step.  range(i, j) produces i, i+1, i+2, ..., j-1.\n",
      " |  start defaults to 0, and stop is omitted!  range(4) produces 0, 1, 2, 3.\n",
      " |  These are exactly the valid indices for a list of 4 elements.\n",
      " |  When step is given, it specifies the increment (or decrement).\n",
      " |  \n",
      " |  Methods defined here:\n",
      " |  \n",
      " |  __bool__(self, /)\n",
      " |      self != 0\n",
      " |  \n",
      " |  __contains__(self, key, /)\n",
      " |      Return key in self.\n",
      " |  \n",
      " |  __eq__(self, value, /)\n",
      " |      Return self==value.\n",
      " |  \n",
      " |  __ge__(self, value, /)\n",
      " |      Return self>=value.\n",
      " |  \n",
      " |  __getattribute__(self, name, /)\n",
      " |      Return getattr(self, name).\n",
      " |  \n",
      " |  __getitem__(self, key, /)\n",
      " |      Return self[key].\n",
      " |  \n",
      " |  __gt__(self, value, /)\n",
      " |      Return self>value.\n",
      " |  \n",
      " |  __hash__(self, /)\n",
      " |      Return hash(self).\n",
      " |  \n",
      " |  __iter__(self, /)\n",
      " |      Implement iter(self).\n",
      " |  \n",
      " |  __le__(self, value, /)\n",
      " |      Return self<=value.\n",
      " |  \n",
      " |  __len__(self, /)\n",
      " |      Return len(self).\n",
      " |  \n",
      " |  __lt__(self, value, /)\n",
      " |      Return self<value.\n",
      " |  \n",
      " |  __ne__(self, value, /)\n",
      " |      Return self!=value.\n",
      " |  \n",
      " |  __reduce__(...)\n",
      " |      Helper for pickle.\n",
      " |  \n",
      " |  __repr__(self, /)\n",
      " |      Return repr(self).\n",
      " |  \n",
      " |  __reversed__(...)\n",
      " |      Return a reverse iterator.\n",
      " |  \n",
      " |  count(...)\n",
      " |      rangeobject.count(value) -> integer -- return number of occurrences of value\n",
      " |  \n",
      " |  index(...)\n",
      " |      rangeobject.index(value) -> integer -- return index of value.\n",
      " |      Raise ValueError if the value is not present.\n",
      " |  \n",
      " |  ----------------------------------------------------------------------\n",
      " |  Static methods defined here:\n",
      " |  \n",
      " |  __new__(*args, **kwargs) from builtins.type\n",
      " |      Create and return a new object.  See help(type) for accurate signature.\n",
      " |  \n",
      " |  ----------------------------------------------------------------------\n",
      " |  Data descriptors defined here:\n",
      " |  \n",
      " |  start\n",
      " |  \n",
      " |  step\n",
      " |  \n",
      " |  stop\n",
      "\n"
     ]
    }
   ],
   "source": [
    "help(range)"
   ]
  },
  {
   "cell_type": "code",
   "execution_count": 122,
   "metadata": {},
   "outputs": [
    {
     "data": {
      "text/plain": [
       "range(0, 10)"
      ]
     },
     "execution_count": 122,
     "metadata": {},
     "output_type": "execute_result"
    }
   ],
   "source": [
    "range(0, 10, 1)"
   ]
  },
  {
   "cell_type": "markdown",
   "metadata": {},
   "source": [
    "Interprete o input que eu dei acima da seguinte forma: Criar um intervalo que começa do 0, possui 10 elementos, e avance de elemento em elemento (1 por 1). Uma coisa que podemos fazer com ranges, é convertê-los em listas, então por exemplo, a lista que eu havia criado manualmente anteriormente de 0 a 10, poderia ser facilmente feita da seguinte forma:"
   ]
  },
  {
   "cell_type": "code",
   "execution_count": 123,
   "metadata": {},
   "outputs": [
    {
     "name": "stdout",
     "output_type": "stream",
     "text": [
      "[0, 1, 2, 3, 4, 5, 6, 7, 8, 9, 10]\n"
     ]
    }
   ],
   "source": [
    "lista_0_a_10 = list(range(0, 11))\n",
    "print(lista_0_a_10)"
   ]
  },
  {
   "cell_type": "markdown",
   "metadata": {},
   "source": [
    "Note que eu não coloquei o argumento *\"step\"* na função acima, isso porque esse argumento é opcional, assim como o *start*, isso porque são opcionais, sendo que quando não inseridos, o step se torna automaticamente 1, e o start automaticamente 0, veja como eu posso fazer sem o start, mas agora colocando o step:"
   ]
  },
  {
   "cell_type": "code",
   "execution_count": 124,
   "metadata": {},
   "outputs": [
    {
     "name": "stdout",
     "output_type": "stream",
     "text": [
      "[0, 1, 2, 3, 4, 5, 6, 7, 8, 9, 10]\n"
     ]
    }
   ],
   "source": [
    "lista_0_a_10 = list(range(11))\n",
    "print(lista_0_a_10)"
   ]
  },
  {
   "cell_type": "markdown",
   "metadata": {},
   "source": [
    "Se eu quiser só números pares, basta eu colocar um step de 2:"
   ]
  },
  {
   "cell_type": "code",
   "execution_count": 125,
   "metadata": {},
   "outputs": [
    {
     "name": "stdout",
     "output_type": "stream",
     "text": [
      "[0, 2, 4, 6, 8, 10]\n"
     ]
    }
   ],
   "source": [
    "lista_pares = list(range(0, 11, 2))\n",
    "print(lista_pares)"
   ]
  },
  {
   "cell_type": "markdown",
   "metadata": {},
   "source": [
    "Obs.: Apenas para tornar as coisas mais fáceis, sempre que for especificar o argumento step, coloque também o start, mesmo que este seja 0, para que o Python interprete os argumentos de forma correta. Porque, se tentar apenas colocar o Stop e o Step, o Python interpretará estes, respectivamente como Start e Stop, isto se dá por conta da maneira como a função foi construída e a ordem pela qual os parâmetros devem ser apresentados."
   ]
  },
  {
   "cell_type": "markdown",
   "metadata": {},
   "source": [
    "Ok, agora que mostrei como a função range pode ser utilizada para criar listas, vou mostrar como podemos utilizar esta função em Loops (mais especificamente, no **For Loop**), para obter o mesmo resultado de imprimir números pares entre 0 e 10:"
   ]
  },
  {
   "cell_type": "code",
   "execution_count": 126,
   "metadata": {},
   "outputs": [
    {
     "name": "stdout",
     "output_type": "stream",
     "text": [
      "0\n",
      "2\n",
      "4\n",
      "6\n",
      "8\n",
      "10\n"
     ]
    }
   ],
   "source": [
    "for x in range(11):\n",
    "    if x % 2 == 0:\n",
    "        print(x)"
   ]
  },
  {
   "cell_type": "markdown",
   "metadata": {},
   "source": [
    "Veja que consegui obter exatamente o mesmo resultado! <br> <br> Interprete esse *range(11)* como se fosse exatamente aquela lista de 0 a 10 que eu havia criado anteriormente. <br> <br> Há uma outra maneira de utilizar o range em loops, e, agora, misturando com o conceito de listas também. Isto, inicialmente parecerá muito desnecessariamente confuso, porém, pode ser útil em aplicações mais complexas. Veja:"
   ]
  },
  {
   "cell_type": "code",
   "execution_count": 127,
   "metadata": {},
   "outputs": [],
   "source": [
    "lista_x = [0, 1, 2, 3]"
   ]
  },
  {
   "cell_type": "markdown",
   "metadata": {},
   "source": [
    "Acima, apenas criei uma lista, e a forma mais simples de imprimir os elementos contidos nela seria:"
   ]
  },
  {
   "cell_type": "code",
   "execution_count": 128,
   "metadata": {},
   "outputs": [
    {
     "name": "stdout",
     "output_type": "stream",
     "text": [
      "0\n",
      "1\n",
      "2\n",
      "3\n"
     ]
    }
   ],
   "source": [
    "for x in lista_x:\n",
    "    print(x)"
   ]
  },
  {
   "cell_type": "markdown",
   "metadata": {},
   "source": [
    "Da forma que pode parecer desnecessariamente complexa seria:"
   ]
  },
  {
   "cell_type": "code",
   "execution_count": 129,
   "metadata": {},
   "outputs": [
    {
     "name": "stdout",
     "output_type": "stream",
     "text": [
      "0\n",
      "1\n",
      "2\n",
      "3\n"
     ]
    }
   ],
   "source": [
    "for x in range(len(lista_x)):\n",
    "    print(lista_x[x])"
   ]
  },
  {
   "cell_type": "markdown",
   "metadata": {},
   "source": [
    "Deixe-me explicar o que eu fiz acima: <br>\n",
    "- criei um for loop, com um range que inicia do 0 (veja que não coloquei o parâmetro start), e que possui a mesma quantidade de elementos que a lista_x (utilizei, para isso, a função *len()*, explicada acima\n",
    "- para cada elemento presente no range, chamei a função print para me retornar os elementos da lista_x na posição [x]."
   ]
  },
  {
   "cell_type": "markdown",
   "metadata": {},
   "source": [
    "Sim, o resultado foi exatamente o mesmo, e, ao bater o olho o porquê disso pode não ser tão claro. Mas esta foi uma forma válida de abordar uma maneira de realizar os loops que pode ser útil em um nível mais avançado de programação."
   ]
  },
  {
   "cell_type": "markdown",
   "metadata": {},
   "source": [
    "#### Pausa para um exemplo prático:\n",
    "Passamos por diversos conceitos acima e agora vamos combiná-los em um exemplo prático. <br> <br> Criando uma situação hipotética, vamos supor que eu tenha uma lista grande e que, dentro dessa lista eu queria saber quantos números são pares e quandos números são ímpares. Veja como eu posso fazer isso e em seguida tentarei fazer meu melhor para explicar o que o código que eu escrevi realizou:"
   ]
  },
  {
   "cell_type": "code",
   "execution_count": 130,
   "metadata": {},
   "outputs": [],
   "source": [
    "lista_grande = list(range(5, 5008, 7))\n"
   ]
  },
  {
   "cell_type": "code",
   "execution_count": 12,
   "metadata": {},
   "outputs": [],
   "source": [
    "def conta_pares_e_impares(lista):\n",
    "    \"\"\"\n",
    "    ESTE É O DOCSTRING DA NOSSA FUNÇÃO\n",
    "    \n",
    "    \"\"\"\n",
    "    pares = 0\n",
    "    impares = 0\n",
    "    for x in lista:\n",
    "        if x % 2 == 0:\n",
    "            pares += 1\n",
    "        elif x % 2 != 0:\n",
    "            impares += 1\n",
    "    print('A sua lista possui {} números pares e {} números ímpares!'.format(pares, impares))"
   ]
  },
  {
   "cell_type": "markdown",
   "metadata": {},
   "source": [
    "Pronto, acima eu criei o código para executar a tarefa desejada. Vamos agora chamar a função criada e utilizar a lista como argumento:"
   ]
  },
  {
   "cell_type": "code",
   "execution_count": 132,
   "metadata": {},
   "outputs": [
    {
     "name": "stdout",
     "output_type": "stream",
     "text": [
      "A sua lista possui 357 números pares e 358 números ímpares!\n"
     ]
    }
   ],
   "source": [
    "conta_pares_e_impares(lista_grande)"
   ]
  },
  {
   "cell_type": "markdown",
   "metadata": {},
   "source": [
    "Agora vou explicar o que eu fiz acima:\n",
    "- Criei uma lista \"lista_grande\" utilizando a função Range. Iniciando no 5, terminando no 5008 e indo de 7 em 7 elementos\n",
    "- Criei abaixo uma função *conta_pares_e_impares*:\n",
    "> Na função eu defini duas variáveis: *pares* e *impares*, nelas eu armazenarei a quantidade de elementos pares e ímpares <br> - Criei um For Loop para iterar pelos elementos do parâmetro da função <br> - Fiz uma afirmação condicional, para que se o número for divisível por 2 sem resto (ou seja, o número é par), então adicione 1 à variável \"pares\" <br> - Fiz outra afirmação condicional, que poderia ser substituída por um Else Statement (mas fiz um ELIF apenas para efeitos didáticos) para que se o resto da divisão do elemento da lista por 2 for diferente de zero, então esse número é ímpar e a variável \"impares\" deve ser incrementada por 1. <br> - Após isso, utilizei a função print, para elucidar de forma intuitiva a quantidade de números pares e ímpares dentro da lista! <br> *Obs: note que usei o método \"format\" na string, se trata de um método bem útil que facilita a concatenação em Python, procure-o e utilize-o em suas concatenações como treinamento!*"
   ]
  },
  {
   "cell_type": "markdown",
   "metadata": {},
   "source": [
    "#### Voltando à iteração"
   ]
  },
  {
   "cell_type": "markdown",
   "metadata": {},
   "source": [
    "Agora vamos falar sobre **iterações em dicionários**, e como é diferente da iteração em listas, por conta da forma pela qual os elementos são indexados de forma diferente nos dicionários. Veja esta situação: <br><br> Vamos supor que Gabriela foi ao supermercado:"
   ]
  },
  {
   "cell_type": "code",
   "execution_count": 133,
   "metadata": {},
   "outputs": [],
   "source": [
    "preços = {'chocolate' : 5,\n",
    "        'ovinhos_de_amendoim' : 2,\n",
    "        'vinho' : 15,\n",
    "        'alface' : 1\n",
    "         }\n",
    "\n",
    "qtd_comprados = {'chocolate' : 3,\n",
    "                'ovinhos_de_amendoim' : 2,\n",
    "                'vinho' : 3,\n",
    "                'alface' : 0\n",
    "                }\n"
   ]
  },
  {
   "cell_type": "markdown",
   "metadata": {},
   "source": [
    "Acima eu defini dois dicionários, um com itens vendidos no mercado e seus preços e outro com as compras de Gabriela. <br><br> Agora, vamos supor que eu queria saber o valor total da compra da Gabriela. Para isso eu tenho que multiplicar a quantidade de chocolate pelo seu preço, de ovinhos de amendoim etc... Parece intuitivo que precisaremos de um Loop para isso, correto? Então vamos lá:"
   ]
  },
  {
   "cell_type": "code",
   "execution_count": 134,
   "metadata": {},
   "outputs": [
    {
     "name": "stdout",
     "output_type": "stream",
     "text": [
      "64\n"
     ]
    }
   ],
   "source": [
    "valor = 0\n",
    "for i in qtd_comprados:\n",
    "    valor += preços[i] * qtd_comprados[i]\n",
    "print(valor)"
   ]
  },
  {
   "cell_type": "markdown",
   "metadata": {},
   "source": [
    "Com o código acima, conseguimos concluir que Gabriela gastou 64 reais no mercado, comprando 3 chocolates, 2 ovinhos de amendoim e 3 vinhos! <br> <br> A lógica por trás desse loop é a seguinte: estamos iterando por cada chave do dicionário *qtd_comprados*, e, iterando por elas, eu estou buscando o valor que atribuído para esta chave em cada um dos dois dicionários (isso é possível porque as chaves são as mesmas) e multiplicando estes valores, incrementando a multiplicação em uma variável chamada \"valor\"."
   ]
  },
  {
   "cell_type": "markdown",
   "metadata": {},
   "source": [
    "## Fim:\n",
    "\n",
    "Com isso, chegamos ao final do que acredito que acabou se tornando uma *cheatsheet* de conceitos básicos de Python! Em breve, pretendo realizar materiais semelhantes a este sobre conceitos mais avançados de Python, abordando pontos mais conceituais como OOP e também outras aplicações específicas, principalmente conceitos relacionados a finanças. <br> <br> Por favor sinta-se livre para entrar em contato comigo em caso de dúvidas e sugestões!\n",
    "\n",
    "*feito por: reddit: u/_jvsm*"
   ]
  }
 ],
 "metadata": {
  "celltoolbar": "Raw Cell Format",
  "kernelspec": {
   "display_name": "Python 3",
   "language": "python",
   "name": "python3"
  },
  "language_info": {
   "codemirror_mode": {
    "name": "ipython",
    "version": 3
   },
   "file_extension": ".py",
   "mimetype": "text/x-python",
   "name": "python",
   "nbconvert_exporter": "python",
   "pygments_lexer": "ipython3",
   "version": "3.7.7"
  }
 },
 "nbformat": 4,
 "nbformat_minor": 4
}
